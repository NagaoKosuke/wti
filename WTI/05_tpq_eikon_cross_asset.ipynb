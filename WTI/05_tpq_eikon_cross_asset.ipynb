{
 "cells": [
  {
   "cell_type": "markdown",
   "metadata": {},
   "source": [
    "<img src=\"http://eikon.tpq.io/refinitiv_logo.png\" width=\"28%\" align=\"left\" style=\"vertical-align: top; padding-top: 23px;\">\n",
    "<img src=\"http://hilpisch.com/tpq_logo_long.png\" width=\"36%\" align=\"right\" style=\"vertical-align: top;\">"
   ]
  },
  {
   "cell_type": "markdown",
   "metadata": {},
   "source": [
    "# Eikon Data API"
   ]
  },
  {
   "cell_type": "markdown",
   "metadata": {},
   "source": [
    "**Cross-Asset Financial Analytics &mdash; The Random Walk Hypothesis Revisited**\n",
    "\n",
    "Dr. Yves J. Hilpisch | The Python Quants GmbH\n",
    "\n",
    "<a href=\"http://tpq.io\" target=\"_blank\">http://tpq.io</a> | <a href=\"http://twitter.com/dyjh\" target=\"_blank\">@dyjh</a> | <a href=\"mailto:training@tpq.io\">training@tpq.io</a>\n",
    "\n",
    "<img src=\"http://hilpisch.com/images/tr_eikon_02.png\" width=350px align=left>"
   ]
  },
  {
   "cell_type": "markdown",
   "metadata": {},
   "source": [
    "## The Agenda"
   ]
  },
  {
   "cell_type": "markdown",
   "metadata": {},
   "source": [
    "This tutorial shows\n",
    "\n",
    "* how to retrieve historical data across asset classes via the Eikon Data API,\n",
    "* how to work with such data using `pandas`, `Plotly` and `Cufflinks` and\n",
    "* how to derive support for the Random Walk Hypothesis from financial time series data."
   ]
  },
  {
   "cell_type": "markdown",
   "metadata": {},
   "source": [
    "## Random Walk Hypothesis"
   ]
  },
  {
   "cell_type": "markdown",
   "metadata": {},
   "source": [
    "Eugene F. Fama (1965): “Random Walks in Stock Market Prices”:\n",
    "\n",
    "> “For many years, economists, statisticians, and teachers of finance have been interested in developing and testing models of stock price behavior. One important model that has evolved from this research is the theory of random walks. This theory casts serious doubt on many other methods for describing and predicting stock price behavior—methods that have considerable popularity outside the academic world. For example, we shall see later that, if the random-walk theory is an accurate description of reality, then the various “technical” or “chartist” procedures for predicting stock prices are completely without value.”"
   ]
  },
  {
   "cell_type": "markdown",
   "metadata": {},
   "source": [
    "Michael Jensen (1978): “Some Anomalous Evidence Regarding Market Efficiency”:\n",
    "\n",
    ">“A market is efficient with respect to an information set S if it is impossible to make economic profits by trading on the basis of information set S.”"
   ]
  },
  {
   "cell_type": "markdown",
   "metadata": {},
   "source": [
    "If a stock price follows a (simple) random walk (no drift & normally distributed returns), then it rises and falls with the same probability of 50% (“toss of a coin”).\n",
    "\n",
    "**In such a case, the best predictor of tomorrow’s stock price — in a least-squares sense — is today’s stock price.**"
   ]
  },
  {
   "cell_type": "markdown",
   "metadata": {},
   "source": [
    "## Importing Required Packages"
   ]
  },
  {
   "cell_type": "code",
   "execution_count": 8,
   "metadata": {},
   "outputs": [],
   "source": [
    "import eikon as ek  # the Eikon Python wrapper package\n",
    "ek.set_app_key('0ed6a35e0937415eab446d3375bca7cf671d6b4c')\n",
    "import numpy as np  # NumPy\n",
    "import pandas as pd  # pandas\n",
    "import cufflinks as cf  # Cufflinks\n",
    "import configparser as cp"
   ]
  },
  {
   "cell_type": "markdown",
   "metadata": {},
   "source": [
    "The following **Python and package versions** are used."
   ]
  },
  {
   "cell_type": "code",
   "execution_count": 2,
   "metadata": {},
   "outputs": [
    {
     "output_type": "stream",
     "name": "stdout",
     "text": "3.7.6 (default, Jan  8 2020, 20:23:39) [MSC v.1916 64 bit (AMD64)]\n"
    }
   ],
   "source": [
    "import sys\n",
    "print(sys.version)"
   ]
  },
  {
   "cell_type": "code",
   "execution_count": 3,
   "metadata": {},
   "outputs": [
    {
     "data": {
      "text/plain": [
       "'0.1.10'"
      ]
     },
     "execution_count": 3,
     "metadata": {},
     "output_type": "execute_result"
    }
   ],
   "source": [
    "ek.__version__"
   ]
  },
  {
   "cell_type": "code",
   "execution_count": 4,
   "metadata": {},
   "outputs": [
    {
     "data": {
      "text/plain": [
       "'1.13.3'"
      ]
     },
     "execution_count": 4,
     "metadata": {},
     "output_type": "execute_result"
    }
   ],
   "source": [
    "np.__version__"
   ]
  },
  {
   "cell_type": "code",
   "execution_count": 5,
   "metadata": {},
   "outputs": [
    {
     "data": {
      "text/plain": [
       "'0.22.0'"
      ]
     },
     "execution_count": 5,
     "metadata": {},
     "output_type": "execute_result"
    }
   ],
   "source": [
    "pd.__version__"
   ]
  },
  {
   "cell_type": "code",
   "execution_count": 6,
   "metadata": {},
   "outputs": [
    {
     "data": {
      "text/plain": [
       "'0.12.1'"
      ]
     },
     "execution_count": 6,
     "metadata": {},
     "output_type": "execute_result"
    }
   ],
   "source": [
    "cf.__version__"
   ]
  },
  {
   "cell_type": "code",
   "execution_count": 113,
   "metadata": {},
   "outputs": [
    {
     "output_type": "error",
     "ename": "ModuleNotFoundError",
     "evalue": "No module named 'cx_oracle'",
     "traceback": [
      "\u001b[1;31m---------------------------------------------------------------------------\u001b[0m",
      "\u001b[1;31mModuleNotFoundError\u001b[0m                       Traceback (most recent call last)",
      "\u001b[1;32m<ipython-input-113-04a5578c69e9>\u001b[0m in \u001b[0;36m<module>\u001b[1;34m\u001b[0m\n\u001b[1;32m----> 1\u001b[1;33m \u001b[1;32mimport\u001b[0m \u001b[0mcx_oracle\u001b[0m \u001b[1;32mas\u001b[0m \u001b[0mol\u001b[0m\u001b[1;33m\u001b[0m\u001b[1;33m\u001b[0m\u001b[0m\n\u001b[0m\u001b[0;32m      2\u001b[0m \u001b[0mcx_Oracle\u001b[0m\u001b[1;33m.\u001b[0m\u001b[0m__version__\u001b[0m\u001b[1;33m\u001b[0m\u001b[1;33m\u001b[0m\u001b[0m\n",
      "\u001b[1;31mModuleNotFoundError\u001b[0m: No module named 'cx_oracle'"
     ]
    }
   ],
   "source": [
    "import cx_oracle as ol\n",
    "cx_Oracle.__version__"
   ]
  },
  {
   "cell_type": "code",
   "execution_count": null,
   "metadata": {},
   "outputs": [],
   "source": []
  },
  {
   "cell_type": "markdown",
   "metadata": {},
   "source": [
    "## Connecting to Eikon Data API"
   ]
  },
  {
   "cell_type": "markdown",
   "metadata": {},
   "source": [
    "This code sets the `app_id` to connect to the **Eikon Data API Proxy** which needs to be running locally."
   ]
  },
  {
   "cell_type": "code",
   "execution_count": 3,
   "metadata": {},
   "outputs": [
    {
     "output_type": "execute_result",
     "data": {
      "text/plain": "[]"
     },
     "metadata": {},
     "execution_count": 3
    }
   ],
   "source": [
    "cfg = cp.ConfigParser()\n",
    "cfg.read('eikon.cfg')"
   ]
  },
  {
   "cell_type": "code",
   "execution_count": 8,
   "metadata": {},
   "outputs": [],
   "source": []
  },
  {
   "cell_type": "markdown",
   "metadata": {},
   "source": [
    "## Retrieving Cross-Asset Data"
   ]
  },
  {
   "cell_type": "markdown",
   "metadata": {},
   "source": [
    "We first define a **small universe of `RICS`** for which to retrieve data."
   ]
  },
  {
   "cell_type": "code",
   "execution_count": 9,
   "metadata": {},
   "outputs": [],
   "source": [
    "rics = [\n",
    "    'GE',  # General Electric stock\n",
    "    'AAPL.O',  # Apple stock\n",
    "    '.SPX',  # S&P 500 stock index\n",
    "    '.VIX',  # VIX volatility index\n",
    "    'EUR=',  # EUR/USD exchange rate\n",
    "    'XAU=',  # Gold price\n",
    "    'DE10YT=RR',  # 10yr Bund price\n",
    "]"
   ]
  },
  {
   "cell_type": "markdown",
   "metadata": {},
   "source": [
    "Second, **end-of-day (EOD) data** is retrieved."
   ]
  },
  {
   "cell_type": "code",
   "execution_count": 10,
   "metadata": {},
   "outputs": [],
   "source": [
    "data = ek.get_timeseries(rics, fields='CLOSE',\n",
    "                         start_date='2019-01-01',\n",
    "                         end_date='2019-12-31')"
   ]
  },
  {
   "cell_type": "code",
   "execution_count": 12,
   "metadata": {},
   "outputs": [
    {
     "output_type": "execute_result",
     "data": {
      "text/plain": "CLOSE             GE  AAPL.O     .SPX   .VIX    EUR=     XAU=  DE10YT=RR\nDate                                                                    \n2019-01-01       NaN     NaN      NaN    NaN  1.1462  1282.17        NaN\n2019-01-02  7.738071  157.92  2510.03  23.22  1.1342  1284.74      0.171\n2019-01-03  7.747683  142.19  2447.89  25.45  1.1392  1293.61      0.151\n2019-01-04  7.911096  148.26  2531.94  21.38  1.1393  1284.83      0.208\n2019-01-07  8.401334  147.93  2549.69  21.40  1.1474  1288.63      0.216",
      "text/html": "<div>\n<style scoped>\n    .dataframe tbody tr th:only-of-type {\n        vertical-align: middle;\n    }\n\n    .dataframe tbody tr th {\n        vertical-align: top;\n    }\n\n    .dataframe thead th {\n        text-align: right;\n    }\n</style>\n<table border=\"1\" class=\"dataframe\">\n  <thead>\n    <tr style=\"text-align: right;\">\n      <th>CLOSE</th>\n      <th>GE</th>\n      <th>AAPL.O</th>\n      <th>.SPX</th>\n      <th>.VIX</th>\n      <th>EUR=</th>\n      <th>XAU=</th>\n      <th>DE10YT=RR</th>\n    </tr>\n    <tr>\n      <th>Date</th>\n      <th></th>\n      <th></th>\n      <th></th>\n      <th></th>\n      <th></th>\n      <th></th>\n      <th></th>\n    </tr>\n  </thead>\n  <tbody>\n    <tr>\n      <th>2019-01-01</th>\n      <td>NaN</td>\n      <td>NaN</td>\n      <td>NaN</td>\n      <td>NaN</td>\n      <td>1.1462</td>\n      <td>1282.17</td>\n      <td>NaN</td>\n    </tr>\n    <tr>\n      <th>2019-01-02</th>\n      <td>7.738071</td>\n      <td>157.92</td>\n      <td>2510.03</td>\n      <td>23.22</td>\n      <td>1.1342</td>\n      <td>1284.74</td>\n      <td>0.171</td>\n    </tr>\n    <tr>\n      <th>2019-01-03</th>\n      <td>7.747683</td>\n      <td>142.19</td>\n      <td>2447.89</td>\n      <td>25.45</td>\n      <td>1.1392</td>\n      <td>1293.61</td>\n      <td>0.151</td>\n    </tr>\n    <tr>\n      <th>2019-01-04</th>\n      <td>7.911096</td>\n      <td>148.26</td>\n      <td>2531.94</td>\n      <td>21.38</td>\n      <td>1.1393</td>\n      <td>1284.83</td>\n      <td>0.208</td>\n    </tr>\n    <tr>\n      <th>2019-01-07</th>\n      <td>8.401334</td>\n      <td>147.93</td>\n      <td>2549.69</td>\n      <td>21.40</td>\n      <td>1.1474</td>\n      <td>1288.63</td>\n      <td>0.216</td>\n    </tr>\n  </tbody>\n</table>\n</div>"
     },
     "metadata": {},
     "execution_count": 12
    }
   ],
   "source": [
    "data.head()  # first five rows"
   ]
  },
  {
   "cell_type": "code",
   "execution_count": 7,
   "metadata": {},
   "outputs": [
    {
     "output_type": "execute_result",
     "data": {
      "text/plain": "CLOSE              GE  AAPL.O     .SPX   .VIX    EUR=     XAU=  DE10YT=RR\nDate                                                                     \n2017-12-25        NaN     NaN      NaN    NaN  1.1868  1274.86        NaN\n2017-12-26  16.754605  170.57  2680.50  10.25  1.1858  1283.24        NaN\n2017-12-27  16.706542  170.60  2682.62  10.47  1.1886  1287.01      0.382\n2017-12-28  16.687317  171.08  2687.54  10.18  1.1941  1294.75      0.421\n2017-12-29  16.773830  169.23  2673.61  11.04  1.1996  1302.45      0.424",
      "text/html": "<div>\n<style scoped>\n    .dataframe tbody tr th:only-of-type {\n        vertical-align: middle;\n    }\n\n    .dataframe tbody tr th {\n        vertical-align: top;\n    }\n\n    .dataframe thead th {\n        text-align: right;\n    }\n</style>\n<table border=\"1\" class=\"dataframe\">\n  <thead>\n    <tr style=\"text-align: right;\">\n      <th>CLOSE</th>\n      <th>GE</th>\n      <th>AAPL.O</th>\n      <th>.SPX</th>\n      <th>.VIX</th>\n      <th>EUR=</th>\n      <th>XAU=</th>\n      <th>DE10YT=RR</th>\n    </tr>\n    <tr>\n      <th>Date</th>\n      <th></th>\n      <th></th>\n      <th></th>\n      <th></th>\n      <th></th>\n      <th></th>\n      <th></th>\n    </tr>\n  </thead>\n  <tbody>\n    <tr>\n      <th>2017-12-25</th>\n      <td>NaN</td>\n      <td>NaN</td>\n      <td>NaN</td>\n      <td>NaN</td>\n      <td>1.1868</td>\n      <td>1274.86</td>\n      <td>NaN</td>\n    </tr>\n    <tr>\n      <th>2017-12-26</th>\n      <td>16.754605</td>\n      <td>170.57</td>\n      <td>2680.50</td>\n      <td>10.25</td>\n      <td>1.1858</td>\n      <td>1283.24</td>\n      <td>NaN</td>\n    </tr>\n    <tr>\n      <th>2017-12-27</th>\n      <td>16.706542</td>\n      <td>170.60</td>\n      <td>2682.62</td>\n      <td>10.47</td>\n      <td>1.1886</td>\n      <td>1287.01</td>\n      <td>0.382</td>\n    </tr>\n    <tr>\n      <th>2017-12-28</th>\n      <td>16.687317</td>\n      <td>171.08</td>\n      <td>2687.54</td>\n      <td>10.18</td>\n      <td>1.1941</td>\n      <td>1294.75</td>\n      <td>0.421</td>\n    </tr>\n    <tr>\n      <th>2017-12-29</th>\n      <td>16.773830</td>\n      <td>169.23</td>\n      <td>2673.61</td>\n      <td>11.04</td>\n      <td>1.1996</td>\n      <td>1302.45</td>\n      <td>0.424</td>\n    </tr>\n  </tbody>\n</table>\n</div>"
     },
     "metadata": {},
     "execution_count": 7
    }
   ],
   "source": [
    "data.tail()  # final five rows"
   ]
  },
  {
   "cell_type": "markdown",
   "metadata": {},
   "source": [
    "Only complete data rows are selected."
   ]
  },
  {
   "cell_type": "code",
   "execution_count": 13,
   "metadata": {},
   "outputs": [],
   "source": [
    "data.dropna(inplace=True)  # deletes tows with NaN values"
   ]
  },
  {
   "cell_type": "code",
   "execution_count": 14,
   "metadata": {},
   "outputs": [
    {
     "output_type": "stream",
     "name": "stdout",
     "text": "<class 'pandas.core.frame.DataFrame'>\nDatetimeIndex: 248 entries, 2019-01-02 to 2019-12-31\nData columns (total 7 columns):\n #   Column     Non-Null Count  Dtype  \n---  ------     --------------  -----  \n 0   GE         248 non-null    float64\n 1   AAPL.O     248 non-null    float64\n 2   .SPX       248 non-null    float64\n 3   .VIX       248 non-null    float64\n 4   EUR=       248 non-null    float64\n 5   XAU=       248 non-null    float64\n 6   DE10YT=RR  248 non-null    float64\ndtypes: float64(7)\nmemory usage: 15.5 KB\n"
    }
   ],
   "source": [
    "data.info()  # DataFrame meta information"
   ]
  },
  {
   "cell_type": "markdown",
   "metadata": {},
   "source": [
    "## Calculating the Log Returns"
   ]
  },
  {
   "cell_type": "markdown",
   "metadata": {},
   "source": [
    "We next calculate the **log returns** in vectorized fashion."
   ]
  },
  {
   "cell_type": "code",
   "execution_count": 15,
   "metadata": {},
   "outputs": [],
   "source": [
    "rets = np.log(data / data.shift(1))  # log returns in vectorized fashion"
   ]
  },
  {
   "cell_type": "code",
   "execution_count": 11,
   "metadata": {},
   "outputs": [
    {
     "output_type": "execute_result",
     "data": {
      "text/plain": "CLOSE             GE    AAPL.O      .SPX      .VIX      EUR=      XAU=  \\\nDate                                                                     \n2017-01-03       NaN       NaN       NaN       NaN       NaN       NaN   \n2017-01-04  0.000316 -0.001120  0.005706 -0.081016  0.007851  0.003945   \n2017-01-05 -0.005694  0.005072 -0.000771 -0.015306  0.011096  0.014498   \n2017-01-06  0.002851  0.011087  0.003511 -0.030450 -0.006909 -0.006519   \n2017-01-09 -0.004757  0.009118 -0.003555  0.020980  0.003981  0.007171   \n\nCLOSE       DE10YT=RR  \nDate                   \n2017-01-03        NaN  \n2017-01-04   0.025689  \n2017-01-05  -0.075223  \n2017-01-06   0.178408  \n2017-01-09  -0.071096  ",
      "text/html": "<div>\n<style scoped>\n    .dataframe tbody tr th:only-of-type {\n        vertical-align: middle;\n    }\n\n    .dataframe tbody tr th {\n        vertical-align: top;\n    }\n\n    .dataframe thead th {\n        text-align: right;\n    }\n</style>\n<table border=\"1\" class=\"dataframe\">\n  <thead>\n    <tr style=\"text-align: right;\">\n      <th>CLOSE</th>\n      <th>GE</th>\n      <th>AAPL.O</th>\n      <th>.SPX</th>\n      <th>.VIX</th>\n      <th>EUR=</th>\n      <th>XAU=</th>\n      <th>DE10YT=RR</th>\n    </tr>\n    <tr>\n      <th>Date</th>\n      <th></th>\n      <th></th>\n      <th></th>\n      <th></th>\n      <th></th>\n      <th></th>\n      <th></th>\n    </tr>\n  </thead>\n  <tbody>\n    <tr>\n      <th>2017-01-03</th>\n      <td>NaN</td>\n      <td>NaN</td>\n      <td>NaN</td>\n      <td>NaN</td>\n      <td>NaN</td>\n      <td>NaN</td>\n      <td>NaN</td>\n    </tr>\n    <tr>\n      <th>2017-01-04</th>\n      <td>0.000316</td>\n      <td>-0.001120</td>\n      <td>0.005706</td>\n      <td>-0.081016</td>\n      <td>0.007851</td>\n      <td>0.003945</td>\n      <td>0.025689</td>\n    </tr>\n    <tr>\n      <th>2017-01-05</th>\n      <td>-0.005694</td>\n      <td>0.005072</td>\n      <td>-0.000771</td>\n      <td>-0.015306</td>\n      <td>0.011096</td>\n      <td>0.014498</td>\n      <td>-0.075223</td>\n    </tr>\n    <tr>\n      <th>2017-01-06</th>\n      <td>0.002851</td>\n      <td>0.011087</td>\n      <td>0.003511</td>\n      <td>-0.030450</td>\n      <td>-0.006909</td>\n      <td>-0.006519</td>\n      <td>0.178408</td>\n    </tr>\n    <tr>\n      <th>2017-01-09</th>\n      <td>-0.004757</td>\n      <td>0.009118</td>\n      <td>-0.003555</td>\n      <td>0.020980</td>\n      <td>0.003981</td>\n      <td>0.007171</td>\n      <td>-0.071096</td>\n    </tr>\n  </tbody>\n</table>\n</div>"
     },
     "metadata": {},
     "execution_count": 11
    }
   ],
   "source": [
    "rets.head()"
   ]
  },
  {
   "cell_type": "markdown",
   "metadata": {},
   "source": [
    "`pandas` allows to derive the **correlation matrix** with a single method call."
   ]
  },
  {
   "cell_type": "code",
   "execution_count": 16,
   "metadata": {},
   "outputs": [
    {
     "output_type": "execute_result",
     "data": {
      "text/plain": "CLOSE            GE    AAPL.O      .SPX      .VIX      EUR=      XAU=  \\\nCLOSE                                                                   \nGE         1.000000  0.513866  0.597670 -0.639145 -0.083479  0.027055   \nAAPL.O     0.513866  1.000000  0.942667 -0.493353 -0.713562  0.717054   \n.SPX       0.597670  0.942667  1.000000 -0.619961 -0.691158  0.679387   \n.VIX      -0.639145 -0.493353 -0.619961  1.000000  0.169215 -0.061255   \nEUR=      -0.083479 -0.713562 -0.691158  0.169215  1.000000 -0.721606   \nXAU=       0.027055  0.717054  0.679387 -0.061255 -0.721606  1.000000   \nDE10YT=RR  0.057881 -0.563630 -0.607516 -0.025260  0.785640 -0.884749   \n\nCLOSE      DE10YT=RR  \nCLOSE                 \nGE          0.057881  \nAAPL.O     -0.563630  \n.SPX       -0.607516  \n.VIX       -0.025260  \nEUR=        0.785640  \nXAU=       -0.884749  \nDE10YT=RR   1.000000  ",
      "text/html": "<div>\n<style scoped>\n    .dataframe tbody tr th:only-of-type {\n        vertical-align: middle;\n    }\n\n    .dataframe tbody tr th {\n        vertical-align: top;\n    }\n\n    .dataframe thead th {\n        text-align: right;\n    }\n</style>\n<table border=\"1\" class=\"dataframe\">\n  <thead>\n    <tr style=\"text-align: right;\">\n      <th>CLOSE</th>\n      <th>GE</th>\n      <th>AAPL.O</th>\n      <th>.SPX</th>\n      <th>.VIX</th>\n      <th>EUR=</th>\n      <th>XAU=</th>\n      <th>DE10YT=RR</th>\n    </tr>\n    <tr>\n      <th>CLOSE</th>\n      <th></th>\n      <th></th>\n      <th></th>\n      <th></th>\n      <th></th>\n      <th></th>\n      <th></th>\n    </tr>\n  </thead>\n  <tbody>\n    <tr>\n      <th>GE</th>\n      <td>1.000000</td>\n      <td>0.513866</td>\n      <td>0.597670</td>\n      <td>-0.639145</td>\n      <td>-0.083479</td>\n      <td>0.027055</td>\n      <td>0.057881</td>\n    </tr>\n    <tr>\n      <th>AAPL.O</th>\n      <td>0.513866</td>\n      <td>1.000000</td>\n      <td>0.942667</td>\n      <td>-0.493353</td>\n      <td>-0.713562</td>\n      <td>0.717054</td>\n      <td>-0.563630</td>\n    </tr>\n    <tr>\n      <th>.SPX</th>\n      <td>0.597670</td>\n      <td>0.942667</td>\n      <td>1.000000</td>\n      <td>-0.619961</td>\n      <td>-0.691158</td>\n      <td>0.679387</td>\n      <td>-0.607516</td>\n    </tr>\n    <tr>\n      <th>.VIX</th>\n      <td>-0.639145</td>\n      <td>-0.493353</td>\n      <td>-0.619961</td>\n      <td>1.000000</td>\n      <td>0.169215</td>\n      <td>-0.061255</td>\n      <td>-0.025260</td>\n    </tr>\n    <tr>\n      <th>EUR=</th>\n      <td>-0.083479</td>\n      <td>-0.713562</td>\n      <td>-0.691158</td>\n      <td>0.169215</td>\n      <td>1.000000</td>\n      <td>-0.721606</td>\n      <td>0.785640</td>\n    </tr>\n    <tr>\n      <th>XAU=</th>\n      <td>0.027055</td>\n      <td>0.717054</td>\n      <td>0.679387</td>\n      <td>-0.061255</td>\n      <td>-0.721606</td>\n      <td>1.000000</td>\n      <td>-0.884749</td>\n    </tr>\n    <tr>\n      <th>DE10YT=RR</th>\n      <td>0.057881</td>\n      <td>-0.563630</td>\n      <td>-0.607516</td>\n      <td>-0.025260</td>\n      <td>0.785640</td>\n      <td>-0.884749</td>\n      <td>1.000000</td>\n    </tr>\n  </tbody>\n</table>\n</div>"
     },
     "metadata": {},
     "execution_count": 16
    }
   ],
   "source": [
    "data.corr()  # correlation matrix by column"
   ]
  },
  {
   "cell_type": "markdown",
   "metadata": {},
   "source": [
    "## Plotting the Data"
   ]
  },
  {
   "cell_type": "markdown",
   "metadata": {},
   "source": [
    "Using `Cufflinks`, we can plot the normalized financial time series as **line plots** for comparison."
   ]
  },
  {
   "cell_type": "code",
   "execution_count": 17,
   "metadata": {},
   "outputs": [
    {
     "output_type": "display_data",
     "data": {
      "text/html": "        <script type=\"text/javascript\">\n        window.PlotlyConfig = {MathJaxConfig: 'local'};\n        if (window.MathJax) {MathJax.Hub.Config({SVG: {font: \"STIX-Web\"}});}\n        if (typeof require !== 'undefined') {\n        require.undef(\"plotly\");\n        requirejs.config({\n            paths: {\n                'plotly': ['https://cdn.plot.ly/plotly-latest.min']\n            }\n        });\n        require(['plotly'], function(Plotly) {\n            window._Plotly = Plotly;\n        });\n        }\n        </script>\n        "
     },
     "metadata": {}
    }
   ],
   "source": [
    "cf.set_config_file(offline=True)  # set the plotting mode to offline"
   ]
  },
  {
   "cell_type": "code",
   "execution_count": 18,
   "metadata": {},
   "outputs": [
    {
     "output_type": "display_data",
     "data": {
      "application/vnd.plotly.v1+json": {
       "config": {
        "linkText": "Export to plot.ly",
        "plotlyServerURL": "https://plot.ly",
        "showLink": true
       },
       "data": [
        {
         "line": {
          "color": "rgba(255, 153, 51, 1.0)",
          "dash": "solid",
          "shape": "linear",
          "width": 1.3
         },
         "mode": "lines",
         "name": "GE",
         "text": "",
         "type": "scatter",
         "x": [
          "2019-01-02",
          "2019-01-03",
          "2019-01-04",
          "2019-01-07",
          "2019-01-08",
          "2019-01-09",
          "2019-01-10",
          "2019-01-11",
          "2019-01-14",
          "2019-01-15",
          "2019-01-16",
          "2019-01-17",
          "2019-01-18",
          "2019-01-22",
          "2019-01-23",
          "2019-01-24",
          "2019-01-25",
          "2019-01-28",
          "2019-01-29",
          "2019-01-30",
          "2019-01-31",
          "2019-02-01",
          "2019-02-04",
          "2019-02-05",
          "2019-02-06",
          "2019-02-07",
          "2019-02-08",
          "2019-02-11",
          "2019-02-12",
          "2019-02-13",
          "2019-02-14",
          "2019-02-15",
          "2019-02-19",
          "2019-02-20",
          "2019-02-21",
          "2019-02-22",
          "2019-02-25",
          "2019-02-26",
          "2019-02-27",
          "2019-02-28",
          "2019-03-01",
          "2019-03-04",
          "2019-03-05",
          "2019-03-06",
          "2019-03-07",
          "2019-03-08",
          "2019-03-11",
          "2019-03-12",
          "2019-03-13",
          "2019-03-14",
          "2019-03-15",
          "2019-03-18",
          "2019-03-19",
          "2019-03-20",
          "2019-03-21",
          "2019-03-22",
          "2019-03-25",
          "2019-03-26",
          "2019-03-27",
          "2019-03-28",
          "2019-03-29",
          "2019-04-01",
          "2019-04-02",
          "2019-04-03",
          "2019-04-04",
          "2019-04-05",
          "2019-04-08",
          "2019-04-09",
          "2019-04-10",
          "2019-04-11",
          "2019-04-12",
          "2019-04-15",
          "2019-04-16",
          "2019-04-17",
          "2019-04-18",
          "2019-04-23",
          "2019-04-24",
          "2019-04-25",
          "2019-04-26",
          "2019-04-29",
          "2019-04-30",
          "2019-05-02",
          "2019-05-03",
          "2019-05-06",
          "2019-05-07",
          "2019-05-08",
          "2019-05-09",
          "2019-05-10",
          "2019-05-13",
          "2019-05-14",
          "2019-05-15",
          "2019-05-16",
          "2019-05-17",
          "2019-05-20",
          "2019-05-21",
          "2019-05-22",
          "2019-05-23",
          "2019-05-24",
          "2019-05-28",
          "2019-05-29",
          "2019-05-30",
          "2019-05-31",
          "2019-06-03",
          "2019-06-04",
          "2019-06-05",
          "2019-06-06",
          "2019-06-07",
          "2019-06-10",
          "2019-06-11",
          "2019-06-12",
          "2019-06-13",
          "2019-06-14",
          "2019-06-17",
          "2019-06-18",
          "2019-06-19",
          "2019-06-20",
          "2019-06-21",
          "2019-06-24",
          "2019-06-25",
          "2019-06-26",
          "2019-06-27",
          "2019-06-28",
          "2019-07-01",
          "2019-07-02",
          "2019-07-03",
          "2019-07-05",
          "2019-07-08",
          "2019-07-09",
          "2019-07-10",
          "2019-07-11",
          "2019-07-12",
          "2019-07-15",
          "2019-07-16",
          "2019-07-17",
          "2019-07-18",
          "2019-07-19",
          "2019-07-22",
          "2019-07-23",
          "2019-07-24",
          "2019-07-25",
          "2019-07-26",
          "2019-07-29",
          "2019-07-30",
          "2019-07-31",
          "2019-08-01",
          "2019-08-02",
          "2019-08-05",
          "2019-08-06",
          "2019-08-07",
          "2019-08-08",
          "2019-08-09",
          "2019-08-12",
          "2019-08-13",
          "2019-08-14",
          "2019-08-15",
          "2019-08-16",
          "2019-08-19",
          "2019-08-20",
          "2019-08-21",
          "2019-08-22",
          "2019-08-23",
          "2019-08-26",
          "2019-08-27",
          "2019-08-28",
          "2019-08-29",
          "2019-08-30",
          "2019-09-03",
          "2019-09-04",
          "2019-09-05",
          "2019-09-06",
          "2019-09-09",
          "2019-09-10",
          "2019-09-11",
          "2019-09-12",
          "2019-09-13",
          "2019-09-16",
          "2019-09-17",
          "2019-09-18",
          "2019-09-19",
          "2019-09-20",
          "2019-09-23",
          "2019-09-24",
          "2019-09-25",
          "2019-09-26",
          "2019-09-27",
          "2019-09-30",
          "2019-10-01",
          "2019-10-02",
          "2019-10-03",
          "2019-10-04",
          "2019-10-07",
          "2019-10-08",
          "2019-10-09",
          "2019-10-10",
          "2019-10-11",
          "2019-10-14",
          "2019-10-15",
          "2019-10-16",
          "2019-10-17",
          "2019-10-18",
          "2019-10-21",
          "2019-10-22",
          "2019-10-23",
          "2019-10-24",
          "2019-10-25",
          "2019-10-28",
          "2019-10-29",
          "2019-10-30",
          "2019-10-31",
          "2019-11-01",
          "2019-11-04",
          "2019-11-05",
          "2019-11-06",
          "2019-11-07",
          "2019-11-08",
          "2019-11-11",
          "2019-11-12",
          "2019-11-13",
          "2019-11-14",
          "2019-11-15",
          "2019-11-18",
          "2019-11-19",
          "2019-11-20",
          "2019-11-21",
          "2019-11-22",
          "2019-11-25",
          "2019-11-26",
          "2019-11-27",
          "2019-11-29",
          "2019-12-02",
          "2019-12-03",
          "2019-12-04",
          "2019-12-05",
          "2019-12-06",
          "2019-12-09",
          "2019-12-10",
          "2019-12-11",
          "2019-12-12",
          "2019-12-13",
          "2019-12-16",
          "2019-12-17",
          "2019-12-18",
          "2019-12-19",
          "2019-12-20",
          "2019-12-23",
          "2019-12-27",
          "2019-12-30",
          "2019-12-31"
         ],
         "y": [
          100,
          100.12422360248445,
          102.2360248447205,
          108.57142857142857,
          106.33540372670807,
          105.59006211180122,
          111.05590062111798,
          111.05590062111798,
          110.5590062111801,
          108.44720496894409,
          111.55279503105591,
          113.54037267080746,
          112.54658385093168,
          107.5776397515528,
          108.44720496894409,
          109.06832298136644,
          113.78881987577638,
          110.93167701863354,
          110.5590062111801,
          113.04347826086956,
          126.21118012422359,
          126.58385093167699,
          126.83229813664596,
          132.04968944099377,
          130.06211180124222,
          124.96894409937886,
          121.86335403726707,
          124.59627329192544,
          123.97515527950308,
          128.81987577639748,
          124.72049689440992,
          125.34161490683229,
          125.83850931677019,
          125.46583850931674,
          124.59627329192544,
          126.33540372670807,
          134.40993788819875,
          137.7604395193838,
          140.60352551321725,
          134.27119761786093,
          132.72042343940632,
          134.1419664363231,
          127.80963854096679,
          117.72960638101185,
          122.12346655329989,
          123.80347191329237,
          127.93886972250465,
          126.12963318097428,
          129.48964390095924,
          133.10811698402,
          128.71425681173196,
          131.81580516864116,
          131.68657398710326,
          132.07426753171694,
          132.72042343940632,
          128.97271917480774,
          127.6804073594289,
          130.52349335326232,
          128.71425681173196,
          127.80963854096679,
          129.10195035634558,
          130.52349335326232,
          132.3327298947927,
          130.52349335326232,
          129.6188750824971,
          129.36041271942136,
          122.64039127945144,
          119.15114937792859,
          118.37576228870128,
          117.85883756254974,
          116.30806338409514,
          116.04960102101938,
          118.11729992562552,
          117.85883756254974,
          120.83115473792105,
          120.57269237484529,
          120.44346119330743,
          117.85883756254974,
          123.67424073175451,
          125.74193963636064,
          131.4281116240275,
          132.46196107633057,
          135.69274061477765,
          134.78812234401246,
          130.6527245348002,
          131.29888044248963,
          129.74810626403502,
          130.91118689787598,
          127.551176177891,
          133.36657934709578,
          132.59119225786847,
          130.91118689787598,
          129.2311815378835,
          127.6804073594289,
          128.71425681173196,
          127.93886972250465,
          123.5450095502166,
          122.12346655329989,
          120.96038591945894,
          121.08961710099682,
          122.38192891637567,
          121.99423537176199,
          123.15731600560295,
          129.2311815378835,
          127.80963854096679,
          128.19733208558043,
          128.97271917480774,
          129.8773374455729,
          130.78195571633808,
          132.84965462094422,
          133.23734816555788,
          132.20349871325482,
          129.8773374455729,
          134.6588911624746,
          133.62504171017153,
          137.37274597477017,
          135.4342782517019,
          132.84965462094422,
          132.07426753171694,
          132.72042343940632,
          134.40042879939884,
          135.69274061477765,
          137.37274597477017,
          137.24351479323224,
          137.1142836116944,
          135.69274061477765,
          131.81580516864116,
          132.46196107633057,
          131.81580516864116,
          130.6527245348002,
          134.01273525478516,
          132.72042343940632,
          134.1419664363231,
          128.97271917480774,
          130.0065686271108,
          129.74810626403502,
          131.94503635017904,
          137.63120833784592,
          138.01890188245955,
          134.78812234401246,
          135.82197179631555,
          134.1419664363231,
          135.95120297785343,
          135.04658470708824,
          130.26503099018655,
          129.2311815378835,
          124.83732136559544,
          123.67424073175451,
          122.25269773483778,
          122.64039127945144,
          118.24653110716339,
          116.95421929178455,
          120.83115473792105,
          116.69575692870878,
          103.51417641184466,
          113.59420857179958,
          112.04343439334498,
          108.29573012874638,
          105.45264413491293,
          105.84033767952657,
          102.99725168569313,
          104.0311011379962,
          102.48032695954159,
          102.60955814107948,
          104.8064882272235,
          106.61572476875388,
          107.64957422105694,
          113.72343975333747,
          113.85267093487536,
          112.56035911949654,
          115.79113865794362,
          118.11729992562552,
          120.96038591945894,
          119.66807410408012,
          120.70192355638318,
          121.21884828253474,
          120.96038591945894,
          121.21884828253474,
          121.73577300868624,
          121.08961710099682,
          120.70192355638318,
          115.92036983948148,
          118.37576228870128,
          116.5665257471709,
          116.82498811024666,
          115.53267629486783,
          111.26804730411767,
          109.97573548873885,
          112.56035911949654,
          110.75112257796616,
          110.62189139642827,
          107.00341831336753,
          107.9080365841327,
          109.20034839951154,
          113.72343975333747,
          112.6895903010344,
          114.88652038717844,
          115.01575156871631,
          116.82498811024666,
          115.79113865794362,
          113.59420857179958,
          117.08345047332244,
          118.11729992562552,
          115.6619074764057,
          116.30806338409514,
          117.21268165486032,
          117.21268165486032,
          130.6527245348002,
          128.97271917480774,
          134.1419664363231,
          141.24968142090663,
          141.76660614705818,
          142.4127620547476,
          145.90200395627045,
          148.87432113164175,
          146.67739104549776,
          147.58200931626294,
          145.90200395627045,
          145.90200395627045,
          148.87432113164175,
          147.8404716793387,
          148.615858768566,
          147.1943157716493,
          149.00355231317965,
          149.26201467625543,
          149.64970822086906,
          146.67739104549776,
          145.90200395627045,
          145.64354159319467,
          144.22199859627798,
          142.02506851013393,
          140.861987876293,
          139.4404448793763,
          143.44661150705068,
          142.02506851013393,
          142.2835308732097,
          141.76660614705818,
          147.8404716793387,
          146.54815986395988,
          144.35122977781586,
          143.44661150705068,
          141.6373749655203,
          142.67122441782337,
          142.54199323628546,
          144.22199859627798,
          144.48046095935374,
          143.1881491439749,
          144.22199859627798
         ]
        },
        {
         "line": {
          "color": "rgba(55, 128, 191, 1.0)",
          "dash": "solid",
          "shape": "linear",
          "width": 1.3
         },
         "mode": "lines",
         "name": "AAPL.O",
         "text": "",
         "type": "scatter",
         "x": [
          "2019-01-02",
          "2019-01-03",
          "2019-01-04",
          "2019-01-07",
          "2019-01-08",
          "2019-01-09",
          "2019-01-10",
          "2019-01-11",
          "2019-01-14",
          "2019-01-15",
          "2019-01-16",
          "2019-01-17",
          "2019-01-18",
          "2019-01-22",
          "2019-01-23",
          "2019-01-24",
          "2019-01-25",
          "2019-01-28",
          "2019-01-29",
          "2019-01-30",
          "2019-01-31",
          "2019-02-01",
          "2019-02-04",
          "2019-02-05",
          "2019-02-06",
          "2019-02-07",
          "2019-02-08",
          "2019-02-11",
          "2019-02-12",
          "2019-02-13",
          "2019-02-14",
          "2019-02-15",
          "2019-02-19",
          "2019-02-20",
          "2019-02-21",
          "2019-02-22",
          "2019-02-25",
          "2019-02-26",
          "2019-02-27",
          "2019-02-28",
          "2019-03-01",
          "2019-03-04",
          "2019-03-05",
          "2019-03-06",
          "2019-03-07",
          "2019-03-08",
          "2019-03-11",
          "2019-03-12",
          "2019-03-13",
          "2019-03-14",
          "2019-03-15",
          "2019-03-18",
          "2019-03-19",
          "2019-03-20",
          "2019-03-21",
          "2019-03-22",
          "2019-03-25",
          "2019-03-26",
          "2019-03-27",
          "2019-03-28",
          "2019-03-29",
          "2019-04-01",
          "2019-04-02",
          "2019-04-03",
          "2019-04-04",
          "2019-04-05",
          "2019-04-08",
          "2019-04-09",
          "2019-04-10",
          "2019-04-11",
          "2019-04-12",
          "2019-04-15",
          "2019-04-16",
          "2019-04-17",
          "2019-04-18",
          "2019-04-23",
          "2019-04-24",
          "2019-04-25",
          "2019-04-26",
          "2019-04-29",
          "2019-04-30",
          "2019-05-02",
          "2019-05-03",
          "2019-05-06",
          "2019-05-07",
          "2019-05-08",
          "2019-05-09",
          "2019-05-10",
          "2019-05-13",
          "2019-05-14",
          "2019-05-15",
          "2019-05-16",
          "2019-05-17",
          "2019-05-20",
          "2019-05-21",
          "2019-05-22",
          "2019-05-23",
          "2019-05-24",
          "2019-05-28",
          "2019-05-29",
          "2019-05-30",
          "2019-05-31",
          "2019-06-03",
          "2019-06-04",
          "2019-06-05",
          "2019-06-06",
          "2019-06-07",
          "2019-06-10",
          "2019-06-11",
          "2019-06-12",
          "2019-06-13",
          "2019-06-14",
          "2019-06-17",
          "2019-06-18",
          "2019-06-19",
          "2019-06-20",
          "2019-06-21",
          "2019-06-24",
          "2019-06-25",
          "2019-06-26",
          "2019-06-27",
          "2019-06-28",
          "2019-07-01",
          "2019-07-02",
          "2019-07-03",
          "2019-07-05",
          "2019-07-08",
          "2019-07-09",
          "2019-07-10",
          "2019-07-11",
          "2019-07-12",
          "2019-07-15",
          "2019-07-16",
          "2019-07-17",
          "2019-07-18",
          "2019-07-19",
          "2019-07-22",
          "2019-07-23",
          "2019-07-24",
          "2019-07-25",
          "2019-07-26",
          "2019-07-29",
          "2019-07-30",
          "2019-07-31",
          "2019-08-01",
          "2019-08-02",
          "2019-08-05",
          "2019-08-06",
          "2019-08-07",
          "2019-08-08",
          "2019-08-09",
          "2019-08-12",
          "2019-08-13",
          "2019-08-14",
          "2019-08-15",
          "2019-08-16",
          "2019-08-19",
          "2019-08-20",
          "2019-08-21",
          "2019-08-22",
          "2019-08-23",
          "2019-08-26",
          "2019-08-27",
          "2019-08-28",
          "2019-08-29",
          "2019-08-30",
          "2019-09-03",
          "2019-09-04",
          "2019-09-05",
          "2019-09-06",
          "2019-09-09",
          "2019-09-10",
          "2019-09-11",
          "2019-09-12",
          "2019-09-13",
          "2019-09-16",
          "2019-09-17",
          "2019-09-18",
          "2019-09-19",
          "2019-09-20",
          "2019-09-23",
          "2019-09-24",
          "2019-09-25",
          "2019-09-26",
          "2019-09-27",
          "2019-09-30",
          "2019-10-01",
          "2019-10-02",
          "2019-10-03",
          "2019-10-04",
          "2019-10-07",
          "2019-10-08",
          "2019-10-09",
          "2019-10-10",
          "2019-10-11",
          "2019-10-14",
          "2019-10-15",
          "2019-10-16",
          "2019-10-17",
          "2019-10-18",
          "2019-10-21",
          "2019-10-22",
          "2019-10-23",
          "2019-10-24",
          "2019-10-25",
          "2019-10-28",
          "2019-10-29",
          "2019-10-30",
          "2019-10-31",
          "2019-11-01",
          "2019-11-04",
          "2019-11-05",
          "2019-11-06",
          "2019-11-07",
          "2019-11-08",
          "2019-11-11",
          "2019-11-12",
          "2019-11-13",
          "2019-11-14",
          "2019-11-15",
          "2019-11-18",
          "2019-11-19",
          "2019-11-20",
          "2019-11-21",
          "2019-11-22",
          "2019-11-25",
          "2019-11-26",
          "2019-11-27",
          "2019-11-29",
          "2019-12-02",
          "2019-12-03",
          "2019-12-04",
          "2019-12-05",
          "2019-12-06",
          "2019-12-09",
          "2019-12-10",
          "2019-12-11",
          "2019-12-12",
          "2019-12-13",
          "2019-12-16",
          "2019-12-17",
          "2019-12-18",
          "2019-12-19",
          "2019-12-20",
          "2019-12-23",
          "2019-12-27",
          "2019-12-30",
          "2019-12-31"
         ],
         "y": [
          100,
          90.03926038500506,
          93.88297872340425,
          93.67401215805472,
          95.459726443769,
          97.08080040526849,
          97.39108409321176,
          96.43490374873353,
          94.98480243161094,
          96.92882472137792,
          98.11296859169201,
          98.6955420466059,
          99.3034447821682,
          97.0744680851064,
          97.46707193515705,
          96.69452887537993,
          99.89868287740629,
          98.97416413373861,
          97.94832826747721,
          104.64159067882473,
          105.39513677811551,
          105.44579533941238,
          108.44098277608919,
          110.29635258358664,
          110.33434650455929,
          108.24468085106385,
          107.90906788247214,
          107.28850050658562,
          108.21301925025328,
          107.76342451874368,
          108.15602836879434,
          107.91540020263423,
          108.23834853090173,
          108.93490374873353,
          108.32066869300914,
          109.53014184397163,
          110.32801418439718,
          110.39133738601825,
          110.73328267477206,
          109.64412360688958,
          110.79660587639313,
          111.35385005065856,
          111.15121580547114,
          110.5116514690983,
          109.23252279635258,
          109.492147922999,
          113.28520770010132,
          114.55800405268491,
          115.06458966565351,
          116.34371833839919,
          117.85714285714286,
          119.06028368794328,
          118.11676798378927,
          119.14893617021278,
          123.53723404255321,
          120.97897669706181,
          119.516210739615,
          118.28140830800406,
          119.34523809523809,
          119.50354609929079,
          120.28242147922998,
          121.09929078014186,
          122.85967578520771,
          123.70187436676798,
          123.91717325227964,
          124.7467071935157,
          126.70972644376901,
          126.32978723404256,
          127.0390070921986,
          125.98150962512665,
          125.93085106382979,
          126.15881458966565,
          126.17147922998988,
          128.62841945288756,
          129.0906788247214,
          131.38297872340425,
          131.18034447821682,
          129.98986828774065,
          129.3693009118541,
          129.56560283687946,
          127.07066869300911,
          132.4404761904762,
          134.08687943262413,
          132.016210739615,
          128.45744680851067,
          128.48277608915907,
          127.10233029381965,
          124.86068895643365,
          117.60385005065856,
          119.46555217831813,
          120.8966565349544,
          120.36474164133742,
          119.68085106382979,
          115.93844984802433,
          118.16109422492403,
          115.742147922999,
          113.76646403242148,
          113.32953394123608,
          112.86094224924013,
          112.322695035461,
          112.9052684903749,
          110.85992907801419,
          109.73910840932119,
          113.75379939209726,
          115.59017223910841,
          117.2872340425532,
          120.40906788247214,
          121.94782168186424,
          123.35992907801419,
          122.96732522796354,
          122.94199594731512,
          122.04913880445798,
          122.7773556231003,
          125.66489361702129,
          125.29761904761907,
          126.30445795339413,
          125.87386018237083,
          125.7472137791287,
          123.84118541033435,
          126.51975683890579,
          126.48176291793314,
          125.32928064842959,
          127.6279128672746,
          128.37512664640326,
          129.4389564336373,
          129.32497467071934,
          126.65906788247216,
          127.43161094224926,
          128.69174265450863,
          127.75455927051674,
          128.73606889564337,
          129.94554204660588,
          129.49594731509626,
          128.7677304964539,
          130.2304964539007,
          128.28647416413375,
          131.2183383991895,
          132.24417426545088,
          132.13652482269504,
          131.09169199594731,
          131.54761904761907,
          132.77608915906788,
          132.2061803444782,
          134.90374873353596,
          131.98454913880445,
          129.19199594731512,
          122.42907801418441,
          124.7467071935157,
          126.03850050658562,
          128.81838905775078,
          127.27330293819657,
          126.95035460992908,
          132.32649442755826,
          128.38779128672746,
          127.74822695035462,
          130.76241134751774,
          133.2003546099291,
          133.20668693009122,
          134.65045592705167,
          134.53647416413375,
          128.3181357649443,
          130.75607902735564,
          129.2806484295846,
          130.1481762917933,
          132.3518237082067,
          132.1808510638298,
          130.25582573454915,
          132.46580547112464,
          135.05572441742655,
          135.04305977710234,
          135.6193009118541,
          137.22137791286727,
          141.58434650455928,
          141.26456433637287,
          138.5195035460993,
          139.24772036474164,
          139.75430597771023,
          141.06509625126648,
          139.91894630192505,
          137.87360688956434,
          138.50050658561298,
          137.84194528875383,
          139.9632725430598,
          139.24138804457954,
          138.56382978723406,
          141.82497467071937,
          142.21757852077002,
          138.65248226950357,
          139.83029381965554,
          143.75,
          143.78166160081054,
          142.09726443768997,
          143.76266464032423,
          145.7003546099291,
          149.57573454913882,
          149.3604356636272,
          149.01215805471125,
          148.41058763931105,
          148.98682877406281,
          149.70238095238096,
          152.298632218845,
          151.9503546099291,
          153.98936170212767,
          154.24265450861196,
          156.14235055724419,
          157.7064336372847,
          154.05901722391084,
          154.0400202634245,
          157.52279635258358,
          161.9934143870314,
          163.05724417426546,
          162.8229483282675,
          162.89260385005068,
          164.27938196555218,
          164.72897669706182,
          166.03343465045592,
          165.88145896656533,
          167.47087132725434,
          166.31205673758868,
          168.28774062816615,
          169.13627152988857,
          168.62335359675788,
          166.66033434650458,
          165.9131205673759,
          165.76747720364742,
          168.67401215805472,
          167.3568895643364,
          169.6048632218845,
          169.23125633232016,
          167.274569402229,
          164.2920466058764,
          165.74214792299898,
          168.17375886524823,
          171.42223910840931,
          169.02228976697066,
          170.0101317122594,
          171.46023302938195,
          171.89716312056737,
          174.233789260385,
          177.2163120567376,
          177.56458966565353,
          177.14032421479232,
          177.3176291793313,
          176.9503546099291,
          179.83789260385007,
          183.51063829787236,
          184.59979736575482,
          185.94858156028369
         ]
        },
        {
         "line": {
          "color": "rgba(50, 171, 96, 1.0)",
          "dash": "solid",
          "shape": "linear",
          "width": 1.3
         },
         "mode": "lines",
         "name": ".SPX",
         "text": "",
         "type": "scatter",
         "x": [
          "2019-01-02",
          "2019-01-03",
          "2019-01-04",
          "2019-01-07",
          "2019-01-08",
          "2019-01-09",
          "2019-01-10",
          "2019-01-11",
          "2019-01-14",
          "2019-01-15",
          "2019-01-16",
          "2019-01-17",
          "2019-01-18",
          "2019-01-22",
          "2019-01-23",
          "2019-01-24",
          "2019-01-25",
          "2019-01-28",
          "2019-01-29",
          "2019-01-30",
          "2019-01-31",
          "2019-02-01",
          "2019-02-04",
          "2019-02-05",
          "2019-02-06",
          "2019-02-07",
          "2019-02-08",
          "2019-02-11",
          "2019-02-12",
          "2019-02-13",
          "2019-02-14",
          "2019-02-15",
          "2019-02-19",
          "2019-02-20",
          "2019-02-21",
          "2019-02-22",
          "2019-02-25",
          "2019-02-26",
          "2019-02-27",
          "2019-02-28",
          "2019-03-01",
          "2019-03-04",
          "2019-03-05",
          "2019-03-06",
          "2019-03-07",
          "2019-03-08",
          "2019-03-11",
          "2019-03-12",
          "2019-03-13",
          "2019-03-14",
          "2019-03-15",
          "2019-03-18",
          "2019-03-19",
          "2019-03-20",
          "2019-03-21",
          "2019-03-22",
          "2019-03-25",
          "2019-03-26",
          "2019-03-27",
          "2019-03-28",
          "2019-03-29",
          "2019-04-01",
          "2019-04-02",
          "2019-04-03",
          "2019-04-04",
          "2019-04-05",
          "2019-04-08",
          "2019-04-09",
          "2019-04-10",
          "2019-04-11",
          "2019-04-12",
          "2019-04-15",
          "2019-04-16",
          "2019-04-17",
          "2019-04-18",
          "2019-04-23",
          "2019-04-24",
          "2019-04-25",
          "2019-04-26",
          "2019-04-29",
          "2019-04-30",
          "2019-05-02",
          "2019-05-03",
          "2019-05-06",
          "2019-05-07",
          "2019-05-08",
          "2019-05-09",
          "2019-05-10",
          "2019-05-13",
          "2019-05-14",
          "2019-05-15",
          "2019-05-16",
          "2019-05-17",
          "2019-05-20",
          "2019-05-21",
          "2019-05-22",
          "2019-05-23",
          "2019-05-24",
          "2019-05-28",
          "2019-05-29",
          "2019-05-30",
          "2019-05-31",
          "2019-06-03",
          "2019-06-04",
          "2019-06-05",
          "2019-06-06",
          "2019-06-07",
          "2019-06-10",
          "2019-06-11",
          "2019-06-12",
          "2019-06-13",
          "2019-06-14",
          "2019-06-17",
          "2019-06-18",
          "2019-06-19",
          "2019-06-20",
          "2019-06-21",
          "2019-06-24",
          "2019-06-25",
          "2019-06-26",
          "2019-06-27",
          "2019-06-28",
          "2019-07-01",
          "2019-07-02",
          "2019-07-03",
          "2019-07-05",
          "2019-07-08",
          "2019-07-09",
          "2019-07-10",
          "2019-07-11",
          "2019-07-12",
          "2019-07-15",
          "2019-07-16",
          "2019-07-17",
          "2019-07-18",
          "2019-07-19",
          "2019-07-22",
          "2019-07-23",
          "2019-07-24",
          "2019-07-25",
          "2019-07-26",
          "2019-07-29",
          "2019-07-30",
          "2019-07-31",
          "2019-08-01",
          "2019-08-02",
          "2019-08-05",
          "2019-08-06",
          "2019-08-07",
          "2019-08-08",
          "2019-08-09",
          "2019-08-12",
          "2019-08-13",
          "2019-08-14",
          "2019-08-15",
          "2019-08-16",
          "2019-08-19",
          "2019-08-20",
          "2019-08-21",
          "2019-08-22",
          "2019-08-23",
          "2019-08-26",
          "2019-08-27",
          "2019-08-28",
          "2019-08-29",
          "2019-08-30",
          "2019-09-03",
          "2019-09-04",
          "2019-09-05",
          "2019-09-06",
          "2019-09-09",
          "2019-09-10",
          "2019-09-11",
          "2019-09-12",
          "2019-09-13",
          "2019-09-16",
          "2019-09-17",
          "2019-09-18",
          "2019-09-19",
          "2019-09-20",
          "2019-09-23",
          "2019-09-24",
          "2019-09-25",
          "2019-09-26",
          "2019-09-27",
          "2019-09-30",
          "2019-10-01",
          "2019-10-02",
          "2019-10-03",
          "2019-10-04",
          "2019-10-07",
          "2019-10-08",
          "2019-10-09",
          "2019-10-10",
          "2019-10-11",
          "2019-10-14",
          "2019-10-15",
          "2019-10-16",
          "2019-10-17",
          "2019-10-18",
          "2019-10-21",
          "2019-10-22",
          "2019-10-23",
          "2019-10-24",
          "2019-10-25",
          "2019-10-28",
          "2019-10-29",
          "2019-10-30",
          "2019-10-31",
          "2019-11-01",
          "2019-11-04",
          "2019-11-05",
          "2019-11-06",
          "2019-11-07",
          "2019-11-08",
          "2019-11-11",
          "2019-11-12",
          "2019-11-13",
          "2019-11-14",
          "2019-11-15",
          "2019-11-18",
          "2019-11-19",
          "2019-11-20",
          "2019-11-21",
          "2019-11-22",
          "2019-11-25",
          "2019-11-26",
          "2019-11-27",
          "2019-11-29",
          "2019-12-02",
          "2019-12-03",
          "2019-12-04",
          "2019-12-05",
          "2019-12-06",
          "2019-12-09",
          "2019-12-10",
          "2019-12-11",
          "2019-12-12",
          "2019-12-13",
          "2019-12-16",
          "2019-12-17",
          "2019-12-18",
          "2019-12-19",
          "2019-12-20",
          "2019-12-23",
          "2019-12-27",
          "2019-12-30",
          "2019-12-31"
         ],
         "y": [
          100,
          97.52433237849746,
          100.87289793349083,
          101.5800607960861,
          102.56490958275397,
          102.98522328418385,
          103.45055636785216,
          103.43541710656845,
          102.89159890519237,
          103.99477297084098,
          104.22584590622421,
          105.01707150910546,
          106.40151711334127,
          104.89516061561017,
          105.12623355099339,
          105.2708533364143,
          106.16446815376707,
          105.3314103815492,
          105.17802576064827,
          106.81346438090382,
          107.73178009824582,
          107.82859169013916,
          108.55926024788548,
          109.07040951701772,
          108.82778293486533,
          107.80946841272814,
          107.88237590785768,
          107.95886901750178,
          109.35048585076672,
          109.68115918933239,
          109.39032601203968,
          110.58035162926339,
          110.74608670015895,
          110.94289709684743,
          110.55166671314684,
          111.26042318219302,
          111.39747333697207,
          111.3094265805588,
          111.24886953542388,
          110.93453066298011,
          111.6994617594212,
          111.26600080477125,
          111.14010589514866,
          110.41501495998054,
          109.5178145281132,
          109.2843511830536,
          110.88712087106529,
          111.21460699672912,
          111.98750612542479,
          111.89029613191875,
          112.44805838974034,
          112.86478647665565,
          112.85004561698466,
          112.51777867196806,
          113.73887961498468,
          111.58073807882774,
          111.48711369983626,
          112.287900941423,
          111.76639323035977,
          112.16758365437862,
          112.9229531121142,
          114.22931200025496,
          114.2313040083186,
          114.47671940176014,
          114.71536196778523,
          115.24722812077941,
          115.36794380943654,
          114.6679521758704,
          115.06675219021285,
          115.07113460795289,
          115.83168328665391,
          115.75877579152439,
          115.81773923020839,
          115.55439576419404,
          115.73686370282428,
          116.87828432329492,
          116.62211208630973,
          116.57908471213491,
          117.12529332318738,
          117.25078983119724,
          117.36234228276155,
          116.23446731712367,
          117.35477265211969,
          116.83007772815463,
          114.9010171193173,
          114.71655717262344,
          114.36994776954856,
          114.79544069194392,
          112.02535427863411,
          112.92335151372693,
          113.58270618279462,
          114.5930526726772,
          113.924136364904,
          113.15522125233561,
          114.11656434385247,
          113.7942574391541,
          112.43849675103483,
          112.5906861670976,
          111.64766954976632,
          110.87596562590885,
          111.10863216774301,
          109.64251423289761,
          109.33933060561027,
          111.68272889168654,
          112.59427178161216,
          113.28510017808551,
          114.47432899208377,
          115.00778875152886,
          114.96755018864316,
          114.73329004035809,
          115.20340394337916,
          115.0177487918471,
          115.1249188256714,
          116.24363055421647,
          116.59063835890406,
          117.69500762939087,
          117.54680222945541,
          117.34321900535052,
          116.22888969454547,
          116.08546511396278,
          116.52928451054369,
          117.20019282638057,
          118.09938526631154,
          118.44519786616097,
          119.35395194479747,
          119.13841667231067,
          118.56232794030348,
          118.70893973378804,
          119.2443915012968,
          119.51689820440392,
          120.06908283964732,
          120.090198125122,
          119.6814380704613,
          118.89977410628558,
          119.32566543029365,
          118.58862244674367,
          118.92407660466209,
          119.73840950108163,
          120.29975737341783,
          119.6666972107903,
          120.55075038943757,
          120.35593200081271,
          120.04557714449626,
          118.73881985474277,
          117.67030672940162,
          116.81334486041999,
          113.33490037967672,
          114.8101815516149,
          114.89822830802818,
          117.05397943450875,
          116.27948669936214,
          114.88906507093539,
          116.58506073632586,
          113.1699621120066,
          113.44884324091741,
          115.08547706601115,
          116.47868750572701,
          115.55678617387044,
          116.50976283151992,
          116.45079939283593,
          113.42932156189367,
          114.67512340489954,
          114.30779711796274,
          115.05599534666915,
          116.51573885571086,
          116.59063835890406,
          115.78626550280275,
          117.04162898451413,
          118.56431994836714,
          118.6722867854169,
          118.66113154026046,
          118.69937809508251,
          119.55753516890235,
          119.90175416230085,
          119.81490261072577,
          119.43920988992163,
          119.74757273817443,
          119.7886081042856,
          119.79099851396198,
          119.20455134002381,
          119.19299769325467,
          118.18982243240119,
          118.91770217885839,
          118.62886100962935,
          117.99819125667818,
          118.59380166770914,
          117.14003418285837,
          115.04284809344907,
          115.9599686059529,
          117.60855447942853,
          117.08186754739982,
          115.25997697238677,
          116.30936682031687,
          117.05557304095966,
          118.33603582427301,
          118.17189435982836,
          119.34837432221923,
          119.10973175619415,
          119.43881148830889,
          118.97068959335147,
          119.78820970267286,
          119.36072477221387,
          119.70056134787232,
          119.93043907841738,
          120.41887945562404,
          121.09098297629907,
          120.99018736827844,
          121.38380816165544,
          121.01688027633135,
          122.1861890096931,
          122.63877324175408,
          122.49335665310772,
          122.57941140145736,
          122.91406875615031,
          123.22880603020681,
          122.98697625127986,
          123.17940423022833,
          123.26705258502886,
          123.37023860272586,
          124.3196296458608,
          124.38217869905937,
          124.30847440070436,
          123.84154771058513,
          123.6455341171221,
          123.91445520571467,
          124.84472297143859,
          125.11882328099664,
          125.64112779528531,
          125.1371497551822,
          124.0570829830719,
          123.23358684955954,
          124.01286040405893,
          124.19891395720369,
          125.33356175025796,
          124.93715214559187,
          124.80010199081283,
          125.16304586000963,
          126.23633980470352,
          126.24550304179631,
          127.14788269462913,
          127.19051166719122,
          127.13553224463452,
          127.70245773954892,
          128.33392429572552,
          128.44507834567713,
          129.08291932765744,
          128.33671310701465,
          128.71479623749516
         ]
        },
        {
         "line": {
          "color": "rgba(128, 0, 128, 1.0)",
          "dash": "solid",
          "shape": "linear",
          "width": 1.3
         },
         "mode": "lines",
         "name": ".VIX",
         "text": "",
         "type": "scatter",
         "x": [
          "2019-01-02",
          "2019-01-03",
          "2019-01-04",
          "2019-01-07",
          "2019-01-08",
          "2019-01-09",
          "2019-01-10",
          "2019-01-11",
          "2019-01-14",
          "2019-01-15",
          "2019-01-16",
          "2019-01-17",
          "2019-01-18",
          "2019-01-22",
          "2019-01-23",
          "2019-01-24",
          "2019-01-25",
          "2019-01-28",
          "2019-01-29",
          "2019-01-30",
          "2019-01-31",
          "2019-02-01",
          "2019-02-04",
          "2019-02-05",
          "2019-02-06",
          "2019-02-07",
          "2019-02-08",
          "2019-02-11",
          "2019-02-12",
          "2019-02-13",
          "2019-02-14",
          "2019-02-15",
          "2019-02-19",
          "2019-02-20",
          "2019-02-21",
          "2019-02-22",
          "2019-02-25",
          "2019-02-26",
          "2019-02-27",
          "2019-02-28",
          "2019-03-01",
          "2019-03-04",
          "2019-03-05",
          "2019-03-06",
          "2019-03-07",
          "2019-03-08",
          "2019-03-11",
          "2019-03-12",
          "2019-03-13",
          "2019-03-14",
          "2019-03-15",
          "2019-03-18",
          "2019-03-19",
          "2019-03-20",
          "2019-03-21",
          "2019-03-22",
          "2019-03-25",
          "2019-03-26",
          "2019-03-27",
          "2019-03-28",
          "2019-03-29",
          "2019-04-01",
          "2019-04-02",
          "2019-04-03",
          "2019-04-04",
          "2019-04-05",
          "2019-04-08",
          "2019-04-09",
          "2019-04-10",
          "2019-04-11",
          "2019-04-12",
          "2019-04-15",
          "2019-04-16",
          "2019-04-17",
          "2019-04-18",
          "2019-04-23",
          "2019-04-24",
          "2019-04-25",
          "2019-04-26",
          "2019-04-29",
          "2019-04-30",
          "2019-05-02",
          "2019-05-03",
          "2019-05-06",
          "2019-05-07",
          "2019-05-08",
          "2019-05-09",
          "2019-05-10",
          "2019-05-13",
          "2019-05-14",
          "2019-05-15",
          "2019-05-16",
          "2019-05-17",
          "2019-05-20",
          "2019-05-21",
          "2019-05-22",
          "2019-05-23",
          "2019-05-24",
          "2019-05-28",
          "2019-05-29",
          "2019-05-30",
          "2019-05-31",
          "2019-06-03",
          "2019-06-04",
          "2019-06-05",
          "2019-06-06",
          "2019-06-07",
          "2019-06-10",
          "2019-06-11",
          "2019-06-12",
          "2019-06-13",
          "2019-06-14",
          "2019-06-17",
          "2019-06-18",
          "2019-06-19",
          "2019-06-20",
          "2019-06-21",
          "2019-06-24",
          "2019-06-25",
          "2019-06-26",
          "2019-06-27",
          "2019-06-28",
          "2019-07-01",
          "2019-07-02",
          "2019-07-03",
          "2019-07-05",
          "2019-07-08",
          "2019-07-09",
          "2019-07-10",
          "2019-07-11",
          "2019-07-12",
          "2019-07-15",
          "2019-07-16",
          "2019-07-17",
          "2019-07-18",
          "2019-07-19",
          "2019-07-22",
          "2019-07-23",
          "2019-07-24",
          "2019-07-25",
          "2019-07-26",
          "2019-07-29",
          "2019-07-30",
          "2019-07-31",
          "2019-08-01",
          "2019-08-02",
          "2019-08-05",
          "2019-08-06",
          "2019-08-07",
          "2019-08-08",
          "2019-08-09",
          "2019-08-12",
          "2019-08-13",
          "2019-08-14",
          "2019-08-15",
          "2019-08-16",
          "2019-08-19",
          "2019-08-20",
          "2019-08-21",
          "2019-08-22",
          "2019-08-23",
          "2019-08-26",
          "2019-08-27",
          "2019-08-28",
          "2019-08-29",
          "2019-08-30",
          "2019-09-03",
          "2019-09-04",
          "2019-09-05",
          "2019-09-06",
          "2019-09-09",
          "2019-09-10",
          "2019-09-11",
          "2019-09-12",
          "2019-09-13",
          "2019-09-16",
          "2019-09-17",
          "2019-09-18",
          "2019-09-19",
          "2019-09-20",
          "2019-09-23",
          "2019-09-24",
          "2019-09-25",
          "2019-09-26",
          "2019-09-27",
          "2019-09-30",
          "2019-10-01",
          "2019-10-02",
          "2019-10-03",
          "2019-10-04",
          "2019-10-07",
          "2019-10-08",
          "2019-10-09",
          "2019-10-10",
          "2019-10-11",
          "2019-10-14",
          "2019-10-15",
          "2019-10-16",
          "2019-10-17",
          "2019-10-18",
          "2019-10-21",
          "2019-10-22",
          "2019-10-23",
          "2019-10-24",
          "2019-10-25",
          "2019-10-28",
          "2019-10-29",
          "2019-10-30",
          "2019-10-31",
          "2019-11-01",
          "2019-11-04",
          "2019-11-05",
          "2019-11-06",
          "2019-11-07",
          "2019-11-08",
          "2019-11-11",
          "2019-11-12",
          "2019-11-13",
          "2019-11-14",
          "2019-11-15",
          "2019-11-18",
          "2019-11-19",
          "2019-11-20",
          "2019-11-21",
          "2019-11-22",
          "2019-11-25",
          "2019-11-26",
          "2019-11-27",
          "2019-11-29",
          "2019-12-02",
          "2019-12-03",
          "2019-12-04",
          "2019-12-05",
          "2019-12-06",
          "2019-12-09",
          "2019-12-10",
          "2019-12-11",
          "2019-12-12",
          "2019-12-13",
          "2019-12-16",
          "2019-12-17",
          "2019-12-18",
          "2019-12-19",
          "2019-12-20",
          "2019-12-23",
          "2019-12-27",
          "2019-12-30",
          "2019-12-31"
         ],
         "y": [
          100,
          109.60378983634797,
          92.07579672695951,
          92.1619293712317,
          88.15676141257536,
          86.04651162790698,
          83.97932816537468,
          78.33763996554696,
          82.12747631352283,
          80.10335917312662,
          81.99827734711455,
          77.77777777777779,
          76.65805340223946,
          89.57795004306634,
          84.06546080964686,
          81.35228251507321,
          75.02153316106805,
          81.26614987080104,
          82.38587424633937,
          76.0551248923342,
          71.36089577950044,
          69.50904392764858,
          67.74332472006891,
          67.05426356589147,
          66.23600344530578,
          70.49956933677865,
          67.70025839793283,
          68.77691645133505,
          66.45133505598622,
          67.3987941429802,
          69.8535745047373,
          64.21188630490956,
          64.0826873385013,
          60.37898363479759,
          62.27390180878554,
          58.18260120585702,
          63.95348837209303,
          65.3316106804479,
          63.30749354005169,
          63.65202411714039,
          58.44099913867357,
          63.00602928509906,
          63.47975882859605,
          67.786391042205,
          71.44702842377261,
          69.12144702842377,
          61.71403962101637,
          59.30232558139535,
          57.751937984496124,
          58.139534883720934,
          55.46942291128338,
          56.41688199827735,
          58.39793281653747,
          59.905254091300606,
          58.6993970714901,
          70.97329888027562,
          70.32730404823427,
          63.2213608957795,
          65.24547803617573,
          62.144702842377264,
          59.04392764857882,
          57.70887166236004,
          57.53660637381568,
          59.17312661498708,
          58.48406546080965,
          55.21102497846684,
          56.761412575366066,
          61.498708010335925,
          57.278208440999144,
          56.07235142118863,
          51.72265288544359,
          53.05770887166237,
          52.4547803617571,
          54.263565891472865,
          52.067183462532306,
          52.885443583118,
          56.58914728682171,
          57.0628768303187,
          54.82342807924204,
          56.45994832041343,
          56.50301464254952,
          62.10163652024118,
          55.42635658914728,
          66.49440137812232,
          83.20413436692506,
          83.54866494401378,
          82.2566752799311,
          69.07838070628767,
          88.50129198966408,
          77.77777777777779,
          70.80103359173128,
          65.84840654608097,
          68.73385012919897,
          70.2411714039621,
          64.38415159345392,
          63.52282515073213,
          72.86821705426357,
          68.26012058570198,
          75.36606373815677,
          77.08871662360033,
          74.50473729543498,
          80.5770887166236,
          81.22308354866495,
          73.083548664944,
          69.29371231696814,
          68.6046511627907,
          70.19810508182603,
          68.64771748492679,
          68.86304909560724,
          68.51851851851852,
          68.13092161929372,
          65.80534022394488,
          66.1068044788975,
          65.24547803617573,
          61.71403962101637,
          63.52282515073213,
          66.32213608957795,
          65.7192075796727,
          70.11197243755383,
          69.81050818260121,
          68.13092161929372,
          64.94401378122309,
          60.55124892334195,
          55.68475452196383,
          54.134366925064604,
          57.19207579672696,
          60.12058570198106,
          60.68044788975022,
          56.11541774332473,
          55.68475452196383,
          53.35917312661499,
          54.608096468561584,
          55.3832902670112,
          60.16365202411714,
          58.268733850129195,
          62.23083548664944,
          58.268733850129195,
          54.306632213608964,
          51.98105081826012,
          54.86649440137813,
          52.368647717484926,
          55.25409130060294,
          60.03445305770887,
          69.42291128337641,
          76.9595176571921,
          75.83979328165374,
          105.90008613264428,
          86.86477174849269,
          83.93626184323858,
          72.82515073212748,
          77.39018087855297,
          90.82687338501292,
          75.45219638242894,
          95.17657192075798,
          91.21447028423772,
          79.54349698535745,
          72.6959517657192,
          75.36606373815677,
          68.04478897502155,
          71.83462532299741,
          85.57278208441001,
          83.20413436692506,
          87.46770025839793,
          83.33333333333334,
          77.00258397932816,
          81.73987941429802,
          84.66838931955212,
          74.63393626184323,
          70.06890611541775,
          64.59948320413437,
          65.76227390180878,
          65.46080964685615,
          62.91989664082688,
          61.24031007751939,
          59.17312661498708,
          63.17829457364341,
          62.18776916451335,
          60.07751937984496,
          60.50818260120586,
          65.97760551248923,
          64.21188630490956,
          73.42807924203274,
          68.73385012919897,
          69.20757967269596,
          74.16020671834626,
          69.93970714900946,
          79.93109388458225,
          88.54435831180018,
          82.34280792420327,
          73.38501291989664,
          76.916451335056,
          87.33850129198967,
          80.27562446167099,
          75.6675279931094,
          67.09732988802757,
          62.74763135228252,
          58.31180017226528,
          58.91472868217055,
          59.38845822566753,
          61.36950904392765,
          60.292850990525416,
          62.27390180878554,
          60.3359173126615,
          59.04392764857882,
          54.47889750215332,
          56.45994832041343,
          56.84754521963824,
          53.100775193798455,
          56.933677863910425,
          52.97157622739018,
          55.25409130060294,
          56.41688199827735,
          54.34969853574505,
          54.82342807924204,
          51.98105081826012,
          54.65116279069767,
          54.608096468561584,
          55.98621877691645,
          56.20155038759691,
          51.894918173987946,
          53.660637381567625,
          55.3832902670112,
          55.03875968992248,
          56.54608096468562,
          53.14384151593454,
          51.11972437553833,
          49.69853574504737,
          50.602928509905254,
          54.34969853574505,
          64.21188630490956,
          68.73385012919897,
          63.738156761412576,
          62.532299741602074,
          58.656330749354005,
          68.30318690783808,
          67.52799310938846,
          64.55641688199827,
          60.03445305770887,
          54.39276485788115,
          52.28251507321276,
          52.928509905254096,
          54.17743324720069,
          53.83290267011197,
          53.87596899224807,
          54.306632213608964,
          57.8380706287683,
          63.824289405684766,
          59.34539190353144
         ]
        },
        {
         "line": {
          "color": "rgba(219, 64, 82, 1.0)",
          "dash": "solid",
          "shape": "linear",
          "width": 1.3
         },
         "mode": "lines",
         "name": "EUR=",
         "text": "",
         "type": "scatter",
         "x": [
          "2019-01-02",
          "2019-01-03",
          "2019-01-04",
          "2019-01-07",
          "2019-01-08",
          "2019-01-09",
          "2019-01-10",
          "2019-01-11",
          "2019-01-14",
          "2019-01-15",
          "2019-01-16",
          "2019-01-17",
          "2019-01-18",
          "2019-01-22",
          "2019-01-23",
          "2019-01-24",
          "2019-01-25",
          "2019-01-28",
          "2019-01-29",
          "2019-01-30",
          "2019-01-31",
          "2019-02-01",
          "2019-02-04",
          "2019-02-05",
          "2019-02-06",
          "2019-02-07",
          "2019-02-08",
          "2019-02-11",
          "2019-02-12",
          "2019-02-13",
          "2019-02-14",
          "2019-02-15",
          "2019-02-19",
          "2019-02-20",
          "2019-02-21",
          "2019-02-22",
          "2019-02-25",
          "2019-02-26",
          "2019-02-27",
          "2019-02-28",
          "2019-03-01",
          "2019-03-04",
          "2019-03-05",
          "2019-03-06",
          "2019-03-07",
          "2019-03-08",
          "2019-03-11",
          "2019-03-12",
          "2019-03-13",
          "2019-03-14",
          "2019-03-15",
          "2019-03-18",
          "2019-03-19",
          "2019-03-20",
          "2019-03-21",
          "2019-03-22",
          "2019-03-25",
          "2019-03-26",
          "2019-03-27",
          "2019-03-28",
          "2019-03-29",
          "2019-04-01",
          "2019-04-02",
          "2019-04-03",
          "2019-04-04",
          "2019-04-05",
          "2019-04-08",
          "2019-04-09",
          "2019-04-10",
          "2019-04-11",
          "2019-04-12",
          "2019-04-15",
          "2019-04-16",
          "2019-04-17",
          "2019-04-18",
          "2019-04-23",
          "2019-04-24",
          "2019-04-25",
          "2019-04-26",
          "2019-04-29",
          "2019-04-30",
          "2019-05-02",
          "2019-05-03",
          "2019-05-06",
          "2019-05-07",
          "2019-05-08",
          "2019-05-09",
          "2019-05-10",
          "2019-05-13",
          "2019-05-14",
          "2019-05-15",
          "2019-05-16",
          "2019-05-17",
          "2019-05-20",
          "2019-05-21",
          "2019-05-22",
          "2019-05-23",
          "2019-05-24",
          "2019-05-28",
          "2019-05-29",
          "2019-05-30",
          "2019-05-31",
          "2019-06-03",
          "2019-06-04",
          "2019-06-05",
          "2019-06-06",
          "2019-06-07",
          "2019-06-10",
          "2019-06-11",
          "2019-06-12",
          "2019-06-13",
          "2019-06-14",
          "2019-06-17",
          "2019-06-18",
          "2019-06-19",
          "2019-06-20",
          "2019-06-21",
          "2019-06-24",
          "2019-06-25",
          "2019-06-26",
          "2019-06-27",
          "2019-06-28",
          "2019-07-01",
          "2019-07-02",
          "2019-07-03",
          "2019-07-05",
          "2019-07-08",
          "2019-07-09",
          "2019-07-10",
          "2019-07-11",
          "2019-07-12",
          "2019-07-15",
          "2019-07-16",
          "2019-07-17",
          "2019-07-18",
          "2019-07-19",
          "2019-07-22",
          "2019-07-23",
          "2019-07-24",
          "2019-07-25",
          "2019-07-26",
          "2019-07-29",
          "2019-07-30",
          "2019-07-31",
          "2019-08-01",
          "2019-08-02",
          "2019-08-05",
          "2019-08-06",
          "2019-08-07",
          "2019-08-08",
          "2019-08-09",
          "2019-08-12",
          "2019-08-13",
          "2019-08-14",
          "2019-08-15",
          "2019-08-16",
          "2019-08-19",
          "2019-08-20",
          "2019-08-21",
          "2019-08-22",
          "2019-08-23",
          "2019-08-26",
          "2019-08-27",
          "2019-08-28",
          "2019-08-29",
          "2019-08-30",
          "2019-09-03",
          "2019-09-04",
          "2019-09-05",
          "2019-09-06",
          "2019-09-09",
          "2019-09-10",
          "2019-09-11",
          "2019-09-12",
          "2019-09-13",
          "2019-09-16",
          "2019-09-17",
          "2019-09-18",
          "2019-09-19",
          "2019-09-20",
          "2019-09-23",
          "2019-09-24",
          "2019-09-25",
          "2019-09-26",
          "2019-09-27",
          "2019-09-30",
          "2019-10-01",
          "2019-10-02",
          "2019-10-03",
          "2019-10-04",
          "2019-10-07",
          "2019-10-08",
          "2019-10-09",
          "2019-10-10",
          "2019-10-11",
          "2019-10-14",
          "2019-10-15",
          "2019-10-16",
          "2019-10-17",
          "2019-10-18",
          "2019-10-21",
          "2019-10-22",
          "2019-10-23",
          "2019-10-24",
          "2019-10-25",
          "2019-10-28",
          "2019-10-29",
          "2019-10-30",
          "2019-10-31",
          "2019-11-01",
          "2019-11-04",
          "2019-11-05",
          "2019-11-06",
          "2019-11-07",
          "2019-11-08",
          "2019-11-11",
          "2019-11-12",
          "2019-11-13",
          "2019-11-14",
          "2019-11-15",
          "2019-11-18",
          "2019-11-19",
          "2019-11-20",
          "2019-11-21",
          "2019-11-22",
          "2019-11-25",
          "2019-11-26",
          "2019-11-27",
          "2019-11-29",
          "2019-12-02",
          "2019-12-03",
          "2019-12-04",
          "2019-12-05",
          "2019-12-06",
          "2019-12-09",
          "2019-12-10",
          "2019-12-11",
          "2019-12-12",
          "2019-12-13",
          "2019-12-16",
          "2019-12-17",
          "2019-12-18",
          "2019-12-19",
          "2019-12-20",
          "2019-12-23",
          "2019-12-27",
          "2019-12-30",
          "2019-12-31"
         ],
         "y": [
          100,
          100.44083935813788,
          100.44965614530064,
          101.16381590548403,
          100.86404514195027,
          101.7545406453888,
          101.37541879739022,
          101.10209839534474,
          101.16381590548403,
          100.63480867571857,
          100.48492329395167,
          100.46728971962615,
          100.1675189560924,
          100.14106859460412,
          100.33503791218479,
          99.67377887497796,
          100.61717510139306,
          100.80232763181097,
          100.7758772703227,
          101.1902662669723,
          100.8993122906013,
          100.98748016222888,
          100.81996120613648,
          100.61717510139306,
          100.15870216892961,
          99.98236642567446,
          99.87656497972138,
          99.40927526009521,
          99.84129783107035,
          99.32110738846764,
          99.6208781520014,
          99.56797742902485,
          99.98236642567446,
          99.93828248986068,
          99.92946570269793,
          99.99118321283724,
          100.14106859460412,
          100.37912184799858,
          100.23805325339445,
          100.24687004055721,
          100.28213718920824,
          99.9559160641862,
          99.68259566214071,
          99.67377887497796,
          98.6774819255863,
          99.08305413507317,
          99.162405219538,
          99.50625991888555,
          99.8501146182331,
          99.64732851348968,
          99.8501146182331,
          99.94709927702344,
          100.0617175101393,
          100.6083583142303,
          100.27332040204548,
          99.74431317228,
          99.72667959795449,
          99.31229060130488,
          99.162405219538,
          98.92435196614355,
          98.89790160465525,
          98.85381766884146,
          98.7656497972139,
          99.04778698642214,
          98.92435196614355,
          98.87145124316697,
          99.26820666549108,
          99.28584023981661,
          99.3916416857697,
          99.18885558102627,
          99.62969493916415,
          99.69141244930347,
          99.453359195909,
          99.57679421618761,
          99.00370305060835,
          98.96843590195732,
          98.32481043907599,
          98.13084112149532,
          98.28954329042496,
          98.615764415447,
          98.88026803032973,
          98.53641333098217,
          98.74801622288838,
          98.72156586140008,
          98.65984835126079,
          98.66866513842355,
          98.92435196614355,
          99.03897019925938,
          98.9508023276318,
          98.77446658437665,
          98.74801622288838,
          98.50114618233114,
          98.36007758772702,
          98.48351260800563,
          98.37771116205253,
          98.32481043907599,
          98.57168047963323,
          98.7656497972139,
          98.39534473637806,
          98.12202433433256,
          98.13084112149532,
          98.45706224651737,
          99.1006877093987,
          99.19767236818903,
          98.91553517898076,
          99.40045847293246,
          99.90301534120965,
          99.73549638511724,
          99.88538176688414,
          99.5150767060483,
          99.40927526009521,
          98.80973373302768,
          98.89790160465525,
          98.66866513842355,
          98.95961911479456,
          99.55034385469934,
          100.21160289190618,
          100.47610650678891,
          100.20278610474342,
          100.2292364662317,
          100.2292364662317,
          100.2292364662317,
          99.49744313172279,
          99.47980955739727,
          99.42690883442073,
          98.95961911479456,
          98.87145124316697,
          98.80091694586493,
          99.18003879386352,
          99.20648915535179,
          99.35637453711867,
          99.25057309116556,
          98.8273673073532,
          98.9508023276318,
          99.40927526009521,
          98.92435196614355,
          98.81855052019044,
          98.31599365191323,
          98.21019220596014,
          98.26309292893669,
          98.08675718568153,
          98.25427614177393,
          98.33362722623875,
          97.63710104038087,
          97.7164521248457,
          97.9280550167519,
          98.7656497972139,
          98.73038264856284,
          98.72156586140008,
          98.55404690530769,
          98.73038264856284,
          98.85381766884146,
          98.47469582084287,
          98.20137541879738,
          97.91923822958914,
          97.76935284782225,
          97.65473461470638,
          97.85752071944984,
          97.7164521248457,
          97.6723681890319,
          98.25427614177393,
          97.8663375066126,
          97.778169634985,
          97.66355140186914,
          97.46958208428848,
          96.88767413154645,
          96.73778874977957,
          97.2756127667078,
          97.2756127667078,
          97.22271204373125,
          97.39023099982366,
          97.36378063833538,
          97.06400987480161,
          97.52248280726504,
          97.62828425321811,
          96.9846587903368,
          97.6106506788926,
          97.24034561805676,
          97.33733027684711,
          97.13454417210366,
          96.90530770587196,
          97.14336095926642,
          96.46446834773408,
          96.28813260447893,
          96.43801798624581,
          96.08534649973551,
          96.36748368894374,
          96.61435372950096,
          96.66725445247751,
          96.7730558984306,
          96.72015517545405,
          96.57908658084993,
          96.7113383882913,
          97.01992593898783,
          97.33733027684711,
          97.231528830894,
          97.25797919238228,
          97.60183389172984,
          98.06030682419326,
          98.47469582084287,
          98.28954329042496,
          98.07794039851878,
          98.12202433433256,
          97.90160465526363,
          97.6723681890319,
          97.84870393228707,
          97.95450537824017,
          98.28954329042496,
          98.30717686475047,
          98.43942867219185,
          98.09557397284429,
          97.63710104038087,
          97.55774995591607,
          97.41668136131193,
          97.1257273849409,
          97.26679597954504,
          97.0463763004761,
          97.03755951331334,
          97.16981132075472,
          97.42549814847469,
          97.60183389172984,
          97.6723681890319,
          97.61946746605535,
          97.48721565861398,
          97.17862810791748,
          97.09927702345264,
          97.14336095926642,
          96.96702521601128,
          97.11691059777814,
          97.66355140186914,
          97.6988185505202,
          97.65473461470638,
          97.88397108093811,
          97.48721565861398,
          97.5312995944278,
          97.79580320931052,
          98.11320754716981,
          98.11320754716981,
          98.03385646270499,
          98.23664256744841,
          98.29836007758772,
          97.96332216540293,
          98.04267324986775,
          97.6723681890319,
          97.74290248633397,
          98.52759654381941,
          98.72156586140008,
          98.83618409451594
         ]
        },
        {
         "line": {
          "color": "rgba(0, 128, 128, 1.0)",
          "dash": "solid",
          "shape": "linear",
          "width": 1.3
         },
         "mode": "lines",
         "name": "XAU=",
         "text": "",
         "type": "scatter",
         "x": [
          "2019-01-02",
          "2019-01-03",
          "2019-01-04",
          "2019-01-07",
          "2019-01-08",
          "2019-01-09",
          "2019-01-10",
          "2019-01-11",
          "2019-01-14",
          "2019-01-15",
          "2019-01-16",
          "2019-01-17",
          "2019-01-18",
          "2019-01-22",
          "2019-01-23",
          "2019-01-24",
          "2019-01-25",
          "2019-01-28",
          "2019-01-29",
          "2019-01-30",
          "2019-01-31",
          "2019-02-01",
          "2019-02-04",
          "2019-02-05",
          "2019-02-06",
          "2019-02-07",
          "2019-02-08",
          "2019-02-11",
          "2019-02-12",
          "2019-02-13",
          "2019-02-14",
          "2019-02-15",
          "2019-02-19",
          "2019-02-20",
          "2019-02-21",
          "2019-02-22",
          "2019-02-25",
          "2019-02-26",
          "2019-02-27",
          "2019-02-28",
          "2019-03-01",
          "2019-03-04",
          "2019-03-05",
          "2019-03-06",
          "2019-03-07",
          "2019-03-08",
          "2019-03-11",
          "2019-03-12",
          "2019-03-13",
          "2019-03-14",
          "2019-03-15",
          "2019-03-18",
          "2019-03-19",
          "2019-03-20",
          "2019-03-21",
          "2019-03-22",
          "2019-03-25",
          "2019-03-26",
          "2019-03-27",
          "2019-03-28",
          "2019-03-29",
          "2019-04-01",
          "2019-04-02",
          "2019-04-03",
          "2019-04-04",
          "2019-04-05",
          "2019-04-08",
          "2019-04-09",
          "2019-04-10",
          "2019-04-11",
          "2019-04-12",
          "2019-04-15",
          "2019-04-16",
          "2019-04-17",
          "2019-04-18",
          "2019-04-23",
          "2019-04-24",
          "2019-04-25",
          "2019-04-26",
          "2019-04-29",
          "2019-04-30",
          "2019-05-02",
          "2019-05-03",
          "2019-05-06",
          "2019-05-07",
          "2019-05-08",
          "2019-05-09",
          "2019-05-10",
          "2019-05-13",
          "2019-05-14",
          "2019-05-15",
          "2019-05-16",
          "2019-05-17",
          "2019-05-20",
          "2019-05-21",
          "2019-05-22",
          "2019-05-23",
          "2019-05-24",
          "2019-05-28",
          "2019-05-29",
          "2019-05-30",
          "2019-05-31",
          "2019-06-03",
          "2019-06-04",
          "2019-06-05",
          "2019-06-06",
          "2019-06-07",
          "2019-06-10",
          "2019-06-11",
          "2019-06-12",
          "2019-06-13",
          "2019-06-14",
          "2019-06-17",
          "2019-06-18",
          "2019-06-19",
          "2019-06-20",
          "2019-06-21",
          "2019-06-24",
          "2019-06-25",
          "2019-06-26",
          "2019-06-27",
          "2019-06-28",
          "2019-07-01",
          "2019-07-02",
          "2019-07-03",
          "2019-07-05",
          "2019-07-08",
          "2019-07-09",
          "2019-07-10",
          "2019-07-11",
          "2019-07-12",
          "2019-07-15",
          "2019-07-16",
          "2019-07-17",
          "2019-07-18",
          "2019-07-19",
          "2019-07-22",
          "2019-07-23",
          "2019-07-24",
          "2019-07-25",
          "2019-07-26",
          "2019-07-29",
          "2019-07-30",
          "2019-07-31",
          "2019-08-01",
          "2019-08-02",
          "2019-08-05",
          "2019-08-06",
          "2019-08-07",
          "2019-08-08",
          "2019-08-09",
          "2019-08-12",
          "2019-08-13",
          "2019-08-14",
          "2019-08-15",
          "2019-08-16",
          "2019-08-19",
          "2019-08-20",
          "2019-08-21",
          "2019-08-22",
          "2019-08-23",
          "2019-08-26",
          "2019-08-27",
          "2019-08-28",
          "2019-08-29",
          "2019-08-30",
          "2019-09-03",
          "2019-09-04",
          "2019-09-05",
          "2019-09-06",
          "2019-09-09",
          "2019-09-10",
          "2019-09-11",
          "2019-09-12",
          "2019-09-13",
          "2019-09-16",
          "2019-09-17",
          "2019-09-18",
          "2019-09-19",
          "2019-09-20",
          "2019-09-23",
          "2019-09-24",
          "2019-09-25",
          "2019-09-26",
          "2019-09-27",
          "2019-09-30",
          "2019-10-01",
          "2019-10-02",
          "2019-10-03",
          "2019-10-04",
          "2019-10-07",
          "2019-10-08",
          "2019-10-09",
          "2019-10-10",
          "2019-10-11",
          "2019-10-14",
          "2019-10-15",
          "2019-10-16",
          "2019-10-17",
          "2019-10-18",
          "2019-10-21",
          "2019-10-22",
          "2019-10-23",
          "2019-10-24",
          "2019-10-25",
          "2019-10-28",
          "2019-10-29",
          "2019-10-30",
          "2019-10-31",
          "2019-11-01",
          "2019-11-04",
          "2019-11-05",
          "2019-11-06",
          "2019-11-07",
          "2019-11-08",
          "2019-11-11",
          "2019-11-12",
          "2019-11-13",
          "2019-11-14",
          "2019-11-15",
          "2019-11-18",
          "2019-11-19",
          "2019-11-20",
          "2019-11-21",
          "2019-11-22",
          "2019-11-25",
          "2019-11-26",
          "2019-11-27",
          "2019-11-29",
          "2019-12-02",
          "2019-12-03",
          "2019-12-04",
          "2019-12-05",
          "2019-12-06",
          "2019-12-09",
          "2019-12-10",
          "2019-12-11",
          "2019-12-12",
          "2019-12-13",
          "2019-12-16",
          "2019-12-17",
          "2019-12-18",
          "2019-12-19",
          "2019-12-20",
          "2019-12-23",
          "2019-12-27",
          "2019-12-30",
          "2019-12-31"
         ],
         "y": [
          100,
          100.69041206781138,
          100.00700530846707,
          100.30278499929948,
          100.00856204368198,
          100.64682348179397,
          100.12297429830159,
          100.21482945965721,
          100.54095770350422,
          100.35026542335414,
          100.67717203480862,
          100.51839282656414,
          99.71745255849432,
          99.99221632392548,
          99.78750564316515,
          99.67464234008438,
          101.43219639771472,
          101.45710416115324,
          102.11093295141428,
          102.70638417111633,
          102.78811276989896,
          102.58340987281474,
          102.09769291841151,
          102.35144854211748,
          101.66648504755827,
          101.96849167925028,
          102.27672525180192,
          101.83072061273097,
          102.00585332440806,
          101.6641499447359,
          102.15919174307642,
          102.82313931223439,
          104.38532310039386,
          104.17749894920374,
          102.98659650979964,
          103.34464560922834,
          103.2940594984199,
          103.41080685586188,
          102.72895683173249,
          102.17320236001059,
          100.6672400641375,
          100.13037657424849,
          100.18992947989476,
          100.12609555240748,
          100.05876675436274,
          101.032893815091,
          100.72076840450208,
          101.3247816678861,
          101.89065491850491,
          100.87897162071704,
          101.27574450861654,
          101.45632579354577,
          101.67816056167007,
          102.1401217366938,
          101.90427635163535,
          102.20978563756091,
          102.88463035322322,
          102.3880318196678,
          101.92412472562542,
          100.42109687563243,
          100.55731120693683,
          100.20821333499386,
          100.62347245357037,
          100.38256767906346,
          100.5748244781045,
          100.5106091504896,
          100.96712175226115,
          101.49018478447,
          101.7945265189844,
          100.5919485654685,
          100.40942136152063,
          100.22533742235784,
          99.33293896041224,
          99.14379563180098,
          99.2426483179476,
          99.02003518221586,
          99.23875647991034,
          99.39365163379361,
          100.08639880442736,
          99.59602721173155,
          99.89180690256394,
          98.87525880722947,
          99.54853900400082,
          99.63689151112287,
          99.96575182527204,
          99.67230723726202,
          99.92216323925463,
          100.06693961424101,
          101.1609352865171,
          100.93676541557046,
          100.90874418170213,
          100.1292090228373,
          99.40921898594269,
          99.43607266839982,
          99.22046484113515,
          99.11460684652148,
          99.86845587434033,
          99.9926055077292,
          99.55788719896633,
          99.56878434547069,
          100.29266622040258,
          101.59643196288744,
          103.11580553263695,
          103.12436757631896,
          103.50576770397122,
          103.89650824291297,
          104.32461042701246,
          103.34620234444323,
          103.26311160234755,
          103.76885595529058,
          104.45304108224232,
          104.40478229058019,
          104.24560611485593,
          104.77450690412067,
          105.84787583479924,
          108.02029982720238,
          108.86638541650451,
          110.46203901178448,
          110.75003502654232,
          109.62140199573453,
          109.69379018322773,
          109.67977956629356,
          107.73112847735729,
          110.38769712159657,
          110.41455858772981,
          108.93643850117533,
          108.597848591933,
          108.80022416987094,
          110.4347961455236,
          109.25167738219406,
          110.17754565126016,
          110.03627193050734,
          109.43303703473077,
          111.04192287933745,
          112.55195603779752,
          110.91037875367779,
          110.89558976913617,
          110.29391160857449,
          110.97965347074114,
          110.07129847284276,
          110.39665613275838,
          111.04854678767688,
          111.35326992231892,
          110.02615315161044,
          112.47840808256923,
          112.12035119946448,
          113.92188302691595,
          114.72126655977084,
          116.81741052664351,
          116.75514111804723,
          116.50917695409187,
          117.62341018416178,
          116.84387502529697,
          118.00714541463641,
          118.54188396095708,
          117.82539657829601,
          116.3659573143204,
          117.28832292915297,
          116.91081463953796,
          116.64616965300371,
          118.78668057350123,
          118.7788968974267,
          120.05503058984696,
          119.77520743496738,
          118.88786836247023,
          118.30020081884271,
          120.39011784485578,
          120.82989554306707,
          118.2418232482837,
          117.27664741504118,
          116.650061491041,
          115.62650808723944,
          116.54498186403475,
          116.65395332907826,
          115.85612653143826,
          116.59168392048198,
          116.92638199168704,
          116.26087768731416,
          116.67730435730186,
          118.05890686053209,
          118.45704189174464,
          119.23035010974982,
          117.04702897084236,
          117.19102697822126,
          116.48738266108316,
          114.57571181717701,
          115.08787770288151,
          116.69754191509567,
          117.12486573158772,
          117.09373102728958,
          116.23752665909055,
          117.16456247956786,
          117.16767594999766,
          116.28812055357504,
          115.93396329218363,
          116.1947164406806,
          115.27001572302567,
          115.92773635132399,
          116.10442579821598,
          115.95342248236997,
          115.52921213630773,
          115.79385712284198,
          116.12077151797251,
          117.00811059046967,
          117.09217429207466,
          116.16707660693993,
          115.77439793265565,
          116.38152466646949,
          117.77947288945623,
          117.80982922614692,
          117.47409592602394,
          115.50975294612141,
          116.00495820165948,
          114.2505020471068,
          113.51767672836526,
          113.30311969737068,
          113.40387160047946,
          113.87015271572459,
          114.49398321839439,
          114.19562713078133,
          114.4786338091754,
          114.59761508165076,
          114.50965954200849,
          113.9646932453259,
          113.80045768015319,
          113.24266388529975,
          113.73507480112708,
          113.1941093139468,
          113.94523405513957,
          113.82380870837679,
          114.98365428024346,
          114.73916901474229,
          114.85614988246651,
          113.60330494886126,
          113.78878216604139,
          113.94990426078428,
          114.78976290922678,
          114.36788766598688,
          114.85270171396547,
          114.88716004794743,
          114.90262621230755,
          114.8237153042639,
          115.12424303750176,
          115.0388171925837,
          115.608605632268,
          117.56594330370346,
          117.93226645079939,
          118.07914441832588
         ]
        },
        {
         "line": {
          "color": "rgba(255, 255, 51, 1.0)",
          "dash": "solid",
          "shape": "linear",
          "width": 1.3
         },
         "mode": "lines",
         "name": "DE10YT=RR",
         "text": "",
         "type": "scatter",
         "x": [
          "2019-01-02",
          "2019-01-03",
          "2019-01-04",
          "2019-01-07",
          "2019-01-08",
          "2019-01-09",
          "2019-01-10",
          "2019-01-11",
          "2019-01-14",
          "2019-01-15",
          "2019-01-16",
          "2019-01-17",
          "2019-01-18",
          "2019-01-22",
          "2019-01-23",
          "2019-01-24",
          "2019-01-25",
          "2019-01-28",
          "2019-01-29",
          "2019-01-30",
          "2019-01-31",
          "2019-02-01",
          "2019-02-04",
          "2019-02-05",
          "2019-02-06",
          "2019-02-07",
          "2019-02-08",
          "2019-02-11",
          "2019-02-12",
          "2019-02-13",
          "2019-02-14",
          "2019-02-15",
          "2019-02-19",
          "2019-02-20",
          "2019-02-21",
          "2019-02-22",
          "2019-02-25",
          "2019-02-26",
          "2019-02-27",
          "2019-02-28",
          "2019-03-01",
          "2019-03-04",
          "2019-03-05",
          "2019-03-06",
          "2019-03-07",
          "2019-03-08",
          "2019-03-11",
          "2019-03-12",
          "2019-03-13",
          "2019-03-14",
          "2019-03-15",
          "2019-03-18",
          "2019-03-19",
          "2019-03-20",
          "2019-03-21",
          "2019-03-22",
          "2019-03-25",
          "2019-03-26",
          "2019-03-27",
          "2019-03-28",
          "2019-03-29",
          "2019-04-01",
          "2019-04-02",
          "2019-04-03",
          "2019-04-04",
          "2019-04-05",
          "2019-04-08",
          "2019-04-09",
          "2019-04-10",
          "2019-04-11",
          "2019-04-12",
          "2019-04-15",
          "2019-04-16",
          "2019-04-17",
          "2019-04-18",
          "2019-04-23",
          "2019-04-24",
          "2019-04-25",
          "2019-04-26",
          "2019-04-29",
          "2019-04-30",
          "2019-05-02",
          "2019-05-03",
          "2019-05-06",
          "2019-05-07",
          "2019-05-08",
          "2019-05-09",
          "2019-05-10",
          "2019-05-13",
          "2019-05-14",
          "2019-05-15",
          "2019-05-16",
          "2019-05-17",
          "2019-05-20",
          "2019-05-21",
          "2019-05-22",
          "2019-05-23",
          "2019-05-24",
          "2019-05-28",
          "2019-05-29",
          "2019-05-30",
          "2019-05-31",
          "2019-06-03",
          "2019-06-04",
          "2019-06-05",
          "2019-06-06",
          "2019-06-07",
          "2019-06-10",
          "2019-06-11",
          "2019-06-12",
          "2019-06-13",
          "2019-06-14",
          "2019-06-17",
          "2019-06-18",
          "2019-06-19",
          "2019-06-20",
          "2019-06-21",
          "2019-06-24",
          "2019-06-25",
          "2019-06-26",
          "2019-06-27",
          "2019-06-28",
          "2019-07-01",
          "2019-07-02",
          "2019-07-03",
          "2019-07-05",
          "2019-07-08",
          "2019-07-09",
          "2019-07-10",
          "2019-07-11",
          "2019-07-12",
          "2019-07-15",
          "2019-07-16",
          "2019-07-17",
          "2019-07-18",
          "2019-07-19",
          "2019-07-22",
          "2019-07-23",
          "2019-07-24",
          "2019-07-25",
          "2019-07-26",
          "2019-07-29",
          "2019-07-30",
          "2019-07-31",
          "2019-08-01",
          "2019-08-02",
          "2019-08-05",
          "2019-08-06",
          "2019-08-07",
          "2019-08-08",
          "2019-08-09",
          "2019-08-12",
          "2019-08-13",
          "2019-08-14",
          "2019-08-15",
          "2019-08-16",
          "2019-08-19",
          "2019-08-20",
          "2019-08-21",
          "2019-08-22",
          "2019-08-23",
          "2019-08-26",
          "2019-08-27",
          "2019-08-28",
          "2019-08-29",
          "2019-08-30",
          "2019-09-03",
          "2019-09-04",
          "2019-09-05",
          "2019-09-06",
          "2019-09-09",
          "2019-09-10",
          "2019-09-11",
          "2019-09-12",
          "2019-09-13",
          "2019-09-16",
          "2019-09-17",
          "2019-09-18",
          "2019-09-19",
          "2019-09-20",
          "2019-09-23",
          "2019-09-24",
          "2019-09-25",
          "2019-09-26",
          "2019-09-27",
          "2019-09-30",
          "2019-10-01",
          "2019-10-02",
          "2019-10-03",
          "2019-10-04",
          "2019-10-07",
          "2019-10-08",
          "2019-10-09",
          "2019-10-10",
          "2019-10-11",
          "2019-10-14",
          "2019-10-15",
          "2019-10-16",
          "2019-10-17",
          "2019-10-18",
          "2019-10-21",
          "2019-10-22",
          "2019-10-23",
          "2019-10-24",
          "2019-10-25",
          "2019-10-28",
          "2019-10-29",
          "2019-10-30",
          "2019-10-31",
          "2019-11-01",
          "2019-11-04",
          "2019-11-05",
          "2019-11-06",
          "2019-11-07",
          "2019-11-08",
          "2019-11-11",
          "2019-11-12",
          "2019-11-13",
          "2019-11-14",
          "2019-11-15",
          "2019-11-18",
          "2019-11-19",
          "2019-11-20",
          "2019-11-21",
          "2019-11-22",
          "2019-11-25",
          "2019-11-26",
          "2019-11-27",
          "2019-11-29",
          "2019-12-02",
          "2019-12-03",
          "2019-12-04",
          "2019-12-05",
          "2019-12-06",
          "2019-12-09",
          "2019-12-10",
          "2019-12-11",
          "2019-12-12",
          "2019-12-13",
          "2019-12-16",
          "2019-12-17",
          "2019-12-18",
          "2019-12-19",
          "2019-12-20",
          "2019-12-23",
          "2019-12-27",
          "2019-12-30",
          "2019-12-31"
         ],
         "y": [
          100,
          88.30409356725146,
          121.63742690058479,
          126.3157894736842,
          134.5029239766082,
          125.73099415204678,
          115.20467836257309,
          106.43274853801168,
          135.67251461988303,
          120.46783625730993,
          130.4093567251462,
          141.5204678362573,
          153.21637426900585,
          140.35087719298244,
          131.57894736842104,
          104.67836257309939,
          115.78947368421053,
          121.05263157894734,
          115.20467836257309,
          108.77192982456138,
          91.22807017543859,
          97.07602339181285,
          105.26315789473684,
          97.07602339181285,
          95.90643274853801,
          66.08187134502924,
          49.707602339181285,
          67.83625730994152,
          76.60818713450293,
          71.34502923976608,
          59.64912280701754,
          60.23391812865496,
          59.06432748538012,
          59.06432748538012,
          74.85380116959064,
          57.30994152046783,
          62.573099415204666,
          66.66666666666666,
          90.05847953216374,
          108.77192982456138,
          109.35672514619883,
          92.98245614035086,
          97.6608187134503,
          76.0233918128655,
          39.1812865497076,
          43.274853801169584,
          37.42690058479532,
          34.50292397660819,
          38.01169590643275,
          50.29239766081871,
          52.04678362573099,
          46.783625730994146,
          60.23391812865496,
          47.368421052631575,
          22.807017543859647,
          -14.619883040935672,
          -13.450292397660817,
          -8.187134502923977,
          -47.368421052631575,
          -40.93567251461989,
          -41.5204678362573,
          -15.204678362573098,
          -29.239766081871345,
          -1.1695906432748537,
          -2.923976608187134,
          2.3391812865497075,
          1.1695906432748537,
          -2.923976608187134,
          -18.71345029239766,
          -2.923976608187134,
          32.16374269005848,
          31.57894736842105,
          36.84210526315789,
          48.53801169590643,
          14.035087719298245,
          24.561403508771928,
          -7.602339181286549,
          -5.263157894736841,
          -10.526315789473681,
          0.5847953216374269,
          8.187134502923977,
          14.035087719298245,
          11.695906432748536,
          5.263157894736841,
          -21.637426900584792,
          -25.146198830409354,
          -29.239766081871345,
          -28.07017543859649,
          -43.274853801169584,
          -41.5204678362573,
          -56.14035087719298,
          -53.21637426900584,
          -61.403508771929815,
          -51.461988304093566,
          -34.50292397660819,
          -46.198830409356724,
          -70.17543859649122,
          -68.42105263157895,
          -90.05847953216374,
          -101.75438596491226,
          -98.83040935672514,
          -117.5438596491228,
          -116.37426900584795,
          -121.05263157894734,
          -129.23976608187132,
          -136.25730994152045,
          -149.12280701754386,
          -128.0701754385965,
          -135.08771929824562,
          -137.4269005847953,
          -142.1052631578947,
          -149.70760233918128,
          -143.85964912280699,
          -188.88888888888889,
          -167.25146198830407,
          -188.30409356725147,
          -164.32748538011697,
          -180.7017543859649,
          -194.1520467836257,
          -178.9473684210526,
          -184.21052631578948,
          -190.64327485380116,
          -210.52631578947367,
          -213.4502923976608,
          -224.56140350877192,
          -209.94152046783623,
          -220.46783625730995,
          -208.7719298245614,
          -178.3625730994152,
          -154.38596491228068,
          -143.27485380116957,
          -173.09941520467834,
          -170.76023391812862,
          -169.5906432748538,
          -180.7017543859649,
          -188.30409356725147,
          -202.92397660818708,
          -208.7719298245614,
          -221.63742690058479,
          -211.1111111111111,
          -220.46783625730995,
          -228.65497076023388,
          -232.7485380116959,
          -254.9707602339181,
          -264.91228070175436,
          -286.54970760233914,
          -297.6608187134503,
          -314.03508771929825,
          -338.59649122807014,
          -326.3157894736842,
          -339.1812865497076,
          -347.36842105263156,
          -356.14035087719293,
          -379.53216374269005,
          -409.9415204678362,
          -397.6608187134503,
          -377.77777777777777,
          -404.09356725146193,
          -393.5672514619883,
          -374.8538011695906,
          -392.98245614035085,
          -391.812865497076,
          -407.6023391812865,
          -419.88304093567245,
          -405.2631578947368,
          -413.45029239766075,
          -418.12865497076024,
          -395.906432748538,
          -346.1988304093567,
          -370.17543859649123,
          -340.93567251461985,
          -321.6374269005848,
          -331.57894736842104,
          -314.6198830409357,
          -264.91228070175436,
          -277.1929824561403,
          -277.1929824561403,
          -298.8304093567251,
          -295.32163742690057,
          -304.093567251462,
          -339.76608187134497,
          -353.2163742690058,
          -343.2748538011695,
          -339.1812865497076,
          -337.42690058479525,
          -333.33333333333326,
          -325.73099415204683,
          -318.12865497076024,
          -341.52046783625724,
          -343.2748538011695,
          -336.8421052631578,
          -349.12280701754383,
          -324.56140350877195,
          -286.54970760233914,
          -256.140350877193,
          -267.2514619883041,
          -247.953216374269,
          -228.65497076023388,
          -235.67251461988303,
          -225.73099415204675,
          -201.75438596491225,
          -216.37426900584794,
          -232.16374269005846,
          -236.84210526315786,
          -219.29824561403507,
          -191.81286549707602,
          -208.7719298245614,
          -208.7719298245614,
          -234.5029239766082,
          -220.46783625730995,
          -202.92397660818708,
          -186.54970760233917,
          -188.88888888888889,
          -145.6140350877193,
          -155.55555555555557,
          -145.02923976608187,
          -143.27485380116957,
          -176.6081871345029,
          -202.3391812865497,
          -194.1520467836257,
          -195.906432748538,
          -198.83040935672514,
          -206.43274853801165,
          -189.4736842105263,
          -209.94152046783623,
          -204.67836257309938,
          -219.8830409356725,
          -215.20467836257308,
          -207.0175438596491,
          -162.5730994152047,
          -201.75438596491225,
          -184.21052631578948,
          -171.92982456140348,
          -170.1754385964912,
          -176.6081871345029,
          -173.09941520467834,
          -188.30409356725147,
          -154.97076023391813,
          -171.92982456140348,
          -159.64912280701756,
          -169.5906432748538,
          -146.78362573099415,
          -137.4269005847953,
          -143.85964912280699,
          -143.27485380116957,
          -149.70760233918128,
          -105.84795321637426,
          -109.35672514619883
         ]
        }
       ],
       "layout": {
        "legend": {
         "bgcolor": "#F5F6F9",
         "font": {
          "color": "#4D5663"
         }
        },
        "paper_bgcolor": "#F5F6F9",
        "plot_bgcolor": "#F5F6F9",
        "template": {
         "data": {
          "bar": [
           {
            "error_x": {
             "color": "#2a3f5f"
            },
            "error_y": {
             "color": "#2a3f5f"
            },
            "marker": {
             "line": {
              "color": "#E5ECF6",
              "width": 0.5
             }
            },
            "type": "bar"
           }
          ],
          "barpolar": [
           {
            "marker": {
             "line": {
              "color": "#E5ECF6",
              "width": 0.5
             }
            },
            "type": "barpolar"
           }
          ],
          "carpet": [
           {
            "aaxis": {
             "endlinecolor": "#2a3f5f",
             "gridcolor": "white",
             "linecolor": "white",
             "minorgridcolor": "white",
             "startlinecolor": "#2a3f5f"
            },
            "baxis": {
             "endlinecolor": "#2a3f5f",
             "gridcolor": "white",
             "linecolor": "white",
             "minorgridcolor": "white",
             "startlinecolor": "#2a3f5f"
            },
            "type": "carpet"
           }
          ],
          "choropleth": [
           {
            "colorbar": {
             "outlinewidth": 0,
             "ticks": ""
            },
            "type": "choropleth"
           }
          ],
          "contour": [
           {
            "colorbar": {
             "outlinewidth": 0,
             "ticks": ""
            },
            "colorscale": [
             [
              0,
              "#0d0887"
             ],
             [
              0.1111111111111111,
              "#46039f"
             ],
             [
              0.2222222222222222,
              "#7201a8"
             ],
             [
              0.3333333333333333,
              "#9c179e"
             ],
             [
              0.4444444444444444,
              "#bd3786"
             ],
             [
              0.5555555555555556,
              "#d8576b"
             ],
             [
              0.6666666666666666,
              "#ed7953"
             ],
             [
              0.7777777777777778,
              "#fb9f3a"
             ],
             [
              0.8888888888888888,
              "#fdca26"
             ],
             [
              1,
              "#f0f921"
             ]
            ],
            "type": "contour"
           }
          ],
          "contourcarpet": [
           {
            "colorbar": {
             "outlinewidth": 0,
             "ticks": ""
            },
            "type": "contourcarpet"
           }
          ],
          "heatmap": [
           {
            "colorbar": {
             "outlinewidth": 0,
             "ticks": ""
            },
            "colorscale": [
             [
              0,
              "#0d0887"
             ],
             [
              0.1111111111111111,
              "#46039f"
             ],
             [
              0.2222222222222222,
              "#7201a8"
             ],
             [
              0.3333333333333333,
              "#9c179e"
             ],
             [
              0.4444444444444444,
              "#bd3786"
             ],
             [
              0.5555555555555556,
              "#d8576b"
             ],
             [
              0.6666666666666666,
              "#ed7953"
             ],
             [
              0.7777777777777778,
              "#fb9f3a"
             ],
             [
              0.8888888888888888,
              "#fdca26"
             ],
             [
              1,
              "#f0f921"
             ]
            ],
            "type": "heatmap"
           }
          ],
          "heatmapgl": [
           {
            "colorbar": {
             "outlinewidth": 0,
             "ticks": ""
            },
            "colorscale": [
             [
              0,
              "#0d0887"
             ],
             [
              0.1111111111111111,
              "#46039f"
             ],
             [
              0.2222222222222222,
              "#7201a8"
             ],
             [
              0.3333333333333333,
              "#9c179e"
             ],
             [
              0.4444444444444444,
              "#bd3786"
             ],
             [
              0.5555555555555556,
              "#d8576b"
             ],
             [
              0.6666666666666666,
              "#ed7953"
             ],
             [
              0.7777777777777778,
              "#fb9f3a"
             ],
             [
              0.8888888888888888,
              "#fdca26"
             ],
             [
              1,
              "#f0f921"
             ]
            ],
            "type": "heatmapgl"
           }
          ],
          "histogram": [
           {
            "marker": {
             "colorbar": {
              "outlinewidth": 0,
              "ticks": ""
             }
            },
            "type": "histogram"
           }
          ],
          "histogram2d": [
           {
            "colorbar": {
             "outlinewidth": 0,
             "ticks": ""
            },
            "colorscale": [
             [
              0,
              "#0d0887"
             ],
             [
              0.1111111111111111,
              "#46039f"
             ],
             [
              0.2222222222222222,
              "#7201a8"
             ],
             [
              0.3333333333333333,
              "#9c179e"
             ],
             [
              0.4444444444444444,
              "#bd3786"
             ],
             [
              0.5555555555555556,
              "#d8576b"
             ],
             [
              0.6666666666666666,
              "#ed7953"
             ],
             [
              0.7777777777777778,
              "#fb9f3a"
             ],
             [
              0.8888888888888888,
              "#fdca26"
             ],
             [
              1,
              "#f0f921"
             ]
            ],
            "type": "histogram2d"
           }
          ],
          "histogram2dcontour": [
           {
            "colorbar": {
             "outlinewidth": 0,
             "ticks": ""
            },
            "colorscale": [
             [
              0,
              "#0d0887"
             ],
             [
              0.1111111111111111,
              "#46039f"
             ],
             [
              0.2222222222222222,
              "#7201a8"
             ],
             [
              0.3333333333333333,
              "#9c179e"
             ],
             [
              0.4444444444444444,
              "#bd3786"
             ],
             [
              0.5555555555555556,
              "#d8576b"
             ],
             [
              0.6666666666666666,
              "#ed7953"
             ],
             [
              0.7777777777777778,
              "#fb9f3a"
             ],
             [
              0.8888888888888888,
              "#fdca26"
             ],
             [
              1,
              "#f0f921"
             ]
            ],
            "type": "histogram2dcontour"
           }
          ],
          "mesh3d": [
           {
            "colorbar": {
             "outlinewidth": 0,
             "ticks": ""
            },
            "type": "mesh3d"
           }
          ],
          "parcoords": [
           {
            "line": {
             "colorbar": {
              "outlinewidth": 0,
              "ticks": ""
             }
            },
            "type": "parcoords"
           }
          ],
          "pie": [
           {
            "automargin": true,
            "type": "pie"
           }
          ],
          "scatter": [
           {
            "marker": {
             "colorbar": {
              "outlinewidth": 0,
              "ticks": ""
             }
            },
            "type": "scatter"
           }
          ],
          "scatter3d": [
           {
            "line": {
             "colorbar": {
              "outlinewidth": 0,
              "ticks": ""
             }
            },
            "marker": {
             "colorbar": {
              "outlinewidth": 0,
              "ticks": ""
             }
            },
            "type": "scatter3d"
           }
          ],
          "scattercarpet": [
           {
            "marker": {
             "colorbar": {
              "outlinewidth": 0,
              "ticks": ""
             }
            },
            "type": "scattercarpet"
           }
          ],
          "scattergeo": [
           {
            "marker": {
             "colorbar": {
              "outlinewidth": 0,
              "ticks": ""
             }
            },
            "type": "scattergeo"
           }
          ],
          "scattergl": [
           {
            "marker": {
             "colorbar": {
              "outlinewidth": 0,
              "ticks": ""
             }
            },
            "type": "scattergl"
           }
          ],
          "scattermapbox": [
           {
            "marker": {
             "colorbar": {
              "outlinewidth": 0,
              "ticks": ""
             }
            },
            "type": "scattermapbox"
           }
          ],
          "scatterpolar": [
           {
            "marker": {
             "colorbar": {
              "outlinewidth": 0,
              "ticks": ""
             }
            },
            "type": "scatterpolar"
           }
          ],
          "scatterpolargl": [
           {
            "marker": {
             "colorbar": {
              "outlinewidth": 0,
              "ticks": ""
             }
            },
            "type": "scatterpolargl"
           }
          ],
          "scatterternary": [
           {
            "marker": {
             "colorbar": {
              "outlinewidth": 0,
              "ticks": ""
             }
            },
            "type": "scatterternary"
           }
          ],
          "surface": [
           {
            "colorbar": {
             "outlinewidth": 0,
             "ticks": ""
            },
            "colorscale": [
             [
              0,
              "#0d0887"
             ],
             [
              0.1111111111111111,
              "#46039f"
             ],
             [
              0.2222222222222222,
              "#7201a8"
             ],
             [
              0.3333333333333333,
              "#9c179e"
             ],
             [
              0.4444444444444444,
              "#bd3786"
             ],
             [
              0.5555555555555556,
              "#d8576b"
             ],
             [
              0.6666666666666666,
              "#ed7953"
             ],
             [
              0.7777777777777778,
              "#fb9f3a"
             ],
             [
              0.8888888888888888,
              "#fdca26"
             ],
             [
              1,
              "#f0f921"
             ]
            ],
            "type": "surface"
           }
          ],
          "table": [
           {
            "cells": {
             "fill": {
              "color": "#EBF0F8"
             },
             "line": {
              "color": "white"
             }
            },
            "header": {
             "fill": {
              "color": "#C8D4E3"
             },
             "line": {
              "color": "white"
             }
            },
            "type": "table"
           }
          ]
         },
         "layout": {
          "annotationdefaults": {
           "arrowcolor": "#2a3f5f",
           "arrowhead": 0,
           "arrowwidth": 1
          },
          "coloraxis": {
           "colorbar": {
            "outlinewidth": 0,
            "ticks": ""
           }
          },
          "colorscale": {
           "diverging": [
            [
             0,
             "#8e0152"
            ],
            [
             0.1,
             "#c51b7d"
            ],
            [
             0.2,
             "#de77ae"
            ],
            [
             0.3,
             "#f1b6da"
            ],
            [
             0.4,
             "#fde0ef"
            ],
            [
             0.5,
             "#f7f7f7"
            ],
            [
             0.6,
             "#e6f5d0"
            ],
            [
             0.7,
             "#b8e186"
            ],
            [
             0.8,
             "#7fbc41"
            ],
            [
             0.9,
             "#4d9221"
            ],
            [
             1,
             "#276419"
            ]
           ],
           "sequential": [
            [
             0,
             "#0d0887"
            ],
            [
             0.1111111111111111,
             "#46039f"
            ],
            [
             0.2222222222222222,
             "#7201a8"
            ],
            [
             0.3333333333333333,
             "#9c179e"
            ],
            [
             0.4444444444444444,
             "#bd3786"
            ],
            [
             0.5555555555555556,
             "#d8576b"
            ],
            [
             0.6666666666666666,
             "#ed7953"
            ],
            [
             0.7777777777777778,
             "#fb9f3a"
            ],
            [
             0.8888888888888888,
             "#fdca26"
            ],
            [
             1,
             "#f0f921"
            ]
           ],
           "sequentialminus": [
            [
             0,
             "#0d0887"
            ],
            [
             0.1111111111111111,
             "#46039f"
            ],
            [
             0.2222222222222222,
             "#7201a8"
            ],
            [
             0.3333333333333333,
             "#9c179e"
            ],
            [
             0.4444444444444444,
             "#bd3786"
            ],
            [
             0.5555555555555556,
             "#d8576b"
            ],
            [
             0.6666666666666666,
             "#ed7953"
            ],
            [
             0.7777777777777778,
             "#fb9f3a"
            ],
            [
             0.8888888888888888,
             "#fdca26"
            ],
            [
             1,
             "#f0f921"
            ]
           ]
          },
          "colorway": [
           "#636efa",
           "#EF553B",
           "#00cc96",
           "#ab63fa",
           "#FFA15A",
           "#19d3f3",
           "#FF6692",
           "#B6E880",
           "#FF97FF",
           "#FECB52"
          ],
          "font": {
           "color": "#2a3f5f"
          },
          "geo": {
           "bgcolor": "white",
           "lakecolor": "white",
           "landcolor": "#E5ECF6",
           "showlakes": true,
           "showland": true,
           "subunitcolor": "white"
          },
          "hoverlabel": {
           "align": "left"
          },
          "hovermode": "closest",
          "mapbox": {
           "style": "light"
          },
          "paper_bgcolor": "white",
          "plot_bgcolor": "#E5ECF6",
          "polar": {
           "angularaxis": {
            "gridcolor": "white",
            "linecolor": "white",
            "ticks": ""
           },
           "bgcolor": "#E5ECF6",
           "radialaxis": {
            "gridcolor": "white",
            "linecolor": "white",
            "ticks": ""
           }
          },
          "scene": {
           "xaxis": {
            "backgroundcolor": "#E5ECF6",
            "gridcolor": "white",
            "gridwidth": 2,
            "linecolor": "white",
            "showbackground": true,
            "ticks": "",
            "zerolinecolor": "white"
           },
           "yaxis": {
            "backgroundcolor": "#E5ECF6",
            "gridcolor": "white",
            "gridwidth": 2,
            "linecolor": "white",
            "showbackground": true,
            "ticks": "",
            "zerolinecolor": "white"
           },
           "zaxis": {
            "backgroundcolor": "#E5ECF6",
            "gridcolor": "white",
            "gridwidth": 2,
            "linecolor": "white",
            "showbackground": true,
            "ticks": "",
            "zerolinecolor": "white"
           }
          },
          "shapedefaults": {
           "line": {
            "color": "#2a3f5f"
           }
          },
          "ternary": {
           "aaxis": {
            "gridcolor": "white",
            "linecolor": "white",
            "ticks": ""
           },
           "baxis": {
            "gridcolor": "white",
            "linecolor": "white",
            "ticks": ""
           },
           "bgcolor": "#E5ECF6",
           "caxis": {
            "gridcolor": "white",
            "linecolor": "white",
            "ticks": ""
           }
          },
          "title": {
           "x": 0.05
          },
          "xaxis": {
           "automargin": true,
           "gridcolor": "white",
           "linecolor": "white",
           "ticks": "",
           "title": {
            "standoff": 15
           },
           "zerolinecolor": "white",
           "zerolinewidth": 2
          },
          "yaxis": {
           "automargin": true,
           "gridcolor": "white",
           "linecolor": "white",
           "ticks": "",
           "title": {
            "standoff": 15
           },
           "zerolinecolor": "white",
           "zerolinewidth": 2
          }
         }
        },
        "title": {
         "font": {
          "color": "#4D5663"
         }
        },
        "xaxis": {
         "gridcolor": "#E1E5ED",
         "showgrid": true,
         "tickfont": {
          "color": "#4D5663"
         },
         "title": {
          "font": {
           "color": "#4D5663"
          },
          "text": ""
         },
         "zerolinecolor": "#E1E5ED"
        },
        "yaxis": {
         "gridcolor": "#E1E5ED",
         "showgrid": true,
         "tickfont": {
          "color": "#4D5663"
         },
         "title": {
          "font": {
           "color": "#4D5663"
          },
          "text": ""
         },
         "zerolinecolor": "#E1E5ED"
        }
       }
      },
      "text/html": "<div>\n        \n        \n            <div id=\"e7e9dbae-8cc0-40b8-8a37-f242cdf2bb69\" class=\"plotly-graph-div\" style=\"height:525px; width:100%;\"></div>\n            <script type=\"text/javascript\">\n                require([\"plotly\"], function(Plotly) {\n                    window.PLOTLYENV=window.PLOTLYENV || {};\n                    window.PLOTLYENV.BASE_URL='https://plot.ly';\n                    \n                if (document.getElementById(\"e7e9dbae-8cc0-40b8-8a37-f242cdf2bb69\")) {\n                    Plotly.newPlot(\n                        'e7e9dbae-8cc0-40b8-8a37-f242cdf2bb69',\n                        [{\"line\": {\"color\": \"rgba(255, 153, 51, 1.0)\", \"dash\": \"solid\", \"shape\": \"linear\", \"width\": 1.3}, \"mode\": \"lines\", \"name\": \"GE\", \"text\": \"\", \"type\": \"scatter\", \"x\": [\"2019-01-02\", \"2019-01-03\", \"2019-01-04\", \"2019-01-07\", \"2019-01-08\", \"2019-01-09\", \"2019-01-10\", \"2019-01-11\", \"2019-01-14\", \"2019-01-15\", \"2019-01-16\", \"2019-01-17\", \"2019-01-18\", \"2019-01-22\", \"2019-01-23\", \"2019-01-24\", \"2019-01-25\", \"2019-01-28\", \"2019-01-29\", \"2019-01-30\", \"2019-01-31\", \"2019-02-01\", \"2019-02-04\", \"2019-02-05\", \"2019-02-06\", \"2019-02-07\", \"2019-02-08\", \"2019-02-11\", \"2019-02-12\", \"2019-02-13\", \"2019-02-14\", \"2019-02-15\", \"2019-02-19\", \"2019-02-20\", \"2019-02-21\", \"2019-02-22\", \"2019-02-25\", \"2019-02-26\", \"2019-02-27\", \"2019-02-28\", \"2019-03-01\", \"2019-03-04\", \"2019-03-05\", \"2019-03-06\", \"2019-03-07\", \"2019-03-08\", \"2019-03-11\", \"2019-03-12\", \"2019-03-13\", \"2019-03-14\", \"2019-03-15\", \"2019-03-18\", \"2019-03-19\", \"2019-03-20\", \"2019-03-21\", \"2019-03-22\", \"2019-03-25\", \"2019-03-26\", \"2019-03-27\", \"2019-03-28\", \"2019-03-29\", \"2019-04-01\", \"2019-04-02\", \"2019-04-03\", \"2019-04-04\", \"2019-04-05\", \"2019-04-08\", \"2019-04-09\", \"2019-04-10\", \"2019-04-11\", \"2019-04-12\", \"2019-04-15\", \"2019-04-16\", \"2019-04-17\", \"2019-04-18\", \"2019-04-23\", \"2019-04-24\", \"2019-04-25\", \"2019-04-26\", \"2019-04-29\", \"2019-04-30\", \"2019-05-02\", \"2019-05-03\", \"2019-05-06\", \"2019-05-07\", \"2019-05-08\", \"2019-05-09\", \"2019-05-10\", \"2019-05-13\", \"2019-05-14\", \"2019-05-15\", \"2019-05-16\", \"2019-05-17\", \"2019-05-20\", \"2019-05-21\", \"2019-05-22\", \"2019-05-23\", \"2019-05-24\", \"2019-05-28\", \"2019-05-29\", \"2019-05-30\", \"2019-05-31\", \"2019-06-03\", \"2019-06-04\", \"2019-06-05\", \"2019-06-06\", \"2019-06-07\", \"2019-06-10\", \"2019-06-11\", \"2019-06-12\", \"2019-06-13\", \"2019-06-14\", \"2019-06-17\", \"2019-06-18\", \"2019-06-19\", \"2019-06-20\", \"2019-06-21\", \"2019-06-24\", \"2019-06-25\", \"2019-06-26\", \"2019-06-27\", \"2019-06-28\", \"2019-07-01\", \"2019-07-02\", \"2019-07-03\", \"2019-07-05\", \"2019-07-08\", \"2019-07-09\", \"2019-07-10\", \"2019-07-11\", \"2019-07-12\", \"2019-07-15\", \"2019-07-16\", \"2019-07-17\", \"2019-07-18\", \"2019-07-19\", \"2019-07-22\", \"2019-07-23\", \"2019-07-24\", \"2019-07-25\", \"2019-07-26\", \"2019-07-29\", \"2019-07-30\", \"2019-07-31\", \"2019-08-01\", \"2019-08-02\", \"2019-08-05\", \"2019-08-06\", \"2019-08-07\", \"2019-08-08\", \"2019-08-09\", \"2019-08-12\", \"2019-08-13\", \"2019-08-14\", \"2019-08-15\", \"2019-08-16\", \"2019-08-19\", \"2019-08-20\", \"2019-08-21\", \"2019-08-22\", \"2019-08-23\", \"2019-08-26\", \"2019-08-27\", \"2019-08-28\", \"2019-08-29\", \"2019-08-30\", \"2019-09-03\", \"2019-09-04\", \"2019-09-05\", \"2019-09-06\", \"2019-09-09\", \"2019-09-10\", \"2019-09-11\", \"2019-09-12\", \"2019-09-13\", \"2019-09-16\", \"2019-09-17\", \"2019-09-18\", \"2019-09-19\", \"2019-09-20\", \"2019-09-23\", \"2019-09-24\", \"2019-09-25\", \"2019-09-26\", \"2019-09-27\", \"2019-09-30\", \"2019-10-01\", \"2019-10-02\", \"2019-10-03\", \"2019-10-04\", \"2019-10-07\", \"2019-10-08\", \"2019-10-09\", \"2019-10-10\", \"2019-10-11\", \"2019-10-14\", \"2019-10-15\", \"2019-10-16\", \"2019-10-17\", \"2019-10-18\", \"2019-10-21\", \"2019-10-22\", \"2019-10-23\", \"2019-10-24\", \"2019-10-25\", \"2019-10-28\", \"2019-10-29\", \"2019-10-30\", \"2019-10-31\", \"2019-11-01\", \"2019-11-04\", \"2019-11-05\", \"2019-11-06\", \"2019-11-07\", \"2019-11-08\", \"2019-11-11\", \"2019-11-12\", \"2019-11-13\", \"2019-11-14\", \"2019-11-15\", \"2019-11-18\", \"2019-11-19\", \"2019-11-20\", \"2019-11-21\", \"2019-11-22\", \"2019-11-25\", \"2019-11-26\", \"2019-11-27\", \"2019-11-29\", \"2019-12-02\", \"2019-12-03\", \"2019-12-04\", \"2019-12-05\", \"2019-12-06\", \"2019-12-09\", \"2019-12-10\", \"2019-12-11\", \"2019-12-12\", \"2019-12-13\", \"2019-12-16\", \"2019-12-17\", \"2019-12-18\", \"2019-12-19\", \"2019-12-20\", \"2019-12-23\", \"2019-12-27\", \"2019-12-30\", \"2019-12-31\"], \"y\": [100.0, 100.12422360248445, 102.2360248447205, 108.57142857142857, 106.33540372670807, 105.59006211180122, 111.05590062111798, 111.05590062111798, 110.5590062111801, 108.44720496894409, 111.55279503105591, 113.54037267080746, 112.54658385093168, 107.5776397515528, 108.44720496894409, 109.06832298136644, 113.78881987577638, 110.93167701863354, 110.5590062111801, 113.04347826086956, 126.21118012422359, 126.58385093167699, 126.83229813664596, 132.04968944099377, 130.06211180124222, 124.96894409937886, 121.86335403726707, 124.59627329192544, 123.97515527950308, 128.81987577639748, 124.72049689440992, 125.34161490683229, 125.83850931677019, 125.46583850931674, 124.59627329192544, 126.33540372670807, 134.40993788819875, 137.7604395193838, 140.60352551321725, 134.27119761786093, 132.72042343940632, 134.1419664363231, 127.80963854096679, 117.72960638101185, 122.12346655329989, 123.80347191329237, 127.93886972250465, 126.12963318097428, 129.48964390095924, 133.10811698402, 128.71425681173196, 131.81580516864116, 131.68657398710326, 132.07426753171694, 132.72042343940632, 128.97271917480774, 127.6804073594289, 130.52349335326232, 128.71425681173196, 127.80963854096679, 129.10195035634558, 130.52349335326232, 132.3327298947927, 130.52349335326232, 129.6188750824971, 129.36041271942136, 122.64039127945144, 119.15114937792859, 118.37576228870128, 117.85883756254974, 116.30806338409514, 116.04960102101938, 118.11729992562552, 117.85883756254974, 120.83115473792105, 120.57269237484529, 120.44346119330743, 117.85883756254974, 123.67424073175451, 125.74193963636064, 131.4281116240275, 132.46196107633057, 135.69274061477765, 134.78812234401246, 130.6527245348002, 131.29888044248963, 129.74810626403502, 130.91118689787598, 127.551176177891, 133.36657934709578, 132.59119225786847, 130.91118689787598, 129.2311815378835, 127.6804073594289, 128.71425681173196, 127.93886972250465, 123.5450095502166, 122.12346655329989, 120.96038591945894, 121.08961710099682, 122.38192891637567, 121.99423537176199, 123.15731600560295, 129.2311815378835, 127.80963854096679, 128.19733208558043, 128.97271917480774, 129.8773374455729, 130.78195571633808, 132.84965462094422, 133.23734816555788, 132.20349871325482, 129.8773374455729, 134.6588911624746, 133.62504171017153, 137.37274597477017, 135.4342782517019, 132.84965462094422, 132.07426753171694, 132.72042343940632, 134.40042879939884, 135.69274061477765, 137.37274597477017, 137.24351479323224, 137.1142836116944, 135.69274061477765, 131.81580516864116, 132.46196107633057, 131.81580516864116, 130.6527245348002, 134.01273525478516, 132.72042343940632, 134.1419664363231, 128.97271917480774, 130.0065686271108, 129.74810626403502, 131.94503635017904, 137.63120833784592, 138.01890188245955, 134.78812234401246, 135.82197179631555, 134.1419664363231, 135.95120297785343, 135.04658470708824, 130.26503099018655, 129.2311815378835, 124.83732136559544, 123.67424073175451, 122.25269773483778, 122.64039127945144, 118.24653110716339, 116.95421929178455, 120.83115473792105, 116.69575692870878, 103.51417641184466, 113.59420857179958, 112.04343439334498, 108.29573012874638, 105.45264413491293, 105.84033767952657, 102.99725168569313, 104.0311011379962, 102.48032695954159, 102.60955814107948, 104.8064882272235, 106.61572476875388, 107.64957422105694, 113.72343975333747, 113.85267093487536, 112.56035911949654, 115.79113865794362, 118.11729992562552, 120.96038591945894, 119.66807410408012, 120.70192355638318, 121.21884828253474, 120.96038591945894, 121.21884828253474, 121.73577300868624, 121.08961710099682, 120.70192355638318, 115.92036983948148, 118.37576228870128, 116.5665257471709, 116.82498811024666, 115.53267629486783, 111.26804730411767, 109.97573548873885, 112.56035911949654, 110.75112257796616, 110.62189139642827, 107.00341831336753, 107.9080365841327, 109.20034839951154, 113.72343975333747, 112.6895903010344, 114.88652038717844, 115.01575156871631, 116.82498811024666, 115.79113865794362, 113.59420857179958, 117.08345047332244, 118.11729992562552, 115.6619074764057, 116.30806338409514, 117.21268165486032, 117.21268165486032, 130.6527245348002, 128.97271917480774, 134.1419664363231, 141.24968142090663, 141.76660614705818, 142.4127620547476, 145.90200395627045, 148.87432113164175, 146.67739104549776, 147.58200931626294, 145.90200395627045, 145.90200395627045, 148.87432113164175, 147.8404716793387, 148.615858768566, 147.1943157716493, 149.00355231317965, 149.26201467625543, 149.64970822086906, 146.67739104549776, 145.90200395627045, 145.64354159319467, 144.22199859627798, 142.02506851013393, 140.861987876293, 139.4404448793763, 143.44661150705068, 142.02506851013393, 142.2835308732097, 141.76660614705818, 147.8404716793387, 146.54815986395988, 144.35122977781586, 143.44661150705068, 141.6373749655203, 142.67122441782337, 142.54199323628546, 144.22199859627798, 144.48046095935374, 143.1881491439749, 144.22199859627798]}, {\"line\": {\"color\": \"rgba(55, 128, 191, 1.0)\", \"dash\": \"solid\", \"shape\": \"linear\", \"width\": 1.3}, \"mode\": \"lines\", \"name\": \"AAPL.O\", \"text\": \"\", \"type\": \"scatter\", \"x\": [\"2019-01-02\", \"2019-01-03\", \"2019-01-04\", \"2019-01-07\", \"2019-01-08\", \"2019-01-09\", \"2019-01-10\", \"2019-01-11\", \"2019-01-14\", \"2019-01-15\", \"2019-01-16\", \"2019-01-17\", \"2019-01-18\", \"2019-01-22\", \"2019-01-23\", \"2019-01-24\", \"2019-01-25\", \"2019-01-28\", \"2019-01-29\", \"2019-01-30\", \"2019-01-31\", \"2019-02-01\", \"2019-02-04\", \"2019-02-05\", \"2019-02-06\", \"2019-02-07\", \"2019-02-08\", \"2019-02-11\", \"2019-02-12\", \"2019-02-13\", \"2019-02-14\", \"2019-02-15\", \"2019-02-19\", \"2019-02-20\", \"2019-02-21\", \"2019-02-22\", \"2019-02-25\", \"2019-02-26\", \"2019-02-27\", \"2019-02-28\", \"2019-03-01\", \"2019-03-04\", \"2019-03-05\", \"2019-03-06\", \"2019-03-07\", \"2019-03-08\", \"2019-03-11\", \"2019-03-12\", \"2019-03-13\", \"2019-03-14\", \"2019-03-15\", \"2019-03-18\", \"2019-03-19\", \"2019-03-20\", \"2019-03-21\", \"2019-03-22\", \"2019-03-25\", \"2019-03-26\", \"2019-03-27\", \"2019-03-28\", \"2019-03-29\", \"2019-04-01\", \"2019-04-02\", \"2019-04-03\", \"2019-04-04\", \"2019-04-05\", \"2019-04-08\", \"2019-04-09\", \"2019-04-10\", \"2019-04-11\", \"2019-04-12\", \"2019-04-15\", \"2019-04-16\", \"2019-04-17\", \"2019-04-18\", \"2019-04-23\", \"2019-04-24\", \"2019-04-25\", \"2019-04-26\", \"2019-04-29\", \"2019-04-30\", \"2019-05-02\", \"2019-05-03\", \"2019-05-06\", \"2019-05-07\", \"2019-05-08\", \"2019-05-09\", \"2019-05-10\", \"2019-05-13\", \"2019-05-14\", \"2019-05-15\", \"2019-05-16\", \"2019-05-17\", \"2019-05-20\", \"2019-05-21\", \"2019-05-22\", \"2019-05-23\", \"2019-05-24\", \"2019-05-28\", \"2019-05-29\", \"2019-05-30\", \"2019-05-31\", \"2019-06-03\", \"2019-06-04\", \"2019-06-05\", \"2019-06-06\", \"2019-06-07\", \"2019-06-10\", \"2019-06-11\", \"2019-06-12\", \"2019-06-13\", \"2019-06-14\", \"2019-06-17\", \"2019-06-18\", \"2019-06-19\", \"2019-06-20\", \"2019-06-21\", \"2019-06-24\", \"2019-06-25\", \"2019-06-26\", \"2019-06-27\", \"2019-06-28\", \"2019-07-01\", \"2019-07-02\", \"2019-07-03\", \"2019-07-05\", \"2019-07-08\", \"2019-07-09\", \"2019-07-10\", \"2019-07-11\", \"2019-07-12\", \"2019-07-15\", \"2019-07-16\", \"2019-07-17\", \"2019-07-18\", \"2019-07-19\", \"2019-07-22\", \"2019-07-23\", \"2019-07-24\", \"2019-07-25\", \"2019-07-26\", \"2019-07-29\", \"2019-07-30\", \"2019-07-31\", \"2019-08-01\", \"2019-08-02\", \"2019-08-05\", \"2019-08-06\", \"2019-08-07\", \"2019-08-08\", \"2019-08-09\", \"2019-08-12\", \"2019-08-13\", \"2019-08-14\", \"2019-08-15\", \"2019-08-16\", \"2019-08-19\", \"2019-08-20\", \"2019-08-21\", \"2019-08-22\", \"2019-08-23\", \"2019-08-26\", \"2019-08-27\", \"2019-08-28\", \"2019-08-29\", \"2019-08-30\", \"2019-09-03\", \"2019-09-04\", \"2019-09-05\", \"2019-09-06\", \"2019-09-09\", \"2019-09-10\", \"2019-09-11\", \"2019-09-12\", \"2019-09-13\", \"2019-09-16\", \"2019-09-17\", \"2019-09-18\", \"2019-09-19\", \"2019-09-20\", \"2019-09-23\", \"2019-09-24\", \"2019-09-25\", \"2019-09-26\", \"2019-09-27\", \"2019-09-30\", \"2019-10-01\", \"2019-10-02\", \"2019-10-03\", \"2019-10-04\", \"2019-10-07\", \"2019-10-08\", \"2019-10-09\", \"2019-10-10\", \"2019-10-11\", \"2019-10-14\", \"2019-10-15\", \"2019-10-16\", \"2019-10-17\", \"2019-10-18\", \"2019-10-21\", \"2019-10-22\", \"2019-10-23\", \"2019-10-24\", \"2019-10-25\", \"2019-10-28\", \"2019-10-29\", \"2019-10-30\", \"2019-10-31\", \"2019-11-01\", \"2019-11-04\", \"2019-11-05\", \"2019-11-06\", \"2019-11-07\", \"2019-11-08\", \"2019-11-11\", \"2019-11-12\", \"2019-11-13\", \"2019-11-14\", \"2019-11-15\", \"2019-11-18\", \"2019-11-19\", \"2019-11-20\", \"2019-11-21\", \"2019-11-22\", \"2019-11-25\", \"2019-11-26\", \"2019-11-27\", \"2019-11-29\", \"2019-12-02\", \"2019-12-03\", \"2019-12-04\", \"2019-12-05\", \"2019-12-06\", \"2019-12-09\", \"2019-12-10\", \"2019-12-11\", \"2019-12-12\", \"2019-12-13\", \"2019-12-16\", \"2019-12-17\", \"2019-12-18\", \"2019-12-19\", \"2019-12-20\", \"2019-12-23\", \"2019-12-27\", \"2019-12-30\", \"2019-12-31\"], \"y\": [100.0, 90.03926038500506, 93.88297872340425, 93.67401215805472, 95.459726443769, 97.08080040526849, 97.39108409321176, 96.43490374873353, 94.98480243161094, 96.92882472137792, 98.11296859169201, 98.6955420466059, 99.3034447821682, 97.0744680851064, 97.46707193515705, 96.69452887537993, 99.89868287740629, 98.97416413373861, 97.94832826747721, 104.64159067882473, 105.39513677811551, 105.44579533941238, 108.44098277608919, 110.29635258358664, 110.33434650455929, 108.24468085106385, 107.90906788247214, 107.28850050658562, 108.21301925025328, 107.76342451874368, 108.15602836879434, 107.91540020263423, 108.23834853090173, 108.93490374873353, 108.32066869300914, 109.53014184397163, 110.32801418439718, 110.39133738601825, 110.73328267477206, 109.64412360688958, 110.79660587639313, 111.35385005065856, 111.15121580547114, 110.5116514690983, 109.23252279635258, 109.492147922999, 113.28520770010132, 114.55800405268491, 115.06458966565351, 116.34371833839919, 117.85714285714286, 119.06028368794328, 118.11676798378927, 119.14893617021278, 123.53723404255321, 120.97897669706181, 119.516210739615, 118.28140830800406, 119.34523809523809, 119.50354609929079, 120.28242147922998, 121.09929078014186, 122.85967578520771, 123.70187436676798, 123.91717325227964, 124.7467071935157, 126.70972644376901, 126.32978723404256, 127.0390070921986, 125.98150962512665, 125.93085106382979, 126.15881458966565, 126.17147922998988, 128.62841945288756, 129.0906788247214, 131.38297872340425, 131.18034447821682, 129.98986828774065, 129.3693009118541, 129.56560283687946, 127.07066869300911, 132.4404761904762, 134.08687943262413, 132.016210739615, 128.45744680851067, 128.48277608915907, 127.10233029381965, 124.86068895643365, 117.60385005065856, 119.46555217831813, 120.8966565349544, 120.36474164133742, 119.68085106382979, 115.93844984802433, 118.16109422492403, 115.742147922999, 113.76646403242148, 113.32953394123608, 112.86094224924013, 112.322695035461, 112.9052684903749, 110.85992907801419, 109.73910840932119, 113.75379939209726, 115.59017223910841, 117.2872340425532, 120.40906788247214, 121.94782168186424, 123.35992907801419, 122.96732522796354, 122.94199594731512, 122.04913880445798, 122.7773556231003, 125.66489361702129, 125.29761904761907, 126.30445795339413, 125.87386018237083, 125.7472137791287, 123.84118541033435, 126.51975683890579, 126.48176291793314, 125.32928064842959, 127.6279128672746, 128.37512664640326, 129.4389564336373, 129.32497467071934, 126.65906788247216, 127.43161094224926, 128.69174265450863, 127.75455927051674, 128.73606889564337, 129.94554204660588, 129.49594731509626, 128.7677304964539, 130.2304964539007, 128.28647416413375, 131.2183383991895, 132.24417426545088, 132.13652482269504, 131.09169199594731, 131.54761904761907, 132.77608915906788, 132.2061803444782, 134.90374873353596, 131.98454913880445, 129.19199594731512, 122.42907801418441, 124.7467071935157, 126.03850050658562, 128.81838905775078, 127.27330293819657, 126.95035460992908, 132.32649442755826, 128.38779128672746, 127.74822695035462, 130.76241134751774, 133.2003546099291, 133.20668693009122, 134.65045592705167, 134.53647416413375, 128.3181357649443, 130.75607902735564, 129.2806484295846, 130.1481762917933, 132.3518237082067, 132.1808510638298, 130.25582573454915, 132.46580547112464, 135.05572441742655, 135.04305977710234, 135.6193009118541, 137.22137791286727, 141.58434650455928, 141.26456433637287, 138.5195035460993, 139.24772036474164, 139.75430597771023, 141.06509625126648, 139.91894630192505, 137.87360688956434, 138.50050658561298, 137.84194528875383, 139.9632725430598, 139.24138804457954, 138.56382978723406, 141.82497467071937, 142.21757852077002, 138.65248226950357, 139.83029381965554, 143.75, 143.78166160081054, 142.09726443768997, 143.76266464032423, 145.7003546099291, 149.57573454913882, 149.3604356636272, 149.01215805471125, 148.41058763931105, 148.98682877406281, 149.70238095238096, 152.298632218845, 151.9503546099291, 153.98936170212767, 154.24265450861196, 156.14235055724419, 157.7064336372847, 154.05901722391084, 154.0400202634245, 157.52279635258358, 161.9934143870314, 163.05724417426546, 162.8229483282675, 162.89260385005068, 164.27938196555218, 164.72897669706182, 166.03343465045592, 165.88145896656533, 167.47087132725434, 166.31205673758868, 168.28774062816615, 169.13627152988857, 168.62335359675788, 166.66033434650458, 165.9131205673759, 165.76747720364742, 168.67401215805472, 167.3568895643364, 169.6048632218845, 169.23125633232016, 167.274569402229, 164.2920466058764, 165.74214792299898, 168.17375886524823, 171.42223910840931, 169.02228976697066, 170.0101317122594, 171.46023302938195, 171.89716312056737, 174.233789260385, 177.2163120567376, 177.56458966565353, 177.14032421479232, 177.3176291793313, 176.9503546099291, 179.83789260385007, 183.51063829787236, 184.59979736575482, 185.94858156028369]}, {\"line\": {\"color\": \"rgba(50, 171, 96, 1.0)\", \"dash\": \"solid\", \"shape\": \"linear\", \"width\": 1.3}, \"mode\": \"lines\", \"name\": \".SPX\", \"text\": \"\", \"type\": \"scatter\", \"x\": [\"2019-01-02\", \"2019-01-03\", \"2019-01-04\", \"2019-01-07\", \"2019-01-08\", \"2019-01-09\", \"2019-01-10\", \"2019-01-11\", \"2019-01-14\", \"2019-01-15\", \"2019-01-16\", \"2019-01-17\", \"2019-01-18\", \"2019-01-22\", \"2019-01-23\", \"2019-01-24\", \"2019-01-25\", \"2019-01-28\", \"2019-01-29\", \"2019-01-30\", \"2019-01-31\", \"2019-02-01\", \"2019-02-04\", \"2019-02-05\", \"2019-02-06\", \"2019-02-07\", \"2019-02-08\", \"2019-02-11\", \"2019-02-12\", \"2019-02-13\", \"2019-02-14\", \"2019-02-15\", \"2019-02-19\", \"2019-02-20\", \"2019-02-21\", \"2019-02-22\", \"2019-02-25\", \"2019-02-26\", \"2019-02-27\", \"2019-02-28\", \"2019-03-01\", \"2019-03-04\", \"2019-03-05\", \"2019-03-06\", \"2019-03-07\", \"2019-03-08\", \"2019-03-11\", \"2019-03-12\", \"2019-03-13\", \"2019-03-14\", \"2019-03-15\", \"2019-03-18\", \"2019-03-19\", \"2019-03-20\", \"2019-03-21\", \"2019-03-22\", \"2019-03-25\", \"2019-03-26\", \"2019-03-27\", \"2019-03-28\", \"2019-03-29\", \"2019-04-01\", \"2019-04-02\", \"2019-04-03\", \"2019-04-04\", \"2019-04-05\", \"2019-04-08\", \"2019-04-09\", \"2019-04-10\", \"2019-04-11\", \"2019-04-12\", \"2019-04-15\", \"2019-04-16\", \"2019-04-17\", \"2019-04-18\", \"2019-04-23\", \"2019-04-24\", \"2019-04-25\", \"2019-04-26\", \"2019-04-29\", \"2019-04-30\", \"2019-05-02\", \"2019-05-03\", \"2019-05-06\", \"2019-05-07\", \"2019-05-08\", \"2019-05-09\", \"2019-05-10\", \"2019-05-13\", \"2019-05-14\", \"2019-05-15\", \"2019-05-16\", \"2019-05-17\", \"2019-05-20\", \"2019-05-21\", \"2019-05-22\", \"2019-05-23\", \"2019-05-24\", \"2019-05-28\", \"2019-05-29\", \"2019-05-30\", \"2019-05-31\", \"2019-06-03\", \"2019-06-04\", \"2019-06-05\", \"2019-06-06\", \"2019-06-07\", \"2019-06-10\", \"2019-06-11\", \"2019-06-12\", \"2019-06-13\", \"2019-06-14\", \"2019-06-17\", \"2019-06-18\", \"2019-06-19\", \"2019-06-20\", \"2019-06-21\", \"2019-06-24\", \"2019-06-25\", \"2019-06-26\", \"2019-06-27\", \"2019-06-28\", \"2019-07-01\", \"2019-07-02\", \"2019-07-03\", \"2019-07-05\", \"2019-07-08\", \"2019-07-09\", \"2019-07-10\", \"2019-07-11\", \"2019-07-12\", \"2019-07-15\", \"2019-07-16\", \"2019-07-17\", \"2019-07-18\", \"2019-07-19\", \"2019-07-22\", \"2019-07-23\", \"2019-07-24\", \"2019-07-25\", \"2019-07-26\", \"2019-07-29\", \"2019-07-30\", \"2019-07-31\", \"2019-08-01\", \"2019-08-02\", \"2019-08-05\", \"2019-08-06\", \"2019-08-07\", \"2019-08-08\", \"2019-08-09\", \"2019-08-12\", \"2019-08-13\", \"2019-08-14\", \"2019-08-15\", \"2019-08-16\", \"2019-08-19\", \"2019-08-20\", \"2019-08-21\", \"2019-08-22\", \"2019-08-23\", \"2019-08-26\", \"2019-08-27\", \"2019-08-28\", \"2019-08-29\", \"2019-08-30\", \"2019-09-03\", \"2019-09-04\", \"2019-09-05\", \"2019-09-06\", \"2019-09-09\", \"2019-09-10\", \"2019-09-11\", \"2019-09-12\", \"2019-09-13\", \"2019-09-16\", \"2019-09-17\", \"2019-09-18\", \"2019-09-19\", \"2019-09-20\", \"2019-09-23\", \"2019-09-24\", \"2019-09-25\", \"2019-09-26\", \"2019-09-27\", \"2019-09-30\", \"2019-10-01\", \"2019-10-02\", \"2019-10-03\", \"2019-10-04\", \"2019-10-07\", \"2019-10-08\", \"2019-10-09\", \"2019-10-10\", \"2019-10-11\", \"2019-10-14\", \"2019-10-15\", \"2019-10-16\", \"2019-10-17\", \"2019-10-18\", \"2019-10-21\", \"2019-10-22\", \"2019-10-23\", \"2019-10-24\", \"2019-10-25\", \"2019-10-28\", \"2019-10-29\", \"2019-10-30\", \"2019-10-31\", \"2019-11-01\", \"2019-11-04\", \"2019-11-05\", \"2019-11-06\", \"2019-11-07\", \"2019-11-08\", \"2019-11-11\", \"2019-11-12\", \"2019-11-13\", \"2019-11-14\", \"2019-11-15\", \"2019-11-18\", \"2019-11-19\", \"2019-11-20\", \"2019-11-21\", \"2019-11-22\", \"2019-11-25\", \"2019-11-26\", \"2019-11-27\", \"2019-11-29\", \"2019-12-02\", \"2019-12-03\", \"2019-12-04\", \"2019-12-05\", \"2019-12-06\", \"2019-12-09\", \"2019-12-10\", \"2019-12-11\", \"2019-12-12\", \"2019-12-13\", \"2019-12-16\", \"2019-12-17\", \"2019-12-18\", \"2019-12-19\", \"2019-12-20\", \"2019-12-23\", \"2019-12-27\", \"2019-12-30\", \"2019-12-31\"], \"y\": [100.0, 97.52433237849746, 100.87289793349083, 101.5800607960861, 102.56490958275397, 102.98522328418385, 103.45055636785216, 103.43541710656845, 102.89159890519237, 103.99477297084098, 104.22584590622421, 105.01707150910546, 106.40151711334127, 104.89516061561017, 105.12623355099339, 105.2708533364143, 106.16446815376707, 105.3314103815492, 105.17802576064827, 106.81346438090382, 107.73178009824582, 107.82859169013916, 108.55926024788548, 109.07040951701772, 108.82778293486533, 107.80946841272814, 107.88237590785768, 107.95886901750178, 109.35048585076672, 109.68115918933239, 109.39032601203968, 110.58035162926339, 110.74608670015895, 110.94289709684743, 110.55166671314684, 111.26042318219302, 111.39747333697207, 111.3094265805588, 111.24886953542388, 110.93453066298011, 111.6994617594212, 111.26600080477125, 111.14010589514866, 110.41501495998054, 109.5178145281132, 109.2843511830536, 110.88712087106529, 111.21460699672912, 111.98750612542479, 111.89029613191875, 112.44805838974034, 112.86478647665565, 112.85004561698466, 112.51777867196806, 113.73887961498468, 111.58073807882774, 111.48711369983626, 112.287900941423, 111.76639323035977, 112.16758365437862, 112.9229531121142, 114.22931200025496, 114.2313040083186, 114.47671940176014, 114.71536196778523, 115.24722812077941, 115.36794380943654, 114.6679521758704, 115.06675219021285, 115.07113460795289, 115.83168328665391, 115.75877579152439, 115.81773923020839, 115.55439576419404, 115.73686370282428, 116.87828432329492, 116.62211208630973, 116.57908471213491, 117.12529332318738, 117.25078983119724, 117.36234228276155, 116.23446731712367, 117.35477265211969, 116.83007772815463, 114.9010171193173, 114.71655717262344, 114.36994776954856, 114.79544069194392, 112.02535427863411, 112.92335151372693, 113.58270618279462, 114.5930526726772, 113.924136364904, 113.15522125233561, 114.11656434385247, 113.7942574391541, 112.43849675103483, 112.5906861670976, 111.64766954976632, 110.87596562590885, 111.10863216774301, 109.64251423289761, 109.33933060561027, 111.68272889168654, 112.59427178161216, 113.28510017808551, 114.47432899208377, 115.00778875152886, 114.96755018864316, 114.73329004035809, 115.20340394337916, 115.0177487918471, 115.1249188256714, 116.24363055421647, 116.59063835890406, 117.69500762939087, 117.54680222945541, 117.34321900535052, 116.22888969454547, 116.08546511396278, 116.52928451054369, 117.20019282638057, 118.09938526631154, 118.44519786616097, 119.35395194479747, 119.13841667231067, 118.56232794030348, 118.70893973378804, 119.2443915012968, 119.51689820440392, 120.06908283964732, 120.090198125122, 119.6814380704613, 118.89977410628558, 119.32566543029365, 118.58862244674367, 118.92407660466209, 119.73840950108163, 120.29975737341783, 119.6666972107903, 120.55075038943757, 120.35593200081271, 120.04557714449626, 118.73881985474277, 117.67030672940162, 116.81334486041999, 113.33490037967672, 114.8101815516149, 114.89822830802818, 117.05397943450875, 116.27948669936214, 114.88906507093539, 116.58506073632586, 113.1699621120066, 113.44884324091741, 115.08547706601115, 116.47868750572701, 115.55678617387044, 116.50976283151992, 116.45079939283593, 113.42932156189367, 114.67512340489954, 114.30779711796274, 115.05599534666915, 116.51573885571086, 116.59063835890406, 115.78626550280275, 117.04162898451413, 118.56431994836714, 118.6722867854169, 118.66113154026046, 118.69937809508251, 119.55753516890235, 119.90175416230085, 119.81490261072577, 119.43920988992163, 119.74757273817443, 119.7886081042856, 119.79099851396198, 119.20455134002381, 119.19299769325467, 118.18982243240119, 118.91770217885839, 118.62886100962935, 117.99819125667818, 118.59380166770914, 117.14003418285837, 115.04284809344907, 115.9599686059529, 117.60855447942853, 117.08186754739982, 115.25997697238677, 116.30936682031687, 117.05557304095966, 118.33603582427301, 118.17189435982836, 119.34837432221923, 119.10973175619415, 119.43881148830889, 118.97068959335147, 119.78820970267286, 119.36072477221387, 119.70056134787232, 119.93043907841738, 120.41887945562404, 121.09098297629907, 120.99018736827844, 121.38380816165544, 121.01688027633135, 122.1861890096931, 122.63877324175408, 122.49335665310772, 122.57941140145736, 122.91406875615031, 123.22880603020681, 122.98697625127986, 123.17940423022833, 123.26705258502886, 123.37023860272586, 124.3196296458608, 124.38217869905937, 124.30847440070436, 123.84154771058513, 123.6455341171221, 123.91445520571467, 124.84472297143859, 125.11882328099664, 125.64112779528531, 125.1371497551822, 124.0570829830719, 123.23358684955954, 124.01286040405893, 124.19891395720369, 125.33356175025796, 124.93715214559187, 124.80010199081283, 125.16304586000963, 126.23633980470352, 126.24550304179631, 127.14788269462913, 127.19051166719122, 127.13553224463452, 127.70245773954892, 128.33392429572552, 128.44507834567713, 129.08291932765744, 128.33671310701465, 128.71479623749516]}, {\"line\": {\"color\": \"rgba(128, 0, 128, 1.0)\", \"dash\": \"solid\", \"shape\": \"linear\", \"width\": 1.3}, \"mode\": \"lines\", \"name\": \".VIX\", \"text\": \"\", \"type\": \"scatter\", \"x\": [\"2019-01-02\", \"2019-01-03\", \"2019-01-04\", \"2019-01-07\", \"2019-01-08\", \"2019-01-09\", \"2019-01-10\", \"2019-01-11\", \"2019-01-14\", \"2019-01-15\", \"2019-01-16\", \"2019-01-17\", \"2019-01-18\", \"2019-01-22\", \"2019-01-23\", \"2019-01-24\", \"2019-01-25\", \"2019-01-28\", \"2019-01-29\", \"2019-01-30\", \"2019-01-31\", \"2019-02-01\", \"2019-02-04\", \"2019-02-05\", \"2019-02-06\", \"2019-02-07\", \"2019-02-08\", \"2019-02-11\", \"2019-02-12\", \"2019-02-13\", \"2019-02-14\", \"2019-02-15\", \"2019-02-19\", \"2019-02-20\", \"2019-02-21\", \"2019-02-22\", \"2019-02-25\", \"2019-02-26\", \"2019-02-27\", \"2019-02-28\", \"2019-03-01\", \"2019-03-04\", \"2019-03-05\", \"2019-03-06\", \"2019-03-07\", \"2019-03-08\", \"2019-03-11\", \"2019-03-12\", \"2019-03-13\", \"2019-03-14\", \"2019-03-15\", \"2019-03-18\", \"2019-03-19\", \"2019-03-20\", \"2019-03-21\", \"2019-03-22\", \"2019-03-25\", \"2019-03-26\", \"2019-03-27\", \"2019-03-28\", \"2019-03-29\", \"2019-04-01\", \"2019-04-02\", \"2019-04-03\", \"2019-04-04\", \"2019-04-05\", \"2019-04-08\", \"2019-04-09\", \"2019-04-10\", \"2019-04-11\", \"2019-04-12\", \"2019-04-15\", \"2019-04-16\", \"2019-04-17\", \"2019-04-18\", \"2019-04-23\", \"2019-04-24\", \"2019-04-25\", \"2019-04-26\", \"2019-04-29\", \"2019-04-30\", \"2019-05-02\", \"2019-05-03\", \"2019-05-06\", \"2019-05-07\", \"2019-05-08\", \"2019-05-09\", \"2019-05-10\", \"2019-05-13\", \"2019-05-14\", \"2019-05-15\", \"2019-05-16\", \"2019-05-17\", \"2019-05-20\", \"2019-05-21\", \"2019-05-22\", \"2019-05-23\", \"2019-05-24\", \"2019-05-28\", \"2019-05-29\", \"2019-05-30\", \"2019-05-31\", \"2019-06-03\", \"2019-06-04\", \"2019-06-05\", \"2019-06-06\", \"2019-06-07\", \"2019-06-10\", \"2019-06-11\", \"2019-06-12\", \"2019-06-13\", \"2019-06-14\", \"2019-06-17\", \"2019-06-18\", \"2019-06-19\", \"2019-06-20\", \"2019-06-21\", \"2019-06-24\", \"2019-06-25\", \"2019-06-26\", \"2019-06-27\", \"2019-06-28\", \"2019-07-01\", \"2019-07-02\", \"2019-07-03\", \"2019-07-05\", \"2019-07-08\", \"2019-07-09\", \"2019-07-10\", \"2019-07-11\", \"2019-07-12\", \"2019-07-15\", \"2019-07-16\", \"2019-07-17\", \"2019-07-18\", \"2019-07-19\", \"2019-07-22\", \"2019-07-23\", \"2019-07-24\", \"2019-07-25\", \"2019-07-26\", \"2019-07-29\", \"2019-07-30\", \"2019-07-31\", \"2019-08-01\", \"2019-08-02\", \"2019-08-05\", \"2019-08-06\", \"2019-08-07\", \"2019-08-08\", \"2019-08-09\", \"2019-08-12\", \"2019-08-13\", \"2019-08-14\", \"2019-08-15\", \"2019-08-16\", \"2019-08-19\", \"2019-08-20\", \"2019-08-21\", \"2019-08-22\", \"2019-08-23\", \"2019-08-26\", \"2019-08-27\", \"2019-08-28\", \"2019-08-29\", \"2019-08-30\", \"2019-09-03\", \"2019-09-04\", \"2019-09-05\", \"2019-09-06\", \"2019-09-09\", \"2019-09-10\", \"2019-09-11\", \"2019-09-12\", \"2019-09-13\", \"2019-09-16\", \"2019-09-17\", \"2019-09-18\", \"2019-09-19\", \"2019-09-20\", \"2019-09-23\", \"2019-09-24\", \"2019-09-25\", \"2019-09-26\", \"2019-09-27\", \"2019-09-30\", \"2019-10-01\", \"2019-10-02\", \"2019-10-03\", \"2019-10-04\", \"2019-10-07\", \"2019-10-08\", \"2019-10-09\", \"2019-10-10\", \"2019-10-11\", \"2019-10-14\", \"2019-10-15\", \"2019-10-16\", \"2019-10-17\", \"2019-10-18\", \"2019-10-21\", \"2019-10-22\", \"2019-10-23\", \"2019-10-24\", \"2019-10-25\", \"2019-10-28\", \"2019-10-29\", \"2019-10-30\", \"2019-10-31\", \"2019-11-01\", \"2019-11-04\", \"2019-11-05\", \"2019-11-06\", \"2019-11-07\", \"2019-11-08\", \"2019-11-11\", \"2019-11-12\", \"2019-11-13\", \"2019-11-14\", \"2019-11-15\", \"2019-11-18\", \"2019-11-19\", \"2019-11-20\", \"2019-11-21\", \"2019-11-22\", \"2019-11-25\", \"2019-11-26\", \"2019-11-27\", \"2019-11-29\", \"2019-12-02\", \"2019-12-03\", \"2019-12-04\", \"2019-12-05\", \"2019-12-06\", \"2019-12-09\", \"2019-12-10\", \"2019-12-11\", \"2019-12-12\", \"2019-12-13\", \"2019-12-16\", \"2019-12-17\", \"2019-12-18\", \"2019-12-19\", \"2019-12-20\", \"2019-12-23\", \"2019-12-27\", \"2019-12-30\", \"2019-12-31\"], \"y\": [100.0, 109.60378983634797, 92.07579672695951, 92.1619293712317, 88.15676141257536, 86.04651162790698, 83.97932816537468, 78.33763996554696, 82.12747631352283, 80.10335917312662, 81.99827734711455, 77.77777777777779, 76.65805340223946, 89.57795004306634, 84.06546080964686, 81.35228251507321, 75.02153316106805, 81.26614987080104, 82.38587424633937, 76.0551248923342, 71.36089577950044, 69.50904392764858, 67.74332472006891, 67.05426356589147, 66.23600344530578, 70.49956933677865, 67.70025839793283, 68.77691645133505, 66.45133505598622, 67.3987941429802, 69.8535745047373, 64.21188630490956, 64.0826873385013, 60.37898363479759, 62.27390180878554, 58.18260120585702, 63.95348837209303, 65.3316106804479, 63.30749354005169, 63.65202411714039, 58.44099913867357, 63.00602928509906, 63.47975882859605, 67.786391042205, 71.44702842377261, 69.12144702842377, 61.71403962101637, 59.30232558139535, 57.751937984496124, 58.139534883720934, 55.46942291128338, 56.41688199827735, 58.39793281653747, 59.905254091300606, 58.6993970714901, 70.97329888027562, 70.32730404823427, 63.2213608957795, 65.24547803617573, 62.144702842377264, 59.04392764857882, 57.70887166236004, 57.53660637381568, 59.17312661498708, 58.48406546080965, 55.21102497846684, 56.761412575366066, 61.498708010335925, 57.278208440999144, 56.07235142118863, 51.72265288544359, 53.05770887166237, 52.4547803617571, 54.263565891472865, 52.067183462532306, 52.885443583118, 56.58914728682171, 57.0628768303187, 54.82342807924204, 56.45994832041343, 56.50301464254952, 62.10163652024118, 55.42635658914728, 66.49440137812232, 83.20413436692506, 83.54866494401378, 82.2566752799311, 69.07838070628767, 88.50129198966408, 77.77777777777779, 70.80103359173128, 65.84840654608097, 68.73385012919897, 70.2411714039621, 64.38415159345392, 63.52282515073213, 72.86821705426357, 68.26012058570198, 75.36606373815677, 77.08871662360033, 74.50473729543498, 80.5770887166236, 81.22308354866495, 73.083548664944, 69.29371231696814, 68.6046511627907, 70.19810508182603, 68.64771748492679, 68.86304909560724, 68.51851851851852, 68.13092161929372, 65.80534022394488, 66.1068044788975, 65.24547803617573, 61.71403962101637, 63.52282515073213, 66.32213608957795, 65.7192075796727, 70.11197243755383, 69.81050818260121, 68.13092161929372, 64.94401378122309, 60.55124892334195, 55.68475452196383, 54.134366925064604, 57.19207579672696, 60.12058570198106, 60.68044788975022, 56.11541774332473, 55.68475452196383, 53.35917312661499, 54.608096468561584, 55.3832902670112, 60.16365202411714, 58.268733850129195, 62.23083548664944, 58.268733850129195, 54.306632213608964, 51.98105081826012, 54.86649440137813, 52.368647717484926, 55.25409130060294, 60.03445305770887, 69.42291128337641, 76.9595176571921, 75.83979328165374, 105.90008613264428, 86.86477174849269, 83.93626184323858, 72.82515073212748, 77.39018087855297, 90.82687338501292, 75.45219638242894, 95.17657192075798, 91.21447028423772, 79.54349698535745, 72.6959517657192, 75.36606373815677, 68.04478897502155, 71.83462532299741, 85.57278208441001, 83.20413436692506, 87.46770025839793, 83.33333333333334, 77.00258397932816, 81.73987941429802, 84.66838931955212, 74.63393626184323, 70.06890611541775, 64.59948320413437, 65.76227390180878, 65.46080964685615, 62.91989664082688, 61.24031007751939, 59.17312661498708, 63.17829457364341, 62.18776916451335, 60.07751937984496, 60.50818260120586, 65.97760551248923, 64.21188630490956, 73.42807924203274, 68.73385012919897, 69.20757967269596, 74.16020671834626, 69.93970714900946, 79.93109388458225, 88.54435831180018, 82.34280792420327, 73.38501291989664, 76.916451335056, 87.33850129198967, 80.27562446167099, 75.6675279931094, 67.09732988802757, 62.74763135228252, 58.31180017226528, 58.91472868217055, 59.38845822566753, 61.36950904392765, 60.292850990525416, 62.27390180878554, 60.3359173126615, 59.04392764857882, 54.47889750215332, 56.45994832041343, 56.84754521963824, 53.100775193798455, 56.933677863910425, 52.97157622739018, 55.25409130060294, 56.41688199827735, 54.34969853574505, 54.82342807924204, 51.98105081826012, 54.65116279069767, 54.608096468561584, 55.98621877691645, 56.20155038759691, 51.894918173987946, 53.660637381567625, 55.3832902670112, 55.03875968992248, 56.54608096468562, 53.14384151593454, 51.11972437553833, 49.69853574504737, 50.602928509905254, 54.34969853574505, 64.21188630490956, 68.73385012919897, 63.738156761412576, 62.532299741602074, 58.656330749354005, 68.30318690783808, 67.52799310938846, 64.55641688199827, 60.03445305770887, 54.39276485788115, 52.28251507321276, 52.928509905254096, 54.17743324720069, 53.83290267011197, 53.87596899224807, 54.306632213608964, 57.8380706287683, 63.824289405684766, 59.34539190353144]}, {\"line\": {\"color\": \"rgba(219, 64, 82, 1.0)\", \"dash\": \"solid\", \"shape\": \"linear\", \"width\": 1.3}, \"mode\": \"lines\", \"name\": \"EUR=\", \"text\": \"\", \"type\": \"scatter\", \"x\": [\"2019-01-02\", \"2019-01-03\", \"2019-01-04\", \"2019-01-07\", \"2019-01-08\", \"2019-01-09\", \"2019-01-10\", \"2019-01-11\", \"2019-01-14\", \"2019-01-15\", \"2019-01-16\", \"2019-01-17\", \"2019-01-18\", \"2019-01-22\", \"2019-01-23\", \"2019-01-24\", \"2019-01-25\", \"2019-01-28\", \"2019-01-29\", \"2019-01-30\", \"2019-01-31\", \"2019-02-01\", \"2019-02-04\", \"2019-02-05\", \"2019-02-06\", \"2019-02-07\", \"2019-02-08\", \"2019-02-11\", \"2019-02-12\", \"2019-02-13\", \"2019-02-14\", \"2019-02-15\", \"2019-02-19\", \"2019-02-20\", \"2019-02-21\", \"2019-02-22\", \"2019-02-25\", \"2019-02-26\", \"2019-02-27\", \"2019-02-28\", \"2019-03-01\", \"2019-03-04\", \"2019-03-05\", \"2019-03-06\", \"2019-03-07\", \"2019-03-08\", \"2019-03-11\", \"2019-03-12\", \"2019-03-13\", \"2019-03-14\", \"2019-03-15\", \"2019-03-18\", \"2019-03-19\", \"2019-03-20\", \"2019-03-21\", \"2019-03-22\", \"2019-03-25\", \"2019-03-26\", \"2019-03-27\", \"2019-03-28\", \"2019-03-29\", \"2019-04-01\", \"2019-04-02\", \"2019-04-03\", \"2019-04-04\", \"2019-04-05\", \"2019-04-08\", \"2019-04-09\", \"2019-04-10\", \"2019-04-11\", \"2019-04-12\", \"2019-04-15\", \"2019-04-16\", \"2019-04-17\", \"2019-04-18\", \"2019-04-23\", \"2019-04-24\", \"2019-04-25\", \"2019-04-26\", \"2019-04-29\", \"2019-04-30\", \"2019-05-02\", \"2019-05-03\", \"2019-05-06\", \"2019-05-07\", \"2019-05-08\", \"2019-05-09\", \"2019-05-10\", \"2019-05-13\", \"2019-05-14\", \"2019-05-15\", \"2019-05-16\", \"2019-05-17\", \"2019-05-20\", \"2019-05-21\", \"2019-05-22\", \"2019-05-23\", \"2019-05-24\", \"2019-05-28\", \"2019-05-29\", \"2019-05-30\", \"2019-05-31\", \"2019-06-03\", \"2019-06-04\", \"2019-06-05\", \"2019-06-06\", \"2019-06-07\", \"2019-06-10\", \"2019-06-11\", \"2019-06-12\", \"2019-06-13\", \"2019-06-14\", \"2019-06-17\", \"2019-06-18\", \"2019-06-19\", \"2019-06-20\", \"2019-06-21\", \"2019-06-24\", \"2019-06-25\", \"2019-06-26\", \"2019-06-27\", \"2019-06-28\", \"2019-07-01\", \"2019-07-02\", \"2019-07-03\", \"2019-07-05\", \"2019-07-08\", \"2019-07-09\", \"2019-07-10\", \"2019-07-11\", \"2019-07-12\", \"2019-07-15\", \"2019-07-16\", \"2019-07-17\", \"2019-07-18\", \"2019-07-19\", \"2019-07-22\", \"2019-07-23\", \"2019-07-24\", \"2019-07-25\", \"2019-07-26\", \"2019-07-29\", \"2019-07-30\", \"2019-07-31\", \"2019-08-01\", \"2019-08-02\", \"2019-08-05\", \"2019-08-06\", \"2019-08-07\", \"2019-08-08\", \"2019-08-09\", \"2019-08-12\", \"2019-08-13\", \"2019-08-14\", \"2019-08-15\", \"2019-08-16\", \"2019-08-19\", \"2019-08-20\", \"2019-08-21\", \"2019-08-22\", \"2019-08-23\", \"2019-08-26\", \"2019-08-27\", \"2019-08-28\", \"2019-08-29\", \"2019-08-30\", \"2019-09-03\", \"2019-09-04\", \"2019-09-05\", \"2019-09-06\", \"2019-09-09\", \"2019-09-10\", \"2019-09-11\", \"2019-09-12\", \"2019-09-13\", \"2019-09-16\", \"2019-09-17\", \"2019-09-18\", \"2019-09-19\", \"2019-09-20\", \"2019-09-23\", \"2019-09-24\", \"2019-09-25\", \"2019-09-26\", \"2019-09-27\", \"2019-09-30\", \"2019-10-01\", \"2019-10-02\", \"2019-10-03\", \"2019-10-04\", \"2019-10-07\", \"2019-10-08\", \"2019-10-09\", \"2019-10-10\", \"2019-10-11\", \"2019-10-14\", \"2019-10-15\", \"2019-10-16\", \"2019-10-17\", \"2019-10-18\", \"2019-10-21\", \"2019-10-22\", \"2019-10-23\", \"2019-10-24\", \"2019-10-25\", \"2019-10-28\", \"2019-10-29\", \"2019-10-30\", \"2019-10-31\", \"2019-11-01\", \"2019-11-04\", \"2019-11-05\", \"2019-11-06\", \"2019-11-07\", \"2019-11-08\", \"2019-11-11\", \"2019-11-12\", \"2019-11-13\", \"2019-11-14\", \"2019-11-15\", \"2019-11-18\", \"2019-11-19\", \"2019-11-20\", \"2019-11-21\", \"2019-11-22\", \"2019-11-25\", \"2019-11-26\", \"2019-11-27\", \"2019-11-29\", \"2019-12-02\", \"2019-12-03\", \"2019-12-04\", \"2019-12-05\", \"2019-12-06\", \"2019-12-09\", \"2019-12-10\", \"2019-12-11\", \"2019-12-12\", \"2019-12-13\", \"2019-12-16\", \"2019-12-17\", \"2019-12-18\", \"2019-12-19\", \"2019-12-20\", \"2019-12-23\", \"2019-12-27\", \"2019-12-30\", \"2019-12-31\"], \"y\": [100.0, 100.44083935813788, 100.44965614530064, 101.16381590548403, 100.86404514195027, 101.7545406453888, 101.37541879739022, 101.10209839534474, 101.16381590548403, 100.63480867571857, 100.48492329395167, 100.46728971962615, 100.1675189560924, 100.14106859460412, 100.33503791218479, 99.67377887497796, 100.61717510139306, 100.80232763181097, 100.7758772703227, 101.1902662669723, 100.8993122906013, 100.98748016222888, 100.81996120613648, 100.61717510139306, 100.15870216892961, 99.98236642567446, 99.87656497972138, 99.40927526009521, 99.84129783107035, 99.32110738846764, 99.6208781520014, 99.56797742902485, 99.98236642567446, 99.93828248986068, 99.92946570269793, 99.99118321283724, 100.14106859460412, 100.37912184799858, 100.23805325339445, 100.24687004055721, 100.28213718920824, 99.9559160641862, 99.68259566214071, 99.67377887497796, 98.6774819255863, 99.08305413507317, 99.162405219538, 99.50625991888555, 99.8501146182331, 99.64732851348968, 99.8501146182331, 99.94709927702344, 100.0617175101393, 100.6083583142303, 100.27332040204548, 99.74431317228, 99.72667959795449, 99.31229060130488, 99.162405219538, 98.92435196614355, 98.89790160465525, 98.85381766884146, 98.7656497972139, 99.04778698642214, 98.92435196614355, 98.87145124316697, 99.26820666549108, 99.28584023981661, 99.3916416857697, 99.18885558102627, 99.62969493916415, 99.69141244930347, 99.453359195909, 99.57679421618761, 99.00370305060835, 98.96843590195732, 98.32481043907599, 98.13084112149532, 98.28954329042496, 98.615764415447, 98.88026803032973, 98.53641333098217, 98.74801622288838, 98.72156586140008, 98.65984835126079, 98.66866513842355, 98.92435196614355, 99.03897019925938, 98.9508023276318, 98.77446658437665, 98.74801622288838, 98.50114618233114, 98.36007758772702, 98.48351260800563, 98.37771116205253, 98.32481043907599, 98.57168047963323, 98.7656497972139, 98.39534473637806, 98.12202433433256, 98.13084112149532, 98.45706224651737, 99.1006877093987, 99.19767236818903, 98.91553517898076, 99.40045847293246, 99.90301534120965, 99.73549638511724, 99.88538176688414, 99.5150767060483, 99.40927526009521, 98.80973373302768, 98.89790160465525, 98.66866513842355, 98.95961911479456, 99.55034385469934, 100.21160289190618, 100.47610650678891, 100.20278610474342, 100.2292364662317, 100.2292364662317, 100.2292364662317, 99.49744313172279, 99.47980955739727, 99.42690883442073, 98.95961911479456, 98.87145124316697, 98.80091694586493, 99.18003879386352, 99.20648915535179, 99.35637453711867, 99.25057309116556, 98.8273673073532, 98.9508023276318, 99.40927526009521, 98.92435196614355, 98.81855052019044, 98.31599365191323, 98.21019220596014, 98.26309292893669, 98.08675718568153, 98.25427614177393, 98.33362722623875, 97.63710104038087, 97.7164521248457, 97.9280550167519, 98.7656497972139, 98.73038264856284, 98.72156586140008, 98.55404690530769, 98.73038264856284, 98.85381766884146, 98.47469582084287, 98.20137541879738, 97.91923822958914, 97.76935284782225, 97.65473461470638, 97.85752071944984, 97.7164521248457, 97.6723681890319, 98.25427614177393, 97.8663375066126, 97.778169634985, 97.66355140186914, 97.46958208428848, 96.88767413154645, 96.73778874977957, 97.2756127667078, 97.2756127667078, 97.22271204373125, 97.39023099982366, 97.36378063833538, 97.06400987480161, 97.52248280726504, 97.62828425321811, 96.9846587903368, 97.6106506788926, 97.24034561805676, 97.33733027684711, 97.13454417210366, 96.90530770587196, 97.14336095926642, 96.46446834773408, 96.28813260447893, 96.43801798624581, 96.08534649973551, 96.36748368894374, 96.61435372950096, 96.66725445247751, 96.7730558984306, 96.72015517545405, 96.57908658084993, 96.7113383882913, 97.01992593898783, 97.33733027684711, 97.231528830894, 97.25797919238228, 97.60183389172984, 98.06030682419326, 98.47469582084287, 98.28954329042496, 98.07794039851878, 98.12202433433256, 97.90160465526363, 97.6723681890319, 97.84870393228707, 97.95450537824017, 98.28954329042496, 98.30717686475047, 98.43942867219185, 98.09557397284429, 97.63710104038087, 97.55774995591607, 97.41668136131193, 97.1257273849409, 97.26679597954504, 97.0463763004761, 97.03755951331334, 97.16981132075472, 97.42549814847469, 97.60183389172984, 97.6723681890319, 97.61946746605535, 97.48721565861398, 97.17862810791748, 97.09927702345264, 97.14336095926642, 96.96702521601128, 97.11691059777814, 97.66355140186914, 97.6988185505202, 97.65473461470638, 97.88397108093811, 97.48721565861398, 97.5312995944278, 97.79580320931052, 98.11320754716981, 98.11320754716981, 98.03385646270499, 98.23664256744841, 98.29836007758772, 97.96332216540293, 98.04267324986775, 97.6723681890319, 97.74290248633397, 98.52759654381941, 98.72156586140008, 98.83618409451594]}, {\"line\": {\"color\": \"rgba(0, 128, 128, 1.0)\", \"dash\": \"solid\", \"shape\": \"linear\", \"width\": 1.3}, \"mode\": \"lines\", \"name\": \"XAU=\", \"text\": \"\", \"type\": \"scatter\", \"x\": [\"2019-01-02\", \"2019-01-03\", \"2019-01-04\", \"2019-01-07\", \"2019-01-08\", \"2019-01-09\", \"2019-01-10\", \"2019-01-11\", \"2019-01-14\", \"2019-01-15\", \"2019-01-16\", \"2019-01-17\", \"2019-01-18\", \"2019-01-22\", \"2019-01-23\", \"2019-01-24\", \"2019-01-25\", \"2019-01-28\", \"2019-01-29\", \"2019-01-30\", \"2019-01-31\", \"2019-02-01\", \"2019-02-04\", \"2019-02-05\", \"2019-02-06\", \"2019-02-07\", \"2019-02-08\", \"2019-02-11\", \"2019-02-12\", \"2019-02-13\", \"2019-02-14\", \"2019-02-15\", \"2019-02-19\", \"2019-02-20\", \"2019-02-21\", \"2019-02-22\", \"2019-02-25\", \"2019-02-26\", \"2019-02-27\", \"2019-02-28\", \"2019-03-01\", \"2019-03-04\", \"2019-03-05\", \"2019-03-06\", \"2019-03-07\", \"2019-03-08\", \"2019-03-11\", \"2019-03-12\", \"2019-03-13\", \"2019-03-14\", \"2019-03-15\", \"2019-03-18\", \"2019-03-19\", \"2019-03-20\", \"2019-03-21\", \"2019-03-22\", \"2019-03-25\", \"2019-03-26\", \"2019-03-27\", \"2019-03-28\", \"2019-03-29\", \"2019-04-01\", \"2019-04-02\", \"2019-04-03\", \"2019-04-04\", \"2019-04-05\", \"2019-04-08\", \"2019-04-09\", \"2019-04-10\", \"2019-04-11\", \"2019-04-12\", \"2019-04-15\", \"2019-04-16\", \"2019-04-17\", \"2019-04-18\", \"2019-04-23\", \"2019-04-24\", \"2019-04-25\", \"2019-04-26\", \"2019-04-29\", \"2019-04-30\", \"2019-05-02\", \"2019-05-03\", \"2019-05-06\", \"2019-05-07\", \"2019-05-08\", \"2019-05-09\", \"2019-05-10\", \"2019-05-13\", \"2019-05-14\", \"2019-05-15\", \"2019-05-16\", \"2019-05-17\", \"2019-05-20\", \"2019-05-21\", \"2019-05-22\", \"2019-05-23\", \"2019-05-24\", \"2019-05-28\", \"2019-05-29\", \"2019-05-30\", \"2019-05-31\", \"2019-06-03\", \"2019-06-04\", \"2019-06-05\", \"2019-06-06\", \"2019-06-07\", \"2019-06-10\", \"2019-06-11\", \"2019-06-12\", \"2019-06-13\", \"2019-06-14\", \"2019-06-17\", \"2019-06-18\", \"2019-06-19\", \"2019-06-20\", \"2019-06-21\", \"2019-06-24\", \"2019-06-25\", \"2019-06-26\", \"2019-06-27\", \"2019-06-28\", \"2019-07-01\", \"2019-07-02\", \"2019-07-03\", \"2019-07-05\", \"2019-07-08\", \"2019-07-09\", \"2019-07-10\", \"2019-07-11\", \"2019-07-12\", \"2019-07-15\", \"2019-07-16\", \"2019-07-17\", \"2019-07-18\", \"2019-07-19\", \"2019-07-22\", \"2019-07-23\", \"2019-07-24\", \"2019-07-25\", \"2019-07-26\", \"2019-07-29\", \"2019-07-30\", \"2019-07-31\", \"2019-08-01\", \"2019-08-02\", \"2019-08-05\", \"2019-08-06\", \"2019-08-07\", \"2019-08-08\", \"2019-08-09\", \"2019-08-12\", \"2019-08-13\", \"2019-08-14\", \"2019-08-15\", \"2019-08-16\", \"2019-08-19\", \"2019-08-20\", \"2019-08-21\", \"2019-08-22\", \"2019-08-23\", \"2019-08-26\", \"2019-08-27\", \"2019-08-28\", \"2019-08-29\", \"2019-08-30\", \"2019-09-03\", \"2019-09-04\", \"2019-09-05\", \"2019-09-06\", \"2019-09-09\", \"2019-09-10\", \"2019-09-11\", \"2019-09-12\", \"2019-09-13\", \"2019-09-16\", \"2019-09-17\", \"2019-09-18\", \"2019-09-19\", \"2019-09-20\", \"2019-09-23\", \"2019-09-24\", \"2019-09-25\", \"2019-09-26\", \"2019-09-27\", \"2019-09-30\", \"2019-10-01\", \"2019-10-02\", \"2019-10-03\", \"2019-10-04\", \"2019-10-07\", \"2019-10-08\", \"2019-10-09\", \"2019-10-10\", \"2019-10-11\", \"2019-10-14\", \"2019-10-15\", \"2019-10-16\", \"2019-10-17\", \"2019-10-18\", \"2019-10-21\", \"2019-10-22\", \"2019-10-23\", \"2019-10-24\", \"2019-10-25\", \"2019-10-28\", \"2019-10-29\", \"2019-10-30\", \"2019-10-31\", \"2019-11-01\", \"2019-11-04\", \"2019-11-05\", \"2019-11-06\", \"2019-11-07\", \"2019-11-08\", \"2019-11-11\", \"2019-11-12\", \"2019-11-13\", \"2019-11-14\", \"2019-11-15\", \"2019-11-18\", \"2019-11-19\", \"2019-11-20\", \"2019-11-21\", \"2019-11-22\", \"2019-11-25\", \"2019-11-26\", \"2019-11-27\", \"2019-11-29\", \"2019-12-02\", \"2019-12-03\", \"2019-12-04\", \"2019-12-05\", \"2019-12-06\", \"2019-12-09\", \"2019-12-10\", \"2019-12-11\", \"2019-12-12\", \"2019-12-13\", \"2019-12-16\", \"2019-12-17\", \"2019-12-18\", \"2019-12-19\", \"2019-12-20\", \"2019-12-23\", \"2019-12-27\", \"2019-12-30\", \"2019-12-31\"], \"y\": [100.0, 100.69041206781138, 100.00700530846707, 100.30278499929948, 100.00856204368198, 100.64682348179397, 100.12297429830159, 100.21482945965721, 100.54095770350422, 100.35026542335414, 100.67717203480862, 100.51839282656414, 99.71745255849432, 99.99221632392548, 99.78750564316515, 99.67464234008438, 101.43219639771472, 101.45710416115324, 102.11093295141428, 102.70638417111633, 102.78811276989896, 102.58340987281474, 102.09769291841151, 102.35144854211748, 101.66648504755827, 101.96849167925028, 102.27672525180192, 101.83072061273097, 102.00585332440806, 101.6641499447359, 102.15919174307642, 102.82313931223439, 104.38532310039386, 104.17749894920374, 102.98659650979964, 103.34464560922834, 103.2940594984199, 103.41080685586188, 102.72895683173249, 102.17320236001059, 100.6672400641375, 100.13037657424849, 100.18992947989476, 100.12609555240748, 100.05876675436274, 101.032893815091, 100.72076840450208, 101.3247816678861, 101.89065491850491, 100.87897162071704, 101.27574450861654, 101.45632579354577, 101.67816056167007, 102.1401217366938, 101.90427635163535, 102.20978563756091, 102.88463035322322, 102.3880318196678, 101.92412472562542, 100.42109687563243, 100.55731120693683, 100.20821333499386, 100.62347245357037, 100.38256767906346, 100.5748244781045, 100.5106091504896, 100.96712175226115, 101.49018478447, 101.7945265189844, 100.5919485654685, 100.40942136152063, 100.22533742235784, 99.33293896041224, 99.14379563180098, 99.2426483179476, 99.02003518221586, 99.23875647991034, 99.39365163379361, 100.08639880442736, 99.59602721173155, 99.89180690256394, 98.87525880722947, 99.54853900400082, 99.63689151112287, 99.96575182527204, 99.67230723726202, 99.92216323925463, 100.06693961424101, 101.1609352865171, 100.93676541557046, 100.90874418170213, 100.1292090228373, 99.40921898594269, 99.43607266839982, 99.22046484113515, 99.11460684652148, 99.86845587434033, 99.9926055077292, 99.55788719896633, 99.56878434547069, 100.29266622040258, 101.59643196288744, 103.11580553263695, 103.12436757631896, 103.50576770397122, 103.89650824291297, 104.32461042701246, 103.34620234444323, 103.26311160234755, 103.76885595529058, 104.45304108224232, 104.40478229058019, 104.24560611485593, 104.77450690412067, 105.84787583479924, 108.02029982720238, 108.86638541650451, 110.46203901178448, 110.75003502654232, 109.62140199573453, 109.69379018322773, 109.67977956629356, 107.73112847735729, 110.38769712159657, 110.41455858772981, 108.93643850117533, 108.597848591933, 108.80022416987094, 110.4347961455236, 109.25167738219406, 110.17754565126016, 110.03627193050734, 109.43303703473077, 111.04192287933745, 112.55195603779752, 110.91037875367779, 110.89558976913617, 110.29391160857449, 110.97965347074114, 110.07129847284276, 110.39665613275838, 111.04854678767688, 111.35326992231892, 110.02615315161044, 112.47840808256923, 112.12035119946448, 113.92188302691595, 114.72126655977084, 116.81741052664351, 116.75514111804723, 116.50917695409187, 117.62341018416178, 116.84387502529697, 118.00714541463641, 118.54188396095708, 117.82539657829601, 116.3659573143204, 117.28832292915297, 116.91081463953796, 116.64616965300371, 118.78668057350123, 118.7788968974267, 120.05503058984696, 119.77520743496738, 118.88786836247023, 118.30020081884271, 120.39011784485578, 120.82989554306707, 118.2418232482837, 117.27664741504118, 116.650061491041, 115.62650808723944, 116.54498186403475, 116.65395332907826, 115.85612653143826, 116.59168392048198, 116.92638199168704, 116.26087768731416, 116.67730435730186, 118.05890686053209, 118.45704189174464, 119.23035010974982, 117.04702897084236, 117.19102697822126, 116.48738266108316, 114.57571181717701, 115.08787770288151, 116.69754191509567, 117.12486573158772, 117.09373102728958, 116.23752665909055, 117.16456247956786, 117.16767594999766, 116.28812055357504, 115.93396329218363, 116.1947164406806, 115.27001572302567, 115.92773635132399, 116.10442579821598, 115.95342248236997, 115.52921213630773, 115.79385712284198, 116.12077151797251, 117.00811059046967, 117.09217429207466, 116.16707660693993, 115.77439793265565, 116.38152466646949, 117.77947288945623, 117.80982922614692, 117.47409592602394, 115.50975294612141, 116.00495820165948, 114.2505020471068, 113.51767672836526, 113.30311969737068, 113.40387160047946, 113.87015271572459, 114.49398321839439, 114.19562713078133, 114.4786338091754, 114.59761508165076, 114.50965954200849, 113.9646932453259, 113.80045768015319, 113.24266388529975, 113.73507480112708, 113.1941093139468, 113.94523405513957, 113.82380870837679, 114.98365428024346, 114.73916901474229, 114.85614988246651, 113.60330494886126, 113.78878216604139, 113.94990426078428, 114.78976290922678, 114.36788766598688, 114.85270171396547, 114.88716004794743, 114.90262621230755, 114.8237153042639, 115.12424303750176, 115.0388171925837, 115.608605632268, 117.56594330370346, 117.93226645079939, 118.07914441832588]}, {\"line\": {\"color\": \"rgba(255, 255, 51, 1.0)\", \"dash\": \"solid\", \"shape\": \"linear\", \"width\": 1.3}, \"mode\": \"lines\", \"name\": \"DE10YT=RR\", \"text\": \"\", \"type\": \"scatter\", \"x\": [\"2019-01-02\", \"2019-01-03\", \"2019-01-04\", \"2019-01-07\", \"2019-01-08\", \"2019-01-09\", \"2019-01-10\", \"2019-01-11\", \"2019-01-14\", \"2019-01-15\", \"2019-01-16\", \"2019-01-17\", \"2019-01-18\", \"2019-01-22\", \"2019-01-23\", \"2019-01-24\", \"2019-01-25\", \"2019-01-28\", \"2019-01-29\", \"2019-01-30\", \"2019-01-31\", \"2019-02-01\", \"2019-02-04\", \"2019-02-05\", \"2019-02-06\", \"2019-02-07\", \"2019-02-08\", \"2019-02-11\", \"2019-02-12\", \"2019-02-13\", \"2019-02-14\", \"2019-02-15\", \"2019-02-19\", \"2019-02-20\", \"2019-02-21\", \"2019-02-22\", \"2019-02-25\", \"2019-02-26\", \"2019-02-27\", \"2019-02-28\", \"2019-03-01\", \"2019-03-04\", \"2019-03-05\", \"2019-03-06\", \"2019-03-07\", \"2019-03-08\", \"2019-03-11\", \"2019-03-12\", \"2019-03-13\", \"2019-03-14\", \"2019-03-15\", \"2019-03-18\", \"2019-03-19\", \"2019-03-20\", \"2019-03-21\", \"2019-03-22\", \"2019-03-25\", \"2019-03-26\", \"2019-03-27\", \"2019-03-28\", \"2019-03-29\", \"2019-04-01\", \"2019-04-02\", \"2019-04-03\", \"2019-04-04\", \"2019-04-05\", \"2019-04-08\", \"2019-04-09\", \"2019-04-10\", \"2019-04-11\", \"2019-04-12\", \"2019-04-15\", \"2019-04-16\", \"2019-04-17\", \"2019-04-18\", \"2019-04-23\", \"2019-04-24\", \"2019-04-25\", \"2019-04-26\", \"2019-04-29\", \"2019-04-30\", \"2019-05-02\", \"2019-05-03\", \"2019-05-06\", \"2019-05-07\", \"2019-05-08\", \"2019-05-09\", \"2019-05-10\", \"2019-05-13\", \"2019-05-14\", \"2019-05-15\", \"2019-05-16\", \"2019-05-17\", \"2019-05-20\", \"2019-05-21\", \"2019-05-22\", \"2019-05-23\", \"2019-05-24\", \"2019-05-28\", \"2019-05-29\", \"2019-05-30\", \"2019-05-31\", \"2019-06-03\", \"2019-06-04\", \"2019-06-05\", \"2019-06-06\", \"2019-06-07\", \"2019-06-10\", \"2019-06-11\", \"2019-06-12\", \"2019-06-13\", \"2019-06-14\", \"2019-06-17\", \"2019-06-18\", \"2019-06-19\", \"2019-06-20\", \"2019-06-21\", \"2019-06-24\", \"2019-06-25\", \"2019-06-26\", \"2019-06-27\", \"2019-06-28\", \"2019-07-01\", \"2019-07-02\", \"2019-07-03\", \"2019-07-05\", \"2019-07-08\", \"2019-07-09\", \"2019-07-10\", \"2019-07-11\", \"2019-07-12\", \"2019-07-15\", \"2019-07-16\", \"2019-07-17\", \"2019-07-18\", \"2019-07-19\", \"2019-07-22\", \"2019-07-23\", \"2019-07-24\", \"2019-07-25\", \"2019-07-26\", \"2019-07-29\", \"2019-07-30\", \"2019-07-31\", \"2019-08-01\", \"2019-08-02\", \"2019-08-05\", \"2019-08-06\", \"2019-08-07\", \"2019-08-08\", \"2019-08-09\", \"2019-08-12\", \"2019-08-13\", \"2019-08-14\", \"2019-08-15\", \"2019-08-16\", \"2019-08-19\", \"2019-08-20\", \"2019-08-21\", \"2019-08-22\", \"2019-08-23\", \"2019-08-26\", \"2019-08-27\", \"2019-08-28\", \"2019-08-29\", \"2019-08-30\", \"2019-09-03\", \"2019-09-04\", \"2019-09-05\", \"2019-09-06\", \"2019-09-09\", \"2019-09-10\", \"2019-09-11\", \"2019-09-12\", \"2019-09-13\", \"2019-09-16\", \"2019-09-17\", \"2019-09-18\", \"2019-09-19\", \"2019-09-20\", \"2019-09-23\", \"2019-09-24\", \"2019-09-25\", \"2019-09-26\", \"2019-09-27\", \"2019-09-30\", \"2019-10-01\", \"2019-10-02\", \"2019-10-03\", \"2019-10-04\", \"2019-10-07\", \"2019-10-08\", \"2019-10-09\", \"2019-10-10\", \"2019-10-11\", \"2019-10-14\", \"2019-10-15\", \"2019-10-16\", \"2019-10-17\", \"2019-10-18\", \"2019-10-21\", \"2019-10-22\", \"2019-10-23\", \"2019-10-24\", \"2019-10-25\", \"2019-10-28\", \"2019-10-29\", \"2019-10-30\", \"2019-10-31\", \"2019-11-01\", \"2019-11-04\", \"2019-11-05\", \"2019-11-06\", \"2019-11-07\", \"2019-11-08\", \"2019-11-11\", \"2019-11-12\", \"2019-11-13\", \"2019-11-14\", \"2019-11-15\", \"2019-11-18\", \"2019-11-19\", \"2019-11-20\", \"2019-11-21\", \"2019-11-22\", \"2019-11-25\", \"2019-11-26\", \"2019-11-27\", \"2019-11-29\", \"2019-12-02\", \"2019-12-03\", \"2019-12-04\", \"2019-12-05\", \"2019-12-06\", \"2019-12-09\", \"2019-12-10\", \"2019-12-11\", \"2019-12-12\", \"2019-12-13\", \"2019-12-16\", \"2019-12-17\", \"2019-12-18\", \"2019-12-19\", \"2019-12-20\", \"2019-12-23\", \"2019-12-27\", \"2019-12-30\", \"2019-12-31\"], \"y\": [100.0, 88.30409356725146, 121.63742690058479, 126.3157894736842, 134.5029239766082, 125.73099415204678, 115.20467836257309, 106.43274853801168, 135.67251461988303, 120.46783625730993, 130.4093567251462, 141.5204678362573, 153.21637426900585, 140.35087719298244, 131.57894736842104, 104.67836257309939, 115.78947368421053, 121.05263157894734, 115.20467836257309, 108.77192982456138, 91.22807017543859, 97.07602339181285, 105.26315789473684, 97.07602339181285, 95.90643274853801, 66.08187134502924, 49.707602339181285, 67.83625730994152, 76.60818713450293, 71.34502923976608, 59.64912280701754, 60.23391812865496, 59.06432748538012, 59.06432748538012, 74.85380116959064, 57.30994152046783, 62.573099415204666, 66.66666666666666, 90.05847953216374, 108.77192982456138, 109.35672514619883, 92.98245614035086, 97.6608187134503, 76.0233918128655, 39.1812865497076, 43.274853801169584, 37.42690058479532, 34.50292397660819, 38.01169590643275, 50.29239766081871, 52.04678362573099, 46.783625730994146, 60.23391812865496, 47.368421052631575, 22.807017543859647, -14.619883040935672, -13.450292397660817, -8.187134502923977, -47.368421052631575, -40.93567251461989, -41.5204678362573, -15.204678362573098, -29.239766081871345, -1.1695906432748537, -2.923976608187134, 2.3391812865497075, 1.1695906432748537, -2.923976608187134, -18.71345029239766, -2.923976608187134, 32.16374269005848, 31.57894736842105, 36.84210526315789, 48.53801169590643, 14.035087719298245, 24.561403508771928, -7.602339181286549, -5.263157894736841, -10.526315789473681, 0.5847953216374269, 8.187134502923977, 14.035087719298245, 11.695906432748536, 5.263157894736841, -21.637426900584792, -25.146198830409354, -29.239766081871345, -28.07017543859649, -43.274853801169584, -41.5204678362573, -56.14035087719298, -53.21637426900584, -61.403508771929815, -51.461988304093566, -34.50292397660819, -46.198830409356724, -70.17543859649122, -68.42105263157895, -90.05847953216374, -101.75438596491226, -98.83040935672514, -117.5438596491228, -116.37426900584795, -121.05263157894734, -129.23976608187132, -136.25730994152045, -149.12280701754386, -128.0701754385965, -135.08771929824562, -137.4269005847953, -142.1052631578947, -149.70760233918128, -143.85964912280699, -188.88888888888889, -167.25146198830407, -188.30409356725147, -164.32748538011697, -180.7017543859649, -194.1520467836257, -178.9473684210526, -184.21052631578948, -190.64327485380116, -210.52631578947367, -213.4502923976608, -224.56140350877192, -209.94152046783623, -220.46783625730995, -208.7719298245614, -178.3625730994152, -154.38596491228068, -143.27485380116957, -173.09941520467834, -170.76023391812862, -169.5906432748538, -180.7017543859649, -188.30409356725147, -202.92397660818708, -208.7719298245614, -221.63742690058479, -211.1111111111111, -220.46783625730995, -228.65497076023388, -232.7485380116959, -254.9707602339181, -264.91228070175436, -286.54970760233914, -297.6608187134503, -314.03508771929825, -338.59649122807014, -326.3157894736842, -339.1812865497076, -347.36842105263156, -356.14035087719293, -379.53216374269005, -409.9415204678362, -397.6608187134503, -377.77777777777777, -404.09356725146193, -393.5672514619883, -374.8538011695906, -392.98245614035085, -391.812865497076, -407.6023391812865, -419.88304093567245, -405.2631578947368, -413.45029239766075, -418.12865497076024, -395.906432748538, -346.1988304093567, -370.17543859649123, -340.93567251461985, -321.6374269005848, -331.57894736842104, -314.6198830409357, -264.91228070175436, -277.1929824561403, -277.1929824561403, -298.8304093567251, -295.32163742690057, -304.093567251462, -339.76608187134497, -353.2163742690058, -343.2748538011695, -339.1812865497076, -337.42690058479525, -333.33333333333326, -325.73099415204683, -318.12865497076024, -341.52046783625724, -343.2748538011695, -336.8421052631578, -349.12280701754383, -324.56140350877195, -286.54970760233914, -256.140350877193, -267.2514619883041, -247.953216374269, -228.65497076023388, -235.67251461988303, -225.73099415204675, -201.75438596491225, -216.37426900584794, -232.16374269005846, -236.84210526315786, -219.29824561403507, -191.81286549707602, -208.7719298245614, -208.7719298245614, -234.5029239766082, -220.46783625730995, -202.92397660818708, -186.54970760233917, -188.88888888888889, -145.6140350877193, -155.55555555555557, -145.02923976608187, -143.27485380116957, -176.6081871345029, -202.3391812865497, -194.1520467836257, -195.906432748538, -198.83040935672514, -206.43274853801165, -189.4736842105263, -209.94152046783623, -204.67836257309938, -219.8830409356725, -215.20467836257308, -207.0175438596491, -162.5730994152047, -201.75438596491225, -184.21052631578948, -171.92982456140348, -170.1754385964912, -176.6081871345029, -173.09941520467834, -188.30409356725147, -154.97076023391813, -171.92982456140348, -159.64912280701756, -169.5906432748538, -146.78362573099415, -137.4269005847953, -143.85964912280699, -143.27485380116957, -149.70760233918128, -105.84795321637426, -109.35672514619883]}],\n                        {\"legend\": {\"bgcolor\": \"#F5F6F9\", \"font\": {\"color\": \"#4D5663\"}}, \"paper_bgcolor\": \"#F5F6F9\", \"plot_bgcolor\": \"#F5F6F9\", \"template\": {\"data\": {\"bar\": [{\"error_x\": {\"color\": \"#2a3f5f\"}, \"error_y\": {\"color\": \"#2a3f5f\"}, \"marker\": {\"line\": {\"color\": \"#E5ECF6\", \"width\": 0.5}}, \"type\": \"bar\"}], \"barpolar\": [{\"marker\": {\"line\": {\"color\": \"#E5ECF6\", \"width\": 0.5}}, \"type\": \"barpolar\"}], \"carpet\": [{\"aaxis\": {\"endlinecolor\": \"#2a3f5f\", \"gridcolor\": \"white\", \"linecolor\": \"white\", \"minorgridcolor\": \"white\", \"startlinecolor\": \"#2a3f5f\"}, \"baxis\": {\"endlinecolor\": \"#2a3f5f\", \"gridcolor\": \"white\", \"linecolor\": \"white\", \"minorgridcolor\": \"white\", \"startlinecolor\": \"#2a3f5f\"}, \"type\": \"carpet\"}], \"choropleth\": [{\"colorbar\": {\"outlinewidth\": 0, \"ticks\": \"\"}, \"type\": \"choropleth\"}], \"contour\": [{\"colorbar\": {\"outlinewidth\": 0, \"ticks\": \"\"}, \"colorscale\": [[0.0, \"#0d0887\"], [0.1111111111111111, \"#46039f\"], [0.2222222222222222, \"#7201a8\"], [0.3333333333333333, \"#9c179e\"], [0.4444444444444444, \"#bd3786\"], [0.5555555555555556, \"#d8576b\"], [0.6666666666666666, \"#ed7953\"], [0.7777777777777778, \"#fb9f3a\"], [0.8888888888888888, \"#fdca26\"], [1.0, \"#f0f921\"]], \"type\": \"contour\"}], \"contourcarpet\": [{\"colorbar\": {\"outlinewidth\": 0, \"ticks\": \"\"}, \"type\": \"contourcarpet\"}], \"heatmap\": [{\"colorbar\": {\"outlinewidth\": 0, \"ticks\": \"\"}, \"colorscale\": [[0.0, \"#0d0887\"], [0.1111111111111111, \"#46039f\"], [0.2222222222222222, \"#7201a8\"], [0.3333333333333333, \"#9c179e\"], [0.4444444444444444, \"#bd3786\"], [0.5555555555555556, \"#d8576b\"], [0.6666666666666666, \"#ed7953\"], [0.7777777777777778, \"#fb9f3a\"], [0.8888888888888888, \"#fdca26\"], [1.0, \"#f0f921\"]], \"type\": \"heatmap\"}], \"heatmapgl\": [{\"colorbar\": {\"outlinewidth\": 0, \"ticks\": \"\"}, \"colorscale\": [[0.0, \"#0d0887\"], [0.1111111111111111, \"#46039f\"], [0.2222222222222222, \"#7201a8\"], [0.3333333333333333, \"#9c179e\"], [0.4444444444444444, \"#bd3786\"], [0.5555555555555556, \"#d8576b\"], [0.6666666666666666, \"#ed7953\"], [0.7777777777777778, \"#fb9f3a\"], [0.8888888888888888, \"#fdca26\"], [1.0, \"#f0f921\"]], \"type\": \"heatmapgl\"}], \"histogram\": [{\"marker\": {\"colorbar\": {\"outlinewidth\": 0, \"ticks\": \"\"}}, \"type\": \"histogram\"}], \"histogram2d\": [{\"colorbar\": {\"outlinewidth\": 0, \"ticks\": \"\"}, \"colorscale\": [[0.0, \"#0d0887\"], [0.1111111111111111, \"#46039f\"], [0.2222222222222222, \"#7201a8\"], [0.3333333333333333, \"#9c179e\"], [0.4444444444444444, \"#bd3786\"], [0.5555555555555556, \"#d8576b\"], [0.6666666666666666, \"#ed7953\"], [0.7777777777777778, \"#fb9f3a\"], [0.8888888888888888, \"#fdca26\"], [1.0, \"#f0f921\"]], \"type\": \"histogram2d\"}], \"histogram2dcontour\": [{\"colorbar\": {\"outlinewidth\": 0, \"ticks\": \"\"}, \"colorscale\": [[0.0, \"#0d0887\"], [0.1111111111111111, \"#46039f\"], [0.2222222222222222, \"#7201a8\"], [0.3333333333333333, \"#9c179e\"], [0.4444444444444444, \"#bd3786\"], [0.5555555555555556, \"#d8576b\"], [0.6666666666666666, \"#ed7953\"], [0.7777777777777778, \"#fb9f3a\"], [0.8888888888888888, \"#fdca26\"], [1.0, \"#f0f921\"]], \"type\": \"histogram2dcontour\"}], \"mesh3d\": [{\"colorbar\": {\"outlinewidth\": 0, \"ticks\": \"\"}, \"type\": \"mesh3d\"}], \"parcoords\": [{\"line\": {\"colorbar\": {\"outlinewidth\": 0, \"ticks\": \"\"}}, \"type\": \"parcoords\"}], \"pie\": [{\"automargin\": true, \"type\": \"pie\"}], \"scatter\": [{\"marker\": {\"colorbar\": {\"outlinewidth\": 0, \"ticks\": \"\"}}, \"type\": \"scatter\"}], \"scatter3d\": [{\"line\": {\"colorbar\": {\"outlinewidth\": 0, \"ticks\": \"\"}}, \"marker\": {\"colorbar\": {\"outlinewidth\": 0, \"ticks\": \"\"}}, \"type\": \"scatter3d\"}], \"scattercarpet\": [{\"marker\": {\"colorbar\": {\"outlinewidth\": 0, \"ticks\": \"\"}}, \"type\": \"scattercarpet\"}], \"scattergeo\": [{\"marker\": {\"colorbar\": {\"outlinewidth\": 0, \"ticks\": \"\"}}, \"type\": \"scattergeo\"}], \"scattergl\": [{\"marker\": {\"colorbar\": {\"outlinewidth\": 0, \"ticks\": \"\"}}, \"type\": \"scattergl\"}], \"scattermapbox\": [{\"marker\": {\"colorbar\": {\"outlinewidth\": 0, \"ticks\": \"\"}}, \"type\": \"scattermapbox\"}], \"scatterpolar\": [{\"marker\": {\"colorbar\": {\"outlinewidth\": 0, \"ticks\": \"\"}}, \"type\": \"scatterpolar\"}], \"scatterpolargl\": [{\"marker\": {\"colorbar\": {\"outlinewidth\": 0, \"ticks\": \"\"}}, \"type\": \"scatterpolargl\"}], \"scatterternary\": [{\"marker\": {\"colorbar\": {\"outlinewidth\": 0, \"ticks\": \"\"}}, \"type\": \"scatterternary\"}], \"surface\": [{\"colorbar\": {\"outlinewidth\": 0, \"ticks\": \"\"}, \"colorscale\": [[0.0, \"#0d0887\"], [0.1111111111111111, \"#46039f\"], [0.2222222222222222, \"#7201a8\"], [0.3333333333333333, \"#9c179e\"], [0.4444444444444444, \"#bd3786\"], [0.5555555555555556, \"#d8576b\"], [0.6666666666666666, \"#ed7953\"], [0.7777777777777778, \"#fb9f3a\"], [0.8888888888888888, \"#fdca26\"], [1.0, \"#f0f921\"]], \"type\": \"surface\"}], \"table\": [{\"cells\": {\"fill\": {\"color\": \"#EBF0F8\"}, \"line\": {\"color\": \"white\"}}, \"header\": {\"fill\": {\"color\": \"#C8D4E3\"}, \"line\": {\"color\": \"white\"}}, \"type\": \"table\"}]}, \"layout\": {\"annotationdefaults\": {\"arrowcolor\": \"#2a3f5f\", \"arrowhead\": 0, \"arrowwidth\": 1}, \"coloraxis\": {\"colorbar\": {\"outlinewidth\": 0, \"ticks\": \"\"}}, \"colorscale\": {\"diverging\": [[0, \"#8e0152\"], [0.1, \"#c51b7d\"], [0.2, \"#de77ae\"], [0.3, \"#f1b6da\"], [0.4, \"#fde0ef\"], [0.5, \"#f7f7f7\"], [0.6, \"#e6f5d0\"], [0.7, \"#b8e186\"], [0.8, \"#7fbc41\"], [0.9, \"#4d9221\"], [1, \"#276419\"]], \"sequential\": [[0.0, \"#0d0887\"], [0.1111111111111111, \"#46039f\"], [0.2222222222222222, \"#7201a8\"], [0.3333333333333333, \"#9c179e\"], [0.4444444444444444, \"#bd3786\"], [0.5555555555555556, \"#d8576b\"], [0.6666666666666666, \"#ed7953\"], [0.7777777777777778, \"#fb9f3a\"], [0.8888888888888888, \"#fdca26\"], [1.0, \"#f0f921\"]], \"sequentialminus\": [[0.0, \"#0d0887\"], [0.1111111111111111, \"#46039f\"], [0.2222222222222222, \"#7201a8\"], [0.3333333333333333, \"#9c179e\"], [0.4444444444444444, \"#bd3786\"], [0.5555555555555556, \"#d8576b\"], [0.6666666666666666, \"#ed7953\"], [0.7777777777777778, \"#fb9f3a\"], [0.8888888888888888, \"#fdca26\"], [1.0, \"#f0f921\"]]}, \"colorway\": [\"#636efa\", \"#EF553B\", \"#00cc96\", \"#ab63fa\", \"#FFA15A\", \"#19d3f3\", \"#FF6692\", \"#B6E880\", \"#FF97FF\", \"#FECB52\"], \"font\": {\"color\": \"#2a3f5f\"}, \"geo\": {\"bgcolor\": \"white\", \"lakecolor\": \"white\", \"landcolor\": \"#E5ECF6\", \"showlakes\": true, \"showland\": true, \"subunitcolor\": \"white\"}, \"hoverlabel\": {\"align\": \"left\"}, \"hovermode\": \"closest\", \"mapbox\": {\"style\": \"light\"}, \"paper_bgcolor\": \"white\", \"plot_bgcolor\": \"#E5ECF6\", \"polar\": {\"angularaxis\": {\"gridcolor\": \"white\", \"linecolor\": \"white\", \"ticks\": \"\"}, \"bgcolor\": \"#E5ECF6\", \"radialaxis\": {\"gridcolor\": \"white\", \"linecolor\": \"white\", \"ticks\": \"\"}}, \"scene\": {\"xaxis\": {\"backgroundcolor\": \"#E5ECF6\", \"gridcolor\": \"white\", \"gridwidth\": 2, \"linecolor\": \"white\", \"showbackground\": true, \"ticks\": \"\", \"zerolinecolor\": \"white\"}, \"yaxis\": {\"backgroundcolor\": \"#E5ECF6\", \"gridcolor\": \"white\", \"gridwidth\": 2, \"linecolor\": \"white\", \"showbackground\": true, \"ticks\": \"\", \"zerolinecolor\": \"white\"}, \"zaxis\": {\"backgroundcolor\": \"#E5ECF6\", \"gridcolor\": \"white\", \"gridwidth\": 2, \"linecolor\": \"white\", \"showbackground\": true, \"ticks\": \"\", \"zerolinecolor\": \"white\"}}, \"shapedefaults\": {\"line\": {\"color\": \"#2a3f5f\"}}, \"ternary\": {\"aaxis\": {\"gridcolor\": \"white\", \"linecolor\": \"white\", \"ticks\": \"\"}, \"baxis\": {\"gridcolor\": \"white\", \"linecolor\": \"white\", \"ticks\": \"\"}, \"bgcolor\": \"#E5ECF6\", \"caxis\": {\"gridcolor\": \"white\", \"linecolor\": \"white\", \"ticks\": \"\"}}, \"title\": {\"x\": 0.05}, \"xaxis\": {\"automargin\": true, \"gridcolor\": \"white\", \"linecolor\": \"white\", \"ticks\": \"\", \"title\": {\"standoff\": 15}, \"zerolinecolor\": \"white\", \"zerolinewidth\": 2}, \"yaxis\": {\"automargin\": true, \"gridcolor\": \"white\", \"linecolor\": \"white\", \"ticks\": \"\", \"title\": {\"standoff\": 15}, \"zerolinecolor\": \"white\", \"zerolinewidth\": 2}}}, \"title\": {\"font\": {\"color\": \"#4D5663\"}}, \"xaxis\": {\"gridcolor\": \"#E1E5ED\", \"showgrid\": true, \"tickfont\": {\"color\": \"#4D5663\"}, \"title\": {\"font\": {\"color\": \"#4D5663\"}, \"text\": \"\"}, \"zerolinecolor\": \"#E1E5ED\"}, \"yaxis\": {\"gridcolor\": \"#E1E5ED\", \"showgrid\": true, \"tickfont\": {\"color\": \"#4D5663\"}, \"title\": {\"font\": {\"color\": \"#4D5663\"}, \"text\": \"\"}, \"zerolinecolor\": \"#E1E5ED\"}},\n                        {\"showLink\": true, \"linkText\": \"Export to plot.ly\", \"plotlyServerURL\": \"https://plot.ly\", \"responsive\": true}\n                    ).then(function(){\n                            \nvar gd = document.getElementById('e7e9dbae-8cc0-40b8-8a37-f242cdf2bb69');\nvar x = new MutationObserver(function (mutations, observer) {{\n        var display = window.getComputedStyle(gd).display;\n        if (!display || display === 'none') {{\n            console.log([gd, 'removed!']);\n            Plotly.purge(gd);\n            observer.disconnect();\n        }}\n}});\n\n// Listen for the removal of the full notebook cells\nvar notebookContainer = gd.closest('#notebook-container');\nif (notebookContainer) {{\n    x.observe(notebookContainer, {childList: true});\n}}\n\n// Listen for the clearing of the current output cell\nvar outputEl = gd.closest('.output');\nif (outputEl) {{\n    x.observe(outputEl, {childList: true});\n}}\n\n                        })\n                };\n                });\n            </script>\n        </div>"
     },
     "metadata": {}
    }
   ],
   "source": [
    "data.normalize().iplot(kind='lines')"
   ]
  },
  {
   "cell_type": "markdown",
   "metadata": {},
   "source": [
    "The frequeny distributions, i.e. the **histograms**, of the log returns per `RIC`."
   ]
  },
  {
   "cell_type": "code",
   "execution_count": 19,
   "metadata": {},
   "outputs": [
    {
     "output_type": "display_data",
     "data": {
      "application/vnd.plotly.v1+json": {
       "config": {
        "linkText": "Export to plot.ly",
        "plotlyServerURL": "https://plot.ly",
        "showLink": true
       },
       "data": [
        {
         "histfunc": "count",
         "histnorm": "",
         "marker": {
          "color": "rgba(255, 153, 51, 1.0)",
          "line": {
           "color": "#4D5663",
           "width": 1.3
          }
         },
         "name": "GE",
         "opacity": 0.8,
         "orientation": "v",
         "type": "histogram",
         "x": [
          null,
          0.0012414650880647237,
          0.020872458170441553,
          0.06012417497846553,
          -0.020809999513793292,
          -0.007034026657380048,
          0.050469425689152,
          0,
          -0.004484312447328464,
          -0.01928590688658323,
          0.028234512462597516,
          0.017660503151950314,
          -0.008791265411170658,
          -0.04515439748054418,
          0.00805064727716699,
          0.005711037795514434,
          0.042369771039013675,
          -0.02542978379763108,
          -0.0033651181503135588,
          0.022223136784710256,
          0.1101840286275315,
          0.0029484050842973858,
          0.001960784941941067,
          0.040312560177282165,
          -0.015166167471411045,
          -0.039946860210852336,
          -0.025164891094321358,
          0.022178328396572293,
          -0.00499751165047151,
          0.03833393191806313,
          -0.0323399079778527,
          0.004967720101934447,
          0.003956483895074507,
          -0.0029658944133785104,
          -0.00695482187336961,
          0.013861608086624512,
          0.06195406335786693,
          0.024621863170093992,
          0.020427822690098223,
          -0.04608243631666055,
          -0.011616781170669232,
          0.010653853797275807,
          -0.048356732103121816,
          -0.08215143436275393,
          0.03664203023378452,
          0.01366285047711789,
          0.03285716515777502,
          -0.014242356715543216,
          0.026290695231717516,
          0.027560799578871416,
          -0.03356682363908316,
          0.023810648693718392,
          -0.000980873055591948,
          0.002939737540924974,
          0.0048804391649083486,
          -0.02864393361709413,
          -0.01007057856359617,
          0.022022912087437254,
          -0.013958352250706801,
          -0.007052925961886096,
          0.01006044702584126,
          0.01095083118675148,
          0.01376619576414797,
          -0.013766195764147959,
          -0.00695482187336961,
          -0.0019960086467149273,
          -0.053345980705292624,
          -0.028863575053334024,
          -0.0065288588824636675,
          -0.004376374599799,
          -0.013245226750020567,
          -0.0022246950221110513,
          0.017660503151950314,
          -0.002190581379818809,
          0.02490653921435566,
          -0.0021413284413431153,
          -0.0010723861617525938,
          -0.021692824611259896,
          0.04816340137862294,
          0.01658069073305074,
          0.04422831386255474,
          0.007835495523948638,
          0.024097551579060524,
          -0.006688988150796652,
          -0.03116123598030105,
          0.004933409117955772,
          -0.011881327886752788,
          0.008924203997009088,
          -0.026001464815201943,
          0.0445839066080266,
          -0.00583092031079321,
          -0.012751521482031378,
          -0.012916225266546401,
          -0.012072581234269136,
          0.008064559836730495,
          -0.006042314455962698,
          -0.03494703007723433,
          -0.011572985557658632,
          -0.009569451016150672,
          0.001067805760830137,
          0.0106158109476561,
          -0.0031729270405777203,
          0.009488737508701453,
          0.048140375327935025,
          -0.011060947359424835,
          0.0030287756621605686,
          0.006030169026591231,
          0.006989544181712103,
          0.006941029354234542,
          0.015686596167699473,
          0.002914038001849719,
          -0.007789718065333478,
          -0.01775194545845034,
          0.036154401820136,
          -0.007707167244937778,
          0.027660323273573612,
          -0.014211513460960471,
          -0.019268418865877143,
          -0.005853675251460541,
          0.0048804391649083486,
          0.012578782206860185,
          0.009569451016150672,
          0.012304935190378874,
          -0.0009411765400639644,
          -0.0009420631879010176,
          -0.010421695462414072,
          -0.028987536873252413,
          0.00488998529419177,
          -0.004889985294191904,
          -0.008862687257845317,
          0.025391989209055842,
          -0.009689998300969057,
          0.010653853797275807,
          -0.03929778741436999,
          0.007984074348220549,
          -0.0019900504080101475,
          0.016790517912991253,
          0.042192259978859954,
          0.0028129413766146577,
          -0.023686564519367705,
          0.007640915876178794,
          -0.012446307151117044,
          0.013397329571821125,
          -0.006676228898743821,
          -0.03604871576759737,
          -0.007968169649176845,
          -0.03459144476961909,
          -0.009360442759563695,
          -0.011560822401075971,
          0.0031662295580495133,
          -0.036484733334406556,
          -0.010989121575595206,
          0.032611585588760796,
          -0.03482397587170165,
          -0.11986160634862615,
          0.0929239506168178,
          -0.013745920904635014,
          -0.03402087629845873,
          -0.026603745517976136,
          0.0036697288889624017,
          -0.0272294050628544,
          0.009987598628348412,
          -0.015019055783715459,
          0.0012602396122877732,
          0.021184592868277095,
          0.01711533221926818,
          0.009650255832161768,
          0.054888265305409634,
          0.0011357184639274286,
          -0.011415649083676656,
          0.028298436122427672,
          0.019890158479219412,
          0.0237849050234419,
          -0.010741241831412625,
          0.008602203582663288,
          0.004273510777382085,
          -0.002134472528632792,
          0.002134472528632841,
          0.00425532557013827,
          -0.005321992337940981,
          -0.003206844009579446,
          -0.04042057617004647,
          0.02096050261533399,
          -0.015401844611506703,
          0.0022148403295528213,
          -0.011123585218662316,
          -0.03761127074578335,
          -0.011682375854356568,
          0.02322984827912885,
          -0.016204058254723028,
          -0.0011675424560377012,
          -0.03325722175648259,
          0.008418570465595826,
          0.01190490250631824,
          0.04058528011507851,
          -0.009132483563272587,
          0.019307811604925024,
          0.0011242272122809105,
          0.01560789766599075,
          -0.008888947417245815,
          -0.019155515289753716,
          0.030254408357802562,
          0.008791265411170724,
          -0.021006853179294772,
          0.0055710450494554295,
          0.007747686790825957,
          0,
          0.10855276890533472,
          -0.012941942709007292,
          0.03929778741437001,
          0.051630424450704544,
          0.0036529720986916633,
          0.004547529437629516,
          0.024205574436802182,
          0.02016727710617459,
          -0.014866911340333473,
          0.00614846030045248,
          -0.01144882606629354,
          0,
          0.02016727710617459,
          -0.006968669316093316,
          0.005231049417552503,
          -0.009611257910113599,
          0.012216556821876676,
          0.0017331026868350958,
          0.002594035177046528,
          -0.020061728217437538,
          -0.005300365765841052,
          -0.0017730501098856923,
          -0.00980837109852004,
          -0.015350188537634833,
          -0.008222979180431992,
          -0.010143009965054866,
          0.028325329048245175,
          -0.009959339902758355,
          0.001818182319058505,
          -0.0036396764474496595,
          0.041951711664512774,
          -0.008779687652045837,
          -0.015104685218496642,
          -0.006286504762820949,
          -0.012692826798418846,
          0.007272759329079657,
          -0.0009062075835380977,
          0.011717123687753897,
          0.0017905107737882938,
          -0.008984786407815297,
          0.007194275634027231
         ],
         "xaxis": "x",
         "yaxis": "y"
        },
        {
         "histfunc": "count",
         "histnorm": "",
         "marker": {
          "color": "rgba(55, 128, 191, 1.0)",
          "line": {
           "color": "#4D5663",
           "width": 1.3
          }
         },
         "name": "AAPL.O",
         "opacity": 0.8,
         "orientation": "v",
         "type": "histogram",
         "x": [
          null,
          -0.10492438427688831,
          0.04180329782029066,
          -0.0022283003244291597,
          0.01888364670315034,
          0.01683917971506794,
          0.0031910417491808744,
          -0.009866459207944251,
          -0.015151303767343681,
          0.020260039007360012,
          0.012142612100140771,
          0.005920223211658483,
          0.006140482387360865,
          -0.022701864925007316,
          0.004036201039627685,
          -0.00795777469280962,
          0.032599678629738615,
          -0.009297653426894203,
          -0.010418770688334572,
          0.06610101199269938,
          0.007175405382944846,
          0.0004805382120342681,
          0.028009054815559917,
          0.016964770122258957,
          0.00034441192005689816,
          -0.019121041446778512,
          -0.0031053196185706366,
          -0.0057674359492863305,
          0.008580212488802528,
          -0.004163374237406114,
          0.0036365809330583436,
          -0.0022273029546597293,
          0.0029881375683668745,
          0.006414764240771072,
          -0.00565450805631222,
          0.01110379690319628,
          0.0072580963789818705,
          0.0005737893203100717,
          0.003092785970444154,
          -0.009884569877137126,
          0.01045625980809737,
          0.005016828263462965,
          -0.0018213904517370076,
          -0.005770620212845565,
          -0.011642111783994503,
          0.002373991445283512,
          0.034055762597975596,
          0.011172679518496185,
          0.0044123396277958105,
          0.011055278970677722,
          0.012924338344804514,
          0.010156713173957166,
          -0.007956256093933647,
          0.008700580653790806,
          0.03616832583890811,
          -0.02092581665626109,
          -0.012164767299721994,
          -0.010385415421975358,
          0.008953851857324736,
          0.0013255920708832372,
          0.0064964445342148396,
          0.006768304124268134,
          0.01443206277523486,
          0.00683157496794202,
          0.0017389529750348404,
          0.00667195426187413,
          0.015613512851699297,
          -0.0030030052597695457,
          0.005598335125421055,
          -0.008359034582401502,
          -0.00040219195152770405,
          0.001808591299322062,
          0.00010038144959242428,
          0.01928585049533919,
          0.00358731557460301,
          0.017601465742932504,
          -0.0015435079275087137,
          -0.009116540688364415,
          -0.00478539904374986,
          0.0015162263548915062,
          -0.019443960380041692,
          0.041389930089781056,
          0.012354635643956283,
          -0.015563220155628835,
          -0.02732702742868527,
          0.00019716088391932133,
          -0.01080234477360228,
          -0.017793884911271513,
          -0.059876853995174346,
          0.015706290069986212,
          0.011908038915988677,
          -0.004409455963415554,
          -0.005698021114637779,
          -0.03176917983512906,
          0.018989453188730094,
          -0.02068404456918788,
          -0.017217068042995082,
          -0.0038479817717436407,
          -0.004143342993557244,
          -0.004780527087453463,
          0.005173200920788493,
          -0.018281630924253847,
          -0.010161697223280449,
          0.03593065149797671,
          0.016014478869193965,
          0.01457498065339172,
          0.02626892663214572,
          0.012698417437869296,
          0.011513072780974794,
          -0.003187663367584239,
          -0.0002060050478521318,
          -0.007288925754534958,
          0.0059488575197722635,
          0.02324619128616053,
          -0.002926929824725631,
          0.008003465569373308,
          -0.003415029433862381,
          -0.0010066439344114438,
          -0.015273670000890454,
          0.021398494609895607,
          -0.0003003453994645281,
          -0.009153612170810965,
          0.01817458091899706,
          0.005837554916927553,
          0.008252736331783386,
          -0.0008809710828194013,
          -0.020829448180696448,
          0.006080864074747711,
          0.009840116979097898,
          -0.007309035452157465,
          0.0076534134842428025,
          0.009351124418371954,
          -0.0034658695698165896,
          -0.005639343129622872,
          0.01129568744781095,
          -0.015040087546184295,
          0.022596798568745524,
          0.00778737771874589,
          -0.0008143517970583359,
          -0.007938649789689105,
          0.0034718908440613287,
          0.009295261215485604,
          -0.004301493034998572,
          0.020198875525524452,
          -0.021876688052097398,
          -0.021385225199206482,
          -0.053767731217913485,
          0.018753431701529048,
          0.010302080812826029,
          0.021816155813045975,
          -0.012066809786199935,
          -0.002540664429902454,
          0.041476209844248525,
          -0.030217007996484326,
          -0.004993953368832868,
          0.02332067277439805,
          0.01847239763544248,
          0.00004753868461353709,
          0.010780246243791704,
          -0.0008468596130676816,
          -0.04732272965844766,
          0.01882097938496287,
          -0.011347984921957514,
          0.006688008526492317,
          0.016790089027219835,
          -0.0012926393182315016,
          -0.01467066173299424,
          0.016824133242117543,
          0.01936292652936958,
          -0.00009377784036514627,
          0.004258013592445441,
          0.011743816359834488,
          0.031300109019398815,
          -0.0022611528075855963,
          -0.019623339516402778,
          0.005243372322991682,
          0.00363141570197524,
          0.009335535814091937,
          -0.00815815941580054,
          -0.014725926596754473,
          0.004536609911411856,
          -0.004766278500648565,
          0.015272344436359988,
          -0.005171017600671681,
          -0.0048779472620353,
          0.023262640265735535,
          0.0027644034012519973,
          -0.02538745298320772,
          0.008458825278567127,
          0.027646179363548958,
          0.00022023036184768487,
          -0.011784126087846273,
          0.011651993690992643,
          0.01338836939190756,
          0.026250703138175204,
          -0.0014404340738325713,
          -0.002334515799528931,
          -0.004045226832471995,
          0.0038752310819564484,
          0.004791291575966874,
          0.017194082901263532,
          -0.002289425938077481,
          0.013329667083379933,
          0.001643520790692368,
          0.012241053781442197,
          0.009967195078885764,
          -0.023399532095262503,
          -0.00012331723373965468,
          0.022357746045398162,
          0.027985495935558668,
          0.0065456479325438485,
          -0.0014379265248897698,
          0.00042770768776131507,
          0.008477415432031041,
          0.002733030936901108,
          0.007887623694004784,
          -0.0009157509797466719,
          0.009536002965696474,
          -0.0069435501222121065,
          0.011809372671647542,
          0.005029474250930601,
          -0.003037179634604965,
          -0.011709735672908094,
          -0.00449353383675134,
          -0.0008782146080777689,
          0.017381863348771995,
          -0.007839334610553009,
          0.013342802199318405,
          -0.0022052373959558008,
          -0.011629569733336675,
          -0.017990974358069328,
          0.008787638813585888,
          0.014564468934846784,
          0.019132023639153513,
          -0.014099149165929161,
          0.005827435243435455,
          0.008493328756820118,
          0.002545046834157413,
          0.013501604635948721,
          0.01697307462179971,
          0.001963339735034386,
          -0.0023922175114439,
          0.0010004288386213317,
          -0.002073428691202643,
          0.01618663766262948,
          0.020216791725376045,
          0.005917584185011465,
          0.007279967896935055
         ],
         "xaxis": "x2",
         "yaxis": "y2"
        },
        {
         "histfunc": "count",
         "histnorm": "",
         "marker": {
          "color": "rgba(50, 171, 96, 1.0)",
          "line": {
           "color": "#4D5663",
           "width": 1.3
          }
         },
         "name": ".SPX",
         "opacity": 0.8,
         "orientation": "v",
         "type": "histogram",
         "x": [
          null,
          -0.025068276263535243,
          0.03375937831872888,
          0.006985975834124729,
          0.009648598495866724,
          0.004089652304170427,
          0.004508267632578381,
          -0.0001463536754715011,
          -0.005271432420136155,
          0.0106646417681244,
          0.002219501906088628,
          0.007562782854258203,
          0.013096912647036883,
          -0.014258454363476867,
          0.002200471333308696,
          0.0013747320396555432,
          0.00845289360249617,
          -0.007877809121115848,
          -0.0014572709979783426,
          0.015429591679246102,
          0.008560630907940894,
          0.0008982318744328292,
          0.006753348935356753,
          0.004697431279443067,
          -0.0022269728784431774,
          -0.009401171920809304,
          0.0006760338865466208,
          0.000708790508255086,
          0.012807878037835878,
          0.0030194138361176875,
          -0.002655145628696972,
          0.010819962367806283,
          0.001497652997307533,
          0.001775554608288014,
          -0.0035326446287138233,
          0.006390624438174243,
          0.0012310380564024776,
          -0.0007906963011304784,
          -0.0005441904227899106,
          -0.0028295460586895897,
          0.006871673980360752,
          -0.0038881492742662512,
          -0.0011321175028613038,
          -0.006545490992497904,
          -0.008158903888960062,
          -0.0021340139198386563,
          0.01455954294099511,
          0.0029489762744178273,
          0.00692558154704747,
          -0.0008684201706034471,
          0.004972519373935739,
          0.003699110562037016,
          -0.00013061489628502955,
          -0.002948665691828101,
          0.010794049627223466,
          -0.01915685423505291,
          -0.0008394251681050246,
          0.007157105194891676,
          -0.0046551989086819415,
          0.003583117299404196,
          0.00671171968568772,
          0.01150218150005278,
          0.000017438524840564605,
          0.0021461030004631186,
          0.0020824685638528733,
          0.004625683691842571,
          0.0010469016298636597,
          -0.00608595272610467,
          0.003471834314499749,
          0.00003808514800869783,
          0.006587632286936534,
          -0.000629624362145833,
          0.0005092350573861668,
          -0.0022763638303940604,
          0.0015778199046987368,
          0.009813890378385492,
          -0.0021941919046150143,
          -0.0003690150415501984,
          0.004674363485904015,
          0.0010708986882482718,
          0.000950948132916521,
          -0.009656670672905288,
          0.009592170641481537,
          -0.0044810396666553265,
          -0.01664951500981834,
          -0.0016066713268179022,
          -0.0030260155887187833,
          0.0037134177564540913,
          -0.024426544706444165,
          0.007984060207655182,
          0.005821977020810247,
          0.008855919648712162,
          -0.0058544236531281706,
          -0.006772240853415355,
          0.008459904713623807,
          -0.0028283616990028514,
          -0.011985681943016436,
          0.0013526195784275823,
          -0.008410890934652838,
          -0.006935955517473813,
          0.0020962411748005594,
          -0.013283188023120184,
          -0.00276903157185015,
          0.02120590232217955,
          0.00812876850064147,
          0.006116809555866062,
          0.01044294522456708,
          0.004649257428952238,
          -0.00034993807146250003,
          -0.0020396984988729416,
          0.004089078171241749,
          -0.001612842169983723,
          0.000931335703024821,
          0.009670462557011119,
          0.002980730141062033,
          0.009427615127716307,
          -0.00126002618014856,
          -0.0017334348561240606,
          -0.009541702315563342,
          -0.0012347459021461497,
          0.003815922557317216,
          0.005740911810813222,
          0.00764299557558019,
          0.0029238703472561083,
          0.007643076127192919,
          -0.0018074819954691978,
          -0.004847185993376031,
          0.0012358159804265049,
          0.004500484767317741,
          0.0022826717159195975,
          0.0046094985236418,
          0.00017584401022740885,
          -0.003409581359505424,
          -0.006552626285154946,
          0.003575535665450798,
          -0.006195889687754784,
          0.0028247279603128136,
          0.006824164701727632,
          0.00467716366089344,
          -0.005276251069020221,
          0.007360474259664691,
          -0.001617376729950298,
          -0.002581972383093503,
          -0.010945190319276599,
          -0.009039586726804723,
          -0.007309385354454939,
          -0.03023016208358668,
          0.012933013700777157,
          0.0007665958837026665,
          0.018588425780336086,
          -0.006638529760062074,
          -0.012029650100344293,
          0.014654130432155564,
          -0.029730363473091367,
          0.002461236782690441,
          0.014323116131046663,
          0.012033185301994735,
          -0.0079462520811493,
          0.008213006299499564,
          -0.0005062096294763871,
          -0.026288935558066755,
          0.01092319117394898,
          -0.003208331880684989,
          0.00652414118680143,
          0.01260743543874108,
          0.0006426208211523476,
          -0.006923029401107576,
          0.010783722026351545,
          0.012925922894213253,
          0.0009102039182753089,
          -0.00009400484131865216,
          0.00032226552944139824,
          0.007203659050794233,
          0.002874970784836015,
          -0.0007246184436619995,
          -0.0031405356059661417,
          0.002578428587944307,
          0.00034262353493549175,
          0.00001995503465594414,
          -0.004907608960300919,
          -0.00009692756343391435,
          -0.008452012089671584,
          0.006139678900037132,
          -0.0024318711052058748,
          -0.005330508411847584,
          0.005034926684707536,
          -0.012334130226057026,
          -0.01806544138860686,
          0.007940382236732714,
          0.0141167416692291,
          -0.004488362257589361,
          -0.015683166513284146,
          0.009063350218850439,
          0.006395208846051041,
          0.010879533213144676,
          -0.0013880421740668583,
          0.009906435272235942,
          -0.0020015477739079852,
          0.002759018658342625,
          -0.003927045645713622,
          0.0068481074978751595,
          -0.0035750557426104746,
          0.0028430935856431803,
          0.0019185981834693214,
          0.0040644263323678705,
          0.005565861774647979,
          -0.0008327422880678223,
          0.0032480476180495634,
          -0.00302745151380397,
          0.009615978507102713,
          0.003697210802720748,
          -0.001186434481407325,
          0.0007022791848279718,
          0.0027264069235454487,
          0.002557355729783027,
          -0.001964373318799635,
          0.00156339803808006,
          0.0007112973716774344,
          0.0008367430830954413,
          0.007666003452600061,
          0.0005030044207048551,
          -0.0005927388069818729,
          -0.003763265763221234,
          -0.0015840312391350534,
          0.002172573969691297,
          0.007479298726807982,
          0.002193123145604235,
          0.004165779003972946,
          -0.004019317171346202,
          -0.008668527546202967,
          -0.006660171838373699,
          0.006303638685847347,
          0.0014991519920369975,
          0.00909425204036833,
          -0.0031678491662223223,
          -0.0010975548602935618,
          0.0029039810658439487,
          0.008538608499854607,
          0.00007258531539142115,
          0.007122391651237605,
          0.0003352146109771036,
          -0.00043235386016704703,
          0.004449308599583262,
          0.004932641459037748,
          0.00086575659030548,
          0.004953576248148058,
          -0.0057976021775765895,
          0.0029416937024937355
         ],
         "xaxis": "x3",
         "yaxis": "y3"
        },
        {
         "histfunc": "count",
         "histnorm": "",
         "marker": {
          "color": "rgba(128, 0, 128, 1.0)",
          "line": {
           "color": "#4D5663",
           "width": 1.3
          }
         },
         "name": ".VIX",
         "opacity": 0.8,
         "orientation": "v",
         "type": "histogram",
         "x": [
          null,
          0.0917017667267863,
          -0.1742598373996326,
          0.0009350164309066464,
          -0.0444305223546076,
          -0.024228626452790673,
          -0.024317307650706357,
          -0.06954247303967012,
          0.04724442708229684,
          -0.024954838893172026,
          0.0233804486440635,
          -0.052842481374379933,
          -0.014501090690799844,
          0.1557545294092328,
          -0.06351340572232586,
          -0.032806899471528234,
          -0.0810137100890614,
          0.0799543879561021,
          0.01368442407170247,
          -0.07995558827634748,
          -0.06370836373734234,
          -0.02629316859666884,
          -0.02573094577161635,
          -0.010223731224279503,
          -0.012278021768409008,
          0.062382427305545586,
          -0.04051660438198309,
          0.01577817522586049,
          -0.03439829585185171,
          0.014157250611092754,
          0.03577413170110465,
          -0.08421291991061974,
          -0.002014099371701145,
          -0.059533147798501836,
          0.030901335124174777,
          -0.06795606475851125,
          0.09456971327660123,
          0.021319928111732247,
          -0.03147229957575032,
          0.005427421735365015,
          -0.08541344167327787,
          0.0752127411852551,
          0.007490671729157659,
          0.06564035622806655,
          0.05259486121309593,
          -0.03309125462632822,
          -0.11335360773594438,
          -0.039862929099517073,
          -0.026491615446976226,
          0.006688988150796489,
          -0.04701396476817609,
          0.016936509530898255,
          0.03451205230514368,
          0.02548372342310198,
          -0.02033476022691022,
          0.18987427877288446,
          -0.009143617498952032,
          -0.10651788379600413,
          0.031514508769008735,
          -0.04869115916959869,
          -0.051183879211556364,
          -0.022870786617357405,
          -0.0029895388483660483,
          0.02804611868570375,
          -0.011713164663653203,
          -0.05759167063802611,
          0.027694077581837222,
          0.08015942783707708,
          -0.0710959216837301,
          -0.021277398447284965,
          -0.08074700068853098,
          0.025484322013481556,
          -0.011428695823622857,
          0.033901551675681416,
          -0.041318149330730976,
          0.015593258092295136,
          0.06768909033746807,
          0.008336539375766623,
          -0.04003613986291601,
          0.02941388520629319,
          0.0007624857403343954,
          0.09447834834086007,
          -0.1137171102487678,
          0.18206252298859477,
          0.22417928418774183,
          0.00413223728491037,
          -0.01558473101669809,
          -0.17460273261421583,
          0.24777533850387526,
          -0.12916139295340437,
          -0.0939821583608053,
          -0.07251836968706304,
          0.042886572080691826,
          0.021692824611259754,
          -0.08706711679622699,
          -0.013468217050866593,
          0.1372532713922485,
          -0.06532685385478766,
          0.09903138060617876,
          0.022599831917240777,
          -0.0340942113429759,
          0.07835163878226507,
          0.00798513691931305,
          -0.1055961979591765,
          -0.05324911824184309,
          -0.009993837082334717,
          0.022960983890759512,
          -0.022333434450647765,
          0.00313185348379388,
          -0.005015684496167357,
          -0.005672880010187653,
          -0.03473017860113339,
          0.004570690294831766,
          -0.013114942077828018,
          -0.05564529011529768,
          0.02888784094574829,
          0.04312442663375462,
          -0.009132483563272587,
          0.0647023347180834,
          -0.0043090248268094706,
          -0.024353373408077007,
          -0.04790559975969786,
          -0.07003547619729111,
          -0.08378369359875283,
          -0.028237170181609997,
          0.054946121446131695,
          0.04993695328593881,
          0.00926922857636247,
          -0.07821093477383509,
          -0.007704198352987564,
          -0.04266049714271494,
          0.023136253368028808,
          0.014095769800393376,
          0.08279045445939719,
          -0.03200273108617383,
          0.0657849723757446,
          -0.06578497237574447,
          -0.07041929220586848,
          -0.04376711486738801,
          0.0540236150345772,
          -0.0465947736059963,
          0.05363430208952412,
          0.08297622670483266,
          0.1452983317461045,
          0.10306259209285434,
          -0.014656406663221957,
          0.3338729337199865,
          -0.19814350426198063,
          -0.034294838446651106,
          -0.14199635060898044,
          0.06079853788497872,
          0.16009529369521552,
          -0.18545590898243783,
          0.2322345230154619,
          -0.04252026835044681,
          -0.13690954596211183,
          -0.09001830504333753,
          0.03607139176165744,
          -0.10219094089654719,
          0.05420045689767944,
          0.1750006596331249,
          -0.028070227779353526,
          0.04997254680792123,
          -0.048420956116502364,
          -0.0790096497304228,
          0.05970302343641376,
          0.03520032153723869,
          -0.12614701099150588,
          -0.06311618249656815,
          -0.08127272012873638,
          0.017839918128331016,
          -0.004594691378310417,
          -0.039589202089622626,
          -0.02705680138751319,
          -0.03433813758089157,
          0.06549330536068707,
          -0.01580245869021021,
          -0.034522625197305604,
          0.007142887512380204,
          0.08653676853269039,
          -0.027127035535798243,
          0.13411807495287872,
          -0.06606461170786312,
          0.00686858772775858,
          0.06911731925016337,
          -0.05859416426605282,
          0.13353139262452257,
          0.10233871322890992,
          -0.07261253296370898,
          -0.11517138622208563,
          0.04700005404718329,
          0.1270716032746296,
          -0.08432536946553726,
          -0.059116907058439326,
          -0.12020486175640367,
          -0.06702342023548868,
          -0.07331635272298458,
          0.010286644710275525,
          0.008008779610806047,
          0.03281321490944922,
          -0.017699577099400975,
          0.03232888711536007,
          -0.03161485638170311,
          -0.02164586677469255,
          -0.0804682784006938,
          0.035718082602079246,
          0.006841531816716784,
          -0.06818151241607213,
          0.06969551724728738,
          -0.07213157204516843,
          0.042186916249173145,
          0.020826051579560797,
          -0.037329373094038755,
          0.008678555456248249,
          -0.053238377459875044,
          0.050091246616856135,
          -0.0007883327172164291,
          0.024923408452456934,
          0.003838776307165667,
          -0.0797234738320384,
          0.03345885342264318,
          0.03159820545016623,
          -0.006240269860084623,
          0.027018239365316134,
          -0.062053669837463084,
          -0.038831809855665186,
          -0.028194947541623175,
          0.018033979510214532,
          0.071429616522899,
          0.16674927166358008,
          0.06805346324501578,
          -0.07545841125159339,
          -0.019100171373419378,
          -0.06398770867528374,
          0.15226091548533557,
          -0.011414201284440123,
          -0.04500270280775544,
          -0.07262090678212861,
          -0.09868746896997799,
          -0.039569150731047595,
          0.012280137946591151,
          0.02332232769435099,
          -0.00637960696403904,
          0.0007996801705642441,
          0.007961825498008442,
          0.06300086055831801,
          0.09848660933279475,
          -0.07275935428242843
         ],
         "xaxis": "x4",
         "yaxis": "y4"
        },
        {
         "histfunc": "count",
         "histnorm": "",
         "marker": {
          "color": "rgba(219, 64, 82, 1.0)",
          "line": {
           "color": "#4D5663",
           "width": 1.3
          }
         },
         "name": "EUR=",
         "opacity": 0.8,
         "orientation": "v",
         "type": "histogram",
         "x": [
          null,
          0.0043987050777835315,
          0.00008777704635874572,
          0.007084474463700545,
          -0.002967620228027563,
          0.00878992648661597,
          -0.0037328052371685587,
          -0.002699762144931746,
          0.0006102611235118212,
          -0.005242934065163032,
          -0.0014905092409181696,
          -0.0001755001759506091,
          -0.002988225109879958,
          -0.00026409613252684644,
          0.0019350872429439853,
          -0.006612322968251507,
          0.009420327621320397,
          0.0018384772085792793,
          -0.0002624327531134885,
          0.004103554891812014,
          -0.0028794575106673936,
          0.0008734387838017413,
          -0.0016601864969210587,
          -0.002013394123490903,
          -0.004567020058248393,
          -0.0017621149933993321,
          -0.0010587613482419878,
          -0.004689651562622024,
          0.004336481860911167,
          -0.005223793365445371,
          0.0030136523429013223,
          -0.0005311614855759744,
          0.004153233558072702,
          -0.00044101434011368135,
          -0.0000882262120647601,
          0.000617420085766005,
          0.0014978636220471084,
          0.002374358060462297,
          -0.001406346368733419,
          0.00008795461547517642,
          0.0003517411221631773,
          -0.0032583358491463125,
          -0.0027381547823624327,
          -0.00008845252316590715,
          -0.010045868366753245,
          0.004101655326826437,
          0.0008005337318783993,
          0.0034615931250636515,
          0.0034496518221494798,
          -0.0020329701614461085,
          0.0020329701614460608,
          0.0009708310192815736,
          0.0011461319306225416,
          0.005448168133540712,
          -0.003335677250235177,
          -0.005289618257977727,
          -0.00017680339508576974,
          -0.004163904133557338,
          -0.0015103729938019928,
          -0.002403526327334393,
          -0.0002674154314641002,
          -0.00044585136054449485,
          -0.0008922995149012381,
          0.0028525603226004044,
          -0.0012469940156905768,
          -0.0005349023930696534,
          0.004004811119512713,
          0.00017761989389532555,
          0.0010650573475055605,
          -0.002042357411965107,
          0.004434597067865554,
          0.0006192772348133701,
          -0.0023907568831953436,
          0.0012403651807321846,
          -0.005771893660243321,
          -0.00035628396208359144,
          -0.006524579610149965,
          -0.001974688730714589,
          0.0016159443322484074,
          0.003313485322391155,
          0.0026785730300786384,
          -0.003483546017511015,
          0.0021451563463884236,
          -0.0002678930229890633,
          -0.0006253629542259945,
          0.00008936151205615304,
          0.00258801625866029,
          0.0011579745648817791,
          -0.0008906306253133328,
          -0.0017836444575325154,
          -0.00026782127553732956,
          -0.0025031302181186994,
          -0.0014331783176879036,
          0.001254143315866896,
          -0.001074883657772784,
          -0.0005378754051685126,
          0.00250761370878519,
          0.001965866060687486,
          -0.003756376834475657,
          -0.002781642961876914,
          0.00008985129616544447,
          0.0033188351762016392,
          0.006515844001889965,
          0.000978169123389617,
          -0.0028482440261073205,
          0.00489042009655575,
          0.0050431427390462925,
          -0.0016782232442125874,
          0.0015017007371345504,
          -0.0037141889178621992,
          -0.0010637355847473071,
          -0.0060493023188510605,
          0.0008919015931953297,
          -0.0023206008271961986,
          0.0029444589642697236,
          0.005951605398225331,
          0.0066204946765447276,
          0.0026359737607320635,
          -0.0027239593311552813,
          0.0002639334902928867,
          0,
          0,
          -0.007327980525300511,
          -0.00017724211318994712,
          -0.0005319149061585586,
          -0.00471091044999066,
          -0.0008913450986791564,
          -0.0007136485583879725,
          0.0038298866675961,
          0.0002666548169215302,
          0.0015097023426019036,
          -0.0010654355975454463,
          -0.004273130333708545,
          0.001248216995160562,
          0.004622641354623061,
          -0.004889985294191681,
          -0.0010700910598444044,
          -0.005098629051481084,
          -0.0010767161201721798,
          0.0005385029747795463,
          -0.001796138785528299,
          0.0017064084252007205,
          0.0008072835348951384,
          -0.007108501611624408,
          0.0008123843927407584,
          0.002163137391466962,
          0.008516793602657613,
          -0.0003571428609392117,
          -0.00008930564864157602,
          -0.0016983244305535778,
          0.0017876300791950731,
          0.0012494423758404676,
          -0.003842549743852235,
          -0.002779398391212824,
          -0.0028771823480613235,
          -0.0015318768483366572,
          -0.00117302066236351,
          0.0020744088611272036,
          -0.0014426113763265026,
          -0.0004512431826040041,
          0.005940076866592599,
          -0.0039561281592160385,
          -0.0009013069560128868,
          -0.001172914827479949,
          -0.0019880722253861915,
          -0.005988041844622557,
          -0.001548199389430268,
          0.005544208702812258,
          0,
          -0.0005439710016275159,
          0.0017215607024544115,
          -0.0002716284140020315,
          -0.0030836229767277697,
          0.004712287831851134,
          0.0010843047958538818,
          -0.006614439917600486,
          0.006433804078959024,
          -0.0038009095533199245,
          0.0009968735249395243,
          -0.002085506491021593,
          -0.0023627782711644597,
          0.0024535429637614747,
          -0.007013098555871806,
          -0.0018296592790614764,
          0.0015554237089896658,
          -0.0036636787636743382,
          0.002932016027540382,
          0.002558480927776909,
          0.0005473953243152164,
          0.0010938925429898778,
          -0.0005467966963904399,
          -0.0014595879256093039,
          0.0013684260676676036,
          0.0031857306331311494,
          0.0032661977866211022,
          -0.0010875476873989933,
          0.00027199782569433203,
          0.003529255733300857,
          0.004686382044826727,
          0.004216954793317303,
          -0.0018819739389877351,
          -0.002155173247983376,
          0.0004493776195696098,
          -0.002248910226839378,
          -0.0023442441535366687,
          0.001803752292797363,
          0.0010806917478292802,
          0.0034145059681631113,
          0.00017938828642595373,
          0.0013443873859934597,
          -0.003499173639019718,
          -0.004684693252326107,
          -0.0008130448977623205,
          -0.0014470473719750538,
          -0.0029911647046843427,
          0.0014513790646469855,
          -0.0022687064497459155,
          -0.00009085540368766358,
          0.001361965071837821,
          0.0026278842543567536,
          0.0018083187567836808,
          0.000722412890366459,
          -0.0005417607355983012,
          -0.0013556873150490372,
          -0.003170436099220913,
          -0.0008168822782367701,
          0.00045390586771772157,
          -0.00181686096490158,
          0.001544542168683336,
          0.005612906280489427,
          0.0003610434193926799,
          -0.0004513246454731102,
          0.0023446669592542763,
          -0.00406156070770493,
          0.0004521000122216103,
          0.0027083161810451777,
          0.00324032686761021,
          0,
          -0.0008090979000295211,
          0.0020663948775115825,
          0.0006280561868105382,
          -0.0034141991835627836,
          0.0008096802205646924,
          -0.0037841292115242927,
          0.0007218913867010166,
          0.00799608950201949,
          0.0019667447784272925,
          0.001160351806008741
         ],
         "xaxis": "x5",
         "yaxis": "y5"
        },
        {
         "histfunc": "count",
         "histnorm": "",
         "marker": {
          "color": "rgba(0, 128, 128, 1.0)",
          "line": {
           "color": "#4D5663",
           "width": 1.3
          }
         },
         "name": "XAU=",
         "opacity": 0.8,
         "orientation": "v",
         "type": "histogram",
         "x": [
          null,
          0.006880396371333988,
          -0.006810345740265997,
          0.002953224656158975,
          -0.0029376585156275295,
          0.006361788786292394,
          -0.005218418089448996,
          0.0009170028428912597,
          0.0032490075164549087,
          -0.001898463600906098,
          0.0032523610085474506,
          -0.001578357269620597,
          -0.008000011568546168,
          0.0027516338125535326,
          -0.0020493646741684057,
          -0.0011316765237634778,
          0.017479254473842607,
          0.00024553057746306694,
          0.006423710203582695,
          0.005814478049599,
          0.000795433496356041,
          -0.0019934892845988,
          -0.00474609389461805,
          0.0024823362152226547,
          -0.006714763316578856,
          0.0029661589376251,
          0.0030182719691833155,
          -0.0043702996434492655,
          0.0017183643875906662,
          -0.0033554641802379602,
          0.004857567025015335,
          0.006478118261943099,
          0.015078663958297827,
          -0.0019929172220887795,
          -0.011497316225079171,
          0.0034706276679271775,
          -0.0004896092606910225,
          0.001129604463748596,
          -0.00661543894917641,
          -0.00542459715141928,
          -0.0148490108675326,
          -0.005347322125888798,
          0.0005945768411977615,
          -0.0006373322317844998,
          -0.0006726662526590804,
          0.009688464233370228,
          -0.003094126333759027,
          0.005978998919239965,
          0.005569209925407251,
          -0.00997873014720587,
          0.00392544289828341,
          0.001781477715082478,
          0.0021841181208646556,
          0.004533076825845906,
          -0.0023117075724470287,
          0.0029935175567132465,
          0.006580843733722791,
          -0.004838437784156821,
          -0.004541167780895283,
          -0.014856347805701994,
          0.0013555123006573611,
          -0.0034776710252178633,
          0.004135400335292984,
          -0.0023969915500300976,
          0.0019134091623479966,
          -0.0006386870360429769,
          0.004531651026302097,
          0.005167155534658219,
          0.0029942434917421654,
          -0.011884115344578618,
          -0.0018161792050118983,
          -0.0018350159457296703,
          -0.008943797539301244,
          -0.0019059501987213812,
          0.0009965670270587765,
          -0.002245639223205335,
          0.0022064230755593837,
          0.0015596164467976024,
          0.006945556249827168,
          -0.004911524646923569,
          0.002965392941297369,
          -0.010228625700130807,
          0.006786310796730846,
          0.0008871383081396232,
          0.0032951528718939407,
          -0.002939768105568208,
          0.002503637820310576,
          0.0014478428895502119,
          0.01087330919021226,
          -0.002218431601194828,
          -0.0002776503089344502,
          -0.007755143278683678,
          -0.007216586486931959,
          0.0002700962381052627,
          -0.0021706601214882336,
          -0.0010674663211593552,
          0.00757705328439338,
          0.001242359552167422,
          -0.004356982441536485,
          0.00010944939149252395,
          0.0072438685726753434,
          0.012915842198242,
          0.014844266156396986,
          0.00008302983417683884,
          0.0036916257184019083,
          0.0037679528775815658,
          0.004112001607231933,
          -0.009422752372025089,
          -0.0008043272105018159,
          0.004885674081261622,
          0.006571716030208366,
          -0.0004621209944797355,
          -0.0015257695690915334,
          0.005060775352680583,
          0.010192442123453688,
          0.02031624113718965,
          0.0078021376033524745,
          0.014550615152063674,
          0.0026038016118457167,
          -0.010243096057742542,
          0.0006601292815396354,
          -0.00012773295314671127,
          -0.017926453559305628,
          0.024360116613934595,
          0.00024330789719006894,
          -0.013477417290192376,
          -0.0031129822079706665,
          0.0018617978883134372,
          0.014911871856438223,
          -0.010771079190406693,
          0.008438928515920936,
          -0.0012830597251806274,
          -0.005497227997319297,
          0.014594985341456715,
          0.013507132874772287,
          -0.014692469905239655,
          -0.00013335064572001401,
          -0.005440399664992196,
          0.00619815618077002,
          -0.008218558687822168,
          0.0029515209744933953,
          0.005887619414811498,
          0.0027402952892726404,
          -0.011989665979130702,
          0.022043181612282324,
          -0.0031884164238763888,
          0.015940118261492834,
          0.0069924403280854815,
          0.018106704778823035,
          -0.000533191161658724,
          -0.0021088888103147282,
          0.009518039803812066,
          -0.00664943964725536,
          0.00990653479557125,
          0.004521172279711887,
          -0.006062510644524597,
          -0.012463809042515225,
          0.007895172346726454,
          -0.0032238258474333024,
          -0.0022662143938697284,
          0.018184122566618686,
          -0.00006552865242667338,
          0.010686470305379649,
          -0.002333511271641994,
          -0.007435948423856183,
          -0.004955297694095191,
          0.017511983283905595,
          0.0036462827381975363,
          -0.021651857568674788,
          -0.008196225406374127,
          -0.00535712596010541,
          -0.008813286944475017,
          0.007912070241010906,
          0.0009345795072771869,
          -0.006862755622590171,
          0.006328817146313071,
          0.0028665730772379737,
          -0.005707911419742238,
          0.0035754302704284454,
          0.011771668719809471,
          0.0033666685850701076,
          0.006506958068015728,
          -0.018481526186604452,
          0.0012295015422265573,
          -0.006022348790466012,
          -0.01654712075182751,
          0.004460147434026484,
          0.01388948530519431,
          0.003655118399837992,
          -0.00026586022555327065,
          -0.007338992809400421,
          0.007943722344278493,
          0.000026573129253207822,
          -0.007535127173695661,
          -0.0030501624143678993,
          0.002246626814684666,
          -0.00799003483998683,
          0.005689695481396028,
          0.0015229740515884031,
          -0.001301428400529636,
          -0.003665163234762448,
          0.002288099521089532,
          0.0028192668447004784,
          0.007612470403103299,
          0.0007181854157968941,
          -0.00793196867314905,
          -0.0033860183931258754,
          0.005230347872153202,
          0.011940202221082843,
          0.0002577055629104285,
          -0.0028538586116416613,
          -0.016862881586379042,
          0.004277965821797746,
          -0.015239509260599804,
          -0.0064348571550079245,
          -0.0018918644001779095,
          0.0008888293136882035,
          0.0041032561540445675,
          0.005463485340012593,
          -0.002609268137995602,
          0.002475196130248522,
          0.0010387919633810937,
          -0.0007678110099979189,
          -0.00477049019763552,
          -0.0014421485725103205,
          -0.004913559267901545,
          0.004338854472455436,
          -0.004767712130256593,
          0.006613803386495374,
          -0.0010662147655598733,
          0.010138266393997444,
          -0.002128524752571218,
          0.0010190179696069749,
          -0.010967876060817536,
          0.0016313431189918922,
          0.0014149736626079645,
          0.007343391139563048,
          -0.003681969323658053,
          0.004230115385562414,
          0.00029997697374835666,
          0.0001346114171144382,
          -0.0006869992411521107,
          0.002613877561813659,
          -0.0007423072039036658,
          0.004940784438986034,
          0.016788999112144768,
          0.003111050762863933,
          0.0012446685179123662
         ],
         "xaxis": "x6",
         "yaxis": "y6"
        },
        {
         "histfunc": "count",
         "histnorm": "",
         "marker": {
          "color": "rgba(255, 255, 51, 1.0)",
          "line": {
           "color": "#4D5663",
           "width": 1.3
          }
         },
         "name": "DE10YT=RR",
         "opacity": 0.8,
         "orientation": "v",
         "type": "histogram",
         "x": [
          null,
          -0.12438371968773564,
          0.3202582428863936,
          0.03774032798284711,
          0.06280090123903044,
          -0.06744128079553265,
          -0.08743429938967426,
          -0.07919704166119328,
          0.24273068458951472,
          -0.11886120287672894,
          0.07929560267053785,
          0.08176595469656767,
          0.07940677760441062,
          -0.08770558041910557,
          -0.06453852113757105,
          -0.22871459636366526,
          0.10088122485378029,
          0.044451762570833796,
          -0.04951506452738044,
          -0.05745705502478732,
          -0.17589066646366416,
          0.06213178110700618,
          0.08096906253366709,
          -0.08096906253366709,
          -0.01212136053234485,
          -0.37247860911185793,
          -0.28473656222202404,
          0.3109389346160482,
          0.12160713209478698,
          -0.071176278467895,
          -0.17904823144898557,
          0.009756174945364656,
          -0.019608471388376198,
          0,
          0.23690974707835774,
          -0.26706278524904525,
          0.08786135579133425,
          0.0633696139325894,
          0.3007541540191337,
          0.18879407129957215,
          0.005361943141385373,
          -0.16220441463435503,
          0.049089610196523574,
          -0.25045936196117263,
          -0.6628418310646162,
          0.09937247381320356,
          -0.14518200984449783,
          -0.08134563945395253,
          0.09684982598991781,
          0.27996002635787043,
          0.034289073478632165,
          -0.10660973505825813,
          0.25270235355575404,
          -0.2402798335571969,
          -0.7308875085427924,
          null,
          -0.08338160893905114,
          -0.496436886313891,
          1.75539182505718,
          -0.1459539126230797,
          0.014184634991956163,
          -1.0045833390198333,
          0.6539264674066642,
          -3.2188758248682006,
          0.9162907318741551,
          null,
          -0.6931471805599453,
          null,
          1.8562979903656263,
          -1.8562979903656263,
          null,
          -0.01834913866819654,
          0.15415067982725836,
          0.27570588140506525,
          -1.2407867774486523,
          0.5596157879354227,
          null,
          -0.3677247801253174,
          0.6931471805599453,
          null,
          2.6390573296152584,
          0.5389965007326869,
          -0.1823215567939546,
          -0.7985076962177717,
          null,
          0.1502822030493379,
          0.1508228897345837,
          -0.040821994520255166,
          0.4328640822962787,
          -0.041385216162854364,
          0.301668314426521,
          -0.053488684950986236,
          0.14310084364067324,
          -0.17662353567931688,
          -0.3997993705724871,
          0.291910408561302,
          0.4180438903150244,
          -0.025317807984289783,
          0.27477866761587305,
          0.12210269680089991,
          -0.029156584291455463,
          0.17340619313600233,
          -0.01000008333458331,
          0.03941396854087663,
          0.06544390825238382,
          0.052875752047947776,
          0.0902250915927255,
          -0.15219181534192538,
          0.053345980705292714,
          0.01716780362236528,
          0.033475929196389545,
          0.0521160011390141,
          -0.039845908547199674,
          0.27232078729029374,
          -0.12166051240280407,
          0.11855973472455587,
          -0.1361968762106625,
          0.09498660756399961,
          0.0717936920187432,
          -0.08154986696410786,
          0.028987536873252406,
          0.034324742541074676,
          0.0992066500834479,
          0.01379332213233577,
          0.05074519900523547,
          -0.06732016409944806,
          0.04892279895973201,
          -0.054509405668371765,
          -0.15742400517222738,
          -0.14436267346109546,
          -0.07469089260158923,
          0.18910124377933343,
          -0.013605652055778598,
          -0.006872879287762064,
          0.06346035391722576,
          0.0412102686466629,
          0.07477323440245076,
          0.028411001832779944,
          0.05980042330278727,
          -0.04865824674954543,
          0.043367229115129864,
          0.036462372537355014,
          0.01774444529907191,
          0.09119023806459649,
          0.03824988213399964,
          0.07851326562163825,
          0.03804262544585047,
          0.05355007795834194,
          0.07530438306413037,
          -0.036943515191684095,
          0.03866914115915391,
          0.023851215822179847,
          0.024938948347252146,
          0.0636144489941931,
          0.07707517033049999,
          -0.03041508886443753,
          -0.05129329438755058,
          0.06734031998506797,
          -0.026394494122942,
          -0.04871587272405782,
          0.04722888360247954,
          -0.0029806281381377893,
          0.03950769837551206,
          0.029684158287700425,
          -0.03543956985832098,
          0.02000066670666965,
          0.011251876797434847,
          -0.05461126978173259,
          -0.13416463802826945,
          0.06696378726017055,
          -0.08228323579368393,
          -0.05826890812397564,
          0.030441025501235338,
          -0.05250074356596748,
          -0.17196643467875042,
          0.04531519621204249,
          0,
          0.07516226850862798,
          -0.011811160928344609,
          0.029270382300113237,
          0.11092194527643802,
          0.03882344108290367,
          -0.028549378106718475,
          -0.011996716287631437,
          -0.005185837032365414,
          -0.012205905679503734,
          -0.023071120901311658,
          -0.023615993071341414,
          0.0709517359722844,
          0.005123836999869466,
          -0.018917159132205225,
          0.03580945269671078,
          -0.07294899964616743,
          -0.12456272264176237,
          -0.1121864807282261,
          0.04246448051775859,
          -0.07494993566224696,
          -0.08102589524659189,
          0.03022900196131729,
          -0.04309919248185219,
          -0.11229295243347115,
          0.06995858860691047,
          0.07043327504892041,
          0.019950786419348693,
          -0.07696104113612844,
          -0.13391241758626704,
          0.08472217339549531,
          0,
          0.11622564552693011,
          -0.06171623985855847,
          -0.08292040750115169,
          -0.08413367716201459,
          0.012461220437812033,
          -0.2601994267579489,
          0.06604341231699143,
          -0.07006756261671696,
          -0.012170535620255179,
          0.20916880683014258,
          0.1360117576828545,
          -0.04130380614123563,
          0.008995562908578003,
          0.014815085785140682,
          0.03752243932308956,
          -0.08572454114096727,
          0.10257887269594931,
          -0.025389234004819575,
          0.07165598890643515,
          -0.02150620522096362,
          -0.03878602503515654,
          -0.24167579944313727,
          0.21592330334072254,
          -0.09097177820572663,
          -0.06899287148695156,
          -0.01025650016718911,
          0.03710375020337721,
          -0.020067563050809256,
          0.08419209122034803,
          -0.19482171955818603,
          0.10384994135245938,
          -0.07410797215372172,
          0.06040912779555977,
          -0.14442798384873576,
          -0.06586742498762499,
          0.0457460217882038,
          -0.004073325387635786,
          0.04391923393483558,
          -0.3466804132137367,
          0.03261158558876101
         ],
         "xaxis": "x7",
         "yaxis": "y7"
        }
       ],
       "layout": {
        "barmode": "overlay",
        "legend": {
         "bgcolor": "#F5F6F9",
         "font": {
          "color": "#4D5663"
         }
        },
        "paper_bgcolor": "#F5F6F9",
        "plot_bgcolor": "#F5F6F9",
        "template": {
         "data": {
          "bar": [
           {
            "error_x": {
             "color": "#2a3f5f"
            },
            "error_y": {
             "color": "#2a3f5f"
            },
            "marker": {
             "line": {
              "color": "#E5ECF6",
              "width": 0.5
             }
            },
            "type": "bar"
           }
          ],
          "barpolar": [
           {
            "marker": {
             "line": {
              "color": "#E5ECF6",
              "width": 0.5
             }
            },
            "type": "barpolar"
           }
          ],
          "carpet": [
           {
            "aaxis": {
             "endlinecolor": "#2a3f5f",
             "gridcolor": "white",
             "linecolor": "white",
             "minorgridcolor": "white",
             "startlinecolor": "#2a3f5f"
            },
            "baxis": {
             "endlinecolor": "#2a3f5f",
             "gridcolor": "white",
             "linecolor": "white",
             "minorgridcolor": "white",
             "startlinecolor": "#2a3f5f"
            },
            "type": "carpet"
           }
          ],
          "choropleth": [
           {
            "colorbar": {
             "outlinewidth": 0,
             "ticks": ""
            },
            "type": "choropleth"
           }
          ],
          "contour": [
           {
            "colorbar": {
             "outlinewidth": 0,
             "ticks": ""
            },
            "colorscale": [
             [
              0,
              "#0d0887"
             ],
             [
              0.1111111111111111,
              "#46039f"
             ],
             [
              0.2222222222222222,
              "#7201a8"
             ],
             [
              0.3333333333333333,
              "#9c179e"
             ],
             [
              0.4444444444444444,
              "#bd3786"
             ],
             [
              0.5555555555555556,
              "#d8576b"
             ],
             [
              0.6666666666666666,
              "#ed7953"
             ],
             [
              0.7777777777777778,
              "#fb9f3a"
             ],
             [
              0.8888888888888888,
              "#fdca26"
             ],
             [
              1,
              "#f0f921"
             ]
            ],
            "type": "contour"
           }
          ],
          "contourcarpet": [
           {
            "colorbar": {
             "outlinewidth": 0,
             "ticks": ""
            },
            "type": "contourcarpet"
           }
          ],
          "heatmap": [
           {
            "colorbar": {
             "outlinewidth": 0,
             "ticks": ""
            },
            "colorscale": [
             [
              0,
              "#0d0887"
             ],
             [
              0.1111111111111111,
              "#46039f"
             ],
             [
              0.2222222222222222,
              "#7201a8"
             ],
             [
              0.3333333333333333,
              "#9c179e"
             ],
             [
              0.4444444444444444,
              "#bd3786"
             ],
             [
              0.5555555555555556,
              "#d8576b"
             ],
             [
              0.6666666666666666,
              "#ed7953"
             ],
             [
              0.7777777777777778,
              "#fb9f3a"
             ],
             [
              0.8888888888888888,
              "#fdca26"
             ],
             [
              1,
              "#f0f921"
             ]
            ],
            "type": "heatmap"
           }
          ],
          "heatmapgl": [
           {
            "colorbar": {
             "outlinewidth": 0,
             "ticks": ""
            },
            "colorscale": [
             [
              0,
              "#0d0887"
             ],
             [
              0.1111111111111111,
              "#46039f"
             ],
             [
              0.2222222222222222,
              "#7201a8"
             ],
             [
              0.3333333333333333,
              "#9c179e"
             ],
             [
              0.4444444444444444,
              "#bd3786"
             ],
             [
              0.5555555555555556,
              "#d8576b"
             ],
             [
              0.6666666666666666,
              "#ed7953"
             ],
             [
              0.7777777777777778,
              "#fb9f3a"
             ],
             [
              0.8888888888888888,
              "#fdca26"
             ],
             [
              1,
              "#f0f921"
             ]
            ],
            "type": "heatmapgl"
           }
          ],
          "histogram": [
           {
            "marker": {
             "colorbar": {
              "outlinewidth": 0,
              "ticks": ""
             }
            },
            "type": "histogram"
           }
          ],
          "histogram2d": [
           {
            "colorbar": {
             "outlinewidth": 0,
             "ticks": ""
            },
            "colorscale": [
             [
              0,
              "#0d0887"
             ],
             [
              0.1111111111111111,
              "#46039f"
             ],
             [
              0.2222222222222222,
              "#7201a8"
             ],
             [
              0.3333333333333333,
              "#9c179e"
             ],
             [
              0.4444444444444444,
              "#bd3786"
             ],
             [
              0.5555555555555556,
              "#d8576b"
             ],
             [
              0.6666666666666666,
              "#ed7953"
             ],
             [
              0.7777777777777778,
              "#fb9f3a"
             ],
             [
              0.8888888888888888,
              "#fdca26"
             ],
             [
              1,
              "#f0f921"
             ]
            ],
            "type": "histogram2d"
           }
          ],
          "histogram2dcontour": [
           {
            "colorbar": {
             "outlinewidth": 0,
             "ticks": ""
            },
            "colorscale": [
             [
              0,
              "#0d0887"
             ],
             [
              0.1111111111111111,
              "#46039f"
             ],
             [
              0.2222222222222222,
              "#7201a8"
             ],
             [
              0.3333333333333333,
              "#9c179e"
             ],
             [
              0.4444444444444444,
              "#bd3786"
             ],
             [
              0.5555555555555556,
              "#d8576b"
             ],
             [
              0.6666666666666666,
              "#ed7953"
             ],
             [
              0.7777777777777778,
              "#fb9f3a"
             ],
             [
              0.8888888888888888,
              "#fdca26"
             ],
             [
              1,
              "#f0f921"
             ]
            ],
            "type": "histogram2dcontour"
           }
          ],
          "mesh3d": [
           {
            "colorbar": {
             "outlinewidth": 0,
             "ticks": ""
            },
            "type": "mesh3d"
           }
          ],
          "parcoords": [
           {
            "line": {
             "colorbar": {
              "outlinewidth": 0,
              "ticks": ""
             }
            },
            "type": "parcoords"
           }
          ],
          "pie": [
           {
            "automargin": true,
            "type": "pie"
           }
          ],
          "scatter": [
           {
            "marker": {
             "colorbar": {
              "outlinewidth": 0,
              "ticks": ""
             }
            },
            "type": "scatter"
           }
          ],
          "scatter3d": [
           {
            "line": {
             "colorbar": {
              "outlinewidth": 0,
              "ticks": ""
             }
            },
            "marker": {
             "colorbar": {
              "outlinewidth": 0,
              "ticks": ""
             }
            },
            "type": "scatter3d"
           }
          ],
          "scattercarpet": [
           {
            "marker": {
             "colorbar": {
              "outlinewidth": 0,
              "ticks": ""
             }
            },
            "type": "scattercarpet"
           }
          ],
          "scattergeo": [
           {
            "marker": {
             "colorbar": {
              "outlinewidth": 0,
              "ticks": ""
             }
            },
            "type": "scattergeo"
           }
          ],
          "scattergl": [
           {
            "marker": {
             "colorbar": {
              "outlinewidth": 0,
              "ticks": ""
             }
            },
            "type": "scattergl"
           }
          ],
          "scattermapbox": [
           {
            "marker": {
             "colorbar": {
              "outlinewidth": 0,
              "ticks": ""
             }
            },
            "type": "scattermapbox"
           }
          ],
          "scatterpolar": [
           {
            "marker": {
             "colorbar": {
              "outlinewidth": 0,
              "ticks": ""
             }
            },
            "type": "scatterpolar"
           }
          ],
          "scatterpolargl": [
           {
            "marker": {
             "colorbar": {
              "outlinewidth": 0,
              "ticks": ""
             }
            },
            "type": "scatterpolargl"
           }
          ],
          "scatterternary": [
           {
            "marker": {
             "colorbar": {
              "outlinewidth": 0,
              "ticks": ""
             }
            },
            "type": "scatterternary"
           }
          ],
          "surface": [
           {
            "colorbar": {
             "outlinewidth": 0,
             "ticks": ""
            },
            "colorscale": [
             [
              0,
              "#0d0887"
             ],
             [
              0.1111111111111111,
              "#46039f"
             ],
             [
              0.2222222222222222,
              "#7201a8"
             ],
             [
              0.3333333333333333,
              "#9c179e"
             ],
             [
              0.4444444444444444,
              "#bd3786"
             ],
             [
              0.5555555555555556,
              "#d8576b"
             ],
             [
              0.6666666666666666,
              "#ed7953"
             ],
             [
              0.7777777777777778,
              "#fb9f3a"
             ],
             [
              0.8888888888888888,
              "#fdca26"
             ],
             [
              1,
              "#f0f921"
             ]
            ],
            "type": "surface"
           }
          ],
          "table": [
           {
            "cells": {
             "fill": {
              "color": "#EBF0F8"
             },
             "line": {
              "color": "white"
             }
            },
            "header": {
             "fill": {
              "color": "#C8D4E3"
             },
             "line": {
              "color": "white"
             }
            },
            "type": "table"
           }
          ]
         },
         "layout": {
          "annotationdefaults": {
           "arrowcolor": "#2a3f5f",
           "arrowhead": 0,
           "arrowwidth": 1
          },
          "coloraxis": {
           "colorbar": {
            "outlinewidth": 0,
            "ticks": ""
           }
          },
          "colorscale": {
           "diverging": [
            [
             0,
             "#8e0152"
            ],
            [
             0.1,
             "#c51b7d"
            ],
            [
             0.2,
             "#de77ae"
            ],
            [
             0.3,
             "#f1b6da"
            ],
            [
             0.4,
             "#fde0ef"
            ],
            [
             0.5,
             "#f7f7f7"
            ],
            [
             0.6,
             "#e6f5d0"
            ],
            [
             0.7,
             "#b8e186"
            ],
            [
             0.8,
             "#7fbc41"
            ],
            [
             0.9,
             "#4d9221"
            ],
            [
             1,
             "#276419"
            ]
           ],
           "sequential": [
            [
             0,
             "#0d0887"
            ],
            [
             0.1111111111111111,
             "#46039f"
            ],
            [
             0.2222222222222222,
             "#7201a8"
            ],
            [
             0.3333333333333333,
             "#9c179e"
            ],
            [
             0.4444444444444444,
             "#bd3786"
            ],
            [
             0.5555555555555556,
             "#d8576b"
            ],
            [
             0.6666666666666666,
             "#ed7953"
            ],
            [
             0.7777777777777778,
             "#fb9f3a"
            ],
            [
             0.8888888888888888,
             "#fdca26"
            ],
            [
             1,
             "#f0f921"
            ]
           ],
           "sequentialminus": [
            [
             0,
             "#0d0887"
            ],
            [
             0.1111111111111111,
             "#46039f"
            ],
            [
             0.2222222222222222,
             "#7201a8"
            ],
            [
             0.3333333333333333,
             "#9c179e"
            ],
            [
             0.4444444444444444,
             "#bd3786"
            ],
            [
             0.5555555555555556,
             "#d8576b"
            ],
            [
             0.6666666666666666,
             "#ed7953"
            ],
            [
             0.7777777777777778,
             "#fb9f3a"
            ],
            [
             0.8888888888888888,
             "#fdca26"
            ],
            [
             1,
             "#f0f921"
            ]
           ]
          },
          "colorway": [
           "#636efa",
           "#EF553B",
           "#00cc96",
           "#ab63fa",
           "#FFA15A",
           "#19d3f3",
           "#FF6692",
           "#B6E880",
           "#FF97FF",
           "#FECB52"
          ],
          "font": {
           "color": "#2a3f5f"
          },
          "geo": {
           "bgcolor": "white",
           "lakecolor": "white",
           "landcolor": "#E5ECF6",
           "showlakes": true,
           "showland": true,
           "subunitcolor": "white"
          },
          "hoverlabel": {
           "align": "left"
          },
          "hovermode": "closest",
          "mapbox": {
           "style": "light"
          },
          "paper_bgcolor": "white",
          "plot_bgcolor": "#E5ECF6",
          "polar": {
           "angularaxis": {
            "gridcolor": "white",
            "linecolor": "white",
            "ticks": ""
           },
           "bgcolor": "#E5ECF6",
           "radialaxis": {
            "gridcolor": "white",
            "linecolor": "white",
            "ticks": ""
           }
          },
          "scene": {
           "xaxis": {
            "backgroundcolor": "#E5ECF6",
            "gridcolor": "white",
            "gridwidth": 2,
            "linecolor": "white",
            "showbackground": true,
            "ticks": "",
            "zerolinecolor": "white"
           },
           "yaxis": {
            "backgroundcolor": "#E5ECF6",
            "gridcolor": "white",
            "gridwidth": 2,
            "linecolor": "white",
            "showbackground": true,
            "ticks": "",
            "zerolinecolor": "white"
           },
           "zaxis": {
            "backgroundcolor": "#E5ECF6",
            "gridcolor": "white",
            "gridwidth": 2,
            "linecolor": "white",
            "showbackground": true,
            "ticks": "",
            "zerolinecolor": "white"
           }
          },
          "shapedefaults": {
           "line": {
            "color": "#2a3f5f"
           }
          },
          "ternary": {
           "aaxis": {
            "gridcolor": "white",
            "linecolor": "white",
            "ticks": ""
           },
           "baxis": {
            "gridcolor": "white",
            "linecolor": "white",
            "ticks": ""
           },
           "bgcolor": "#E5ECF6",
           "caxis": {
            "gridcolor": "white",
            "linecolor": "white",
            "ticks": ""
           }
          },
          "title": {
           "x": 0.05
          },
          "xaxis": {
           "automargin": true,
           "gridcolor": "white",
           "linecolor": "white",
           "ticks": "",
           "title": {
            "standoff": 15
           },
           "zerolinecolor": "white",
           "zerolinewidth": 2
          },
          "yaxis": {
           "automargin": true,
           "gridcolor": "white",
           "linecolor": "white",
           "ticks": "",
           "title": {
            "standoff": 15
           },
           "zerolinecolor": "white",
           "zerolinewidth": 2
          }
         }
        },
        "title": {
         "font": {
          "color": "#4D5663"
         }
        },
        "xaxis": {
         "anchor": "y",
         "domain": [
          0,
          0.45
         ],
         "gridcolor": "#E1E5ED",
         "showgrid": true,
         "tickfont": {
          "color": "#4D5663"
         },
         "title": {
          "font": {
           "color": "#4D5663"
          },
          "text": ""
         },
         "zerolinecolor": "#E1E5ED"
        },
        "xaxis2": {
         "anchor": "y2",
         "domain": [
          0.55,
          1
         ],
         "gridcolor": "#E1E5ED",
         "showgrid": true,
         "tickfont": {
          "color": "#4D5663"
         },
         "title": {
          "font": {
           "color": "#4D5663"
          },
          "text": ""
         },
         "zerolinecolor": "#E1E5ED"
        },
        "xaxis3": {
         "anchor": "y3",
         "domain": [
          0,
          0.45
         ],
         "gridcolor": "#E1E5ED",
         "showgrid": true,
         "tickfont": {
          "color": "#4D5663"
         },
         "title": {
          "font": {
           "color": "#4D5663"
          },
          "text": ""
         },
         "zerolinecolor": "#E1E5ED"
        },
        "xaxis4": {
         "anchor": "y4",
         "domain": [
          0.55,
          1
         ],
         "gridcolor": "#E1E5ED",
         "showgrid": true,
         "tickfont": {
          "color": "#4D5663"
         },
         "title": {
          "font": {
           "color": "#4D5663"
          },
          "text": ""
         },
         "zerolinecolor": "#E1E5ED"
        },
        "xaxis5": {
         "anchor": "y5",
         "domain": [
          0,
          0.45
         ],
         "gridcolor": "#E1E5ED",
         "showgrid": true,
         "tickfont": {
          "color": "#4D5663"
         },
         "title": {
          "font": {
           "color": "#4D5663"
          },
          "text": ""
         },
         "zerolinecolor": "#E1E5ED"
        },
        "xaxis6": {
         "anchor": "y6",
         "domain": [
          0.55,
          1
         ],
         "gridcolor": "#E1E5ED",
         "showgrid": true,
         "tickfont": {
          "color": "#4D5663"
         },
         "title": {
          "font": {
           "color": "#4D5663"
          },
          "text": ""
         },
         "zerolinecolor": "#E1E5ED"
        },
        "xaxis7": {
         "anchor": "y7",
         "domain": [
          0,
          0.45
         ],
         "gridcolor": "#E1E5ED",
         "showgrid": true,
         "tickfont": {
          "color": "#4D5663"
         },
         "title": {
          "font": {
           "color": "#4D5663"
          },
          "text": ""
         },
         "zerolinecolor": "#E1E5ED"
        },
        "yaxis": {
         "anchor": "x",
         "domain": [
          0.80625,
          1
         ],
         "gridcolor": "#E1E5ED",
         "showgrid": true,
         "tickfont": {
          "color": "#4D5663"
         },
         "title": {
          "font": {
           "color": "#4D5663"
          },
          "text": ""
         },
         "zerolinecolor": "#E1E5ED"
        },
        "yaxis2": {
         "anchor": "x2",
         "domain": [
          0.80625,
          1
         ],
         "gridcolor": "#E1E5ED",
         "showgrid": true,
         "tickfont": {
          "color": "#4D5663"
         },
         "title": {
          "font": {
           "color": "#4D5663"
          },
          "text": ""
         },
         "zerolinecolor": "#E1E5ED"
        },
        "yaxis3": {
         "anchor": "x3",
         "domain": [
          0.5375,
          0.73125
         ],
         "gridcolor": "#E1E5ED",
         "showgrid": true,
         "tickfont": {
          "color": "#4D5663"
         },
         "title": {
          "font": {
           "color": "#4D5663"
          },
          "text": ""
         },
         "zerolinecolor": "#E1E5ED"
        },
        "yaxis4": {
         "anchor": "x4",
         "domain": [
          0.5375,
          0.73125
         ],
         "gridcolor": "#E1E5ED",
         "showgrid": true,
         "tickfont": {
          "color": "#4D5663"
         },
         "title": {
          "font": {
           "color": "#4D5663"
          },
          "text": ""
         },
         "zerolinecolor": "#E1E5ED"
        },
        "yaxis5": {
         "anchor": "x5",
         "domain": [
          0.26875,
          0.4625
         ],
         "gridcolor": "#E1E5ED",
         "showgrid": true,
         "tickfont": {
          "color": "#4D5663"
         },
         "title": {
          "font": {
           "color": "#4D5663"
          },
          "text": ""
         },
         "zerolinecolor": "#E1E5ED"
        },
        "yaxis6": {
         "anchor": "x6",
         "domain": [
          0.26875,
          0.4625
         ],
         "gridcolor": "#E1E5ED",
         "showgrid": true,
         "tickfont": {
          "color": "#4D5663"
         },
         "title": {
          "font": {
           "color": "#4D5663"
          },
          "text": ""
         },
         "zerolinecolor": "#E1E5ED"
        },
        "yaxis7": {
         "anchor": "x7",
         "domain": [
          0,
          0.19375
         ],
         "gridcolor": "#E1E5ED",
         "showgrid": true,
         "tickfont": {
          "color": "#4D5663"
         },
         "title": {
          "font": {
           "color": "#4D5663"
          },
          "text": ""
         },
         "zerolinecolor": "#E1E5ED"
        }
       }
      },
      "text/html": "<div>\n        \n        \n            <div id=\"8f3d971d-ea2a-49c1-82a8-1e7a7eb3a557\" class=\"plotly-graph-div\" style=\"height:525px; width:100%;\"></div>\n            <script type=\"text/javascript\">\n                require([\"plotly\"], function(Plotly) {\n                    window.PLOTLYENV=window.PLOTLYENV || {};\n                    window.PLOTLYENV.BASE_URL='https://plot.ly';\n                    \n                if (document.getElementById(\"8f3d971d-ea2a-49c1-82a8-1e7a7eb3a557\")) {\n                    Plotly.newPlot(\n                        '8f3d971d-ea2a-49c1-82a8-1e7a7eb3a557',\n                        [{\"histfunc\": \"count\", \"histnorm\": \"\", \"marker\": {\"color\": \"rgba(255, 153, 51, 1.0)\", \"line\": {\"color\": \"#4D5663\", \"width\": 1.3}}, \"name\": \"GE\", \"opacity\": 0.8, \"orientation\": \"v\", \"type\": \"histogram\", \"x\": [null, 0.0012414650880647237, 0.020872458170441553, 0.06012417497846553, -0.020809999513793292, -0.007034026657380048, 0.050469425689152, 0.0, -0.004484312447328464, -0.01928590688658323, 0.028234512462597516, 0.017660503151950314, -0.008791265411170658, -0.04515439748054418, 0.00805064727716699, 0.005711037795514434, 0.042369771039013675, -0.02542978379763108, -0.0033651181503135588, 0.022223136784710256, 0.1101840286275315, 0.0029484050842973858, 0.001960784941941067, 0.040312560177282165, -0.015166167471411045, -0.039946860210852336, -0.025164891094321358, 0.022178328396572293, -0.00499751165047151, 0.03833393191806313, -0.0323399079778527, 0.004967720101934447, 0.003956483895074507, -0.0029658944133785104, -0.00695482187336961, 0.013861608086624512, 0.06195406335786693, 0.024621863170093992, 0.020427822690098223, -0.04608243631666055, -0.011616781170669232, 0.010653853797275807, -0.048356732103121816, -0.08215143436275393, 0.03664203023378452, 0.01366285047711789, 0.03285716515777502, -0.014242356715543216, 0.026290695231717516, 0.027560799578871416, -0.03356682363908316, 0.023810648693718392, -0.000980873055591948, 0.002939737540924974, 0.0048804391649083486, -0.02864393361709413, -0.01007057856359617, 0.022022912087437254, -0.013958352250706801, -0.007052925961886096, 0.01006044702584126, 0.01095083118675148, 0.01376619576414797, -0.013766195764147959, -0.00695482187336961, -0.0019960086467149273, -0.053345980705292624, -0.028863575053334024, -0.0065288588824636675, -0.004376374599799, -0.013245226750020567, -0.0022246950221110513, 0.017660503151950314, -0.002190581379818809, 0.02490653921435566, -0.0021413284413431153, -0.0010723861617525938, -0.021692824611259896, 0.04816340137862294, 0.01658069073305074, 0.04422831386255474, 0.007835495523948638, 0.024097551579060524, -0.006688988150796652, -0.03116123598030105, 0.004933409117955772, -0.011881327886752788, 0.008924203997009088, -0.026001464815201943, 0.0445839066080266, -0.00583092031079321, -0.012751521482031378, -0.012916225266546401, -0.012072581234269136, 0.008064559836730495, -0.006042314455962698, -0.03494703007723433, -0.011572985557658632, -0.009569451016150672, 0.001067805760830137, 0.0106158109476561, -0.0031729270405777203, 0.009488737508701453, 0.048140375327935025, -0.011060947359424835, 0.0030287756621605686, 0.006030169026591231, 0.006989544181712103, 0.006941029354234542, 0.015686596167699473, 0.002914038001849719, -0.007789718065333478, -0.01775194545845034, 0.036154401820136, -0.007707167244937778, 0.027660323273573612, -0.014211513460960471, -0.019268418865877143, -0.005853675251460541, 0.0048804391649083486, 0.012578782206860185, 0.009569451016150672, 0.012304935190378874, -0.0009411765400639644, -0.0009420631879010176, -0.010421695462414072, -0.028987536873252413, 0.00488998529419177, -0.004889985294191904, -0.008862687257845317, 0.025391989209055842, -0.009689998300969057, 0.010653853797275807, -0.03929778741436999, 0.007984074348220549, -0.0019900504080101475, 0.016790517912991253, 0.042192259978859954, 0.0028129413766146577, -0.023686564519367705, 0.007640915876178794, -0.012446307151117044, 0.013397329571821125, -0.006676228898743821, -0.03604871576759737, -0.007968169649176845, -0.03459144476961909, -0.009360442759563695, -0.011560822401075971, 0.0031662295580495133, -0.036484733334406556, -0.010989121575595206, 0.032611585588760796, -0.03482397587170165, -0.11986160634862615, 0.0929239506168178, -0.013745920904635014, -0.03402087629845873, -0.026603745517976136, 0.0036697288889624017, -0.0272294050628544, 0.009987598628348412, -0.015019055783715459, 0.0012602396122877732, 0.021184592868277095, 0.01711533221926818, 0.009650255832161768, 0.054888265305409634, 0.0011357184639274286, -0.011415649083676656, 0.028298436122427672, 0.019890158479219412, 0.0237849050234419, -0.010741241831412625, 0.008602203582663288, 0.004273510777382085, -0.002134472528632792, 0.002134472528632841, 0.00425532557013827, -0.005321992337940981, -0.003206844009579446, -0.04042057617004647, 0.02096050261533399, -0.015401844611506703, 0.0022148403295528213, -0.011123585218662316, -0.03761127074578335, -0.011682375854356568, 0.02322984827912885, -0.016204058254723028, -0.0011675424560377012, -0.03325722175648259, 0.008418570465595826, 0.01190490250631824, 0.04058528011507851, -0.009132483563272587, 0.019307811604925024, 0.0011242272122809105, 0.01560789766599075, -0.008888947417245815, -0.019155515289753716, 0.030254408357802562, 0.008791265411170724, -0.021006853179294772, 0.0055710450494554295, 0.007747686790825957, 0.0, 0.10855276890533472, -0.012941942709007292, 0.03929778741437001, 0.051630424450704544, 0.0036529720986916633, 0.004547529437629516, 0.024205574436802182, 0.02016727710617459, -0.014866911340333473, 0.00614846030045248, -0.01144882606629354, 0.0, 0.02016727710617459, -0.006968669316093316, 0.005231049417552503, -0.009611257910113599, 0.012216556821876676, 0.0017331026868350958, 0.002594035177046528, -0.020061728217437538, -0.005300365765841052, -0.0017730501098856923, -0.00980837109852004, -0.015350188537634833, -0.008222979180431992, -0.010143009965054866, 0.028325329048245175, -0.009959339902758355, 0.001818182319058505, -0.0036396764474496595, 0.041951711664512774, -0.008779687652045837, -0.015104685218496642, -0.006286504762820949, -0.012692826798418846, 0.007272759329079657, -0.0009062075835380977, 0.011717123687753897, 0.0017905107737882938, -0.008984786407815297, 0.007194275634027231], \"xaxis\": \"x\", \"yaxis\": \"y\"}, {\"histfunc\": \"count\", \"histnorm\": \"\", \"marker\": {\"color\": \"rgba(55, 128, 191, 1.0)\", \"line\": {\"color\": \"#4D5663\", \"width\": 1.3}}, \"name\": \"AAPL.O\", \"opacity\": 0.8, \"orientation\": \"v\", \"type\": \"histogram\", \"x\": [null, -0.10492438427688831, 0.04180329782029066, -0.0022283003244291597, 0.01888364670315034, 0.01683917971506794, 0.0031910417491808744, -0.009866459207944251, -0.015151303767343681, 0.020260039007360012, 0.012142612100140771, 0.005920223211658483, 0.006140482387360865, -0.022701864925007316, 0.004036201039627685, -0.00795777469280962, 0.032599678629738615, -0.009297653426894203, -0.010418770688334572, 0.06610101199269938, 0.007175405382944846, 0.0004805382120342681, 0.028009054815559917, 0.016964770122258957, 0.00034441192005689816, -0.019121041446778512, -0.0031053196185706366, -0.0057674359492863305, 0.008580212488802528, -0.004163374237406114, 0.0036365809330583436, -0.0022273029546597293, 0.0029881375683668745, 0.006414764240771072, -0.00565450805631222, 0.01110379690319628, 0.0072580963789818705, 0.0005737893203100717, 0.003092785970444154, -0.009884569877137126, 0.01045625980809737, 0.005016828263462965, -0.0018213904517370076, -0.005770620212845565, -0.011642111783994503, 0.002373991445283512, 0.034055762597975596, 0.011172679518496185, 0.0044123396277958105, 0.011055278970677722, 0.012924338344804514, 0.010156713173957166, -0.007956256093933647, 0.008700580653790806, 0.03616832583890811, -0.02092581665626109, -0.012164767299721994, -0.010385415421975358, 0.008953851857324736, 0.0013255920708832372, 0.0064964445342148396, 0.006768304124268134, 0.01443206277523486, 0.00683157496794202, 0.0017389529750348404, 0.00667195426187413, 0.015613512851699297, -0.0030030052597695457, 0.005598335125421055, -0.008359034582401502, -0.00040219195152770405, 0.001808591299322062, 0.00010038144959242428, 0.01928585049533919, 0.00358731557460301, 0.017601465742932504, -0.0015435079275087137, -0.009116540688364415, -0.00478539904374986, 0.0015162263548915062, -0.019443960380041692, 0.041389930089781056, 0.012354635643956283, -0.015563220155628835, -0.02732702742868527, 0.00019716088391932133, -0.01080234477360228, -0.017793884911271513, -0.059876853995174346, 0.015706290069986212, 0.011908038915988677, -0.004409455963415554, -0.005698021114637779, -0.03176917983512906, 0.018989453188730094, -0.02068404456918788, -0.017217068042995082, -0.0038479817717436407, -0.004143342993557244, -0.004780527087453463, 0.005173200920788493, -0.018281630924253847, -0.010161697223280449, 0.03593065149797671, 0.016014478869193965, 0.01457498065339172, 0.02626892663214572, 0.012698417437869296, 0.011513072780974794, -0.003187663367584239, -0.0002060050478521318, -0.007288925754534958, 0.0059488575197722635, 0.02324619128616053, -0.002926929824725631, 0.008003465569373308, -0.003415029433862381, -0.0010066439344114438, -0.015273670000890454, 0.021398494609895607, -0.0003003453994645281, -0.009153612170810965, 0.01817458091899706, 0.005837554916927553, 0.008252736331783386, -0.0008809710828194013, -0.020829448180696448, 0.006080864074747711, 0.009840116979097898, -0.007309035452157465, 0.0076534134842428025, 0.009351124418371954, -0.0034658695698165896, -0.005639343129622872, 0.01129568744781095, -0.015040087546184295, 0.022596798568745524, 0.00778737771874589, -0.0008143517970583359, -0.007938649789689105, 0.0034718908440613287, 0.009295261215485604, -0.004301493034998572, 0.020198875525524452, -0.021876688052097398, -0.021385225199206482, -0.053767731217913485, 0.018753431701529048, 0.010302080812826029, 0.021816155813045975, -0.012066809786199935, -0.002540664429902454, 0.041476209844248525, -0.030217007996484326, -0.004993953368832868, 0.02332067277439805, 0.01847239763544248, 4.753868461353709e-05, 0.010780246243791704, -0.0008468596130676816, -0.04732272965844766, 0.01882097938496287, -0.011347984921957514, 0.006688008526492317, 0.016790089027219835, -0.0012926393182315016, -0.01467066173299424, 0.016824133242117543, 0.01936292652936958, -9.377784036514627e-05, 0.004258013592445441, 0.011743816359834488, 0.031300109019398815, -0.0022611528075855963, -0.019623339516402778, 0.005243372322991682, 0.00363141570197524, 0.009335535814091937, -0.00815815941580054, -0.014725926596754473, 0.004536609911411856, -0.004766278500648565, 0.015272344436359988, -0.005171017600671681, -0.0048779472620353, 0.023262640265735535, 0.0027644034012519973, -0.02538745298320772, 0.008458825278567127, 0.027646179363548958, 0.00022023036184768487, -0.011784126087846273, 0.011651993690992643, 0.01338836939190756, 0.026250703138175204, -0.0014404340738325713, -0.002334515799528931, -0.004045226832471995, 0.0038752310819564484, 0.004791291575966874, 0.017194082901263532, -0.002289425938077481, 0.013329667083379933, 0.001643520790692368, 0.012241053781442197, 0.009967195078885764, -0.023399532095262503, -0.00012331723373965468, 0.022357746045398162, 0.027985495935558668, 0.0065456479325438485, -0.0014379265248897698, 0.00042770768776131507, 0.008477415432031041, 0.002733030936901108, 0.007887623694004784, -0.0009157509797466719, 0.009536002965696474, -0.0069435501222121065, 0.011809372671647542, 0.005029474250930601, -0.003037179634604965, -0.011709735672908094, -0.00449353383675134, -0.0008782146080777689, 0.017381863348771995, -0.007839334610553009, 0.013342802199318405, -0.0022052373959558008, -0.011629569733336675, -0.017990974358069328, 0.008787638813585888, 0.014564468934846784, 0.019132023639153513, -0.014099149165929161, 0.005827435243435455, 0.008493328756820118, 0.002545046834157413, 0.013501604635948721, 0.01697307462179971, 0.001963339735034386, -0.0023922175114439, 0.0010004288386213317, -0.002073428691202643, 0.01618663766262948, 0.020216791725376045, 0.005917584185011465, 0.007279967896935055], \"xaxis\": \"x2\", \"yaxis\": \"y2\"}, {\"histfunc\": \"count\", \"histnorm\": \"\", \"marker\": {\"color\": \"rgba(50, 171, 96, 1.0)\", \"line\": {\"color\": \"#4D5663\", \"width\": 1.3}}, \"name\": \".SPX\", \"opacity\": 0.8, \"orientation\": \"v\", \"type\": \"histogram\", \"x\": [null, -0.025068276263535243, 0.03375937831872888, 0.006985975834124729, 0.009648598495866724, 0.004089652304170427, 0.004508267632578381, -0.0001463536754715011, -0.005271432420136155, 0.0106646417681244, 0.002219501906088628, 0.007562782854258203, 0.013096912647036883, -0.014258454363476867, 0.002200471333308696, 0.0013747320396555432, 0.00845289360249617, -0.007877809121115848, -0.0014572709979783426, 0.015429591679246102, 0.008560630907940894, 0.0008982318744328292, 0.006753348935356753, 0.004697431279443067, -0.0022269728784431774, -0.009401171920809304, 0.0006760338865466208, 0.000708790508255086, 0.012807878037835878, 0.0030194138361176875, -0.002655145628696972, 0.010819962367806283, 0.001497652997307533, 0.001775554608288014, -0.0035326446287138233, 0.006390624438174243, 0.0012310380564024776, -0.0007906963011304784, -0.0005441904227899106, -0.0028295460586895897, 0.006871673980360752, -0.0038881492742662512, -0.0011321175028613038, -0.006545490992497904, -0.008158903888960062, -0.0021340139198386563, 0.01455954294099511, 0.0029489762744178273, 0.00692558154704747, -0.0008684201706034471, 0.004972519373935739, 0.003699110562037016, -0.00013061489628502955, -0.002948665691828101, 0.010794049627223466, -0.01915685423505291, -0.0008394251681050246, 0.007157105194891676, -0.0046551989086819415, 0.003583117299404196, 0.00671171968568772, 0.01150218150005278, 1.7438524840564605e-05, 0.0021461030004631186, 0.0020824685638528733, 0.004625683691842571, 0.0010469016298636597, -0.00608595272610467, 0.003471834314499749, 3.808514800869783e-05, 0.006587632286936534, -0.000629624362145833, 0.0005092350573861668, -0.0022763638303940604, 0.0015778199046987368, 0.009813890378385492, -0.0021941919046150143, -0.0003690150415501984, 0.004674363485904015, 0.0010708986882482718, 0.000950948132916521, -0.009656670672905288, 0.009592170641481537, -0.0044810396666553265, -0.01664951500981834, -0.0016066713268179022, -0.0030260155887187833, 0.0037134177564540913, -0.024426544706444165, 0.007984060207655182, 0.005821977020810247, 0.008855919648712162, -0.0058544236531281706, -0.006772240853415355, 0.008459904713623807, -0.0028283616990028514, -0.011985681943016436, 0.0013526195784275823, -0.008410890934652838, -0.006935955517473813, 0.0020962411748005594, -0.013283188023120184, -0.00276903157185015, 0.02120590232217955, 0.00812876850064147, 0.006116809555866062, 0.01044294522456708, 0.004649257428952238, -0.00034993807146250003, -0.0020396984988729416, 0.004089078171241749, -0.001612842169983723, 0.000931335703024821, 0.009670462557011119, 0.002980730141062033, 0.009427615127716307, -0.00126002618014856, -0.0017334348561240606, -0.009541702315563342, -0.0012347459021461497, 0.003815922557317216, 0.005740911810813222, 0.00764299557558019, 0.0029238703472561083, 0.007643076127192919, -0.0018074819954691978, -0.004847185993376031, 0.0012358159804265049, 0.004500484767317741, 0.0022826717159195975, 0.0046094985236418, 0.00017584401022740885, -0.003409581359505424, -0.006552626285154946, 0.003575535665450798, -0.006195889687754784, 0.0028247279603128136, 0.006824164701727632, 0.00467716366089344, -0.005276251069020221, 0.007360474259664691, -0.001617376729950298, -0.002581972383093503, -0.010945190319276599, -0.009039586726804723, -0.007309385354454939, -0.03023016208358668, 0.012933013700777157, 0.0007665958837026665, 0.018588425780336086, -0.006638529760062074, -0.012029650100344293, 0.014654130432155564, -0.029730363473091367, 0.002461236782690441, 0.014323116131046663, 0.012033185301994735, -0.0079462520811493, 0.008213006299499564, -0.0005062096294763871, -0.026288935558066755, 0.01092319117394898, -0.003208331880684989, 0.00652414118680143, 0.01260743543874108, 0.0006426208211523476, -0.006923029401107576, 0.010783722026351545, 0.012925922894213253, 0.0009102039182753089, -9.400484131865216e-05, 0.00032226552944139824, 0.007203659050794233, 0.002874970784836015, -0.0007246184436619995, -0.0031405356059661417, 0.002578428587944307, 0.00034262353493549175, 1.995503465594414e-05, -0.004907608960300919, -9.692756343391435e-05, -0.008452012089671584, 0.006139678900037132, -0.0024318711052058748, -0.005330508411847584, 0.005034926684707536, -0.012334130226057026, -0.01806544138860686, 0.007940382236732714, 0.0141167416692291, -0.004488362257589361, -0.015683166513284146, 0.009063350218850439, 0.006395208846051041, 0.010879533213144676, -0.0013880421740668583, 0.009906435272235942, -0.0020015477739079852, 0.002759018658342625, -0.003927045645713622, 0.0068481074978751595, -0.0035750557426104746, 0.0028430935856431803, 0.0019185981834693214, 0.0040644263323678705, 0.005565861774647979, -0.0008327422880678223, 0.0032480476180495634, -0.00302745151380397, 0.009615978507102713, 0.003697210802720748, -0.001186434481407325, 0.0007022791848279718, 0.0027264069235454487, 0.002557355729783027, -0.001964373318799635, 0.00156339803808006, 0.0007112973716774344, 0.0008367430830954413, 0.007666003452600061, 0.0005030044207048551, -0.0005927388069818729, -0.003763265763221234, -0.0015840312391350534, 0.002172573969691297, 0.007479298726807982, 0.002193123145604235, 0.004165779003972946, -0.004019317171346202, -0.008668527546202967, -0.006660171838373699, 0.006303638685847347, 0.0014991519920369975, 0.00909425204036833, -0.0031678491662223223, -0.0010975548602935618, 0.0029039810658439487, 0.008538608499854607, 7.258531539142115e-05, 0.007122391651237605, 0.0003352146109771036, -0.00043235386016704703, 0.004449308599583262, 0.004932641459037748, 0.00086575659030548, 0.004953576248148058, -0.0057976021775765895, 0.0029416937024937355], \"xaxis\": \"x3\", \"yaxis\": \"y3\"}, {\"histfunc\": \"count\", \"histnorm\": \"\", \"marker\": {\"color\": \"rgba(128, 0, 128, 1.0)\", \"line\": {\"color\": \"#4D5663\", \"width\": 1.3}}, \"name\": \".VIX\", \"opacity\": 0.8, \"orientation\": \"v\", \"type\": \"histogram\", \"x\": [null, 0.0917017667267863, -0.1742598373996326, 0.0009350164309066464, -0.0444305223546076, -0.024228626452790673, -0.024317307650706357, -0.06954247303967012, 0.04724442708229684, -0.024954838893172026, 0.0233804486440635, -0.052842481374379933, -0.014501090690799844, 0.1557545294092328, -0.06351340572232586, -0.032806899471528234, -0.0810137100890614, 0.0799543879561021, 0.01368442407170247, -0.07995558827634748, -0.06370836373734234, -0.02629316859666884, -0.02573094577161635, -0.010223731224279503, -0.012278021768409008, 0.062382427305545586, -0.04051660438198309, 0.01577817522586049, -0.03439829585185171, 0.014157250611092754, 0.03577413170110465, -0.08421291991061974, -0.002014099371701145, -0.059533147798501836, 0.030901335124174777, -0.06795606475851125, 0.09456971327660123, 0.021319928111732247, -0.03147229957575032, 0.005427421735365015, -0.08541344167327787, 0.0752127411852551, 0.007490671729157659, 0.06564035622806655, 0.05259486121309593, -0.03309125462632822, -0.11335360773594438, -0.039862929099517073, -0.026491615446976226, 0.006688988150796489, -0.04701396476817609, 0.016936509530898255, 0.03451205230514368, 0.02548372342310198, -0.02033476022691022, 0.18987427877288446, -0.009143617498952032, -0.10651788379600413, 0.031514508769008735, -0.04869115916959869, -0.051183879211556364, -0.022870786617357405, -0.0029895388483660483, 0.02804611868570375, -0.011713164663653203, -0.05759167063802611, 0.027694077581837222, 0.08015942783707708, -0.0710959216837301, -0.021277398447284965, -0.08074700068853098, 0.025484322013481556, -0.011428695823622857, 0.033901551675681416, -0.041318149330730976, 0.015593258092295136, 0.06768909033746807, 0.008336539375766623, -0.04003613986291601, 0.02941388520629319, 0.0007624857403343954, 0.09447834834086007, -0.1137171102487678, 0.18206252298859477, 0.22417928418774183, 0.00413223728491037, -0.01558473101669809, -0.17460273261421583, 0.24777533850387526, -0.12916139295340437, -0.0939821583608053, -0.07251836968706304, 0.042886572080691826, 0.021692824611259754, -0.08706711679622699, -0.013468217050866593, 0.1372532713922485, -0.06532685385478766, 0.09903138060617876, 0.022599831917240777, -0.0340942113429759, 0.07835163878226507, 0.00798513691931305, -0.1055961979591765, -0.05324911824184309, -0.009993837082334717, 0.022960983890759512, -0.022333434450647765, 0.00313185348379388, -0.005015684496167357, -0.005672880010187653, -0.03473017860113339, 0.004570690294831766, -0.013114942077828018, -0.05564529011529768, 0.02888784094574829, 0.04312442663375462, -0.009132483563272587, 0.0647023347180834, -0.0043090248268094706, -0.024353373408077007, -0.04790559975969786, -0.07003547619729111, -0.08378369359875283, -0.028237170181609997, 0.054946121446131695, 0.04993695328593881, 0.00926922857636247, -0.07821093477383509, -0.007704198352987564, -0.04266049714271494, 0.023136253368028808, 0.014095769800393376, 0.08279045445939719, -0.03200273108617383, 0.0657849723757446, -0.06578497237574447, -0.07041929220586848, -0.04376711486738801, 0.0540236150345772, -0.0465947736059963, 0.05363430208952412, 0.08297622670483266, 0.1452983317461045, 0.10306259209285434, -0.014656406663221957, 0.3338729337199865, -0.19814350426198063, -0.034294838446651106, -0.14199635060898044, 0.06079853788497872, 0.16009529369521552, -0.18545590898243783, 0.2322345230154619, -0.04252026835044681, -0.13690954596211183, -0.09001830504333753, 0.03607139176165744, -0.10219094089654719, 0.05420045689767944, 0.1750006596331249, -0.028070227779353526, 0.04997254680792123, -0.048420956116502364, -0.0790096497304228, 0.05970302343641376, 0.03520032153723869, -0.12614701099150588, -0.06311618249656815, -0.08127272012873638, 0.017839918128331016, -0.004594691378310417, -0.039589202089622626, -0.02705680138751319, -0.03433813758089157, 0.06549330536068707, -0.01580245869021021, -0.034522625197305604, 0.007142887512380204, 0.08653676853269039, -0.027127035535798243, 0.13411807495287872, -0.06606461170786312, 0.00686858772775858, 0.06911731925016337, -0.05859416426605282, 0.13353139262452257, 0.10233871322890992, -0.07261253296370898, -0.11517138622208563, 0.04700005404718329, 0.1270716032746296, -0.08432536946553726, -0.059116907058439326, -0.12020486175640367, -0.06702342023548868, -0.07331635272298458, 0.010286644710275525, 0.008008779610806047, 0.03281321490944922, -0.017699577099400975, 0.03232888711536007, -0.03161485638170311, -0.02164586677469255, -0.0804682784006938, 0.035718082602079246, 0.006841531816716784, -0.06818151241607213, 0.06969551724728738, -0.07213157204516843, 0.042186916249173145, 0.020826051579560797, -0.037329373094038755, 0.008678555456248249, -0.053238377459875044, 0.050091246616856135, -0.0007883327172164291, 0.024923408452456934, 0.003838776307165667, -0.0797234738320384, 0.03345885342264318, 0.03159820545016623, -0.006240269860084623, 0.027018239365316134, -0.062053669837463084, -0.038831809855665186, -0.028194947541623175, 0.018033979510214532, 0.071429616522899, 0.16674927166358008, 0.06805346324501578, -0.07545841125159339, -0.019100171373419378, -0.06398770867528374, 0.15226091548533557, -0.011414201284440123, -0.04500270280775544, -0.07262090678212861, -0.09868746896997799, -0.039569150731047595, 0.012280137946591151, 0.02332232769435099, -0.00637960696403904, 0.0007996801705642441, 0.007961825498008442, 0.06300086055831801, 0.09848660933279475, -0.07275935428242843], \"xaxis\": \"x4\", \"yaxis\": \"y4\"}, {\"histfunc\": \"count\", \"histnorm\": \"\", \"marker\": {\"color\": \"rgba(219, 64, 82, 1.0)\", \"line\": {\"color\": \"#4D5663\", \"width\": 1.3}}, \"name\": \"EUR=\", \"opacity\": 0.8, \"orientation\": \"v\", \"type\": \"histogram\", \"x\": [null, 0.0043987050777835315, 8.777704635874572e-05, 0.007084474463700545, -0.002967620228027563, 0.00878992648661597, -0.0037328052371685587, -0.002699762144931746, 0.0006102611235118212, -0.005242934065163032, -0.0014905092409181696, -0.0001755001759506091, -0.002988225109879958, -0.00026409613252684644, 0.0019350872429439853, -0.006612322968251507, 0.009420327621320397, 0.0018384772085792793, -0.0002624327531134885, 0.004103554891812014, -0.0028794575106673936, 0.0008734387838017413, -0.0016601864969210587, -0.002013394123490903, -0.004567020058248393, -0.0017621149933993321, -0.0010587613482419878, -0.004689651562622024, 0.004336481860911167, -0.005223793365445371, 0.0030136523429013223, -0.0005311614855759744, 0.004153233558072702, -0.00044101434011368135, -8.82262120647601e-05, 0.000617420085766005, 0.0014978636220471084, 0.002374358060462297, -0.001406346368733419, 8.795461547517642e-05, 0.0003517411221631773, -0.0032583358491463125, -0.0027381547823624327, -8.845252316590715e-05, -0.010045868366753245, 0.004101655326826437, 0.0008005337318783993, 0.0034615931250636515, 0.0034496518221494798, -0.0020329701614461085, 0.0020329701614460608, 0.0009708310192815736, 0.0011461319306225416, 0.005448168133540712, -0.003335677250235177, -0.005289618257977727, -0.00017680339508576974, -0.004163904133557338, -0.0015103729938019928, -0.002403526327334393, -0.0002674154314641002, -0.00044585136054449485, -0.0008922995149012381, 0.0028525603226004044, -0.0012469940156905768, -0.0005349023930696534, 0.004004811119512713, 0.00017761989389532555, 0.0010650573475055605, -0.002042357411965107, 0.004434597067865554, 0.0006192772348133701, -0.0023907568831953436, 0.0012403651807321846, -0.005771893660243321, -0.00035628396208359144, -0.006524579610149965, -0.001974688730714589, 0.0016159443322484074, 0.003313485322391155, 0.0026785730300786384, -0.003483546017511015, 0.0021451563463884236, -0.0002678930229890633, -0.0006253629542259945, 8.936151205615304e-05, 0.00258801625866029, 0.0011579745648817791, -0.0008906306253133328, -0.0017836444575325154, -0.00026782127553732956, -0.0025031302181186994, -0.0014331783176879036, 0.001254143315866896, -0.001074883657772784, -0.0005378754051685126, 0.00250761370878519, 0.001965866060687486, -0.003756376834475657, -0.002781642961876914, 8.985129616544447e-05, 0.0033188351762016392, 0.006515844001889965, 0.000978169123389617, -0.0028482440261073205, 0.00489042009655575, 0.0050431427390462925, -0.0016782232442125874, 0.0015017007371345504, -0.0037141889178621992, -0.0010637355847473071, -0.0060493023188510605, 0.0008919015931953297, -0.0023206008271961986, 0.0029444589642697236, 0.005951605398225331, 0.0066204946765447276, 0.0026359737607320635, -0.0027239593311552813, 0.0002639334902928867, 0.0, 0.0, -0.007327980525300511, -0.00017724211318994712, -0.0005319149061585586, -0.00471091044999066, -0.0008913450986791564, -0.0007136485583879725, 0.0038298866675961, 0.0002666548169215302, 0.0015097023426019036, -0.0010654355975454463, -0.004273130333708545, 0.001248216995160562, 0.004622641354623061, -0.004889985294191681, -0.0010700910598444044, -0.005098629051481084, -0.0010767161201721798, 0.0005385029747795463, -0.001796138785528299, 0.0017064084252007205, 0.0008072835348951384, -0.007108501611624408, 0.0008123843927407584, 0.002163137391466962, 0.008516793602657613, -0.0003571428609392117, -8.930564864157602e-05, -0.0016983244305535778, 0.0017876300791950731, 0.0012494423758404676, -0.003842549743852235, -0.002779398391212824, -0.0028771823480613235, -0.0015318768483366572, -0.00117302066236351, 0.0020744088611272036, -0.0014426113763265026, -0.0004512431826040041, 0.005940076866592599, -0.0039561281592160385, -0.0009013069560128868, -0.001172914827479949, -0.0019880722253861915, -0.005988041844622557, -0.001548199389430268, 0.005544208702812258, 0.0, -0.0005439710016275159, 0.0017215607024544115, -0.0002716284140020315, -0.0030836229767277697, 0.004712287831851134, 0.0010843047958538818, -0.006614439917600486, 0.006433804078959024, -0.0038009095533199245, 0.0009968735249395243, -0.002085506491021593, -0.0023627782711644597, 0.0024535429637614747, -0.007013098555871806, -0.0018296592790614764, 0.0015554237089896658, -0.0036636787636743382, 0.002932016027540382, 0.002558480927776909, 0.0005473953243152164, 0.0010938925429898778, -0.0005467966963904399, -0.0014595879256093039, 0.0013684260676676036, 0.0031857306331311494, 0.0032661977866211022, -0.0010875476873989933, 0.00027199782569433203, 0.003529255733300857, 0.004686382044826727, 0.004216954793317303, -0.0018819739389877351, -0.002155173247983376, 0.0004493776195696098, -0.002248910226839378, -0.0023442441535366687, 0.001803752292797363, 0.0010806917478292802, 0.0034145059681631113, 0.00017938828642595373, 0.0013443873859934597, -0.003499173639019718, -0.004684693252326107, -0.0008130448977623205, -0.0014470473719750538, -0.0029911647046843427, 0.0014513790646469855, -0.0022687064497459155, -9.085540368766358e-05, 0.001361965071837821, 0.0026278842543567536, 0.0018083187567836808, 0.000722412890366459, -0.0005417607355983012, -0.0013556873150490372, -0.003170436099220913, -0.0008168822782367701, 0.00045390586771772157, -0.00181686096490158, 0.001544542168683336, 0.005612906280489427, 0.0003610434193926799, -0.0004513246454731102, 0.0023446669592542763, -0.00406156070770493, 0.0004521000122216103, 0.0027083161810451777, 0.00324032686761021, 0.0, -0.0008090979000295211, 0.0020663948775115825, 0.0006280561868105382, -0.0034141991835627836, 0.0008096802205646924, -0.0037841292115242927, 0.0007218913867010166, 0.00799608950201949, 0.0019667447784272925, 0.001160351806008741], \"xaxis\": \"x5\", \"yaxis\": \"y5\"}, {\"histfunc\": \"count\", \"histnorm\": \"\", \"marker\": {\"color\": \"rgba(0, 128, 128, 1.0)\", \"line\": {\"color\": \"#4D5663\", \"width\": 1.3}}, \"name\": \"XAU=\", \"opacity\": 0.8, \"orientation\": \"v\", \"type\": \"histogram\", \"x\": [null, 0.006880396371333988, -0.006810345740265997, 0.002953224656158975, -0.0029376585156275295, 0.006361788786292394, -0.005218418089448996, 0.0009170028428912597, 0.0032490075164549087, -0.001898463600906098, 0.0032523610085474506, -0.001578357269620597, -0.008000011568546168, 0.0027516338125535326, -0.0020493646741684057, -0.0011316765237634778, 0.017479254473842607, 0.00024553057746306694, 0.006423710203582695, 0.005814478049599, 0.000795433496356041, -0.0019934892845988, -0.00474609389461805, 0.0024823362152226547, -0.006714763316578856, 0.0029661589376251, 0.0030182719691833155, -0.0043702996434492655, 0.0017183643875906662, -0.0033554641802379602, 0.004857567025015335, 0.006478118261943099, 0.015078663958297827, -0.0019929172220887795, -0.011497316225079171, 0.0034706276679271775, -0.0004896092606910225, 0.001129604463748596, -0.00661543894917641, -0.00542459715141928, -0.0148490108675326, -0.005347322125888798, 0.0005945768411977615, -0.0006373322317844998, -0.0006726662526590804, 0.009688464233370228, -0.003094126333759027, 0.005978998919239965, 0.005569209925407251, -0.00997873014720587, 0.00392544289828341, 0.001781477715082478, 0.0021841181208646556, 0.004533076825845906, -0.0023117075724470287, 0.0029935175567132465, 0.006580843733722791, -0.004838437784156821, -0.004541167780895283, -0.014856347805701994, 0.0013555123006573611, -0.0034776710252178633, 0.004135400335292984, -0.0023969915500300976, 0.0019134091623479966, -0.0006386870360429769, 0.004531651026302097, 0.005167155534658219, 0.0029942434917421654, -0.011884115344578618, -0.0018161792050118983, -0.0018350159457296703, -0.008943797539301244, -0.0019059501987213812, 0.0009965670270587765, -0.002245639223205335, 0.0022064230755593837, 0.0015596164467976024, 0.006945556249827168, -0.004911524646923569, 0.002965392941297369, -0.010228625700130807, 0.006786310796730846, 0.0008871383081396232, 0.0032951528718939407, -0.002939768105568208, 0.002503637820310576, 0.0014478428895502119, 0.01087330919021226, -0.002218431601194828, -0.0002776503089344502, -0.007755143278683678, -0.007216586486931959, 0.0002700962381052627, -0.0021706601214882336, -0.0010674663211593552, 0.00757705328439338, 0.001242359552167422, -0.004356982441536485, 0.00010944939149252395, 0.0072438685726753434, 0.012915842198242, 0.014844266156396986, 8.302983417683884e-05, 0.0036916257184019083, 0.0037679528775815658, 0.004112001607231933, -0.009422752372025089, -0.0008043272105018159, 0.004885674081261622, 0.006571716030208366, -0.0004621209944797355, -0.0015257695690915334, 0.005060775352680583, 0.010192442123453688, 0.02031624113718965, 0.0078021376033524745, 0.014550615152063674, 0.0026038016118457167, -0.010243096057742542, 0.0006601292815396354, -0.00012773295314671127, -0.017926453559305628, 0.024360116613934595, 0.00024330789719006894, -0.013477417290192376, -0.0031129822079706665, 0.0018617978883134372, 0.014911871856438223, -0.010771079190406693, 0.008438928515920936, -0.0012830597251806274, -0.005497227997319297, 0.014594985341456715, 0.013507132874772287, -0.014692469905239655, -0.00013335064572001401, -0.005440399664992196, 0.00619815618077002, -0.008218558687822168, 0.0029515209744933953, 0.005887619414811498, 0.0027402952892726404, -0.011989665979130702, 0.022043181612282324, -0.0031884164238763888, 0.015940118261492834, 0.0069924403280854815, 0.018106704778823035, -0.000533191161658724, -0.0021088888103147282, 0.009518039803812066, -0.00664943964725536, 0.00990653479557125, 0.004521172279711887, -0.006062510644524597, -0.012463809042515225, 0.007895172346726454, -0.0032238258474333024, -0.0022662143938697284, 0.018184122566618686, -6.552865242667338e-05, 0.010686470305379649, -0.002333511271641994, -0.007435948423856183, -0.004955297694095191, 0.017511983283905595, 0.0036462827381975363, -0.021651857568674788, -0.008196225406374127, -0.00535712596010541, -0.008813286944475017, 0.007912070241010906, 0.0009345795072771869, -0.006862755622590171, 0.006328817146313071, 0.0028665730772379737, -0.005707911419742238, 0.0035754302704284454, 0.011771668719809471, 0.0033666685850701076, 0.006506958068015728, -0.018481526186604452, 0.0012295015422265573, -0.006022348790466012, -0.01654712075182751, 0.004460147434026484, 0.01388948530519431, 0.003655118399837992, -0.00026586022555327065, -0.007338992809400421, 0.007943722344278493, 2.6573129253207822e-05, -0.007535127173695661, -0.0030501624143678993, 0.002246626814684666, -0.00799003483998683, 0.005689695481396028, 0.0015229740515884031, -0.001301428400529636, -0.003665163234762448, 0.002288099521089532, 0.0028192668447004784, 0.007612470403103299, 0.0007181854157968941, -0.00793196867314905, -0.0033860183931258754, 0.005230347872153202, 0.011940202221082843, 0.0002577055629104285, -0.0028538586116416613, -0.016862881586379042, 0.004277965821797746, -0.015239509260599804, -0.0064348571550079245, -0.0018918644001779095, 0.0008888293136882035, 0.0041032561540445675, 0.005463485340012593, -0.002609268137995602, 0.002475196130248522, 0.0010387919633810937, -0.0007678110099979189, -0.00477049019763552, -0.0014421485725103205, -0.004913559267901545, 0.004338854472455436, -0.004767712130256593, 0.006613803386495374, -0.0010662147655598733, 0.010138266393997444, -0.002128524752571218, 0.0010190179696069749, -0.010967876060817536, 0.0016313431189918922, 0.0014149736626079645, 0.007343391139563048, -0.003681969323658053, 0.004230115385562414, 0.00029997697374835666, 0.0001346114171144382, -0.0006869992411521107, 0.002613877561813659, -0.0007423072039036658, 0.004940784438986034, 0.016788999112144768, 0.003111050762863933, 0.0012446685179123662], \"xaxis\": \"x6\", \"yaxis\": \"y6\"}, {\"histfunc\": \"count\", \"histnorm\": \"\", \"marker\": {\"color\": \"rgba(255, 255, 51, 1.0)\", \"line\": {\"color\": \"#4D5663\", \"width\": 1.3}}, \"name\": \"DE10YT=RR\", \"opacity\": 0.8, \"orientation\": \"v\", \"type\": \"histogram\", \"x\": [null, -0.12438371968773564, 0.3202582428863936, 0.03774032798284711, 0.06280090123903044, -0.06744128079553265, -0.08743429938967426, -0.07919704166119328, 0.24273068458951472, -0.11886120287672894, 0.07929560267053785, 0.08176595469656767, 0.07940677760441062, -0.08770558041910557, -0.06453852113757105, -0.22871459636366526, 0.10088122485378029, 0.044451762570833796, -0.04951506452738044, -0.05745705502478732, -0.17589066646366416, 0.06213178110700618, 0.08096906253366709, -0.08096906253366709, -0.01212136053234485, -0.37247860911185793, -0.28473656222202404, 0.3109389346160482, 0.12160713209478698, -0.071176278467895, -0.17904823144898557, 0.009756174945364656, -0.019608471388376198, 0.0, 0.23690974707835774, -0.26706278524904525, 0.08786135579133425, 0.0633696139325894, 0.3007541540191337, 0.18879407129957215, 0.005361943141385373, -0.16220441463435503, 0.049089610196523574, -0.25045936196117263, -0.6628418310646162, 0.09937247381320356, -0.14518200984449783, -0.08134563945395253, 0.09684982598991781, 0.27996002635787043, 0.034289073478632165, -0.10660973505825813, 0.25270235355575404, -0.2402798335571969, -0.7308875085427924, null, -0.08338160893905114, -0.496436886313891, 1.75539182505718, -0.1459539126230797, 0.014184634991956163, -1.0045833390198333, 0.6539264674066642, -3.2188758248682006, 0.9162907318741551, null, -0.6931471805599453, null, 1.8562979903656263, -1.8562979903656263, null, -0.01834913866819654, 0.15415067982725836, 0.27570588140506525, -1.2407867774486523, 0.5596157879354227, null, -0.3677247801253174, 0.6931471805599453, null, 2.6390573296152584, 0.5389965007326869, -0.1823215567939546, -0.7985076962177717, null, 0.1502822030493379, 0.1508228897345837, -0.040821994520255166, 0.4328640822962787, -0.041385216162854364, 0.301668314426521, -0.053488684950986236, 0.14310084364067324, -0.17662353567931688, -0.3997993705724871, 0.291910408561302, 0.4180438903150244, -0.025317807984289783, 0.27477866761587305, 0.12210269680089991, -0.029156584291455463, 0.17340619313600233, -0.01000008333458331, 0.03941396854087663, 0.06544390825238382, 0.052875752047947776, 0.0902250915927255, -0.15219181534192538, 0.053345980705292714, 0.01716780362236528, 0.033475929196389545, 0.0521160011390141, -0.039845908547199674, 0.27232078729029374, -0.12166051240280407, 0.11855973472455587, -0.1361968762106625, 0.09498660756399961, 0.0717936920187432, -0.08154986696410786, 0.028987536873252406, 0.034324742541074676, 0.0992066500834479, 0.01379332213233577, 0.05074519900523547, -0.06732016409944806, 0.04892279895973201, -0.054509405668371765, -0.15742400517222738, -0.14436267346109546, -0.07469089260158923, 0.18910124377933343, -0.013605652055778598, -0.006872879287762064, 0.06346035391722576, 0.0412102686466629, 0.07477323440245076, 0.028411001832779944, 0.05980042330278727, -0.04865824674954543, 0.043367229115129864, 0.036462372537355014, 0.01774444529907191, 0.09119023806459649, 0.03824988213399964, 0.07851326562163825, 0.03804262544585047, 0.05355007795834194, 0.07530438306413037, -0.036943515191684095, 0.03866914115915391, 0.023851215822179847, 0.024938948347252146, 0.0636144489941931, 0.07707517033049999, -0.03041508886443753, -0.05129329438755058, 0.06734031998506797, -0.026394494122942, -0.04871587272405782, 0.04722888360247954, -0.0029806281381377893, 0.03950769837551206, 0.029684158287700425, -0.03543956985832098, 0.02000066670666965, 0.011251876797434847, -0.05461126978173259, -0.13416463802826945, 0.06696378726017055, -0.08228323579368393, -0.05826890812397564, 0.030441025501235338, -0.05250074356596748, -0.17196643467875042, 0.04531519621204249, 0.0, 0.07516226850862798, -0.011811160928344609, 0.029270382300113237, 0.11092194527643802, 0.03882344108290367, -0.028549378106718475, -0.011996716287631437, -0.005185837032365414, -0.012205905679503734, -0.023071120901311658, -0.023615993071341414, 0.0709517359722844, 0.005123836999869466, -0.018917159132205225, 0.03580945269671078, -0.07294899964616743, -0.12456272264176237, -0.1121864807282261, 0.04246448051775859, -0.07494993566224696, -0.08102589524659189, 0.03022900196131729, -0.04309919248185219, -0.11229295243347115, 0.06995858860691047, 0.07043327504892041, 0.019950786419348693, -0.07696104113612844, -0.13391241758626704, 0.08472217339549531, 0.0, 0.11622564552693011, -0.06171623985855847, -0.08292040750115169, -0.08413367716201459, 0.012461220437812033, -0.2601994267579489, 0.06604341231699143, -0.07006756261671696, -0.012170535620255179, 0.20916880683014258, 0.1360117576828545, -0.04130380614123563, 0.008995562908578003, 0.014815085785140682, 0.03752243932308956, -0.08572454114096727, 0.10257887269594931, -0.025389234004819575, 0.07165598890643515, -0.02150620522096362, -0.03878602503515654, -0.24167579944313727, 0.21592330334072254, -0.09097177820572663, -0.06899287148695156, -0.01025650016718911, 0.03710375020337721, -0.020067563050809256, 0.08419209122034803, -0.19482171955818603, 0.10384994135245938, -0.07410797215372172, 0.06040912779555977, -0.14442798384873576, -0.06586742498762499, 0.0457460217882038, -0.004073325387635786, 0.04391923393483558, -0.3466804132137367, 0.03261158558876101], \"xaxis\": \"x7\", \"yaxis\": \"y7\"}],\n                        {\"barmode\": \"overlay\", \"legend\": {\"bgcolor\": \"#F5F6F9\", \"font\": {\"color\": \"#4D5663\"}}, \"paper_bgcolor\": \"#F5F6F9\", \"plot_bgcolor\": \"#F5F6F9\", \"template\": {\"data\": {\"bar\": [{\"error_x\": {\"color\": \"#2a3f5f\"}, \"error_y\": {\"color\": \"#2a3f5f\"}, \"marker\": {\"line\": {\"color\": \"#E5ECF6\", \"width\": 0.5}}, \"type\": \"bar\"}], \"barpolar\": [{\"marker\": {\"line\": {\"color\": \"#E5ECF6\", \"width\": 0.5}}, \"type\": \"barpolar\"}], \"carpet\": [{\"aaxis\": {\"endlinecolor\": \"#2a3f5f\", \"gridcolor\": \"white\", \"linecolor\": \"white\", \"minorgridcolor\": \"white\", \"startlinecolor\": \"#2a3f5f\"}, \"baxis\": {\"endlinecolor\": \"#2a3f5f\", \"gridcolor\": \"white\", \"linecolor\": \"white\", \"minorgridcolor\": \"white\", \"startlinecolor\": \"#2a3f5f\"}, \"type\": \"carpet\"}], \"choropleth\": [{\"colorbar\": {\"outlinewidth\": 0, \"ticks\": \"\"}, \"type\": \"choropleth\"}], \"contour\": [{\"colorbar\": {\"outlinewidth\": 0, \"ticks\": \"\"}, \"colorscale\": [[0.0, \"#0d0887\"], [0.1111111111111111, \"#46039f\"], [0.2222222222222222, \"#7201a8\"], [0.3333333333333333, \"#9c179e\"], [0.4444444444444444, \"#bd3786\"], [0.5555555555555556, \"#d8576b\"], [0.6666666666666666, \"#ed7953\"], [0.7777777777777778, \"#fb9f3a\"], [0.8888888888888888, \"#fdca26\"], [1.0, \"#f0f921\"]], \"type\": \"contour\"}], \"contourcarpet\": [{\"colorbar\": {\"outlinewidth\": 0, \"ticks\": \"\"}, \"type\": \"contourcarpet\"}], \"heatmap\": [{\"colorbar\": {\"outlinewidth\": 0, \"ticks\": \"\"}, \"colorscale\": [[0.0, \"#0d0887\"], [0.1111111111111111, \"#46039f\"], [0.2222222222222222, \"#7201a8\"], [0.3333333333333333, \"#9c179e\"], [0.4444444444444444, \"#bd3786\"], [0.5555555555555556, \"#d8576b\"], [0.6666666666666666, \"#ed7953\"], [0.7777777777777778, \"#fb9f3a\"], [0.8888888888888888, \"#fdca26\"], [1.0, \"#f0f921\"]], \"type\": \"heatmap\"}], \"heatmapgl\": [{\"colorbar\": {\"outlinewidth\": 0, \"ticks\": \"\"}, \"colorscale\": [[0.0, \"#0d0887\"], [0.1111111111111111, \"#46039f\"], [0.2222222222222222, \"#7201a8\"], [0.3333333333333333, \"#9c179e\"], [0.4444444444444444, \"#bd3786\"], [0.5555555555555556, \"#d8576b\"], [0.6666666666666666, \"#ed7953\"], [0.7777777777777778, \"#fb9f3a\"], [0.8888888888888888, \"#fdca26\"], [1.0, \"#f0f921\"]], \"type\": \"heatmapgl\"}], \"histogram\": [{\"marker\": {\"colorbar\": {\"outlinewidth\": 0, \"ticks\": \"\"}}, \"type\": \"histogram\"}], \"histogram2d\": [{\"colorbar\": {\"outlinewidth\": 0, \"ticks\": \"\"}, \"colorscale\": [[0.0, \"#0d0887\"], [0.1111111111111111, \"#46039f\"], [0.2222222222222222, \"#7201a8\"], [0.3333333333333333, \"#9c179e\"], [0.4444444444444444, \"#bd3786\"], [0.5555555555555556, \"#d8576b\"], [0.6666666666666666, \"#ed7953\"], [0.7777777777777778, \"#fb9f3a\"], [0.8888888888888888, \"#fdca26\"], [1.0, \"#f0f921\"]], \"type\": \"histogram2d\"}], \"histogram2dcontour\": [{\"colorbar\": {\"outlinewidth\": 0, \"ticks\": \"\"}, \"colorscale\": [[0.0, \"#0d0887\"], [0.1111111111111111, \"#46039f\"], [0.2222222222222222, \"#7201a8\"], [0.3333333333333333, \"#9c179e\"], [0.4444444444444444, \"#bd3786\"], [0.5555555555555556, \"#d8576b\"], [0.6666666666666666, \"#ed7953\"], [0.7777777777777778, \"#fb9f3a\"], [0.8888888888888888, \"#fdca26\"], [1.0, \"#f0f921\"]], \"type\": \"histogram2dcontour\"}], \"mesh3d\": [{\"colorbar\": {\"outlinewidth\": 0, \"ticks\": \"\"}, \"type\": \"mesh3d\"}], \"parcoords\": [{\"line\": {\"colorbar\": {\"outlinewidth\": 0, \"ticks\": \"\"}}, \"type\": \"parcoords\"}], \"pie\": [{\"automargin\": true, \"type\": \"pie\"}], \"scatter\": [{\"marker\": {\"colorbar\": {\"outlinewidth\": 0, \"ticks\": \"\"}}, \"type\": \"scatter\"}], \"scatter3d\": [{\"line\": {\"colorbar\": {\"outlinewidth\": 0, \"ticks\": \"\"}}, \"marker\": {\"colorbar\": {\"outlinewidth\": 0, \"ticks\": \"\"}}, \"type\": \"scatter3d\"}], \"scattercarpet\": [{\"marker\": {\"colorbar\": {\"outlinewidth\": 0, \"ticks\": \"\"}}, \"type\": \"scattercarpet\"}], \"scattergeo\": [{\"marker\": {\"colorbar\": {\"outlinewidth\": 0, \"ticks\": \"\"}}, \"type\": \"scattergeo\"}], \"scattergl\": [{\"marker\": {\"colorbar\": {\"outlinewidth\": 0, \"ticks\": \"\"}}, \"type\": \"scattergl\"}], \"scattermapbox\": [{\"marker\": {\"colorbar\": {\"outlinewidth\": 0, \"ticks\": \"\"}}, \"type\": \"scattermapbox\"}], \"scatterpolar\": [{\"marker\": {\"colorbar\": {\"outlinewidth\": 0, \"ticks\": \"\"}}, \"type\": \"scatterpolar\"}], \"scatterpolargl\": [{\"marker\": {\"colorbar\": {\"outlinewidth\": 0, \"ticks\": \"\"}}, \"type\": \"scatterpolargl\"}], \"scatterternary\": [{\"marker\": {\"colorbar\": {\"outlinewidth\": 0, \"ticks\": \"\"}}, \"type\": \"scatterternary\"}], \"surface\": [{\"colorbar\": {\"outlinewidth\": 0, \"ticks\": \"\"}, \"colorscale\": [[0.0, \"#0d0887\"], [0.1111111111111111, \"#46039f\"], [0.2222222222222222, \"#7201a8\"], [0.3333333333333333, \"#9c179e\"], [0.4444444444444444, \"#bd3786\"], [0.5555555555555556, \"#d8576b\"], [0.6666666666666666, \"#ed7953\"], [0.7777777777777778, \"#fb9f3a\"], [0.8888888888888888, \"#fdca26\"], [1.0, \"#f0f921\"]], \"type\": \"surface\"}], \"table\": [{\"cells\": {\"fill\": {\"color\": \"#EBF0F8\"}, \"line\": {\"color\": \"white\"}}, \"header\": {\"fill\": {\"color\": \"#C8D4E3\"}, \"line\": {\"color\": \"white\"}}, \"type\": \"table\"}]}, \"layout\": {\"annotationdefaults\": {\"arrowcolor\": \"#2a3f5f\", \"arrowhead\": 0, \"arrowwidth\": 1}, \"coloraxis\": {\"colorbar\": {\"outlinewidth\": 0, \"ticks\": \"\"}}, \"colorscale\": {\"diverging\": [[0, \"#8e0152\"], [0.1, \"#c51b7d\"], [0.2, \"#de77ae\"], [0.3, \"#f1b6da\"], [0.4, \"#fde0ef\"], [0.5, \"#f7f7f7\"], [0.6, \"#e6f5d0\"], [0.7, \"#b8e186\"], [0.8, \"#7fbc41\"], [0.9, \"#4d9221\"], [1, \"#276419\"]], \"sequential\": [[0.0, \"#0d0887\"], [0.1111111111111111, \"#46039f\"], [0.2222222222222222, \"#7201a8\"], [0.3333333333333333, \"#9c179e\"], [0.4444444444444444, \"#bd3786\"], [0.5555555555555556, \"#d8576b\"], [0.6666666666666666, \"#ed7953\"], [0.7777777777777778, \"#fb9f3a\"], [0.8888888888888888, \"#fdca26\"], [1.0, \"#f0f921\"]], \"sequentialminus\": [[0.0, \"#0d0887\"], [0.1111111111111111, \"#46039f\"], [0.2222222222222222, \"#7201a8\"], [0.3333333333333333, \"#9c179e\"], [0.4444444444444444, \"#bd3786\"], [0.5555555555555556, \"#d8576b\"], [0.6666666666666666, \"#ed7953\"], [0.7777777777777778, \"#fb9f3a\"], [0.8888888888888888, \"#fdca26\"], [1.0, \"#f0f921\"]]}, \"colorway\": [\"#636efa\", \"#EF553B\", \"#00cc96\", \"#ab63fa\", \"#FFA15A\", \"#19d3f3\", \"#FF6692\", \"#B6E880\", \"#FF97FF\", \"#FECB52\"], \"font\": {\"color\": \"#2a3f5f\"}, \"geo\": {\"bgcolor\": \"white\", \"lakecolor\": \"white\", \"landcolor\": \"#E5ECF6\", \"showlakes\": true, \"showland\": true, \"subunitcolor\": \"white\"}, \"hoverlabel\": {\"align\": \"left\"}, \"hovermode\": \"closest\", \"mapbox\": {\"style\": \"light\"}, \"paper_bgcolor\": \"white\", \"plot_bgcolor\": \"#E5ECF6\", \"polar\": {\"angularaxis\": {\"gridcolor\": \"white\", \"linecolor\": \"white\", \"ticks\": \"\"}, \"bgcolor\": \"#E5ECF6\", \"radialaxis\": {\"gridcolor\": \"white\", \"linecolor\": \"white\", \"ticks\": \"\"}}, \"scene\": {\"xaxis\": {\"backgroundcolor\": \"#E5ECF6\", \"gridcolor\": \"white\", \"gridwidth\": 2, \"linecolor\": \"white\", \"showbackground\": true, \"ticks\": \"\", \"zerolinecolor\": \"white\"}, \"yaxis\": {\"backgroundcolor\": \"#E5ECF6\", \"gridcolor\": \"white\", \"gridwidth\": 2, \"linecolor\": \"white\", \"showbackground\": true, \"ticks\": \"\", \"zerolinecolor\": \"white\"}, \"zaxis\": {\"backgroundcolor\": \"#E5ECF6\", \"gridcolor\": \"white\", \"gridwidth\": 2, \"linecolor\": \"white\", \"showbackground\": true, \"ticks\": \"\", \"zerolinecolor\": \"white\"}}, \"shapedefaults\": {\"line\": {\"color\": \"#2a3f5f\"}}, \"ternary\": {\"aaxis\": {\"gridcolor\": \"white\", \"linecolor\": \"white\", \"ticks\": \"\"}, \"baxis\": {\"gridcolor\": \"white\", \"linecolor\": \"white\", \"ticks\": \"\"}, \"bgcolor\": \"#E5ECF6\", \"caxis\": {\"gridcolor\": \"white\", \"linecolor\": \"white\", \"ticks\": \"\"}}, \"title\": {\"x\": 0.05}, \"xaxis\": {\"automargin\": true, \"gridcolor\": \"white\", \"linecolor\": \"white\", \"ticks\": \"\", \"title\": {\"standoff\": 15}, \"zerolinecolor\": \"white\", \"zerolinewidth\": 2}, \"yaxis\": {\"automargin\": true, \"gridcolor\": \"white\", \"linecolor\": \"white\", \"ticks\": \"\", \"title\": {\"standoff\": 15}, \"zerolinecolor\": \"white\", \"zerolinewidth\": 2}}}, \"title\": {\"font\": {\"color\": \"#4D5663\"}}, \"xaxis\": {\"anchor\": \"y\", \"domain\": [0.0, 0.45], \"gridcolor\": \"#E1E5ED\", \"showgrid\": true, \"tickfont\": {\"color\": \"#4D5663\"}, \"title\": {\"font\": {\"color\": \"#4D5663\"}, \"text\": \"\"}, \"zerolinecolor\": \"#E1E5ED\"}, \"xaxis2\": {\"anchor\": \"y2\", \"domain\": [0.55, 1.0], \"gridcolor\": \"#E1E5ED\", \"showgrid\": true, \"tickfont\": {\"color\": \"#4D5663\"}, \"title\": {\"font\": {\"color\": \"#4D5663\"}, \"text\": \"\"}, \"zerolinecolor\": \"#E1E5ED\"}, \"xaxis3\": {\"anchor\": \"y3\", \"domain\": [0.0, 0.45], \"gridcolor\": \"#E1E5ED\", \"showgrid\": true, \"tickfont\": {\"color\": \"#4D5663\"}, \"title\": {\"font\": {\"color\": \"#4D5663\"}, \"text\": \"\"}, \"zerolinecolor\": \"#E1E5ED\"}, \"xaxis4\": {\"anchor\": \"y4\", \"domain\": [0.55, 1.0], \"gridcolor\": \"#E1E5ED\", \"showgrid\": true, \"tickfont\": {\"color\": \"#4D5663\"}, \"title\": {\"font\": {\"color\": \"#4D5663\"}, \"text\": \"\"}, \"zerolinecolor\": \"#E1E5ED\"}, \"xaxis5\": {\"anchor\": \"y5\", \"domain\": [0.0, 0.45], \"gridcolor\": \"#E1E5ED\", \"showgrid\": true, \"tickfont\": {\"color\": \"#4D5663\"}, \"title\": {\"font\": {\"color\": \"#4D5663\"}, \"text\": \"\"}, \"zerolinecolor\": \"#E1E5ED\"}, \"xaxis6\": {\"anchor\": \"y6\", \"domain\": [0.55, 1.0], \"gridcolor\": \"#E1E5ED\", \"showgrid\": true, \"tickfont\": {\"color\": \"#4D5663\"}, \"title\": {\"font\": {\"color\": \"#4D5663\"}, \"text\": \"\"}, \"zerolinecolor\": \"#E1E5ED\"}, \"xaxis7\": {\"anchor\": \"y7\", \"domain\": [0.0, 0.45], \"gridcolor\": \"#E1E5ED\", \"showgrid\": true, \"tickfont\": {\"color\": \"#4D5663\"}, \"title\": {\"font\": {\"color\": \"#4D5663\"}, \"text\": \"\"}, \"zerolinecolor\": \"#E1E5ED\"}, \"yaxis\": {\"anchor\": \"x\", \"domain\": [0.80625, 1.0], \"gridcolor\": \"#E1E5ED\", \"showgrid\": true, \"tickfont\": {\"color\": \"#4D5663\"}, \"title\": {\"font\": {\"color\": \"#4D5663\"}, \"text\": \"\"}, \"zerolinecolor\": \"#E1E5ED\"}, \"yaxis2\": {\"anchor\": \"x2\", \"domain\": [0.80625, 1.0], \"gridcolor\": \"#E1E5ED\", \"showgrid\": true, \"tickfont\": {\"color\": \"#4D5663\"}, \"title\": {\"font\": {\"color\": \"#4D5663\"}, \"text\": \"\"}, \"zerolinecolor\": \"#E1E5ED\"}, \"yaxis3\": {\"anchor\": \"x3\", \"domain\": [0.5375, 0.73125], \"gridcolor\": \"#E1E5ED\", \"showgrid\": true, \"tickfont\": {\"color\": \"#4D5663\"}, \"title\": {\"font\": {\"color\": \"#4D5663\"}, \"text\": \"\"}, \"zerolinecolor\": \"#E1E5ED\"}, \"yaxis4\": {\"anchor\": \"x4\", \"domain\": [0.5375, 0.73125], \"gridcolor\": \"#E1E5ED\", \"showgrid\": true, \"tickfont\": {\"color\": \"#4D5663\"}, \"title\": {\"font\": {\"color\": \"#4D5663\"}, \"text\": \"\"}, \"zerolinecolor\": \"#E1E5ED\"}, \"yaxis5\": {\"anchor\": \"x5\", \"domain\": [0.26875, 0.4625], \"gridcolor\": \"#E1E5ED\", \"showgrid\": true, \"tickfont\": {\"color\": \"#4D5663\"}, \"title\": {\"font\": {\"color\": \"#4D5663\"}, \"text\": \"\"}, \"zerolinecolor\": \"#E1E5ED\"}, \"yaxis6\": {\"anchor\": \"x6\", \"domain\": [0.26875, 0.4625], \"gridcolor\": \"#E1E5ED\", \"showgrid\": true, \"tickfont\": {\"color\": \"#4D5663\"}, \"title\": {\"font\": {\"color\": \"#4D5663\"}, \"text\": \"\"}, \"zerolinecolor\": \"#E1E5ED\"}, \"yaxis7\": {\"anchor\": \"x7\", \"domain\": [0.0, 0.19375], \"gridcolor\": \"#E1E5ED\", \"showgrid\": true, \"tickfont\": {\"color\": \"#4D5663\"}, \"title\": {\"font\": {\"color\": \"#4D5663\"}, \"text\": \"\"}, \"zerolinecolor\": \"#E1E5ED\"}},\n                        {\"showLink\": true, \"linkText\": \"Export to plot.ly\", \"plotlyServerURL\": \"https://plot.ly\", \"responsive\": true}\n                    ).then(function(){\n                            \nvar gd = document.getElementById('8f3d971d-ea2a-49c1-82a8-1e7a7eb3a557');\nvar x = new MutationObserver(function (mutations, observer) {{\n        var display = window.getComputedStyle(gd).display;\n        if (!display || display === 'none') {{\n            console.log([gd, 'removed!']);\n            Plotly.purge(gd);\n            observer.disconnect();\n        }}\n}});\n\n// Listen for the removal of the full notebook cells\nvar notebookContainer = gd.closest('#notebook-container');\nif (notebookContainer) {{\n    x.observe(notebookContainer, {childList: true});\n}}\n\n// Listen for the clearing of the current output cell\nvar outputEl = gd.closest('.output');\nif (outputEl) {{\n    x.observe(outputEl, {childList: true});\n}}\n\n                        })\n                };\n                });\n            </script>\n        </div>"
     },
     "metadata": {}
    }
   ],
   "source": [
    "rets.iplot(kind='histogram', subplots=True)"
   ]
  },
  {
   "cell_type": "markdown",
   "metadata": {},
   "source": [
    "The **heatmap** below visualizes the correlations between the financial time series."
   ]
  },
  {
   "cell_type": "code",
   "execution_count": 20,
   "metadata": {},
   "outputs": [
    {
     "output_type": "display_data",
     "data": {
      "application/vnd.plotly.v1+json": {
       "config": {
        "linkText": "Export to plot.ly",
        "plotlyServerURL": "https://plot.ly",
        "showLink": true
       },
       "data": [
        {
         "colorscale": [
          [
           0,
           "rgb(247,251,255)"
          ],
          [
           0.125,
           "rgb(222,235,247)"
          ],
          [
           0.25,
           "rgb(198,219,239)"
          ],
          [
           0.375,
           "rgb(158,202,225)"
          ],
          [
           0.5,
           "rgb(107,174,214)"
          ],
          [
           0.625,
           "rgb(66,146,198)"
          ],
          [
           0.75,
           "rgb(33,113,181)"
          ],
          [
           0.875,
           "rgb(8,81,156)"
          ],
          [
           1,
           "rgb(8,48,107)"
          ]
         ],
         "type": "heatmap",
         "x": [
          "GE",
          "AAPL.O",
          ".SPX",
          ".VIX",
          "EUR=",
          "XAU=",
          "DE10YT=RR"
         ],
         "y": [
          "GE",
          "AAPL.O",
          ".SPX",
          ".VIX",
          "EUR=",
          "XAU=",
          "DE10YT=RR"
         ],
         "z": [
          [
           1,
           0.5138660471257327,
           0.5976699030204982,
           -0.6391448860258437,
           -0.0834792497258397,
           0.027055267492782847,
           0.05788098677304835
          ],
          [
           0.5138660471257327,
           1,
           0.9426667008097579,
           -0.4933530112171956,
           -0.7135620953874063,
           0.7170544319941147,
           -0.563630492053674
          ],
          [
           0.5976699030204982,
           0.9426667008097579,
           1,
           -0.6199606157136007,
           -0.6911577537721397,
           0.6793874455402453,
           -0.6075157375673556
          ],
          [
           -0.6391448860258437,
           -0.4933530112171956,
           -0.6199606157136007,
           1,
           0.16921545295395424,
           -0.06125546108148948,
           -0.025259701621636037
          ],
          [
           -0.0834792497258397,
           -0.7135620953874063,
           -0.6911577537721397,
           0.16921545295395424,
           1,
           -0.7216062648634614,
           0.7856404064402983
          ],
          [
           0.027055267492782847,
           0.7170544319941147,
           0.6793874455402453,
           -0.06125546108148948,
           -0.7216062648634614,
           1,
           -0.88474907217576
          ],
          [
           0.05788098677304835,
           -0.563630492053674,
           -0.6075157375673556,
           -0.025259701621636037,
           0.7856404064402983,
           -0.88474907217576,
           1
          ]
         ],
         "zmax": 1,
         "zmin": -0.88474907217576
        }
       ],
       "layout": {
        "legend": {
         "bgcolor": "#F5F6F9",
         "font": {
          "color": "#4D5663"
         }
        },
        "paper_bgcolor": "#F5F6F9",
        "plot_bgcolor": "#F5F6F9",
        "template": {
         "data": {
          "bar": [
           {
            "error_x": {
             "color": "#2a3f5f"
            },
            "error_y": {
             "color": "#2a3f5f"
            },
            "marker": {
             "line": {
              "color": "#E5ECF6",
              "width": 0.5
             }
            },
            "type": "bar"
           }
          ],
          "barpolar": [
           {
            "marker": {
             "line": {
              "color": "#E5ECF6",
              "width": 0.5
             }
            },
            "type": "barpolar"
           }
          ],
          "carpet": [
           {
            "aaxis": {
             "endlinecolor": "#2a3f5f",
             "gridcolor": "white",
             "linecolor": "white",
             "minorgridcolor": "white",
             "startlinecolor": "#2a3f5f"
            },
            "baxis": {
             "endlinecolor": "#2a3f5f",
             "gridcolor": "white",
             "linecolor": "white",
             "minorgridcolor": "white",
             "startlinecolor": "#2a3f5f"
            },
            "type": "carpet"
           }
          ],
          "choropleth": [
           {
            "colorbar": {
             "outlinewidth": 0,
             "ticks": ""
            },
            "type": "choropleth"
           }
          ],
          "contour": [
           {
            "colorbar": {
             "outlinewidth": 0,
             "ticks": ""
            },
            "colorscale": [
             [
              0,
              "#0d0887"
             ],
             [
              0.1111111111111111,
              "#46039f"
             ],
             [
              0.2222222222222222,
              "#7201a8"
             ],
             [
              0.3333333333333333,
              "#9c179e"
             ],
             [
              0.4444444444444444,
              "#bd3786"
             ],
             [
              0.5555555555555556,
              "#d8576b"
             ],
             [
              0.6666666666666666,
              "#ed7953"
             ],
             [
              0.7777777777777778,
              "#fb9f3a"
             ],
             [
              0.8888888888888888,
              "#fdca26"
             ],
             [
              1,
              "#f0f921"
             ]
            ],
            "type": "contour"
           }
          ],
          "contourcarpet": [
           {
            "colorbar": {
             "outlinewidth": 0,
             "ticks": ""
            },
            "type": "contourcarpet"
           }
          ],
          "heatmap": [
           {
            "colorbar": {
             "outlinewidth": 0,
             "ticks": ""
            },
            "colorscale": [
             [
              0,
              "#0d0887"
             ],
             [
              0.1111111111111111,
              "#46039f"
             ],
             [
              0.2222222222222222,
              "#7201a8"
             ],
             [
              0.3333333333333333,
              "#9c179e"
             ],
             [
              0.4444444444444444,
              "#bd3786"
             ],
             [
              0.5555555555555556,
              "#d8576b"
             ],
             [
              0.6666666666666666,
              "#ed7953"
             ],
             [
              0.7777777777777778,
              "#fb9f3a"
             ],
             [
              0.8888888888888888,
              "#fdca26"
             ],
             [
              1,
              "#f0f921"
             ]
            ],
            "type": "heatmap"
           }
          ],
          "heatmapgl": [
           {
            "colorbar": {
             "outlinewidth": 0,
             "ticks": ""
            },
            "colorscale": [
             [
              0,
              "#0d0887"
             ],
             [
              0.1111111111111111,
              "#46039f"
             ],
             [
              0.2222222222222222,
              "#7201a8"
             ],
             [
              0.3333333333333333,
              "#9c179e"
             ],
             [
              0.4444444444444444,
              "#bd3786"
             ],
             [
              0.5555555555555556,
              "#d8576b"
             ],
             [
              0.6666666666666666,
              "#ed7953"
             ],
             [
              0.7777777777777778,
              "#fb9f3a"
             ],
             [
              0.8888888888888888,
              "#fdca26"
             ],
             [
              1,
              "#f0f921"
             ]
            ],
            "type": "heatmapgl"
           }
          ],
          "histogram": [
           {
            "marker": {
             "colorbar": {
              "outlinewidth": 0,
              "ticks": ""
             }
            },
            "type": "histogram"
           }
          ],
          "histogram2d": [
           {
            "colorbar": {
             "outlinewidth": 0,
             "ticks": ""
            },
            "colorscale": [
             [
              0,
              "#0d0887"
             ],
             [
              0.1111111111111111,
              "#46039f"
             ],
             [
              0.2222222222222222,
              "#7201a8"
             ],
             [
              0.3333333333333333,
              "#9c179e"
             ],
             [
              0.4444444444444444,
              "#bd3786"
             ],
             [
              0.5555555555555556,
              "#d8576b"
             ],
             [
              0.6666666666666666,
              "#ed7953"
             ],
             [
              0.7777777777777778,
              "#fb9f3a"
             ],
             [
              0.8888888888888888,
              "#fdca26"
             ],
             [
              1,
              "#f0f921"
             ]
            ],
            "type": "histogram2d"
           }
          ],
          "histogram2dcontour": [
           {
            "colorbar": {
             "outlinewidth": 0,
             "ticks": ""
            },
            "colorscale": [
             [
              0,
              "#0d0887"
             ],
             [
              0.1111111111111111,
              "#46039f"
             ],
             [
              0.2222222222222222,
              "#7201a8"
             ],
             [
              0.3333333333333333,
              "#9c179e"
             ],
             [
              0.4444444444444444,
              "#bd3786"
             ],
             [
              0.5555555555555556,
              "#d8576b"
             ],
             [
              0.6666666666666666,
              "#ed7953"
             ],
             [
              0.7777777777777778,
              "#fb9f3a"
             ],
             [
              0.8888888888888888,
              "#fdca26"
             ],
             [
              1,
              "#f0f921"
             ]
            ],
            "type": "histogram2dcontour"
           }
          ],
          "mesh3d": [
           {
            "colorbar": {
             "outlinewidth": 0,
             "ticks": ""
            },
            "type": "mesh3d"
           }
          ],
          "parcoords": [
           {
            "line": {
             "colorbar": {
              "outlinewidth": 0,
              "ticks": ""
             }
            },
            "type": "parcoords"
           }
          ],
          "pie": [
           {
            "automargin": true,
            "type": "pie"
           }
          ],
          "scatter": [
           {
            "marker": {
             "colorbar": {
              "outlinewidth": 0,
              "ticks": ""
             }
            },
            "type": "scatter"
           }
          ],
          "scatter3d": [
           {
            "line": {
             "colorbar": {
              "outlinewidth": 0,
              "ticks": ""
             }
            },
            "marker": {
             "colorbar": {
              "outlinewidth": 0,
              "ticks": ""
             }
            },
            "type": "scatter3d"
           }
          ],
          "scattercarpet": [
           {
            "marker": {
             "colorbar": {
              "outlinewidth": 0,
              "ticks": ""
             }
            },
            "type": "scattercarpet"
           }
          ],
          "scattergeo": [
           {
            "marker": {
             "colorbar": {
              "outlinewidth": 0,
              "ticks": ""
             }
            },
            "type": "scattergeo"
           }
          ],
          "scattergl": [
           {
            "marker": {
             "colorbar": {
              "outlinewidth": 0,
              "ticks": ""
             }
            },
            "type": "scattergl"
           }
          ],
          "scattermapbox": [
           {
            "marker": {
             "colorbar": {
              "outlinewidth": 0,
              "ticks": ""
             }
            },
            "type": "scattermapbox"
           }
          ],
          "scatterpolar": [
           {
            "marker": {
             "colorbar": {
              "outlinewidth": 0,
              "ticks": ""
             }
            },
            "type": "scatterpolar"
           }
          ],
          "scatterpolargl": [
           {
            "marker": {
             "colorbar": {
              "outlinewidth": 0,
              "ticks": ""
             }
            },
            "type": "scatterpolargl"
           }
          ],
          "scatterternary": [
           {
            "marker": {
             "colorbar": {
              "outlinewidth": 0,
              "ticks": ""
             }
            },
            "type": "scatterternary"
           }
          ],
          "surface": [
           {
            "colorbar": {
             "outlinewidth": 0,
             "ticks": ""
            },
            "colorscale": [
             [
              0,
              "#0d0887"
             ],
             [
              0.1111111111111111,
              "#46039f"
             ],
             [
              0.2222222222222222,
              "#7201a8"
             ],
             [
              0.3333333333333333,
              "#9c179e"
             ],
             [
              0.4444444444444444,
              "#bd3786"
             ],
             [
              0.5555555555555556,
              "#d8576b"
             ],
             [
              0.6666666666666666,
              "#ed7953"
             ],
             [
              0.7777777777777778,
              "#fb9f3a"
             ],
             [
              0.8888888888888888,
              "#fdca26"
             ],
             [
              1,
              "#f0f921"
             ]
            ],
            "type": "surface"
           }
          ],
          "table": [
           {
            "cells": {
             "fill": {
              "color": "#EBF0F8"
             },
             "line": {
              "color": "white"
             }
            },
            "header": {
             "fill": {
              "color": "#C8D4E3"
             },
             "line": {
              "color": "white"
             }
            },
            "type": "table"
           }
          ]
         },
         "layout": {
          "annotationdefaults": {
           "arrowcolor": "#2a3f5f",
           "arrowhead": 0,
           "arrowwidth": 1
          },
          "coloraxis": {
           "colorbar": {
            "outlinewidth": 0,
            "ticks": ""
           }
          },
          "colorscale": {
           "diverging": [
            [
             0,
             "#8e0152"
            ],
            [
             0.1,
             "#c51b7d"
            ],
            [
             0.2,
             "#de77ae"
            ],
            [
             0.3,
             "#f1b6da"
            ],
            [
             0.4,
             "#fde0ef"
            ],
            [
             0.5,
             "#f7f7f7"
            ],
            [
             0.6,
             "#e6f5d0"
            ],
            [
             0.7,
             "#b8e186"
            ],
            [
             0.8,
             "#7fbc41"
            ],
            [
             0.9,
             "#4d9221"
            ],
            [
             1,
             "#276419"
            ]
           ],
           "sequential": [
            [
             0,
             "#0d0887"
            ],
            [
             0.1111111111111111,
             "#46039f"
            ],
            [
             0.2222222222222222,
             "#7201a8"
            ],
            [
             0.3333333333333333,
             "#9c179e"
            ],
            [
             0.4444444444444444,
             "#bd3786"
            ],
            [
             0.5555555555555556,
             "#d8576b"
            ],
            [
             0.6666666666666666,
             "#ed7953"
            ],
            [
             0.7777777777777778,
             "#fb9f3a"
            ],
            [
             0.8888888888888888,
             "#fdca26"
            ],
            [
             1,
             "#f0f921"
            ]
           ],
           "sequentialminus": [
            [
             0,
             "#0d0887"
            ],
            [
             0.1111111111111111,
             "#46039f"
            ],
            [
             0.2222222222222222,
             "#7201a8"
            ],
            [
             0.3333333333333333,
             "#9c179e"
            ],
            [
             0.4444444444444444,
             "#bd3786"
            ],
            [
             0.5555555555555556,
             "#d8576b"
            ],
            [
             0.6666666666666666,
             "#ed7953"
            ],
            [
             0.7777777777777778,
             "#fb9f3a"
            ],
            [
             0.8888888888888888,
             "#fdca26"
            ],
            [
             1,
             "#f0f921"
            ]
           ]
          },
          "colorway": [
           "#636efa",
           "#EF553B",
           "#00cc96",
           "#ab63fa",
           "#FFA15A",
           "#19d3f3",
           "#FF6692",
           "#B6E880",
           "#FF97FF",
           "#FECB52"
          ],
          "font": {
           "color": "#2a3f5f"
          },
          "geo": {
           "bgcolor": "white",
           "lakecolor": "white",
           "landcolor": "#E5ECF6",
           "showlakes": true,
           "showland": true,
           "subunitcolor": "white"
          },
          "hoverlabel": {
           "align": "left"
          },
          "hovermode": "closest",
          "mapbox": {
           "style": "light"
          },
          "paper_bgcolor": "white",
          "plot_bgcolor": "#E5ECF6",
          "polar": {
           "angularaxis": {
            "gridcolor": "white",
            "linecolor": "white",
            "ticks": ""
           },
           "bgcolor": "#E5ECF6",
           "radialaxis": {
            "gridcolor": "white",
            "linecolor": "white",
            "ticks": ""
           }
          },
          "scene": {
           "xaxis": {
            "backgroundcolor": "#E5ECF6",
            "gridcolor": "white",
            "gridwidth": 2,
            "linecolor": "white",
            "showbackground": true,
            "ticks": "",
            "zerolinecolor": "white"
           },
           "yaxis": {
            "backgroundcolor": "#E5ECF6",
            "gridcolor": "white",
            "gridwidth": 2,
            "linecolor": "white",
            "showbackground": true,
            "ticks": "",
            "zerolinecolor": "white"
           },
           "zaxis": {
            "backgroundcolor": "#E5ECF6",
            "gridcolor": "white",
            "gridwidth": 2,
            "linecolor": "white",
            "showbackground": true,
            "ticks": "",
            "zerolinecolor": "white"
           }
          },
          "shapedefaults": {
           "line": {
            "color": "#2a3f5f"
           }
          },
          "ternary": {
           "aaxis": {
            "gridcolor": "white",
            "linecolor": "white",
            "ticks": ""
           },
           "baxis": {
            "gridcolor": "white",
            "linecolor": "white",
            "ticks": ""
           },
           "bgcolor": "#E5ECF6",
           "caxis": {
            "gridcolor": "white",
            "linecolor": "white",
            "ticks": ""
           }
          },
          "title": {
           "x": 0.05
          },
          "xaxis": {
           "automargin": true,
           "gridcolor": "white",
           "linecolor": "white",
           "ticks": "",
           "title": {
            "standoff": 15
           },
           "zerolinecolor": "white",
           "zerolinewidth": 2
          },
          "yaxis": {
           "automargin": true,
           "gridcolor": "white",
           "linecolor": "white",
           "ticks": "",
           "title": {
            "standoff": 15
           },
           "zerolinecolor": "white",
           "zerolinewidth": 2
          }
         }
        },
        "title": {
         "font": {
          "color": "#4D5663"
         }
        },
        "xaxis": {
         "gridcolor": "#E1E5ED",
         "showgrid": true,
         "tickfont": {
          "color": "#4D5663"
         },
         "title": {
          "font": {
           "color": "#4D5663"
          },
          "text": ""
         },
         "zerolinecolor": "#E1E5ED"
        },
        "yaxis": {
         "gridcolor": "#E1E5ED",
         "showgrid": true,
         "tickfont": {
          "color": "#4D5663"
         },
         "title": {
          "font": {
           "color": "#4D5663"
          },
          "text": ""
         },
         "zerolinecolor": "#E1E5ED"
        }
       }
      },
      "text/html": "<div>\n        \n        \n            <div id=\"1caf5633-2e63-4a73-9fea-a6146533a1c9\" class=\"plotly-graph-div\" style=\"height:525px; width:100%;\"></div>\n            <script type=\"text/javascript\">\n                require([\"plotly\"], function(Plotly) {\n                    window.PLOTLYENV=window.PLOTLYENV || {};\n                    window.PLOTLYENV.BASE_URL='https://plot.ly';\n                    \n                if (document.getElementById(\"1caf5633-2e63-4a73-9fea-a6146533a1c9\")) {\n                    Plotly.newPlot(\n                        '1caf5633-2e63-4a73-9fea-a6146533a1c9',\n                        [{\"colorscale\": [[0.0, \"rgb(247,251,255)\"], [0.125, \"rgb(222,235,247)\"], [0.25, \"rgb(198,219,239)\"], [0.375, \"rgb(158,202,225)\"], [0.5, \"rgb(107,174,214)\"], [0.625, \"rgb(66,146,198)\"], [0.75, \"rgb(33,113,181)\"], [0.875, \"rgb(8,81,156)\"], [1.0, \"rgb(8,48,107)\"]], \"type\": \"heatmap\", \"x\": [\"GE\", \"AAPL.O\", \".SPX\", \".VIX\", \"EUR=\", \"XAU=\", \"DE10YT=RR\"], \"y\": [\"GE\", \"AAPL.O\", \".SPX\", \".VIX\", \"EUR=\", \"XAU=\", \"DE10YT=RR\"], \"z\": [[1.0, 0.5138660471257327, 0.5976699030204982, -0.6391448860258437, -0.0834792497258397, 0.027055267492782847, 0.05788098677304835], [0.5138660471257327, 1.0, 0.9426667008097579, -0.4933530112171956, -0.7135620953874063, 0.7170544319941147, -0.563630492053674], [0.5976699030204982, 0.9426667008097579, 1.0, -0.6199606157136007, -0.6911577537721397, 0.6793874455402453, -0.6075157375673556], [-0.6391448860258437, -0.4933530112171956, -0.6199606157136007, 1.0, 0.16921545295395424, -0.06125546108148948, -0.025259701621636037], [-0.0834792497258397, -0.7135620953874063, -0.6911577537721397, 0.16921545295395424, 1.0, -0.7216062648634614, 0.7856404064402983], [0.027055267492782847, 0.7170544319941147, 0.6793874455402453, -0.06125546108148948, -0.7216062648634614, 1.0, -0.88474907217576], [0.05788098677304835, -0.563630492053674, -0.6075157375673556, -0.025259701621636037, 0.7856404064402983, -0.88474907217576, 1.0]], \"zmax\": 1.0, \"zmin\": -0.88474907217576}],\n                        {\"legend\": {\"bgcolor\": \"#F5F6F9\", \"font\": {\"color\": \"#4D5663\"}}, \"paper_bgcolor\": \"#F5F6F9\", \"plot_bgcolor\": \"#F5F6F9\", \"template\": {\"data\": {\"bar\": [{\"error_x\": {\"color\": \"#2a3f5f\"}, \"error_y\": {\"color\": \"#2a3f5f\"}, \"marker\": {\"line\": {\"color\": \"#E5ECF6\", \"width\": 0.5}}, \"type\": \"bar\"}], \"barpolar\": [{\"marker\": {\"line\": {\"color\": \"#E5ECF6\", \"width\": 0.5}}, \"type\": \"barpolar\"}], \"carpet\": [{\"aaxis\": {\"endlinecolor\": \"#2a3f5f\", \"gridcolor\": \"white\", \"linecolor\": \"white\", \"minorgridcolor\": \"white\", \"startlinecolor\": \"#2a3f5f\"}, \"baxis\": {\"endlinecolor\": \"#2a3f5f\", \"gridcolor\": \"white\", \"linecolor\": \"white\", \"minorgridcolor\": \"white\", \"startlinecolor\": \"#2a3f5f\"}, \"type\": \"carpet\"}], \"choropleth\": [{\"colorbar\": {\"outlinewidth\": 0, \"ticks\": \"\"}, \"type\": \"choropleth\"}], \"contour\": [{\"colorbar\": {\"outlinewidth\": 0, \"ticks\": \"\"}, \"colorscale\": [[0.0, \"#0d0887\"], [0.1111111111111111, \"#46039f\"], [0.2222222222222222, \"#7201a8\"], [0.3333333333333333, \"#9c179e\"], [0.4444444444444444, \"#bd3786\"], [0.5555555555555556, \"#d8576b\"], [0.6666666666666666, \"#ed7953\"], [0.7777777777777778, \"#fb9f3a\"], [0.8888888888888888, \"#fdca26\"], [1.0, \"#f0f921\"]], \"type\": \"contour\"}], \"contourcarpet\": [{\"colorbar\": {\"outlinewidth\": 0, \"ticks\": \"\"}, \"type\": \"contourcarpet\"}], \"heatmap\": [{\"colorbar\": {\"outlinewidth\": 0, \"ticks\": \"\"}, \"colorscale\": [[0.0, \"#0d0887\"], [0.1111111111111111, \"#46039f\"], [0.2222222222222222, \"#7201a8\"], [0.3333333333333333, \"#9c179e\"], [0.4444444444444444, \"#bd3786\"], [0.5555555555555556, \"#d8576b\"], [0.6666666666666666, \"#ed7953\"], [0.7777777777777778, \"#fb9f3a\"], [0.8888888888888888, \"#fdca26\"], [1.0, \"#f0f921\"]], \"type\": \"heatmap\"}], \"heatmapgl\": [{\"colorbar\": {\"outlinewidth\": 0, \"ticks\": \"\"}, \"colorscale\": [[0.0, \"#0d0887\"], [0.1111111111111111, \"#46039f\"], [0.2222222222222222, \"#7201a8\"], [0.3333333333333333, \"#9c179e\"], [0.4444444444444444, \"#bd3786\"], [0.5555555555555556, \"#d8576b\"], [0.6666666666666666, \"#ed7953\"], [0.7777777777777778, \"#fb9f3a\"], [0.8888888888888888, \"#fdca26\"], [1.0, \"#f0f921\"]], \"type\": \"heatmapgl\"}], \"histogram\": [{\"marker\": {\"colorbar\": {\"outlinewidth\": 0, \"ticks\": \"\"}}, \"type\": \"histogram\"}], \"histogram2d\": [{\"colorbar\": {\"outlinewidth\": 0, \"ticks\": \"\"}, \"colorscale\": [[0.0, \"#0d0887\"], [0.1111111111111111, \"#46039f\"], [0.2222222222222222, \"#7201a8\"], [0.3333333333333333, \"#9c179e\"], [0.4444444444444444, \"#bd3786\"], [0.5555555555555556, \"#d8576b\"], [0.6666666666666666, \"#ed7953\"], [0.7777777777777778, \"#fb9f3a\"], [0.8888888888888888, \"#fdca26\"], [1.0, \"#f0f921\"]], \"type\": \"histogram2d\"}], \"histogram2dcontour\": [{\"colorbar\": {\"outlinewidth\": 0, \"ticks\": \"\"}, \"colorscale\": [[0.0, \"#0d0887\"], [0.1111111111111111, \"#46039f\"], [0.2222222222222222, \"#7201a8\"], [0.3333333333333333, \"#9c179e\"], [0.4444444444444444, \"#bd3786\"], [0.5555555555555556, \"#d8576b\"], [0.6666666666666666, \"#ed7953\"], [0.7777777777777778, \"#fb9f3a\"], [0.8888888888888888, \"#fdca26\"], [1.0, \"#f0f921\"]], \"type\": \"histogram2dcontour\"}], \"mesh3d\": [{\"colorbar\": {\"outlinewidth\": 0, \"ticks\": \"\"}, \"type\": \"mesh3d\"}], \"parcoords\": [{\"line\": {\"colorbar\": {\"outlinewidth\": 0, \"ticks\": \"\"}}, \"type\": \"parcoords\"}], \"pie\": [{\"automargin\": true, \"type\": \"pie\"}], \"scatter\": [{\"marker\": {\"colorbar\": {\"outlinewidth\": 0, \"ticks\": \"\"}}, \"type\": \"scatter\"}], \"scatter3d\": [{\"line\": {\"colorbar\": {\"outlinewidth\": 0, \"ticks\": \"\"}}, \"marker\": {\"colorbar\": {\"outlinewidth\": 0, \"ticks\": \"\"}}, \"type\": \"scatter3d\"}], \"scattercarpet\": [{\"marker\": {\"colorbar\": {\"outlinewidth\": 0, \"ticks\": \"\"}}, \"type\": \"scattercarpet\"}], \"scattergeo\": [{\"marker\": {\"colorbar\": {\"outlinewidth\": 0, \"ticks\": \"\"}}, \"type\": \"scattergeo\"}], \"scattergl\": [{\"marker\": {\"colorbar\": {\"outlinewidth\": 0, \"ticks\": \"\"}}, \"type\": \"scattergl\"}], \"scattermapbox\": [{\"marker\": {\"colorbar\": {\"outlinewidth\": 0, \"ticks\": \"\"}}, \"type\": \"scattermapbox\"}], \"scatterpolar\": [{\"marker\": {\"colorbar\": {\"outlinewidth\": 0, \"ticks\": \"\"}}, \"type\": \"scatterpolar\"}], \"scatterpolargl\": [{\"marker\": {\"colorbar\": {\"outlinewidth\": 0, \"ticks\": \"\"}}, \"type\": \"scatterpolargl\"}], \"scatterternary\": [{\"marker\": {\"colorbar\": {\"outlinewidth\": 0, \"ticks\": \"\"}}, \"type\": \"scatterternary\"}], \"surface\": [{\"colorbar\": {\"outlinewidth\": 0, \"ticks\": \"\"}, \"colorscale\": [[0.0, \"#0d0887\"], [0.1111111111111111, \"#46039f\"], [0.2222222222222222, \"#7201a8\"], [0.3333333333333333, \"#9c179e\"], [0.4444444444444444, \"#bd3786\"], [0.5555555555555556, \"#d8576b\"], [0.6666666666666666, \"#ed7953\"], [0.7777777777777778, \"#fb9f3a\"], [0.8888888888888888, \"#fdca26\"], [1.0, \"#f0f921\"]], \"type\": \"surface\"}], \"table\": [{\"cells\": {\"fill\": {\"color\": \"#EBF0F8\"}, \"line\": {\"color\": \"white\"}}, \"header\": {\"fill\": {\"color\": \"#C8D4E3\"}, \"line\": {\"color\": \"white\"}}, \"type\": \"table\"}]}, \"layout\": {\"annotationdefaults\": {\"arrowcolor\": \"#2a3f5f\", \"arrowhead\": 0, \"arrowwidth\": 1}, \"coloraxis\": {\"colorbar\": {\"outlinewidth\": 0, \"ticks\": \"\"}}, \"colorscale\": {\"diverging\": [[0, \"#8e0152\"], [0.1, \"#c51b7d\"], [0.2, \"#de77ae\"], [0.3, \"#f1b6da\"], [0.4, \"#fde0ef\"], [0.5, \"#f7f7f7\"], [0.6, \"#e6f5d0\"], [0.7, \"#b8e186\"], [0.8, \"#7fbc41\"], [0.9, \"#4d9221\"], [1, \"#276419\"]], \"sequential\": [[0.0, \"#0d0887\"], [0.1111111111111111, \"#46039f\"], [0.2222222222222222, \"#7201a8\"], [0.3333333333333333, \"#9c179e\"], [0.4444444444444444, \"#bd3786\"], [0.5555555555555556, \"#d8576b\"], [0.6666666666666666, \"#ed7953\"], [0.7777777777777778, \"#fb9f3a\"], [0.8888888888888888, \"#fdca26\"], [1.0, \"#f0f921\"]], \"sequentialminus\": [[0.0, \"#0d0887\"], [0.1111111111111111, \"#46039f\"], [0.2222222222222222, \"#7201a8\"], [0.3333333333333333, \"#9c179e\"], [0.4444444444444444, \"#bd3786\"], [0.5555555555555556, \"#d8576b\"], [0.6666666666666666, \"#ed7953\"], [0.7777777777777778, \"#fb9f3a\"], [0.8888888888888888, \"#fdca26\"], [1.0, \"#f0f921\"]]}, \"colorway\": [\"#636efa\", \"#EF553B\", \"#00cc96\", \"#ab63fa\", \"#FFA15A\", \"#19d3f3\", \"#FF6692\", \"#B6E880\", \"#FF97FF\", \"#FECB52\"], \"font\": {\"color\": \"#2a3f5f\"}, \"geo\": {\"bgcolor\": \"white\", \"lakecolor\": \"white\", \"landcolor\": \"#E5ECF6\", \"showlakes\": true, \"showland\": true, \"subunitcolor\": \"white\"}, \"hoverlabel\": {\"align\": \"left\"}, \"hovermode\": \"closest\", \"mapbox\": {\"style\": \"light\"}, \"paper_bgcolor\": \"white\", \"plot_bgcolor\": \"#E5ECF6\", \"polar\": {\"angularaxis\": {\"gridcolor\": \"white\", \"linecolor\": \"white\", \"ticks\": \"\"}, \"bgcolor\": \"#E5ECF6\", \"radialaxis\": {\"gridcolor\": \"white\", \"linecolor\": \"white\", \"ticks\": \"\"}}, \"scene\": {\"xaxis\": {\"backgroundcolor\": \"#E5ECF6\", \"gridcolor\": \"white\", \"gridwidth\": 2, \"linecolor\": \"white\", \"showbackground\": true, \"ticks\": \"\", \"zerolinecolor\": \"white\"}, \"yaxis\": {\"backgroundcolor\": \"#E5ECF6\", \"gridcolor\": \"white\", \"gridwidth\": 2, \"linecolor\": \"white\", \"showbackground\": true, \"ticks\": \"\", \"zerolinecolor\": \"white\"}, \"zaxis\": {\"backgroundcolor\": \"#E5ECF6\", \"gridcolor\": \"white\", \"gridwidth\": 2, \"linecolor\": \"white\", \"showbackground\": true, \"ticks\": \"\", \"zerolinecolor\": \"white\"}}, \"shapedefaults\": {\"line\": {\"color\": \"#2a3f5f\"}}, \"ternary\": {\"aaxis\": {\"gridcolor\": \"white\", \"linecolor\": \"white\", \"ticks\": \"\"}, \"baxis\": {\"gridcolor\": \"white\", \"linecolor\": \"white\", \"ticks\": \"\"}, \"bgcolor\": \"#E5ECF6\", \"caxis\": {\"gridcolor\": \"white\", \"linecolor\": \"white\", \"ticks\": \"\"}}, \"title\": {\"x\": 0.05}, \"xaxis\": {\"automargin\": true, \"gridcolor\": \"white\", \"linecolor\": \"white\", \"ticks\": \"\", \"title\": {\"standoff\": 15}, \"zerolinecolor\": \"white\", \"zerolinewidth\": 2}, \"yaxis\": {\"automargin\": true, \"gridcolor\": \"white\", \"linecolor\": \"white\", \"ticks\": \"\", \"title\": {\"standoff\": 15}, \"zerolinecolor\": \"white\", \"zerolinewidth\": 2}}}, \"title\": {\"font\": {\"color\": \"#4D5663\"}}, \"xaxis\": {\"gridcolor\": \"#E1E5ED\", \"showgrid\": true, \"tickfont\": {\"color\": \"#4D5663\"}, \"title\": {\"font\": {\"color\": \"#4D5663\"}, \"text\": \"\"}, \"zerolinecolor\": \"#E1E5ED\"}, \"yaxis\": {\"gridcolor\": \"#E1E5ED\", \"showgrid\": true, \"tickfont\": {\"color\": \"#4D5663\"}, \"title\": {\"font\": {\"color\": \"#4D5663\"}, \"text\": \"\"}, \"zerolinecolor\": \"#E1E5ED\"}},\n                        {\"showLink\": true, \"linkText\": \"Export to plot.ly\", \"plotlyServerURL\": \"https://plot.ly\", \"responsive\": true}\n                    ).then(function(){\n                            \nvar gd = document.getElementById('1caf5633-2e63-4a73-9fea-a6146533a1c9');\nvar x = new MutationObserver(function (mutations, observer) {{\n        var display = window.getComputedStyle(gd).display;\n        if (!display || display === 'none') {{\n            console.log([gd, 'removed!']);\n            Plotly.purge(gd);\n            observer.disconnect();\n        }}\n}});\n\n// Listen for the removal of the full notebook cells\nvar notebookContainer = gd.closest('#notebook-container');\nif (notebookContainer) {{\n    x.observe(notebookContainer, {childList: true});\n}}\n\n// Listen for the clearing of the current output cell\nvar outputEl = gd.closest('.output');\nif (outputEl) {{\n    x.observe(outputEl, {childList: true});\n}}\n\n                        })\n                };\n                });\n            </script>\n        </div>"
     },
     "metadata": {}
    }
   ],
   "source": [
    "data.corr().iplot(kind='heatmap', colorscale='blues')"
   ]
  },
  {
   "cell_type": "markdown",
   "metadata": {},
   "source": [
    "## Preparing Lagged Data"
   ]
  },
  {
   "cell_type": "markdown",
   "metadata": {},
   "source": [
    "To gain insights into whether the random walk hypothesis holds true, we work with **five lags**. The code that follows derives the **lagged data** for every single `RIC`. First, a function that adds columns with lagged data to a `DataFrame` object."
   ]
  },
  {
   "cell_type": "code",
   "execution_count": 21,
   "metadata": {},
   "outputs": [],
   "source": [
    "def add_lags(data, ric, lags):\n",
    "    cols = []\n",
    "    df = pd.DataFrame(data[ric])\n",
    "    for lag in range(1, lags + 1):\n",
    "        col = 'lag_{}'.format(lag)  # defines the column name\n",
    "        df[col] = df[ric].shift(lag)  # creates the lagged data column\n",
    "        cols.append(col)  # stores the column name\n",
    "    df.dropna(inplace=True)  # gets rid of incomplete data rows\n",
    "    return df, cols"
   ]
  },
  {
   "cell_type": "code",
   "execution_count": null,
   "metadata": {},
   "outputs": [],
   "source": []
  },
  {
   "cell_type": "markdown",
   "metadata": {},
   "source": [
    "Second, the iterations over all `RICs`, using the `add_lags` function and storing the resulting `DataFrame` objects in a dictonary."
   ]
  },
  {
   "cell_type": "code",
   "execution_count": 22,
   "metadata": {},
   "outputs": [],
   "source": [
    "lags = 5  # five historical lags\n",
    "df,T = add_lags(data,'GE',lags)"
   ]
  },
  {
   "cell_type": "code",
   "execution_count": 23,
   "metadata": {},
   "outputs": [
    {
     "output_type": "execute_result",
     "data": {
      "text/plain": "pandas.core.series.Series"
     },
     "metadata": {},
     "execution_count": 23
    }
   ],
   "source": [
    "type(data['GE'])"
   ]
  },
  {
   "cell_type": "code",
   "execution_count": 25,
   "metadata": {},
   "outputs": [
    {
     "output_type": "execute_result",
     "data": {
      "text/plain": "Date\n2019-01-09     8.170633\n2019-01-10     8.593584\n2019-01-11     8.593584\n2019-01-14     8.555134\n2019-01-15     8.391721\n                ...    \n2019-12-20    11.030000\n2019-12-23    11.160000\n2019-12-27    11.180000\n2019-12-30    11.080000\n2019-12-31    11.160000\nName: GE, Length: 243, dtype: float64"
     },
     "metadata": {},
     "execution_count": 25
    }
   ],
   "source": [
    "df['GE']"
   ]
  },
  {
   "cell_type": "code",
   "execution_count": 26,
   "metadata": {},
   "outputs": [],
   "source": [
    "dfs = {}\n",
    "for ric in rics:\n",
    "    df, cols = add_lags(data, ric, lags)\n",
    "    dfs[ric] = df"
   ]
  },
  {
   "cell_type": "code",
   "execution_count": 27,
   "metadata": {},
   "outputs": [
    {
     "output_type": "execute_result",
     "data": {
      "text/plain": "['lag_1', 'lag_2', 'lag_3', 'lag_4', 'lag_5']"
     },
     "metadata": {},
     "execution_count": 27
    }
   ],
   "source": [
    "cols  # the column names for the lags\n"
   ]
  },
  {
   "cell_type": "code",
   "execution_count": 28,
   "metadata": {},
   "outputs": [
    {
     "output_type": "execute_result",
     "data": {
      "text/plain": "dict_keys(['GE', 'AAPL.O', '.SPX', '.VIX', 'EUR=', 'XAU=', 'DE10YT=RR'])"
     },
     "metadata": {},
     "execution_count": 28
    }
   ],
   "source": [
    "dfs.keys()  # the keys of the dictonary\n"
   ]
  },
  {
   "cell_type": "code",
   "execution_count": 29,
   "metadata": {},
   "outputs": [
    {
     "output_type": "execute_result",
     "data": {
      "text/plain": "            AAPL.O   lag_1   lag_2   lag_3   lag_4   lag_5\nDate                                                      \n2019-01-09  153.31  150.75  147.93  148.26  142.19  157.92\n2019-01-10  153.80  153.31  150.75  147.93  148.26  142.19\n2019-01-11  152.29  153.80  153.31  150.75  147.93  148.26\n2019-01-14  150.00  152.29  153.80  153.31  150.75  147.93\n2019-01-15  153.07  150.00  152.29  153.80  153.31  150.75\n2019-01-16  154.94  153.07  150.00  152.29  153.80  153.31\n2019-01-17  155.86  154.94  153.07  150.00  152.29  153.80",
      "text/html": "<div>\n<style scoped>\n    .dataframe tbody tr th:only-of-type {\n        vertical-align: middle;\n    }\n\n    .dataframe tbody tr th {\n        vertical-align: top;\n    }\n\n    .dataframe thead th {\n        text-align: right;\n    }\n</style>\n<table border=\"1\" class=\"dataframe\">\n  <thead>\n    <tr style=\"text-align: right;\">\n      <th></th>\n      <th>AAPL.O</th>\n      <th>lag_1</th>\n      <th>lag_2</th>\n      <th>lag_3</th>\n      <th>lag_4</th>\n      <th>lag_5</th>\n    </tr>\n    <tr>\n      <th>Date</th>\n      <th></th>\n      <th></th>\n      <th></th>\n      <th></th>\n      <th></th>\n      <th></th>\n    </tr>\n  </thead>\n  <tbody>\n    <tr>\n      <th>2019-01-09</th>\n      <td>153.31</td>\n      <td>150.75</td>\n      <td>147.93</td>\n      <td>148.26</td>\n      <td>142.19</td>\n      <td>157.92</td>\n    </tr>\n    <tr>\n      <th>2019-01-10</th>\n      <td>153.80</td>\n      <td>153.31</td>\n      <td>150.75</td>\n      <td>147.93</td>\n      <td>148.26</td>\n      <td>142.19</td>\n    </tr>\n    <tr>\n      <th>2019-01-11</th>\n      <td>152.29</td>\n      <td>153.80</td>\n      <td>153.31</td>\n      <td>150.75</td>\n      <td>147.93</td>\n      <td>148.26</td>\n    </tr>\n    <tr>\n      <th>2019-01-14</th>\n      <td>150.00</td>\n      <td>152.29</td>\n      <td>153.80</td>\n      <td>153.31</td>\n      <td>150.75</td>\n      <td>147.93</td>\n    </tr>\n    <tr>\n      <th>2019-01-15</th>\n      <td>153.07</td>\n      <td>150.00</td>\n      <td>152.29</td>\n      <td>153.80</td>\n      <td>153.31</td>\n      <td>150.75</td>\n    </tr>\n    <tr>\n      <th>2019-01-16</th>\n      <td>154.94</td>\n      <td>153.07</td>\n      <td>150.00</td>\n      <td>152.29</td>\n      <td>153.80</td>\n      <td>153.31</td>\n    </tr>\n    <tr>\n      <th>2019-01-17</th>\n      <td>155.86</td>\n      <td>154.94</td>\n      <td>153.07</td>\n      <td>150.00</td>\n      <td>152.29</td>\n      <td>153.80</td>\n    </tr>\n  </tbody>\n</table>\n</div>"
     },
     "metadata": {},
     "execution_count": 29
    }
   ],
   "source": [
    "dfs['AAPL.O'].head(7)"
   ]
  },
  {
   "cell_type": "markdown",
   "metadata": {},
   "source": [
    "## Implementing OLS Regression"
   ]
  },
  {
   "cell_type": "markdown",
   "metadata": {},
   "source": [
    "The matrix consisting of the lagged data columns is used to \"predict\" the next day's value of the `RIC` via **linear OLS regression**."
   ]
  },
  {
   "cell_type": "code",
   "execution_count": 30,
   "metadata": {},
   "outputs": [],
   "source": [
    "regs = {}\n",
    "for ric in rics:\n",
    "    df = dfs[ric]  # getting data for the RIC\n",
    "    reg = np.linalg.lstsq(df[cols], df[ric], rcond=-1)[0]  # the OLS regression\n",
    "    regs[ric] = reg  # storing the results"
   ]
  },
  {
   "cell_type": "code",
   "execution_count": 60,
   "metadata": {},
   "outputs": [
    {
     "output_type": "execute_result",
     "data": {
      "text/plain": "(array([ 1.00717172, -0.14691012,  0.11575033,  0.05903115, -0.03179905]),\n array([2198.42872905]),\n 5,\n array([7306.96512541,   71.09980283,   43.91878063,   31.39174015,\n          23.85514461]))"
     },
     "metadata": {},
     "execution_count": 60
    }
   ],
   "source": [
    "ric ='AAPL.O'\n",
    "regs = {}\n",
    "df = dfs[ric]\n",
    "reg = np.linalg.lstsq(df[cols], df[ric], rcond=-1)\n",
    "regs[ric] = reg\n",
    "reg"
   ]
  },
  {
   "cell_type": "code",
   "execution_count": 56,
   "metadata": {},
   "outputs": [
    {
     "output_type": "execute_result",
     "data": {
      "text/plain": "['lag_1', 'lag_2', 'lag_3', 'lag_4', 'lag_5']"
     },
     "metadata": {},
     "execution_count": 56
    }
   ],
   "source": [
    "cols"
   ]
  },
  {
   "cell_type": "code",
   "execution_count": 35,
   "metadata": {},
   "outputs": [
    {
     "output_type": "stream",
     "name": "stdout",
     "text": "GE         | [ 0.96817868  0.01936998  0.08795867  0.03609661 -0.11092979]\nAAPL.O     | [ 1.00717172 -0.14691012  0.11575033  0.05903115 -0.03179905]\n.SPX       | [ 0.93289039  0.00308899  0.07863694 -0.01590131  0.00229603]\n.VIX       | [0.80268564 0.12030209 0.00499019 0.00914989 0.0575344 ]\nEUR=       | [ 0.97259488  0.09903832 -0.02550018 -0.20460307  0.15837288]\nXAU=       | [ 0.97517376  0.02257361 -0.00480906 -0.00624851  0.01399871]\nDE10YT=RR  | [ 0.93916618  0.12588257 -0.03018844  0.03820625 -0.07749446]\n"
    }
   ],
   "source": [
    "for ric in rics:\n",
    "    print('{:10} | {}'.format(ric, regs[ric]))"
   ]
  },
  {
   "cell_type": "markdown",
   "metadata": {},
   "source": [
    "## Taking a Closer Look"
   ]
  },
  {
   "cell_type": "markdown",
   "metadata": {},
   "source": [
    "Let's pick one `RIC` and compare the original time series with the OLS predicted one."
   ]
  },
  {
   "cell_type": "code",
   "execution_count": 36,
   "metadata": {},
   "outputs": [
    {
     "output_type": "execute_result",
     "data": {
      "text/plain": "            AAPL.O   lag_1   lag_2   lag_3   lag_4   lag_5\nDate                                                      \n2019-01-09  153.31  150.75  147.93  148.26  142.19  157.92\n2019-01-10  153.80  153.31  150.75  147.93  148.26  142.19\n2019-01-11  152.29  153.80  153.31  150.75  147.93  148.26\n2019-01-14  150.00  152.29  153.80  153.31  150.75  147.93\n2019-01-15  153.07  150.00  152.29  153.80  153.31  150.75\n...            ...     ...     ...     ...     ...     ...\n2019-12-20  279.44  280.02  279.74  280.41  279.86  275.15\n2019-12-23  284.00  279.44  280.02  279.74  280.41  279.86\n2019-12-27  289.80  284.00  279.44  280.02  279.74  280.41\n2019-12-30  291.52  289.80  284.00  279.44  280.02  279.74\n2019-12-31  293.65  291.52  289.80  284.00  279.44  280.02\n\n[243 rows x 6 columns]",
      "text/html": "<div>\n<style scoped>\n    .dataframe tbody tr th:only-of-type {\n        vertical-align: middle;\n    }\n\n    .dataframe tbody tr th {\n        vertical-align: top;\n    }\n\n    .dataframe thead th {\n        text-align: right;\n    }\n</style>\n<table border=\"1\" class=\"dataframe\">\n  <thead>\n    <tr style=\"text-align: right;\">\n      <th></th>\n      <th>AAPL.O</th>\n      <th>lag_1</th>\n      <th>lag_2</th>\n      <th>lag_3</th>\n      <th>lag_4</th>\n      <th>lag_5</th>\n    </tr>\n    <tr>\n      <th>Date</th>\n      <th></th>\n      <th></th>\n      <th></th>\n      <th></th>\n      <th></th>\n      <th></th>\n    </tr>\n  </thead>\n  <tbody>\n    <tr>\n      <th>2019-01-09</th>\n      <td>153.31</td>\n      <td>150.75</td>\n      <td>147.93</td>\n      <td>148.26</td>\n      <td>142.19</td>\n      <td>157.92</td>\n    </tr>\n    <tr>\n      <th>2019-01-10</th>\n      <td>153.80</td>\n      <td>153.31</td>\n      <td>150.75</td>\n      <td>147.93</td>\n      <td>148.26</td>\n      <td>142.19</td>\n    </tr>\n    <tr>\n      <th>2019-01-11</th>\n      <td>152.29</td>\n      <td>153.80</td>\n      <td>153.31</td>\n      <td>150.75</td>\n      <td>147.93</td>\n      <td>148.26</td>\n    </tr>\n    <tr>\n      <th>2019-01-14</th>\n      <td>150.00</td>\n      <td>152.29</td>\n      <td>153.80</td>\n      <td>153.31</td>\n      <td>150.75</td>\n      <td>147.93</td>\n    </tr>\n    <tr>\n      <th>2019-01-15</th>\n      <td>153.07</td>\n      <td>150.00</td>\n      <td>152.29</td>\n      <td>153.80</td>\n      <td>153.31</td>\n      <td>150.75</td>\n    </tr>\n    <tr>\n      <th>...</th>\n      <td>...</td>\n      <td>...</td>\n      <td>...</td>\n      <td>...</td>\n      <td>...</td>\n      <td>...</td>\n    </tr>\n    <tr>\n      <th>2019-12-20</th>\n      <td>279.44</td>\n      <td>280.02</td>\n      <td>279.74</td>\n      <td>280.41</td>\n      <td>279.86</td>\n      <td>275.15</td>\n    </tr>\n    <tr>\n      <th>2019-12-23</th>\n      <td>284.00</td>\n      <td>279.44</td>\n      <td>280.02</td>\n      <td>279.74</td>\n      <td>280.41</td>\n      <td>279.86</td>\n    </tr>\n    <tr>\n      <th>2019-12-27</th>\n      <td>289.80</td>\n      <td>284.00</td>\n      <td>279.44</td>\n      <td>280.02</td>\n      <td>279.74</td>\n      <td>280.41</td>\n    </tr>\n    <tr>\n      <th>2019-12-30</th>\n      <td>291.52</td>\n      <td>289.80</td>\n      <td>284.00</td>\n      <td>279.44</td>\n      <td>280.02</td>\n      <td>279.74</td>\n    </tr>\n    <tr>\n      <th>2019-12-31</th>\n      <td>293.65</td>\n      <td>291.52</td>\n      <td>289.80</td>\n      <td>284.00</td>\n      <td>279.44</td>\n      <td>280.02</td>\n    </tr>\n  </tbody>\n</table>\n<p>243 rows × 6 columns</p>\n</div>"
     },
     "metadata": {},
     "execution_count": 36
    }
   ],
   "source": [
    "ric = 'AAPL.O'\n",
    "dfs[ric]"
   ]
  },
  {
   "cell_type": "code",
   "execution_count": 63,
   "metadata": {},
   "outputs": [
    {
     "output_type": "execute_result",
     "data": {
      "text/plain": "{'GE':                    GE      lag_1      lag_2      lag_3      lag_4      lag_5\n Date                                                                        \n 2019-01-09   8.170633   8.228309   8.401334   7.911096   7.747683   7.738071\n 2019-01-10   8.593584   8.170633   8.228309   8.401334   7.911096   7.747683\n 2019-01-11   8.593584   8.593584   8.170633   8.228309   8.401334   7.911096\n 2019-01-14   8.555134   8.593584   8.593584   8.170633   8.228309   8.401334\n 2019-01-15   8.391721   8.555134   8.593584   8.593584   8.170633   8.228309\n ...               ...        ...        ...        ...        ...        ...\n 2019-12-20  11.030000  11.040000  10.960000  11.100000  11.170000  11.340000\n 2019-12-23  11.160000  11.030000  11.040000  10.960000  11.100000  11.170000\n 2019-12-27  11.180000  11.160000  11.030000  11.040000  10.960000  11.100000\n 2019-12-30  11.080000  11.180000  11.160000  11.030000  11.040000  10.960000\n 2019-12-31  11.160000  11.080000  11.180000  11.160000  11.030000  11.040000\n \n [243 rows x 6 columns],\n 'AAPL.O':             AAPL.O   lag_1   lag_2   lag_3   lag_4   lag_5\n Date                                                      \n 2019-01-09  153.31  150.75  147.93  148.26  142.19  157.92\n 2019-01-10  153.80  153.31  150.75  147.93  148.26  142.19\n 2019-01-11  152.29  153.80  153.31  150.75  147.93  148.26\n 2019-01-14  150.00  152.29  153.80  153.31  150.75  147.93\n 2019-01-15  153.07  150.00  152.29  153.80  153.31  150.75\n ...            ...     ...     ...     ...     ...     ...\n 2019-12-20  279.44  280.02  279.74  280.41  279.86  275.15\n 2019-12-23  284.00  279.44  280.02  279.74  280.41  279.86\n 2019-12-27  289.80  284.00  279.44  280.02  279.74  280.41\n 2019-12-30  291.52  289.80  284.00  279.44  280.02  279.74\n 2019-12-31  293.65  291.52  289.80  284.00  279.44  280.02\n \n [243 rows x 6 columns],\n '.SPX':                .SPX    lag_1    lag_2    lag_3    lag_4    lag_5\n Date                                                            \n 2019-01-09  2584.96  2574.41  2549.69  2531.94  2447.89  2510.03\n 2019-01-10  2596.64  2584.96  2574.41  2549.69  2531.94  2447.89\n 2019-01-11  2596.26  2596.64  2584.96  2574.41  2549.69  2531.94\n 2019-01-14  2582.61  2596.26  2596.64  2584.96  2574.41  2549.69\n 2019-01-15  2610.30  2582.61  2596.26  2596.64  2584.96  2574.41\n ...             ...      ...      ...      ...      ...      ...\n 2019-12-20  3221.22  3205.37  3191.14  3192.52  3191.45  3168.80\n 2019-12-23  3224.01  3221.22  3205.37  3191.14  3192.52  3191.45\n 2019-12-27  3240.02  3224.01  3221.22  3205.37  3191.14  3192.52\n 2019-12-30  3221.29  3240.02  3224.01  3221.22  3205.37  3191.14\n 2019-12-31  3230.78  3221.29  3240.02  3224.01  3221.22  3205.37\n \n [243 rows x 6 columns],\n '.VIX':              .VIX  lag_1  lag_2  lag_3  lag_4  lag_5\n Date                                                \n 2019-01-09  19.98  20.47  21.40  21.38  25.45  23.22\n 2019-01-10  19.50  19.98  20.47  21.40  21.38  25.45\n 2019-01-11  18.19  19.50  19.98  20.47  21.40  21.38\n 2019-01-14  19.07  18.19  19.50  19.98  20.47  21.40\n 2019-01-15  18.60  19.07  18.19  19.50  19.98  20.47\n ...           ...    ...    ...    ...    ...    ...\n 2019-12-20  12.51  12.50  12.58  12.29  12.14  12.63\n 2019-12-23  12.61  12.51  12.50  12.58  12.29  12.14\n 2019-12-27  13.43  12.61  12.51  12.50  12.58  12.29\n 2019-12-30  14.82  13.43  12.61  12.51  12.50  12.58\n 2019-12-31  13.78  14.82  13.43  12.61  12.51  12.50\n \n [243 rows x 6 columns],\n 'EUR=':               EUR=   lag_1   lag_2   lag_3   lag_4   lag_5\n Date                                                      \n 2019-01-09  1.1541  1.1440  1.1474  1.1393  1.1392  1.1342\n 2019-01-10  1.1498  1.1541  1.1440  1.1474  1.1393  1.1392\n 2019-01-11  1.1467  1.1498  1.1541  1.1440  1.1474  1.1393\n 2019-01-14  1.1474  1.1467  1.1498  1.1541  1.1440  1.1474\n 2019-01-15  1.1414  1.1474  1.1467  1.1498  1.1541  1.1440\n ...            ...     ...     ...     ...     ...     ...\n 2019-12-20  1.1078  1.1120  1.1111  1.1149  1.1142  1.1119\n 2019-12-23  1.1086  1.1078  1.1120  1.1111  1.1149  1.1142\n 2019-12-27  1.1175  1.1086  1.1078  1.1120  1.1111  1.1149\n 2019-12-30  1.1197  1.1175  1.1086  1.1078  1.1120  1.1111\n 2019-12-31  1.1210  1.1197  1.1175  1.1086  1.1078  1.1120\n \n [243 rows x 6 columns],\n 'XAU=':                  XAU=      lag_1      lag_2      lag_3      lag_4      lag_5\n Date                                                                        \n 2019-01-09  1293.0500  1284.8500  1288.6300  1284.8300  1293.6100  1284.7400\n 2019-01-10  1286.3199  1293.0500  1284.8500  1288.6300  1284.8300  1293.6100\n 2019-01-11  1287.5000  1286.3199  1293.0500  1284.8500  1288.6300  1284.8300\n 2019-01-14  1291.6899  1287.5000  1286.3199  1293.0500  1284.8500  1288.6300\n 2019-01-15  1289.2400  1291.6899  1287.5000  1286.3199  1293.0500  1284.8500\n ...               ...        ...        ...        ...        ...        ...\n 2019-12-20  1477.9497  1479.0472  1475.1862  1476.2000  1476.0013  1475.5586\n 2019-12-23  1485.2700  1477.9497  1479.0472  1475.1862  1476.2000  1476.0013\n 2019-12-27  1510.4167  1485.2700  1477.9497  1479.0472  1475.1862  1476.2000\n 2019-12-30  1515.1230  1510.4167  1485.2700  1477.9497  1479.0472  1475.1862\n 2019-12-31  1517.0100  1515.1230  1510.4167  1485.2700  1477.9497  1479.0472\n \n [243 rows x 6 columns],\n 'DE10YT=RR':             DE10YT=RR  lag_1  lag_2  lag_3  lag_4  lag_5\n Date                                                    \n 2019-01-09      0.215  0.230  0.216  0.208  0.151  0.171\n 2019-01-10      0.197  0.215  0.230  0.216  0.208  0.151\n 2019-01-11      0.182  0.197  0.215  0.230  0.216  0.208\n 2019-01-14      0.232  0.182  0.197  0.215  0.230  0.216\n 2019-01-15      0.206  0.232  0.182  0.197  0.215  0.230\n ...               ...    ...    ...    ...    ...    ...\n 2019-12-20     -0.246 -0.235 -0.251 -0.290 -0.273 -0.294\n 2019-12-23     -0.245 -0.246 -0.235 -0.251 -0.290 -0.273\n 2019-12-27     -0.256 -0.245 -0.246 -0.235 -0.251 -0.290\n 2019-12-30     -0.181 -0.256 -0.245 -0.246 -0.235 -0.251\n 2019-12-31     -0.187 -0.181 -0.256 -0.245 -0.246 -0.235\n \n [243 rows x 6 columns]}"
     },
     "metadata": {},
     "execution_count": 63
    }
   ],
   "source": [
    "dfs"
   ]
  },
  {
   "cell_type": "code",
   "execution_count": 62,
   "metadata": {},
   "outputs": [
    {
     "output_type": "stream",
     "name": "stdout",
     "text": "Date\n2019-01-09    153.31\n2019-01-10    153.80\n2019-01-11    152.29\n2019-01-14    150.00\n2019-01-15    153.07\n               ...  \n2019-12-20    279.44\n2019-12-23    284.00\n2019-12-27    289.80\n2019-12-30    291.52\n2019-12-31    293.65\nName: AAPL.O, Length: 243, dtype: float64\n"
    }
   ],
   "source": [
    "print(dfs[ric][ric])\n",
    "res = pd.DataFrame(dfs[ric][ric])  # picks the original time series"
   ]
  },
  {
   "cell_type": "code",
   "execution_count": 38,
   "metadata": {},
   "outputs": [
    {
     "output_type": "execute_result",
     "data": {
      "text/plain": "                lag_1      lag_2      lag_3      lag_4      lag_5\nDate                                                             \n2019-01-09   8.228309   8.401334   7.911096   7.747683   7.738071\n2019-01-10   8.170633   8.228309   8.401334   7.911096   7.747683\n2019-01-11   8.593584   8.170633   8.228309   8.401334   7.911096\n2019-01-14   8.593584   8.593584   8.170633   8.228309   8.401334\n2019-01-15   8.555134   8.593584   8.593584   8.170633   8.228309\n...               ...        ...        ...        ...        ...\n2019-12-20  11.040000  10.960000  11.100000  11.170000  11.340000\n2019-12-23  11.030000  11.040000  10.960000  11.100000  11.170000\n2019-12-27  11.160000  11.030000  11.040000  10.960000  11.100000\n2019-12-30  11.180000  11.160000  11.030000  11.040000  10.960000\n2019-12-31  11.080000  11.180000  11.160000  11.030000  11.040000\n\n[243 rows x 5 columns]",
      "text/html": "<div>\n<style scoped>\n    .dataframe tbody tr th:only-of-type {\n        vertical-align: middle;\n    }\n\n    .dataframe tbody tr th {\n        vertical-align: top;\n    }\n\n    .dataframe thead th {\n        text-align: right;\n    }\n</style>\n<table border=\"1\" class=\"dataframe\">\n  <thead>\n    <tr style=\"text-align: right;\">\n      <th></th>\n      <th>lag_1</th>\n      <th>lag_2</th>\n      <th>lag_3</th>\n      <th>lag_4</th>\n      <th>lag_5</th>\n    </tr>\n    <tr>\n      <th>Date</th>\n      <th></th>\n      <th></th>\n      <th></th>\n      <th></th>\n      <th></th>\n    </tr>\n  </thead>\n  <tbody>\n    <tr>\n      <th>2019-01-09</th>\n      <td>8.228309</td>\n      <td>8.401334</td>\n      <td>7.911096</td>\n      <td>7.747683</td>\n      <td>7.738071</td>\n    </tr>\n    <tr>\n      <th>2019-01-10</th>\n      <td>8.170633</td>\n      <td>8.228309</td>\n      <td>8.401334</td>\n      <td>7.911096</td>\n      <td>7.747683</td>\n    </tr>\n    <tr>\n      <th>2019-01-11</th>\n      <td>8.593584</td>\n      <td>8.170633</td>\n      <td>8.228309</td>\n      <td>8.401334</td>\n      <td>7.911096</td>\n    </tr>\n    <tr>\n      <th>2019-01-14</th>\n      <td>8.593584</td>\n      <td>8.593584</td>\n      <td>8.170633</td>\n      <td>8.228309</td>\n      <td>8.401334</td>\n    </tr>\n    <tr>\n      <th>2019-01-15</th>\n      <td>8.555134</td>\n      <td>8.593584</td>\n      <td>8.593584</td>\n      <td>8.170633</td>\n      <td>8.228309</td>\n    </tr>\n    <tr>\n      <th>...</th>\n      <td>...</td>\n      <td>...</td>\n      <td>...</td>\n      <td>...</td>\n      <td>...</td>\n    </tr>\n    <tr>\n      <th>2019-12-20</th>\n      <td>11.040000</td>\n      <td>10.960000</td>\n      <td>11.100000</td>\n      <td>11.170000</td>\n      <td>11.340000</td>\n    </tr>\n    <tr>\n      <th>2019-12-23</th>\n      <td>11.030000</td>\n      <td>11.040000</td>\n      <td>10.960000</td>\n      <td>11.100000</td>\n      <td>11.170000</td>\n    </tr>\n    <tr>\n      <th>2019-12-27</th>\n      <td>11.160000</td>\n      <td>11.030000</td>\n      <td>11.040000</td>\n      <td>10.960000</td>\n      <td>11.100000</td>\n    </tr>\n    <tr>\n      <th>2019-12-30</th>\n      <td>11.180000</td>\n      <td>11.160000</td>\n      <td>11.030000</td>\n      <td>11.040000</td>\n      <td>10.960000</td>\n    </tr>\n    <tr>\n      <th>2019-12-31</th>\n      <td>11.080000</td>\n      <td>11.180000</td>\n      <td>11.160000</td>\n      <td>11.030000</td>\n      <td>11.040000</td>\n    </tr>\n  </tbody>\n</table>\n<p>243 rows × 5 columns</p>\n</div>"
     },
     "metadata": {},
     "execution_count": 38
    }
   ],
   "source": [
    "dfs['GE'][cols]"
   ]
  },
  {
   "cell_type": "code",
   "execution_count": 39,
   "metadata": {},
   "outputs": [],
   "source": [
    "res['PRED'] = np.dot(dfs[ric][cols], regs[ric])  # creates the \"prediction\" values"
   ]
  },
  {
   "cell_type": "markdown",
   "metadata": {},
   "source": [
    "The **predicted prices** are almost exactly the prices from the day before."
   ]
  },
  {
   "cell_type": "code",
   "execution_count": 40,
   "metadata": {},
   "outputs": [
    {
     "output_type": "display_data",
     "data": {
      "application/vnd.plotly.v1+json": {
       "config": {
        "linkText": "Export to plot.ly",
        "plotlyServerURL": "https://plot.ly",
        "showLink": true
       },
       "data": [
        {
         "line": {
          "color": "rgba(255, 153, 51, 1.0)",
          "dash": "solid",
          "shape": "linear",
          "width": 1.3
         },
         "mode": "lines",
         "name": "AAPL.O",
         "text": "",
         "type": "scatter",
         "x": [
          "2019-10-17",
          "2019-10-18",
          "2019-10-21",
          "2019-10-22",
          "2019-10-23",
          "2019-10-24",
          "2019-10-25",
          "2019-10-28",
          "2019-10-29",
          "2019-10-30",
          "2019-10-31",
          "2019-11-01",
          "2019-11-04",
          "2019-11-05",
          "2019-11-06",
          "2019-11-07",
          "2019-11-08",
          "2019-11-11",
          "2019-11-12",
          "2019-11-13",
          "2019-11-14",
          "2019-11-15",
          "2019-11-18",
          "2019-11-19",
          "2019-11-20",
          "2019-11-21",
          "2019-11-22",
          "2019-11-25",
          "2019-11-26",
          "2019-11-27",
          "2019-11-29",
          "2019-12-02",
          "2019-12-03",
          "2019-12-04",
          "2019-12-05",
          "2019-12-06",
          "2019-12-09",
          "2019-12-10",
          "2019-12-11",
          "2019-12-12",
          "2019-12-13",
          "2019-12-16",
          "2019-12-17",
          "2019-12-18",
          "2019-12-19",
          "2019-12-20",
          "2019-12-23",
          "2019-12-27",
          "2019-12-30",
          "2019-12-31"
         ],
         "y": [
          235.28,
          236.41,
          240.51,
          239.96,
          243.18,
          243.58,
          246.58,
          249.05,
          243.29,
          243.26,
          248.76,
          255.82,
          257.5,
          257.13,
          257.24,
          259.43,
          260.14,
          262.2,
          261.96,
          264.47,
          262.64,
          265.76,
          267.1,
          266.29,
          263.19,
          262.01,
          261.78,
          266.37,
          264.29,
          267.84,
          267.25,
          264.16,
          259.45,
          261.74,
          265.58,
          270.71,
          266.92,
          268.48,
          270.77,
          271.46,
          275.15,
          279.86,
          280.41,
          279.74,
          280.02,
          279.44,
          284,
          289.8,
          291.52,
          293.65
         ]
        },
        {
         "line": {
          "color": "rgba(55, 128, 191, 1.0)",
          "dash": "solid",
          "shape": "linear",
          "width": 1.3
         },
         "mode": "lines",
         "name": "PRED",
         "text": "",
         "type": "scatter",
         "x": [
          "2019-10-17",
          "2019-10-18",
          "2019-10-21",
          "2019-10-22",
          "2019-10-23",
          "2019-10-24",
          "2019-10-25",
          "2019-10-28",
          "2019-10-29",
          "2019-10-30",
          "2019-10-31",
          "2019-11-01",
          "2019-11-04",
          "2019-11-05",
          "2019-11-06",
          "2019-11-07",
          "2019-11-08",
          "2019-11-11",
          "2019-11-12",
          "2019-11-13",
          "2019-11-14",
          "2019-11-15",
          "2019-11-18",
          "2019-11-19",
          "2019-11-20",
          "2019-11-21",
          "2019-11-22",
          "2019-11-25",
          "2019-11-26",
          "2019-11-27",
          "2019-11-29",
          "2019-12-02",
          "2019-12-03",
          "2019-12-04",
          "2019-12-05",
          "2019-12-06",
          "2019-12-09",
          "2019-12-10",
          "2019-12-11",
          "2019-12-12",
          "2019-12-13",
          "2019-12-16",
          "2019-12-17",
          "2019-12-18",
          "2019-12-19",
          "2019-12-20",
          "2019-12-23",
          "2019-12-27",
          "2019-12-30",
          "2019-12-31"
         ],
         "y": [
          235.4090805042454,
          236.18682792853403,
          237.05962549781438,
          241.08976379833533,
          240.14821316775289,
          243.9844510764168,
          244.05670128549937,
          247.22932521126327,
          249.53017891089556,
          243.63447229499963,
          244.90073657709726,
          249.8282762606055,
          255.70886735505096,
          257.1817487773477,
          257.70510883618306,
          258.306580163932,
          260.32796953805956,
          260.6587969007353,
          262.90101674872835,
          262.5646237413185,
          265.3386010584819,
          263.1979791709666,
          266.8200602608483,
          267.6552876522354,
          266.8159173916064,
          264.2101571420662,
          263.36324682806895,
          262.8556993060981,
          267.2185821133393,
          264.45164520047683,
          268.88791757226585,
          267.8096614108199,
          264.92634898838344,
          260.84393237248554,
          263.33691877074864,
          266.1592051521736,
          270.8471518085393,
          267.00575817601225,
          269.8813943843044,
          271.70066555058634,
          271.85290318208297,
          275.94567408972705,
          280.3127970898079,
          280.56982523725077,
          280.55528725265236,
          281.16008601837484,
          280.33993247470863,
          284.9932131357644,
          290.1355978619768,
          291.50053420417015
         ]
        }
       ],
       "layout": {
        "legend": {
         "bgcolor": "#F5F6F9",
         "font": {
          "color": "#4D5663"
         }
        },
        "paper_bgcolor": "#F5F6F9",
        "plot_bgcolor": "#F5F6F9",
        "template": {
         "data": {
          "bar": [
           {
            "error_x": {
             "color": "#2a3f5f"
            },
            "error_y": {
             "color": "#2a3f5f"
            },
            "marker": {
             "line": {
              "color": "#E5ECF6",
              "width": 0.5
             }
            },
            "type": "bar"
           }
          ],
          "barpolar": [
           {
            "marker": {
             "line": {
              "color": "#E5ECF6",
              "width": 0.5
             }
            },
            "type": "barpolar"
           }
          ],
          "carpet": [
           {
            "aaxis": {
             "endlinecolor": "#2a3f5f",
             "gridcolor": "white",
             "linecolor": "white",
             "minorgridcolor": "white",
             "startlinecolor": "#2a3f5f"
            },
            "baxis": {
             "endlinecolor": "#2a3f5f",
             "gridcolor": "white",
             "linecolor": "white",
             "minorgridcolor": "white",
             "startlinecolor": "#2a3f5f"
            },
            "type": "carpet"
           }
          ],
          "choropleth": [
           {
            "colorbar": {
             "outlinewidth": 0,
             "ticks": ""
            },
            "type": "choropleth"
           }
          ],
          "contour": [
           {
            "colorbar": {
             "outlinewidth": 0,
             "ticks": ""
            },
            "colorscale": [
             [
              0,
              "#0d0887"
             ],
             [
              0.1111111111111111,
              "#46039f"
             ],
             [
              0.2222222222222222,
              "#7201a8"
             ],
             [
              0.3333333333333333,
              "#9c179e"
             ],
             [
              0.4444444444444444,
              "#bd3786"
             ],
             [
              0.5555555555555556,
              "#d8576b"
             ],
             [
              0.6666666666666666,
              "#ed7953"
             ],
             [
              0.7777777777777778,
              "#fb9f3a"
             ],
             [
              0.8888888888888888,
              "#fdca26"
             ],
             [
              1,
              "#f0f921"
             ]
            ],
            "type": "contour"
           }
          ],
          "contourcarpet": [
           {
            "colorbar": {
             "outlinewidth": 0,
             "ticks": ""
            },
            "type": "contourcarpet"
           }
          ],
          "heatmap": [
           {
            "colorbar": {
             "outlinewidth": 0,
             "ticks": ""
            },
            "colorscale": [
             [
              0,
              "#0d0887"
             ],
             [
              0.1111111111111111,
              "#46039f"
             ],
             [
              0.2222222222222222,
              "#7201a8"
             ],
             [
              0.3333333333333333,
              "#9c179e"
             ],
             [
              0.4444444444444444,
              "#bd3786"
             ],
             [
              0.5555555555555556,
              "#d8576b"
             ],
             [
              0.6666666666666666,
              "#ed7953"
             ],
             [
              0.7777777777777778,
              "#fb9f3a"
             ],
             [
              0.8888888888888888,
              "#fdca26"
             ],
             [
              1,
              "#f0f921"
             ]
            ],
            "type": "heatmap"
           }
          ],
          "heatmapgl": [
           {
            "colorbar": {
             "outlinewidth": 0,
             "ticks": ""
            },
            "colorscale": [
             [
              0,
              "#0d0887"
             ],
             [
              0.1111111111111111,
              "#46039f"
             ],
             [
              0.2222222222222222,
              "#7201a8"
             ],
             [
              0.3333333333333333,
              "#9c179e"
             ],
             [
              0.4444444444444444,
              "#bd3786"
             ],
             [
              0.5555555555555556,
              "#d8576b"
             ],
             [
              0.6666666666666666,
              "#ed7953"
             ],
             [
              0.7777777777777778,
              "#fb9f3a"
             ],
             [
              0.8888888888888888,
              "#fdca26"
             ],
             [
              1,
              "#f0f921"
             ]
            ],
            "type": "heatmapgl"
           }
          ],
          "histogram": [
           {
            "marker": {
             "colorbar": {
              "outlinewidth": 0,
              "ticks": ""
             }
            },
            "type": "histogram"
           }
          ],
          "histogram2d": [
           {
            "colorbar": {
             "outlinewidth": 0,
             "ticks": ""
            },
            "colorscale": [
             [
              0,
              "#0d0887"
             ],
             [
              0.1111111111111111,
              "#46039f"
             ],
             [
              0.2222222222222222,
              "#7201a8"
             ],
             [
              0.3333333333333333,
              "#9c179e"
             ],
             [
              0.4444444444444444,
              "#bd3786"
             ],
             [
              0.5555555555555556,
              "#d8576b"
             ],
             [
              0.6666666666666666,
              "#ed7953"
             ],
             [
              0.7777777777777778,
              "#fb9f3a"
             ],
             [
              0.8888888888888888,
              "#fdca26"
             ],
             [
              1,
              "#f0f921"
             ]
            ],
            "type": "histogram2d"
           }
          ],
          "histogram2dcontour": [
           {
            "colorbar": {
             "outlinewidth": 0,
             "ticks": ""
            },
            "colorscale": [
             [
              0,
              "#0d0887"
             ],
             [
              0.1111111111111111,
              "#46039f"
             ],
             [
              0.2222222222222222,
              "#7201a8"
             ],
             [
              0.3333333333333333,
              "#9c179e"
             ],
             [
              0.4444444444444444,
              "#bd3786"
             ],
             [
              0.5555555555555556,
              "#d8576b"
             ],
             [
              0.6666666666666666,
              "#ed7953"
             ],
             [
              0.7777777777777778,
              "#fb9f3a"
             ],
             [
              0.8888888888888888,
              "#fdca26"
             ],
             [
              1,
              "#f0f921"
             ]
            ],
            "type": "histogram2dcontour"
           }
          ],
          "mesh3d": [
           {
            "colorbar": {
             "outlinewidth": 0,
             "ticks": ""
            },
            "type": "mesh3d"
           }
          ],
          "parcoords": [
           {
            "line": {
             "colorbar": {
              "outlinewidth": 0,
              "ticks": ""
             }
            },
            "type": "parcoords"
           }
          ],
          "pie": [
           {
            "automargin": true,
            "type": "pie"
           }
          ],
          "scatter": [
           {
            "marker": {
             "colorbar": {
              "outlinewidth": 0,
              "ticks": ""
             }
            },
            "type": "scatter"
           }
          ],
          "scatter3d": [
           {
            "line": {
             "colorbar": {
              "outlinewidth": 0,
              "ticks": ""
             }
            },
            "marker": {
             "colorbar": {
              "outlinewidth": 0,
              "ticks": ""
             }
            },
            "type": "scatter3d"
           }
          ],
          "scattercarpet": [
           {
            "marker": {
             "colorbar": {
              "outlinewidth": 0,
              "ticks": ""
             }
            },
            "type": "scattercarpet"
           }
          ],
          "scattergeo": [
           {
            "marker": {
             "colorbar": {
              "outlinewidth": 0,
              "ticks": ""
             }
            },
            "type": "scattergeo"
           }
          ],
          "scattergl": [
           {
            "marker": {
             "colorbar": {
              "outlinewidth": 0,
              "ticks": ""
             }
            },
            "type": "scattergl"
           }
          ],
          "scattermapbox": [
           {
            "marker": {
             "colorbar": {
              "outlinewidth": 0,
              "ticks": ""
             }
            },
            "type": "scattermapbox"
           }
          ],
          "scatterpolar": [
           {
            "marker": {
             "colorbar": {
              "outlinewidth": 0,
              "ticks": ""
             }
            },
            "type": "scatterpolar"
           }
          ],
          "scatterpolargl": [
           {
            "marker": {
             "colorbar": {
              "outlinewidth": 0,
              "ticks": ""
             }
            },
            "type": "scatterpolargl"
           }
          ],
          "scatterternary": [
           {
            "marker": {
             "colorbar": {
              "outlinewidth": 0,
              "ticks": ""
             }
            },
            "type": "scatterternary"
           }
          ],
          "surface": [
           {
            "colorbar": {
             "outlinewidth": 0,
             "ticks": ""
            },
            "colorscale": [
             [
              0,
              "#0d0887"
             ],
             [
              0.1111111111111111,
              "#46039f"
             ],
             [
              0.2222222222222222,
              "#7201a8"
             ],
             [
              0.3333333333333333,
              "#9c179e"
             ],
             [
              0.4444444444444444,
              "#bd3786"
             ],
             [
              0.5555555555555556,
              "#d8576b"
             ],
             [
              0.6666666666666666,
              "#ed7953"
             ],
             [
              0.7777777777777778,
              "#fb9f3a"
             ],
             [
              0.8888888888888888,
              "#fdca26"
             ],
             [
              1,
              "#f0f921"
             ]
            ],
            "type": "surface"
           }
          ],
          "table": [
           {
            "cells": {
             "fill": {
              "color": "#EBF0F8"
             },
             "line": {
              "color": "white"
             }
            },
            "header": {
             "fill": {
              "color": "#C8D4E3"
             },
             "line": {
              "color": "white"
             }
            },
            "type": "table"
           }
          ]
         },
         "layout": {
          "annotationdefaults": {
           "arrowcolor": "#2a3f5f",
           "arrowhead": 0,
           "arrowwidth": 1
          },
          "coloraxis": {
           "colorbar": {
            "outlinewidth": 0,
            "ticks": ""
           }
          },
          "colorscale": {
           "diverging": [
            [
             0,
             "#8e0152"
            ],
            [
             0.1,
             "#c51b7d"
            ],
            [
             0.2,
             "#de77ae"
            ],
            [
             0.3,
             "#f1b6da"
            ],
            [
             0.4,
             "#fde0ef"
            ],
            [
             0.5,
             "#f7f7f7"
            ],
            [
             0.6,
             "#e6f5d0"
            ],
            [
             0.7,
             "#b8e186"
            ],
            [
             0.8,
             "#7fbc41"
            ],
            [
             0.9,
             "#4d9221"
            ],
            [
             1,
             "#276419"
            ]
           ],
           "sequential": [
            [
             0,
             "#0d0887"
            ],
            [
             0.1111111111111111,
             "#46039f"
            ],
            [
             0.2222222222222222,
             "#7201a8"
            ],
            [
             0.3333333333333333,
             "#9c179e"
            ],
            [
             0.4444444444444444,
             "#bd3786"
            ],
            [
             0.5555555555555556,
             "#d8576b"
            ],
            [
             0.6666666666666666,
             "#ed7953"
            ],
            [
             0.7777777777777778,
             "#fb9f3a"
            ],
            [
             0.8888888888888888,
             "#fdca26"
            ],
            [
             1,
             "#f0f921"
            ]
           ],
           "sequentialminus": [
            [
             0,
             "#0d0887"
            ],
            [
             0.1111111111111111,
             "#46039f"
            ],
            [
             0.2222222222222222,
             "#7201a8"
            ],
            [
             0.3333333333333333,
             "#9c179e"
            ],
            [
             0.4444444444444444,
             "#bd3786"
            ],
            [
             0.5555555555555556,
             "#d8576b"
            ],
            [
             0.6666666666666666,
             "#ed7953"
            ],
            [
             0.7777777777777778,
             "#fb9f3a"
            ],
            [
             0.8888888888888888,
             "#fdca26"
            ],
            [
             1,
             "#f0f921"
            ]
           ]
          },
          "colorway": [
           "#636efa",
           "#EF553B",
           "#00cc96",
           "#ab63fa",
           "#FFA15A",
           "#19d3f3",
           "#FF6692",
           "#B6E880",
           "#FF97FF",
           "#FECB52"
          ],
          "font": {
           "color": "#2a3f5f"
          },
          "geo": {
           "bgcolor": "white",
           "lakecolor": "white",
           "landcolor": "#E5ECF6",
           "showlakes": true,
           "showland": true,
           "subunitcolor": "white"
          },
          "hoverlabel": {
           "align": "left"
          },
          "hovermode": "closest",
          "mapbox": {
           "style": "light"
          },
          "paper_bgcolor": "white",
          "plot_bgcolor": "#E5ECF6",
          "polar": {
           "angularaxis": {
            "gridcolor": "white",
            "linecolor": "white",
            "ticks": ""
           },
           "bgcolor": "#E5ECF6",
           "radialaxis": {
            "gridcolor": "white",
            "linecolor": "white",
            "ticks": ""
           }
          },
          "scene": {
           "xaxis": {
            "backgroundcolor": "#E5ECF6",
            "gridcolor": "white",
            "gridwidth": 2,
            "linecolor": "white",
            "showbackground": true,
            "ticks": "",
            "zerolinecolor": "white"
           },
           "yaxis": {
            "backgroundcolor": "#E5ECF6",
            "gridcolor": "white",
            "gridwidth": 2,
            "linecolor": "white",
            "showbackground": true,
            "ticks": "",
            "zerolinecolor": "white"
           },
           "zaxis": {
            "backgroundcolor": "#E5ECF6",
            "gridcolor": "white",
            "gridwidth": 2,
            "linecolor": "white",
            "showbackground": true,
            "ticks": "",
            "zerolinecolor": "white"
           }
          },
          "shapedefaults": {
           "line": {
            "color": "#2a3f5f"
           }
          },
          "ternary": {
           "aaxis": {
            "gridcolor": "white",
            "linecolor": "white",
            "ticks": ""
           },
           "baxis": {
            "gridcolor": "white",
            "linecolor": "white",
            "ticks": ""
           },
           "bgcolor": "#E5ECF6",
           "caxis": {
            "gridcolor": "white",
            "linecolor": "white",
            "ticks": ""
           }
          },
          "title": {
           "x": 0.05
          },
          "xaxis": {
           "automargin": true,
           "gridcolor": "white",
           "linecolor": "white",
           "ticks": "",
           "title": {
            "standoff": 15
           },
           "zerolinecolor": "white",
           "zerolinewidth": 2
          },
          "yaxis": {
           "automargin": true,
           "gridcolor": "white",
           "linecolor": "white",
           "ticks": "",
           "title": {
            "standoff": 15
           },
           "zerolinecolor": "white",
           "zerolinewidth": 2
          }
         }
        },
        "title": {
         "font": {
          "color": "#4D5663"
         }
        },
        "xaxis": {
         "gridcolor": "#E1E5ED",
         "showgrid": true,
         "tickfont": {
          "color": "#4D5663"
         },
         "title": {
          "font": {
           "color": "#4D5663"
          },
          "text": ""
         },
         "zerolinecolor": "#E1E5ED"
        },
        "yaxis": {
         "gridcolor": "#E1E5ED",
         "showgrid": true,
         "tickfont": {
          "color": "#4D5663"
         },
         "title": {
          "font": {
           "color": "#4D5663"
          },
          "text": ""
         },
         "zerolinecolor": "#E1E5ED"
        }
       }
      },
      "text/html": "<div>\n        \n        \n            <div id=\"56f629a2-4a5f-4dd8-aedc-bba59a688be1\" class=\"plotly-graph-div\" style=\"height:525px; width:100%;\"></div>\n            <script type=\"text/javascript\">\n                require([\"plotly\"], function(Plotly) {\n                    window.PLOTLYENV=window.PLOTLYENV || {};\n                    window.PLOTLYENV.BASE_URL='https://plot.ly';\n                    \n                if (document.getElementById(\"56f629a2-4a5f-4dd8-aedc-bba59a688be1\")) {\n                    Plotly.newPlot(\n                        '56f629a2-4a5f-4dd8-aedc-bba59a688be1',\n                        [{\"line\": {\"color\": \"rgba(255, 153, 51, 1.0)\", \"dash\": \"solid\", \"shape\": \"linear\", \"width\": 1.3}, \"mode\": \"lines\", \"name\": \"AAPL.O\", \"text\": \"\", \"type\": \"scatter\", \"x\": [\"2019-10-17\", \"2019-10-18\", \"2019-10-21\", \"2019-10-22\", \"2019-10-23\", \"2019-10-24\", \"2019-10-25\", \"2019-10-28\", \"2019-10-29\", \"2019-10-30\", \"2019-10-31\", \"2019-11-01\", \"2019-11-04\", \"2019-11-05\", \"2019-11-06\", \"2019-11-07\", \"2019-11-08\", \"2019-11-11\", \"2019-11-12\", \"2019-11-13\", \"2019-11-14\", \"2019-11-15\", \"2019-11-18\", \"2019-11-19\", \"2019-11-20\", \"2019-11-21\", \"2019-11-22\", \"2019-11-25\", \"2019-11-26\", \"2019-11-27\", \"2019-11-29\", \"2019-12-02\", \"2019-12-03\", \"2019-12-04\", \"2019-12-05\", \"2019-12-06\", \"2019-12-09\", \"2019-12-10\", \"2019-12-11\", \"2019-12-12\", \"2019-12-13\", \"2019-12-16\", \"2019-12-17\", \"2019-12-18\", \"2019-12-19\", \"2019-12-20\", \"2019-12-23\", \"2019-12-27\", \"2019-12-30\", \"2019-12-31\"], \"y\": [235.28, 236.41, 240.51, 239.96, 243.18, 243.58, 246.58, 249.05, 243.29, 243.26, 248.76, 255.82, 257.5, 257.13, 257.24, 259.43, 260.14, 262.2, 261.96, 264.47, 262.64, 265.76, 267.1, 266.29, 263.19, 262.01, 261.78, 266.37, 264.29, 267.84, 267.25, 264.16, 259.45, 261.74, 265.58, 270.71, 266.92, 268.48, 270.77, 271.46, 275.15, 279.86, 280.41, 279.74, 280.02, 279.44, 284.0, 289.8, 291.52, 293.65]}, {\"line\": {\"color\": \"rgba(55, 128, 191, 1.0)\", \"dash\": \"solid\", \"shape\": \"linear\", \"width\": 1.3}, \"mode\": \"lines\", \"name\": \"PRED\", \"text\": \"\", \"type\": \"scatter\", \"x\": [\"2019-10-17\", \"2019-10-18\", \"2019-10-21\", \"2019-10-22\", \"2019-10-23\", \"2019-10-24\", \"2019-10-25\", \"2019-10-28\", \"2019-10-29\", \"2019-10-30\", \"2019-10-31\", \"2019-11-01\", \"2019-11-04\", \"2019-11-05\", \"2019-11-06\", \"2019-11-07\", \"2019-11-08\", \"2019-11-11\", \"2019-11-12\", \"2019-11-13\", \"2019-11-14\", \"2019-11-15\", \"2019-11-18\", \"2019-11-19\", \"2019-11-20\", \"2019-11-21\", \"2019-11-22\", \"2019-11-25\", \"2019-11-26\", \"2019-11-27\", \"2019-11-29\", \"2019-12-02\", \"2019-12-03\", \"2019-12-04\", \"2019-12-05\", \"2019-12-06\", \"2019-12-09\", \"2019-12-10\", \"2019-12-11\", \"2019-12-12\", \"2019-12-13\", \"2019-12-16\", \"2019-12-17\", \"2019-12-18\", \"2019-12-19\", \"2019-12-20\", \"2019-12-23\", \"2019-12-27\", \"2019-12-30\", \"2019-12-31\"], \"y\": [235.4090805042454, 236.18682792853403, 237.05962549781438, 241.08976379833533, 240.14821316775289, 243.9844510764168, 244.05670128549937, 247.22932521126327, 249.53017891089556, 243.63447229499963, 244.90073657709726, 249.8282762606055, 255.70886735505096, 257.1817487773477, 257.70510883618306, 258.306580163932, 260.32796953805956, 260.6587969007353, 262.90101674872835, 262.5646237413185, 265.3386010584819, 263.1979791709666, 266.8200602608483, 267.6552876522354, 266.8159173916064, 264.2101571420662, 263.36324682806895, 262.8556993060981, 267.2185821133393, 264.45164520047683, 268.88791757226585, 267.8096614108199, 264.92634898838344, 260.84393237248554, 263.33691877074864, 266.1592051521736, 270.8471518085393, 267.00575817601225, 269.8813943843044, 271.70066555058634, 271.85290318208297, 275.94567408972705, 280.3127970898079, 280.56982523725077, 280.55528725265236, 281.16008601837484, 280.33993247470863, 284.9932131357644, 290.1355978619768, 291.50053420417015]}],\n                        {\"legend\": {\"bgcolor\": \"#F5F6F9\", \"font\": {\"color\": \"#4D5663\"}}, \"paper_bgcolor\": \"#F5F6F9\", \"plot_bgcolor\": \"#F5F6F9\", \"template\": {\"data\": {\"bar\": [{\"error_x\": {\"color\": \"#2a3f5f\"}, \"error_y\": {\"color\": \"#2a3f5f\"}, \"marker\": {\"line\": {\"color\": \"#E5ECF6\", \"width\": 0.5}}, \"type\": \"bar\"}], \"barpolar\": [{\"marker\": {\"line\": {\"color\": \"#E5ECF6\", \"width\": 0.5}}, \"type\": \"barpolar\"}], \"carpet\": [{\"aaxis\": {\"endlinecolor\": \"#2a3f5f\", \"gridcolor\": \"white\", \"linecolor\": \"white\", \"minorgridcolor\": \"white\", \"startlinecolor\": \"#2a3f5f\"}, \"baxis\": {\"endlinecolor\": \"#2a3f5f\", \"gridcolor\": \"white\", \"linecolor\": \"white\", \"minorgridcolor\": \"white\", \"startlinecolor\": \"#2a3f5f\"}, \"type\": \"carpet\"}], \"choropleth\": [{\"colorbar\": {\"outlinewidth\": 0, \"ticks\": \"\"}, \"type\": \"choropleth\"}], \"contour\": [{\"colorbar\": {\"outlinewidth\": 0, \"ticks\": \"\"}, \"colorscale\": [[0.0, \"#0d0887\"], [0.1111111111111111, \"#46039f\"], [0.2222222222222222, \"#7201a8\"], [0.3333333333333333, \"#9c179e\"], [0.4444444444444444, \"#bd3786\"], [0.5555555555555556, \"#d8576b\"], [0.6666666666666666, \"#ed7953\"], [0.7777777777777778, \"#fb9f3a\"], [0.8888888888888888, \"#fdca26\"], [1.0, \"#f0f921\"]], \"type\": \"contour\"}], \"contourcarpet\": [{\"colorbar\": {\"outlinewidth\": 0, \"ticks\": \"\"}, \"type\": \"contourcarpet\"}], \"heatmap\": [{\"colorbar\": {\"outlinewidth\": 0, \"ticks\": \"\"}, \"colorscale\": [[0.0, \"#0d0887\"], [0.1111111111111111, \"#46039f\"], [0.2222222222222222, \"#7201a8\"], [0.3333333333333333, \"#9c179e\"], [0.4444444444444444, \"#bd3786\"], [0.5555555555555556, \"#d8576b\"], [0.6666666666666666, \"#ed7953\"], [0.7777777777777778, \"#fb9f3a\"], [0.8888888888888888, \"#fdca26\"], [1.0, \"#f0f921\"]], \"type\": \"heatmap\"}], \"heatmapgl\": [{\"colorbar\": {\"outlinewidth\": 0, \"ticks\": \"\"}, \"colorscale\": [[0.0, \"#0d0887\"], [0.1111111111111111, \"#46039f\"], [0.2222222222222222, \"#7201a8\"], [0.3333333333333333, \"#9c179e\"], [0.4444444444444444, \"#bd3786\"], [0.5555555555555556, \"#d8576b\"], [0.6666666666666666, \"#ed7953\"], [0.7777777777777778, \"#fb9f3a\"], [0.8888888888888888, \"#fdca26\"], [1.0, \"#f0f921\"]], \"type\": \"heatmapgl\"}], \"histogram\": [{\"marker\": {\"colorbar\": {\"outlinewidth\": 0, \"ticks\": \"\"}}, \"type\": \"histogram\"}], \"histogram2d\": [{\"colorbar\": {\"outlinewidth\": 0, \"ticks\": \"\"}, \"colorscale\": [[0.0, \"#0d0887\"], [0.1111111111111111, \"#46039f\"], [0.2222222222222222, \"#7201a8\"], [0.3333333333333333, \"#9c179e\"], [0.4444444444444444, \"#bd3786\"], [0.5555555555555556, \"#d8576b\"], [0.6666666666666666, \"#ed7953\"], [0.7777777777777778, \"#fb9f3a\"], [0.8888888888888888, \"#fdca26\"], [1.0, \"#f0f921\"]], \"type\": \"histogram2d\"}], \"histogram2dcontour\": [{\"colorbar\": {\"outlinewidth\": 0, \"ticks\": \"\"}, \"colorscale\": [[0.0, \"#0d0887\"], [0.1111111111111111, \"#46039f\"], [0.2222222222222222, \"#7201a8\"], [0.3333333333333333, \"#9c179e\"], [0.4444444444444444, \"#bd3786\"], [0.5555555555555556, \"#d8576b\"], [0.6666666666666666, \"#ed7953\"], [0.7777777777777778, \"#fb9f3a\"], [0.8888888888888888, \"#fdca26\"], [1.0, \"#f0f921\"]], \"type\": \"histogram2dcontour\"}], \"mesh3d\": [{\"colorbar\": {\"outlinewidth\": 0, \"ticks\": \"\"}, \"type\": \"mesh3d\"}], \"parcoords\": [{\"line\": {\"colorbar\": {\"outlinewidth\": 0, \"ticks\": \"\"}}, \"type\": \"parcoords\"}], \"pie\": [{\"automargin\": true, \"type\": \"pie\"}], \"scatter\": [{\"marker\": {\"colorbar\": {\"outlinewidth\": 0, \"ticks\": \"\"}}, \"type\": \"scatter\"}], \"scatter3d\": [{\"line\": {\"colorbar\": {\"outlinewidth\": 0, \"ticks\": \"\"}}, \"marker\": {\"colorbar\": {\"outlinewidth\": 0, \"ticks\": \"\"}}, \"type\": \"scatter3d\"}], \"scattercarpet\": [{\"marker\": {\"colorbar\": {\"outlinewidth\": 0, \"ticks\": \"\"}}, \"type\": \"scattercarpet\"}], \"scattergeo\": [{\"marker\": {\"colorbar\": {\"outlinewidth\": 0, \"ticks\": \"\"}}, \"type\": \"scattergeo\"}], \"scattergl\": [{\"marker\": {\"colorbar\": {\"outlinewidth\": 0, \"ticks\": \"\"}}, \"type\": \"scattergl\"}], \"scattermapbox\": [{\"marker\": {\"colorbar\": {\"outlinewidth\": 0, \"ticks\": \"\"}}, \"type\": \"scattermapbox\"}], \"scatterpolar\": [{\"marker\": {\"colorbar\": {\"outlinewidth\": 0, \"ticks\": \"\"}}, \"type\": \"scatterpolar\"}], \"scatterpolargl\": [{\"marker\": {\"colorbar\": {\"outlinewidth\": 0, \"ticks\": \"\"}}, \"type\": \"scatterpolargl\"}], \"scatterternary\": [{\"marker\": {\"colorbar\": {\"outlinewidth\": 0, \"ticks\": \"\"}}, \"type\": \"scatterternary\"}], \"surface\": [{\"colorbar\": {\"outlinewidth\": 0, \"ticks\": \"\"}, \"colorscale\": [[0.0, \"#0d0887\"], [0.1111111111111111, \"#46039f\"], [0.2222222222222222, \"#7201a8\"], [0.3333333333333333, \"#9c179e\"], [0.4444444444444444, \"#bd3786\"], [0.5555555555555556, \"#d8576b\"], [0.6666666666666666, \"#ed7953\"], [0.7777777777777778, \"#fb9f3a\"], [0.8888888888888888, \"#fdca26\"], [1.0, \"#f0f921\"]], \"type\": \"surface\"}], \"table\": [{\"cells\": {\"fill\": {\"color\": \"#EBF0F8\"}, \"line\": {\"color\": \"white\"}}, \"header\": {\"fill\": {\"color\": \"#C8D4E3\"}, \"line\": {\"color\": \"white\"}}, \"type\": \"table\"}]}, \"layout\": {\"annotationdefaults\": {\"arrowcolor\": \"#2a3f5f\", \"arrowhead\": 0, \"arrowwidth\": 1}, \"coloraxis\": {\"colorbar\": {\"outlinewidth\": 0, \"ticks\": \"\"}}, \"colorscale\": {\"diverging\": [[0, \"#8e0152\"], [0.1, \"#c51b7d\"], [0.2, \"#de77ae\"], [0.3, \"#f1b6da\"], [0.4, \"#fde0ef\"], [0.5, \"#f7f7f7\"], [0.6, \"#e6f5d0\"], [0.7, \"#b8e186\"], [0.8, \"#7fbc41\"], [0.9, \"#4d9221\"], [1, \"#276419\"]], \"sequential\": [[0.0, \"#0d0887\"], [0.1111111111111111, \"#46039f\"], [0.2222222222222222, \"#7201a8\"], [0.3333333333333333, \"#9c179e\"], [0.4444444444444444, \"#bd3786\"], [0.5555555555555556, \"#d8576b\"], [0.6666666666666666, \"#ed7953\"], [0.7777777777777778, \"#fb9f3a\"], [0.8888888888888888, \"#fdca26\"], [1.0, \"#f0f921\"]], \"sequentialminus\": [[0.0, \"#0d0887\"], [0.1111111111111111, \"#46039f\"], [0.2222222222222222, \"#7201a8\"], [0.3333333333333333, \"#9c179e\"], [0.4444444444444444, \"#bd3786\"], [0.5555555555555556, \"#d8576b\"], [0.6666666666666666, \"#ed7953\"], [0.7777777777777778, \"#fb9f3a\"], [0.8888888888888888, \"#fdca26\"], [1.0, \"#f0f921\"]]}, \"colorway\": [\"#636efa\", \"#EF553B\", \"#00cc96\", \"#ab63fa\", \"#FFA15A\", \"#19d3f3\", \"#FF6692\", \"#B6E880\", \"#FF97FF\", \"#FECB52\"], \"font\": {\"color\": \"#2a3f5f\"}, \"geo\": {\"bgcolor\": \"white\", \"lakecolor\": \"white\", \"landcolor\": \"#E5ECF6\", \"showlakes\": true, \"showland\": true, \"subunitcolor\": \"white\"}, \"hoverlabel\": {\"align\": \"left\"}, \"hovermode\": \"closest\", \"mapbox\": {\"style\": \"light\"}, \"paper_bgcolor\": \"white\", \"plot_bgcolor\": \"#E5ECF6\", \"polar\": {\"angularaxis\": {\"gridcolor\": \"white\", \"linecolor\": \"white\", \"ticks\": \"\"}, \"bgcolor\": \"#E5ECF6\", \"radialaxis\": {\"gridcolor\": \"white\", \"linecolor\": \"white\", \"ticks\": \"\"}}, \"scene\": {\"xaxis\": {\"backgroundcolor\": \"#E5ECF6\", \"gridcolor\": \"white\", \"gridwidth\": 2, \"linecolor\": \"white\", \"showbackground\": true, \"ticks\": \"\", \"zerolinecolor\": \"white\"}, \"yaxis\": {\"backgroundcolor\": \"#E5ECF6\", \"gridcolor\": \"white\", \"gridwidth\": 2, \"linecolor\": \"white\", \"showbackground\": true, \"ticks\": \"\", \"zerolinecolor\": \"white\"}, \"zaxis\": {\"backgroundcolor\": \"#E5ECF6\", \"gridcolor\": \"white\", \"gridwidth\": 2, \"linecolor\": \"white\", \"showbackground\": true, \"ticks\": \"\", \"zerolinecolor\": \"white\"}}, \"shapedefaults\": {\"line\": {\"color\": \"#2a3f5f\"}}, \"ternary\": {\"aaxis\": {\"gridcolor\": \"white\", \"linecolor\": \"white\", \"ticks\": \"\"}, \"baxis\": {\"gridcolor\": \"white\", \"linecolor\": \"white\", \"ticks\": \"\"}, \"bgcolor\": \"#E5ECF6\", \"caxis\": {\"gridcolor\": \"white\", \"linecolor\": \"white\", \"ticks\": \"\"}}, \"title\": {\"x\": 0.05}, \"xaxis\": {\"automargin\": true, \"gridcolor\": \"white\", \"linecolor\": \"white\", \"ticks\": \"\", \"title\": {\"standoff\": 15}, \"zerolinecolor\": \"white\", \"zerolinewidth\": 2}, \"yaxis\": {\"automargin\": true, \"gridcolor\": \"white\", \"linecolor\": \"white\", \"ticks\": \"\", \"title\": {\"standoff\": 15}, \"zerolinecolor\": \"white\", \"zerolinewidth\": 2}}}, \"title\": {\"font\": {\"color\": \"#4D5663\"}}, \"xaxis\": {\"gridcolor\": \"#E1E5ED\", \"showgrid\": true, \"tickfont\": {\"color\": \"#4D5663\"}, \"title\": {\"font\": {\"color\": \"#4D5663\"}, \"text\": \"\"}, \"zerolinecolor\": \"#E1E5ED\"}, \"yaxis\": {\"gridcolor\": \"#E1E5ED\", \"showgrid\": true, \"tickfont\": {\"color\": \"#4D5663\"}, \"title\": {\"font\": {\"color\": \"#4D5663\"}, \"text\": \"\"}, \"zerolinecolor\": \"#E1E5ED\"}},\n                        {\"showLink\": true, \"linkText\": \"Export to plot.ly\", \"plotlyServerURL\": \"https://plot.ly\", \"responsive\": true}\n                    ).then(function(){\n                            \nvar gd = document.getElementById('56f629a2-4a5f-4dd8-aedc-bba59a688be1');\nvar x = new MutationObserver(function (mutations, observer) {{\n        var display = window.getComputedStyle(gd).display;\n        if (!display || display === 'none') {{\n            console.log([gd, 'removed!']);\n            Plotly.purge(gd);\n            observer.disconnect();\n        }}\n}});\n\n// Listen for the removal of the full notebook cells\nvar notebookContainer = gd.closest('#notebook-container');\nif (notebookContainer) {{\n    x.observe(notebookContainer, {childList: true});\n}}\n\n// Listen for the clearing of the current output cell\nvar outputEl = gd.closest('.output');\nif (outputEl) {{\n    x.observe(outputEl, {childList: true});\n}}\n\n                        })\n                };\n                });\n            </script>\n        </div>"
     },
     "metadata": {}
    }
   ],
   "source": [
    "res.iloc[-50:].iplot()"
   ]
  },
  {
   "cell_type": "code",
   "execution_count": 41,
   "metadata": {},
   "outputs": [
    {
     "output_type": "execute_result",
     "data": {
      "text/plain": "            AAPL.O        PRED\nDate                          \n2019-01-09  153.31  150.631799\n2019-01-10  153.80  153.616193\n2019-01-11  152.29  153.847533\n2019-01-14  150.00  152.728000\n2019-01-15  153.07  150.761575",
      "text/html": "<div>\n<style scoped>\n    .dataframe tbody tr th:only-of-type {\n        vertical-align: middle;\n    }\n\n    .dataframe tbody tr th {\n        vertical-align: top;\n    }\n\n    .dataframe thead th {\n        text-align: right;\n    }\n</style>\n<table border=\"1\" class=\"dataframe\">\n  <thead>\n    <tr style=\"text-align: right;\">\n      <th></th>\n      <th>AAPL.O</th>\n      <th>PRED</th>\n    </tr>\n    <tr>\n      <th>Date</th>\n      <th></th>\n      <th></th>\n    </tr>\n  </thead>\n  <tbody>\n    <tr>\n      <th>2019-01-09</th>\n      <td>153.31</td>\n      <td>150.631799</td>\n    </tr>\n    <tr>\n      <th>2019-01-10</th>\n      <td>153.80</td>\n      <td>153.616193</td>\n    </tr>\n    <tr>\n      <th>2019-01-11</th>\n      <td>152.29</td>\n      <td>153.847533</td>\n    </tr>\n    <tr>\n      <th>2019-01-14</th>\n      <td>150.00</td>\n      <td>152.728000</td>\n    </tr>\n    <tr>\n      <th>2019-01-15</th>\n      <td>153.07</td>\n      <td>150.761575</td>\n    </tr>\n  </tbody>\n</table>\n</div>"
     },
     "metadata": {},
     "execution_count": 41
    }
   ],
   "source": [
    "res.head()"
   ]
  },
  {
   "cell_type": "markdown",
   "metadata": {},
   "source": [
    "## Analyzing the Results"
   ]
  },
  {
   "cell_type": "markdown",
   "metadata": {},
   "source": [
    "Now analyzing the **regression results** a bit more formally."
   ]
  },
  {
   "cell_type": "code",
   "execution_count": 42,
   "metadata": {},
   "outputs": [
    {
     "output_type": "execute_result",
     "data": {
      "text/plain": "array([[ 0.96817868,  0.01936998,  0.08795867,  0.03609661, -0.11092979],\n       [ 1.00717172, -0.14691012,  0.11575033,  0.05903115, -0.03179905],\n       [ 0.93289039,  0.00308899,  0.07863694, -0.01590131,  0.00229603],\n       [ 0.80268564,  0.12030209,  0.00499019,  0.00914989,  0.0575344 ],\n       [ 0.97259488,  0.09903832, -0.02550018, -0.20460307,  0.15837288],\n       [ 0.97517376,  0.02257361, -0.00480906, -0.00624851,  0.01399871],\n       [ 0.93916618,  0.12588257, -0.03018844,  0.03820625, -0.07749446]])"
     },
     "metadata": {},
     "execution_count": 42
    }
   ],
   "source": [
    "rega = np.stack(regs.values())  # combines the regression results\n",
    "rega"
   ]
  },
  {
   "cell_type": "markdown",
   "metadata": {},
   "source": [
    "Almost all the weight lies on the most recent price (`lag_1`)."
   ]
  },
  {
   "cell_type": "code",
   "execution_count": 43,
   "metadata": {},
   "outputs": [
    {
     "output_type": "execute_result",
     "data": {
      "text/plain": "array([ 0.94255161,  0.03476363,  0.03240549, -0.01203843,  0.00171125])"
     },
     "metadata": {},
     "execution_count": 43
    }
   ],
   "source": [
    "rega.mean(axis=0)  # mean values by column"
   ]
  },
  {
   "cell_type": "code",
   "execution_count": 44,
   "metadata": {},
   "outputs": [],
   "source": [
    "regd = pd.DataFrame(rega, columns=cols, index=rics)  # converting the results to DataFrame"
   ]
  },
  {
   "cell_type": "code",
   "execution_count": 45,
   "metadata": {},
   "outputs": [
    {
     "output_type": "execute_result",
     "data": {
      "text/plain": "              lag_1     lag_2     lag_3     lag_4     lag_5\nGE         0.968179  0.019370  0.087959  0.036097 -0.110930\nAAPL.O     1.007172 -0.146910  0.115750  0.059031 -0.031799\n.SPX       0.932890  0.003089  0.078637 -0.015901  0.002296\n.VIX       0.802686  0.120302  0.004990  0.009150  0.057534\nEUR=       0.972595  0.099038 -0.025500 -0.204603  0.158373\nXAU=       0.975174  0.022574 -0.004809 -0.006249  0.013999\nDE10YT=RR  0.939166  0.125883 -0.030188  0.038206 -0.077494",
      "text/html": "<div>\n<style scoped>\n    .dataframe tbody tr th:only-of-type {\n        vertical-align: middle;\n    }\n\n    .dataframe tbody tr th {\n        vertical-align: top;\n    }\n\n    .dataframe thead th {\n        text-align: right;\n    }\n</style>\n<table border=\"1\" class=\"dataframe\">\n  <thead>\n    <tr style=\"text-align: right;\">\n      <th></th>\n      <th>lag_1</th>\n      <th>lag_2</th>\n      <th>lag_3</th>\n      <th>lag_4</th>\n      <th>lag_5</th>\n    </tr>\n  </thead>\n  <tbody>\n    <tr>\n      <th>GE</th>\n      <td>0.968179</td>\n      <td>0.019370</td>\n      <td>0.087959</td>\n      <td>0.036097</td>\n      <td>-0.110930</td>\n    </tr>\n    <tr>\n      <th>AAPL.O</th>\n      <td>1.007172</td>\n      <td>-0.146910</td>\n      <td>0.115750</td>\n      <td>0.059031</td>\n      <td>-0.031799</td>\n    </tr>\n    <tr>\n      <th>.SPX</th>\n      <td>0.932890</td>\n      <td>0.003089</td>\n      <td>0.078637</td>\n      <td>-0.015901</td>\n      <td>0.002296</td>\n    </tr>\n    <tr>\n      <th>.VIX</th>\n      <td>0.802686</td>\n      <td>0.120302</td>\n      <td>0.004990</td>\n      <td>0.009150</td>\n      <td>0.057534</td>\n    </tr>\n    <tr>\n      <th>EUR=</th>\n      <td>0.972595</td>\n      <td>0.099038</td>\n      <td>-0.025500</td>\n      <td>-0.204603</td>\n      <td>0.158373</td>\n    </tr>\n    <tr>\n      <th>XAU=</th>\n      <td>0.975174</td>\n      <td>0.022574</td>\n      <td>-0.004809</td>\n      <td>-0.006249</td>\n      <td>0.013999</td>\n    </tr>\n    <tr>\n      <th>DE10YT=RR</th>\n      <td>0.939166</td>\n      <td>0.125883</td>\n      <td>-0.030188</td>\n      <td>0.038206</td>\n      <td>-0.077494</td>\n    </tr>\n  </tbody>\n</table>\n</div>"
     },
     "metadata": {},
     "execution_count": 45
    }
   ],
   "source": [
    "regd"
   ]
  },
  {
   "cell_type": "code",
   "execution_count": 46,
   "metadata": {},
   "outputs": [
    {
     "output_type": "execute_result",
     "data": {
      "text/plain": "          lag_1     lag_2     lag_3     lag_4     lag_5\ncount  7.000000  7.000000  7.000000  7.000000  7.000000\nmean   0.942552  0.034764  0.032405 -0.012038  0.001711\nstd    0.066416  0.094996  0.059969  0.088948  0.089345\nmin    0.802686 -0.146910 -0.030188 -0.204603 -0.110930\n25%    0.936028  0.011229 -0.015155 -0.011075 -0.054647\n50%    0.968179  0.022574  0.004990  0.009150  0.002296\n75%    0.973884  0.109670  0.083298  0.037151  0.035767\nmax    1.007172  0.125883  0.115750  0.059031  0.158373",
      "text/html": "<div>\n<style scoped>\n    .dataframe tbody tr th:only-of-type {\n        vertical-align: middle;\n    }\n\n    .dataframe tbody tr th {\n        vertical-align: top;\n    }\n\n    .dataframe thead th {\n        text-align: right;\n    }\n</style>\n<table border=\"1\" class=\"dataframe\">\n  <thead>\n    <tr style=\"text-align: right;\">\n      <th></th>\n      <th>lag_1</th>\n      <th>lag_2</th>\n      <th>lag_3</th>\n      <th>lag_4</th>\n      <th>lag_5</th>\n    </tr>\n  </thead>\n  <tbody>\n    <tr>\n      <th>count</th>\n      <td>7.000000</td>\n      <td>7.000000</td>\n      <td>7.000000</td>\n      <td>7.000000</td>\n      <td>7.000000</td>\n    </tr>\n    <tr>\n      <th>mean</th>\n      <td>0.942552</td>\n      <td>0.034764</td>\n      <td>0.032405</td>\n      <td>-0.012038</td>\n      <td>0.001711</td>\n    </tr>\n    <tr>\n      <th>std</th>\n      <td>0.066416</td>\n      <td>0.094996</td>\n      <td>0.059969</td>\n      <td>0.088948</td>\n      <td>0.089345</td>\n    </tr>\n    <tr>\n      <th>min</th>\n      <td>0.802686</td>\n      <td>-0.146910</td>\n      <td>-0.030188</td>\n      <td>-0.204603</td>\n      <td>-0.110930</td>\n    </tr>\n    <tr>\n      <th>25%</th>\n      <td>0.936028</td>\n      <td>0.011229</td>\n      <td>-0.015155</td>\n      <td>-0.011075</td>\n      <td>-0.054647</td>\n    </tr>\n    <tr>\n      <th>50%</th>\n      <td>0.968179</td>\n      <td>0.022574</td>\n      <td>0.004990</td>\n      <td>0.009150</td>\n      <td>0.002296</td>\n    </tr>\n    <tr>\n      <th>75%</th>\n      <td>0.973884</td>\n      <td>0.109670</td>\n      <td>0.083298</td>\n      <td>0.037151</td>\n      <td>0.035767</td>\n    </tr>\n    <tr>\n      <th>max</th>\n      <td>1.007172</td>\n      <td>0.125883</td>\n      <td>0.115750</td>\n      <td>0.059031</td>\n      <td>0.158373</td>\n    </tr>\n  </tbody>\n</table>\n</div>"
     },
     "metadata": {},
     "execution_count": 46
    }
   ],
   "source": [
    "regd.describe()  # summary statistics"
   ]
  },
  {
   "cell_type": "markdown",
   "metadata": {},
   "source": [
    "## Visualizing the Results"
   ]
  },
  {
   "cell_type": "markdown",
   "metadata": {},
   "source": [
    "The following bar chart illustrates that the results a qualitatively similar for all `RICS` analyzed &mdash; \"_today's price is the best predictor, in a least-squares sense, for tomorrow's price_\"."
   ]
  },
  {
   "cell_type": "code",
   "execution_count": 48,
   "metadata": {},
   "outputs": [
    {
     "output_type": "display_data",
     "data": {
      "application/vnd.plotly.v1+json": {
       "config": {
        "linkText": "Export to plot.ly",
        "plotlyServerURL": "https://plot.ly",
        "showLink": true
       },
       "data": [
        {
         "marker": {
          "color": "rgba(255, 153, 51, 0.6)",
          "line": {
           "color": "rgba(255, 153, 51, 1.0)",
           "width": 1
          }
         },
         "name": "lag_1",
         "orientation": "v",
         "text": "",
         "type": "bar",
         "x": [
          "GE",
          "AAPL.O",
          ".SPX",
          ".VIX",
          "EUR=",
          "XAU=",
          "DE10YT=RR"
         ],
         "y": [
          0.9681786769329328,
          1.0071717210228,
          0.9328903926233814,
          0.8026856364652356,
          0.9725948845321966,
          0.9751737581373398,
          0.9391661761318565
         ]
        },
        {
         "marker": {
          "color": "rgba(55, 128, 191, 0.6)",
          "line": {
           "color": "rgba(55, 128, 191, 1.0)",
           "width": 1
          }
         },
         "name": "lag_2",
         "orientation": "v",
         "text": "",
         "type": "bar",
         "x": [
          "GE",
          "AAPL.O",
          ".SPX",
          ".VIX",
          "EUR=",
          "XAU=",
          "DE10YT=RR"
         ],
         "y": [
          0.01936997765825442,
          -0.14691012113926563,
          0.003088986584468073,
          0.12030208902024161,
          0.09903832307257467,
          0.02257361371092921,
          0.12588257325038135
         ]
        },
        {
         "marker": {
          "color": "rgba(50, 171, 96, 0.6)",
          "line": {
           "color": "rgba(50, 171, 96, 1.0)",
           "width": 1
          }
         },
         "name": "lag_3",
         "orientation": "v",
         "text": "",
         "type": "bar",
         "x": [
          "GE",
          "AAPL.O",
          ".SPX",
          ".VIX",
          "EUR=",
          "XAU=",
          "DE10YT=RR"
         ],
         "y": [
          0.08795867235608228,
          0.11575032585304426,
          0.07863693696805915,
          0.0049901943918721076,
          -0.025500178006951903,
          -0.004809064175915647,
          -0.03018843593540494
         ]
        },
        {
         "marker": {
          "color": "rgba(128, 0, 128, 0.6)",
          "line": {
           "color": "rgba(128, 0, 128, 1.0)",
           "width": 1
          }
         },
         "name": "lag_4",
         "orientation": "v",
         "text": "",
         "type": "bar",
         "x": [
          "GE",
          "AAPL.O",
          ".SPX",
          ".VIX",
          "EUR=",
          "XAU=",
          "DE10YT=RR"
         ],
         "y": [
          0.03609660532712765,
          0.05903115038225769,
          -0.01590130996255587,
          0.009149890590758089,
          -0.204603073403254,
          -0.006248511505923171,
          0.03820625384756738
         ]
        },
        {
         "marker": {
          "color": "rgba(219, 64, 82, 0.6)",
          "line": {
           "color": "rgba(219, 64, 82, 1.0)",
           "width": 1
          }
         },
         "name": "lag_5",
         "orientation": "v",
         "text": "",
         "type": "bar",
         "x": [
          "GE",
          "AAPL.O",
          ".SPX",
          ".VIX",
          "EUR=",
          "XAU=",
          "DE10YT=RR"
         ],
         "y": [
          -0.11092978836470943,
          -0.03179905009399323,
          0.002296030387505657,
          0.057534397847831736,
          0.1583728845962008,
          0.01399870899642186,
          -0.07749445543901978
         ]
        }
       ],
       "layout": {
        "legend": {
         "bgcolor": "#F5F6F9",
         "font": {
          "color": "#4D5663"
         }
        },
        "paper_bgcolor": "#F5F6F9",
        "plot_bgcolor": "#F5F6F9",
        "template": {
         "data": {
          "bar": [
           {
            "error_x": {
             "color": "#2a3f5f"
            },
            "error_y": {
             "color": "#2a3f5f"
            },
            "marker": {
             "line": {
              "color": "#E5ECF6",
              "width": 0.5
             }
            },
            "type": "bar"
           }
          ],
          "barpolar": [
           {
            "marker": {
             "line": {
              "color": "#E5ECF6",
              "width": 0.5
             }
            },
            "type": "barpolar"
           }
          ],
          "carpet": [
           {
            "aaxis": {
             "endlinecolor": "#2a3f5f",
             "gridcolor": "white",
             "linecolor": "white",
             "minorgridcolor": "white",
             "startlinecolor": "#2a3f5f"
            },
            "baxis": {
             "endlinecolor": "#2a3f5f",
             "gridcolor": "white",
             "linecolor": "white",
             "minorgridcolor": "white",
             "startlinecolor": "#2a3f5f"
            },
            "type": "carpet"
           }
          ],
          "choropleth": [
           {
            "colorbar": {
             "outlinewidth": 0,
             "ticks": ""
            },
            "type": "choropleth"
           }
          ],
          "contour": [
           {
            "colorbar": {
             "outlinewidth": 0,
             "ticks": ""
            },
            "colorscale": [
             [
              0,
              "#0d0887"
             ],
             [
              0.1111111111111111,
              "#46039f"
             ],
             [
              0.2222222222222222,
              "#7201a8"
             ],
             [
              0.3333333333333333,
              "#9c179e"
             ],
             [
              0.4444444444444444,
              "#bd3786"
             ],
             [
              0.5555555555555556,
              "#d8576b"
             ],
             [
              0.6666666666666666,
              "#ed7953"
             ],
             [
              0.7777777777777778,
              "#fb9f3a"
             ],
             [
              0.8888888888888888,
              "#fdca26"
             ],
             [
              1,
              "#f0f921"
             ]
            ],
            "type": "contour"
           }
          ],
          "contourcarpet": [
           {
            "colorbar": {
             "outlinewidth": 0,
             "ticks": ""
            },
            "type": "contourcarpet"
           }
          ],
          "heatmap": [
           {
            "colorbar": {
             "outlinewidth": 0,
             "ticks": ""
            },
            "colorscale": [
             [
              0,
              "#0d0887"
             ],
             [
              0.1111111111111111,
              "#46039f"
             ],
             [
              0.2222222222222222,
              "#7201a8"
             ],
             [
              0.3333333333333333,
              "#9c179e"
             ],
             [
              0.4444444444444444,
              "#bd3786"
             ],
             [
              0.5555555555555556,
              "#d8576b"
             ],
             [
              0.6666666666666666,
              "#ed7953"
             ],
             [
              0.7777777777777778,
              "#fb9f3a"
             ],
             [
              0.8888888888888888,
              "#fdca26"
             ],
             [
              1,
              "#f0f921"
             ]
            ],
            "type": "heatmap"
           }
          ],
          "heatmapgl": [
           {
            "colorbar": {
             "outlinewidth": 0,
             "ticks": ""
            },
            "colorscale": [
             [
              0,
              "#0d0887"
             ],
             [
              0.1111111111111111,
              "#46039f"
             ],
             [
              0.2222222222222222,
              "#7201a8"
             ],
             [
              0.3333333333333333,
              "#9c179e"
             ],
             [
              0.4444444444444444,
              "#bd3786"
             ],
             [
              0.5555555555555556,
              "#d8576b"
             ],
             [
              0.6666666666666666,
              "#ed7953"
             ],
             [
              0.7777777777777778,
              "#fb9f3a"
             ],
             [
              0.8888888888888888,
              "#fdca26"
             ],
             [
              1,
              "#f0f921"
             ]
            ],
            "type": "heatmapgl"
           }
          ],
          "histogram": [
           {
            "marker": {
             "colorbar": {
              "outlinewidth": 0,
              "ticks": ""
             }
            },
            "type": "histogram"
           }
          ],
          "histogram2d": [
           {
            "colorbar": {
             "outlinewidth": 0,
             "ticks": ""
            },
            "colorscale": [
             [
              0,
              "#0d0887"
             ],
             [
              0.1111111111111111,
              "#46039f"
             ],
             [
              0.2222222222222222,
              "#7201a8"
             ],
             [
              0.3333333333333333,
              "#9c179e"
             ],
             [
              0.4444444444444444,
              "#bd3786"
             ],
             [
              0.5555555555555556,
              "#d8576b"
             ],
             [
              0.6666666666666666,
              "#ed7953"
             ],
             [
              0.7777777777777778,
              "#fb9f3a"
             ],
             [
              0.8888888888888888,
              "#fdca26"
             ],
             [
              1,
              "#f0f921"
             ]
            ],
            "type": "histogram2d"
           }
          ],
          "histogram2dcontour": [
           {
            "colorbar": {
             "outlinewidth": 0,
             "ticks": ""
            },
            "colorscale": [
             [
              0,
              "#0d0887"
             ],
             [
              0.1111111111111111,
              "#46039f"
             ],
             [
              0.2222222222222222,
              "#7201a8"
             ],
             [
              0.3333333333333333,
              "#9c179e"
             ],
             [
              0.4444444444444444,
              "#bd3786"
             ],
             [
              0.5555555555555556,
              "#d8576b"
             ],
             [
              0.6666666666666666,
              "#ed7953"
             ],
             [
              0.7777777777777778,
              "#fb9f3a"
             ],
             [
              0.8888888888888888,
              "#fdca26"
             ],
             [
              1,
              "#f0f921"
             ]
            ],
            "type": "histogram2dcontour"
           }
          ],
          "mesh3d": [
           {
            "colorbar": {
             "outlinewidth": 0,
             "ticks": ""
            },
            "type": "mesh3d"
           }
          ],
          "parcoords": [
           {
            "line": {
             "colorbar": {
              "outlinewidth": 0,
              "ticks": ""
             }
            },
            "type": "parcoords"
           }
          ],
          "pie": [
           {
            "automargin": true,
            "type": "pie"
           }
          ],
          "scatter": [
           {
            "marker": {
             "colorbar": {
              "outlinewidth": 0,
              "ticks": ""
             }
            },
            "type": "scatter"
           }
          ],
          "scatter3d": [
           {
            "line": {
             "colorbar": {
              "outlinewidth": 0,
              "ticks": ""
             }
            },
            "marker": {
             "colorbar": {
              "outlinewidth": 0,
              "ticks": ""
             }
            },
            "type": "scatter3d"
           }
          ],
          "scattercarpet": [
           {
            "marker": {
             "colorbar": {
              "outlinewidth": 0,
              "ticks": ""
             }
            },
            "type": "scattercarpet"
           }
          ],
          "scattergeo": [
           {
            "marker": {
             "colorbar": {
              "outlinewidth": 0,
              "ticks": ""
             }
            },
            "type": "scattergeo"
           }
          ],
          "scattergl": [
           {
            "marker": {
             "colorbar": {
              "outlinewidth": 0,
              "ticks": ""
             }
            },
            "type": "scattergl"
           }
          ],
          "scattermapbox": [
           {
            "marker": {
             "colorbar": {
              "outlinewidth": 0,
              "ticks": ""
             }
            },
            "type": "scattermapbox"
           }
          ],
          "scatterpolar": [
           {
            "marker": {
             "colorbar": {
              "outlinewidth": 0,
              "ticks": ""
             }
            },
            "type": "scatterpolar"
           }
          ],
          "scatterpolargl": [
           {
            "marker": {
             "colorbar": {
              "outlinewidth": 0,
              "ticks": ""
             }
            },
            "type": "scatterpolargl"
           }
          ],
          "scatterternary": [
           {
            "marker": {
             "colorbar": {
              "outlinewidth": 0,
              "ticks": ""
             }
            },
            "type": "scatterternary"
           }
          ],
          "surface": [
           {
            "colorbar": {
             "outlinewidth": 0,
             "ticks": ""
            },
            "colorscale": [
             [
              0,
              "#0d0887"
             ],
             [
              0.1111111111111111,
              "#46039f"
             ],
             [
              0.2222222222222222,
              "#7201a8"
             ],
             [
              0.3333333333333333,
              "#9c179e"
             ],
             [
              0.4444444444444444,
              "#bd3786"
             ],
             [
              0.5555555555555556,
              "#d8576b"
             ],
             [
              0.6666666666666666,
              "#ed7953"
             ],
             [
              0.7777777777777778,
              "#fb9f3a"
             ],
             [
              0.8888888888888888,
              "#fdca26"
             ],
             [
              1,
              "#f0f921"
             ]
            ],
            "type": "surface"
           }
          ],
          "table": [
           {
            "cells": {
             "fill": {
              "color": "#EBF0F8"
             },
             "line": {
              "color": "white"
             }
            },
            "header": {
             "fill": {
              "color": "#C8D4E3"
             },
             "line": {
              "color": "white"
             }
            },
            "type": "table"
           }
          ]
         },
         "layout": {
          "annotationdefaults": {
           "arrowcolor": "#2a3f5f",
           "arrowhead": 0,
           "arrowwidth": 1
          },
          "coloraxis": {
           "colorbar": {
            "outlinewidth": 0,
            "ticks": ""
           }
          },
          "colorscale": {
           "diverging": [
            [
             0,
             "#8e0152"
            ],
            [
             0.1,
             "#c51b7d"
            ],
            [
             0.2,
             "#de77ae"
            ],
            [
             0.3,
             "#f1b6da"
            ],
            [
             0.4,
             "#fde0ef"
            ],
            [
             0.5,
             "#f7f7f7"
            ],
            [
             0.6,
             "#e6f5d0"
            ],
            [
             0.7,
             "#b8e186"
            ],
            [
             0.8,
             "#7fbc41"
            ],
            [
             0.9,
             "#4d9221"
            ],
            [
             1,
             "#276419"
            ]
           ],
           "sequential": [
            [
             0,
             "#0d0887"
            ],
            [
             0.1111111111111111,
             "#46039f"
            ],
            [
             0.2222222222222222,
             "#7201a8"
            ],
            [
             0.3333333333333333,
             "#9c179e"
            ],
            [
             0.4444444444444444,
             "#bd3786"
            ],
            [
             0.5555555555555556,
             "#d8576b"
            ],
            [
             0.6666666666666666,
             "#ed7953"
            ],
            [
             0.7777777777777778,
             "#fb9f3a"
            ],
            [
             0.8888888888888888,
             "#fdca26"
            ],
            [
             1,
             "#f0f921"
            ]
           ],
           "sequentialminus": [
            [
             0,
             "#0d0887"
            ],
            [
             0.1111111111111111,
             "#46039f"
            ],
            [
             0.2222222222222222,
             "#7201a8"
            ],
            [
             0.3333333333333333,
             "#9c179e"
            ],
            [
             0.4444444444444444,
             "#bd3786"
            ],
            [
             0.5555555555555556,
             "#d8576b"
            ],
            [
             0.6666666666666666,
             "#ed7953"
            ],
            [
             0.7777777777777778,
             "#fb9f3a"
            ],
            [
             0.8888888888888888,
             "#fdca26"
            ],
            [
             1,
             "#f0f921"
            ]
           ]
          },
          "colorway": [
           "#636efa",
           "#EF553B",
           "#00cc96",
           "#ab63fa",
           "#FFA15A",
           "#19d3f3",
           "#FF6692",
           "#B6E880",
           "#FF97FF",
           "#FECB52"
          ],
          "font": {
           "color": "#2a3f5f"
          },
          "geo": {
           "bgcolor": "white",
           "lakecolor": "white",
           "landcolor": "#E5ECF6",
           "showlakes": true,
           "showland": true,
           "subunitcolor": "white"
          },
          "hoverlabel": {
           "align": "left"
          },
          "hovermode": "closest",
          "mapbox": {
           "style": "light"
          },
          "paper_bgcolor": "white",
          "plot_bgcolor": "#E5ECF6",
          "polar": {
           "angularaxis": {
            "gridcolor": "white",
            "linecolor": "white",
            "ticks": ""
           },
           "bgcolor": "#E5ECF6",
           "radialaxis": {
            "gridcolor": "white",
            "linecolor": "white",
            "ticks": ""
           }
          },
          "scene": {
           "xaxis": {
            "backgroundcolor": "#E5ECF6",
            "gridcolor": "white",
            "gridwidth": 2,
            "linecolor": "white",
            "showbackground": true,
            "ticks": "",
            "zerolinecolor": "white"
           },
           "yaxis": {
            "backgroundcolor": "#E5ECF6",
            "gridcolor": "white",
            "gridwidth": 2,
            "linecolor": "white",
            "showbackground": true,
            "ticks": "",
            "zerolinecolor": "white"
           },
           "zaxis": {
            "backgroundcolor": "#E5ECF6",
            "gridcolor": "white",
            "gridwidth": 2,
            "linecolor": "white",
            "showbackground": true,
            "ticks": "",
            "zerolinecolor": "white"
           }
          },
          "shapedefaults": {
           "line": {
            "color": "#2a3f5f"
           }
          },
          "ternary": {
           "aaxis": {
            "gridcolor": "white",
            "linecolor": "white",
            "ticks": ""
           },
           "baxis": {
            "gridcolor": "white",
            "linecolor": "white",
            "ticks": ""
           },
           "bgcolor": "#E5ECF6",
           "caxis": {
            "gridcolor": "white",
            "linecolor": "white",
            "ticks": ""
           }
          },
          "title": {
           "x": 0.05
          },
          "xaxis": {
           "automargin": true,
           "gridcolor": "white",
           "linecolor": "white",
           "ticks": "",
           "title": {
            "standoff": 15
           },
           "zerolinecolor": "white",
           "zerolinewidth": 2
          },
          "yaxis": {
           "automargin": true,
           "gridcolor": "white",
           "linecolor": "white",
           "ticks": "",
           "title": {
            "standoff": 15
           },
           "zerolinecolor": "white",
           "zerolinewidth": 2
          }
         }
        },
        "title": {
         "font": {
          "color": "#4D5663"
         }
        },
        "xaxis": {
         "gridcolor": "#E1E5ED",
         "showgrid": true,
         "tickfont": {
          "color": "#4D5663"
         },
         "title": {
          "font": {
           "color": "#4D5663"
          },
          "text": ""
         },
         "zerolinecolor": "#E1E5ED"
        },
        "yaxis": {
         "gridcolor": "#E1E5ED",
         "showgrid": true,
         "tickfont": {
          "color": "#4D5663"
         },
         "title": {
          "font": {
           "color": "#4D5663"
          },
          "text": ""
         },
         "zerolinecolor": "#E1E5ED"
        }
       }
      },
      "text/html": "<div>\n        \n        \n            <div id=\"f1a6edf7-6f05-4e02-bee2-512cbff668d5\" class=\"plotly-graph-div\" style=\"height:525px; width:100%;\"></div>\n            <script type=\"text/javascript\">\n                require([\"plotly\"], function(Plotly) {\n                    window.PLOTLYENV=window.PLOTLYENV || {};\n                    window.PLOTLYENV.BASE_URL='https://plot.ly';\n                    \n                if (document.getElementById(\"f1a6edf7-6f05-4e02-bee2-512cbff668d5\")) {\n                    Plotly.newPlot(\n                        'f1a6edf7-6f05-4e02-bee2-512cbff668d5',\n                        [{\"marker\": {\"color\": \"rgba(255, 153, 51, 0.6)\", \"line\": {\"color\": \"rgba(255, 153, 51, 1.0)\", \"width\": 1}}, \"name\": \"lag_1\", \"orientation\": \"v\", \"text\": \"\", \"type\": \"bar\", \"x\": [\"GE\", \"AAPL.O\", \".SPX\", \".VIX\", \"EUR=\", \"XAU=\", \"DE10YT=RR\"], \"y\": [0.9681786769329328, 1.0071717210228, 0.9328903926233814, 0.8026856364652356, 0.9725948845321966, 0.9751737581373398, 0.9391661761318565]}, {\"marker\": {\"color\": \"rgba(55, 128, 191, 0.6)\", \"line\": {\"color\": \"rgba(55, 128, 191, 1.0)\", \"width\": 1}}, \"name\": \"lag_2\", \"orientation\": \"v\", \"text\": \"\", \"type\": \"bar\", \"x\": [\"GE\", \"AAPL.O\", \".SPX\", \".VIX\", \"EUR=\", \"XAU=\", \"DE10YT=RR\"], \"y\": [0.01936997765825442, -0.14691012113926563, 0.003088986584468073, 0.12030208902024161, 0.09903832307257467, 0.02257361371092921, 0.12588257325038135]}, {\"marker\": {\"color\": \"rgba(50, 171, 96, 0.6)\", \"line\": {\"color\": \"rgba(50, 171, 96, 1.0)\", \"width\": 1}}, \"name\": \"lag_3\", \"orientation\": \"v\", \"text\": \"\", \"type\": \"bar\", \"x\": [\"GE\", \"AAPL.O\", \".SPX\", \".VIX\", \"EUR=\", \"XAU=\", \"DE10YT=RR\"], \"y\": [0.08795867235608228, 0.11575032585304426, 0.07863693696805915, 0.0049901943918721076, -0.025500178006951903, -0.004809064175915647, -0.03018843593540494]}, {\"marker\": {\"color\": \"rgba(128, 0, 128, 0.6)\", \"line\": {\"color\": \"rgba(128, 0, 128, 1.0)\", \"width\": 1}}, \"name\": \"lag_4\", \"orientation\": \"v\", \"text\": \"\", \"type\": \"bar\", \"x\": [\"GE\", \"AAPL.O\", \".SPX\", \".VIX\", \"EUR=\", \"XAU=\", \"DE10YT=RR\"], \"y\": [0.03609660532712765, 0.05903115038225769, -0.01590130996255587, 0.009149890590758089, -0.204603073403254, -0.006248511505923171, 0.03820625384756738]}, {\"marker\": {\"color\": \"rgba(219, 64, 82, 0.6)\", \"line\": {\"color\": \"rgba(219, 64, 82, 1.0)\", \"width\": 1}}, \"name\": \"lag_5\", \"orientation\": \"v\", \"text\": \"\", \"type\": \"bar\", \"x\": [\"GE\", \"AAPL.O\", \".SPX\", \".VIX\", \"EUR=\", \"XAU=\", \"DE10YT=RR\"], \"y\": [-0.11092978836470943, -0.03179905009399323, 0.002296030387505657, 0.057534397847831736, 0.1583728845962008, 0.01399870899642186, -0.07749445543901978]}],\n                        {\"legend\": {\"bgcolor\": \"#F5F6F9\", \"font\": {\"color\": \"#4D5663\"}}, \"paper_bgcolor\": \"#F5F6F9\", \"plot_bgcolor\": \"#F5F6F9\", \"template\": {\"data\": {\"bar\": [{\"error_x\": {\"color\": \"#2a3f5f\"}, \"error_y\": {\"color\": \"#2a3f5f\"}, \"marker\": {\"line\": {\"color\": \"#E5ECF6\", \"width\": 0.5}}, \"type\": \"bar\"}], \"barpolar\": [{\"marker\": {\"line\": {\"color\": \"#E5ECF6\", \"width\": 0.5}}, \"type\": \"barpolar\"}], \"carpet\": [{\"aaxis\": {\"endlinecolor\": \"#2a3f5f\", \"gridcolor\": \"white\", \"linecolor\": \"white\", \"minorgridcolor\": \"white\", \"startlinecolor\": \"#2a3f5f\"}, \"baxis\": {\"endlinecolor\": \"#2a3f5f\", \"gridcolor\": \"white\", \"linecolor\": \"white\", \"minorgridcolor\": \"white\", \"startlinecolor\": \"#2a3f5f\"}, \"type\": \"carpet\"}], \"choropleth\": [{\"colorbar\": {\"outlinewidth\": 0, \"ticks\": \"\"}, \"type\": \"choropleth\"}], \"contour\": [{\"colorbar\": {\"outlinewidth\": 0, \"ticks\": \"\"}, \"colorscale\": [[0.0, \"#0d0887\"], [0.1111111111111111, \"#46039f\"], [0.2222222222222222, \"#7201a8\"], [0.3333333333333333, \"#9c179e\"], [0.4444444444444444, \"#bd3786\"], [0.5555555555555556, \"#d8576b\"], [0.6666666666666666, \"#ed7953\"], [0.7777777777777778, \"#fb9f3a\"], [0.8888888888888888, \"#fdca26\"], [1.0, \"#f0f921\"]], \"type\": \"contour\"}], \"contourcarpet\": [{\"colorbar\": {\"outlinewidth\": 0, \"ticks\": \"\"}, \"type\": \"contourcarpet\"}], \"heatmap\": [{\"colorbar\": {\"outlinewidth\": 0, \"ticks\": \"\"}, \"colorscale\": [[0.0, \"#0d0887\"], [0.1111111111111111, \"#46039f\"], [0.2222222222222222, \"#7201a8\"], [0.3333333333333333, \"#9c179e\"], [0.4444444444444444, \"#bd3786\"], [0.5555555555555556, \"#d8576b\"], [0.6666666666666666, \"#ed7953\"], [0.7777777777777778, \"#fb9f3a\"], [0.8888888888888888, \"#fdca26\"], [1.0, \"#f0f921\"]], \"type\": \"heatmap\"}], \"heatmapgl\": [{\"colorbar\": {\"outlinewidth\": 0, \"ticks\": \"\"}, \"colorscale\": [[0.0, \"#0d0887\"], [0.1111111111111111, \"#46039f\"], [0.2222222222222222, \"#7201a8\"], [0.3333333333333333, \"#9c179e\"], [0.4444444444444444, \"#bd3786\"], [0.5555555555555556, \"#d8576b\"], [0.6666666666666666, \"#ed7953\"], [0.7777777777777778, \"#fb9f3a\"], [0.8888888888888888, \"#fdca26\"], [1.0, \"#f0f921\"]], \"type\": \"heatmapgl\"}], \"histogram\": [{\"marker\": {\"colorbar\": {\"outlinewidth\": 0, \"ticks\": \"\"}}, \"type\": \"histogram\"}], \"histogram2d\": [{\"colorbar\": {\"outlinewidth\": 0, \"ticks\": \"\"}, \"colorscale\": [[0.0, \"#0d0887\"], [0.1111111111111111, \"#46039f\"], [0.2222222222222222, \"#7201a8\"], [0.3333333333333333, \"#9c179e\"], [0.4444444444444444, \"#bd3786\"], [0.5555555555555556, \"#d8576b\"], [0.6666666666666666, \"#ed7953\"], [0.7777777777777778, \"#fb9f3a\"], [0.8888888888888888, \"#fdca26\"], [1.0, \"#f0f921\"]], \"type\": \"histogram2d\"}], \"histogram2dcontour\": [{\"colorbar\": {\"outlinewidth\": 0, \"ticks\": \"\"}, \"colorscale\": [[0.0, \"#0d0887\"], [0.1111111111111111, \"#46039f\"], [0.2222222222222222, \"#7201a8\"], [0.3333333333333333, \"#9c179e\"], [0.4444444444444444, \"#bd3786\"], [0.5555555555555556, \"#d8576b\"], [0.6666666666666666, \"#ed7953\"], [0.7777777777777778, \"#fb9f3a\"], [0.8888888888888888, \"#fdca26\"], [1.0, \"#f0f921\"]], \"type\": \"histogram2dcontour\"}], \"mesh3d\": [{\"colorbar\": {\"outlinewidth\": 0, \"ticks\": \"\"}, \"type\": \"mesh3d\"}], \"parcoords\": [{\"line\": {\"colorbar\": {\"outlinewidth\": 0, \"ticks\": \"\"}}, \"type\": \"parcoords\"}], \"pie\": [{\"automargin\": true, \"type\": \"pie\"}], \"scatter\": [{\"marker\": {\"colorbar\": {\"outlinewidth\": 0, \"ticks\": \"\"}}, \"type\": \"scatter\"}], \"scatter3d\": [{\"line\": {\"colorbar\": {\"outlinewidth\": 0, \"ticks\": \"\"}}, \"marker\": {\"colorbar\": {\"outlinewidth\": 0, \"ticks\": \"\"}}, \"type\": \"scatter3d\"}], \"scattercarpet\": [{\"marker\": {\"colorbar\": {\"outlinewidth\": 0, \"ticks\": \"\"}}, \"type\": \"scattercarpet\"}], \"scattergeo\": [{\"marker\": {\"colorbar\": {\"outlinewidth\": 0, \"ticks\": \"\"}}, \"type\": \"scattergeo\"}], \"scattergl\": [{\"marker\": {\"colorbar\": {\"outlinewidth\": 0, \"ticks\": \"\"}}, \"type\": \"scattergl\"}], \"scattermapbox\": [{\"marker\": {\"colorbar\": {\"outlinewidth\": 0, \"ticks\": \"\"}}, \"type\": \"scattermapbox\"}], \"scatterpolar\": [{\"marker\": {\"colorbar\": {\"outlinewidth\": 0, \"ticks\": \"\"}}, \"type\": \"scatterpolar\"}], \"scatterpolargl\": [{\"marker\": {\"colorbar\": {\"outlinewidth\": 0, \"ticks\": \"\"}}, \"type\": \"scatterpolargl\"}], \"scatterternary\": [{\"marker\": {\"colorbar\": {\"outlinewidth\": 0, \"ticks\": \"\"}}, \"type\": \"scatterternary\"}], \"surface\": [{\"colorbar\": {\"outlinewidth\": 0, \"ticks\": \"\"}, \"colorscale\": [[0.0, \"#0d0887\"], [0.1111111111111111, \"#46039f\"], [0.2222222222222222, \"#7201a8\"], [0.3333333333333333, \"#9c179e\"], [0.4444444444444444, \"#bd3786\"], [0.5555555555555556, \"#d8576b\"], [0.6666666666666666, \"#ed7953\"], [0.7777777777777778, \"#fb9f3a\"], [0.8888888888888888, \"#fdca26\"], [1.0, \"#f0f921\"]], \"type\": \"surface\"}], \"table\": [{\"cells\": {\"fill\": {\"color\": \"#EBF0F8\"}, \"line\": {\"color\": \"white\"}}, \"header\": {\"fill\": {\"color\": \"#C8D4E3\"}, \"line\": {\"color\": \"white\"}}, \"type\": \"table\"}]}, \"layout\": {\"annotationdefaults\": {\"arrowcolor\": \"#2a3f5f\", \"arrowhead\": 0, \"arrowwidth\": 1}, \"coloraxis\": {\"colorbar\": {\"outlinewidth\": 0, \"ticks\": \"\"}}, \"colorscale\": {\"diverging\": [[0, \"#8e0152\"], [0.1, \"#c51b7d\"], [0.2, \"#de77ae\"], [0.3, \"#f1b6da\"], [0.4, \"#fde0ef\"], [0.5, \"#f7f7f7\"], [0.6, \"#e6f5d0\"], [0.7, \"#b8e186\"], [0.8, \"#7fbc41\"], [0.9, \"#4d9221\"], [1, \"#276419\"]], \"sequential\": [[0.0, \"#0d0887\"], [0.1111111111111111, \"#46039f\"], [0.2222222222222222, \"#7201a8\"], [0.3333333333333333, \"#9c179e\"], [0.4444444444444444, \"#bd3786\"], [0.5555555555555556, \"#d8576b\"], [0.6666666666666666, \"#ed7953\"], [0.7777777777777778, \"#fb9f3a\"], [0.8888888888888888, \"#fdca26\"], [1.0, \"#f0f921\"]], \"sequentialminus\": [[0.0, \"#0d0887\"], [0.1111111111111111, \"#46039f\"], [0.2222222222222222, \"#7201a8\"], [0.3333333333333333, \"#9c179e\"], [0.4444444444444444, \"#bd3786\"], [0.5555555555555556, \"#d8576b\"], [0.6666666666666666, \"#ed7953\"], [0.7777777777777778, \"#fb9f3a\"], [0.8888888888888888, \"#fdca26\"], [1.0, \"#f0f921\"]]}, \"colorway\": [\"#636efa\", \"#EF553B\", \"#00cc96\", \"#ab63fa\", \"#FFA15A\", \"#19d3f3\", \"#FF6692\", \"#B6E880\", \"#FF97FF\", \"#FECB52\"], \"font\": {\"color\": \"#2a3f5f\"}, \"geo\": {\"bgcolor\": \"white\", \"lakecolor\": \"white\", \"landcolor\": \"#E5ECF6\", \"showlakes\": true, \"showland\": true, \"subunitcolor\": \"white\"}, \"hoverlabel\": {\"align\": \"left\"}, \"hovermode\": \"closest\", \"mapbox\": {\"style\": \"light\"}, \"paper_bgcolor\": \"white\", \"plot_bgcolor\": \"#E5ECF6\", \"polar\": {\"angularaxis\": {\"gridcolor\": \"white\", \"linecolor\": \"white\", \"ticks\": \"\"}, \"bgcolor\": \"#E5ECF6\", \"radialaxis\": {\"gridcolor\": \"white\", \"linecolor\": \"white\", \"ticks\": \"\"}}, \"scene\": {\"xaxis\": {\"backgroundcolor\": \"#E5ECF6\", \"gridcolor\": \"white\", \"gridwidth\": 2, \"linecolor\": \"white\", \"showbackground\": true, \"ticks\": \"\", \"zerolinecolor\": \"white\"}, \"yaxis\": {\"backgroundcolor\": \"#E5ECF6\", \"gridcolor\": \"white\", \"gridwidth\": 2, \"linecolor\": \"white\", \"showbackground\": true, \"ticks\": \"\", \"zerolinecolor\": \"white\"}, \"zaxis\": {\"backgroundcolor\": \"#E5ECF6\", \"gridcolor\": \"white\", \"gridwidth\": 2, \"linecolor\": \"white\", \"showbackground\": true, \"ticks\": \"\", \"zerolinecolor\": \"white\"}}, \"shapedefaults\": {\"line\": {\"color\": \"#2a3f5f\"}}, \"ternary\": {\"aaxis\": {\"gridcolor\": \"white\", \"linecolor\": \"white\", \"ticks\": \"\"}, \"baxis\": {\"gridcolor\": \"white\", \"linecolor\": \"white\", \"ticks\": \"\"}, \"bgcolor\": \"#E5ECF6\", \"caxis\": {\"gridcolor\": \"white\", \"linecolor\": \"white\", \"ticks\": \"\"}}, \"title\": {\"x\": 0.05}, \"xaxis\": {\"automargin\": true, \"gridcolor\": \"white\", \"linecolor\": \"white\", \"ticks\": \"\", \"title\": {\"standoff\": 15}, \"zerolinecolor\": \"white\", \"zerolinewidth\": 2}, \"yaxis\": {\"automargin\": true, \"gridcolor\": \"white\", \"linecolor\": \"white\", \"ticks\": \"\", \"title\": {\"standoff\": 15}, \"zerolinecolor\": \"white\", \"zerolinewidth\": 2}}}, \"title\": {\"font\": {\"color\": \"#4D5663\"}}, \"xaxis\": {\"gridcolor\": \"#E1E5ED\", \"showgrid\": true, \"tickfont\": {\"color\": \"#4D5663\"}, \"title\": {\"font\": {\"color\": \"#4D5663\"}, \"text\": \"\"}, \"zerolinecolor\": \"#E1E5ED\"}, \"yaxis\": {\"gridcolor\": \"#E1E5ED\", \"showgrid\": true, \"tickfont\": {\"color\": \"#4D5663\"}, \"title\": {\"font\": {\"color\": \"#4D5663\"}, \"text\": \"\"}, \"zerolinecolor\": \"#E1E5ED\"}},\n                        {\"showLink\": true, \"linkText\": \"Export to plot.ly\", \"plotlyServerURL\": \"https://plot.ly\", \"responsive\": true}\n                    ).then(function(){\n                            \nvar gd = document.getElementById('f1a6edf7-6f05-4e02-bee2-512cbff668d5');\nvar x = new MutationObserver(function (mutations, observer) {{\n        var display = window.getComputedStyle(gd).display;\n        if (!display || display === 'none') {{\n            console.log([gd, 'removed!']);\n            Plotly.purge(gd);\n            observer.disconnect();\n        }}\n}});\n\n// Listen for the removal of the full notebook cells\nvar notebookContainer = gd.closest('#notebook-container');\nif (notebookContainer) {{\n    x.observe(notebookContainer, {childList: true});\n}}\n\n// Listen for the clearing of the current output cell\nvar outputEl = gd.closest('.output');\nif (outputEl) {{\n    x.observe(outputEl, {childList: true});\n}}\n\n                        })\n                };\n                });\n            </script>\n        </div>"
     },
     "metadata": {}
    }
   ],
   "source": [
    "regd.iplot(kind='bar')"
   ]
  },
  {
   "cell_type": "code",
   "execution_count": 49,
   "metadata": {},
   "outputs": [
    {
     "output_type": "execute_result",
     "data": {
      "text/plain": "              lag_1     lag_2     lag_3     lag_4     lag_5\nGE         0.968179  0.019370  0.087959  0.036097 -0.110930\nAAPL.O     1.007172 -0.146910  0.115750  0.059031 -0.031799\n.SPX       0.932890  0.003089  0.078637 -0.015901  0.002296\n.VIX       0.802686  0.120302  0.004990  0.009150  0.057534\nEUR=       0.972595  0.099038 -0.025500 -0.204603  0.158373\nXAU=       0.975174  0.022574 -0.004809 -0.006249  0.013999\nDE10YT=RR  0.939166  0.125883 -0.030188  0.038206 -0.077494",
      "text/html": "<div>\n<style scoped>\n    .dataframe tbody tr th:only-of-type {\n        vertical-align: middle;\n    }\n\n    .dataframe tbody tr th {\n        vertical-align: top;\n    }\n\n    .dataframe thead th {\n        text-align: right;\n    }\n</style>\n<table border=\"1\" class=\"dataframe\">\n  <thead>\n    <tr style=\"text-align: right;\">\n      <th></th>\n      <th>lag_1</th>\n      <th>lag_2</th>\n      <th>lag_3</th>\n      <th>lag_4</th>\n      <th>lag_5</th>\n    </tr>\n  </thead>\n  <tbody>\n    <tr>\n      <th>GE</th>\n      <td>0.968179</td>\n      <td>0.019370</td>\n      <td>0.087959</td>\n      <td>0.036097</td>\n      <td>-0.110930</td>\n    </tr>\n    <tr>\n      <th>AAPL.O</th>\n      <td>1.007172</td>\n      <td>-0.146910</td>\n      <td>0.115750</td>\n      <td>0.059031</td>\n      <td>-0.031799</td>\n    </tr>\n    <tr>\n      <th>.SPX</th>\n      <td>0.932890</td>\n      <td>0.003089</td>\n      <td>0.078637</td>\n      <td>-0.015901</td>\n      <td>0.002296</td>\n    </tr>\n    <tr>\n      <th>.VIX</th>\n      <td>0.802686</td>\n      <td>0.120302</td>\n      <td>0.004990</td>\n      <td>0.009150</td>\n      <td>0.057534</td>\n    </tr>\n    <tr>\n      <th>EUR=</th>\n      <td>0.972595</td>\n      <td>0.099038</td>\n      <td>-0.025500</td>\n      <td>-0.204603</td>\n      <td>0.158373</td>\n    </tr>\n    <tr>\n      <th>XAU=</th>\n      <td>0.975174</td>\n      <td>0.022574</td>\n      <td>-0.004809</td>\n      <td>-0.006249</td>\n      <td>0.013999</td>\n    </tr>\n    <tr>\n      <th>DE10YT=RR</th>\n      <td>0.939166</td>\n      <td>0.125883</td>\n      <td>-0.030188</td>\n      <td>0.038206</td>\n      <td>-0.077494</td>\n    </tr>\n  </tbody>\n</table>\n</div>"
     },
     "metadata": {},
     "execution_count": 49
    }
   ],
   "source": [
    "regd"
   ]
  },
  {
   "cell_type": "markdown",
   "metadata": {},
   "source": [
    "The **mean values** for the single optimal regression parameters."
   ]
  },
  {
   "cell_type": "code",
   "execution_count": 93,
   "metadata": {},
   "outputs": [
    {
     "output_type": "display_data",
     "data": {
      "application/vnd.plotly.v1+json": {
       "config": {
        "linkText": "Export to plot.ly",
        "plotlyServerURL": "https://plot.ly",
        "showLink": true
       },
       "data": [
        {
         "marker": {
          "color": "rgba(255, 153, 51, 0.6)",
          "line": {
           "color": "rgba(255, 153, 51, 1.0)",
           "width": 1
          }
         },
         "name": "None",
         "orientation": "v",
         "text": "",
         "type": "bar",
         "x": [
          "lag_1",
          "lag_2",
          "lag_3",
          "lag_4",
          "lag_5"
         ],
         "y": [
          0.9786635607581431,
          -0.02736351698335249,
          -0.003165196780707357,
          0.07950585017553134,
          -0.028226298365012108
         ]
        }
       ],
       "layout": {
        "legend": {
         "bgcolor": "#F5F6F9",
         "font": {
          "color": "#4D5663"
         }
        },
        "paper_bgcolor": "#F5F6F9",
        "plot_bgcolor": "#F5F6F9",
        "template": {
         "data": {
          "bar": [
           {
            "error_x": {
             "color": "#2a3f5f"
            },
            "error_y": {
             "color": "#2a3f5f"
            },
            "marker": {
             "line": {
              "color": "#E5ECF6",
              "width": 0.5
             }
            },
            "type": "bar"
           }
          ],
          "barpolar": [
           {
            "marker": {
             "line": {
              "color": "#E5ECF6",
              "width": 0.5
             }
            },
            "type": "barpolar"
           }
          ],
          "carpet": [
           {
            "aaxis": {
             "endlinecolor": "#2a3f5f",
             "gridcolor": "white",
             "linecolor": "white",
             "minorgridcolor": "white",
             "startlinecolor": "#2a3f5f"
            },
            "baxis": {
             "endlinecolor": "#2a3f5f",
             "gridcolor": "white",
             "linecolor": "white",
             "minorgridcolor": "white",
             "startlinecolor": "#2a3f5f"
            },
            "type": "carpet"
           }
          ],
          "choropleth": [
           {
            "colorbar": {
             "outlinewidth": 0,
             "ticks": ""
            },
            "type": "choropleth"
           }
          ],
          "contour": [
           {
            "colorbar": {
             "outlinewidth": 0,
             "ticks": ""
            },
            "colorscale": [
             [
              0,
              "#0d0887"
             ],
             [
              0.1111111111111111,
              "#46039f"
             ],
             [
              0.2222222222222222,
              "#7201a8"
             ],
             [
              0.3333333333333333,
              "#9c179e"
             ],
             [
              0.4444444444444444,
              "#bd3786"
             ],
             [
              0.5555555555555556,
              "#d8576b"
             ],
             [
              0.6666666666666666,
              "#ed7953"
             ],
             [
              0.7777777777777778,
              "#fb9f3a"
             ],
             [
              0.8888888888888888,
              "#fdca26"
             ],
             [
              1,
              "#f0f921"
             ]
            ],
            "type": "contour"
           }
          ],
          "contourcarpet": [
           {
            "colorbar": {
             "outlinewidth": 0,
             "ticks": ""
            },
            "type": "contourcarpet"
           }
          ],
          "heatmap": [
           {
            "colorbar": {
             "outlinewidth": 0,
             "ticks": ""
            },
            "colorscale": [
             [
              0,
              "#0d0887"
             ],
             [
              0.1111111111111111,
              "#46039f"
             ],
             [
              0.2222222222222222,
              "#7201a8"
             ],
             [
              0.3333333333333333,
              "#9c179e"
             ],
             [
              0.4444444444444444,
              "#bd3786"
             ],
             [
              0.5555555555555556,
              "#d8576b"
             ],
             [
              0.6666666666666666,
              "#ed7953"
             ],
             [
              0.7777777777777778,
              "#fb9f3a"
             ],
             [
              0.8888888888888888,
              "#fdca26"
             ],
             [
              1,
              "#f0f921"
             ]
            ],
            "type": "heatmap"
           }
          ],
          "heatmapgl": [
           {
            "colorbar": {
             "outlinewidth": 0,
             "ticks": ""
            },
            "colorscale": [
             [
              0,
              "#0d0887"
             ],
             [
              0.1111111111111111,
              "#46039f"
             ],
             [
              0.2222222222222222,
              "#7201a8"
             ],
             [
              0.3333333333333333,
              "#9c179e"
             ],
             [
              0.4444444444444444,
              "#bd3786"
             ],
             [
              0.5555555555555556,
              "#d8576b"
             ],
             [
              0.6666666666666666,
              "#ed7953"
             ],
             [
              0.7777777777777778,
              "#fb9f3a"
             ],
             [
              0.8888888888888888,
              "#fdca26"
             ],
             [
              1,
              "#f0f921"
             ]
            ],
            "type": "heatmapgl"
           }
          ],
          "histogram": [
           {
            "marker": {
             "colorbar": {
              "outlinewidth": 0,
              "ticks": ""
             }
            },
            "type": "histogram"
           }
          ],
          "histogram2d": [
           {
            "colorbar": {
             "outlinewidth": 0,
             "ticks": ""
            },
            "colorscale": [
             [
              0,
              "#0d0887"
             ],
             [
              0.1111111111111111,
              "#46039f"
             ],
             [
              0.2222222222222222,
              "#7201a8"
             ],
             [
              0.3333333333333333,
              "#9c179e"
             ],
             [
              0.4444444444444444,
              "#bd3786"
             ],
             [
              0.5555555555555556,
              "#d8576b"
             ],
             [
              0.6666666666666666,
              "#ed7953"
             ],
             [
              0.7777777777777778,
              "#fb9f3a"
             ],
             [
              0.8888888888888888,
              "#fdca26"
             ],
             [
              1,
              "#f0f921"
             ]
            ],
            "type": "histogram2d"
           }
          ],
          "histogram2dcontour": [
           {
            "colorbar": {
             "outlinewidth": 0,
             "ticks": ""
            },
            "colorscale": [
             [
              0,
              "#0d0887"
             ],
             [
              0.1111111111111111,
              "#46039f"
             ],
             [
              0.2222222222222222,
              "#7201a8"
             ],
             [
              0.3333333333333333,
              "#9c179e"
             ],
             [
              0.4444444444444444,
              "#bd3786"
             ],
             [
              0.5555555555555556,
              "#d8576b"
             ],
             [
              0.6666666666666666,
              "#ed7953"
             ],
             [
              0.7777777777777778,
              "#fb9f3a"
             ],
             [
              0.8888888888888888,
              "#fdca26"
             ],
             [
              1,
              "#f0f921"
             ]
            ],
            "type": "histogram2dcontour"
           }
          ],
          "mesh3d": [
           {
            "colorbar": {
             "outlinewidth": 0,
             "ticks": ""
            },
            "type": "mesh3d"
           }
          ],
          "parcoords": [
           {
            "line": {
             "colorbar": {
              "outlinewidth": 0,
              "ticks": ""
             }
            },
            "type": "parcoords"
           }
          ],
          "pie": [
           {
            "automargin": true,
            "type": "pie"
           }
          ],
          "scatter": [
           {
            "marker": {
             "colorbar": {
              "outlinewidth": 0,
              "ticks": ""
             }
            },
            "type": "scatter"
           }
          ],
          "scatter3d": [
           {
            "line": {
             "colorbar": {
              "outlinewidth": 0,
              "ticks": ""
             }
            },
            "marker": {
             "colorbar": {
              "outlinewidth": 0,
              "ticks": ""
             }
            },
            "type": "scatter3d"
           }
          ],
          "scattercarpet": [
           {
            "marker": {
             "colorbar": {
              "outlinewidth": 0,
              "ticks": ""
             }
            },
            "type": "scattercarpet"
           }
          ],
          "scattergeo": [
           {
            "marker": {
             "colorbar": {
              "outlinewidth": 0,
              "ticks": ""
             }
            },
            "type": "scattergeo"
           }
          ],
          "scattergl": [
           {
            "marker": {
             "colorbar": {
              "outlinewidth": 0,
              "ticks": ""
             }
            },
            "type": "scattergl"
           }
          ],
          "scattermapbox": [
           {
            "marker": {
             "colorbar": {
              "outlinewidth": 0,
              "ticks": ""
             }
            },
            "type": "scattermapbox"
           }
          ],
          "scatterpolar": [
           {
            "marker": {
             "colorbar": {
              "outlinewidth": 0,
              "ticks": ""
             }
            },
            "type": "scatterpolar"
           }
          ],
          "scatterpolargl": [
           {
            "marker": {
             "colorbar": {
              "outlinewidth": 0,
              "ticks": ""
             }
            },
            "type": "scatterpolargl"
           }
          ],
          "scatterternary": [
           {
            "marker": {
             "colorbar": {
              "outlinewidth": 0,
              "ticks": ""
             }
            },
            "type": "scatterternary"
           }
          ],
          "surface": [
           {
            "colorbar": {
             "outlinewidth": 0,
             "ticks": ""
            },
            "colorscale": [
             [
              0,
              "#0d0887"
             ],
             [
              0.1111111111111111,
              "#46039f"
             ],
             [
              0.2222222222222222,
              "#7201a8"
             ],
             [
              0.3333333333333333,
              "#9c179e"
             ],
             [
              0.4444444444444444,
              "#bd3786"
             ],
             [
              0.5555555555555556,
              "#d8576b"
             ],
             [
              0.6666666666666666,
              "#ed7953"
             ],
             [
              0.7777777777777778,
              "#fb9f3a"
             ],
             [
              0.8888888888888888,
              "#fdca26"
             ],
             [
              1,
              "#f0f921"
             ]
            ],
            "type": "surface"
           }
          ],
          "table": [
           {
            "cells": {
             "fill": {
              "color": "#EBF0F8"
             },
             "line": {
              "color": "white"
             }
            },
            "header": {
             "fill": {
              "color": "#C8D4E3"
             },
             "line": {
              "color": "white"
             }
            },
            "type": "table"
           }
          ]
         },
         "layout": {
          "annotationdefaults": {
           "arrowcolor": "#2a3f5f",
           "arrowhead": 0,
           "arrowwidth": 1
          },
          "coloraxis": {
           "colorbar": {
            "outlinewidth": 0,
            "ticks": ""
           }
          },
          "colorscale": {
           "diverging": [
            [
             0,
             "#8e0152"
            ],
            [
             0.1,
             "#c51b7d"
            ],
            [
             0.2,
             "#de77ae"
            ],
            [
             0.3,
             "#f1b6da"
            ],
            [
             0.4,
             "#fde0ef"
            ],
            [
             0.5,
             "#f7f7f7"
            ],
            [
             0.6,
             "#e6f5d0"
            ],
            [
             0.7,
             "#b8e186"
            ],
            [
             0.8,
             "#7fbc41"
            ],
            [
             0.9,
             "#4d9221"
            ],
            [
             1,
             "#276419"
            ]
           ],
           "sequential": [
            [
             0,
             "#0d0887"
            ],
            [
             0.1111111111111111,
             "#46039f"
            ],
            [
             0.2222222222222222,
             "#7201a8"
            ],
            [
             0.3333333333333333,
             "#9c179e"
            ],
            [
             0.4444444444444444,
             "#bd3786"
            ],
            [
             0.5555555555555556,
             "#d8576b"
            ],
            [
             0.6666666666666666,
             "#ed7953"
            ],
            [
             0.7777777777777778,
             "#fb9f3a"
            ],
            [
             0.8888888888888888,
             "#fdca26"
            ],
            [
             1,
             "#f0f921"
            ]
           ],
           "sequentialminus": [
            [
             0,
             "#0d0887"
            ],
            [
             0.1111111111111111,
             "#46039f"
            ],
            [
             0.2222222222222222,
             "#7201a8"
            ],
            [
             0.3333333333333333,
             "#9c179e"
            ],
            [
             0.4444444444444444,
             "#bd3786"
            ],
            [
             0.5555555555555556,
             "#d8576b"
            ],
            [
             0.6666666666666666,
             "#ed7953"
            ],
            [
             0.7777777777777778,
             "#fb9f3a"
            ],
            [
             0.8888888888888888,
             "#fdca26"
            ],
            [
             1,
             "#f0f921"
            ]
           ]
          },
          "colorway": [
           "#636efa",
           "#EF553B",
           "#00cc96",
           "#ab63fa",
           "#FFA15A",
           "#19d3f3",
           "#FF6692",
           "#B6E880",
           "#FF97FF",
           "#FECB52"
          ],
          "font": {
           "color": "#2a3f5f"
          },
          "geo": {
           "bgcolor": "white",
           "lakecolor": "white",
           "landcolor": "#E5ECF6",
           "showlakes": true,
           "showland": true,
           "subunitcolor": "white"
          },
          "hoverlabel": {
           "align": "left"
          },
          "hovermode": "closest",
          "mapbox": {
           "style": "light"
          },
          "paper_bgcolor": "white",
          "plot_bgcolor": "#E5ECF6",
          "polar": {
           "angularaxis": {
            "gridcolor": "white",
            "linecolor": "white",
            "ticks": ""
           },
           "bgcolor": "#E5ECF6",
           "radialaxis": {
            "gridcolor": "white",
            "linecolor": "white",
            "ticks": ""
           }
          },
          "scene": {
           "xaxis": {
            "backgroundcolor": "#E5ECF6",
            "gridcolor": "white",
            "gridwidth": 2,
            "linecolor": "white",
            "showbackground": true,
            "ticks": "",
            "zerolinecolor": "white"
           },
           "yaxis": {
            "backgroundcolor": "#E5ECF6",
            "gridcolor": "white",
            "gridwidth": 2,
            "linecolor": "white",
            "showbackground": true,
            "ticks": "",
            "zerolinecolor": "white"
           },
           "zaxis": {
            "backgroundcolor": "#E5ECF6",
            "gridcolor": "white",
            "gridwidth": 2,
            "linecolor": "white",
            "showbackground": true,
            "ticks": "",
            "zerolinecolor": "white"
           }
          },
          "shapedefaults": {
           "line": {
            "color": "#2a3f5f"
           }
          },
          "ternary": {
           "aaxis": {
            "gridcolor": "white",
            "linecolor": "white",
            "ticks": ""
           },
           "baxis": {
            "gridcolor": "white",
            "linecolor": "white",
            "ticks": ""
           },
           "bgcolor": "#E5ECF6",
           "caxis": {
            "gridcolor": "white",
            "linecolor": "white",
            "ticks": ""
           }
          },
          "title": {
           "x": 0.05
          },
          "xaxis": {
           "automargin": true,
           "gridcolor": "white",
           "linecolor": "white",
           "ticks": "",
           "title": {
            "standoff": 15
           },
           "zerolinecolor": "white",
           "zerolinewidth": 2
          },
          "yaxis": {
           "automargin": true,
           "gridcolor": "white",
           "linecolor": "white",
           "ticks": "",
           "title": {
            "standoff": 15
           },
           "zerolinecolor": "white",
           "zerolinewidth": 2
          }
         }
        },
        "title": {
         "font": {
          "color": "#4D5663"
         }
        },
        "xaxis": {
         "gridcolor": "#E1E5ED",
         "showgrid": true,
         "tickfont": {
          "color": "#4D5663"
         },
         "title": {
          "font": {
           "color": "#4D5663"
          },
          "text": ""
         },
         "zerolinecolor": "#E1E5ED"
        },
        "yaxis": {
         "gridcolor": "#E1E5ED",
         "showgrid": true,
         "tickfont": {
          "color": "#4D5663"
         },
         "title": {
          "font": {
           "color": "#4D5663"
          },
          "text": ""
         },
         "zerolinecolor": "#E1E5ED"
        }
       }
      },
      "text/html": "<div>\n        \n        \n            <div id=\"2f4cd6a6-fe14-4bbc-b9f9-c886673f97d4\" class=\"plotly-graph-div\" style=\"height:525px; width:100%;\"></div>\n            <script type=\"text/javascript\">\n                require([\"plotly\"], function(Plotly) {\n                    window.PLOTLYENV=window.PLOTLYENV || {};\n                    window.PLOTLYENV.BASE_URL='https://plot.ly';\n                    \n                if (document.getElementById(\"2f4cd6a6-fe14-4bbc-b9f9-c886673f97d4\")) {\n                    Plotly.newPlot(\n                        '2f4cd6a6-fe14-4bbc-b9f9-c886673f97d4',\n                        [{\"marker\": {\"color\": \"rgba(255, 153, 51, 0.6)\", \"line\": {\"color\": \"rgba(255, 153, 51, 1.0)\", \"width\": 1}}, \"name\": \"None\", \"orientation\": \"v\", \"text\": \"\", \"type\": \"bar\", \"x\": [\"lag_1\", \"lag_2\", \"lag_3\", \"lag_4\", \"lag_5\"], \"y\": [0.9786635607581431, -0.02736351698335249, -0.003165196780707357, 0.07950585017553134, -0.028226298365012108]}],\n                        {\"legend\": {\"bgcolor\": \"#F5F6F9\", \"font\": {\"color\": \"#4D5663\"}}, \"paper_bgcolor\": \"#F5F6F9\", \"plot_bgcolor\": \"#F5F6F9\", \"template\": {\"data\": {\"bar\": [{\"error_x\": {\"color\": \"#2a3f5f\"}, \"error_y\": {\"color\": \"#2a3f5f\"}, \"marker\": {\"line\": {\"color\": \"#E5ECF6\", \"width\": 0.5}}, \"type\": \"bar\"}], \"barpolar\": [{\"marker\": {\"line\": {\"color\": \"#E5ECF6\", \"width\": 0.5}}, \"type\": \"barpolar\"}], \"carpet\": [{\"aaxis\": {\"endlinecolor\": \"#2a3f5f\", \"gridcolor\": \"white\", \"linecolor\": \"white\", \"minorgridcolor\": \"white\", \"startlinecolor\": \"#2a3f5f\"}, \"baxis\": {\"endlinecolor\": \"#2a3f5f\", \"gridcolor\": \"white\", \"linecolor\": \"white\", \"minorgridcolor\": \"white\", \"startlinecolor\": \"#2a3f5f\"}, \"type\": \"carpet\"}], \"choropleth\": [{\"colorbar\": {\"outlinewidth\": 0, \"ticks\": \"\"}, \"type\": \"choropleth\"}], \"contour\": [{\"colorbar\": {\"outlinewidth\": 0, \"ticks\": \"\"}, \"colorscale\": [[0.0, \"#0d0887\"], [0.1111111111111111, \"#46039f\"], [0.2222222222222222, \"#7201a8\"], [0.3333333333333333, \"#9c179e\"], [0.4444444444444444, \"#bd3786\"], [0.5555555555555556, \"#d8576b\"], [0.6666666666666666, \"#ed7953\"], [0.7777777777777778, \"#fb9f3a\"], [0.8888888888888888, \"#fdca26\"], [1.0, \"#f0f921\"]], \"type\": \"contour\"}], \"contourcarpet\": [{\"colorbar\": {\"outlinewidth\": 0, \"ticks\": \"\"}, \"type\": \"contourcarpet\"}], \"heatmap\": [{\"colorbar\": {\"outlinewidth\": 0, \"ticks\": \"\"}, \"colorscale\": [[0.0, \"#0d0887\"], [0.1111111111111111, \"#46039f\"], [0.2222222222222222, \"#7201a8\"], [0.3333333333333333, \"#9c179e\"], [0.4444444444444444, \"#bd3786\"], [0.5555555555555556, \"#d8576b\"], [0.6666666666666666, \"#ed7953\"], [0.7777777777777778, \"#fb9f3a\"], [0.8888888888888888, \"#fdca26\"], [1.0, \"#f0f921\"]], \"type\": \"heatmap\"}], \"heatmapgl\": [{\"colorbar\": {\"outlinewidth\": 0, \"ticks\": \"\"}, \"colorscale\": [[0.0, \"#0d0887\"], [0.1111111111111111, \"#46039f\"], [0.2222222222222222, \"#7201a8\"], [0.3333333333333333, \"#9c179e\"], [0.4444444444444444, \"#bd3786\"], [0.5555555555555556, \"#d8576b\"], [0.6666666666666666, \"#ed7953\"], [0.7777777777777778, \"#fb9f3a\"], [0.8888888888888888, \"#fdca26\"], [1.0, \"#f0f921\"]], \"type\": \"heatmapgl\"}], \"histogram\": [{\"marker\": {\"colorbar\": {\"outlinewidth\": 0, \"ticks\": \"\"}}, \"type\": \"histogram\"}], \"histogram2d\": [{\"colorbar\": {\"outlinewidth\": 0, \"ticks\": \"\"}, \"colorscale\": [[0.0, \"#0d0887\"], [0.1111111111111111, \"#46039f\"], [0.2222222222222222, \"#7201a8\"], [0.3333333333333333, \"#9c179e\"], [0.4444444444444444, \"#bd3786\"], [0.5555555555555556, \"#d8576b\"], [0.6666666666666666, \"#ed7953\"], [0.7777777777777778, \"#fb9f3a\"], [0.8888888888888888, \"#fdca26\"], [1.0, \"#f0f921\"]], \"type\": \"histogram2d\"}], \"histogram2dcontour\": [{\"colorbar\": {\"outlinewidth\": 0, \"ticks\": \"\"}, \"colorscale\": [[0.0, \"#0d0887\"], [0.1111111111111111, \"#46039f\"], [0.2222222222222222, \"#7201a8\"], [0.3333333333333333, \"#9c179e\"], [0.4444444444444444, \"#bd3786\"], [0.5555555555555556, \"#d8576b\"], [0.6666666666666666, \"#ed7953\"], [0.7777777777777778, \"#fb9f3a\"], [0.8888888888888888, \"#fdca26\"], [1.0, \"#f0f921\"]], \"type\": \"histogram2dcontour\"}], \"mesh3d\": [{\"colorbar\": {\"outlinewidth\": 0, \"ticks\": \"\"}, \"type\": \"mesh3d\"}], \"parcoords\": [{\"line\": {\"colorbar\": {\"outlinewidth\": 0, \"ticks\": \"\"}}, \"type\": \"parcoords\"}], \"pie\": [{\"automargin\": true, \"type\": \"pie\"}], \"scatter\": [{\"marker\": {\"colorbar\": {\"outlinewidth\": 0, \"ticks\": \"\"}}, \"type\": \"scatter\"}], \"scatter3d\": [{\"line\": {\"colorbar\": {\"outlinewidth\": 0, \"ticks\": \"\"}}, \"marker\": {\"colorbar\": {\"outlinewidth\": 0, \"ticks\": \"\"}}, \"type\": \"scatter3d\"}], \"scattercarpet\": [{\"marker\": {\"colorbar\": {\"outlinewidth\": 0, \"ticks\": \"\"}}, \"type\": \"scattercarpet\"}], \"scattergeo\": [{\"marker\": {\"colorbar\": {\"outlinewidth\": 0, \"ticks\": \"\"}}, \"type\": \"scattergeo\"}], \"scattergl\": [{\"marker\": {\"colorbar\": {\"outlinewidth\": 0, \"ticks\": \"\"}}, \"type\": \"scattergl\"}], \"scattermapbox\": [{\"marker\": {\"colorbar\": {\"outlinewidth\": 0, \"ticks\": \"\"}}, \"type\": \"scattermapbox\"}], \"scatterpolar\": [{\"marker\": {\"colorbar\": {\"outlinewidth\": 0, \"ticks\": \"\"}}, \"type\": \"scatterpolar\"}], \"scatterpolargl\": [{\"marker\": {\"colorbar\": {\"outlinewidth\": 0, \"ticks\": \"\"}}, \"type\": \"scatterpolargl\"}], \"scatterternary\": [{\"marker\": {\"colorbar\": {\"outlinewidth\": 0, \"ticks\": \"\"}}, \"type\": \"scatterternary\"}], \"surface\": [{\"colorbar\": {\"outlinewidth\": 0, \"ticks\": \"\"}, \"colorscale\": [[0.0, \"#0d0887\"], [0.1111111111111111, \"#46039f\"], [0.2222222222222222, \"#7201a8\"], [0.3333333333333333, \"#9c179e\"], [0.4444444444444444, \"#bd3786\"], [0.5555555555555556, \"#d8576b\"], [0.6666666666666666, \"#ed7953\"], [0.7777777777777778, \"#fb9f3a\"], [0.8888888888888888, \"#fdca26\"], [1.0, \"#f0f921\"]], \"type\": \"surface\"}], \"table\": [{\"cells\": {\"fill\": {\"color\": \"#EBF0F8\"}, \"line\": {\"color\": \"white\"}}, \"header\": {\"fill\": {\"color\": \"#C8D4E3\"}, \"line\": {\"color\": \"white\"}}, \"type\": \"table\"}]}, \"layout\": {\"annotationdefaults\": {\"arrowcolor\": \"#2a3f5f\", \"arrowhead\": 0, \"arrowwidth\": 1}, \"coloraxis\": {\"colorbar\": {\"outlinewidth\": 0, \"ticks\": \"\"}}, \"colorscale\": {\"diverging\": [[0, \"#8e0152\"], [0.1, \"#c51b7d\"], [0.2, \"#de77ae\"], [0.3, \"#f1b6da\"], [0.4, \"#fde0ef\"], [0.5, \"#f7f7f7\"], [0.6, \"#e6f5d0\"], [0.7, \"#b8e186\"], [0.8, \"#7fbc41\"], [0.9, \"#4d9221\"], [1, \"#276419\"]], \"sequential\": [[0.0, \"#0d0887\"], [0.1111111111111111, \"#46039f\"], [0.2222222222222222, \"#7201a8\"], [0.3333333333333333, \"#9c179e\"], [0.4444444444444444, \"#bd3786\"], [0.5555555555555556, \"#d8576b\"], [0.6666666666666666, \"#ed7953\"], [0.7777777777777778, \"#fb9f3a\"], [0.8888888888888888, \"#fdca26\"], [1.0, \"#f0f921\"]], \"sequentialminus\": [[0.0, \"#0d0887\"], [0.1111111111111111, \"#46039f\"], [0.2222222222222222, \"#7201a8\"], [0.3333333333333333, \"#9c179e\"], [0.4444444444444444, \"#bd3786\"], [0.5555555555555556, \"#d8576b\"], [0.6666666666666666, \"#ed7953\"], [0.7777777777777778, \"#fb9f3a\"], [0.8888888888888888, \"#fdca26\"], [1.0, \"#f0f921\"]]}, \"colorway\": [\"#636efa\", \"#EF553B\", \"#00cc96\", \"#ab63fa\", \"#FFA15A\", \"#19d3f3\", \"#FF6692\", \"#B6E880\", \"#FF97FF\", \"#FECB52\"], \"font\": {\"color\": \"#2a3f5f\"}, \"geo\": {\"bgcolor\": \"white\", \"lakecolor\": \"white\", \"landcolor\": \"#E5ECF6\", \"showlakes\": true, \"showland\": true, \"subunitcolor\": \"white\"}, \"hoverlabel\": {\"align\": \"left\"}, \"hovermode\": \"closest\", \"mapbox\": {\"style\": \"light\"}, \"paper_bgcolor\": \"white\", \"plot_bgcolor\": \"#E5ECF6\", \"polar\": {\"angularaxis\": {\"gridcolor\": \"white\", \"linecolor\": \"white\", \"ticks\": \"\"}, \"bgcolor\": \"#E5ECF6\", \"radialaxis\": {\"gridcolor\": \"white\", \"linecolor\": \"white\", \"ticks\": \"\"}}, \"scene\": {\"xaxis\": {\"backgroundcolor\": \"#E5ECF6\", \"gridcolor\": \"white\", \"gridwidth\": 2, \"linecolor\": \"white\", \"showbackground\": true, \"ticks\": \"\", \"zerolinecolor\": \"white\"}, \"yaxis\": {\"backgroundcolor\": \"#E5ECF6\", \"gridcolor\": \"white\", \"gridwidth\": 2, \"linecolor\": \"white\", \"showbackground\": true, \"ticks\": \"\", \"zerolinecolor\": \"white\"}, \"zaxis\": {\"backgroundcolor\": \"#E5ECF6\", \"gridcolor\": \"white\", \"gridwidth\": 2, \"linecolor\": \"white\", \"showbackground\": true, \"ticks\": \"\", \"zerolinecolor\": \"white\"}}, \"shapedefaults\": {\"line\": {\"color\": \"#2a3f5f\"}}, \"ternary\": {\"aaxis\": {\"gridcolor\": \"white\", \"linecolor\": \"white\", \"ticks\": \"\"}, \"baxis\": {\"gridcolor\": \"white\", \"linecolor\": \"white\", \"ticks\": \"\"}, \"bgcolor\": \"#E5ECF6\", \"caxis\": {\"gridcolor\": \"white\", \"linecolor\": \"white\", \"ticks\": \"\"}}, \"title\": {\"x\": 0.05}, \"xaxis\": {\"automargin\": true, \"gridcolor\": \"white\", \"linecolor\": \"white\", \"ticks\": \"\", \"title\": {\"standoff\": 15}, \"zerolinecolor\": \"white\", \"zerolinewidth\": 2}, \"yaxis\": {\"automargin\": true, \"gridcolor\": \"white\", \"linecolor\": \"white\", \"ticks\": \"\", \"title\": {\"standoff\": 15}, \"zerolinecolor\": \"white\", \"zerolinewidth\": 2}}}, \"title\": {\"font\": {\"color\": \"#4D5663\"}}, \"xaxis\": {\"gridcolor\": \"#E1E5ED\", \"showgrid\": true, \"tickfont\": {\"color\": \"#4D5663\"}, \"title\": {\"font\": {\"color\": \"#4D5663\"}, \"text\": \"\"}, \"zerolinecolor\": \"#E1E5ED\"}, \"yaxis\": {\"gridcolor\": \"#E1E5ED\", \"showgrid\": true, \"tickfont\": {\"color\": \"#4D5663\"}, \"title\": {\"font\": {\"color\": \"#4D5663\"}, \"text\": \"\"}, \"zerolinecolor\": \"#E1E5ED\"}},\n                        {\"showLink\": true, \"linkText\": \"Export to plot.ly\", \"plotlyServerURL\": \"https://plot.ly\", \"responsive\": true}\n                    ).then(function(){\n                            \nvar gd = document.getElementById('2f4cd6a6-fe14-4bbc-b9f9-c886673f97d4');\nvar x = new MutationObserver(function (mutations, observer) {{\n        var display = window.getComputedStyle(gd).display;\n        if (!display || display === 'none') {{\n            console.log([gd, 'removed!']);\n            Plotly.purge(gd);\n            observer.disconnect();\n        }}\n}});\n\n// Listen for the removal of the full notebook cells\nvar notebookContainer = gd.closest('#notebook-container');\nif (notebookContainer) {{\n    x.observe(notebookContainer, {childList: true});\n}}\n\n// Listen for the clearing of the current output cell\nvar outputEl = gd.closest('.output');\nif (outputEl) {{\n    x.observe(outputEl, {childList: true});\n}}\n\n                        })\n                };\n                });\n            </script>\n        </div>"
     },
     "metadata": {}
    }
   ],
   "source": [
    "regd.mean().iplot(kind='bar')"
   ]
  },
  {
   "cell_type": "markdown",
   "metadata": {},
   "source": [
    "## Analyzing Intraday Data"
   ]
  },
  {
   "cell_type": "markdown",
   "metadata": {},
   "source": [
    "Let us quickly check, whether the results are similar on an **intraday basis**."
   ]
  },
  {
   "cell_type": "code",
   "execution_count": 96,
   "metadata": {},
   "outputs": [],
   "source": [
    "data = ek.get_timeseries(rics,  # RICs\n",
    "              fields='CLOSE',  # fields to be retrieved\n",
    "              start_date='2020-01-08 14:00:00',  # start time\n",
    "              end_date='2020-01-08 18:00:00',  # end time\n",
    "              interval='minute')  # bar length"
   ]
  },
  {
   "cell_type": "code",
   "execution_count": 97,
   "metadata": {},
   "outputs": [
    {
     "output_type": "stream",
     "name": "stdout",
     "text": "<class 'pandas.core.frame.DataFrame'>\nDatetimeIndex: 241 entries, 2020-01-08 14:00:00 to 2020-01-08 18:00:00\nFreq: T\nData columns (total 7 columns):\n #   Column     Non-Null Count  Dtype  \n---  ------     --------------  -----  \n 0   GE         241 non-null    float64\n 1   AAPL.O     241 non-null    float64\n 2   .SPX       210 non-null    float64\n 3   .VIX       225 non-null    float64\n 4   EUR=       241 non-null    float64\n 5   XAU=       241 non-null    float64\n 6   DE10YT=RR  241 non-null    float64\ndtypes: float64(7)\nmemory usage: 15.1 KB\n"
    }
   ],
   "source": [
    "data.info()"
   ]
  },
  {
   "cell_type": "code",
   "execution_count": 101,
   "metadata": {},
   "outputs": [
    {
     "output_type": "execute_result",
     "data": {
      "text/plain": "CLOSE                     GE    AAPL.O     .SPX   .VIX    EUR=       XAU=  \\\nDate                                                                        \n2020-01-08 17:56:00  11.9850  302.5951  3258.03  13.24  1.1116  1561.6765   \n2020-01-08 17:57:00  11.9800  302.6390  3258.41  13.23  1.1114  1561.2200   \n2020-01-08 17:58:00  11.9950  302.6776  3259.05  13.20  1.1116  1561.2950   \n2020-01-08 17:59:00  11.9942  302.7400  3259.12  13.18  1.1116  1561.4904   \n2020-01-08 18:00:00  11.9900  302.6400  3258.41  13.21  1.1116  1561.6475   \n\nCLOSE                DE10YT=RR  \nDate                            \n2020-01-08 17:56:00     -0.241  \n2020-01-08 17:57:00     -0.241  \n2020-01-08 17:58:00     -0.242  \n2020-01-08 17:59:00     -0.241  \n2020-01-08 18:00:00     -0.241  ",
      "text/html": "<div>\n<style scoped>\n    .dataframe tbody tr th:only-of-type {\n        vertical-align: middle;\n    }\n\n    .dataframe tbody tr th {\n        vertical-align: top;\n    }\n\n    .dataframe thead th {\n        text-align: right;\n    }\n</style>\n<table border=\"1\" class=\"dataframe\">\n  <thead>\n    <tr style=\"text-align: right;\">\n      <th>CLOSE</th>\n      <th>GE</th>\n      <th>AAPL.O</th>\n      <th>.SPX</th>\n      <th>.VIX</th>\n      <th>EUR=</th>\n      <th>XAU=</th>\n      <th>DE10YT=RR</th>\n    </tr>\n    <tr>\n      <th>Date</th>\n      <th></th>\n      <th></th>\n      <th></th>\n      <th></th>\n      <th></th>\n      <th></th>\n      <th></th>\n    </tr>\n  </thead>\n  <tbody>\n    <tr>\n      <th>2020-01-08 17:56:00</th>\n      <td>11.9850</td>\n      <td>302.5951</td>\n      <td>3258.03</td>\n      <td>13.24</td>\n      <td>1.1116</td>\n      <td>1561.6765</td>\n      <td>-0.241</td>\n    </tr>\n    <tr>\n      <th>2020-01-08 17:57:00</th>\n      <td>11.9800</td>\n      <td>302.6390</td>\n      <td>3258.41</td>\n      <td>13.23</td>\n      <td>1.1114</td>\n      <td>1561.2200</td>\n      <td>-0.241</td>\n    </tr>\n    <tr>\n      <th>2020-01-08 17:58:00</th>\n      <td>11.9950</td>\n      <td>302.6776</td>\n      <td>3259.05</td>\n      <td>13.20</td>\n      <td>1.1116</td>\n      <td>1561.2950</td>\n      <td>-0.242</td>\n    </tr>\n    <tr>\n      <th>2020-01-08 17:59:00</th>\n      <td>11.9942</td>\n      <td>302.7400</td>\n      <td>3259.12</td>\n      <td>13.18</td>\n      <td>1.1116</td>\n      <td>1561.4904</td>\n      <td>-0.241</td>\n    </tr>\n    <tr>\n      <th>2020-01-08 18:00:00</th>\n      <td>11.9900</td>\n      <td>302.6400</td>\n      <td>3258.41</td>\n      <td>13.21</td>\n      <td>1.1116</td>\n      <td>1561.6475</td>\n      <td>-0.241</td>\n    </tr>\n  </tbody>\n</table>\n</div>"
     },
     "metadata": {},
     "execution_count": 101
    }
   ],
   "source": [
    "data.tail()"
   ]
  },
  {
   "cell_type": "code",
   "execution_count": 102,
   "metadata": {},
   "outputs": [],
   "source": [
    "dfs = {}\n",
    "for ric in rics:\n",
    "    df, cols = add_lags(data, ric, lags)\n",
    "    dfs[ric] = df"
   ]
  },
  {
   "cell_type": "code",
   "execution_count": 103,
   "metadata": {},
   "outputs": [],
   "source": [
    "regs = {}\n",
    "for ric in rics:\n",
    "    df = dfs[ric]\n",
    "    reg = np.linalg.lstsq(df[cols], df[ric], rcond=-1)[0]\n",
    "    regs[ric] = reg"
   ]
  },
  {
   "cell_type": "code",
   "execution_count": 104,
   "metadata": {},
   "outputs": [],
   "source": [
    "rega = np.stack(regs.values())"
   ]
  },
  {
   "cell_type": "code",
   "execution_count": 105,
   "metadata": {},
   "outputs": [],
   "source": [
    "regd = pd.DataFrame(rega, columns=cols, index=rics)"
   ]
  },
  {
   "cell_type": "markdown",
   "metadata": {},
   "source": [
    "**Intraday** the optimal regression parameters show more variation."
   ]
  },
  {
   "cell_type": "code",
   "execution_count": 106,
   "metadata": {},
   "outputs": [
    {
     "output_type": "display_data",
     "data": {
      "application/vnd.plotly.v1+json": {
       "config": {
        "linkText": "Export to plot.ly",
        "plotlyServerURL": "https://plot.ly",
        "showLink": true
       },
       "data": [
        {
         "marker": {
          "color": "rgba(255, 153, 51, 0.6)",
          "line": {
           "color": "rgba(255, 153, 51, 1.0)",
           "width": 1
          }
         },
         "name": "lag_1",
         "orientation": "v",
         "text": "",
         "type": "bar",
         "x": [
          "GE",
          "AAPL.O",
          ".SPX",
          ".VIX",
          "EUR=",
          "XAU=",
          "DE10YT=RR"
         ],
         "y": [
          0.959762942930758,
          1.0899409671689508,
          1.2382161451613378,
          0.7792876978278588,
          0.8326988829870128,
          1.0615726656533095,
          0.6857946820366886
         ]
        },
        {
         "marker": {
          "color": "rgba(55, 128, 191, 0.6)",
          "line": {
           "color": "rgba(55, 128, 191, 1.0)",
           "width": 1
          }
         },
         "name": "lag_2",
         "orientation": "v",
         "text": "",
         "type": "bar",
         "x": [
          "GE",
          "AAPL.O",
          ".SPX",
          ".VIX",
          "EUR=",
          "XAU=",
          "DE10YT=RR"
         ],
         "y": [
          -0.0321177331155652,
          -0.15619309736902157,
          -0.45691907278797583,
          0.3005994839832702,
          0.10237176312687643,
          -0.14584862598452214,
          0.09197385402002084
         ]
        },
        {
         "marker": {
          "color": "rgba(50, 171, 96, 0.6)",
          "line": {
           "color": "rgba(50, 171, 96, 1.0)",
           "width": 1
          }
         },
         "name": "lag_3",
         "orientation": "v",
         "text": "",
         "type": "bar",
         "x": [
          "GE",
          "AAPL.O",
          ".SPX",
          ".VIX",
          "EUR=",
          "XAU=",
          "DE10YT=RR"
         ],
         "y": [
          0.023419107748955677,
          0.051101318659440634,
          0.33459662616303987,
          -0.05358215123336876,
          0.04048856545841304,
          0.09460560424103961,
          0.1379566062600058
         ]
        },
        {
         "marker": {
          "color": "rgba(128, 0, 128, 0.6)",
          "line": {
           "color": "rgba(128, 0, 128, 1.0)",
           "width": 1
          }
         },
         "name": "lag_4",
         "orientation": "v",
         "text": "",
         "type": "bar",
         "x": [
          "GE",
          "AAPL.O",
          ".SPX",
          ".VIX",
          "EUR=",
          "XAU=",
          "DE10YT=RR"
         ],
         "y": [
          -0.06459119053073871,
          -0.12437806478758968,
          -0.1347220735493103,
          -0.08998203892495374,
          0.021576798974289442,
          0.019471970424968753,
          -0.04565205301224236
         ]
        },
        {
         "marker": {
          "color": "rgba(219, 64, 82, 0.6)",
          "line": {
           "color": "rgba(219, 64, 82, 1.0)",
           "width": 1
          }
         },
         "name": "lag_5",
         "orientation": "v",
         "text": "",
         "type": "bar",
         "x": [
          "GE",
          "AAPL.O",
          ".SPX",
          ".VIX",
          "EUR=",
          "XAU=",
          "DE10YT=RR"
         ],
         "y": [
          0.11350497168940787,
          0.13960147587894264,
          0.01884851220190406,
          0.06344087567083143,
          0.0028632534455565323,
          -0.029837876248325054,
          0.12902395235994646
         ]
        }
       ],
       "layout": {
        "legend": {
         "bgcolor": "#F5F6F9",
         "font": {
          "color": "#4D5663"
         }
        },
        "paper_bgcolor": "#F5F6F9",
        "plot_bgcolor": "#F5F6F9",
        "template": {
         "data": {
          "bar": [
           {
            "error_x": {
             "color": "#2a3f5f"
            },
            "error_y": {
             "color": "#2a3f5f"
            },
            "marker": {
             "line": {
              "color": "#E5ECF6",
              "width": 0.5
             }
            },
            "type": "bar"
           }
          ],
          "barpolar": [
           {
            "marker": {
             "line": {
              "color": "#E5ECF6",
              "width": 0.5
             }
            },
            "type": "barpolar"
           }
          ],
          "carpet": [
           {
            "aaxis": {
             "endlinecolor": "#2a3f5f",
             "gridcolor": "white",
             "linecolor": "white",
             "minorgridcolor": "white",
             "startlinecolor": "#2a3f5f"
            },
            "baxis": {
             "endlinecolor": "#2a3f5f",
             "gridcolor": "white",
             "linecolor": "white",
             "minorgridcolor": "white",
             "startlinecolor": "#2a3f5f"
            },
            "type": "carpet"
           }
          ],
          "choropleth": [
           {
            "colorbar": {
             "outlinewidth": 0,
             "ticks": ""
            },
            "type": "choropleth"
           }
          ],
          "contour": [
           {
            "colorbar": {
             "outlinewidth": 0,
             "ticks": ""
            },
            "colorscale": [
             [
              0,
              "#0d0887"
             ],
             [
              0.1111111111111111,
              "#46039f"
             ],
             [
              0.2222222222222222,
              "#7201a8"
             ],
             [
              0.3333333333333333,
              "#9c179e"
             ],
             [
              0.4444444444444444,
              "#bd3786"
             ],
             [
              0.5555555555555556,
              "#d8576b"
             ],
             [
              0.6666666666666666,
              "#ed7953"
             ],
             [
              0.7777777777777778,
              "#fb9f3a"
             ],
             [
              0.8888888888888888,
              "#fdca26"
             ],
             [
              1,
              "#f0f921"
             ]
            ],
            "type": "contour"
           }
          ],
          "contourcarpet": [
           {
            "colorbar": {
             "outlinewidth": 0,
             "ticks": ""
            },
            "type": "contourcarpet"
           }
          ],
          "heatmap": [
           {
            "colorbar": {
             "outlinewidth": 0,
             "ticks": ""
            },
            "colorscale": [
             [
              0,
              "#0d0887"
             ],
             [
              0.1111111111111111,
              "#46039f"
             ],
             [
              0.2222222222222222,
              "#7201a8"
             ],
             [
              0.3333333333333333,
              "#9c179e"
             ],
             [
              0.4444444444444444,
              "#bd3786"
             ],
             [
              0.5555555555555556,
              "#d8576b"
             ],
             [
              0.6666666666666666,
              "#ed7953"
             ],
             [
              0.7777777777777778,
              "#fb9f3a"
             ],
             [
              0.8888888888888888,
              "#fdca26"
             ],
             [
              1,
              "#f0f921"
             ]
            ],
            "type": "heatmap"
           }
          ],
          "heatmapgl": [
           {
            "colorbar": {
             "outlinewidth": 0,
             "ticks": ""
            },
            "colorscale": [
             [
              0,
              "#0d0887"
             ],
             [
              0.1111111111111111,
              "#46039f"
             ],
             [
              0.2222222222222222,
              "#7201a8"
             ],
             [
              0.3333333333333333,
              "#9c179e"
             ],
             [
              0.4444444444444444,
              "#bd3786"
             ],
             [
              0.5555555555555556,
              "#d8576b"
             ],
             [
              0.6666666666666666,
              "#ed7953"
             ],
             [
              0.7777777777777778,
              "#fb9f3a"
             ],
             [
              0.8888888888888888,
              "#fdca26"
             ],
             [
              1,
              "#f0f921"
             ]
            ],
            "type": "heatmapgl"
           }
          ],
          "histogram": [
           {
            "marker": {
             "colorbar": {
              "outlinewidth": 0,
              "ticks": ""
             }
            },
            "type": "histogram"
           }
          ],
          "histogram2d": [
           {
            "colorbar": {
             "outlinewidth": 0,
             "ticks": ""
            },
            "colorscale": [
             [
              0,
              "#0d0887"
             ],
             [
              0.1111111111111111,
              "#46039f"
             ],
             [
              0.2222222222222222,
              "#7201a8"
             ],
             [
              0.3333333333333333,
              "#9c179e"
             ],
             [
              0.4444444444444444,
              "#bd3786"
             ],
             [
              0.5555555555555556,
              "#d8576b"
             ],
             [
              0.6666666666666666,
              "#ed7953"
             ],
             [
              0.7777777777777778,
              "#fb9f3a"
             ],
             [
              0.8888888888888888,
              "#fdca26"
             ],
             [
              1,
              "#f0f921"
             ]
            ],
            "type": "histogram2d"
           }
          ],
          "histogram2dcontour": [
           {
            "colorbar": {
             "outlinewidth": 0,
             "ticks": ""
            },
            "colorscale": [
             [
              0,
              "#0d0887"
             ],
             [
              0.1111111111111111,
              "#46039f"
             ],
             [
              0.2222222222222222,
              "#7201a8"
             ],
             [
              0.3333333333333333,
              "#9c179e"
             ],
             [
              0.4444444444444444,
              "#bd3786"
             ],
             [
              0.5555555555555556,
              "#d8576b"
             ],
             [
              0.6666666666666666,
              "#ed7953"
             ],
             [
              0.7777777777777778,
              "#fb9f3a"
             ],
             [
              0.8888888888888888,
              "#fdca26"
             ],
             [
              1,
              "#f0f921"
             ]
            ],
            "type": "histogram2dcontour"
           }
          ],
          "mesh3d": [
           {
            "colorbar": {
             "outlinewidth": 0,
             "ticks": ""
            },
            "type": "mesh3d"
           }
          ],
          "parcoords": [
           {
            "line": {
             "colorbar": {
              "outlinewidth": 0,
              "ticks": ""
             }
            },
            "type": "parcoords"
           }
          ],
          "pie": [
           {
            "automargin": true,
            "type": "pie"
           }
          ],
          "scatter": [
           {
            "marker": {
             "colorbar": {
              "outlinewidth": 0,
              "ticks": ""
             }
            },
            "type": "scatter"
           }
          ],
          "scatter3d": [
           {
            "line": {
             "colorbar": {
              "outlinewidth": 0,
              "ticks": ""
             }
            },
            "marker": {
             "colorbar": {
              "outlinewidth": 0,
              "ticks": ""
             }
            },
            "type": "scatter3d"
           }
          ],
          "scattercarpet": [
           {
            "marker": {
             "colorbar": {
              "outlinewidth": 0,
              "ticks": ""
             }
            },
            "type": "scattercarpet"
           }
          ],
          "scattergeo": [
           {
            "marker": {
             "colorbar": {
              "outlinewidth": 0,
              "ticks": ""
             }
            },
            "type": "scattergeo"
           }
          ],
          "scattergl": [
           {
            "marker": {
             "colorbar": {
              "outlinewidth": 0,
              "ticks": ""
             }
            },
            "type": "scattergl"
           }
          ],
          "scattermapbox": [
           {
            "marker": {
             "colorbar": {
              "outlinewidth": 0,
              "ticks": ""
             }
            },
            "type": "scattermapbox"
           }
          ],
          "scatterpolar": [
           {
            "marker": {
             "colorbar": {
              "outlinewidth": 0,
              "ticks": ""
             }
            },
            "type": "scatterpolar"
           }
          ],
          "scatterpolargl": [
           {
            "marker": {
             "colorbar": {
              "outlinewidth": 0,
              "ticks": ""
             }
            },
            "type": "scatterpolargl"
           }
          ],
          "scatterternary": [
           {
            "marker": {
             "colorbar": {
              "outlinewidth": 0,
              "ticks": ""
             }
            },
            "type": "scatterternary"
           }
          ],
          "surface": [
           {
            "colorbar": {
             "outlinewidth": 0,
             "ticks": ""
            },
            "colorscale": [
             [
              0,
              "#0d0887"
             ],
             [
              0.1111111111111111,
              "#46039f"
             ],
             [
              0.2222222222222222,
              "#7201a8"
             ],
             [
              0.3333333333333333,
              "#9c179e"
             ],
             [
              0.4444444444444444,
              "#bd3786"
             ],
             [
              0.5555555555555556,
              "#d8576b"
             ],
             [
              0.6666666666666666,
              "#ed7953"
             ],
             [
              0.7777777777777778,
              "#fb9f3a"
             ],
             [
              0.8888888888888888,
              "#fdca26"
             ],
             [
              1,
              "#f0f921"
             ]
            ],
            "type": "surface"
           }
          ],
          "table": [
           {
            "cells": {
             "fill": {
              "color": "#EBF0F8"
             },
             "line": {
              "color": "white"
             }
            },
            "header": {
             "fill": {
              "color": "#C8D4E3"
             },
             "line": {
              "color": "white"
             }
            },
            "type": "table"
           }
          ]
         },
         "layout": {
          "annotationdefaults": {
           "arrowcolor": "#2a3f5f",
           "arrowhead": 0,
           "arrowwidth": 1
          },
          "coloraxis": {
           "colorbar": {
            "outlinewidth": 0,
            "ticks": ""
           }
          },
          "colorscale": {
           "diverging": [
            [
             0,
             "#8e0152"
            ],
            [
             0.1,
             "#c51b7d"
            ],
            [
             0.2,
             "#de77ae"
            ],
            [
             0.3,
             "#f1b6da"
            ],
            [
             0.4,
             "#fde0ef"
            ],
            [
             0.5,
             "#f7f7f7"
            ],
            [
             0.6,
             "#e6f5d0"
            ],
            [
             0.7,
             "#b8e186"
            ],
            [
             0.8,
             "#7fbc41"
            ],
            [
             0.9,
             "#4d9221"
            ],
            [
             1,
             "#276419"
            ]
           ],
           "sequential": [
            [
             0,
             "#0d0887"
            ],
            [
             0.1111111111111111,
             "#46039f"
            ],
            [
             0.2222222222222222,
             "#7201a8"
            ],
            [
             0.3333333333333333,
             "#9c179e"
            ],
            [
             0.4444444444444444,
             "#bd3786"
            ],
            [
             0.5555555555555556,
             "#d8576b"
            ],
            [
             0.6666666666666666,
             "#ed7953"
            ],
            [
             0.7777777777777778,
             "#fb9f3a"
            ],
            [
             0.8888888888888888,
             "#fdca26"
            ],
            [
             1,
             "#f0f921"
            ]
           ],
           "sequentialminus": [
            [
             0,
             "#0d0887"
            ],
            [
             0.1111111111111111,
             "#46039f"
            ],
            [
             0.2222222222222222,
             "#7201a8"
            ],
            [
             0.3333333333333333,
             "#9c179e"
            ],
            [
             0.4444444444444444,
             "#bd3786"
            ],
            [
             0.5555555555555556,
             "#d8576b"
            ],
            [
             0.6666666666666666,
             "#ed7953"
            ],
            [
             0.7777777777777778,
             "#fb9f3a"
            ],
            [
             0.8888888888888888,
             "#fdca26"
            ],
            [
             1,
             "#f0f921"
            ]
           ]
          },
          "colorway": [
           "#636efa",
           "#EF553B",
           "#00cc96",
           "#ab63fa",
           "#FFA15A",
           "#19d3f3",
           "#FF6692",
           "#B6E880",
           "#FF97FF",
           "#FECB52"
          ],
          "font": {
           "color": "#2a3f5f"
          },
          "geo": {
           "bgcolor": "white",
           "lakecolor": "white",
           "landcolor": "#E5ECF6",
           "showlakes": true,
           "showland": true,
           "subunitcolor": "white"
          },
          "hoverlabel": {
           "align": "left"
          },
          "hovermode": "closest",
          "mapbox": {
           "style": "light"
          },
          "paper_bgcolor": "white",
          "plot_bgcolor": "#E5ECF6",
          "polar": {
           "angularaxis": {
            "gridcolor": "white",
            "linecolor": "white",
            "ticks": ""
           },
           "bgcolor": "#E5ECF6",
           "radialaxis": {
            "gridcolor": "white",
            "linecolor": "white",
            "ticks": ""
           }
          },
          "scene": {
           "xaxis": {
            "backgroundcolor": "#E5ECF6",
            "gridcolor": "white",
            "gridwidth": 2,
            "linecolor": "white",
            "showbackground": true,
            "ticks": "",
            "zerolinecolor": "white"
           },
           "yaxis": {
            "backgroundcolor": "#E5ECF6",
            "gridcolor": "white",
            "gridwidth": 2,
            "linecolor": "white",
            "showbackground": true,
            "ticks": "",
            "zerolinecolor": "white"
           },
           "zaxis": {
            "backgroundcolor": "#E5ECF6",
            "gridcolor": "white",
            "gridwidth": 2,
            "linecolor": "white",
            "showbackground": true,
            "ticks": "",
            "zerolinecolor": "white"
           }
          },
          "shapedefaults": {
           "line": {
            "color": "#2a3f5f"
           }
          },
          "ternary": {
           "aaxis": {
            "gridcolor": "white",
            "linecolor": "white",
            "ticks": ""
           },
           "baxis": {
            "gridcolor": "white",
            "linecolor": "white",
            "ticks": ""
           },
           "bgcolor": "#E5ECF6",
           "caxis": {
            "gridcolor": "white",
            "linecolor": "white",
            "ticks": ""
           }
          },
          "title": {
           "x": 0.05
          },
          "xaxis": {
           "automargin": true,
           "gridcolor": "white",
           "linecolor": "white",
           "ticks": "",
           "title": {
            "standoff": 15
           },
           "zerolinecolor": "white",
           "zerolinewidth": 2
          },
          "yaxis": {
           "automargin": true,
           "gridcolor": "white",
           "linecolor": "white",
           "ticks": "",
           "title": {
            "standoff": 15
           },
           "zerolinecolor": "white",
           "zerolinewidth": 2
          }
         }
        },
        "title": {
         "font": {
          "color": "#4D5663"
         }
        },
        "xaxis": {
         "gridcolor": "#E1E5ED",
         "showgrid": true,
         "tickfont": {
          "color": "#4D5663"
         },
         "title": {
          "font": {
           "color": "#4D5663"
          },
          "text": ""
         },
         "zerolinecolor": "#E1E5ED"
        },
        "yaxis": {
         "gridcolor": "#E1E5ED",
         "showgrid": true,
         "tickfont": {
          "color": "#4D5663"
         },
         "title": {
          "font": {
           "color": "#4D5663"
          },
          "text": ""
         },
         "zerolinecolor": "#E1E5ED"
        }
       }
      },
      "text/html": "<div>\n        \n        \n            <div id=\"09695783-e0a2-4e24-a8f1-c15845ee10f9\" class=\"plotly-graph-div\" style=\"height:525px; width:100%;\"></div>\n            <script type=\"text/javascript\">\n                require([\"plotly\"], function(Plotly) {\n                    window.PLOTLYENV=window.PLOTLYENV || {};\n                    window.PLOTLYENV.BASE_URL='https://plot.ly';\n                    \n                if (document.getElementById(\"09695783-e0a2-4e24-a8f1-c15845ee10f9\")) {\n                    Plotly.newPlot(\n                        '09695783-e0a2-4e24-a8f1-c15845ee10f9',\n                        [{\"marker\": {\"color\": \"rgba(255, 153, 51, 0.6)\", \"line\": {\"color\": \"rgba(255, 153, 51, 1.0)\", \"width\": 1}}, \"name\": \"lag_1\", \"orientation\": \"v\", \"text\": \"\", \"type\": \"bar\", \"x\": [\"GE\", \"AAPL.O\", \".SPX\", \".VIX\", \"EUR=\", \"XAU=\", \"DE10YT=RR\"], \"y\": [0.959762942930758, 1.0899409671689508, 1.2382161451613378, 0.7792876978278588, 0.8326988829870128, 1.0615726656533095, 0.6857946820366886]}, {\"marker\": {\"color\": \"rgba(55, 128, 191, 0.6)\", \"line\": {\"color\": \"rgba(55, 128, 191, 1.0)\", \"width\": 1}}, \"name\": \"lag_2\", \"orientation\": \"v\", \"text\": \"\", \"type\": \"bar\", \"x\": [\"GE\", \"AAPL.O\", \".SPX\", \".VIX\", \"EUR=\", \"XAU=\", \"DE10YT=RR\"], \"y\": [-0.0321177331155652, -0.15619309736902157, -0.45691907278797583, 0.3005994839832702, 0.10237176312687643, -0.14584862598452214, 0.09197385402002084]}, {\"marker\": {\"color\": \"rgba(50, 171, 96, 0.6)\", \"line\": {\"color\": \"rgba(50, 171, 96, 1.0)\", \"width\": 1}}, \"name\": \"lag_3\", \"orientation\": \"v\", \"text\": \"\", \"type\": \"bar\", \"x\": [\"GE\", \"AAPL.O\", \".SPX\", \".VIX\", \"EUR=\", \"XAU=\", \"DE10YT=RR\"], \"y\": [0.023419107748955677, 0.051101318659440634, 0.33459662616303987, -0.05358215123336876, 0.04048856545841304, 0.09460560424103961, 0.1379566062600058]}, {\"marker\": {\"color\": \"rgba(128, 0, 128, 0.6)\", \"line\": {\"color\": \"rgba(128, 0, 128, 1.0)\", \"width\": 1}}, \"name\": \"lag_4\", \"orientation\": \"v\", \"text\": \"\", \"type\": \"bar\", \"x\": [\"GE\", \"AAPL.O\", \".SPX\", \".VIX\", \"EUR=\", \"XAU=\", \"DE10YT=RR\"], \"y\": [-0.06459119053073871, -0.12437806478758968, -0.1347220735493103, -0.08998203892495374, 0.021576798974289442, 0.019471970424968753, -0.04565205301224236]}, {\"marker\": {\"color\": \"rgba(219, 64, 82, 0.6)\", \"line\": {\"color\": \"rgba(219, 64, 82, 1.0)\", \"width\": 1}}, \"name\": \"lag_5\", \"orientation\": \"v\", \"text\": \"\", \"type\": \"bar\", \"x\": [\"GE\", \"AAPL.O\", \".SPX\", \".VIX\", \"EUR=\", \"XAU=\", \"DE10YT=RR\"], \"y\": [0.11350497168940787, 0.13960147587894264, 0.01884851220190406, 0.06344087567083143, 0.0028632534455565323, -0.029837876248325054, 0.12902395235994646]}],\n                        {\"legend\": {\"bgcolor\": \"#F5F6F9\", \"font\": {\"color\": \"#4D5663\"}}, \"paper_bgcolor\": \"#F5F6F9\", \"plot_bgcolor\": \"#F5F6F9\", \"template\": {\"data\": {\"bar\": [{\"error_x\": {\"color\": \"#2a3f5f\"}, \"error_y\": {\"color\": \"#2a3f5f\"}, \"marker\": {\"line\": {\"color\": \"#E5ECF6\", \"width\": 0.5}}, \"type\": \"bar\"}], \"barpolar\": [{\"marker\": {\"line\": {\"color\": \"#E5ECF6\", \"width\": 0.5}}, \"type\": \"barpolar\"}], \"carpet\": [{\"aaxis\": {\"endlinecolor\": \"#2a3f5f\", \"gridcolor\": \"white\", \"linecolor\": \"white\", \"minorgridcolor\": \"white\", \"startlinecolor\": \"#2a3f5f\"}, \"baxis\": {\"endlinecolor\": \"#2a3f5f\", \"gridcolor\": \"white\", \"linecolor\": \"white\", \"minorgridcolor\": \"white\", \"startlinecolor\": \"#2a3f5f\"}, \"type\": \"carpet\"}], \"choropleth\": [{\"colorbar\": {\"outlinewidth\": 0, \"ticks\": \"\"}, \"type\": \"choropleth\"}], \"contour\": [{\"colorbar\": {\"outlinewidth\": 0, \"ticks\": \"\"}, \"colorscale\": [[0.0, \"#0d0887\"], [0.1111111111111111, \"#46039f\"], [0.2222222222222222, \"#7201a8\"], [0.3333333333333333, \"#9c179e\"], [0.4444444444444444, \"#bd3786\"], [0.5555555555555556, \"#d8576b\"], [0.6666666666666666, \"#ed7953\"], [0.7777777777777778, \"#fb9f3a\"], [0.8888888888888888, \"#fdca26\"], [1.0, \"#f0f921\"]], \"type\": \"contour\"}], \"contourcarpet\": [{\"colorbar\": {\"outlinewidth\": 0, \"ticks\": \"\"}, \"type\": \"contourcarpet\"}], \"heatmap\": [{\"colorbar\": {\"outlinewidth\": 0, \"ticks\": \"\"}, \"colorscale\": [[0.0, \"#0d0887\"], [0.1111111111111111, \"#46039f\"], [0.2222222222222222, \"#7201a8\"], [0.3333333333333333, \"#9c179e\"], [0.4444444444444444, \"#bd3786\"], [0.5555555555555556, \"#d8576b\"], [0.6666666666666666, \"#ed7953\"], [0.7777777777777778, \"#fb9f3a\"], [0.8888888888888888, \"#fdca26\"], [1.0, \"#f0f921\"]], \"type\": \"heatmap\"}], \"heatmapgl\": [{\"colorbar\": {\"outlinewidth\": 0, \"ticks\": \"\"}, \"colorscale\": [[0.0, \"#0d0887\"], [0.1111111111111111, \"#46039f\"], [0.2222222222222222, \"#7201a8\"], [0.3333333333333333, \"#9c179e\"], [0.4444444444444444, \"#bd3786\"], [0.5555555555555556, \"#d8576b\"], [0.6666666666666666, \"#ed7953\"], [0.7777777777777778, \"#fb9f3a\"], [0.8888888888888888, \"#fdca26\"], [1.0, \"#f0f921\"]], \"type\": \"heatmapgl\"}], \"histogram\": [{\"marker\": {\"colorbar\": {\"outlinewidth\": 0, \"ticks\": \"\"}}, \"type\": \"histogram\"}], \"histogram2d\": [{\"colorbar\": {\"outlinewidth\": 0, \"ticks\": \"\"}, \"colorscale\": [[0.0, \"#0d0887\"], [0.1111111111111111, \"#46039f\"], [0.2222222222222222, \"#7201a8\"], [0.3333333333333333, \"#9c179e\"], [0.4444444444444444, \"#bd3786\"], [0.5555555555555556, \"#d8576b\"], [0.6666666666666666, \"#ed7953\"], [0.7777777777777778, \"#fb9f3a\"], [0.8888888888888888, \"#fdca26\"], [1.0, \"#f0f921\"]], \"type\": \"histogram2d\"}], \"histogram2dcontour\": [{\"colorbar\": {\"outlinewidth\": 0, \"ticks\": \"\"}, \"colorscale\": [[0.0, \"#0d0887\"], [0.1111111111111111, \"#46039f\"], [0.2222222222222222, \"#7201a8\"], [0.3333333333333333, \"#9c179e\"], [0.4444444444444444, \"#bd3786\"], [0.5555555555555556, \"#d8576b\"], [0.6666666666666666, \"#ed7953\"], [0.7777777777777778, \"#fb9f3a\"], [0.8888888888888888, \"#fdca26\"], [1.0, \"#f0f921\"]], \"type\": \"histogram2dcontour\"}], \"mesh3d\": [{\"colorbar\": {\"outlinewidth\": 0, \"ticks\": \"\"}, \"type\": \"mesh3d\"}], \"parcoords\": [{\"line\": {\"colorbar\": {\"outlinewidth\": 0, \"ticks\": \"\"}}, \"type\": \"parcoords\"}], \"pie\": [{\"automargin\": true, \"type\": \"pie\"}], \"scatter\": [{\"marker\": {\"colorbar\": {\"outlinewidth\": 0, \"ticks\": \"\"}}, \"type\": \"scatter\"}], \"scatter3d\": [{\"line\": {\"colorbar\": {\"outlinewidth\": 0, \"ticks\": \"\"}}, \"marker\": {\"colorbar\": {\"outlinewidth\": 0, \"ticks\": \"\"}}, \"type\": \"scatter3d\"}], \"scattercarpet\": [{\"marker\": {\"colorbar\": {\"outlinewidth\": 0, \"ticks\": \"\"}}, \"type\": \"scattercarpet\"}], \"scattergeo\": [{\"marker\": {\"colorbar\": {\"outlinewidth\": 0, \"ticks\": \"\"}}, \"type\": \"scattergeo\"}], \"scattergl\": [{\"marker\": {\"colorbar\": {\"outlinewidth\": 0, \"ticks\": \"\"}}, \"type\": \"scattergl\"}], \"scattermapbox\": [{\"marker\": {\"colorbar\": {\"outlinewidth\": 0, \"ticks\": \"\"}}, \"type\": \"scattermapbox\"}], \"scatterpolar\": [{\"marker\": {\"colorbar\": {\"outlinewidth\": 0, \"ticks\": \"\"}}, \"type\": \"scatterpolar\"}], \"scatterpolargl\": [{\"marker\": {\"colorbar\": {\"outlinewidth\": 0, \"ticks\": \"\"}}, \"type\": \"scatterpolargl\"}], \"scatterternary\": [{\"marker\": {\"colorbar\": {\"outlinewidth\": 0, \"ticks\": \"\"}}, \"type\": \"scatterternary\"}], \"surface\": [{\"colorbar\": {\"outlinewidth\": 0, \"ticks\": \"\"}, \"colorscale\": [[0.0, \"#0d0887\"], [0.1111111111111111, \"#46039f\"], [0.2222222222222222, \"#7201a8\"], [0.3333333333333333, \"#9c179e\"], [0.4444444444444444, \"#bd3786\"], [0.5555555555555556, \"#d8576b\"], [0.6666666666666666, \"#ed7953\"], [0.7777777777777778, \"#fb9f3a\"], [0.8888888888888888, \"#fdca26\"], [1.0, \"#f0f921\"]], \"type\": \"surface\"}], \"table\": [{\"cells\": {\"fill\": {\"color\": \"#EBF0F8\"}, \"line\": {\"color\": \"white\"}}, \"header\": {\"fill\": {\"color\": \"#C8D4E3\"}, \"line\": {\"color\": \"white\"}}, \"type\": \"table\"}]}, \"layout\": {\"annotationdefaults\": {\"arrowcolor\": \"#2a3f5f\", \"arrowhead\": 0, \"arrowwidth\": 1}, \"coloraxis\": {\"colorbar\": {\"outlinewidth\": 0, \"ticks\": \"\"}}, \"colorscale\": {\"diverging\": [[0, \"#8e0152\"], [0.1, \"#c51b7d\"], [0.2, \"#de77ae\"], [0.3, \"#f1b6da\"], [0.4, \"#fde0ef\"], [0.5, \"#f7f7f7\"], [0.6, \"#e6f5d0\"], [0.7, \"#b8e186\"], [0.8, \"#7fbc41\"], [0.9, \"#4d9221\"], [1, \"#276419\"]], \"sequential\": [[0.0, \"#0d0887\"], [0.1111111111111111, \"#46039f\"], [0.2222222222222222, \"#7201a8\"], [0.3333333333333333, \"#9c179e\"], [0.4444444444444444, \"#bd3786\"], [0.5555555555555556, \"#d8576b\"], [0.6666666666666666, \"#ed7953\"], [0.7777777777777778, \"#fb9f3a\"], [0.8888888888888888, \"#fdca26\"], [1.0, \"#f0f921\"]], \"sequentialminus\": [[0.0, \"#0d0887\"], [0.1111111111111111, \"#46039f\"], [0.2222222222222222, \"#7201a8\"], [0.3333333333333333, \"#9c179e\"], [0.4444444444444444, \"#bd3786\"], [0.5555555555555556, \"#d8576b\"], [0.6666666666666666, \"#ed7953\"], [0.7777777777777778, \"#fb9f3a\"], [0.8888888888888888, \"#fdca26\"], [1.0, \"#f0f921\"]]}, \"colorway\": [\"#636efa\", \"#EF553B\", \"#00cc96\", \"#ab63fa\", \"#FFA15A\", \"#19d3f3\", \"#FF6692\", \"#B6E880\", \"#FF97FF\", \"#FECB52\"], \"font\": {\"color\": \"#2a3f5f\"}, \"geo\": {\"bgcolor\": \"white\", \"lakecolor\": \"white\", \"landcolor\": \"#E5ECF6\", \"showlakes\": true, \"showland\": true, \"subunitcolor\": \"white\"}, \"hoverlabel\": {\"align\": \"left\"}, \"hovermode\": \"closest\", \"mapbox\": {\"style\": \"light\"}, \"paper_bgcolor\": \"white\", \"plot_bgcolor\": \"#E5ECF6\", \"polar\": {\"angularaxis\": {\"gridcolor\": \"white\", \"linecolor\": \"white\", \"ticks\": \"\"}, \"bgcolor\": \"#E5ECF6\", \"radialaxis\": {\"gridcolor\": \"white\", \"linecolor\": \"white\", \"ticks\": \"\"}}, \"scene\": {\"xaxis\": {\"backgroundcolor\": \"#E5ECF6\", \"gridcolor\": \"white\", \"gridwidth\": 2, \"linecolor\": \"white\", \"showbackground\": true, \"ticks\": \"\", \"zerolinecolor\": \"white\"}, \"yaxis\": {\"backgroundcolor\": \"#E5ECF6\", \"gridcolor\": \"white\", \"gridwidth\": 2, \"linecolor\": \"white\", \"showbackground\": true, \"ticks\": \"\", \"zerolinecolor\": \"white\"}, \"zaxis\": {\"backgroundcolor\": \"#E5ECF6\", \"gridcolor\": \"white\", \"gridwidth\": 2, \"linecolor\": \"white\", \"showbackground\": true, \"ticks\": \"\", \"zerolinecolor\": \"white\"}}, \"shapedefaults\": {\"line\": {\"color\": \"#2a3f5f\"}}, \"ternary\": {\"aaxis\": {\"gridcolor\": \"white\", \"linecolor\": \"white\", \"ticks\": \"\"}, \"baxis\": {\"gridcolor\": \"white\", \"linecolor\": \"white\", \"ticks\": \"\"}, \"bgcolor\": \"#E5ECF6\", \"caxis\": {\"gridcolor\": \"white\", \"linecolor\": \"white\", \"ticks\": \"\"}}, \"title\": {\"x\": 0.05}, \"xaxis\": {\"automargin\": true, \"gridcolor\": \"white\", \"linecolor\": \"white\", \"ticks\": \"\", \"title\": {\"standoff\": 15}, \"zerolinecolor\": \"white\", \"zerolinewidth\": 2}, \"yaxis\": {\"automargin\": true, \"gridcolor\": \"white\", \"linecolor\": \"white\", \"ticks\": \"\", \"title\": {\"standoff\": 15}, \"zerolinecolor\": \"white\", \"zerolinewidth\": 2}}}, \"title\": {\"font\": {\"color\": \"#4D5663\"}}, \"xaxis\": {\"gridcolor\": \"#E1E5ED\", \"showgrid\": true, \"tickfont\": {\"color\": \"#4D5663\"}, \"title\": {\"font\": {\"color\": \"#4D5663\"}, \"text\": \"\"}, \"zerolinecolor\": \"#E1E5ED\"}, \"yaxis\": {\"gridcolor\": \"#E1E5ED\", \"showgrid\": true, \"tickfont\": {\"color\": \"#4D5663\"}, \"title\": {\"font\": {\"color\": \"#4D5663\"}, \"text\": \"\"}, \"zerolinecolor\": \"#E1E5ED\"}},\n                        {\"showLink\": true, \"linkText\": \"Export to plot.ly\", \"plotlyServerURL\": \"https://plot.ly\", \"responsive\": true}\n                    ).then(function(){\n                            \nvar gd = document.getElementById('09695783-e0a2-4e24-a8f1-c15845ee10f9');\nvar x = new MutationObserver(function (mutations, observer) {{\n        var display = window.getComputedStyle(gd).display;\n        if (!display || display === 'none') {{\n            console.log([gd, 'removed!']);\n            Plotly.purge(gd);\n            observer.disconnect();\n        }}\n}});\n\n// Listen for the removal of the full notebook cells\nvar notebookContainer = gd.closest('#notebook-container');\nif (notebookContainer) {{\n    x.observe(notebookContainer, {childList: true});\n}}\n\n// Listen for the clearing of the current output cell\nvar outputEl = gd.closest('.output');\nif (outputEl) {{\n    x.observe(outputEl, {childList: true});\n}}\n\n                        })\n                };\n                });\n            </script>\n        </div>"
     },
     "metadata": {}
    }
   ],
   "source": [
    "regd.iplot(kind='bar')"
   ]
  },
  {
   "cell_type": "code",
   "execution_count": 107,
   "metadata": {
    "scrolled": false
   },
   "outputs": [
    {
     "output_type": "display_data",
     "data": {
      "application/vnd.plotly.v1+json": {
       "config": {
        "linkText": "Export to plot.ly",
        "plotlyServerURL": "https://plot.ly",
        "showLink": true
       },
       "data": [
        {
         "marker": {
          "color": "rgba(255, 153, 51, 0.6)",
          "line": {
           "color": "rgba(255, 153, 51, 1.0)",
           "width": 1
          }
         },
         "name": "None",
         "orientation": "v",
         "text": "",
         "type": "bar",
         "x": [
          "lag_1",
          "lag_2",
          "lag_3",
          "lag_4",
          "lag_5"
         ],
         "y": [
          0.9496105691094167,
          -0.04230477544670247,
          0.08979795389964655,
          -0.059753807343653806,
          0.062492166428323434
         ]
        }
       ],
       "layout": {
        "legend": {
         "bgcolor": "#F5F6F9",
         "font": {
          "color": "#4D5663"
         }
        },
        "paper_bgcolor": "#F5F6F9",
        "plot_bgcolor": "#F5F6F9",
        "template": {
         "data": {
          "bar": [
           {
            "error_x": {
             "color": "#2a3f5f"
            },
            "error_y": {
             "color": "#2a3f5f"
            },
            "marker": {
             "line": {
              "color": "#E5ECF6",
              "width": 0.5
             }
            },
            "type": "bar"
           }
          ],
          "barpolar": [
           {
            "marker": {
             "line": {
              "color": "#E5ECF6",
              "width": 0.5
             }
            },
            "type": "barpolar"
           }
          ],
          "carpet": [
           {
            "aaxis": {
             "endlinecolor": "#2a3f5f",
             "gridcolor": "white",
             "linecolor": "white",
             "minorgridcolor": "white",
             "startlinecolor": "#2a3f5f"
            },
            "baxis": {
             "endlinecolor": "#2a3f5f",
             "gridcolor": "white",
             "linecolor": "white",
             "minorgridcolor": "white",
             "startlinecolor": "#2a3f5f"
            },
            "type": "carpet"
           }
          ],
          "choropleth": [
           {
            "colorbar": {
             "outlinewidth": 0,
             "ticks": ""
            },
            "type": "choropleth"
           }
          ],
          "contour": [
           {
            "colorbar": {
             "outlinewidth": 0,
             "ticks": ""
            },
            "colorscale": [
             [
              0,
              "#0d0887"
             ],
             [
              0.1111111111111111,
              "#46039f"
             ],
             [
              0.2222222222222222,
              "#7201a8"
             ],
             [
              0.3333333333333333,
              "#9c179e"
             ],
             [
              0.4444444444444444,
              "#bd3786"
             ],
             [
              0.5555555555555556,
              "#d8576b"
             ],
             [
              0.6666666666666666,
              "#ed7953"
             ],
             [
              0.7777777777777778,
              "#fb9f3a"
             ],
             [
              0.8888888888888888,
              "#fdca26"
             ],
             [
              1,
              "#f0f921"
             ]
            ],
            "type": "contour"
           }
          ],
          "contourcarpet": [
           {
            "colorbar": {
             "outlinewidth": 0,
             "ticks": ""
            },
            "type": "contourcarpet"
           }
          ],
          "heatmap": [
           {
            "colorbar": {
             "outlinewidth": 0,
             "ticks": ""
            },
            "colorscale": [
             [
              0,
              "#0d0887"
             ],
             [
              0.1111111111111111,
              "#46039f"
             ],
             [
              0.2222222222222222,
              "#7201a8"
             ],
             [
              0.3333333333333333,
              "#9c179e"
             ],
             [
              0.4444444444444444,
              "#bd3786"
             ],
             [
              0.5555555555555556,
              "#d8576b"
             ],
             [
              0.6666666666666666,
              "#ed7953"
             ],
             [
              0.7777777777777778,
              "#fb9f3a"
             ],
             [
              0.8888888888888888,
              "#fdca26"
             ],
             [
              1,
              "#f0f921"
             ]
            ],
            "type": "heatmap"
           }
          ],
          "heatmapgl": [
           {
            "colorbar": {
             "outlinewidth": 0,
             "ticks": ""
            },
            "colorscale": [
             [
              0,
              "#0d0887"
             ],
             [
              0.1111111111111111,
              "#46039f"
             ],
             [
              0.2222222222222222,
              "#7201a8"
             ],
             [
              0.3333333333333333,
              "#9c179e"
             ],
             [
              0.4444444444444444,
              "#bd3786"
             ],
             [
              0.5555555555555556,
              "#d8576b"
             ],
             [
              0.6666666666666666,
              "#ed7953"
             ],
             [
              0.7777777777777778,
              "#fb9f3a"
             ],
             [
              0.8888888888888888,
              "#fdca26"
             ],
             [
              1,
              "#f0f921"
             ]
            ],
            "type": "heatmapgl"
           }
          ],
          "histogram": [
           {
            "marker": {
             "colorbar": {
              "outlinewidth": 0,
              "ticks": ""
             }
            },
            "type": "histogram"
           }
          ],
          "histogram2d": [
           {
            "colorbar": {
             "outlinewidth": 0,
             "ticks": ""
            },
            "colorscale": [
             [
              0,
              "#0d0887"
             ],
             [
              0.1111111111111111,
              "#46039f"
             ],
             [
              0.2222222222222222,
              "#7201a8"
             ],
             [
              0.3333333333333333,
              "#9c179e"
             ],
             [
              0.4444444444444444,
              "#bd3786"
             ],
             [
              0.5555555555555556,
              "#d8576b"
             ],
             [
              0.6666666666666666,
              "#ed7953"
             ],
             [
              0.7777777777777778,
              "#fb9f3a"
             ],
             [
              0.8888888888888888,
              "#fdca26"
             ],
             [
              1,
              "#f0f921"
             ]
            ],
            "type": "histogram2d"
           }
          ],
          "histogram2dcontour": [
           {
            "colorbar": {
             "outlinewidth": 0,
             "ticks": ""
            },
            "colorscale": [
             [
              0,
              "#0d0887"
             ],
             [
              0.1111111111111111,
              "#46039f"
             ],
             [
              0.2222222222222222,
              "#7201a8"
             ],
             [
              0.3333333333333333,
              "#9c179e"
             ],
             [
              0.4444444444444444,
              "#bd3786"
             ],
             [
              0.5555555555555556,
              "#d8576b"
             ],
             [
              0.6666666666666666,
              "#ed7953"
             ],
             [
              0.7777777777777778,
              "#fb9f3a"
             ],
             [
              0.8888888888888888,
              "#fdca26"
             ],
             [
              1,
              "#f0f921"
             ]
            ],
            "type": "histogram2dcontour"
           }
          ],
          "mesh3d": [
           {
            "colorbar": {
             "outlinewidth": 0,
             "ticks": ""
            },
            "type": "mesh3d"
           }
          ],
          "parcoords": [
           {
            "line": {
             "colorbar": {
              "outlinewidth": 0,
              "ticks": ""
             }
            },
            "type": "parcoords"
           }
          ],
          "pie": [
           {
            "automargin": true,
            "type": "pie"
           }
          ],
          "scatter": [
           {
            "marker": {
             "colorbar": {
              "outlinewidth": 0,
              "ticks": ""
             }
            },
            "type": "scatter"
           }
          ],
          "scatter3d": [
           {
            "line": {
             "colorbar": {
              "outlinewidth": 0,
              "ticks": ""
             }
            },
            "marker": {
             "colorbar": {
              "outlinewidth": 0,
              "ticks": ""
             }
            },
            "type": "scatter3d"
           }
          ],
          "scattercarpet": [
           {
            "marker": {
             "colorbar": {
              "outlinewidth": 0,
              "ticks": ""
             }
            },
            "type": "scattercarpet"
           }
          ],
          "scattergeo": [
           {
            "marker": {
             "colorbar": {
              "outlinewidth": 0,
              "ticks": ""
             }
            },
            "type": "scattergeo"
           }
          ],
          "scattergl": [
           {
            "marker": {
             "colorbar": {
              "outlinewidth": 0,
              "ticks": ""
             }
            },
            "type": "scattergl"
           }
          ],
          "scattermapbox": [
           {
            "marker": {
             "colorbar": {
              "outlinewidth": 0,
              "ticks": ""
             }
            },
            "type": "scattermapbox"
           }
          ],
          "scatterpolar": [
           {
            "marker": {
             "colorbar": {
              "outlinewidth": 0,
              "ticks": ""
             }
            },
            "type": "scatterpolar"
           }
          ],
          "scatterpolargl": [
           {
            "marker": {
             "colorbar": {
              "outlinewidth": 0,
              "ticks": ""
             }
            },
            "type": "scatterpolargl"
           }
          ],
          "scatterternary": [
           {
            "marker": {
             "colorbar": {
              "outlinewidth": 0,
              "ticks": ""
             }
            },
            "type": "scatterternary"
           }
          ],
          "surface": [
           {
            "colorbar": {
             "outlinewidth": 0,
             "ticks": ""
            },
            "colorscale": [
             [
              0,
              "#0d0887"
             ],
             [
              0.1111111111111111,
              "#46039f"
             ],
             [
              0.2222222222222222,
              "#7201a8"
             ],
             [
              0.3333333333333333,
              "#9c179e"
             ],
             [
              0.4444444444444444,
              "#bd3786"
             ],
             [
              0.5555555555555556,
              "#d8576b"
             ],
             [
              0.6666666666666666,
              "#ed7953"
             ],
             [
              0.7777777777777778,
              "#fb9f3a"
             ],
             [
              0.8888888888888888,
              "#fdca26"
             ],
             [
              1,
              "#f0f921"
             ]
            ],
            "type": "surface"
           }
          ],
          "table": [
           {
            "cells": {
             "fill": {
              "color": "#EBF0F8"
             },
             "line": {
              "color": "white"
             }
            },
            "header": {
             "fill": {
              "color": "#C8D4E3"
             },
             "line": {
              "color": "white"
             }
            },
            "type": "table"
           }
          ]
         },
         "layout": {
          "annotationdefaults": {
           "arrowcolor": "#2a3f5f",
           "arrowhead": 0,
           "arrowwidth": 1
          },
          "coloraxis": {
           "colorbar": {
            "outlinewidth": 0,
            "ticks": ""
           }
          },
          "colorscale": {
           "diverging": [
            [
             0,
             "#8e0152"
            ],
            [
             0.1,
             "#c51b7d"
            ],
            [
             0.2,
             "#de77ae"
            ],
            [
             0.3,
             "#f1b6da"
            ],
            [
             0.4,
             "#fde0ef"
            ],
            [
             0.5,
             "#f7f7f7"
            ],
            [
             0.6,
             "#e6f5d0"
            ],
            [
             0.7,
             "#b8e186"
            ],
            [
             0.8,
             "#7fbc41"
            ],
            [
             0.9,
             "#4d9221"
            ],
            [
             1,
             "#276419"
            ]
           ],
           "sequential": [
            [
             0,
             "#0d0887"
            ],
            [
             0.1111111111111111,
             "#46039f"
            ],
            [
             0.2222222222222222,
             "#7201a8"
            ],
            [
             0.3333333333333333,
             "#9c179e"
            ],
            [
             0.4444444444444444,
             "#bd3786"
            ],
            [
             0.5555555555555556,
             "#d8576b"
            ],
            [
             0.6666666666666666,
             "#ed7953"
            ],
            [
             0.7777777777777778,
             "#fb9f3a"
            ],
            [
             0.8888888888888888,
             "#fdca26"
            ],
            [
             1,
             "#f0f921"
            ]
           ],
           "sequentialminus": [
            [
             0,
             "#0d0887"
            ],
            [
             0.1111111111111111,
             "#46039f"
            ],
            [
             0.2222222222222222,
             "#7201a8"
            ],
            [
             0.3333333333333333,
             "#9c179e"
            ],
            [
             0.4444444444444444,
             "#bd3786"
            ],
            [
             0.5555555555555556,
             "#d8576b"
            ],
            [
             0.6666666666666666,
             "#ed7953"
            ],
            [
             0.7777777777777778,
             "#fb9f3a"
            ],
            [
             0.8888888888888888,
             "#fdca26"
            ],
            [
             1,
             "#f0f921"
            ]
           ]
          },
          "colorway": [
           "#636efa",
           "#EF553B",
           "#00cc96",
           "#ab63fa",
           "#FFA15A",
           "#19d3f3",
           "#FF6692",
           "#B6E880",
           "#FF97FF",
           "#FECB52"
          ],
          "font": {
           "color": "#2a3f5f"
          },
          "geo": {
           "bgcolor": "white",
           "lakecolor": "white",
           "landcolor": "#E5ECF6",
           "showlakes": true,
           "showland": true,
           "subunitcolor": "white"
          },
          "hoverlabel": {
           "align": "left"
          },
          "hovermode": "closest",
          "mapbox": {
           "style": "light"
          },
          "paper_bgcolor": "white",
          "plot_bgcolor": "#E5ECF6",
          "polar": {
           "angularaxis": {
            "gridcolor": "white",
            "linecolor": "white",
            "ticks": ""
           },
           "bgcolor": "#E5ECF6",
           "radialaxis": {
            "gridcolor": "white",
            "linecolor": "white",
            "ticks": ""
           }
          },
          "scene": {
           "xaxis": {
            "backgroundcolor": "#E5ECF6",
            "gridcolor": "white",
            "gridwidth": 2,
            "linecolor": "white",
            "showbackground": true,
            "ticks": "",
            "zerolinecolor": "white"
           },
           "yaxis": {
            "backgroundcolor": "#E5ECF6",
            "gridcolor": "white",
            "gridwidth": 2,
            "linecolor": "white",
            "showbackground": true,
            "ticks": "",
            "zerolinecolor": "white"
           },
           "zaxis": {
            "backgroundcolor": "#E5ECF6",
            "gridcolor": "white",
            "gridwidth": 2,
            "linecolor": "white",
            "showbackground": true,
            "ticks": "",
            "zerolinecolor": "white"
           }
          },
          "shapedefaults": {
           "line": {
            "color": "#2a3f5f"
           }
          },
          "ternary": {
           "aaxis": {
            "gridcolor": "white",
            "linecolor": "white",
            "ticks": ""
           },
           "baxis": {
            "gridcolor": "white",
            "linecolor": "white",
            "ticks": ""
           },
           "bgcolor": "#E5ECF6",
           "caxis": {
            "gridcolor": "white",
            "linecolor": "white",
            "ticks": ""
           }
          },
          "title": {
           "x": 0.05
          },
          "xaxis": {
           "automargin": true,
           "gridcolor": "white",
           "linecolor": "white",
           "ticks": "",
           "title": {
            "standoff": 15
           },
           "zerolinecolor": "white",
           "zerolinewidth": 2
          },
          "yaxis": {
           "automargin": true,
           "gridcolor": "white",
           "linecolor": "white",
           "ticks": "",
           "title": {
            "standoff": 15
           },
           "zerolinecolor": "white",
           "zerolinewidth": 2
          }
         }
        },
        "title": {
         "font": {
          "color": "#4D5663"
         }
        },
        "xaxis": {
         "gridcolor": "#E1E5ED",
         "showgrid": true,
         "tickfont": {
          "color": "#4D5663"
         },
         "title": {
          "font": {
           "color": "#4D5663"
          },
          "text": ""
         },
         "zerolinecolor": "#E1E5ED"
        },
        "yaxis": {
         "gridcolor": "#E1E5ED",
         "showgrid": true,
         "tickfont": {
          "color": "#4D5663"
         },
         "title": {
          "font": {
           "color": "#4D5663"
          },
          "text": ""
         },
         "zerolinecolor": "#E1E5ED"
        }
       }
      },
      "text/html": "<div>\n        \n        \n            <div id=\"08de0098-a399-4429-b1a3-901adcfbaf8e\" class=\"plotly-graph-div\" style=\"height:525px; width:100%;\"></div>\n            <script type=\"text/javascript\">\n                require([\"plotly\"], function(Plotly) {\n                    window.PLOTLYENV=window.PLOTLYENV || {};\n                    window.PLOTLYENV.BASE_URL='https://plot.ly';\n                    \n                if (document.getElementById(\"08de0098-a399-4429-b1a3-901adcfbaf8e\")) {\n                    Plotly.newPlot(\n                        '08de0098-a399-4429-b1a3-901adcfbaf8e',\n                        [{\"marker\": {\"color\": \"rgba(255, 153, 51, 0.6)\", \"line\": {\"color\": \"rgba(255, 153, 51, 1.0)\", \"width\": 1}}, \"name\": \"None\", \"orientation\": \"v\", \"text\": \"\", \"type\": \"bar\", \"x\": [\"lag_1\", \"lag_2\", \"lag_3\", \"lag_4\", \"lag_5\"], \"y\": [0.9496105691094167, -0.04230477544670247, 0.08979795389964655, -0.059753807343653806, 0.062492166428323434]}],\n                        {\"legend\": {\"bgcolor\": \"#F5F6F9\", \"font\": {\"color\": \"#4D5663\"}}, \"paper_bgcolor\": \"#F5F6F9\", \"plot_bgcolor\": \"#F5F6F9\", \"template\": {\"data\": {\"bar\": [{\"error_x\": {\"color\": \"#2a3f5f\"}, \"error_y\": {\"color\": \"#2a3f5f\"}, \"marker\": {\"line\": {\"color\": \"#E5ECF6\", \"width\": 0.5}}, \"type\": \"bar\"}], \"barpolar\": [{\"marker\": {\"line\": {\"color\": \"#E5ECF6\", \"width\": 0.5}}, \"type\": \"barpolar\"}], \"carpet\": [{\"aaxis\": {\"endlinecolor\": \"#2a3f5f\", \"gridcolor\": \"white\", \"linecolor\": \"white\", \"minorgridcolor\": \"white\", \"startlinecolor\": \"#2a3f5f\"}, \"baxis\": {\"endlinecolor\": \"#2a3f5f\", \"gridcolor\": \"white\", \"linecolor\": \"white\", \"minorgridcolor\": \"white\", \"startlinecolor\": \"#2a3f5f\"}, \"type\": \"carpet\"}], \"choropleth\": [{\"colorbar\": {\"outlinewidth\": 0, \"ticks\": \"\"}, \"type\": \"choropleth\"}], \"contour\": [{\"colorbar\": {\"outlinewidth\": 0, \"ticks\": \"\"}, \"colorscale\": [[0.0, \"#0d0887\"], [0.1111111111111111, \"#46039f\"], [0.2222222222222222, \"#7201a8\"], [0.3333333333333333, \"#9c179e\"], [0.4444444444444444, \"#bd3786\"], [0.5555555555555556, \"#d8576b\"], [0.6666666666666666, \"#ed7953\"], [0.7777777777777778, \"#fb9f3a\"], [0.8888888888888888, \"#fdca26\"], [1.0, \"#f0f921\"]], \"type\": \"contour\"}], \"contourcarpet\": [{\"colorbar\": {\"outlinewidth\": 0, \"ticks\": \"\"}, \"type\": \"contourcarpet\"}], \"heatmap\": [{\"colorbar\": {\"outlinewidth\": 0, \"ticks\": \"\"}, \"colorscale\": [[0.0, \"#0d0887\"], [0.1111111111111111, \"#46039f\"], [0.2222222222222222, \"#7201a8\"], [0.3333333333333333, \"#9c179e\"], [0.4444444444444444, \"#bd3786\"], [0.5555555555555556, \"#d8576b\"], [0.6666666666666666, \"#ed7953\"], [0.7777777777777778, \"#fb9f3a\"], [0.8888888888888888, \"#fdca26\"], [1.0, \"#f0f921\"]], \"type\": \"heatmap\"}], \"heatmapgl\": [{\"colorbar\": {\"outlinewidth\": 0, \"ticks\": \"\"}, \"colorscale\": [[0.0, \"#0d0887\"], [0.1111111111111111, \"#46039f\"], [0.2222222222222222, \"#7201a8\"], [0.3333333333333333, \"#9c179e\"], [0.4444444444444444, \"#bd3786\"], [0.5555555555555556, \"#d8576b\"], [0.6666666666666666, \"#ed7953\"], [0.7777777777777778, \"#fb9f3a\"], [0.8888888888888888, \"#fdca26\"], [1.0, \"#f0f921\"]], \"type\": \"heatmapgl\"}], \"histogram\": [{\"marker\": {\"colorbar\": {\"outlinewidth\": 0, \"ticks\": \"\"}}, \"type\": \"histogram\"}], \"histogram2d\": [{\"colorbar\": {\"outlinewidth\": 0, \"ticks\": \"\"}, \"colorscale\": [[0.0, \"#0d0887\"], [0.1111111111111111, \"#46039f\"], [0.2222222222222222, \"#7201a8\"], [0.3333333333333333, \"#9c179e\"], [0.4444444444444444, \"#bd3786\"], [0.5555555555555556, \"#d8576b\"], [0.6666666666666666, \"#ed7953\"], [0.7777777777777778, \"#fb9f3a\"], [0.8888888888888888, \"#fdca26\"], [1.0, \"#f0f921\"]], \"type\": \"histogram2d\"}], \"histogram2dcontour\": [{\"colorbar\": {\"outlinewidth\": 0, \"ticks\": \"\"}, \"colorscale\": [[0.0, \"#0d0887\"], [0.1111111111111111, \"#46039f\"], [0.2222222222222222, \"#7201a8\"], [0.3333333333333333, \"#9c179e\"], [0.4444444444444444, \"#bd3786\"], [0.5555555555555556, \"#d8576b\"], [0.6666666666666666, \"#ed7953\"], [0.7777777777777778, \"#fb9f3a\"], [0.8888888888888888, \"#fdca26\"], [1.0, \"#f0f921\"]], \"type\": \"histogram2dcontour\"}], \"mesh3d\": [{\"colorbar\": {\"outlinewidth\": 0, \"ticks\": \"\"}, \"type\": \"mesh3d\"}], \"parcoords\": [{\"line\": {\"colorbar\": {\"outlinewidth\": 0, \"ticks\": \"\"}}, \"type\": \"parcoords\"}], \"pie\": [{\"automargin\": true, \"type\": \"pie\"}], \"scatter\": [{\"marker\": {\"colorbar\": {\"outlinewidth\": 0, \"ticks\": \"\"}}, \"type\": \"scatter\"}], \"scatter3d\": [{\"line\": {\"colorbar\": {\"outlinewidth\": 0, \"ticks\": \"\"}}, \"marker\": {\"colorbar\": {\"outlinewidth\": 0, \"ticks\": \"\"}}, \"type\": \"scatter3d\"}], \"scattercarpet\": [{\"marker\": {\"colorbar\": {\"outlinewidth\": 0, \"ticks\": \"\"}}, \"type\": \"scattercarpet\"}], \"scattergeo\": [{\"marker\": {\"colorbar\": {\"outlinewidth\": 0, \"ticks\": \"\"}}, \"type\": \"scattergeo\"}], \"scattergl\": [{\"marker\": {\"colorbar\": {\"outlinewidth\": 0, \"ticks\": \"\"}}, \"type\": \"scattergl\"}], \"scattermapbox\": [{\"marker\": {\"colorbar\": {\"outlinewidth\": 0, \"ticks\": \"\"}}, \"type\": \"scattermapbox\"}], \"scatterpolar\": [{\"marker\": {\"colorbar\": {\"outlinewidth\": 0, \"ticks\": \"\"}}, \"type\": \"scatterpolar\"}], \"scatterpolargl\": [{\"marker\": {\"colorbar\": {\"outlinewidth\": 0, \"ticks\": \"\"}}, \"type\": \"scatterpolargl\"}], \"scatterternary\": [{\"marker\": {\"colorbar\": {\"outlinewidth\": 0, \"ticks\": \"\"}}, \"type\": \"scatterternary\"}], \"surface\": [{\"colorbar\": {\"outlinewidth\": 0, \"ticks\": \"\"}, \"colorscale\": [[0.0, \"#0d0887\"], [0.1111111111111111, \"#46039f\"], [0.2222222222222222, \"#7201a8\"], [0.3333333333333333, \"#9c179e\"], [0.4444444444444444, \"#bd3786\"], [0.5555555555555556, \"#d8576b\"], [0.6666666666666666, \"#ed7953\"], [0.7777777777777778, \"#fb9f3a\"], [0.8888888888888888, \"#fdca26\"], [1.0, \"#f0f921\"]], \"type\": \"surface\"}], \"table\": [{\"cells\": {\"fill\": {\"color\": \"#EBF0F8\"}, \"line\": {\"color\": \"white\"}}, \"header\": {\"fill\": {\"color\": \"#C8D4E3\"}, \"line\": {\"color\": \"white\"}}, \"type\": \"table\"}]}, \"layout\": {\"annotationdefaults\": {\"arrowcolor\": \"#2a3f5f\", \"arrowhead\": 0, \"arrowwidth\": 1}, \"coloraxis\": {\"colorbar\": {\"outlinewidth\": 0, \"ticks\": \"\"}}, \"colorscale\": {\"diverging\": [[0, \"#8e0152\"], [0.1, \"#c51b7d\"], [0.2, \"#de77ae\"], [0.3, \"#f1b6da\"], [0.4, \"#fde0ef\"], [0.5, \"#f7f7f7\"], [0.6, \"#e6f5d0\"], [0.7, \"#b8e186\"], [0.8, \"#7fbc41\"], [0.9, \"#4d9221\"], [1, \"#276419\"]], \"sequential\": [[0.0, \"#0d0887\"], [0.1111111111111111, \"#46039f\"], [0.2222222222222222, \"#7201a8\"], [0.3333333333333333, \"#9c179e\"], [0.4444444444444444, \"#bd3786\"], [0.5555555555555556, \"#d8576b\"], [0.6666666666666666, \"#ed7953\"], [0.7777777777777778, \"#fb9f3a\"], [0.8888888888888888, \"#fdca26\"], [1.0, \"#f0f921\"]], \"sequentialminus\": [[0.0, \"#0d0887\"], [0.1111111111111111, \"#46039f\"], [0.2222222222222222, \"#7201a8\"], [0.3333333333333333, \"#9c179e\"], [0.4444444444444444, \"#bd3786\"], [0.5555555555555556, \"#d8576b\"], [0.6666666666666666, \"#ed7953\"], [0.7777777777777778, \"#fb9f3a\"], [0.8888888888888888, \"#fdca26\"], [1.0, \"#f0f921\"]]}, \"colorway\": [\"#636efa\", \"#EF553B\", \"#00cc96\", \"#ab63fa\", \"#FFA15A\", \"#19d3f3\", \"#FF6692\", \"#B6E880\", \"#FF97FF\", \"#FECB52\"], \"font\": {\"color\": \"#2a3f5f\"}, \"geo\": {\"bgcolor\": \"white\", \"lakecolor\": \"white\", \"landcolor\": \"#E5ECF6\", \"showlakes\": true, \"showland\": true, \"subunitcolor\": \"white\"}, \"hoverlabel\": {\"align\": \"left\"}, \"hovermode\": \"closest\", \"mapbox\": {\"style\": \"light\"}, \"paper_bgcolor\": \"white\", \"plot_bgcolor\": \"#E5ECF6\", \"polar\": {\"angularaxis\": {\"gridcolor\": \"white\", \"linecolor\": \"white\", \"ticks\": \"\"}, \"bgcolor\": \"#E5ECF6\", \"radialaxis\": {\"gridcolor\": \"white\", \"linecolor\": \"white\", \"ticks\": \"\"}}, \"scene\": {\"xaxis\": {\"backgroundcolor\": \"#E5ECF6\", \"gridcolor\": \"white\", \"gridwidth\": 2, \"linecolor\": \"white\", \"showbackground\": true, \"ticks\": \"\", \"zerolinecolor\": \"white\"}, \"yaxis\": {\"backgroundcolor\": \"#E5ECF6\", \"gridcolor\": \"white\", \"gridwidth\": 2, \"linecolor\": \"white\", \"showbackground\": true, \"ticks\": \"\", \"zerolinecolor\": \"white\"}, \"zaxis\": {\"backgroundcolor\": \"#E5ECF6\", \"gridcolor\": \"white\", \"gridwidth\": 2, \"linecolor\": \"white\", \"showbackground\": true, \"ticks\": \"\", \"zerolinecolor\": \"white\"}}, \"shapedefaults\": {\"line\": {\"color\": \"#2a3f5f\"}}, \"ternary\": {\"aaxis\": {\"gridcolor\": \"white\", \"linecolor\": \"white\", \"ticks\": \"\"}, \"baxis\": {\"gridcolor\": \"white\", \"linecolor\": \"white\", \"ticks\": \"\"}, \"bgcolor\": \"#E5ECF6\", \"caxis\": {\"gridcolor\": \"white\", \"linecolor\": \"white\", \"ticks\": \"\"}}, \"title\": {\"x\": 0.05}, \"xaxis\": {\"automargin\": true, \"gridcolor\": \"white\", \"linecolor\": \"white\", \"ticks\": \"\", \"title\": {\"standoff\": 15}, \"zerolinecolor\": \"white\", \"zerolinewidth\": 2}, \"yaxis\": {\"automargin\": true, \"gridcolor\": \"white\", \"linecolor\": \"white\", \"ticks\": \"\", \"title\": {\"standoff\": 15}, \"zerolinecolor\": \"white\", \"zerolinewidth\": 2}}}, \"title\": {\"font\": {\"color\": \"#4D5663\"}}, \"xaxis\": {\"gridcolor\": \"#E1E5ED\", \"showgrid\": true, \"tickfont\": {\"color\": \"#4D5663\"}, \"title\": {\"font\": {\"color\": \"#4D5663\"}, \"text\": \"\"}, \"zerolinecolor\": \"#E1E5ED\"}, \"yaxis\": {\"gridcolor\": \"#E1E5ED\", \"showgrid\": true, \"tickfont\": {\"color\": \"#4D5663\"}, \"title\": {\"font\": {\"color\": \"#4D5663\"}, \"text\": \"\"}, \"zerolinecolor\": \"#E1E5ED\"}},\n                        {\"showLink\": true, \"linkText\": \"Export to plot.ly\", \"plotlyServerURL\": \"https://plot.ly\", \"responsive\": true}\n                    ).then(function(){\n                            \nvar gd = document.getElementById('08de0098-a399-4429-b1a3-901adcfbaf8e');\nvar x = new MutationObserver(function (mutations, observer) {{\n        var display = window.getComputedStyle(gd).display;\n        if (!display || display === 'none') {{\n            console.log([gd, 'removed!']);\n            Plotly.purge(gd);\n            observer.disconnect();\n        }}\n}});\n\n// Listen for the removal of the full notebook cells\nvar notebookContainer = gd.closest('#notebook-container');\nif (notebookContainer) {{\n    x.observe(notebookContainer, {childList: true});\n}}\n\n// Listen for the clearing of the current output cell\nvar outputEl = gd.closest('.output');\nif (outputEl) {{\n    x.observe(outputEl, {childList: true});\n}}\n\n                        })\n                };\n                });\n            </script>\n        </div>"
     },
     "metadata": {}
    }
   ],
   "source": [
    "regd.mean().iplot(kind='bar')"
   ]
  },
  {
   "cell_type": "markdown",
   "metadata": {},
   "source": [
    "## Conclusions"
   ]
  },
  {
   "cell_type": "markdown",
   "metadata": {},
   "source": [
    "Based on this tutorial, we can conclude that\n",
    "\n",
    "* it is easy to retrieve **historical end-of-day and intraday data across asset classes** via the Eikon Data API,\n",
    "* `Plotly` and `Cufflinks` make **financial data visualization** convenient and\n",
    "* there is **support for the Random Walk Hypothesis** based on the OLS regression analysis (both daily and a little bit less so intraday)."
   ]
  },
  {
   "cell_type": "markdown",
   "metadata": {},
   "source": [
    "## Eikon Data API Developer Resources"
   ]
  },
  {
   "cell_type": "markdown",
   "metadata": {},
   "source": [
    "* [Overview](https://developers.thomsonreuters.com/eikon-data-apis) \n",
    "* [Quick Start ](https://developers.thomsonreuters.com/eikon-data-apis/quick-start)\n",
    "* [Documentation](https://developers.thomsonreuters.com/eikon-data-apis/docs)\n",
    "* [Downloads](https://developers.thomsonreuters.com/eikon-data-apis/downloads)\n",
    "* [Tutorials](https://developers.thomsonreuters.com/eikon-data-apis/learning)\n",
    "* [Q&A Forums](https://developers.thomsonreuters.com/eikon-data-apis/qa) \n",
    "\n",
    "Data Item Browser Application: Type `DIB` into Eikon Search Bar."
   ]
  },
  {
   "cell_type": "markdown",
   "metadata": {},
   "source": [
    "<img src=\"http://eikon.tpq.io/refinitiv_logo.png\" width=\"28%\" align=\"left\" style=\"vertical-align: top; padding-top: 23px;\">\n",
    "<img src=\"http://hilpisch.com/tpq_logo_long.png\" width=\"36%\" align=\"right\" style=\"vertical-align: top;\">"
   ]
  },
  {
   "cell_type": "code",
   "execution_count": null,
   "metadata": {},
   "outputs": [],
   "source": []
  }
 ],
 "metadata": {
  "kernelspec": {
   "display_name": "Python 3.7.6 64-bit ('py37': conda)",
   "language": "python",
   "name": "python37664bitpy37condaeefaf0b43e414cfc860f757d052ab0e6"
  },
  "language_info": {
   "codemirror_mode": {
    "name": "ipython",
    "version": 3
   },
   "file_extension": ".py",
   "mimetype": "text/x-python",
   "name": "python",
   "nbconvert_exporter": "python",
   "pygments_lexer": "ipython3",
   "version": "3.7.6-final"
  }
 },
 "nbformat": 4,
 "nbformat_minor": 2
}