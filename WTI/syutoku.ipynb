{
 "cells": [
  {
   "cell_type": "code",
   "execution_count": 1,
   "metadata": {},
   "outputs": [
    {
     "output_type": "display_data",
     "data": {
      "text/html": "        <script type=\"text/javascript\">\n        window.PlotlyConfig = {MathJaxConfig: 'local'};\n        if (window.MathJax) {MathJax.Hub.Config({SVG: {font: \"STIX-Web\"}});}\n        if (typeof require !== 'undefined') {\n        require.undef(\"plotly\");\n        requirejs.config({\n            paths: {\n                'plotly': ['https://cdn.plot.ly/plotly-latest.min']\n            }\n        });\n        require(['plotly'], function(Plotly) {\n            window._Plotly = Plotly;\n        });\n        }\n        </script>\n        "
     },
     "metadata": {}
    },
    {
     "output_type": "display_data",
     "data": {
      "text/html": "        <script type=\"text/javascript\">\n        window.PlotlyConfig = {MathJaxConfig: 'local'};\n        if (window.MathJax) {MathJax.Hub.Config({SVG: {font: \"STIX-Web\"}});}\n        if (typeof require !== 'undefined') {\n        require.undef(\"plotly\");\n        requirejs.config({\n            paths: {\n                'plotly': ['https://cdn.plot.ly/plotly-latest.min']\n            }\n        });\n        require(['plotly'], function(Plotly) {\n            window._Plotly = Plotly;\n        });\n        }\n        </script>\n        "
     },
     "metadata": {}
    }
   ],
   "source": [
    "import math\n",
    "import eikon as ek  # the Eikon Python wrapper package\n",
    "ek.set_app_key('0ed6a35e0937415eab446d3375bca7cf671d6b4c')\n",
    "import numpy as np  # NumPy\n",
    "import pandas as pd  # pandas\n",
    "import cufflinks as cf  # Cufflinks\n",
    "import configparser as cp\n",
    "import scipy.optimize as sco  # optimization routines\n",
    "cf.set_config_file(offline=True)  # set the plotting mode to offline"
   ]
  },
  {
   "cell_type": "code",
   "execution_count": 2,
   "metadata": {},
   "outputs": [
    {
     "output_type": "display_data",
     "data": {
      "text/html": "        <script type=\"text/javascript\">\n        window.PlotlyConfig = {MathJaxConfig: 'local'};\n        if (window.MathJax) {MathJax.Hub.Config({SVG: {font: \"STIX-Web\"}});}\n        if (typeof require !== 'undefined') {\n        require.undef(\"plotly\");\n        requirejs.config({\n            paths: {\n                'plotly': ['https://cdn.plot.ly/plotly-latest.min']\n            }\n        });\n        require(['plotly'], function(Plotly) {\n            window._Plotly = Plotly;\n        });\n        }\n        </script>\n        "
     },
     "metadata": {}
    }
   ],
   "source": [
    "cf.set_config_file(offline=True, theme=\"white\")\n",
    "#Font Setting\n",
    "from matplotlib.font_manager import FontProperties\n",
    "import sys\n",
    "if sys.platform.startswith('win'):\n",
    "    FontPath= 'C:\\\\Windows\\\\Fonts\\\\meiryo.ttc'\n",
    "elif sys.platform.startswith('darwin'):\n",
    "    FontPath= '/System/Library/Fonts/ヒラノギ角ゴシック W4.ttc'\n",
    "elif sys.platform.startswith('linux'):\n",
    "    FontPath= '/usr/share/fonts/truetype/takao-gothic/TakaoExGothic.ttc'\n",
    "jpfont = FontProperties(fname = FontPath)"
   ]
  },
  {
   "cell_type": "code",
   "execution_count": 3,
   "metadata": {},
   "outputs": [
    {
     "output_type": "execute_result",
     "data": {
      "text/plain": "list"
     },
     "metadata": {},
     "execution_count": 3
    }
   ],
   "source": [
    "rics = [\n",
    "    'AAPL.O',  # Apple stock\n",
    "    'AMZN.O',  # Amazon stock\n",
    "    'SPY',  # S&P 500 ETF\n",
    "    'GLD',  # Gold ETF\n",
    "    'EUR=',  # EUR/USD exchange rate\n",
    "]\n",
    "type(rics)"
   ]
  },
  {
   "cell_type": "code",
   "execution_count": 3,
   "metadata": {},
   "outputs": [],
   "source": [
    "data = ek.get_timeseries(rics,  # the RICs\n",
    "                         fields='CLOSE',  # the required fields\n",
    "                         start_date='2017-01-01',  # start date\n",
    "                         end_date='2018-02-16')  # end date"
   ]
  },
  {
   "cell_type": "code",
   "execution_count": 4,
   "metadata": {},
   "outputs": [],
   "source": [
    "F_curv = ek.get_data('0#CL:', fields=['CF_DATE', 'CF_LAST',\n",
    "                                      'CF_VOLUME','CONTR_MNTH' ,'SETTLEDATE'],)"
   ]
  },
  {
   "cell_type": "code",
   "execution_count": 5,
   "metadata": {},
   "outputs": [],
   "source": [
    "FFcurve = ek.get_data(['0#CL:'], ['RECORDTYPE'])\n"
   ]
  },
  {
   "cell_type": "code",
   "execution_count": 6,
   "metadata": {},
   "outputs": [
    {
     "output_type": "execute_result",
     "data": {
      "text/plain": "['/CLM0',\n '/CLN0',\n '/CLQ0',\n '/CLU0',\n '/CLV0',\n '/CLX0',\n '/CLZ0',\n '/CLF1',\n '/CLG1',\n '/CLH1',\n '/CLJ1',\n '/CLK1',\n '/CLM1',\n '/CLN1',\n '/CLQ1',\n '/CLU1',\n '/CLV1',\n '/CLX1',\n '/CLZ1',\n '/CLF2',\n '/CLG2',\n '/CLH2',\n '/CLJ2',\n '/CLK2']"
     },
     "metadata": {},
     "execution_count": 6
    }
   ],
   "source": [
    "list(FFcurve[0]['Instrument'].iloc[:24])"
   ]
  },
  {
   "cell_type": "code",
   "execution_count": 7,
   "metadata": {},
   "outputs": [],
   "source": [
    "\n",
    "data = ek.get_timeseries(list(FFcurve[0]['Instrument'].iloc[:25]),  # the RICs\n",
    "                         fields='CLOSE',  # the required fields\n",
    "                         start_date='2019-12-01',  # start date\n",
    "                         end_date='2020-05-11',\n",
    "                         interval='weekly')  # end date"
   ]
  },
  {
   "cell_type": "code",
   "execution_count": 8,
   "metadata": {},
   "outputs": [],
   "source": [
    "data.columns = range(len(data.columns))"
   ]
  },
  {
   "cell_type": "code",
   "execution_count": 9,
   "metadata": {},
   "outputs": [],
   "source": [
    "cols = [4,19,21,22]\n",
    "F_CL_Curv_3=data.dropna(how='all').T.iloc[:,cols]"
   ]
  },
  {
   "cell_type": "code",
   "execution_count": 10,
   "metadata": {},
   "outputs": [],
   "source": [
    " F_CL_Curv_3.columns=['2020/1/3','2020/4/17','2020/5/1','2020/5/8']"
   ]
  },
  {
   "cell_type": "code",
   "execution_count": 11,
   "metadata": {},
   "outputs": [],
   "source": [
    "color={'2020/1/3':'black','2020/4/17':'#607D8B','2020/5/1':'#9E9E9E','2020/5/8':'#B0BEC5'}\n",
    "width ={'2020/1/3':4,'2020/4/17':2,'2020/5/1':2,'2020/5/8':5}\n",
    "dash={'2020/1/3':'solid','2020/4/17':'dot','2020/5/1':'dot','2020/5/8':'solid'}\n"
   ]
  },
  {
   "cell_type": "code",
   "execution_count": 12,
   "metadata": {},
   "outputs": [
    {
     "output_type": "display_data",
     "data": {
      "application/vnd.plotly.v1+json": {
       "config": {
        "linkText": "Export to plot.ly",
        "plotlyServerURL": "https://plot.ly",
        "showLink": true
       },
       "data": [
        {
         "line": {
          "color": "black",
          "dash": "solid",
          "shape": "linear",
          "width": 4
         },
         "mode": "lines",
         "name": "2020/1/3",
         "text": "",
         "type": "scatter",
         "x": [
          0,
          1,
          2,
          3,
          4,
          5,
          6,
          7,
          8,
          9,
          10,
          11,
          12,
          13,
          14,
          15,
          16,
          17,
          18,
          19,
          20,
          21,
          22,
          23,
          24
         ],
         "y": [
          61.46,
          60.83,
          60.18,
          59.55,
          58.98,
          58.46,
          57.97,
          57.48,
          57.02,
          56.58,
          56.17,
          55.8,
          55.46,
          55.1,
          54.77,
          54.47,
          54.2,
          53.96,
          53.74,
          53.47,
          53.22,
          53,
          52.81,
          52.63,
          52.47
         ]
        },
        {
         "line": {
          "color": "#607D8B",
          "dash": "dot",
          "shape": "linear",
          "width": 2
         },
         "mode": "lines",
         "name": "2020/4/17",
         "text": "",
         "type": "scatter",
         "x": [
          0,
          1,
          2,
          3,
          4,
          5,
          6,
          7,
          8,
          9,
          10,
          11,
          12,
          13,
          14,
          15,
          16,
          17,
          18,
          19,
          20,
          21,
          22,
          23,
          24
         ],
         "y": [
          25.03,
          29.42,
          31.2,
          32.08,
          32.71,
          33.3,
          33.82,
          34.27,
          34.65,
          34.95,
          35.26,
          35.52,
          35.76,
          35.96,
          36.16,
          36.37,
          36.59,
          36.82,
          37.05,
          37.22,
          37.39,
          37.59,
          37.78,
          37.99,
          38.19
         ]
        },
        {
         "line": {
          "color": "#9E9E9E",
          "dash": "dot",
          "shape": "linear",
          "width": 2
         },
         "mode": "lines",
         "name": "2020/5/1",
         "text": "",
         "type": "scatter",
         "x": [
          0,
          1,
          2,
          3,
          4,
          5,
          6,
          7,
          8,
          9,
          10,
          11,
          12,
          13,
          14,
          15,
          16,
          17,
          18,
          19,
          20,
          21,
          22,
          23,
          24
         ],
         "y": [
          19.78,
          22.29,
          24.2,
          25.69,
          26.79,
          27.74,
          28.59,
          29.32,
          29.98,
          30.55,
          31.05,
          31.49,
          31.88,
          32.22,
          32.54,
          32.86,
          33.18,
          33.49,
          33.81,
          34.09,
          34.36,
          34.61,
          34.87,
          35.13,
          35.38
         ]
        },
        {
         "line": {
          "color": "#B0BEC5",
          "dash": "solid",
          "shape": "linear",
          "width": 5
         },
         "mode": "lines",
         "name": "2020/5/8",
         "text": "",
         "type": "scatter",
         "x": [
          0,
          1,
          2,
          3,
          4,
          5,
          6,
          7,
          8,
          9,
          10,
          11,
          12,
          13,
          14,
          15,
          16,
          17,
          18,
          19,
          20,
          21,
          22,
          23,
          24
         ],
         "y": [
          24.74,
          26.17,
          28.05,
          29.51,
          30.48,
          31.27,
          31.94,
          32.5,
          32.98,
          33.39,
          33.74,
          34.07,
          34.37,
          34.63,
          34.89,
          35.14,
          35.4,
          35.68,
          35.97,
          36.21,
          36.43,
          36.66,
          36.9,
          37.13,
          37.35
         ]
        }
       ],
       "layout": {
        "legend": {
         "x": 0.8,
         "y": 0
        },
        "paper_bgcolor": "#FFFFFF",
        "plot_bgcolor": "#FFFFFF",
        "showlegend": true,
        "template": {
         "data": {
          "bar": [
           {
            "error_x": {
             "color": "#2a3f5f"
            },
            "error_y": {
             "color": "#2a3f5f"
            },
            "marker": {
             "line": {
              "color": "#E5ECF6",
              "width": 0.5
             }
            },
            "type": "bar"
           }
          ],
          "barpolar": [
           {
            "marker": {
             "line": {
              "color": "#E5ECF6",
              "width": 0.5
             }
            },
            "type": "barpolar"
           }
          ],
          "carpet": [
           {
            "aaxis": {
             "endlinecolor": "#2a3f5f",
             "gridcolor": "white",
             "linecolor": "white",
             "minorgridcolor": "white",
             "startlinecolor": "#2a3f5f"
            },
            "baxis": {
             "endlinecolor": "#2a3f5f",
             "gridcolor": "white",
             "linecolor": "white",
             "minorgridcolor": "white",
             "startlinecolor": "#2a3f5f"
            },
            "type": "carpet"
           }
          ],
          "choropleth": [
           {
            "colorbar": {
             "outlinewidth": 0,
             "ticks": ""
            },
            "type": "choropleth"
           }
          ],
          "contour": [
           {
            "colorbar": {
             "outlinewidth": 0,
             "ticks": ""
            },
            "colorscale": [
             [
              0,
              "#0d0887"
             ],
             [
              0.1111111111111111,
              "#46039f"
             ],
             [
              0.2222222222222222,
              "#7201a8"
             ],
             [
              0.3333333333333333,
              "#9c179e"
             ],
             [
              0.4444444444444444,
              "#bd3786"
             ],
             [
              0.5555555555555556,
              "#d8576b"
             ],
             [
              0.6666666666666666,
              "#ed7953"
             ],
             [
              0.7777777777777778,
              "#fb9f3a"
             ],
             [
              0.8888888888888888,
              "#fdca26"
             ],
             [
              1,
              "#f0f921"
             ]
            ],
            "type": "contour"
           }
          ],
          "contourcarpet": [
           {
            "colorbar": {
             "outlinewidth": 0,
             "ticks": ""
            },
            "type": "contourcarpet"
           }
          ],
          "heatmap": [
           {
            "colorbar": {
             "outlinewidth": 0,
             "ticks": ""
            },
            "colorscale": [
             [
              0,
              "#0d0887"
             ],
             [
              0.1111111111111111,
              "#46039f"
             ],
             [
              0.2222222222222222,
              "#7201a8"
             ],
             [
              0.3333333333333333,
              "#9c179e"
             ],
             [
              0.4444444444444444,
              "#bd3786"
             ],
             [
              0.5555555555555556,
              "#d8576b"
             ],
             [
              0.6666666666666666,
              "#ed7953"
             ],
             [
              0.7777777777777778,
              "#fb9f3a"
             ],
             [
              0.8888888888888888,
              "#fdca26"
             ],
             [
              1,
              "#f0f921"
             ]
            ],
            "type": "heatmap"
           }
          ],
          "heatmapgl": [
           {
            "colorbar": {
             "outlinewidth": 0,
             "ticks": ""
            },
            "colorscale": [
             [
              0,
              "#0d0887"
             ],
             [
              0.1111111111111111,
              "#46039f"
             ],
             [
              0.2222222222222222,
              "#7201a8"
             ],
             [
              0.3333333333333333,
              "#9c179e"
             ],
             [
              0.4444444444444444,
              "#bd3786"
             ],
             [
              0.5555555555555556,
              "#d8576b"
             ],
             [
              0.6666666666666666,
              "#ed7953"
             ],
             [
              0.7777777777777778,
              "#fb9f3a"
             ],
             [
              0.8888888888888888,
              "#fdca26"
             ],
             [
              1,
              "#f0f921"
             ]
            ],
            "type": "heatmapgl"
           }
          ],
          "histogram": [
           {
            "marker": {
             "colorbar": {
              "outlinewidth": 0,
              "ticks": ""
             }
            },
            "type": "histogram"
           }
          ],
          "histogram2d": [
           {
            "colorbar": {
             "outlinewidth": 0,
             "ticks": ""
            },
            "colorscale": [
             [
              0,
              "#0d0887"
             ],
             [
              0.1111111111111111,
              "#46039f"
             ],
             [
              0.2222222222222222,
              "#7201a8"
             ],
             [
              0.3333333333333333,
              "#9c179e"
             ],
             [
              0.4444444444444444,
              "#bd3786"
             ],
             [
              0.5555555555555556,
              "#d8576b"
             ],
             [
              0.6666666666666666,
              "#ed7953"
             ],
             [
              0.7777777777777778,
              "#fb9f3a"
             ],
             [
              0.8888888888888888,
              "#fdca26"
             ],
             [
              1,
              "#f0f921"
             ]
            ],
            "type": "histogram2d"
           }
          ],
          "histogram2dcontour": [
           {
            "colorbar": {
             "outlinewidth": 0,
             "ticks": ""
            },
            "colorscale": [
             [
              0,
              "#0d0887"
             ],
             [
              0.1111111111111111,
              "#46039f"
             ],
             [
              0.2222222222222222,
              "#7201a8"
             ],
             [
              0.3333333333333333,
              "#9c179e"
             ],
             [
              0.4444444444444444,
              "#bd3786"
             ],
             [
              0.5555555555555556,
              "#d8576b"
             ],
             [
              0.6666666666666666,
              "#ed7953"
             ],
             [
              0.7777777777777778,
              "#fb9f3a"
             ],
             [
              0.8888888888888888,
              "#fdca26"
             ],
             [
              1,
              "#f0f921"
             ]
            ],
            "type": "histogram2dcontour"
           }
          ],
          "mesh3d": [
           {
            "colorbar": {
             "outlinewidth": 0,
             "ticks": ""
            },
            "type": "mesh3d"
           }
          ],
          "parcoords": [
           {
            "line": {
             "colorbar": {
              "outlinewidth": 0,
              "ticks": ""
             }
            },
            "type": "parcoords"
           }
          ],
          "pie": [
           {
            "automargin": true,
            "type": "pie"
           }
          ],
          "scatter": [
           {
            "marker": {
             "colorbar": {
              "outlinewidth": 0,
              "ticks": ""
             }
            },
            "type": "scatter"
           }
          ],
          "scatter3d": [
           {
            "line": {
             "colorbar": {
              "outlinewidth": 0,
              "ticks": ""
             }
            },
            "marker": {
             "colorbar": {
              "outlinewidth": 0,
              "ticks": ""
             }
            },
            "type": "scatter3d"
           }
          ],
          "scattercarpet": [
           {
            "marker": {
             "colorbar": {
              "outlinewidth": 0,
              "ticks": ""
             }
            },
            "type": "scattercarpet"
           }
          ],
          "scattergeo": [
           {
            "marker": {
             "colorbar": {
              "outlinewidth": 0,
              "ticks": ""
             }
            },
            "type": "scattergeo"
           }
          ],
          "scattergl": [
           {
            "marker": {
             "colorbar": {
              "outlinewidth": 0,
              "ticks": ""
             }
            },
            "type": "scattergl"
           }
          ],
          "scattermapbox": [
           {
            "marker": {
             "colorbar": {
              "outlinewidth": 0,
              "ticks": ""
             }
            },
            "type": "scattermapbox"
           }
          ],
          "scatterpolar": [
           {
            "marker": {
             "colorbar": {
              "outlinewidth": 0,
              "ticks": ""
             }
            },
            "type": "scatterpolar"
           }
          ],
          "scatterpolargl": [
           {
            "marker": {
             "colorbar": {
              "outlinewidth": 0,
              "ticks": ""
             }
            },
            "type": "scatterpolargl"
           }
          ],
          "scatterternary": [
           {
            "marker": {
             "colorbar": {
              "outlinewidth": 0,
              "ticks": ""
             }
            },
            "type": "scatterternary"
           }
          ],
          "surface": [
           {
            "colorbar": {
             "outlinewidth": 0,
             "ticks": ""
            },
            "colorscale": [
             [
              0,
              "#0d0887"
             ],
             [
              0.1111111111111111,
              "#46039f"
             ],
             [
              0.2222222222222222,
              "#7201a8"
             ],
             [
              0.3333333333333333,
              "#9c179e"
             ],
             [
              0.4444444444444444,
              "#bd3786"
             ],
             [
              0.5555555555555556,
              "#d8576b"
             ],
             [
              0.6666666666666666,
              "#ed7953"
             ],
             [
              0.7777777777777778,
              "#fb9f3a"
             ],
             [
              0.8888888888888888,
              "#fdca26"
             ],
             [
              1,
              "#f0f921"
             ]
            ],
            "type": "surface"
           }
          ],
          "table": [
           {
            "cells": {
             "fill": {
              "color": "#EBF0F8"
             },
             "line": {
              "color": "white"
             }
            },
            "header": {
             "fill": {
              "color": "#C8D4E3"
             },
             "line": {
              "color": "white"
             }
            },
            "type": "table"
           }
          ]
         },
         "layout": {
          "annotationdefaults": {
           "arrowcolor": "#2a3f5f",
           "arrowhead": 0,
           "arrowwidth": 1
          },
          "coloraxis": {
           "colorbar": {
            "outlinewidth": 0,
            "ticks": ""
           }
          },
          "colorscale": {
           "diverging": [
            [
             0,
             "#8e0152"
            ],
            [
             0.1,
             "#c51b7d"
            ],
            [
             0.2,
             "#de77ae"
            ],
            [
             0.3,
             "#f1b6da"
            ],
            [
             0.4,
             "#fde0ef"
            ],
            [
             0.5,
             "#f7f7f7"
            ],
            [
             0.6,
             "#e6f5d0"
            ],
            [
             0.7,
             "#b8e186"
            ],
            [
             0.8,
             "#7fbc41"
            ],
            [
             0.9,
             "#4d9221"
            ],
            [
             1,
             "#276419"
            ]
           ],
           "sequential": [
            [
             0,
             "#0d0887"
            ],
            [
             0.1111111111111111,
             "#46039f"
            ],
            [
             0.2222222222222222,
             "#7201a8"
            ],
            [
             0.3333333333333333,
             "#9c179e"
            ],
            [
             0.4444444444444444,
             "#bd3786"
            ],
            [
             0.5555555555555556,
             "#d8576b"
            ],
            [
             0.6666666666666666,
             "#ed7953"
            ],
            [
             0.7777777777777778,
             "#fb9f3a"
            ],
            [
             0.8888888888888888,
             "#fdca26"
            ],
            [
             1,
             "#f0f921"
            ]
           ],
           "sequentialminus": [
            [
             0,
             "#0d0887"
            ],
            [
             0.1111111111111111,
             "#46039f"
            ],
            [
             0.2222222222222222,
             "#7201a8"
            ],
            [
             0.3333333333333333,
             "#9c179e"
            ],
            [
             0.4444444444444444,
             "#bd3786"
            ],
            [
             0.5555555555555556,
             "#d8576b"
            ],
            [
             0.6666666666666666,
             "#ed7953"
            ],
            [
             0.7777777777777778,
             "#fb9f3a"
            ],
            [
             0.8888888888888888,
             "#fdca26"
            ],
            [
             1,
             "#f0f921"
            ]
           ]
          },
          "colorway": [
           "#636efa",
           "#EF553B",
           "#00cc96",
           "#ab63fa",
           "#FFA15A",
           "#19d3f3",
           "#FF6692",
           "#B6E880",
           "#FF97FF",
           "#FECB52"
          ],
          "font": {
           "color": "#2a3f5f"
          },
          "geo": {
           "bgcolor": "white",
           "lakecolor": "white",
           "landcolor": "#E5ECF6",
           "showlakes": true,
           "showland": true,
           "subunitcolor": "white"
          },
          "hoverlabel": {
           "align": "left"
          },
          "hovermode": "closest",
          "mapbox": {
           "style": "light"
          },
          "paper_bgcolor": "white",
          "plot_bgcolor": "#E5ECF6",
          "polar": {
           "angularaxis": {
            "gridcolor": "white",
            "linecolor": "white",
            "ticks": ""
           },
           "bgcolor": "#E5ECF6",
           "radialaxis": {
            "gridcolor": "white",
            "linecolor": "white",
            "ticks": ""
           }
          },
          "scene": {
           "xaxis": {
            "backgroundcolor": "#E5ECF6",
            "gridcolor": "white",
            "gridwidth": 2,
            "linecolor": "white",
            "showbackground": true,
            "ticks": "",
            "zerolinecolor": "white"
           },
           "yaxis": {
            "backgroundcolor": "#E5ECF6",
            "gridcolor": "white",
            "gridwidth": 2,
            "linecolor": "white",
            "showbackground": true,
            "ticks": "",
            "zerolinecolor": "white"
           },
           "zaxis": {
            "backgroundcolor": "#E5ECF6",
            "gridcolor": "white",
            "gridwidth": 2,
            "linecolor": "white",
            "showbackground": true,
            "ticks": "",
            "zerolinecolor": "white"
           }
          },
          "shapedefaults": {
           "line": {
            "color": "#2a3f5f"
           }
          },
          "ternary": {
           "aaxis": {
            "gridcolor": "white",
            "linecolor": "white",
            "ticks": ""
           },
           "baxis": {
            "gridcolor": "white",
            "linecolor": "white",
            "ticks": ""
           },
           "bgcolor": "#E5ECF6",
           "caxis": {
            "gridcolor": "white",
            "linecolor": "white",
            "ticks": ""
           }
          },
          "title": {
           "x": 0.05
          },
          "xaxis": {
           "automargin": true,
           "gridcolor": "white",
           "linecolor": "white",
           "ticks": "",
           "title": {
            "standoff": 15
           },
           "zerolinecolor": "white",
           "zerolinewidth": 2
          },
          "yaxis": {
           "automargin": true,
           "gridcolor": "white",
           "linecolor": "white",
           "ticks": "",
           "title": {
            "standoff": 15
           },
           "zerolinecolor": "white",
           "zerolinewidth": 2
          }
         }
        },
        "title": {
         "font": {
          "color": "#4D5663"
         }
        },
        "xaxis": {
         "gridcolor": "#E1E5ED",
         "showgrid": true,
         "tickfont": {
          "color": "#4D5663"
         },
         "title": {
          "font": {
           "color": "#4D5663"
          },
          "text": ""
         },
         "zerolinecolor": "#E1E5ED"
        },
        "yaxis": {
         "gridcolor": "#E1E5ED",
         "showgrid": true,
         "tickfont": {
          "color": "#4D5663"
         },
         "title": {
          "font": {
           "color": "#4D5663"
          },
          "text": "USD/Bbl"
         },
         "zerolinecolor": "#E1E5ED"
        }
       }
      },
      "text/html": "<div>\n        \n        \n            <div id=\"a2a624d3-f5be-48d6-822e-c53badc8817f\" class=\"plotly-graph-div\" style=\"height:525px; width:100%;\"></div>\n            <script type=\"text/javascript\">\n                require([\"plotly\"], function(Plotly) {\n                    window.PLOTLYENV=window.PLOTLYENV || {};\n                    window.PLOTLYENV.BASE_URL='https://plot.ly';\n                    \n                if (document.getElementById(\"a2a624d3-f5be-48d6-822e-c53badc8817f\")) {\n                    Plotly.newPlot(\n                        'a2a624d3-f5be-48d6-822e-c53badc8817f',\n                        [{\"line\": {\"color\": \"black\", \"dash\": \"solid\", \"shape\": \"linear\", \"width\": 4}, \"mode\": \"lines\", \"name\": \"2020/1/3\", \"text\": \"\", \"type\": \"scatter\", \"x\": [0, 1, 2, 3, 4, 5, 6, 7, 8, 9, 10, 11, 12, 13, 14, 15, 16, 17, 18, 19, 20, 21, 22, 23, 24], \"y\": [61.46, 60.83, 60.18, 59.55, 58.98, 58.46, 57.97, 57.48, 57.02, 56.58, 56.17, 55.8, 55.46, 55.1, 54.77, 54.47, 54.2, 53.96, 53.74, 53.47, 53.22, 53.0, 52.81, 52.63, 52.47]}, {\"line\": {\"color\": \"#607D8B\", \"dash\": \"dot\", \"shape\": \"linear\", \"width\": 2}, \"mode\": \"lines\", \"name\": \"2020/4/17\", \"text\": \"\", \"type\": \"scatter\", \"x\": [0, 1, 2, 3, 4, 5, 6, 7, 8, 9, 10, 11, 12, 13, 14, 15, 16, 17, 18, 19, 20, 21, 22, 23, 24], \"y\": [25.03, 29.42, 31.2, 32.08, 32.71, 33.3, 33.82, 34.27, 34.65, 34.95, 35.26, 35.52, 35.76, 35.96, 36.16, 36.37, 36.59, 36.82, 37.05, 37.22, 37.39, 37.59, 37.78, 37.99, 38.19]}, {\"line\": {\"color\": \"#9E9E9E\", \"dash\": \"dot\", \"shape\": \"linear\", \"width\": 2}, \"mode\": \"lines\", \"name\": \"2020/5/1\", \"text\": \"\", \"type\": \"scatter\", \"x\": [0, 1, 2, 3, 4, 5, 6, 7, 8, 9, 10, 11, 12, 13, 14, 15, 16, 17, 18, 19, 20, 21, 22, 23, 24], \"y\": [19.78, 22.29, 24.2, 25.69, 26.79, 27.74, 28.59, 29.32, 29.98, 30.55, 31.05, 31.49, 31.88, 32.22, 32.54, 32.86, 33.18, 33.49, 33.81, 34.09, 34.36, 34.61, 34.87, 35.13, 35.38]}, {\"line\": {\"color\": \"#B0BEC5\", \"dash\": \"solid\", \"shape\": \"linear\", \"width\": 5}, \"mode\": \"lines\", \"name\": \"2020/5/8\", \"text\": \"\", \"type\": \"scatter\", \"x\": [0, 1, 2, 3, 4, 5, 6, 7, 8, 9, 10, 11, 12, 13, 14, 15, 16, 17, 18, 19, 20, 21, 22, 23, 24], \"y\": [24.74, 26.17, 28.05, 29.51, 30.48, 31.27, 31.94, 32.5, 32.98, 33.39, 33.74, 34.07, 34.37, 34.63, 34.89, 35.14, 35.4, 35.68, 35.97, 36.21, 36.43, 36.66, 36.9, 37.13, 37.35]}],\n                        {\"legend\": {\"x\": 0.8, \"y\": 0}, \"paper_bgcolor\": \"#FFFFFF\", \"plot_bgcolor\": \"#FFFFFF\", \"showlegend\": true, \"template\": {\"data\": {\"bar\": [{\"error_x\": {\"color\": \"#2a3f5f\"}, \"error_y\": {\"color\": \"#2a3f5f\"}, \"marker\": {\"line\": {\"color\": \"#E5ECF6\", \"width\": 0.5}}, \"type\": \"bar\"}], \"barpolar\": [{\"marker\": {\"line\": {\"color\": \"#E5ECF6\", \"width\": 0.5}}, \"type\": \"barpolar\"}], \"carpet\": [{\"aaxis\": {\"endlinecolor\": \"#2a3f5f\", \"gridcolor\": \"white\", \"linecolor\": \"white\", \"minorgridcolor\": \"white\", \"startlinecolor\": \"#2a3f5f\"}, \"baxis\": {\"endlinecolor\": \"#2a3f5f\", \"gridcolor\": \"white\", \"linecolor\": \"white\", \"minorgridcolor\": \"white\", \"startlinecolor\": \"#2a3f5f\"}, \"type\": \"carpet\"}], \"choropleth\": [{\"colorbar\": {\"outlinewidth\": 0, \"ticks\": \"\"}, \"type\": \"choropleth\"}], \"contour\": [{\"colorbar\": {\"outlinewidth\": 0, \"ticks\": \"\"}, \"colorscale\": [[0.0, \"#0d0887\"], [0.1111111111111111, \"#46039f\"], [0.2222222222222222, \"#7201a8\"], [0.3333333333333333, \"#9c179e\"], [0.4444444444444444, \"#bd3786\"], [0.5555555555555556, \"#d8576b\"], [0.6666666666666666, \"#ed7953\"], [0.7777777777777778, \"#fb9f3a\"], [0.8888888888888888, \"#fdca26\"], [1.0, \"#f0f921\"]], \"type\": \"contour\"}], \"contourcarpet\": [{\"colorbar\": {\"outlinewidth\": 0, \"ticks\": \"\"}, \"type\": \"contourcarpet\"}], \"heatmap\": [{\"colorbar\": {\"outlinewidth\": 0, \"ticks\": \"\"}, \"colorscale\": [[0.0, \"#0d0887\"], [0.1111111111111111, \"#46039f\"], [0.2222222222222222, \"#7201a8\"], [0.3333333333333333, \"#9c179e\"], [0.4444444444444444, \"#bd3786\"], [0.5555555555555556, \"#d8576b\"], [0.6666666666666666, \"#ed7953\"], [0.7777777777777778, \"#fb9f3a\"], [0.8888888888888888, \"#fdca26\"], [1.0, \"#f0f921\"]], \"type\": \"heatmap\"}], \"heatmapgl\": [{\"colorbar\": {\"outlinewidth\": 0, \"ticks\": \"\"}, \"colorscale\": [[0.0, \"#0d0887\"], [0.1111111111111111, \"#46039f\"], [0.2222222222222222, \"#7201a8\"], [0.3333333333333333, \"#9c179e\"], [0.4444444444444444, \"#bd3786\"], [0.5555555555555556, \"#d8576b\"], [0.6666666666666666, \"#ed7953\"], [0.7777777777777778, \"#fb9f3a\"], [0.8888888888888888, \"#fdca26\"], [1.0, \"#f0f921\"]], \"type\": \"heatmapgl\"}], \"histogram\": [{\"marker\": {\"colorbar\": {\"outlinewidth\": 0, \"ticks\": \"\"}}, \"type\": \"histogram\"}], \"histogram2d\": [{\"colorbar\": {\"outlinewidth\": 0, \"ticks\": \"\"}, \"colorscale\": [[0.0, \"#0d0887\"], [0.1111111111111111, \"#46039f\"], [0.2222222222222222, \"#7201a8\"], [0.3333333333333333, \"#9c179e\"], [0.4444444444444444, \"#bd3786\"], [0.5555555555555556, \"#d8576b\"], [0.6666666666666666, \"#ed7953\"], [0.7777777777777778, \"#fb9f3a\"], [0.8888888888888888, \"#fdca26\"], [1.0, \"#f0f921\"]], \"type\": \"histogram2d\"}], \"histogram2dcontour\": [{\"colorbar\": {\"outlinewidth\": 0, \"ticks\": \"\"}, \"colorscale\": [[0.0, \"#0d0887\"], [0.1111111111111111, \"#46039f\"], [0.2222222222222222, \"#7201a8\"], [0.3333333333333333, \"#9c179e\"], [0.4444444444444444, \"#bd3786\"], [0.5555555555555556, \"#d8576b\"], [0.6666666666666666, \"#ed7953\"], [0.7777777777777778, \"#fb9f3a\"], [0.8888888888888888, \"#fdca26\"], [1.0, \"#f0f921\"]], \"type\": \"histogram2dcontour\"}], \"mesh3d\": [{\"colorbar\": {\"outlinewidth\": 0, \"ticks\": \"\"}, \"type\": \"mesh3d\"}], \"parcoords\": [{\"line\": {\"colorbar\": {\"outlinewidth\": 0, \"ticks\": \"\"}}, \"type\": \"parcoords\"}], \"pie\": [{\"automargin\": true, \"type\": \"pie\"}], \"scatter\": [{\"marker\": {\"colorbar\": {\"outlinewidth\": 0, \"ticks\": \"\"}}, \"type\": \"scatter\"}], \"scatter3d\": [{\"line\": {\"colorbar\": {\"outlinewidth\": 0, \"ticks\": \"\"}}, \"marker\": {\"colorbar\": {\"outlinewidth\": 0, \"ticks\": \"\"}}, \"type\": \"scatter3d\"}], \"scattercarpet\": [{\"marker\": {\"colorbar\": {\"outlinewidth\": 0, \"ticks\": \"\"}}, \"type\": \"scattercarpet\"}], \"scattergeo\": [{\"marker\": {\"colorbar\": {\"outlinewidth\": 0, \"ticks\": \"\"}}, \"type\": \"scattergeo\"}], \"scattergl\": [{\"marker\": {\"colorbar\": {\"outlinewidth\": 0, \"ticks\": \"\"}}, \"type\": \"scattergl\"}], \"scattermapbox\": [{\"marker\": {\"colorbar\": {\"outlinewidth\": 0, \"ticks\": \"\"}}, \"type\": \"scattermapbox\"}], \"scatterpolar\": [{\"marker\": {\"colorbar\": {\"outlinewidth\": 0, \"ticks\": \"\"}}, \"type\": \"scatterpolar\"}], \"scatterpolargl\": [{\"marker\": {\"colorbar\": {\"outlinewidth\": 0, \"ticks\": \"\"}}, \"type\": \"scatterpolargl\"}], \"scatterternary\": [{\"marker\": {\"colorbar\": {\"outlinewidth\": 0, \"ticks\": \"\"}}, \"type\": \"scatterternary\"}], \"surface\": [{\"colorbar\": {\"outlinewidth\": 0, \"ticks\": \"\"}, \"colorscale\": [[0.0, \"#0d0887\"], [0.1111111111111111, \"#46039f\"], [0.2222222222222222, \"#7201a8\"], [0.3333333333333333, \"#9c179e\"], [0.4444444444444444, \"#bd3786\"], [0.5555555555555556, \"#d8576b\"], [0.6666666666666666, \"#ed7953\"], [0.7777777777777778, \"#fb9f3a\"], [0.8888888888888888, \"#fdca26\"], [1.0, \"#f0f921\"]], \"type\": \"surface\"}], \"table\": [{\"cells\": {\"fill\": {\"color\": \"#EBF0F8\"}, \"line\": {\"color\": \"white\"}}, \"header\": {\"fill\": {\"color\": \"#C8D4E3\"}, \"line\": {\"color\": \"white\"}}, \"type\": \"table\"}]}, \"layout\": {\"annotationdefaults\": {\"arrowcolor\": \"#2a3f5f\", \"arrowhead\": 0, \"arrowwidth\": 1}, \"coloraxis\": {\"colorbar\": {\"outlinewidth\": 0, \"ticks\": \"\"}}, \"colorscale\": {\"diverging\": [[0, \"#8e0152\"], [0.1, \"#c51b7d\"], [0.2, \"#de77ae\"], [0.3, \"#f1b6da\"], [0.4, \"#fde0ef\"], [0.5, \"#f7f7f7\"], [0.6, \"#e6f5d0\"], [0.7, \"#b8e186\"], [0.8, \"#7fbc41\"], [0.9, \"#4d9221\"], [1, \"#276419\"]], \"sequential\": [[0.0, \"#0d0887\"], [0.1111111111111111, \"#46039f\"], [0.2222222222222222, \"#7201a8\"], [0.3333333333333333, \"#9c179e\"], [0.4444444444444444, \"#bd3786\"], [0.5555555555555556, \"#d8576b\"], [0.6666666666666666, \"#ed7953\"], [0.7777777777777778, \"#fb9f3a\"], [0.8888888888888888, \"#fdca26\"], [1.0, \"#f0f921\"]], \"sequentialminus\": [[0.0, \"#0d0887\"], [0.1111111111111111, \"#46039f\"], [0.2222222222222222, \"#7201a8\"], [0.3333333333333333, \"#9c179e\"], [0.4444444444444444, \"#bd3786\"], [0.5555555555555556, \"#d8576b\"], [0.6666666666666666, \"#ed7953\"], [0.7777777777777778, \"#fb9f3a\"], [0.8888888888888888, \"#fdca26\"], [1.0, \"#f0f921\"]]}, \"colorway\": [\"#636efa\", \"#EF553B\", \"#00cc96\", \"#ab63fa\", \"#FFA15A\", \"#19d3f3\", \"#FF6692\", \"#B6E880\", \"#FF97FF\", \"#FECB52\"], \"font\": {\"color\": \"#2a3f5f\"}, \"geo\": {\"bgcolor\": \"white\", \"lakecolor\": \"white\", \"landcolor\": \"#E5ECF6\", \"showlakes\": true, \"showland\": true, \"subunitcolor\": \"white\"}, \"hoverlabel\": {\"align\": \"left\"}, \"hovermode\": \"closest\", \"mapbox\": {\"style\": \"light\"}, \"paper_bgcolor\": \"white\", \"plot_bgcolor\": \"#E5ECF6\", \"polar\": {\"angularaxis\": {\"gridcolor\": \"white\", \"linecolor\": \"white\", \"ticks\": \"\"}, \"bgcolor\": \"#E5ECF6\", \"radialaxis\": {\"gridcolor\": \"white\", \"linecolor\": \"white\", \"ticks\": \"\"}}, \"scene\": {\"xaxis\": {\"backgroundcolor\": \"#E5ECF6\", \"gridcolor\": \"white\", \"gridwidth\": 2, \"linecolor\": \"white\", \"showbackground\": true, \"ticks\": \"\", \"zerolinecolor\": \"white\"}, \"yaxis\": {\"backgroundcolor\": \"#E5ECF6\", \"gridcolor\": \"white\", \"gridwidth\": 2, \"linecolor\": \"white\", \"showbackground\": true, \"ticks\": \"\", \"zerolinecolor\": \"white\"}, \"zaxis\": {\"backgroundcolor\": \"#E5ECF6\", \"gridcolor\": \"white\", \"gridwidth\": 2, \"linecolor\": \"white\", \"showbackground\": true, \"ticks\": \"\", \"zerolinecolor\": \"white\"}}, \"shapedefaults\": {\"line\": {\"color\": \"#2a3f5f\"}}, \"ternary\": {\"aaxis\": {\"gridcolor\": \"white\", \"linecolor\": \"white\", \"ticks\": \"\"}, \"baxis\": {\"gridcolor\": \"white\", \"linecolor\": \"white\", \"ticks\": \"\"}, \"bgcolor\": \"#E5ECF6\", \"caxis\": {\"gridcolor\": \"white\", \"linecolor\": \"white\", \"ticks\": \"\"}}, \"title\": {\"x\": 0.05}, \"xaxis\": {\"automargin\": true, \"gridcolor\": \"white\", \"linecolor\": \"white\", \"ticks\": \"\", \"title\": {\"standoff\": 15}, \"zerolinecolor\": \"white\", \"zerolinewidth\": 2}, \"yaxis\": {\"automargin\": true, \"gridcolor\": \"white\", \"linecolor\": \"white\", \"ticks\": \"\", \"title\": {\"standoff\": 15}, \"zerolinecolor\": \"white\", \"zerolinewidth\": 2}}}, \"title\": {\"font\": {\"color\": \"#4D5663\"}}, \"xaxis\": {\"gridcolor\": \"#E1E5ED\", \"showgrid\": true, \"tickfont\": {\"color\": \"#4D5663\"}, \"title\": {\"font\": {\"color\": \"#4D5663\"}, \"text\": \"\"}, \"zerolinecolor\": \"#E1E5ED\"}, \"yaxis\": {\"gridcolor\": \"#E1E5ED\", \"showgrid\": true, \"tickfont\": {\"color\": \"#4D5663\"}, \"title\": {\"font\": {\"color\": \"#4D5663\"}, \"text\": \"USD/Bbl\"}, \"zerolinecolor\": \"#E1E5ED\"}},\n                        {\"showLink\": true, \"linkText\": \"Export to plot.ly\", \"plotlyServerURL\": \"https://plot.ly\", \"responsive\": true}\n                    ).then(function(){\n                            \nvar gd = document.getElementById('a2a624d3-f5be-48d6-822e-c53badc8817f');\nvar x = new MutationObserver(function (mutations, observer) {{\n        var display = window.getComputedStyle(gd).display;\n        if (!display || display === 'none') {{\n            console.log([gd, 'removed!']);\n            Plotly.purge(gd);\n            observer.disconnect();\n        }}\n}});\n\n// Listen for the removal of the full notebook cells\nvar notebookContainer = gd.closest('#notebook-container');\nif (notebookContainer) {{\n    x.observe(notebookContainer, {childList: true});\n}}\n\n// Listen for the clearing of the current output cell\nvar outputEl = gd.closest('.output');\nif (outputEl) {{\n    x.observe(outputEl, {childList: true});\n}}\n\n                        })\n                };\n                });\n            </script>\n        </div>"
     },
     "metadata": {}
    }
   ],
   "source": [
    "F_CL_Curv_3.iplot(yTitle='USD/Bbl',\n",
    "                    colors=color,\n",
    "                    width=width,\n",
    "                    dash=dash,\n",
    "                    legend =dict(x=0.8,y=0)\n",
    "                )"
   ]
  },
  {
   "cell_type": "code",
   "execution_count": 16,
   "metadata": {},
   "outputs": [
    {
     "output_type": "display_data",
     "data": {
      "application/vnd.plotly.v1+json": {
       "config": {
        "linkText": "Export to plot.ly",
        "plotlyServerURL": "https://plot.ly",
        "showLink": true
       },
       "data": [
        {
         "line": {
          "color": "rgba(255, 153, 51, 1.0)",
          "dash": "solid",
          "shape": "linear",
          "width": 1.3
         },
         "mode": "lines",
         "name": "2020/4/17",
         "text": "",
         "type": "scatter",
         "x": [
          0,
          1,
          2,
          3,
          4,
          5,
          6,
          7,
          8,
          9,
          10,
          11,
          12,
          13,
          14,
          15,
          16,
          17,
          18,
          19,
          20,
          21,
          22,
          23,
          24
         ],
         "y": [
          25.03,
          29.42,
          31.2,
          32.08,
          32.71,
          33.3,
          33.82,
          34.27,
          34.65,
          34.95,
          35.26,
          35.52,
          35.76,
          35.96,
          36.16,
          36.37,
          36.59,
          36.82,
          37.05,
          37.22,
          37.39,
          37.59,
          37.78,
          37.99,
          38.19
         ]
        },
        {
         "line": {
          "color": "rgba(55, 128, 191, 1.0)",
          "dash": "solid",
          "shape": "linear",
          "width": 1.3
         },
         "mode": "lines",
         "name": "2020/5/8",
         "text": "",
         "type": "scatter",
         "x": [
          0,
          1,
          2,
          3,
          4,
          5,
          6,
          7,
          8,
          9,
          10,
          11,
          12,
          13,
          14,
          15,
          16,
          17,
          18,
          19,
          20,
          21,
          22,
          23,
          24
         ],
         "y": [
          24.74,
          26.17,
          28.05,
          29.51,
          30.48,
          31.27,
          31.94,
          32.5,
          32.98,
          33.39,
          33.74,
          34.07,
          34.37,
          34.63,
          34.89,
          35.14,
          35.4,
          35.68,
          35.97,
          36.21,
          36.43,
          36.66,
          36.9,
          37.13,
          37.35
         ]
        }
       ],
       "layout": {
        "legend": {
         "bgcolor": "#FFFFFF",
         "font": {
          "color": "#4D5663"
         }
        },
        "paper_bgcolor": "#FFFFFF",
        "plot_bgcolor": "#FFFFFF",
        "template": {
         "data": {
          "bar": [
           {
            "error_x": {
             "color": "#2a3f5f"
            },
            "error_y": {
             "color": "#2a3f5f"
            },
            "marker": {
             "line": {
              "color": "#E5ECF6",
              "width": 0.5
             }
            },
            "type": "bar"
           }
          ],
          "barpolar": [
           {
            "marker": {
             "line": {
              "color": "#E5ECF6",
              "width": 0.5
             }
            },
            "type": "barpolar"
           }
          ],
          "carpet": [
           {
            "aaxis": {
             "endlinecolor": "#2a3f5f",
             "gridcolor": "white",
             "linecolor": "white",
             "minorgridcolor": "white",
             "startlinecolor": "#2a3f5f"
            },
            "baxis": {
             "endlinecolor": "#2a3f5f",
             "gridcolor": "white",
             "linecolor": "white",
             "minorgridcolor": "white",
             "startlinecolor": "#2a3f5f"
            },
            "type": "carpet"
           }
          ],
          "choropleth": [
           {
            "colorbar": {
             "outlinewidth": 0,
             "ticks": ""
            },
            "type": "choropleth"
           }
          ],
          "contour": [
           {
            "colorbar": {
             "outlinewidth": 0,
             "ticks": ""
            },
            "colorscale": [
             [
              0,
              "#0d0887"
             ],
             [
              0.1111111111111111,
              "#46039f"
             ],
             [
              0.2222222222222222,
              "#7201a8"
             ],
             [
              0.3333333333333333,
              "#9c179e"
             ],
             [
              0.4444444444444444,
              "#bd3786"
             ],
             [
              0.5555555555555556,
              "#d8576b"
             ],
             [
              0.6666666666666666,
              "#ed7953"
             ],
             [
              0.7777777777777778,
              "#fb9f3a"
             ],
             [
              0.8888888888888888,
              "#fdca26"
             ],
             [
              1,
              "#f0f921"
             ]
            ],
            "type": "contour"
           }
          ],
          "contourcarpet": [
           {
            "colorbar": {
             "outlinewidth": 0,
             "ticks": ""
            },
            "type": "contourcarpet"
           }
          ],
          "heatmap": [
           {
            "colorbar": {
             "outlinewidth": 0,
             "ticks": ""
            },
            "colorscale": [
             [
              0,
              "#0d0887"
             ],
             [
              0.1111111111111111,
              "#46039f"
             ],
             [
              0.2222222222222222,
              "#7201a8"
             ],
             [
              0.3333333333333333,
              "#9c179e"
             ],
             [
              0.4444444444444444,
              "#bd3786"
             ],
             [
              0.5555555555555556,
              "#d8576b"
             ],
             [
              0.6666666666666666,
              "#ed7953"
             ],
             [
              0.7777777777777778,
              "#fb9f3a"
             ],
             [
              0.8888888888888888,
              "#fdca26"
             ],
             [
              1,
              "#f0f921"
             ]
            ],
            "type": "heatmap"
           }
          ],
          "heatmapgl": [
           {
            "colorbar": {
             "outlinewidth": 0,
             "ticks": ""
            },
            "colorscale": [
             [
              0,
              "#0d0887"
             ],
             [
              0.1111111111111111,
              "#46039f"
             ],
             [
              0.2222222222222222,
              "#7201a8"
             ],
             [
              0.3333333333333333,
              "#9c179e"
             ],
             [
              0.4444444444444444,
              "#bd3786"
             ],
             [
              0.5555555555555556,
              "#d8576b"
             ],
             [
              0.6666666666666666,
              "#ed7953"
             ],
             [
              0.7777777777777778,
              "#fb9f3a"
             ],
             [
              0.8888888888888888,
              "#fdca26"
             ],
             [
              1,
              "#f0f921"
             ]
            ],
            "type": "heatmapgl"
           }
          ],
          "histogram": [
           {
            "marker": {
             "colorbar": {
              "outlinewidth": 0,
              "ticks": ""
             }
            },
            "type": "histogram"
           }
          ],
          "histogram2d": [
           {
            "colorbar": {
             "outlinewidth": 0,
             "ticks": ""
            },
            "colorscale": [
             [
              0,
              "#0d0887"
             ],
             [
              0.1111111111111111,
              "#46039f"
             ],
             [
              0.2222222222222222,
              "#7201a8"
             ],
             [
              0.3333333333333333,
              "#9c179e"
             ],
             [
              0.4444444444444444,
              "#bd3786"
             ],
             [
              0.5555555555555556,
              "#d8576b"
             ],
             [
              0.6666666666666666,
              "#ed7953"
             ],
             [
              0.7777777777777778,
              "#fb9f3a"
             ],
             [
              0.8888888888888888,
              "#fdca26"
             ],
             [
              1,
              "#f0f921"
             ]
            ],
            "type": "histogram2d"
           }
          ],
          "histogram2dcontour": [
           {
            "colorbar": {
             "outlinewidth": 0,
             "ticks": ""
            },
            "colorscale": [
             [
              0,
              "#0d0887"
             ],
             [
              0.1111111111111111,
              "#46039f"
             ],
             [
              0.2222222222222222,
              "#7201a8"
             ],
             [
              0.3333333333333333,
              "#9c179e"
             ],
             [
              0.4444444444444444,
              "#bd3786"
             ],
             [
              0.5555555555555556,
              "#d8576b"
             ],
             [
              0.6666666666666666,
              "#ed7953"
             ],
             [
              0.7777777777777778,
              "#fb9f3a"
             ],
             [
              0.8888888888888888,
              "#fdca26"
             ],
             [
              1,
              "#f0f921"
             ]
            ],
            "type": "histogram2dcontour"
           }
          ],
          "mesh3d": [
           {
            "colorbar": {
             "outlinewidth": 0,
             "ticks": ""
            },
            "type": "mesh3d"
           }
          ],
          "parcoords": [
           {
            "line": {
             "colorbar": {
              "outlinewidth": 0,
              "ticks": ""
             }
            },
            "type": "parcoords"
           }
          ],
          "pie": [
           {
            "automargin": true,
            "type": "pie"
           }
          ],
          "scatter": [
           {
            "marker": {
             "colorbar": {
              "outlinewidth": 0,
              "ticks": ""
             }
            },
            "type": "scatter"
           }
          ],
          "scatter3d": [
           {
            "line": {
             "colorbar": {
              "outlinewidth": 0,
              "ticks": ""
             }
            },
            "marker": {
             "colorbar": {
              "outlinewidth": 0,
              "ticks": ""
             }
            },
            "type": "scatter3d"
           }
          ],
          "scattercarpet": [
           {
            "marker": {
             "colorbar": {
              "outlinewidth": 0,
              "ticks": ""
             }
            },
            "type": "scattercarpet"
           }
          ],
          "scattergeo": [
           {
            "marker": {
             "colorbar": {
              "outlinewidth": 0,
              "ticks": ""
             }
            },
            "type": "scattergeo"
           }
          ],
          "scattergl": [
           {
            "marker": {
             "colorbar": {
              "outlinewidth": 0,
              "ticks": ""
             }
            },
            "type": "scattergl"
           }
          ],
          "scattermapbox": [
           {
            "marker": {
             "colorbar": {
              "outlinewidth": 0,
              "ticks": ""
             }
            },
            "type": "scattermapbox"
           }
          ],
          "scatterpolar": [
           {
            "marker": {
             "colorbar": {
              "outlinewidth": 0,
              "ticks": ""
             }
            },
            "type": "scatterpolar"
           }
          ],
          "scatterpolargl": [
           {
            "marker": {
             "colorbar": {
              "outlinewidth": 0,
              "ticks": ""
             }
            },
            "type": "scatterpolargl"
           }
          ],
          "scatterternary": [
           {
            "marker": {
             "colorbar": {
              "outlinewidth": 0,
              "ticks": ""
             }
            },
            "type": "scatterternary"
           }
          ],
          "surface": [
           {
            "colorbar": {
             "outlinewidth": 0,
             "ticks": ""
            },
            "colorscale": [
             [
              0,
              "#0d0887"
             ],
             [
              0.1111111111111111,
              "#46039f"
             ],
             [
              0.2222222222222222,
              "#7201a8"
             ],
             [
              0.3333333333333333,
              "#9c179e"
             ],
             [
              0.4444444444444444,
              "#bd3786"
             ],
             [
              0.5555555555555556,
              "#d8576b"
             ],
             [
              0.6666666666666666,
              "#ed7953"
             ],
             [
              0.7777777777777778,
              "#fb9f3a"
             ],
             [
              0.8888888888888888,
              "#fdca26"
             ],
             [
              1,
              "#f0f921"
             ]
            ],
            "type": "surface"
           }
          ],
          "table": [
           {
            "cells": {
             "fill": {
              "color": "#EBF0F8"
             },
             "line": {
              "color": "white"
             }
            },
            "header": {
             "fill": {
              "color": "#C8D4E3"
             },
             "line": {
              "color": "white"
             }
            },
            "type": "table"
           }
          ]
         },
         "layout": {
          "annotationdefaults": {
           "arrowcolor": "#2a3f5f",
           "arrowhead": 0,
           "arrowwidth": 1
          },
          "coloraxis": {
           "colorbar": {
            "outlinewidth": 0,
            "ticks": ""
           }
          },
          "colorscale": {
           "diverging": [
            [
             0,
             "#8e0152"
            ],
            [
             0.1,
             "#c51b7d"
            ],
            [
             0.2,
             "#de77ae"
            ],
            [
             0.3,
             "#f1b6da"
            ],
            [
             0.4,
             "#fde0ef"
            ],
            [
             0.5,
             "#f7f7f7"
            ],
            [
             0.6,
             "#e6f5d0"
            ],
            [
             0.7,
             "#b8e186"
            ],
            [
             0.8,
             "#7fbc41"
            ],
            [
             0.9,
             "#4d9221"
            ],
            [
             1,
             "#276419"
            ]
           ],
           "sequential": [
            [
             0,
             "#0d0887"
            ],
            [
             0.1111111111111111,
             "#46039f"
            ],
            [
             0.2222222222222222,
             "#7201a8"
            ],
            [
             0.3333333333333333,
             "#9c179e"
            ],
            [
             0.4444444444444444,
             "#bd3786"
            ],
            [
             0.5555555555555556,
             "#d8576b"
            ],
            [
             0.6666666666666666,
             "#ed7953"
            ],
            [
             0.7777777777777778,
             "#fb9f3a"
            ],
            [
             0.8888888888888888,
             "#fdca26"
            ],
            [
             1,
             "#f0f921"
            ]
           ],
           "sequentialminus": [
            [
             0,
             "#0d0887"
            ],
            [
             0.1111111111111111,
             "#46039f"
            ],
            [
             0.2222222222222222,
             "#7201a8"
            ],
            [
             0.3333333333333333,
             "#9c179e"
            ],
            [
             0.4444444444444444,
             "#bd3786"
            ],
            [
             0.5555555555555556,
             "#d8576b"
            ],
            [
             0.6666666666666666,
             "#ed7953"
            ],
            [
             0.7777777777777778,
             "#fb9f3a"
            ],
            [
             0.8888888888888888,
             "#fdca26"
            ],
            [
             1,
             "#f0f921"
            ]
           ]
          },
          "colorway": [
           "#636efa",
           "#EF553B",
           "#00cc96",
           "#ab63fa",
           "#FFA15A",
           "#19d3f3",
           "#FF6692",
           "#B6E880",
           "#FF97FF",
           "#FECB52"
          ],
          "font": {
           "color": "#2a3f5f"
          },
          "geo": {
           "bgcolor": "white",
           "lakecolor": "white",
           "landcolor": "#E5ECF6",
           "showlakes": true,
           "showland": true,
           "subunitcolor": "white"
          },
          "hoverlabel": {
           "align": "left"
          },
          "hovermode": "closest",
          "mapbox": {
           "style": "light"
          },
          "paper_bgcolor": "white",
          "plot_bgcolor": "#E5ECF6",
          "polar": {
           "angularaxis": {
            "gridcolor": "white",
            "linecolor": "white",
            "ticks": ""
           },
           "bgcolor": "#E5ECF6",
           "radialaxis": {
            "gridcolor": "white",
            "linecolor": "white",
            "ticks": ""
           }
          },
          "scene": {
           "xaxis": {
            "backgroundcolor": "#E5ECF6",
            "gridcolor": "white",
            "gridwidth": 2,
            "linecolor": "white",
            "showbackground": true,
            "ticks": "",
            "zerolinecolor": "white"
           },
           "yaxis": {
            "backgroundcolor": "#E5ECF6",
            "gridcolor": "white",
            "gridwidth": 2,
            "linecolor": "white",
            "showbackground": true,
            "ticks": "",
            "zerolinecolor": "white"
           },
           "zaxis": {
            "backgroundcolor": "#E5ECF6",
            "gridcolor": "white",
            "gridwidth": 2,
            "linecolor": "white",
            "showbackground": true,
            "ticks": "",
            "zerolinecolor": "white"
           }
          },
          "shapedefaults": {
           "line": {
            "color": "#2a3f5f"
           }
          },
          "ternary": {
           "aaxis": {
            "gridcolor": "white",
            "linecolor": "white",
            "ticks": ""
           },
           "baxis": {
            "gridcolor": "white",
            "linecolor": "white",
            "ticks": ""
           },
           "bgcolor": "#E5ECF6",
           "caxis": {
            "gridcolor": "white",
            "linecolor": "white",
            "ticks": ""
           }
          },
          "title": {
           "x": 0.05
          },
          "xaxis": {
           "automargin": true,
           "gridcolor": "white",
           "linecolor": "white",
           "ticks": "",
           "title": {
            "standoff": 15
           },
           "zerolinecolor": "white",
           "zerolinewidth": 2
          },
          "yaxis": {
           "automargin": true,
           "gridcolor": "white",
           "linecolor": "white",
           "ticks": "",
           "title": {
            "standoff": 15
           },
           "zerolinecolor": "white",
           "zerolinewidth": 2
          }
         }
        },
        "title": {
         "font": {
          "color": "#4D5663"
         }
        },
        "xaxis": {
         "gridcolor": "#E1E5ED",
         "showgrid": true,
         "tickfont": {
          "color": "#4D5663"
         },
         "title": {
          "font": {
           "color": "#4D5663"
          },
          "text": ""
         },
         "zerolinecolor": "#E1E5ED"
        },
        "yaxis": {
         "gridcolor": "#E1E5ED",
         "showgrid": true,
         "tickfont": {
          "color": "#4D5663"
         },
         "title": {
          "font": {
           "color": "#4D5663"
          },
          "text": ""
         },
         "zerolinecolor": "#E1E5ED"
        }
       }
      },
      "text/html": "<div>\n        \n        \n            <div id=\"1279cc86-f4fa-4fb5-b29a-ebdb9bcba1b1\" class=\"plotly-graph-div\" style=\"height:525px; width:100%;\"></div>\n            <script type=\"text/javascript\">\n                require([\"plotly\"], function(Plotly) {\n                    window.PLOTLYENV=window.PLOTLYENV || {};\n                    window.PLOTLYENV.BASE_URL='https://plot.ly';\n                    \n                if (document.getElementById(\"1279cc86-f4fa-4fb5-b29a-ebdb9bcba1b1\")) {\n                    Plotly.newPlot(\n                        '1279cc86-f4fa-4fb5-b29a-ebdb9bcba1b1',\n                        [{\"line\": {\"color\": \"rgba(255, 153, 51, 1.0)\", \"dash\": \"solid\", \"shape\": \"linear\", \"width\": 1.3}, \"mode\": \"lines\", \"name\": \"2020/4/17\", \"text\": \"\", \"type\": \"scatter\", \"x\": [0, 1, 2, 3, 4, 5, 6, 7, 8, 9, 10, 11, 12, 13, 14, 15, 16, 17, 18, 19, 20, 21, 22, 23, 24], \"y\": [25.03, 29.42, 31.2, 32.08, 32.71, 33.3, 33.82, 34.27, 34.65, 34.95, 35.26, 35.52, 35.76, 35.96, 36.16, 36.37, 36.59, 36.82, 37.05, 37.22, 37.39, 37.59, 37.78, 37.99, 38.19]}, {\"line\": {\"color\": \"rgba(55, 128, 191, 1.0)\", \"dash\": \"solid\", \"shape\": \"linear\", \"width\": 1.3}, \"mode\": \"lines\", \"name\": \"2020/5/8\", \"text\": \"\", \"type\": \"scatter\", \"x\": [0, 1, 2, 3, 4, 5, 6, 7, 8, 9, 10, 11, 12, 13, 14, 15, 16, 17, 18, 19, 20, 21, 22, 23, 24], \"y\": [24.74, 26.17, 28.05, 29.51, 30.48, 31.27, 31.94, 32.5, 32.98, 33.39, 33.74, 34.07, 34.37, 34.63, 34.89, 35.14, 35.4, 35.68, 35.97, 36.21, 36.43, 36.66, 36.9, 37.13, 37.35]}],\n                        {\"legend\": {\"bgcolor\": \"#FFFFFF\", \"font\": {\"color\": \"#4D5663\"}}, \"paper_bgcolor\": \"#FFFFFF\", \"plot_bgcolor\": \"#FFFFFF\", \"template\": {\"data\": {\"bar\": [{\"error_x\": {\"color\": \"#2a3f5f\"}, \"error_y\": {\"color\": \"#2a3f5f\"}, \"marker\": {\"line\": {\"color\": \"#E5ECF6\", \"width\": 0.5}}, \"type\": \"bar\"}], \"barpolar\": [{\"marker\": {\"line\": {\"color\": \"#E5ECF6\", \"width\": 0.5}}, \"type\": \"barpolar\"}], \"carpet\": [{\"aaxis\": {\"endlinecolor\": \"#2a3f5f\", \"gridcolor\": \"white\", \"linecolor\": \"white\", \"minorgridcolor\": \"white\", \"startlinecolor\": \"#2a3f5f\"}, \"baxis\": {\"endlinecolor\": \"#2a3f5f\", \"gridcolor\": \"white\", \"linecolor\": \"white\", \"minorgridcolor\": \"white\", \"startlinecolor\": \"#2a3f5f\"}, \"type\": \"carpet\"}], \"choropleth\": [{\"colorbar\": {\"outlinewidth\": 0, \"ticks\": \"\"}, \"type\": \"choropleth\"}], \"contour\": [{\"colorbar\": {\"outlinewidth\": 0, \"ticks\": \"\"}, \"colorscale\": [[0.0, \"#0d0887\"], [0.1111111111111111, \"#46039f\"], [0.2222222222222222, \"#7201a8\"], [0.3333333333333333, \"#9c179e\"], [0.4444444444444444, \"#bd3786\"], [0.5555555555555556, \"#d8576b\"], [0.6666666666666666, \"#ed7953\"], [0.7777777777777778, \"#fb9f3a\"], [0.8888888888888888, \"#fdca26\"], [1.0, \"#f0f921\"]], \"type\": \"contour\"}], \"contourcarpet\": [{\"colorbar\": {\"outlinewidth\": 0, \"ticks\": \"\"}, \"type\": \"contourcarpet\"}], \"heatmap\": [{\"colorbar\": {\"outlinewidth\": 0, \"ticks\": \"\"}, \"colorscale\": [[0.0, \"#0d0887\"], [0.1111111111111111, \"#46039f\"], [0.2222222222222222, \"#7201a8\"], [0.3333333333333333, \"#9c179e\"], [0.4444444444444444, \"#bd3786\"], [0.5555555555555556, \"#d8576b\"], [0.6666666666666666, \"#ed7953\"], [0.7777777777777778, \"#fb9f3a\"], [0.8888888888888888, \"#fdca26\"], [1.0, \"#f0f921\"]], \"type\": \"heatmap\"}], \"heatmapgl\": [{\"colorbar\": {\"outlinewidth\": 0, \"ticks\": \"\"}, \"colorscale\": [[0.0, \"#0d0887\"], [0.1111111111111111, \"#46039f\"], [0.2222222222222222, \"#7201a8\"], [0.3333333333333333, \"#9c179e\"], [0.4444444444444444, \"#bd3786\"], [0.5555555555555556, \"#d8576b\"], [0.6666666666666666, \"#ed7953\"], [0.7777777777777778, \"#fb9f3a\"], [0.8888888888888888, \"#fdca26\"], [1.0, \"#f0f921\"]], \"type\": \"heatmapgl\"}], \"histogram\": [{\"marker\": {\"colorbar\": {\"outlinewidth\": 0, \"ticks\": \"\"}}, \"type\": \"histogram\"}], \"histogram2d\": [{\"colorbar\": {\"outlinewidth\": 0, \"ticks\": \"\"}, \"colorscale\": [[0.0, \"#0d0887\"], [0.1111111111111111, \"#46039f\"], [0.2222222222222222, \"#7201a8\"], [0.3333333333333333, \"#9c179e\"], [0.4444444444444444, \"#bd3786\"], [0.5555555555555556, \"#d8576b\"], [0.6666666666666666, \"#ed7953\"], [0.7777777777777778, \"#fb9f3a\"], [0.8888888888888888, \"#fdca26\"], [1.0, \"#f0f921\"]], \"type\": \"histogram2d\"}], \"histogram2dcontour\": [{\"colorbar\": {\"outlinewidth\": 0, \"ticks\": \"\"}, \"colorscale\": [[0.0, \"#0d0887\"], [0.1111111111111111, \"#46039f\"], [0.2222222222222222, \"#7201a8\"], [0.3333333333333333, \"#9c179e\"], [0.4444444444444444, \"#bd3786\"], [0.5555555555555556, \"#d8576b\"], [0.6666666666666666, \"#ed7953\"], [0.7777777777777778, \"#fb9f3a\"], [0.8888888888888888, \"#fdca26\"], [1.0, \"#f0f921\"]], \"type\": \"histogram2dcontour\"}], \"mesh3d\": [{\"colorbar\": {\"outlinewidth\": 0, \"ticks\": \"\"}, \"type\": \"mesh3d\"}], \"parcoords\": [{\"line\": {\"colorbar\": {\"outlinewidth\": 0, \"ticks\": \"\"}}, \"type\": \"parcoords\"}], \"pie\": [{\"automargin\": true, \"type\": \"pie\"}], \"scatter\": [{\"marker\": {\"colorbar\": {\"outlinewidth\": 0, \"ticks\": \"\"}}, \"type\": \"scatter\"}], \"scatter3d\": [{\"line\": {\"colorbar\": {\"outlinewidth\": 0, \"ticks\": \"\"}}, \"marker\": {\"colorbar\": {\"outlinewidth\": 0, \"ticks\": \"\"}}, \"type\": \"scatter3d\"}], \"scattercarpet\": [{\"marker\": {\"colorbar\": {\"outlinewidth\": 0, \"ticks\": \"\"}}, \"type\": \"scattercarpet\"}], \"scattergeo\": [{\"marker\": {\"colorbar\": {\"outlinewidth\": 0, \"ticks\": \"\"}}, \"type\": \"scattergeo\"}], \"scattergl\": [{\"marker\": {\"colorbar\": {\"outlinewidth\": 0, \"ticks\": \"\"}}, \"type\": \"scattergl\"}], \"scattermapbox\": [{\"marker\": {\"colorbar\": {\"outlinewidth\": 0, \"ticks\": \"\"}}, \"type\": \"scattermapbox\"}], \"scatterpolar\": [{\"marker\": {\"colorbar\": {\"outlinewidth\": 0, \"ticks\": \"\"}}, \"type\": \"scatterpolar\"}], \"scatterpolargl\": [{\"marker\": {\"colorbar\": {\"outlinewidth\": 0, \"ticks\": \"\"}}, \"type\": \"scatterpolargl\"}], \"scatterternary\": [{\"marker\": {\"colorbar\": {\"outlinewidth\": 0, \"ticks\": \"\"}}, \"type\": \"scatterternary\"}], \"surface\": [{\"colorbar\": {\"outlinewidth\": 0, \"ticks\": \"\"}, \"colorscale\": [[0.0, \"#0d0887\"], [0.1111111111111111, \"#46039f\"], [0.2222222222222222, \"#7201a8\"], [0.3333333333333333, \"#9c179e\"], [0.4444444444444444, \"#bd3786\"], [0.5555555555555556, \"#d8576b\"], [0.6666666666666666, \"#ed7953\"], [0.7777777777777778, \"#fb9f3a\"], [0.8888888888888888, \"#fdca26\"], [1.0, \"#f0f921\"]], \"type\": \"surface\"}], \"table\": [{\"cells\": {\"fill\": {\"color\": \"#EBF0F8\"}, \"line\": {\"color\": \"white\"}}, \"header\": {\"fill\": {\"color\": \"#C8D4E3\"}, \"line\": {\"color\": \"white\"}}, \"type\": \"table\"}]}, \"layout\": {\"annotationdefaults\": {\"arrowcolor\": \"#2a3f5f\", \"arrowhead\": 0, \"arrowwidth\": 1}, \"coloraxis\": {\"colorbar\": {\"outlinewidth\": 0, \"ticks\": \"\"}}, \"colorscale\": {\"diverging\": [[0, \"#8e0152\"], [0.1, \"#c51b7d\"], [0.2, \"#de77ae\"], [0.3, \"#f1b6da\"], [0.4, \"#fde0ef\"], [0.5, \"#f7f7f7\"], [0.6, \"#e6f5d0\"], [0.7, \"#b8e186\"], [0.8, \"#7fbc41\"], [0.9, \"#4d9221\"], [1, \"#276419\"]], \"sequential\": [[0.0, \"#0d0887\"], [0.1111111111111111, \"#46039f\"], [0.2222222222222222, \"#7201a8\"], [0.3333333333333333, \"#9c179e\"], [0.4444444444444444, \"#bd3786\"], [0.5555555555555556, \"#d8576b\"], [0.6666666666666666, \"#ed7953\"], [0.7777777777777778, \"#fb9f3a\"], [0.8888888888888888, \"#fdca26\"], [1.0, \"#f0f921\"]], \"sequentialminus\": [[0.0, \"#0d0887\"], [0.1111111111111111, \"#46039f\"], [0.2222222222222222, \"#7201a8\"], [0.3333333333333333, \"#9c179e\"], [0.4444444444444444, \"#bd3786\"], [0.5555555555555556, \"#d8576b\"], [0.6666666666666666, \"#ed7953\"], [0.7777777777777778, \"#fb9f3a\"], [0.8888888888888888, \"#fdca26\"], [1.0, \"#f0f921\"]]}, \"colorway\": [\"#636efa\", \"#EF553B\", \"#00cc96\", \"#ab63fa\", \"#FFA15A\", \"#19d3f3\", \"#FF6692\", \"#B6E880\", \"#FF97FF\", \"#FECB52\"], \"font\": {\"color\": \"#2a3f5f\"}, \"geo\": {\"bgcolor\": \"white\", \"lakecolor\": \"white\", \"landcolor\": \"#E5ECF6\", \"showlakes\": true, \"showland\": true, \"subunitcolor\": \"white\"}, \"hoverlabel\": {\"align\": \"left\"}, \"hovermode\": \"closest\", \"mapbox\": {\"style\": \"light\"}, \"paper_bgcolor\": \"white\", \"plot_bgcolor\": \"#E5ECF6\", \"polar\": {\"angularaxis\": {\"gridcolor\": \"white\", \"linecolor\": \"white\", \"ticks\": \"\"}, \"bgcolor\": \"#E5ECF6\", \"radialaxis\": {\"gridcolor\": \"white\", \"linecolor\": \"white\", \"ticks\": \"\"}}, \"scene\": {\"xaxis\": {\"backgroundcolor\": \"#E5ECF6\", \"gridcolor\": \"white\", \"gridwidth\": 2, \"linecolor\": \"white\", \"showbackground\": true, \"ticks\": \"\", \"zerolinecolor\": \"white\"}, \"yaxis\": {\"backgroundcolor\": \"#E5ECF6\", \"gridcolor\": \"white\", \"gridwidth\": 2, \"linecolor\": \"white\", \"showbackground\": true, \"ticks\": \"\", \"zerolinecolor\": \"white\"}, \"zaxis\": {\"backgroundcolor\": \"#E5ECF6\", \"gridcolor\": \"white\", \"gridwidth\": 2, \"linecolor\": \"white\", \"showbackground\": true, \"ticks\": \"\", \"zerolinecolor\": \"white\"}}, \"shapedefaults\": {\"line\": {\"color\": \"#2a3f5f\"}}, \"ternary\": {\"aaxis\": {\"gridcolor\": \"white\", \"linecolor\": \"white\", \"ticks\": \"\"}, \"baxis\": {\"gridcolor\": \"white\", \"linecolor\": \"white\", \"ticks\": \"\"}, \"bgcolor\": \"#E5ECF6\", \"caxis\": {\"gridcolor\": \"white\", \"linecolor\": \"white\", \"ticks\": \"\"}}, \"title\": {\"x\": 0.05}, \"xaxis\": {\"automargin\": true, \"gridcolor\": \"white\", \"linecolor\": \"white\", \"ticks\": \"\", \"title\": {\"standoff\": 15}, \"zerolinecolor\": \"white\", \"zerolinewidth\": 2}, \"yaxis\": {\"automargin\": true, \"gridcolor\": \"white\", \"linecolor\": \"white\", \"ticks\": \"\", \"title\": {\"standoff\": 15}, \"zerolinecolor\": \"white\", \"zerolinewidth\": 2}}}, \"title\": {\"font\": {\"color\": \"#4D5663\"}}, \"xaxis\": {\"gridcolor\": \"#E1E5ED\", \"showgrid\": true, \"tickfont\": {\"color\": \"#4D5663\"}, \"title\": {\"font\": {\"color\": \"#4D5663\"}, \"text\": \"\"}, \"zerolinecolor\": \"#E1E5ED\"}, \"yaxis\": {\"gridcolor\": \"#E1E5ED\", \"showgrid\": true, \"tickfont\": {\"color\": \"#4D5663\"}, \"title\": {\"font\": {\"color\": \"#4D5663\"}, \"text\": \"\"}, \"zerolinecolor\": \"#E1E5ED\"}},\n                        {\"showLink\": true, \"linkText\": \"Export to plot.ly\", \"plotlyServerURL\": \"https://plot.ly\", \"responsive\": true}\n                    ).then(function(){\n                            \nvar gd = document.getElementById('1279cc86-f4fa-4fb5-b29a-ebdb9bcba1b1');\nvar x = new MutationObserver(function (mutations, observer) {{\n        var display = window.getComputedStyle(gd).display;\n        if (!display || display === 'none') {{\n            console.log([gd, 'removed!']);\n            Plotly.purge(gd);\n            observer.disconnect();\n        }}\n}});\n\n// Listen for the removal of the full notebook cells\nvar notebookContainer = gd.closest('#notebook-container');\nif (notebookContainer) {{\n    x.observe(notebookContainer, {childList: true});\n}}\n\n// Listen for the clearing of the current output cell\nvar outputEl = gd.closest('.output');\nif (outputEl) {{\n    x.observe(outputEl, {childList: true});\n}}\n\n                        })\n                };\n                });\n            </script>\n        </div>"
     },
     "metadata": {}
    }
   ],
   "source": [
    "F_CL_Curv_3.iloc[:,1::2].iplot()"
   ]
  },
  {
   "cell_type": "code",
   "execution_count": 17,
   "metadata": {},
   "outputs": [],
   "source": [
    "data2 = ek.get_timeseries(list(FFcurve[0]['Instrument'].iloc[:24]),  # the RICs\n",
    "                         fields='CLOSE',  # the required fields\n",
    "                         start_date='2015-11-01',  # start date\n",
    "                         end_date='2020-05-11',\n",
    "                         interval='monthly')  # end date"
   ]
  },
  {
   "cell_type": "code",
   "execution_count": 22,
   "metadata": {},
   "outputs": [],
   "source": [
    "data4 = ek.get_timeseries(list(FFcurve[0]['Instrument'].iloc[:24]),  # the RICs\n",
    "                         fields='CLOSE',  # the required fields\n",
    "                         start_date='2019-12-15',  # start date\n",
    "                         end_date='2020-05-11',\n",
    "                         interval='daily')  # end date"
   ]
  },
  {
   "cell_type": "code",
   "execution_count": null,
   "metadata": {},
   "outputs": [],
   "source": [
    "rics =['CLc1']\n",
    "data4 = ek.get_timeseries(list(FFcurve[0]['Instrument'].iloc[:24]),  # the RICs\n",
    "                         fields='CLOSE',  # the required fields\n",
    "                         start_date='2019-12-15',  # start date\n",
    "                         end_date='2020-05-11',\n",
    "                         interval='daily')  # end date"
   ]
  },
  {
   "cell_type": "code",
   "execution_count": 24,
   "metadata": {},
   "outputs": [
    {
     "output_type": "execute_result",
     "data": {
      "text/plain": "CLOSE        CLM0   CLN0\nDate                    \n2019-12-16  58.56  58.08\n2019-12-17  59.09  58.56\n2019-12-18  59.18  58.63\n2019-12-19  59.43  58.85\n2019-12-20  59.07  58.54\n...           ...    ...\n2020-05-05  24.56  26.49\n2020-05-06  23.99  25.62\n2020-05-07  23.55  24.83\n2020-05-08  24.74  26.17\n2020-05-11  24.14  25.08\n\n[101 rows x 2 columns]",
      "text/html": "<div>\n<style scoped>\n    .dataframe tbody tr th:only-of-type {\n        vertical-align: middle;\n    }\n\n    .dataframe tbody tr th {\n        vertical-align: top;\n    }\n\n    .dataframe thead th {\n        text-align: right;\n    }\n</style>\n<table border=\"1\" class=\"dataframe\">\n  <thead>\n    <tr style=\"text-align: right;\">\n      <th>CLOSE</th>\n      <th>CLM0</th>\n      <th>CLN0</th>\n    </tr>\n    <tr>\n      <th>Date</th>\n      <th></th>\n      <th></th>\n    </tr>\n  </thead>\n  <tbody>\n    <tr>\n      <th>2019-12-16</th>\n      <td>58.56</td>\n      <td>58.08</td>\n    </tr>\n    <tr>\n      <th>2019-12-17</th>\n      <td>59.09</td>\n      <td>58.56</td>\n    </tr>\n    <tr>\n      <th>2019-12-18</th>\n      <td>59.18</td>\n      <td>58.63</td>\n    </tr>\n    <tr>\n      <th>2019-12-19</th>\n      <td>59.43</td>\n      <td>58.85</td>\n    </tr>\n    <tr>\n      <th>2019-12-20</th>\n      <td>59.07</td>\n      <td>58.54</td>\n    </tr>\n    <tr>\n      <th>...</th>\n      <td>...</td>\n      <td>...</td>\n    </tr>\n    <tr>\n      <th>2020-05-05</th>\n      <td>24.56</td>\n      <td>26.49</td>\n    </tr>\n    <tr>\n      <th>2020-05-06</th>\n      <td>23.99</td>\n      <td>25.62</td>\n    </tr>\n    <tr>\n      <th>2020-05-07</th>\n      <td>23.55</td>\n      <td>24.83</td>\n    </tr>\n    <tr>\n      <th>2020-05-08</th>\n      <td>24.74</td>\n      <td>26.17</td>\n    </tr>\n    <tr>\n      <th>2020-05-11</th>\n      <td>24.14</td>\n      <td>25.08</td>\n    </tr>\n  </tbody>\n</table>\n<p>101 rows × 2 columns</p>\n</div>"
     },
     "metadata": {},
     "execution_count": 24
    }
   ],
   "source": [
    "CLc1_c2 = data4.dropna(how='any').iloc[:,:2]\n",
    "CLc1_c2"
   ]
  },
  {
   "cell_type": "code",
   "execution_count": 20,
   "metadata": {},
   "outputs": [
    {
     "output_type": "display_data",
     "data": {
      "application/vnd.plotly.v1+json": {
       "config": {
        "linkText": "Export to plot.ly",
        "plotlyServerURL": "https://plot.ly",
        "showLink": true
       },
       "data": [
        {
         "line": {
          "color": "rgba(255, 153, 51, 1.0)",
          "dash": "solid",
          "shape": "linear",
          "width": 1.3
         },
         "mode": "lines",
         "name": "CLM0",
         "text": "",
         "type": "scatter",
         "x": [
          "2019-12-16",
          "2019-12-17",
          "2019-12-18",
          "2019-12-19",
          "2019-12-20",
          "2019-12-23",
          "2019-12-24",
          "2019-12-26",
          "2019-12-27",
          "2019-12-30",
          "2019-12-31",
          "2020-01-02",
          "2020-01-03",
          "2020-01-06",
          "2020-01-07",
          "2020-01-08",
          "2020-01-09",
          "2020-01-10",
          "2020-01-13",
          "2020-01-14",
          "2020-01-15",
          "2020-01-16",
          "2020-01-17",
          "2020-01-21",
          "2020-01-22",
          "2020-01-23",
          "2020-01-24",
          "2020-01-27",
          "2020-01-28",
          "2020-01-29",
          "2020-01-30",
          "2020-01-31",
          "2020-02-03",
          "2020-02-04",
          "2020-02-05",
          "2020-02-06",
          "2020-02-07",
          "2020-02-10",
          "2020-02-11",
          "2020-02-12",
          "2020-02-13",
          "2020-02-14",
          "2020-02-18",
          "2020-02-19",
          "2020-02-20",
          "2020-02-21",
          "2020-02-24",
          "2020-02-25",
          "2020-02-26",
          "2020-02-27",
          "2020-02-28",
          "2020-03-02",
          "2020-03-03",
          "2020-03-04",
          "2020-03-05",
          "2020-03-06",
          "2020-03-09",
          "2020-03-10",
          "2020-03-11",
          "2020-03-12",
          "2020-03-13",
          "2020-03-16",
          "2020-03-17",
          "2020-03-18",
          "2020-03-19",
          "2020-03-20",
          "2020-03-23",
          "2020-03-24",
          "2020-03-25",
          "2020-03-26",
          "2020-03-27",
          "2020-03-30",
          "2020-03-31",
          "2020-04-01",
          "2020-04-02",
          "2020-04-03",
          "2020-04-06",
          "2020-04-07",
          "2020-04-08",
          "2020-04-09",
          "2020-04-13",
          "2020-04-14",
          "2020-04-15",
          "2020-04-16",
          "2020-04-17",
          "2020-04-20",
          "2020-04-21",
          "2020-04-22",
          "2020-04-23",
          "2020-04-24",
          "2020-04-27",
          "2020-04-28",
          "2020-04-29",
          "2020-04-30",
          "2020-05-01",
          "2020-05-04",
          "2020-05-05",
          "2020-05-06",
          "2020-05-07",
          "2020-05-08",
          "2020-05-11"
         ],
         "y": [
          58.56,
          59.09,
          59.18,
          59.43,
          59.07,
          59.2,
          59.78,
          60.21,
          60.28,
          60.14,
          59.44,
          59.77,
          61.46,
          61.68,
          61.32,
          58.52,
          58.63,
          58.32,
          57.56,
          57.76,
          57.3,
          57.88,
          57.96,
          57.85,
          56.43,
          55.34,
          53.91,
          52.97,
          53.33,
          53.31,
          52.23,
          51.8,
          50.58,
          50.19,
          51.31,
          51.58,
          51.04,
          50.25,
          50.68,
          51.91,
          52.15,
          52.79,
          52.82,
          53.9,
          54.13,
          53.54,
          51.67,
          50.13,
          48.96,
          47.44,
          45.1,
          47.05,
          47.45,
          47.11,
          46.21,
          41.77,
          31.94,
          35.14,
          33.86,
          32.51,
          32.59,
          29.55,
          28.05,
          21.93,
          26.79,
          24.36,
          25.48,
          26.2,
          27.16,
          25.71,
          25.15,
          24.09,
          24.51,
          23.74,
          28.05,
          30.9,
          29.98,
          28.69,
          30.17,
          28.82,
          29.26,
          27.4,
          26.04,
          25.53,
          25.03,
          20.43,
          11.57,
          13.78,
          16.5,
          16.94,
          12.78,
          12.34,
          15.06,
          18.84,
          19.78,
          20.39,
          24.56,
          23.99,
          23.55,
          24.74,
          24.14
         ]
        },
        {
         "line": {
          "color": "rgba(55, 128, 191, 1.0)",
          "dash": "solid",
          "shape": "linear",
          "width": 1.3
         },
         "mode": "lines",
         "name": "CLN0",
         "text": "",
         "type": "scatter",
         "x": [
          "2019-12-16",
          "2019-12-17",
          "2019-12-18",
          "2019-12-19",
          "2019-12-20",
          "2019-12-23",
          "2019-12-24",
          "2019-12-26",
          "2019-12-27",
          "2019-12-30",
          "2019-12-31",
          "2020-01-02",
          "2020-01-03",
          "2020-01-06",
          "2020-01-07",
          "2020-01-08",
          "2020-01-09",
          "2020-01-10",
          "2020-01-13",
          "2020-01-14",
          "2020-01-15",
          "2020-01-16",
          "2020-01-17",
          "2020-01-21",
          "2020-01-22",
          "2020-01-23",
          "2020-01-24",
          "2020-01-27",
          "2020-01-28",
          "2020-01-29",
          "2020-01-30",
          "2020-01-31",
          "2020-02-03",
          "2020-02-04",
          "2020-02-05",
          "2020-02-06",
          "2020-02-07",
          "2020-02-10",
          "2020-02-11",
          "2020-02-12",
          "2020-02-13",
          "2020-02-14",
          "2020-02-18",
          "2020-02-19",
          "2020-02-20",
          "2020-02-21",
          "2020-02-24",
          "2020-02-25",
          "2020-02-26",
          "2020-02-27",
          "2020-02-28",
          "2020-03-02",
          "2020-03-03",
          "2020-03-04",
          "2020-03-05",
          "2020-03-06",
          "2020-03-09",
          "2020-03-10",
          "2020-03-11",
          "2020-03-12",
          "2020-03-13",
          "2020-03-16",
          "2020-03-17",
          "2020-03-18",
          "2020-03-19",
          "2020-03-20",
          "2020-03-23",
          "2020-03-24",
          "2020-03-25",
          "2020-03-26",
          "2020-03-27",
          "2020-03-30",
          "2020-03-31",
          "2020-04-01",
          "2020-04-02",
          "2020-04-03",
          "2020-04-06",
          "2020-04-07",
          "2020-04-08",
          "2020-04-09",
          "2020-04-13",
          "2020-04-14",
          "2020-04-15",
          "2020-04-16",
          "2020-04-17",
          "2020-04-20",
          "2020-04-21",
          "2020-04-22",
          "2020-04-23",
          "2020-04-24",
          "2020-04-27",
          "2020-04-28",
          "2020-04-29",
          "2020-04-30",
          "2020-05-01",
          "2020-05-04",
          "2020-05-05",
          "2020-05-06",
          "2020-05-07",
          "2020-05-08",
          "2020-05-11"
         ],
         "y": [
          58.08,
          58.56,
          58.63,
          58.85,
          58.54,
          58.67,
          59.24,
          59.63,
          59.7,
          59.57,
          58.87,
          59.25,
          60.83,
          61.06,
          60.76,
          58.05,
          58.19,
          57.92,
          57.22,
          57.41,
          56.94,
          57.46,
          57.54,
          57.47,
          56.09,
          55.04,
          53.61,
          52.73,
          53.08,
          53.1,
          52.1,
          51.74,
          50.6,
          50.28,
          51.39,
          51.73,
          51.22,
          50.46,
          50.88,
          52.05,
          52.28,
          52.87,
          52.94,
          53.95,
          54.1,
          53.5,
          51.72,
          50.14,
          48.99,
          47.55,
          45.23,
          47.14,
          47.52,
          47.22,
          46.34,
          42.04,
          32.46,
          35.58,
          34.39,
          33.11,
          33.15,
          30.22,
          28.96,
          23.22,
          27.96,
          25.93,
          27.23,
          28.05,
          29.19,
          28.27,
          28.13,
          27.4,
          27.69,
          26.42,
          29.92,
          32.33,
          32.04,
          31.84,
          32.92,
          32,
          32.96,
          31.87,
          29.96,
          29.55,
          29.42,
          26.28,
          18.69,
          20.69,
          21.44,
          21.22,
          18.08,
          17.6,
          19.12,
          21.85,
          22.29,
          22.78,
          26.49,
          25.62,
          24.83,
          26.17,
          25.08
         ]
        }
       ],
       "layout": {
        "legend": {
         "bgcolor": "#FFFFFF",
         "font": {
          "color": "#4D5663"
         }
        },
        "paper_bgcolor": "#FFFFFF",
        "plot_bgcolor": "#FFFFFF",
        "template": {
         "data": {
          "bar": [
           {
            "error_x": {
             "color": "#2a3f5f"
            },
            "error_y": {
             "color": "#2a3f5f"
            },
            "marker": {
             "line": {
              "color": "#E5ECF6",
              "width": 0.5
             }
            },
            "type": "bar"
           }
          ],
          "barpolar": [
           {
            "marker": {
             "line": {
              "color": "#E5ECF6",
              "width": 0.5
             }
            },
            "type": "barpolar"
           }
          ],
          "carpet": [
           {
            "aaxis": {
             "endlinecolor": "#2a3f5f",
             "gridcolor": "white",
             "linecolor": "white",
             "minorgridcolor": "white",
             "startlinecolor": "#2a3f5f"
            },
            "baxis": {
             "endlinecolor": "#2a3f5f",
             "gridcolor": "white",
             "linecolor": "white",
             "minorgridcolor": "white",
             "startlinecolor": "#2a3f5f"
            },
            "type": "carpet"
           }
          ],
          "choropleth": [
           {
            "colorbar": {
             "outlinewidth": 0,
             "ticks": ""
            },
            "type": "choropleth"
           }
          ],
          "contour": [
           {
            "colorbar": {
             "outlinewidth": 0,
             "ticks": ""
            },
            "colorscale": [
             [
              0,
              "#0d0887"
             ],
             [
              0.1111111111111111,
              "#46039f"
             ],
             [
              0.2222222222222222,
              "#7201a8"
             ],
             [
              0.3333333333333333,
              "#9c179e"
             ],
             [
              0.4444444444444444,
              "#bd3786"
             ],
             [
              0.5555555555555556,
              "#d8576b"
             ],
             [
              0.6666666666666666,
              "#ed7953"
             ],
             [
              0.7777777777777778,
              "#fb9f3a"
             ],
             [
              0.8888888888888888,
              "#fdca26"
             ],
             [
              1,
              "#f0f921"
             ]
            ],
            "type": "contour"
           }
          ],
          "contourcarpet": [
           {
            "colorbar": {
             "outlinewidth": 0,
             "ticks": ""
            },
            "type": "contourcarpet"
           }
          ],
          "heatmap": [
           {
            "colorbar": {
             "outlinewidth": 0,
             "ticks": ""
            },
            "colorscale": [
             [
              0,
              "#0d0887"
             ],
             [
              0.1111111111111111,
              "#46039f"
             ],
             [
              0.2222222222222222,
              "#7201a8"
             ],
             [
              0.3333333333333333,
              "#9c179e"
             ],
             [
              0.4444444444444444,
              "#bd3786"
             ],
             [
              0.5555555555555556,
              "#d8576b"
             ],
             [
              0.6666666666666666,
              "#ed7953"
             ],
             [
              0.7777777777777778,
              "#fb9f3a"
             ],
             [
              0.8888888888888888,
              "#fdca26"
             ],
             [
              1,
              "#f0f921"
             ]
            ],
            "type": "heatmap"
           }
          ],
          "heatmapgl": [
           {
            "colorbar": {
             "outlinewidth": 0,
             "ticks": ""
            },
            "colorscale": [
             [
              0,
              "#0d0887"
             ],
             [
              0.1111111111111111,
              "#46039f"
             ],
             [
              0.2222222222222222,
              "#7201a8"
             ],
             [
              0.3333333333333333,
              "#9c179e"
             ],
             [
              0.4444444444444444,
              "#bd3786"
             ],
             [
              0.5555555555555556,
              "#d8576b"
             ],
             [
              0.6666666666666666,
              "#ed7953"
             ],
             [
              0.7777777777777778,
              "#fb9f3a"
             ],
             [
              0.8888888888888888,
              "#fdca26"
             ],
             [
              1,
              "#f0f921"
             ]
            ],
            "type": "heatmapgl"
           }
          ],
          "histogram": [
           {
            "marker": {
             "colorbar": {
              "outlinewidth": 0,
              "ticks": ""
             }
            },
            "type": "histogram"
           }
          ],
          "histogram2d": [
           {
            "colorbar": {
             "outlinewidth": 0,
             "ticks": ""
            },
            "colorscale": [
             [
              0,
              "#0d0887"
             ],
             [
              0.1111111111111111,
              "#46039f"
             ],
             [
              0.2222222222222222,
              "#7201a8"
             ],
             [
              0.3333333333333333,
              "#9c179e"
             ],
             [
              0.4444444444444444,
              "#bd3786"
             ],
             [
              0.5555555555555556,
              "#d8576b"
             ],
             [
              0.6666666666666666,
              "#ed7953"
             ],
             [
              0.7777777777777778,
              "#fb9f3a"
             ],
             [
              0.8888888888888888,
              "#fdca26"
             ],
             [
              1,
              "#f0f921"
             ]
            ],
            "type": "histogram2d"
           }
          ],
          "histogram2dcontour": [
           {
            "colorbar": {
             "outlinewidth": 0,
             "ticks": ""
            },
            "colorscale": [
             [
              0,
              "#0d0887"
             ],
             [
              0.1111111111111111,
              "#46039f"
             ],
             [
              0.2222222222222222,
              "#7201a8"
             ],
             [
              0.3333333333333333,
              "#9c179e"
             ],
             [
              0.4444444444444444,
              "#bd3786"
             ],
             [
              0.5555555555555556,
              "#d8576b"
             ],
             [
              0.6666666666666666,
              "#ed7953"
             ],
             [
              0.7777777777777778,
              "#fb9f3a"
             ],
             [
              0.8888888888888888,
              "#fdca26"
             ],
             [
              1,
              "#f0f921"
             ]
            ],
            "type": "histogram2dcontour"
           }
          ],
          "mesh3d": [
           {
            "colorbar": {
             "outlinewidth": 0,
             "ticks": ""
            },
            "type": "mesh3d"
           }
          ],
          "parcoords": [
           {
            "line": {
             "colorbar": {
              "outlinewidth": 0,
              "ticks": ""
             }
            },
            "type": "parcoords"
           }
          ],
          "pie": [
           {
            "automargin": true,
            "type": "pie"
           }
          ],
          "scatter": [
           {
            "marker": {
             "colorbar": {
              "outlinewidth": 0,
              "ticks": ""
             }
            },
            "type": "scatter"
           }
          ],
          "scatter3d": [
           {
            "line": {
             "colorbar": {
              "outlinewidth": 0,
              "ticks": ""
             }
            },
            "marker": {
             "colorbar": {
              "outlinewidth": 0,
              "ticks": ""
             }
            },
            "type": "scatter3d"
           }
          ],
          "scattercarpet": [
           {
            "marker": {
             "colorbar": {
              "outlinewidth": 0,
              "ticks": ""
             }
            },
            "type": "scattercarpet"
           }
          ],
          "scattergeo": [
           {
            "marker": {
             "colorbar": {
              "outlinewidth": 0,
              "ticks": ""
             }
            },
            "type": "scattergeo"
           }
          ],
          "scattergl": [
           {
            "marker": {
             "colorbar": {
              "outlinewidth": 0,
              "ticks": ""
             }
            },
            "type": "scattergl"
           }
          ],
          "scattermapbox": [
           {
            "marker": {
             "colorbar": {
              "outlinewidth": 0,
              "ticks": ""
             }
            },
            "type": "scattermapbox"
           }
          ],
          "scatterpolar": [
           {
            "marker": {
             "colorbar": {
              "outlinewidth": 0,
              "ticks": ""
             }
            },
            "type": "scatterpolar"
           }
          ],
          "scatterpolargl": [
           {
            "marker": {
             "colorbar": {
              "outlinewidth": 0,
              "ticks": ""
             }
            },
            "type": "scatterpolargl"
           }
          ],
          "scatterternary": [
           {
            "marker": {
             "colorbar": {
              "outlinewidth": 0,
              "ticks": ""
             }
            },
            "type": "scatterternary"
           }
          ],
          "surface": [
           {
            "colorbar": {
             "outlinewidth": 0,
             "ticks": ""
            },
            "colorscale": [
             [
              0,
              "#0d0887"
             ],
             [
              0.1111111111111111,
              "#46039f"
             ],
             [
              0.2222222222222222,
              "#7201a8"
             ],
             [
              0.3333333333333333,
              "#9c179e"
             ],
             [
              0.4444444444444444,
              "#bd3786"
             ],
             [
              0.5555555555555556,
              "#d8576b"
             ],
             [
              0.6666666666666666,
              "#ed7953"
             ],
             [
              0.7777777777777778,
              "#fb9f3a"
             ],
             [
              0.8888888888888888,
              "#fdca26"
             ],
             [
              1,
              "#f0f921"
             ]
            ],
            "type": "surface"
           }
          ],
          "table": [
           {
            "cells": {
             "fill": {
              "color": "#EBF0F8"
             },
             "line": {
              "color": "white"
             }
            },
            "header": {
             "fill": {
              "color": "#C8D4E3"
             },
             "line": {
              "color": "white"
             }
            },
            "type": "table"
           }
          ]
         },
         "layout": {
          "annotationdefaults": {
           "arrowcolor": "#2a3f5f",
           "arrowhead": 0,
           "arrowwidth": 1
          },
          "coloraxis": {
           "colorbar": {
            "outlinewidth": 0,
            "ticks": ""
           }
          },
          "colorscale": {
           "diverging": [
            [
             0,
             "#8e0152"
            ],
            [
             0.1,
             "#c51b7d"
            ],
            [
             0.2,
             "#de77ae"
            ],
            [
             0.3,
             "#f1b6da"
            ],
            [
             0.4,
             "#fde0ef"
            ],
            [
             0.5,
             "#f7f7f7"
            ],
            [
             0.6,
             "#e6f5d0"
            ],
            [
             0.7,
             "#b8e186"
            ],
            [
             0.8,
             "#7fbc41"
            ],
            [
             0.9,
             "#4d9221"
            ],
            [
             1,
             "#276419"
            ]
           ],
           "sequential": [
            [
             0,
             "#0d0887"
            ],
            [
             0.1111111111111111,
             "#46039f"
            ],
            [
             0.2222222222222222,
             "#7201a8"
            ],
            [
             0.3333333333333333,
             "#9c179e"
            ],
            [
             0.4444444444444444,
             "#bd3786"
            ],
            [
             0.5555555555555556,
             "#d8576b"
            ],
            [
             0.6666666666666666,
             "#ed7953"
            ],
            [
             0.7777777777777778,
             "#fb9f3a"
            ],
            [
             0.8888888888888888,
             "#fdca26"
            ],
            [
             1,
             "#f0f921"
            ]
           ],
           "sequentialminus": [
            [
             0,
             "#0d0887"
            ],
            [
             0.1111111111111111,
             "#46039f"
            ],
            [
             0.2222222222222222,
             "#7201a8"
            ],
            [
             0.3333333333333333,
             "#9c179e"
            ],
            [
             0.4444444444444444,
             "#bd3786"
            ],
            [
             0.5555555555555556,
             "#d8576b"
            ],
            [
             0.6666666666666666,
             "#ed7953"
            ],
            [
             0.7777777777777778,
             "#fb9f3a"
            ],
            [
             0.8888888888888888,
             "#fdca26"
            ],
            [
             1,
             "#f0f921"
            ]
           ]
          },
          "colorway": [
           "#636efa",
           "#EF553B",
           "#00cc96",
           "#ab63fa",
           "#FFA15A",
           "#19d3f3",
           "#FF6692",
           "#B6E880",
           "#FF97FF",
           "#FECB52"
          ],
          "font": {
           "color": "#2a3f5f"
          },
          "geo": {
           "bgcolor": "white",
           "lakecolor": "white",
           "landcolor": "#E5ECF6",
           "showlakes": true,
           "showland": true,
           "subunitcolor": "white"
          },
          "hoverlabel": {
           "align": "left"
          },
          "hovermode": "closest",
          "mapbox": {
           "style": "light"
          },
          "paper_bgcolor": "white",
          "plot_bgcolor": "#E5ECF6",
          "polar": {
           "angularaxis": {
            "gridcolor": "white",
            "linecolor": "white",
            "ticks": ""
           },
           "bgcolor": "#E5ECF6",
           "radialaxis": {
            "gridcolor": "white",
            "linecolor": "white",
            "ticks": ""
           }
          },
          "scene": {
           "xaxis": {
            "backgroundcolor": "#E5ECF6",
            "gridcolor": "white",
            "gridwidth": 2,
            "linecolor": "white",
            "showbackground": true,
            "ticks": "",
            "zerolinecolor": "white"
           },
           "yaxis": {
            "backgroundcolor": "#E5ECF6",
            "gridcolor": "white",
            "gridwidth": 2,
            "linecolor": "white",
            "showbackground": true,
            "ticks": "",
            "zerolinecolor": "white"
           },
           "zaxis": {
            "backgroundcolor": "#E5ECF6",
            "gridcolor": "white",
            "gridwidth": 2,
            "linecolor": "white",
            "showbackground": true,
            "ticks": "",
            "zerolinecolor": "white"
           }
          },
          "shapedefaults": {
           "line": {
            "color": "#2a3f5f"
           }
          },
          "ternary": {
           "aaxis": {
            "gridcolor": "white",
            "linecolor": "white",
            "ticks": ""
           },
           "baxis": {
            "gridcolor": "white",
            "linecolor": "white",
            "ticks": ""
           },
           "bgcolor": "#E5ECF6",
           "caxis": {
            "gridcolor": "white",
            "linecolor": "white",
            "ticks": ""
           }
          },
          "title": {
           "x": 0.05
          },
          "xaxis": {
           "automargin": true,
           "gridcolor": "white",
           "linecolor": "white",
           "ticks": "",
           "title": {
            "standoff": 15
           },
           "zerolinecolor": "white",
           "zerolinewidth": 2
          },
          "yaxis": {
           "automargin": true,
           "gridcolor": "white",
           "linecolor": "white",
           "ticks": "",
           "title": {
            "standoff": 15
           },
           "zerolinecolor": "white",
           "zerolinewidth": 2
          }
         }
        },
        "title": {
         "font": {
          "color": "#4D5663"
         }
        },
        "xaxis": {
         "gridcolor": "#E1E5ED",
         "showgrid": true,
         "tickfont": {
          "color": "#4D5663"
         },
         "title": {
          "font": {
           "color": "#4D5663"
          },
          "text": ""
         },
         "zerolinecolor": "#E1E5ED"
        },
        "yaxis": {
         "gridcolor": "#E1E5ED",
         "showgrid": true,
         "tickfont": {
          "color": "#4D5663"
         },
         "title": {
          "font": {
           "color": "#4D5663"
          },
          "text": ""
         },
         "zerolinecolor": "#E1E5ED"
        }
       }
      },
      "text/html": "<div>\n        \n        \n            <div id=\"4ddc90b2-d83e-4a26-aa84-a2d754f98c0b\" class=\"plotly-graph-div\" style=\"height:525px; width:100%;\"></div>\n            <script type=\"text/javascript\">\n                require([\"plotly\"], function(Plotly) {\n                    window.PLOTLYENV=window.PLOTLYENV || {};\n                    window.PLOTLYENV.BASE_URL='https://plot.ly';\n                    \n                if (document.getElementById(\"4ddc90b2-d83e-4a26-aa84-a2d754f98c0b\")) {\n                    Plotly.newPlot(\n                        '4ddc90b2-d83e-4a26-aa84-a2d754f98c0b',\n                        [{\"line\": {\"color\": \"rgba(255, 153, 51, 1.0)\", \"dash\": \"solid\", \"shape\": \"linear\", \"width\": 1.3}, \"mode\": \"lines\", \"name\": \"CLM0\", \"text\": \"\", \"type\": \"scatter\", \"x\": [\"2019-12-16\", \"2019-12-17\", \"2019-12-18\", \"2019-12-19\", \"2019-12-20\", \"2019-12-23\", \"2019-12-24\", \"2019-12-26\", \"2019-12-27\", \"2019-12-30\", \"2019-12-31\", \"2020-01-02\", \"2020-01-03\", \"2020-01-06\", \"2020-01-07\", \"2020-01-08\", \"2020-01-09\", \"2020-01-10\", \"2020-01-13\", \"2020-01-14\", \"2020-01-15\", \"2020-01-16\", \"2020-01-17\", \"2020-01-21\", \"2020-01-22\", \"2020-01-23\", \"2020-01-24\", \"2020-01-27\", \"2020-01-28\", \"2020-01-29\", \"2020-01-30\", \"2020-01-31\", \"2020-02-03\", \"2020-02-04\", \"2020-02-05\", \"2020-02-06\", \"2020-02-07\", \"2020-02-10\", \"2020-02-11\", \"2020-02-12\", \"2020-02-13\", \"2020-02-14\", \"2020-02-18\", \"2020-02-19\", \"2020-02-20\", \"2020-02-21\", \"2020-02-24\", \"2020-02-25\", \"2020-02-26\", \"2020-02-27\", \"2020-02-28\", \"2020-03-02\", \"2020-03-03\", \"2020-03-04\", \"2020-03-05\", \"2020-03-06\", \"2020-03-09\", \"2020-03-10\", \"2020-03-11\", \"2020-03-12\", \"2020-03-13\", \"2020-03-16\", \"2020-03-17\", \"2020-03-18\", \"2020-03-19\", \"2020-03-20\", \"2020-03-23\", \"2020-03-24\", \"2020-03-25\", \"2020-03-26\", \"2020-03-27\", \"2020-03-30\", \"2020-03-31\", \"2020-04-01\", \"2020-04-02\", \"2020-04-03\", \"2020-04-06\", \"2020-04-07\", \"2020-04-08\", \"2020-04-09\", \"2020-04-13\", \"2020-04-14\", \"2020-04-15\", \"2020-04-16\", \"2020-04-17\", \"2020-04-20\", \"2020-04-21\", \"2020-04-22\", \"2020-04-23\", \"2020-04-24\", \"2020-04-27\", \"2020-04-28\", \"2020-04-29\", \"2020-04-30\", \"2020-05-01\", \"2020-05-04\", \"2020-05-05\", \"2020-05-06\", \"2020-05-07\", \"2020-05-08\", \"2020-05-11\"], \"y\": [58.56, 59.09, 59.18, 59.43, 59.07, 59.2, 59.78, 60.21, 60.28, 60.14, 59.44, 59.77, 61.46, 61.68, 61.32, 58.52, 58.63, 58.32, 57.56, 57.76, 57.3, 57.88, 57.96, 57.85, 56.43, 55.34, 53.91, 52.97, 53.33, 53.31, 52.23, 51.8, 50.58, 50.19, 51.31, 51.58, 51.04, 50.25, 50.68, 51.91, 52.15, 52.79, 52.82, 53.9, 54.13, 53.54, 51.67, 50.13, 48.96, 47.44, 45.1, 47.05, 47.45, 47.11, 46.21, 41.77, 31.94, 35.14, 33.86, 32.51, 32.59, 29.55, 28.05, 21.93, 26.79, 24.36, 25.48, 26.2, 27.16, 25.71, 25.15, 24.09, 24.51, 23.74, 28.05, 30.9, 29.98, 28.69, 30.17, 28.82, 29.26, 27.4, 26.04, 25.53, 25.03, 20.43, 11.57, 13.78, 16.5, 16.94, 12.78, 12.34, 15.06, 18.84, 19.78, 20.39, 24.56, 23.99, 23.55, 24.74, 24.14]}, {\"line\": {\"color\": \"rgba(55, 128, 191, 1.0)\", \"dash\": \"solid\", \"shape\": \"linear\", \"width\": 1.3}, \"mode\": \"lines\", \"name\": \"CLN0\", \"text\": \"\", \"type\": \"scatter\", \"x\": [\"2019-12-16\", \"2019-12-17\", \"2019-12-18\", \"2019-12-19\", \"2019-12-20\", \"2019-12-23\", \"2019-12-24\", \"2019-12-26\", \"2019-12-27\", \"2019-12-30\", \"2019-12-31\", \"2020-01-02\", \"2020-01-03\", \"2020-01-06\", \"2020-01-07\", \"2020-01-08\", \"2020-01-09\", \"2020-01-10\", \"2020-01-13\", \"2020-01-14\", \"2020-01-15\", \"2020-01-16\", \"2020-01-17\", \"2020-01-21\", \"2020-01-22\", \"2020-01-23\", \"2020-01-24\", \"2020-01-27\", \"2020-01-28\", \"2020-01-29\", \"2020-01-30\", \"2020-01-31\", \"2020-02-03\", \"2020-02-04\", \"2020-02-05\", \"2020-02-06\", \"2020-02-07\", \"2020-02-10\", \"2020-02-11\", \"2020-02-12\", \"2020-02-13\", \"2020-02-14\", \"2020-02-18\", \"2020-02-19\", \"2020-02-20\", \"2020-02-21\", \"2020-02-24\", \"2020-02-25\", \"2020-02-26\", \"2020-02-27\", \"2020-02-28\", \"2020-03-02\", \"2020-03-03\", \"2020-03-04\", \"2020-03-05\", \"2020-03-06\", \"2020-03-09\", \"2020-03-10\", \"2020-03-11\", \"2020-03-12\", \"2020-03-13\", \"2020-03-16\", \"2020-03-17\", \"2020-03-18\", \"2020-03-19\", \"2020-03-20\", \"2020-03-23\", \"2020-03-24\", \"2020-03-25\", \"2020-03-26\", \"2020-03-27\", \"2020-03-30\", \"2020-03-31\", \"2020-04-01\", \"2020-04-02\", \"2020-04-03\", \"2020-04-06\", \"2020-04-07\", \"2020-04-08\", \"2020-04-09\", \"2020-04-13\", \"2020-04-14\", \"2020-04-15\", \"2020-04-16\", \"2020-04-17\", \"2020-04-20\", \"2020-04-21\", \"2020-04-22\", \"2020-04-23\", \"2020-04-24\", \"2020-04-27\", \"2020-04-28\", \"2020-04-29\", \"2020-04-30\", \"2020-05-01\", \"2020-05-04\", \"2020-05-05\", \"2020-05-06\", \"2020-05-07\", \"2020-05-08\", \"2020-05-11\"], \"y\": [58.08, 58.56, 58.63, 58.85, 58.54, 58.67, 59.24, 59.63, 59.7, 59.57, 58.87, 59.25, 60.83, 61.06, 60.76, 58.05, 58.19, 57.92, 57.22, 57.41, 56.94, 57.46, 57.54, 57.47, 56.09, 55.04, 53.61, 52.73, 53.08, 53.1, 52.1, 51.74, 50.6, 50.28, 51.39, 51.73, 51.22, 50.46, 50.88, 52.05, 52.28, 52.87, 52.94, 53.95, 54.1, 53.5, 51.72, 50.14, 48.99, 47.55, 45.23, 47.14, 47.52, 47.22, 46.34, 42.04, 32.46, 35.58, 34.39, 33.11, 33.15, 30.22, 28.96, 23.22, 27.96, 25.93, 27.23, 28.05, 29.19, 28.27, 28.13, 27.4, 27.69, 26.42, 29.92, 32.33, 32.04, 31.84, 32.92, 32.0, 32.96, 31.87, 29.96, 29.55, 29.42, 26.28, 18.69, 20.69, 21.44, 21.22, 18.08, 17.6, 19.12, 21.85, 22.29, 22.78, 26.49, 25.62, 24.83, 26.17, 25.08]}],\n                        {\"legend\": {\"bgcolor\": \"#FFFFFF\", \"font\": {\"color\": \"#4D5663\"}}, \"paper_bgcolor\": \"#FFFFFF\", \"plot_bgcolor\": \"#FFFFFF\", \"template\": {\"data\": {\"bar\": [{\"error_x\": {\"color\": \"#2a3f5f\"}, \"error_y\": {\"color\": \"#2a3f5f\"}, \"marker\": {\"line\": {\"color\": \"#E5ECF6\", \"width\": 0.5}}, \"type\": \"bar\"}], \"barpolar\": [{\"marker\": {\"line\": {\"color\": \"#E5ECF6\", \"width\": 0.5}}, \"type\": \"barpolar\"}], \"carpet\": [{\"aaxis\": {\"endlinecolor\": \"#2a3f5f\", \"gridcolor\": \"white\", \"linecolor\": \"white\", \"minorgridcolor\": \"white\", \"startlinecolor\": \"#2a3f5f\"}, \"baxis\": {\"endlinecolor\": \"#2a3f5f\", \"gridcolor\": \"white\", \"linecolor\": \"white\", \"minorgridcolor\": \"white\", \"startlinecolor\": \"#2a3f5f\"}, \"type\": \"carpet\"}], \"choropleth\": [{\"colorbar\": {\"outlinewidth\": 0, \"ticks\": \"\"}, \"type\": \"choropleth\"}], \"contour\": [{\"colorbar\": {\"outlinewidth\": 0, \"ticks\": \"\"}, \"colorscale\": [[0.0, \"#0d0887\"], [0.1111111111111111, \"#46039f\"], [0.2222222222222222, \"#7201a8\"], [0.3333333333333333, \"#9c179e\"], [0.4444444444444444, \"#bd3786\"], [0.5555555555555556, \"#d8576b\"], [0.6666666666666666, \"#ed7953\"], [0.7777777777777778, \"#fb9f3a\"], [0.8888888888888888, \"#fdca26\"], [1.0, \"#f0f921\"]], \"type\": \"contour\"}], \"contourcarpet\": [{\"colorbar\": {\"outlinewidth\": 0, \"ticks\": \"\"}, \"type\": \"contourcarpet\"}], \"heatmap\": [{\"colorbar\": {\"outlinewidth\": 0, \"ticks\": \"\"}, \"colorscale\": [[0.0, \"#0d0887\"], [0.1111111111111111, \"#46039f\"], [0.2222222222222222, \"#7201a8\"], [0.3333333333333333, \"#9c179e\"], [0.4444444444444444, \"#bd3786\"], [0.5555555555555556, \"#d8576b\"], [0.6666666666666666, \"#ed7953\"], [0.7777777777777778, \"#fb9f3a\"], [0.8888888888888888, \"#fdca26\"], [1.0, \"#f0f921\"]], \"type\": \"heatmap\"}], \"heatmapgl\": [{\"colorbar\": {\"outlinewidth\": 0, \"ticks\": \"\"}, \"colorscale\": [[0.0, \"#0d0887\"], [0.1111111111111111, \"#46039f\"], [0.2222222222222222, \"#7201a8\"], [0.3333333333333333, \"#9c179e\"], [0.4444444444444444, \"#bd3786\"], [0.5555555555555556, \"#d8576b\"], [0.6666666666666666, \"#ed7953\"], [0.7777777777777778, \"#fb9f3a\"], [0.8888888888888888, \"#fdca26\"], [1.0, \"#f0f921\"]], \"type\": \"heatmapgl\"}], \"histogram\": [{\"marker\": {\"colorbar\": {\"outlinewidth\": 0, \"ticks\": \"\"}}, \"type\": \"histogram\"}], \"histogram2d\": [{\"colorbar\": {\"outlinewidth\": 0, \"ticks\": \"\"}, \"colorscale\": [[0.0, \"#0d0887\"], [0.1111111111111111, \"#46039f\"], [0.2222222222222222, \"#7201a8\"], [0.3333333333333333, \"#9c179e\"], [0.4444444444444444, \"#bd3786\"], [0.5555555555555556, \"#d8576b\"], [0.6666666666666666, \"#ed7953\"], [0.7777777777777778, \"#fb9f3a\"], [0.8888888888888888, \"#fdca26\"], [1.0, \"#f0f921\"]], \"type\": \"histogram2d\"}], \"histogram2dcontour\": [{\"colorbar\": {\"outlinewidth\": 0, \"ticks\": \"\"}, \"colorscale\": [[0.0, \"#0d0887\"], [0.1111111111111111, \"#46039f\"], [0.2222222222222222, \"#7201a8\"], [0.3333333333333333, \"#9c179e\"], [0.4444444444444444, \"#bd3786\"], [0.5555555555555556, \"#d8576b\"], [0.6666666666666666, \"#ed7953\"], [0.7777777777777778, \"#fb9f3a\"], [0.8888888888888888, \"#fdca26\"], [1.0, \"#f0f921\"]], \"type\": \"histogram2dcontour\"}], \"mesh3d\": [{\"colorbar\": {\"outlinewidth\": 0, \"ticks\": \"\"}, \"type\": \"mesh3d\"}], \"parcoords\": [{\"line\": {\"colorbar\": {\"outlinewidth\": 0, \"ticks\": \"\"}}, \"type\": \"parcoords\"}], \"pie\": [{\"automargin\": true, \"type\": \"pie\"}], \"scatter\": [{\"marker\": {\"colorbar\": {\"outlinewidth\": 0, \"ticks\": \"\"}}, \"type\": \"scatter\"}], \"scatter3d\": [{\"line\": {\"colorbar\": {\"outlinewidth\": 0, \"ticks\": \"\"}}, \"marker\": {\"colorbar\": {\"outlinewidth\": 0, \"ticks\": \"\"}}, \"type\": \"scatter3d\"}], \"scattercarpet\": [{\"marker\": {\"colorbar\": {\"outlinewidth\": 0, \"ticks\": \"\"}}, \"type\": \"scattercarpet\"}], \"scattergeo\": [{\"marker\": {\"colorbar\": {\"outlinewidth\": 0, \"ticks\": \"\"}}, \"type\": \"scattergeo\"}], \"scattergl\": [{\"marker\": {\"colorbar\": {\"outlinewidth\": 0, \"ticks\": \"\"}}, \"type\": \"scattergl\"}], \"scattermapbox\": [{\"marker\": {\"colorbar\": {\"outlinewidth\": 0, \"ticks\": \"\"}}, \"type\": \"scattermapbox\"}], \"scatterpolar\": [{\"marker\": {\"colorbar\": {\"outlinewidth\": 0, \"ticks\": \"\"}}, \"type\": \"scatterpolar\"}], \"scatterpolargl\": [{\"marker\": {\"colorbar\": {\"outlinewidth\": 0, \"ticks\": \"\"}}, \"type\": \"scatterpolargl\"}], \"scatterternary\": [{\"marker\": {\"colorbar\": {\"outlinewidth\": 0, \"ticks\": \"\"}}, \"type\": \"scatterternary\"}], \"surface\": [{\"colorbar\": {\"outlinewidth\": 0, \"ticks\": \"\"}, \"colorscale\": [[0.0, \"#0d0887\"], [0.1111111111111111, \"#46039f\"], [0.2222222222222222, \"#7201a8\"], [0.3333333333333333, \"#9c179e\"], [0.4444444444444444, \"#bd3786\"], [0.5555555555555556, \"#d8576b\"], [0.6666666666666666, \"#ed7953\"], [0.7777777777777778, \"#fb9f3a\"], [0.8888888888888888, \"#fdca26\"], [1.0, \"#f0f921\"]], \"type\": \"surface\"}], \"table\": [{\"cells\": {\"fill\": {\"color\": \"#EBF0F8\"}, \"line\": {\"color\": \"white\"}}, \"header\": {\"fill\": {\"color\": \"#C8D4E3\"}, \"line\": {\"color\": \"white\"}}, \"type\": \"table\"}]}, \"layout\": {\"annotationdefaults\": {\"arrowcolor\": \"#2a3f5f\", \"arrowhead\": 0, \"arrowwidth\": 1}, \"coloraxis\": {\"colorbar\": {\"outlinewidth\": 0, \"ticks\": \"\"}}, \"colorscale\": {\"diverging\": [[0, \"#8e0152\"], [0.1, \"#c51b7d\"], [0.2, \"#de77ae\"], [0.3, \"#f1b6da\"], [0.4, \"#fde0ef\"], [0.5, \"#f7f7f7\"], [0.6, \"#e6f5d0\"], [0.7, \"#b8e186\"], [0.8, \"#7fbc41\"], [0.9, \"#4d9221\"], [1, \"#276419\"]], \"sequential\": [[0.0, \"#0d0887\"], [0.1111111111111111, \"#46039f\"], [0.2222222222222222, \"#7201a8\"], [0.3333333333333333, \"#9c179e\"], [0.4444444444444444, \"#bd3786\"], [0.5555555555555556, \"#d8576b\"], [0.6666666666666666, \"#ed7953\"], [0.7777777777777778, \"#fb9f3a\"], [0.8888888888888888, \"#fdca26\"], [1.0, \"#f0f921\"]], \"sequentialminus\": [[0.0, \"#0d0887\"], [0.1111111111111111, \"#46039f\"], [0.2222222222222222, \"#7201a8\"], [0.3333333333333333, \"#9c179e\"], [0.4444444444444444, \"#bd3786\"], [0.5555555555555556, \"#d8576b\"], [0.6666666666666666, \"#ed7953\"], [0.7777777777777778, \"#fb9f3a\"], [0.8888888888888888, \"#fdca26\"], [1.0, \"#f0f921\"]]}, \"colorway\": [\"#636efa\", \"#EF553B\", \"#00cc96\", \"#ab63fa\", \"#FFA15A\", \"#19d3f3\", \"#FF6692\", \"#B6E880\", \"#FF97FF\", \"#FECB52\"], \"font\": {\"color\": \"#2a3f5f\"}, \"geo\": {\"bgcolor\": \"white\", \"lakecolor\": \"white\", \"landcolor\": \"#E5ECF6\", \"showlakes\": true, \"showland\": true, \"subunitcolor\": \"white\"}, \"hoverlabel\": {\"align\": \"left\"}, \"hovermode\": \"closest\", \"mapbox\": {\"style\": \"light\"}, \"paper_bgcolor\": \"white\", \"plot_bgcolor\": \"#E5ECF6\", \"polar\": {\"angularaxis\": {\"gridcolor\": \"white\", \"linecolor\": \"white\", \"ticks\": \"\"}, \"bgcolor\": \"#E5ECF6\", \"radialaxis\": {\"gridcolor\": \"white\", \"linecolor\": \"white\", \"ticks\": \"\"}}, \"scene\": {\"xaxis\": {\"backgroundcolor\": \"#E5ECF6\", \"gridcolor\": \"white\", \"gridwidth\": 2, \"linecolor\": \"white\", \"showbackground\": true, \"ticks\": \"\", \"zerolinecolor\": \"white\"}, \"yaxis\": {\"backgroundcolor\": \"#E5ECF6\", \"gridcolor\": \"white\", \"gridwidth\": 2, \"linecolor\": \"white\", \"showbackground\": true, \"ticks\": \"\", \"zerolinecolor\": \"white\"}, \"zaxis\": {\"backgroundcolor\": \"#E5ECF6\", \"gridcolor\": \"white\", \"gridwidth\": 2, \"linecolor\": \"white\", \"showbackground\": true, \"ticks\": \"\", \"zerolinecolor\": \"white\"}}, \"shapedefaults\": {\"line\": {\"color\": \"#2a3f5f\"}}, \"ternary\": {\"aaxis\": {\"gridcolor\": \"white\", \"linecolor\": \"white\", \"ticks\": \"\"}, \"baxis\": {\"gridcolor\": \"white\", \"linecolor\": \"white\", \"ticks\": \"\"}, \"bgcolor\": \"#E5ECF6\", \"caxis\": {\"gridcolor\": \"white\", \"linecolor\": \"white\", \"ticks\": \"\"}}, \"title\": {\"x\": 0.05}, \"xaxis\": {\"automargin\": true, \"gridcolor\": \"white\", \"linecolor\": \"white\", \"ticks\": \"\", \"title\": {\"standoff\": 15}, \"zerolinecolor\": \"white\", \"zerolinewidth\": 2}, \"yaxis\": {\"automargin\": true, \"gridcolor\": \"white\", \"linecolor\": \"white\", \"ticks\": \"\", \"title\": {\"standoff\": 15}, \"zerolinecolor\": \"white\", \"zerolinewidth\": 2}}}, \"title\": {\"font\": {\"color\": \"#4D5663\"}}, \"xaxis\": {\"gridcolor\": \"#E1E5ED\", \"showgrid\": true, \"tickfont\": {\"color\": \"#4D5663\"}, \"title\": {\"font\": {\"color\": \"#4D5663\"}, \"text\": \"\"}, \"zerolinecolor\": \"#E1E5ED\"}, \"yaxis\": {\"gridcolor\": \"#E1E5ED\", \"showgrid\": true, \"tickfont\": {\"color\": \"#4D5663\"}, \"title\": {\"font\": {\"color\": \"#4D5663\"}, \"text\": \"\"}, \"zerolinecolor\": \"#E1E5ED\"}},\n                        {\"showLink\": true, \"linkText\": \"Export to plot.ly\", \"plotlyServerURL\": \"https://plot.ly\", \"responsive\": true}\n                    ).then(function(){\n                            \nvar gd = document.getElementById('4ddc90b2-d83e-4a26-aa84-a2d754f98c0b');\nvar x = new MutationObserver(function (mutations, observer) {{\n        var display = window.getComputedStyle(gd).display;\n        if (!display || display === 'none') {{\n            console.log([gd, 'removed!']);\n            Plotly.purge(gd);\n            observer.disconnect();\n        }}\n}});\n\n// Listen for the removal of the full notebook cells\nvar notebookContainer = gd.closest('#notebook-container');\nif (notebookContainer) {{\n    x.observe(notebookContainer, {childList: true});\n}}\n\n// Listen for the clearing of the current output cell\nvar outputEl = gd.closest('.output');\nif (outputEl) {{\n    x.observe(outputEl, {childList: true});\n}}\n\n                        })\n                };\n                });\n            </script>\n        </div>"
     },
     "metadata": {}
    }
   ],
   "source": [
    "CLc1_c2.iplot()"
   ]
  },
  {
   "cell_type": "code",
   "execution_count": 137,
   "metadata": {},
   "outputs": [
    {
     "output_type": "display_data",
     "data": {
      "application/vnd.plotly.v1+json": {
       "config": {
        "linkText": "Export to plot.ly",
        "plotlyServerURL": "https://plot.ly",
        "showLink": true
       },
       "data": [
        {
         "line": {
          "color": "rgba(255, 153, 51, 1.0)",
          "dash": "solid",
          "shape": "linear",
          "width": 1.3
         },
         "mode": "lines",
         "name": "2015-11-30 00:00:00",
         "text": "",
         "type": "scatter",
         "x": [
          0,
          1,
          2,
          3,
          4,
          5,
          6,
          7,
          8,
          9,
          10,
          11,
          12,
          13,
          14,
          15,
          16,
          17,
          18
         ],
         "y": [
          56.73,
          56.75,
          56.82,
          56.91,
          57.02,
          57.16,
          57.32,
          57.33,
          57.36,
          57.41,
          57.47,
          57.55,
          57.65,
          57.64,
          57.66,
          57.7,
          57.76,
          57.85,
          57.96
         ]
        },
        {
         "line": {
          "color": "rgba(55, 128, 191, 1.0)",
          "dash": "solid",
          "shape": "linear",
          "width": 1.3
         },
         "mode": "lines",
         "name": "2015-12-31 00:00:00",
         "text": "",
         "type": "scatter",
         "x": [
          0,
          1,
          2,
          3,
          4,
          5,
          6,
          7,
          8,
          9,
          10,
          11,
          12,
          13,
          14,
          15,
          16,
          17,
          18
         ],
         "y": [
          53.66,
          53.68,
          53.74,
          53.84,
          53.96,
          54.11,
          54.29,
          54.31,
          54.35,
          54.41,
          54.49,
          54.59,
          54.71,
          54.7,
          54.73,
          54.78,
          54.85,
          54.96,
          55.09
         ]
        },
        {
         "line": {
          "color": "rgba(50, 171, 96, 1.0)",
          "dash": "solid",
          "shape": "linear",
          "width": 1.3
         },
         "mode": "lines",
         "name": "2016-01-31 00:00:00",
         "text": "",
         "type": "scatter",
         "x": [
          0,
          1,
          2,
          3,
          4,
          5,
          6,
          7,
          8,
          9,
          10,
          11,
          12,
          13,
          14,
          15,
          16,
          17,
          18
         ],
         "y": [
          49.33,
          49.35,
          49.41,
          49.5,
          49.61,
          49.73,
          49.89,
          49.92,
          49.97,
          50.04,
          50.13,
          50.23,
          50.36,
          50.36,
          50.39,
          50.45,
          50.54,
          50.65,
          50.79
         ]
        },
        {
         "line": {
          "color": "rgba(128, 0, 128, 1.0)",
          "dash": "solid",
          "shape": "linear",
          "width": 1.3
         },
         "mode": "lines",
         "name": "2016-02-29 00:00:00",
         "text": "",
         "type": "scatter",
         "x": [
          0,
          1,
          2,
          3,
          4,
          5,
          6,
          7,
          8,
          9,
          10,
          11,
          12,
          13,
          14,
          15,
          16,
          17,
          18
         ],
         "y": [
          47.43,
          47.44,
          47.48,
          47.55,
          47.64,
          47.75,
          47.9,
          47.94,
          48,
          48.08,
          48.18,
          48.29,
          48.42,
          48.43,
          48.47,
          48.54,
          48.64,
          48.76,
          48.9
         ]
        },
        {
         "line": {
          "color": "rgba(219, 64, 82, 1.0)",
          "dash": "solid",
          "shape": "linear",
          "width": 1.3
         },
         "mode": "lines",
         "name": "2016-03-31 00:00:00",
         "text": "",
         "type": "scatter",
         "x": [
          0,
          1,
          2,
          3,
          4,
          5,
          6,
          7,
          8,
          9,
          10,
          11,
          12,
          13,
          14,
          15,
          16,
          17,
          18
         ],
         "y": [
          49.87,
          49.88,
          49.94,
          50.03,
          50.14,
          50.27,
          50.43,
          50.46,
          50.51,
          50.58,
          50.68,
          50.78,
          50.89,
          50.88,
          50.9,
          50.95,
          51.03,
          51.14,
          51.27
         ]
        },
        {
         "line": {
          "color": "rgba(0, 128, 128, 1.0)",
          "dash": "solid",
          "shape": "linear",
          "width": 1.3
         },
         "mode": "lines",
         "name": "2016-04-30 00:00:00",
         "text": "",
         "type": "scatter",
         "x": [
          0,
          1,
          2,
          3,
          4,
          5,
          6,
          7,
          8,
          9,
          10,
          11,
          12,
          13,
          14,
          15,
          16,
          17,
          18
         ],
         "y": [
          52.52,
          52.54,
          52.59,
          52.67,
          52.77,
          52.9,
          53.06,
          53.09,
          53.13,
          53.2,
          53.29,
          53.39,
          53.51,
          53.49,
          53.51,
          53.56,
          53.64,
          53.75,
          53.88
         ]
        },
        {
         "line": {
          "color": "rgba(255, 255, 51, 1.0)",
          "dash": "solid",
          "shape": "linear",
          "width": 1.3
         },
         "mode": "lines",
         "name": "2016-05-31 00:00:00",
         "text": "",
         "type": "scatter",
         "x": [
          0,
          1,
          2,
          3,
          4,
          5,
          6,
          7,
          8,
          9,
          10,
          11,
          12,
          13,
          14,
          15,
          16,
          17,
          18
         ],
         "y": [
          55.32,
          55.35,
          55.41,
          55.51,
          55.63,
          55.78,
          55.96,
          56.02,
          56.09,
          56.18,
          56.29,
          56.42,
          56.57,
          56.58,
          56.63,
          56.71,
          56.82,
          56.96,
          57.12
         ]
        },
        {
         "line": {
          "color": "rgba(128, 128, 0, 1.0)",
          "dash": "solid",
          "shape": "linear",
          "width": 1.3
         },
         "mode": "lines",
         "name": "2016-06-30 00:00:00",
         "text": "",
         "type": "scatter",
         "x": [
          0,
          1,
          2,
          3,
          4,
          5,
          6,
          7,
          8,
          9,
          10,
          11,
          12,
          13,
          14,
          15,
          16,
          17,
          18
         ],
         "y": [
          55.46,
          55.45,
          55.48,
          55.54,
          55.61,
          55.71,
          55.83,
          55.85,
          55.9,
          55.97,
          56.05,
          56.15,
          56.27,
          56.25,
          56.27,
          56.33,
          56.41,
          56.52,
          56.66
         ]
        },
        {
         "line": {
          "color": "rgba(251, 128, 114, 1.0)",
          "dash": "solid",
          "shape": "linear",
          "width": 1.3
         },
         "mode": "lines",
         "name": "2016-07-31 00:00:00",
         "text": "",
         "type": "scatter",
         "x": [
          0,
          1,
          2,
          3,
          4,
          5,
          6,
          7,
          8,
          9,
          10,
          11,
          12,
          13,
          14,
          15,
          16,
          17,
          18
         ],
         "y": [
          52.06,
          52.07,
          52.13,
          52.22,
          52.33,
          52.46,
          52.62,
          52.66,
          52.71,
          52.79,
          52.88,
          52.99,
          53.13,
          53.11,
          53.14,
          53.21,
          53.32,
          53.45,
          53.61
         ]
        },
        {
         "line": {
          "color": "rgba(128, 177, 211, 1.0)",
          "dash": "solid",
          "shape": "linear",
          "width": 1.3
         },
         "mode": "lines",
         "name": "2016-08-31 00:00:00",
         "text": "",
         "type": "scatter",
         "x": [
          0,
          1,
          2,
          3,
          4,
          5,
          6,
          7,
          8,
          9,
          10,
          11,
          12,
          13,
          14,
          15,
          16,
          17,
          18
         ],
         "y": [
          53.27,
          53.28,
          53.31,
          53.38,
          53.48,
          53.6,
          53.75,
          53.79,
          53.85,
          53.91,
          53.99,
          54.1,
          54.23,
          54.22,
          54.25,
          54.31,
          54.4,
          54.53,
          54.68
         ]
        },
        {
         "line": {
          "color": "rgba(128, 177, 211, 0.8999999999999999)",
          "dash": "solid",
          "shape": "linear",
          "width": 1.3
         },
         "mode": "lines",
         "name": "2016-09-30 00:00:00",
         "text": "",
         "type": "scatter",
         "x": [
          0,
          1,
          2,
          3,
          4,
          5,
          6,
          7,
          8,
          9,
          10,
          11,
          12,
          13,
          14,
          15,
          16,
          17,
          18
         ],
         "y": [
          55.94,
          55.96,
          56.01,
          56.1,
          56.21,
          56.35,
          56.51,
          56.56,
          56.62,
          56.7,
          56.8,
          56.92,
          57.05,
          57.05,
          57.09,
          57.16,
          57.26,
          57.39,
          57.54
         ]
        },
        {
         "line": {
          "color": "rgba(255, 153, 51, 0.8999999999999999)",
          "dash": "solid",
          "shape": "linear",
          "width": 1.3
         },
         "mode": "lines",
         "name": "2016-10-31 00:00:00",
         "text": "",
         "type": "scatter",
         "x": [
          0,
          1,
          2,
          3,
          4,
          5,
          6,
          7,
          8,
          9,
          10,
          11,
          12,
          13,
          14,
          15,
          16,
          17,
          18
         ],
         "y": [
          54.22,
          54.23,
          54.27,
          54.34,
          54.42,
          54.52,
          54.65,
          54.68,
          54.73,
          54.79,
          54.88,
          54.98,
          55.1,
          55.1,
          55.12,
          55.17,
          55.25,
          55.36,
          55.5
         ]
        },
        {
         "line": {
          "color": "rgba(55, 128, 191, 0.8999999999999999)",
          "dash": "solid",
          "shape": "linear",
          "width": 1.3
         },
         "mode": "lines",
         "name": "2016-11-30 00:00:00",
         "text": "",
         "type": "scatter",
         "x": [
          0,
          1,
          2,
          3,
          4,
          5,
          6,
          7,
          8,
          9,
          10,
          11,
          12,
          13,
          14,
          15,
          16,
          17,
          18
         ],
         "y": [
          54.7,
          54.7,
          54.73,
          54.78,
          54.85,
          54.95,
          55.07,
          55.11,
          55.16,
          55.23,
          55.31,
          55.41,
          55.53,
          55.52,
          55.55,
          55.61,
          55.7,
          55.81,
          55.95
         ]
        },
        {
         "line": {
          "color": "rgba(50, 171, 96, 0.8999999999999999)",
          "dash": "solid",
          "shape": "linear",
          "width": 1.3
         },
         "mode": "lines",
         "name": "2016-12-31 00:00:00",
         "text": "",
         "type": "scatter",
         "x": [
          0,
          1,
          2,
          3,
          4,
          5,
          6,
          7,
          8,
          9,
          10,
          11,
          12,
          13,
          14,
          15,
          16,
          17,
          18
         ],
         "y": [
          56.08,
          56.04,
          56.02,
          56.02,
          56.04,
          56.08,
          56.14,
          56.12,
          56.12,
          56.13,
          56.16,
          56.2,
          56.26,
          56.21,
          56.19,
          56.2,
          56.23,
          56.28,
          56.36
         ]
        },
        {
         "line": {
          "color": "rgba(128, 0, 128, 0.8999999999999999)",
          "dash": "solid",
          "shape": "linear",
          "width": 1.3
         },
         "mode": "lines",
         "name": "2017-01-31 00:00:00",
         "text": "",
         "type": "scatter",
         "x": [
          0,
          1,
          2,
          3,
          4,
          5,
          6,
          7,
          8,
          9,
          10,
          11,
          12,
          13,
          14,
          15,
          16,
          17,
          18
         ],
         "y": [
          55.65,
          55.62,
          55.61,
          55.61,
          55.63,
          55.67,
          55.73,
          55.71,
          55.71,
          55.73,
          55.76,
          55.8,
          55.86,
          55.82,
          55.81,
          55.83,
          55.87,
          55.93,
          56.01
         ]
        },
        {
         "line": {
          "color": "rgba(219, 64, 82, 0.8999999999999999)",
          "dash": "solid",
          "shape": "linear",
          "width": 1.3
         },
         "mode": "lines",
         "name": "2017-02-28 00:00:00",
         "text": "",
         "type": "scatter",
         "x": [
          0,
          1,
          2,
          3,
          4,
          5,
          6,
          7,
          8,
          9,
          10,
          11,
          12,
          13,
          14,
          15,
          16,
          17,
          18
         ],
         "y": [
          54.09,
          54.04,
          54.01,
          54.01,
          54.02,
          54.04,
          54.07,
          54.05,
          54.06,
          54.09,
          54.13,
          54.18,
          54.26,
          54.25,
          54.26,
          54.28,
          54.33,
          54.4,
          54.49
         ]
        },
        {
         "line": {
          "color": "rgba(0, 128, 128, 0.8999999999999999)",
          "dash": "solid",
          "shape": "linear",
          "width": 1.3
         },
         "mode": "lines",
         "name": "2017-03-31 00:00:00",
         "text": "",
         "type": "scatter",
         "x": [
          0,
          1,
          2,
          3,
          4,
          5,
          6,
          7,
          8,
          9,
          10,
          11,
          12,
          13,
          14,
          15,
          16,
          17,
          18
         ],
         "y": [
          51.38,
          51.36,
          51.38,
          51.4,
          51.44,
          51.49,
          51.57,
          51.59,
          51.63,
          51.69,
          51.77,
          51.87,
          52,
          52.02,
          52.06,
          52.13,
          52.22,
          52.33,
          52.46
         ]
        },
        {
         "line": {
          "color": "rgba(255, 255, 51, 0.8999999999999999)",
          "dash": "solid",
          "shape": "linear",
          "width": 1.3
         },
         "mode": "lines",
         "name": "2017-04-30 00:00:00",
         "text": "",
         "type": "scatter",
         "x": [
          0,
          1,
          2,
          3,
          4,
          5,
          6,
          7,
          8,
          9,
          10,
          11,
          12,
          13,
          14,
          15,
          16,
          17,
          18
         ],
         "y": [
          50.48,
          50.47,
          50.48,
          50.51,
          50.56,
          50.63,
          50.72,
          50.75,
          50.8,
          50.86,
          50.95,
          51.06,
          51.19,
          51.21,
          51.26,
          51.34,
          51.44,
          51.56,
          51.7
         ]
        },
        {
         "line": {
          "color": "rgba(128, 128, 0, 0.8999999999999999)",
          "dash": "solid",
          "shape": "linear",
          "width": 1.3
         },
         "mode": "lines",
         "name": "2017-05-31 00:00:00",
         "text": "",
         "type": "scatter",
         "x": [
          0,
          1,
          2,
          3,
          4,
          5,
          6,
          7,
          8,
          9,
          10,
          11,
          12,
          13,
          14,
          15,
          16,
          17,
          18
         ],
         "y": [
          49.23,
          49.22,
          49.25,
          49.31,
          49.39,
          49.49,
          49.62,
          49.65,
          49.7,
          49.77,
          49.86,
          49.97,
          50.1,
          50.13,
          50.18,
          50.26,
          50.37,
          50.5,
          50.65
         ]
        },
        {
         "line": {
          "color": "rgba(251, 128, 114, 0.8999999999999999)",
          "dash": "solid",
          "shape": "linear",
          "width": 1.3
         },
         "mode": "lines",
         "name": "2017-06-30 00:00:00",
         "text": "",
         "type": "scatter",
         "x": [
          0,
          1,
          2,
          3,
          4,
          5,
          6,
          7,
          8,
          9,
          10,
          11,
          12,
          13,
          14,
          15,
          16,
          17,
          18
         ],
         "y": [
          50.48,
          50.53,
          50.6,
          50.7,
          50.83,
          50.97,
          51.13,
          51.21,
          51.3,
          51.39,
          51.49,
          51.61,
          51.75,
          51.81,
          51.89,
          52,
          52.13,
          52.27,
          52.43
         ]
        },
        {
         "line": {
          "color": "rgba(251, 128, 114, 0.7999999999999998)",
          "dash": "solid",
          "shape": "linear",
          "width": 1.3
         },
         "mode": "lines",
         "name": "2017-07-31 00:00:00",
         "text": "",
         "type": "scatter",
         "x": [
          0,
          1,
          2,
          3,
          4,
          5,
          6,
          7,
          8,
          9,
          10,
          11,
          12,
          13,
          14,
          15,
          16,
          17,
          18
         ],
         "y": [
          51.28,
          51.32,
          51.37,
          51.44,
          51.53,
          51.64,
          51.76,
          51.82,
          51.89,
          51.98,
          52.07,
          52.17,
          52.3,
          52.35,
          52.42,
          52.5,
          52.6,
          52.73,
          52.88
         ]
        },
        {
         "line": {
          "color": "rgba(128, 177, 211, 0.7999999999999998)",
          "dash": "solid",
          "shape": "linear",
          "width": 1.3
         },
         "mode": "lines",
         "name": "2017-08-31 00:00:00",
         "text": "",
         "type": "scatter",
         "x": [
          0,
          1,
          2,
          3,
          4,
          5,
          6,
          7,
          8,
          9,
          10,
          11,
          12,
          13,
          14,
          15,
          16,
          17,
          18
         ],
         "y": [
          50.94,
          50.98,
          51.04,
          51.11,
          51.18,
          51.26,
          51.36,
          51.4,
          51.46,
          51.53,
          51.61,
          51.7,
          51.81,
          51.85,
          51.91,
          52,
          52.09,
          52.21,
          52.36
         ]
        },
        {
         "line": {
          "color": "rgba(255, 153, 51, 0.7999999999999998)",
          "dash": "solid",
          "shape": "linear",
          "width": 1.3
         },
         "mode": "lines",
         "name": "2017-09-30 00:00:00",
         "text": "",
         "type": "scatter",
         "x": [
          0,
          1,
          2,
          3,
          4,
          5,
          6,
          7,
          8,
          9,
          10,
          11,
          12,
          13,
          14,
          15,
          16,
          17,
          18
         ],
         "y": [
          50.55,
          50.53,
          50.52,
          50.51,
          50.53,
          50.55,
          50.59,
          50.56,
          50.55,
          50.55,
          50.57,
          50.58,
          50.62,
          50.59,
          50.58,
          50.6,
          50.63,
          50.67,
          50.73
         ]
        },
        {
         "line": {
          "color": "rgba(55, 128, 191, 0.7999999999999998)",
          "dash": "solid",
          "shape": "linear",
          "width": 1.3
         },
         "mode": "lines",
         "name": "2017-10-31 00:00:00",
         "text": "",
         "type": "scatter",
         "x": [
          0,
          1,
          2,
          3,
          4,
          5,
          6,
          7,
          8,
          9,
          10,
          11,
          12,
          13,
          14,
          15,
          16,
          17,
          18
         ],
         "y": [
          50.57,
          50.48,
          50.41,
          50.35,
          50.32,
          50.29,
          50.26,
          50.21,
          50.17,
          50.15,
          50.13,
          50.11,
          50.11,
          50.06,
          50.03,
          50.01,
          50.01,
          50.02,
          50.06
         ]
        },
        {
         "line": {
          "color": "rgba(50, 171, 96, 0.7999999999999998)",
          "dash": "solid",
          "shape": "linear",
          "width": 1.3
         },
         "mode": "lines",
         "name": "2017-11-30 00:00:00",
         "text": "",
         "type": "scatter",
         "x": [
          0,
          1,
          2,
          3,
          4,
          5,
          6,
          7,
          8,
          9,
          10,
          11,
          12,
          13,
          14,
          15,
          16,
          17,
          18
         ],
         "y": [
          51.92,
          51.79,
          51.73,
          51.65,
          51.57,
          51.53,
          51.48,
          51.39,
          51.37,
          51.32,
          51.25,
          51.11,
          51.03,
          50.93,
          50.92,
          50.86,
          50.83,
          50.78,
          50.76
         ]
        },
        {
         "line": {
          "color": "rgba(128, 0, 128, 0.7999999999999998)",
          "dash": "solid",
          "shape": "linear",
          "width": 1.3
         },
         "mode": "lines",
         "name": "2017-12-31 00:00:00",
         "text": "",
         "type": "scatter",
         "x": [
          0,
          1,
          2,
          3,
          4,
          5,
          6,
          7,
          8,
          9,
          10,
          11,
          12,
          13,
          14,
          15,
          16,
          17,
          18
         ],
         "y": [
          53.79,
          53.62,
          53.45,
          53.31,
          53.19,
          53.07,
          52.97,
          52.85,
          52.73,
          52.62,
          52.51,
          52.41,
          52.29,
          52.16,
          52.12,
          52.07,
          51.97,
          51.9,
          51.85
         ]
        },
        {
         "line": {
          "color": "rgba(219, 64, 82, 0.7999999999999998)",
          "dash": "solid",
          "shape": "linear",
          "width": 1.3
         },
         "mode": "lines",
         "name": "2018-01-31 00:00:00",
         "text": "",
         "type": "scatter",
         "x": [
          0,
          1,
          2,
          3,
          4,
          5,
          6,
          7,
          8,
          9,
          10,
          11,
          12,
          13,
          14,
          15,
          16,
          17,
          18
         ],
         "y": [
          55.2,
          54.97,
          54.77,
          54.59,
          54.4,
          54.25,
          54.12,
          53.96,
          53.81,
          53.67,
          53.53,
          53.38,
          53.25,
          53.11,
          53.09,
          53,
          52.8,
          52.71,
          52.64
         ]
        },
        {
         "line": {
          "color": "rgba(0, 128, 128, 0.7999999999999998)",
          "dash": "solid",
          "shape": "linear",
          "width": 1.3
         },
         "mode": "lines",
         "name": "2018-02-28 00:00:00",
         "text": "",
         "type": "scatter",
         "x": [
          0,
          1,
          2,
          3,
          4,
          5,
          6,
          7,
          8,
          9,
          10,
          11,
          12,
          13,
          14,
          15,
          16,
          17,
          18
         ],
         "y": [
          53.18,
          52.98,
          52.82,
          52.64,
          52.48,
          52.37,
          52.28,
          52.15,
          52.02,
          51.9,
          51.78,
          51.67,
          51.55,
          51.41,
          51.33,
          51.23,
          51.12,
          51.11,
          51.12
         ]
        },
        {
         "line": {
          "color": "rgba(255, 255, 51, 0.7999999999999998)",
          "dash": "solid",
          "shape": "linear",
          "width": 1.3
         },
         "mode": "lines",
         "name": "2018-03-31 00:00:00",
         "text": "",
         "type": "scatter",
         "x": [
          0,
          1,
          2,
          3,
          4,
          5,
          6,
          7,
          8,
          9,
          10,
          11,
          12,
          13,
          14,
          15,
          16,
          17,
          18
         ],
         "y": [
          55.69,
          55.43,
          55.21,
          54.98,
          54.74,
          54.54,
          54.36,
          54.16,
          53.98,
          53.78,
          53.62,
          53.44,
          53.27,
          53.08,
          52.92,
          52.8,
          52.71,
          52.61,
          52.48
         ]
        },
        {
         "line": {
          "color": "rgba(128, 128, 0, 0.7999999999999998)",
          "dash": "solid",
          "shape": "linear",
          "width": 1.3
         },
         "mode": "lines",
         "name": "2018-04-30 00:00:00",
         "text": "",
         "type": "scatter",
         "x": [
          0,
          1,
          2,
          3,
          4,
          5,
          6,
          7,
          8,
          9,
          10,
          11,
          12,
          13,
          14,
          15,
          16,
          17,
          18
         ],
         "y": [
          57,
          56.64,
          56.29,
          55.96,
          55.65,
          55.38,
          55.13,
          54.86,
          54.6,
          54.34,
          54.07,
          53.82,
          53.6,
          53.37,
          53.17,
          52.98,
          52.82,
          52.68,
          52.48
         ]
        },
        {
         "line": {
          "color": "rgba(128, 128, 0, 0.7)",
          "dash": "solid",
          "shape": "linear",
          "width": 1.3
         },
         "mode": "lines",
         "name": "2018-05-31 00:00:00",
         "text": "",
         "type": "scatter",
         "x": [
          0,
          1,
          2,
          3,
          4,
          5,
          6,
          7,
          8,
          9,
          10,
          11,
          12,
          13,
          14,
          15,
          16,
          17,
          18
         ],
         "y": [
          59.44,
          59.17,
          58.91,
          58.65,
          58.45,
          58.23,
          58.03,
          57.77,
          57.53,
          57.28,
          57.06,
          56.87,
          56.71,
          56.53,
          56.33,
          56.18,
          56.03,
          55.9,
          55.75
         ]
        },
        {
         "line": {
          "color": "rgba(251, 128, 114, 0.7)",
          "dash": "solid",
          "shape": "linear",
          "width": 1.3
         },
         "mode": "lines",
         "name": "2018-06-30 00:00:00",
         "text": "",
         "type": "scatter",
         "x": [
          0,
          1,
          2,
          3,
          4,
          5,
          6,
          7,
          8,
          9,
          10,
          11,
          12,
          13,
          14,
          15,
          16,
          17,
          18
         ],
         "y": [
          61.51,
          61.16,
          60.87,
          60.55,
          60.29,
          60.02,
          59.82,
          59.58,
          59.36,
          59.08,
          58.83,
          58.55,
          58.34,
          58.12,
          57.89,
          57.69,
          57.49,
          57.34,
          57.15
         ]
        },
        {
         "line": {
          "color": "rgba(128, 177, 211, 0.7)",
          "dash": "solid",
          "shape": "linear",
          "width": 1.3
         },
         "mode": "lines",
         "name": "2018-07-31 00:00:00",
         "text": "",
         "type": "scatter",
         "x": [
          0,
          1,
          2,
          3,
          4,
          5,
          6,
          7,
          8,
          9,
          10,
          11,
          12,
          13,
          14,
          15,
          16,
          17,
          18
         ],
         "y": [
          61.67,
          61.38,
          61.12,
          60.88,
          60.66,
          60.47,
          60.28,
          60.02,
          59.78,
          59.54,
          59.32,
          59.13,
          58.93,
          58.74,
          58.54,
          58.36,
          58.16,
          57.99,
          57.84
         ]
        },
        {
         "line": {
          "color": "rgba(255, 153, 51, 0.7)",
          "dash": "solid",
          "shape": "linear",
          "width": 1.3
         },
         "mode": "lines",
         "name": "2018-08-31 00:00:00",
         "text": "",
         "type": "scatter",
         "x": [
          0,
          1,
          2,
          3,
          4,
          5,
          6,
          7,
          8,
          9,
          10,
          11,
          12,
          13,
          14,
          15,
          16,
          17,
          18
         ],
         "y": [
          63.49,
          63.17,
          62.88,
          62.58,
          62.33,
          62.08,
          61.87,
          61.59,
          61.32,
          61.05,
          60.8,
          60.57,
          60.33,
          60.08,
          59.87,
          59.67,
          59.47,
          59.28,
          59.05
         ]
        },
        {
         "line": {
          "color": "rgba(55, 128, 191, 0.7)",
          "dash": "solid",
          "shape": "linear",
          "width": 1.3
         },
         "mode": "lines",
         "name": "2018-09-30 00:00:00",
         "text": "",
         "type": "scatter",
         "x": [
          0,
          1,
          2,
          3,
          4,
          5,
          6,
          7,
          8,
          9,
          10,
          11,
          12,
          13,
          14,
          15,
          16,
          17,
          18
         ],
         "y": [
          67.56,
          67.19,
          66.85,
          66.52,
          66.22,
          65.94,
          65.69,
          65.36,
          65.04,
          64.72,
          64.42,
          64.11,
          63.83,
          63.53,
          63.26,
          63,
          62.75,
          62.52,
          62.28
         ]
        },
        {
         "line": {
          "color": "rgba(50, 171, 96, 0.7)",
          "dash": "solid",
          "shape": "linear",
          "width": 1.3
         },
         "mode": "lines",
         "name": "2018-10-31 00:00:00",
         "text": "",
         "type": "scatter",
         "x": [
          0,
          1,
          2,
          3,
          4,
          5,
          6,
          7,
          8,
          9,
          10,
          11,
          12,
          13,
          14,
          15,
          16,
          17,
          18
         ],
         "y": [
          64.2,
          63.95,
          63.73,
          63.51,
          63.32,
          63.13,
          62.95,
          62.7,
          62.47,
          62.23,
          62,
          61.77,
          61.57,
          61.33,
          61.13,
          60.93,
          60.74,
          60.56,
          60.37
         ]
        },
        {
         "line": {
          "color": "rgba(128, 0, 128, 0.7)",
          "dash": "solid",
          "shape": "linear",
          "width": 1.3
         },
         "mode": "lines",
         "name": "2018-11-30 00:00:00",
         "text": "",
         "type": "scatter",
         "x": [
          0,
          1,
          2,
          3,
          4,
          5,
          6,
          7,
          8,
          9,
          10,
          11,
          12,
          13,
          14,
          15,
          16,
          17,
          18
         ],
         "y": [
          51.99,
          51.99,
          52.01,
          52.05,
          52.09,
          52.12,
          52.17,
          52.15,
          52.13,
          52.11,
          52.1,
          52.09,
          52.1,
          52.07,
          52.07,
          52.07,
          52.08,
          52.09,
          52.12
         ]
        },
        {
         "line": {
          "color": "rgba(219, 64, 82, 0.7)",
          "dash": "solid",
          "shape": "linear",
          "width": 1.3
         },
         "mode": "lines",
         "name": "2018-12-31 00:00:00",
         "text": "",
         "type": "scatter",
         "x": [
          0,
          1,
          2,
          3,
          4,
          5,
          6,
          7,
          8,
          9,
          10,
          11,
          12,
          13,
          14,
          15,
          16,
          17,
          18
         ],
         "y": [
          49.11,
          49.18,
          49.28,
          49.4,
          49.54,
          49.67,
          49.82,
          49.9,
          49.98,
          50.06,
          50.15,
          50.23,
          50.33,
          50.39,
          50.48,
          50.57,
          50.67,
          50.78,
          50.89
         ]
        },
        {
         "line": {
          "color": "rgba(0, 128, 128, 0.7)",
          "dash": "solid",
          "shape": "linear",
          "width": 1.3
         },
         "mode": "lines",
         "name": "2019-01-31 00:00:00",
         "text": "",
         "type": "scatter",
         "x": [
          0,
          1,
          2,
          3,
          4,
          5,
          6,
          7,
          8,
          9,
          10,
          11,
          12,
          13,
          14,
          15,
          16,
          17,
          18
         ],
         "y": [
          54.28,
          54.17,
          54.07,
          54,
          53.94,
          53.9,
          53.86,
          53.76,
          53.67,
          53.59,
          53.52,
          53.44,
          53.4,
          53.33,
          53.28,
          53.25,
          53.22,
          53.18,
          53.17
         ]
        },
        {
         "line": {
          "color": "rgba(255, 255, 51, 0.7)",
          "dash": "solid",
          "shape": "linear",
          "width": 1.3
         },
         "mode": "lines",
         "name": "2019-02-28 00:00:00",
         "text": "",
         "type": "scatter",
         "x": [
          0,
          1,
          2,
          3,
          4,
          5,
          6,
          7,
          8,
          9,
          10,
          11,
          12,
          13,
          14,
          15,
          16,
          17,
          18
         ],
         "y": [
          58.21,
          58,
          57.81,
          57.64,
          57.47,
          57.34,
          57.21,
          57.01,
          56.8,
          56.63,
          56.47,
          56.32,
          56.19,
          56.03,
          55.9,
          55.78,
          55.67,
          55.57,
          55.49
         ]
        },
        {
         "line": {
          "color": "rgba(255, 255, 51, 0.5999999999999999)",
          "dash": "solid",
          "shape": "linear",
          "width": 1.3
         },
         "mode": "lines",
         "name": "2019-03-31 00:00:00",
         "text": "",
         "type": "scatter",
         "x": [
          0,
          1,
          2,
          3,
          4,
          5,
          6,
          7,
          8,
          9,
          10,
          11,
          12,
          13,
          14,
          15,
          16,
          17,
          18
         ],
         "y": [
          58.85,
          58.59,
          58.35,
          58.13,
          57.93,
          57.76,
          57.63,
          57.4,
          57.18,
          56.98,
          56.76,
          56.54,
          56.37,
          56.17,
          56,
          55.83,
          55.67,
          55.54,
          55.43
         ]
        },
        {
         "line": {
          "color": "rgba(128, 128, 0, 0.5999999999999999)",
          "dash": "solid",
          "shape": "linear",
          "width": 1.3
         },
         "mode": "lines",
         "name": "2019-04-30 00:00:00",
         "text": "",
         "type": "scatter",
         "x": [
          0,
          1,
          2,
          3,
          4,
          5,
          6,
          7,
          8,
          9,
          10,
          11,
          12,
          13,
          14,
          15,
          16,
          17,
          18
         ],
         "y": [
          60.88,
          60.49,
          60.14,
          59.8,
          59.48,
          59.21,
          58.98,
          58.65,
          58.34,
          58.05,
          57.79,
          57.56,
          57.36,
          57.11,
          56.88,
          56.69,
          56.51,
          56.35,
          56.21
         ]
        },
        {
         "line": {
          "color": "rgba(251, 128, 114, 0.5999999999999999)",
          "dash": "solid",
          "shape": "linear",
          "width": 1.3
         },
         "mode": "lines",
         "name": "2019-05-31 00:00:00",
         "text": "",
         "type": "scatter",
         "x": [
          0,
          1,
          2,
          3,
          4,
          5,
          6,
          7,
          8,
          9,
          10,
          11,
          12,
          13,
          14,
          15,
          16,
          17,
          18
         ],
         "y": [
          52.58,
          52.41,
          52.26,
          52.14,
          52.03,
          51.95,
          51.88,
          51.75,
          51.63,
          51.53,
          51.45,
          51.4,
          51.34,
          51.23,
          51.13,
          51.08,
          51.06,
          51.07,
          51.09
         ]
        },
        {
         "line": {
          "color": "rgba(128, 177, 211, 0.5999999999999999)",
          "dash": "solid",
          "shape": "linear",
          "width": 1.3
         },
         "mode": "lines",
         "name": "2019-06-30 00:00:00",
         "text": "",
         "type": "scatter",
         "x": [
          0,
          1,
          2,
          3,
          4,
          5,
          6,
          7,
          8,
          9,
          10,
          11,
          12,
          13,
          14,
          15,
          16,
          17,
          18
         ],
         "y": [
          56.26,
          55.99,
          55.76,
          55.54,
          55.35,
          55.18,
          55.03,
          54.83,
          54.66,
          54.5,
          54.36,
          54.25,
          54.18,
          54.06,
          53.97,
          53.91,
          53.84,
          53.82,
          53.82
         ]
        },
        {
         "line": {
          "color": "rgba(255, 153, 51, 0.5999999999999999)",
          "dash": "solid",
          "shape": "linear",
          "width": 1.3
         },
         "mode": "lines",
         "name": "2019-07-31 00:00:00",
         "text": "",
         "type": "scatter",
         "x": [
          0,
          1,
          2,
          3,
          4,
          5,
          6,
          7,
          8,
          9,
          10,
          11,
          12,
          13,
          14,
          15,
          16,
          17,
          18
         ],
         "y": [
          56.82,
          56.49,
          56.19,
          55.91,
          55.65,
          55.42,
          55.21,
          54.95,
          54.7,
          54.47,
          54.26,
          54.08,
          53.92,
          53.73,
          53.57,
          53.43,
          53.31,
          53.2,
          53.11
         ]
        },
        {
         "line": {
          "color": "rgba(55, 128, 191, 0.5999999999999999)",
          "dash": "solid",
          "shape": "linear",
          "width": 1.3
         },
         "mode": "lines",
         "name": "2019-08-31 00:00:00",
         "text": "",
         "type": "scatter",
         "x": [
          0,
          1,
          2,
          3,
          4,
          5,
          6,
          7,
          8,
          9,
          10,
          11,
          12,
          13,
          14,
          15,
          16,
          17,
          18
         ],
         "y": [
          52.5,
          52.23,
          51.99,
          51.78,
          51.59,
          51.42,
          51.27,
          51.09,
          50.93,
          50.79,
          50.67,
          50.58,
          50.5,
          50.4,
          50.31,
          50.24,
          50.19,
          50.15,
          50.13
         ]
        },
        {
         "line": {
          "color": "rgba(50, 171, 96, 0.5999999999999999)",
          "dash": "solid",
          "shape": "linear",
          "width": 1.3
         },
         "mode": "lines",
         "name": "2019-09-30 00:00:00",
         "text": "",
         "type": "scatter",
         "x": [
          0,
          1,
          2,
          3,
          4,
          5,
          6,
          7,
          8,
          9,
          10,
          11,
          12,
          13,
          14,
          15,
          16,
          17,
          18
         ],
         "y": [
          51.77,
          51.45,
          51.17,
          50.94,
          50.76,
          50.63,
          50.51,
          50.4,
          50.3,
          50.21,
          50.14,
          50.1,
          50.07,
          50.01,
          49.97,
          49.94,
          49.94,
          49.95,
          49.97
         ]
        },
        {
         "line": {
          "color": "rgba(128, 0, 128, 0.5999999999999999)",
          "dash": "solid",
          "shape": "linear",
          "width": 1.3
         },
         "mode": "lines",
         "name": "2019-10-31 00:00:00",
         "text": "",
         "type": "scatter",
         "x": [
          0,
          1,
          2,
          3,
          4,
          5,
          6,
          7,
          8,
          9,
          10,
          11,
          12,
          13,
          14,
          15,
          16,
          17,
          18
         ],
         "y": [
          52.96,
          52.61,
          52.29,
          52.02,
          51.77,
          51.59,
          51.46,
          51.3,
          51.15,
          51.03,
          50.93,
          50.85,
          50.79,
          50.69,
          50.6,
          50.53,
          50.49,
          50.48,
          50.48
         ]
        },
        {
         "line": {
          "color": "rgba(219, 64, 82, 0.5999999999999999)",
          "dash": "solid",
          "shape": "linear",
          "width": 1.3
         },
         "mode": "lines",
         "name": "2019-11-30 00:00:00",
         "text": "",
         "type": "scatter",
         "x": [
          0,
          1,
          2,
          3,
          4,
          5,
          6,
          7,
          8,
          9,
          10,
          11,
          12,
          13,
          14,
          15,
          16,
          17,
          18
         ],
         "y": [
          54.1,
          53.73,
          53.38,
          53.05,
          52.77,
          52.53,
          52.31,
          52.09,
          51.88,
          51.7,
          51.54,
          51.41,
          51.29,
          51.14,
          51,
          50.89,
          50.79,
          50.72,
          50.67
         ]
        },
        {
         "line": {
          "color": "rgba(0, 128, 128, 0.5999999999999999)",
          "dash": "solid",
          "shape": "linear",
          "width": 1.3
         },
         "mode": "lines",
         "name": "2019-12-31 00:00:00",
         "text": "",
         "type": "scatter",
         "x": [
          0,
          1,
          2,
          3,
          4,
          5,
          6,
          7,
          8,
          9,
          10,
          11,
          12,
          13,
          14,
          15,
          16,
          17,
          18
         ],
         "y": [
          59.44,
          58.87,
          58.31,
          57.77,
          57.29,
          56.85,
          56.44,
          56.03,
          55.66,
          55.32,
          55,
          54.7,
          54.44,
          54.15,
          53.88,
          53.64,
          53.43,
          53.24,
          53.07
         ]
        },
        {
         "line": {
          "color": "rgba(0, 128, 128, 0.49999999999999983)",
          "dash": "solid",
          "shape": "linear",
          "width": 1.3
         },
         "mode": "lines",
         "name": "2020-01-31 00:00:00",
         "text": "",
         "type": "scatter",
         "x": [
          0,
          1,
          2,
          3,
          4,
          5,
          6,
          7,
          8,
          9,
          10,
          11,
          12,
          13,
          14,
          15,
          16,
          17,
          18
         ],
         "y": [
          51.8,
          51.74,
          51.59,
          51.39,
          51.17,
          50.98,
          50.8,
          50.63,
          50.48,
          50.36,
          50.26,
          50.17,
          50.1,
          50,
          49.93,
          49.87,
          49.83,
          49.8,
          49.78
         ]
        },
        {
         "line": {
          "color": "rgba(255, 255, 51, 0.49999999999999983)",
          "dash": "solid",
          "shape": "linear",
          "width": 1.3
         },
         "mode": "lines",
         "name": "2020-02-29 00:00:00",
         "text": "",
         "type": "scatter",
         "x": [
          0,
          1,
          2,
          3,
          4,
          5,
          6,
          7,
          8,
          9,
          10,
          11,
          12,
          13,
          14,
          15,
          16,
          17,
          18
         ],
         "y": [
          45.1,
          45.23,
          45.35,
          45.46,
          45.58,
          45.73,
          45.89,
          46,
          46.09,
          46.17,
          46.27,
          46.36,
          46.46,
          46.53,
          46.6,
          46.67,
          46.76,
          46.86,
          46.97
         ]
        },
        {
         "line": {
          "color": "rgba(128, 128, 0, 0.49999999999999983)",
          "dash": "solid",
          "shape": "linear",
          "width": 1.3
         },
         "mode": "lines",
         "name": "2020-03-31 00:00:00",
         "text": "",
         "type": "scatter",
         "x": [
          0,
          1,
          2,
          3,
          4,
          5,
          6,
          7,
          8,
          9,
          10,
          11,
          12,
          13,
          14,
          15,
          16,
          17,
          18
         ],
         "y": [
          24.51,
          27.69,
          29.79,
          31.12,
          32.08,
          32.91,
          33.58,
          34.15,
          34.64,
          35.1,
          35.52,
          35.9,
          36.22,
          36.49,
          36.76,
          37.04,
          37.31,
          37.59,
          37.88
         ]
        },
        {
         "line": {
          "color": "rgba(251, 128, 114, 0.49999999999999983)",
          "dash": "solid",
          "shape": "linear",
          "width": 1.3
         },
         "mode": "lines",
         "name": "2020-04-30 00:00:00",
         "text": "",
         "type": "scatter",
         "x": [
          0,
          1,
          2,
          3,
          4,
          5,
          6,
          7,
          8,
          9,
          10,
          11,
          12,
          13,
          14,
          15,
          16,
          17,
          18
         ],
         "y": [
          18.84,
          21.85,
          24.37,
          26.37,
          27.67,
          28.72,
          29.62,
          30.38,
          31.07,
          31.66,
          32.17,
          32.61,
          33.01,
          33.35,
          33.69,
          34.01,
          34.32,
          34.63,
          34.95
         ]
        }
       ],
       "layout": {
        "legend": {
         "bgcolor": "#F5F6F9",
         "font": {
          "color": "#4D5663"
         }
        },
        "paper_bgcolor": "#F5F6F9",
        "plot_bgcolor": "#F5F6F9",
        "template": {
         "data": {
          "bar": [
           {
            "error_x": {
             "color": "#2a3f5f"
            },
            "error_y": {
             "color": "#2a3f5f"
            },
            "marker": {
             "line": {
              "color": "#E5ECF6",
              "width": 0.5
             }
            },
            "type": "bar"
           }
          ],
          "barpolar": [
           {
            "marker": {
             "line": {
              "color": "#E5ECF6",
              "width": 0.5
             }
            },
            "type": "barpolar"
           }
          ],
          "carpet": [
           {
            "aaxis": {
             "endlinecolor": "#2a3f5f",
             "gridcolor": "white",
             "linecolor": "white",
             "minorgridcolor": "white",
             "startlinecolor": "#2a3f5f"
            },
            "baxis": {
             "endlinecolor": "#2a3f5f",
             "gridcolor": "white",
             "linecolor": "white",
             "minorgridcolor": "white",
             "startlinecolor": "#2a3f5f"
            },
            "type": "carpet"
           }
          ],
          "choropleth": [
           {
            "colorbar": {
             "outlinewidth": 0,
             "ticks": ""
            },
            "type": "choropleth"
           }
          ],
          "contour": [
           {
            "colorbar": {
             "outlinewidth": 0,
             "ticks": ""
            },
            "colorscale": [
             [
              0,
              "#0d0887"
             ],
             [
              0.1111111111111111,
              "#46039f"
             ],
             [
              0.2222222222222222,
              "#7201a8"
             ],
             [
              0.3333333333333333,
              "#9c179e"
             ],
             [
              0.4444444444444444,
              "#bd3786"
             ],
             [
              0.5555555555555556,
              "#d8576b"
             ],
             [
              0.6666666666666666,
              "#ed7953"
             ],
             [
              0.7777777777777778,
              "#fb9f3a"
             ],
             [
              0.8888888888888888,
              "#fdca26"
             ],
             [
              1,
              "#f0f921"
             ]
            ],
            "type": "contour"
           }
          ],
          "contourcarpet": [
           {
            "colorbar": {
             "outlinewidth": 0,
             "ticks": ""
            },
            "type": "contourcarpet"
           }
          ],
          "heatmap": [
           {
            "colorbar": {
             "outlinewidth": 0,
             "ticks": ""
            },
            "colorscale": [
             [
              0,
              "#0d0887"
             ],
             [
              0.1111111111111111,
              "#46039f"
             ],
             [
              0.2222222222222222,
              "#7201a8"
             ],
             [
              0.3333333333333333,
              "#9c179e"
             ],
             [
              0.4444444444444444,
              "#bd3786"
             ],
             [
              0.5555555555555556,
              "#d8576b"
             ],
             [
              0.6666666666666666,
              "#ed7953"
             ],
             [
              0.7777777777777778,
              "#fb9f3a"
             ],
             [
              0.8888888888888888,
              "#fdca26"
             ],
             [
              1,
              "#f0f921"
             ]
            ],
            "type": "heatmap"
           }
          ],
          "heatmapgl": [
           {
            "colorbar": {
             "outlinewidth": 0,
             "ticks": ""
            },
            "colorscale": [
             [
              0,
              "#0d0887"
             ],
             [
              0.1111111111111111,
              "#46039f"
             ],
             [
              0.2222222222222222,
              "#7201a8"
             ],
             [
              0.3333333333333333,
              "#9c179e"
             ],
             [
              0.4444444444444444,
              "#bd3786"
             ],
             [
              0.5555555555555556,
              "#d8576b"
             ],
             [
              0.6666666666666666,
              "#ed7953"
             ],
             [
              0.7777777777777778,
              "#fb9f3a"
             ],
             [
              0.8888888888888888,
              "#fdca26"
             ],
             [
              1,
              "#f0f921"
             ]
            ],
            "type": "heatmapgl"
           }
          ],
          "histogram": [
           {
            "marker": {
             "colorbar": {
              "outlinewidth": 0,
              "ticks": ""
             }
            },
            "type": "histogram"
           }
          ],
          "histogram2d": [
           {
            "colorbar": {
             "outlinewidth": 0,
             "ticks": ""
            },
            "colorscale": [
             [
              0,
              "#0d0887"
             ],
             [
              0.1111111111111111,
              "#46039f"
             ],
             [
              0.2222222222222222,
              "#7201a8"
             ],
             [
              0.3333333333333333,
              "#9c179e"
             ],
             [
              0.4444444444444444,
              "#bd3786"
             ],
             [
              0.5555555555555556,
              "#d8576b"
             ],
             [
              0.6666666666666666,
              "#ed7953"
             ],
             [
              0.7777777777777778,
              "#fb9f3a"
             ],
             [
              0.8888888888888888,
              "#fdca26"
             ],
             [
              1,
              "#f0f921"
             ]
            ],
            "type": "histogram2d"
           }
          ],
          "histogram2dcontour": [
           {
            "colorbar": {
             "outlinewidth": 0,
             "ticks": ""
            },
            "colorscale": [
             [
              0,
              "#0d0887"
             ],
             [
              0.1111111111111111,
              "#46039f"
             ],
             [
              0.2222222222222222,
              "#7201a8"
             ],
             [
              0.3333333333333333,
              "#9c179e"
             ],
             [
              0.4444444444444444,
              "#bd3786"
             ],
             [
              0.5555555555555556,
              "#d8576b"
             ],
             [
              0.6666666666666666,
              "#ed7953"
             ],
             [
              0.7777777777777778,
              "#fb9f3a"
             ],
             [
              0.8888888888888888,
              "#fdca26"
             ],
             [
              1,
              "#f0f921"
             ]
            ],
            "type": "histogram2dcontour"
           }
          ],
          "mesh3d": [
           {
            "colorbar": {
             "outlinewidth": 0,
             "ticks": ""
            },
            "type": "mesh3d"
           }
          ],
          "parcoords": [
           {
            "line": {
             "colorbar": {
              "outlinewidth": 0,
              "ticks": ""
             }
            },
            "type": "parcoords"
           }
          ],
          "pie": [
           {
            "automargin": true,
            "type": "pie"
           }
          ],
          "scatter": [
           {
            "marker": {
             "colorbar": {
              "outlinewidth": 0,
              "ticks": ""
             }
            },
            "type": "scatter"
           }
          ],
          "scatter3d": [
           {
            "line": {
             "colorbar": {
              "outlinewidth": 0,
              "ticks": ""
             }
            },
            "marker": {
             "colorbar": {
              "outlinewidth": 0,
              "ticks": ""
             }
            },
            "type": "scatter3d"
           }
          ],
          "scattercarpet": [
           {
            "marker": {
             "colorbar": {
              "outlinewidth": 0,
              "ticks": ""
             }
            },
            "type": "scattercarpet"
           }
          ],
          "scattergeo": [
           {
            "marker": {
             "colorbar": {
              "outlinewidth": 0,
              "ticks": ""
             }
            },
            "type": "scattergeo"
           }
          ],
          "scattergl": [
           {
            "marker": {
             "colorbar": {
              "outlinewidth": 0,
              "ticks": ""
             }
            },
            "type": "scattergl"
           }
          ],
          "scattermapbox": [
           {
            "marker": {
             "colorbar": {
              "outlinewidth": 0,
              "ticks": ""
             }
            },
            "type": "scattermapbox"
           }
          ],
          "scatterpolar": [
           {
            "marker": {
             "colorbar": {
              "outlinewidth": 0,
              "ticks": ""
             }
            },
            "type": "scatterpolar"
           }
          ],
          "scatterpolargl": [
           {
            "marker": {
             "colorbar": {
              "outlinewidth": 0,
              "ticks": ""
             }
            },
            "type": "scatterpolargl"
           }
          ],
          "scatterternary": [
           {
            "marker": {
             "colorbar": {
              "outlinewidth": 0,
              "ticks": ""
             }
            },
            "type": "scatterternary"
           }
          ],
          "surface": [
           {
            "colorbar": {
             "outlinewidth": 0,
             "ticks": ""
            },
            "colorscale": [
             [
              0,
              "#0d0887"
             ],
             [
              0.1111111111111111,
              "#46039f"
             ],
             [
              0.2222222222222222,
              "#7201a8"
             ],
             [
              0.3333333333333333,
              "#9c179e"
             ],
             [
              0.4444444444444444,
              "#bd3786"
             ],
             [
              0.5555555555555556,
              "#d8576b"
             ],
             [
              0.6666666666666666,
              "#ed7953"
             ],
             [
              0.7777777777777778,
              "#fb9f3a"
             ],
             [
              0.8888888888888888,
              "#fdca26"
             ],
             [
              1,
              "#f0f921"
             ]
            ],
            "type": "surface"
           }
          ],
          "table": [
           {
            "cells": {
             "fill": {
              "color": "#EBF0F8"
             },
             "line": {
              "color": "white"
             }
            },
            "header": {
             "fill": {
              "color": "#C8D4E3"
             },
             "line": {
              "color": "white"
             }
            },
            "type": "table"
           }
          ]
         },
         "layout": {
          "annotationdefaults": {
           "arrowcolor": "#2a3f5f",
           "arrowhead": 0,
           "arrowwidth": 1
          },
          "coloraxis": {
           "colorbar": {
            "outlinewidth": 0,
            "ticks": ""
           }
          },
          "colorscale": {
           "diverging": [
            [
             0,
             "#8e0152"
            ],
            [
             0.1,
             "#c51b7d"
            ],
            [
             0.2,
             "#de77ae"
            ],
            [
             0.3,
             "#f1b6da"
            ],
            [
             0.4,
             "#fde0ef"
            ],
            [
             0.5,
             "#f7f7f7"
            ],
            [
             0.6,
             "#e6f5d0"
            ],
            [
             0.7,
             "#b8e186"
            ],
            [
             0.8,
             "#7fbc41"
            ],
            [
             0.9,
             "#4d9221"
            ],
            [
             1,
             "#276419"
            ]
           ],
           "sequential": [
            [
             0,
             "#0d0887"
            ],
            [
             0.1111111111111111,
             "#46039f"
            ],
            [
             0.2222222222222222,
             "#7201a8"
            ],
            [
             0.3333333333333333,
             "#9c179e"
            ],
            [
             0.4444444444444444,
             "#bd3786"
            ],
            [
             0.5555555555555556,
             "#d8576b"
            ],
            [
             0.6666666666666666,
             "#ed7953"
            ],
            [
             0.7777777777777778,
             "#fb9f3a"
            ],
            [
             0.8888888888888888,
             "#fdca26"
            ],
            [
             1,
             "#f0f921"
            ]
           ],
           "sequentialminus": [
            [
             0,
             "#0d0887"
            ],
            [
             0.1111111111111111,
             "#46039f"
            ],
            [
             0.2222222222222222,
             "#7201a8"
            ],
            [
             0.3333333333333333,
             "#9c179e"
            ],
            [
             0.4444444444444444,
             "#bd3786"
            ],
            [
             0.5555555555555556,
             "#d8576b"
            ],
            [
             0.6666666666666666,
             "#ed7953"
            ],
            [
             0.7777777777777778,
             "#fb9f3a"
            ],
            [
             0.8888888888888888,
             "#fdca26"
            ],
            [
             1,
             "#f0f921"
            ]
           ]
          },
          "colorway": [
           "#636efa",
           "#EF553B",
           "#00cc96",
           "#ab63fa",
           "#FFA15A",
           "#19d3f3",
           "#FF6692",
           "#B6E880",
           "#FF97FF",
           "#FECB52"
          ],
          "font": {
           "color": "#2a3f5f"
          },
          "geo": {
           "bgcolor": "white",
           "lakecolor": "white",
           "landcolor": "#E5ECF6",
           "showlakes": true,
           "showland": true,
           "subunitcolor": "white"
          },
          "hoverlabel": {
           "align": "left"
          },
          "hovermode": "closest",
          "mapbox": {
           "style": "light"
          },
          "paper_bgcolor": "white",
          "plot_bgcolor": "#E5ECF6",
          "polar": {
           "angularaxis": {
            "gridcolor": "white",
            "linecolor": "white",
            "ticks": ""
           },
           "bgcolor": "#E5ECF6",
           "radialaxis": {
            "gridcolor": "white",
            "linecolor": "white",
            "ticks": ""
           }
          },
          "scene": {
           "xaxis": {
            "backgroundcolor": "#E5ECF6",
            "gridcolor": "white",
            "gridwidth": 2,
            "linecolor": "white",
            "showbackground": true,
            "ticks": "",
            "zerolinecolor": "white"
           },
           "yaxis": {
            "backgroundcolor": "#E5ECF6",
            "gridcolor": "white",
            "gridwidth": 2,
            "linecolor": "white",
            "showbackground": true,
            "ticks": "",
            "zerolinecolor": "white"
           },
           "zaxis": {
            "backgroundcolor": "#E5ECF6",
            "gridcolor": "white",
            "gridwidth": 2,
            "linecolor": "white",
            "showbackground": true,
            "ticks": "",
            "zerolinecolor": "white"
           }
          },
          "shapedefaults": {
           "line": {
            "color": "#2a3f5f"
           }
          },
          "ternary": {
           "aaxis": {
            "gridcolor": "white",
            "linecolor": "white",
            "ticks": ""
           },
           "baxis": {
            "gridcolor": "white",
            "linecolor": "white",
            "ticks": ""
           },
           "bgcolor": "#E5ECF6",
           "caxis": {
            "gridcolor": "white",
            "linecolor": "white",
            "ticks": ""
           }
          },
          "title": {
           "x": 0.05
          },
          "xaxis": {
           "automargin": true,
           "gridcolor": "white",
           "linecolor": "white",
           "ticks": "",
           "title": {
            "standoff": 15
           },
           "zerolinecolor": "white",
           "zerolinewidth": 2
          },
          "yaxis": {
           "automargin": true,
           "gridcolor": "white",
           "linecolor": "white",
           "ticks": "",
           "title": {
            "standoff": 15
           },
           "zerolinecolor": "white",
           "zerolinewidth": 2
          }
         }
        },
        "title": {
         "font": {
          "color": "#4D5663"
         }
        },
        "xaxis": {
         "gridcolor": "#E1E5ED",
         "showgrid": true,
         "tickfont": {
          "color": "#4D5663"
         },
         "title": {
          "font": {
           "color": "#4D5663"
          },
          "text": ""
         },
         "zerolinecolor": "#E1E5ED"
        },
        "yaxis": {
         "gridcolor": "#E1E5ED",
         "showgrid": true,
         "tickfont": {
          "color": "#4D5663"
         },
         "title": {
          "font": {
           "color": "#4D5663"
          },
          "text": ""
         },
         "zerolinecolor": "#E1E5ED"
        }
       }
      },
      "text/html": "<div>\n        \n        \n            <div id=\"f79bb427-17e9-42c5-88f0-58903abaf16a\" class=\"plotly-graph-div\" style=\"height:525px; width:100%;\"></div>\n            <script type=\"text/javascript\">\n                require([\"plotly\"], function(Plotly) {\n                    window.PLOTLYENV=window.PLOTLYENV || {};\n                    window.PLOTLYENV.BASE_URL='https://plot.ly';\n                    \n                if (document.getElementById(\"f79bb427-17e9-42c5-88f0-58903abaf16a\")) {\n                    Plotly.newPlot(\n                        'f79bb427-17e9-42c5-88f0-58903abaf16a',\n                        [{\"line\": {\"color\": \"rgba(255, 153, 51, 1.0)\", \"dash\": \"solid\", \"shape\": \"linear\", \"width\": 1.3}, \"mode\": \"lines\", \"name\": \"2015-11-30 00:00:00\", \"text\": \"\", \"type\": \"scatter\", \"x\": [0, 1, 2, 3, 4, 5, 6, 7, 8, 9, 10, 11, 12, 13, 14, 15, 16, 17, 18], \"y\": [56.73, 56.75, 56.82, 56.91, 57.02, 57.16, 57.32, 57.33, 57.36, 57.41, 57.47, 57.55, 57.65, 57.64, 57.66, 57.7, 57.76, 57.85, 57.96]}, {\"line\": {\"color\": \"rgba(55, 128, 191, 1.0)\", \"dash\": \"solid\", \"shape\": \"linear\", \"width\": 1.3}, \"mode\": \"lines\", \"name\": \"2015-12-31 00:00:00\", \"text\": \"\", \"type\": \"scatter\", \"x\": [0, 1, 2, 3, 4, 5, 6, 7, 8, 9, 10, 11, 12, 13, 14, 15, 16, 17, 18], \"y\": [53.66, 53.68, 53.74, 53.84, 53.96, 54.11, 54.29, 54.31, 54.35, 54.41, 54.49, 54.59, 54.71, 54.7, 54.73, 54.78, 54.85, 54.96, 55.09]}, {\"line\": {\"color\": \"rgba(50, 171, 96, 1.0)\", \"dash\": \"solid\", \"shape\": \"linear\", \"width\": 1.3}, \"mode\": \"lines\", \"name\": \"2016-01-31 00:00:00\", \"text\": \"\", \"type\": \"scatter\", \"x\": [0, 1, 2, 3, 4, 5, 6, 7, 8, 9, 10, 11, 12, 13, 14, 15, 16, 17, 18], \"y\": [49.33, 49.35, 49.41, 49.5, 49.61, 49.73, 49.89, 49.92, 49.97, 50.04, 50.13, 50.23, 50.36, 50.36, 50.39, 50.45, 50.54, 50.65, 50.79]}, {\"line\": {\"color\": \"rgba(128, 0, 128, 1.0)\", \"dash\": \"solid\", \"shape\": \"linear\", \"width\": 1.3}, \"mode\": \"lines\", \"name\": \"2016-02-29 00:00:00\", \"text\": \"\", \"type\": \"scatter\", \"x\": [0, 1, 2, 3, 4, 5, 6, 7, 8, 9, 10, 11, 12, 13, 14, 15, 16, 17, 18], \"y\": [47.43, 47.44, 47.48, 47.55, 47.64, 47.75, 47.9, 47.94, 48.0, 48.08, 48.18, 48.29, 48.42, 48.43, 48.47, 48.54, 48.64, 48.76, 48.9]}, {\"line\": {\"color\": \"rgba(219, 64, 82, 1.0)\", \"dash\": \"solid\", \"shape\": \"linear\", \"width\": 1.3}, \"mode\": \"lines\", \"name\": \"2016-03-31 00:00:00\", \"text\": \"\", \"type\": \"scatter\", \"x\": [0, 1, 2, 3, 4, 5, 6, 7, 8, 9, 10, 11, 12, 13, 14, 15, 16, 17, 18], \"y\": [49.87, 49.88, 49.94, 50.03, 50.14, 50.27, 50.43, 50.46, 50.51, 50.58, 50.68, 50.78, 50.89, 50.88, 50.9, 50.95, 51.03, 51.14, 51.27]}, {\"line\": {\"color\": \"rgba(0, 128, 128, 1.0)\", \"dash\": \"solid\", \"shape\": \"linear\", \"width\": 1.3}, \"mode\": \"lines\", \"name\": \"2016-04-30 00:00:00\", \"text\": \"\", \"type\": \"scatter\", \"x\": [0, 1, 2, 3, 4, 5, 6, 7, 8, 9, 10, 11, 12, 13, 14, 15, 16, 17, 18], \"y\": [52.52, 52.54, 52.59, 52.67, 52.77, 52.9, 53.06, 53.09, 53.13, 53.2, 53.29, 53.39, 53.51, 53.49, 53.51, 53.56, 53.64, 53.75, 53.88]}, {\"line\": {\"color\": \"rgba(255, 255, 51, 1.0)\", \"dash\": \"solid\", \"shape\": \"linear\", \"width\": 1.3}, \"mode\": \"lines\", \"name\": \"2016-05-31 00:00:00\", \"text\": \"\", \"type\": \"scatter\", \"x\": [0, 1, 2, 3, 4, 5, 6, 7, 8, 9, 10, 11, 12, 13, 14, 15, 16, 17, 18], \"y\": [55.32, 55.35, 55.41, 55.51, 55.63, 55.78, 55.96, 56.02, 56.09, 56.18, 56.29, 56.42, 56.57, 56.58, 56.63, 56.71, 56.82, 56.96, 57.12]}, {\"line\": {\"color\": \"rgba(128, 128, 0, 1.0)\", \"dash\": \"solid\", \"shape\": \"linear\", \"width\": 1.3}, \"mode\": \"lines\", \"name\": \"2016-06-30 00:00:00\", \"text\": \"\", \"type\": \"scatter\", \"x\": [0, 1, 2, 3, 4, 5, 6, 7, 8, 9, 10, 11, 12, 13, 14, 15, 16, 17, 18], \"y\": [55.46, 55.45, 55.48, 55.54, 55.61, 55.71, 55.83, 55.85, 55.9, 55.97, 56.05, 56.15, 56.27, 56.25, 56.27, 56.33, 56.41, 56.52, 56.66]}, {\"line\": {\"color\": \"rgba(251, 128, 114, 1.0)\", \"dash\": \"solid\", \"shape\": \"linear\", \"width\": 1.3}, \"mode\": \"lines\", \"name\": \"2016-07-31 00:00:00\", \"text\": \"\", \"type\": \"scatter\", \"x\": [0, 1, 2, 3, 4, 5, 6, 7, 8, 9, 10, 11, 12, 13, 14, 15, 16, 17, 18], \"y\": [52.06, 52.07, 52.13, 52.22, 52.33, 52.46, 52.62, 52.66, 52.71, 52.79, 52.88, 52.99, 53.13, 53.11, 53.14, 53.21, 53.32, 53.45, 53.61]}, {\"line\": {\"color\": \"rgba(128, 177, 211, 1.0)\", \"dash\": \"solid\", \"shape\": \"linear\", \"width\": 1.3}, \"mode\": \"lines\", \"name\": \"2016-08-31 00:00:00\", \"text\": \"\", \"type\": \"scatter\", \"x\": [0, 1, 2, 3, 4, 5, 6, 7, 8, 9, 10, 11, 12, 13, 14, 15, 16, 17, 18], \"y\": [53.27, 53.28, 53.31, 53.38, 53.48, 53.6, 53.75, 53.79, 53.85, 53.91, 53.99, 54.1, 54.23, 54.22, 54.25, 54.31, 54.4, 54.53, 54.68]}, {\"line\": {\"color\": \"rgba(128, 177, 211, 0.8999999999999999)\", \"dash\": \"solid\", \"shape\": \"linear\", \"width\": 1.3}, \"mode\": \"lines\", \"name\": \"2016-09-30 00:00:00\", \"text\": \"\", \"type\": \"scatter\", \"x\": [0, 1, 2, 3, 4, 5, 6, 7, 8, 9, 10, 11, 12, 13, 14, 15, 16, 17, 18], \"y\": [55.94, 55.96, 56.01, 56.1, 56.21, 56.35, 56.51, 56.56, 56.62, 56.7, 56.8, 56.92, 57.05, 57.05, 57.09, 57.16, 57.26, 57.39, 57.54]}, {\"line\": {\"color\": \"rgba(255, 153, 51, 0.8999999999999999)\", \"dash\": \"solid\", \"shape\": \"linear\", \"width\": 1.3}, \"mode\": \"lines\", \"name\": \"2016-10-31 00:00:00\", \"text\": \"\", \"type\": \"scatter\", \"x\": [0, 1, 2, 3, 4, 5, 6, 7, 8, 9, 10, 11, 12, 13, 14, 15, 16, 17, 18], \"y\": [54.22, 54.23, 54.27, 54.34, 54.42, 54.52, 54.65, 54.68, 54.73, 54.79, 54.88, 54.98, 55.1, 55.1, 55.12, 55.17, 55.25, 55.36, 55.5]}, {\"line\": {\"color\": \"rgba(55, 128, 191, 0.8999999999999999)\", \"dash\": \"solid\", \"shape\": \"linear\", \"width\": 1.3}, \"mode\": \"lines\", \"name\": \"2016-11-30 00:00:00\", \"text\": \"\", \"type\": \"scatter\", \"x\": [0, 1, 2, 3, 4, 5, 6, 7, 8, 9, 10, 11, 12, 13, 14, 15, 16, 17, 18], \"y\": [54.7, 54.7, 54.73, 54.78, 54.85, 54.95, 55.07, 55.11, 55.16, 55.23, 55.31, 55.41, 55.53, 55.52, 55.55, 55.61, 55.7, 55.81, 55.95]}, {\"line\": {\"color\": \"rgba(50, 171, 96, 0.8999999999999999)\", \"dash\": \"solid\", \"shape\": \"linear\", \"width\": 1.3}, \"mode\": \"lines\", \"name\": \"2016-12-31 00:00:00\", \"text\": \"\", \"type\": \"scatter\", \"x\": [0, 1, 2, 3, 4, 5, 6, 7, 8, 9, 10, 11, 12, 13, 14, 15, 16, 17, 18], \"y\": [56.08, 56.04, 56.02, 56.02, 56.04, 56.08, 56.14, 56.12, 56.12, 56.13, 56.16, 56.2, 56.26, 56.21, 56.19, 56.2, 56.23, 56.28, 56.36]}, {\"line\": {\"color\": \"rgba(128, 0, 128, 0.8999999999999999)\", \"dash\": \"solid\", \"shape\": \"linear\", \"width\": 1.3}, \"mode\": \"lines\", \"name\": \"2017-01-31 00:00:00\", \"text\": \"\", \"type\": \"scatter\", \"x\": [0, 1, 2, 3, 4, 5, 6, 7, 8, 9, 10, 11, 12, 13, 14, 15, 16, 17, 18], \"y\": [55.65, 55.62, 55.61, 55.61, 55.63, 55.67, 55.73, 55.71, 55.71, 55.73, 55.76, 55.8, 55.86, 55.82, 55.81, 55.83, 55.87, 55.93, 56.01]}, {\"line\": {\"color\": \"rgba(219, 64, 82, 0.8999999999999999)\", \"dash\": \"solid\", \"shape\": \"linear\", \"width\": 1.3}, \"mode\": \"lines\", \"name\": \"2017-02-28 00:00:00\", \"text\": \"\", \"type\": \"scatter\", \"x\": [0, 1, 2, 3, 4, 5, 6, 7, 8, 9, 10, 11, 12, 13, 14, 15, 16, 17, 18], \"y\": [54.09, 54.04, 54.01, 54.01, 54.02, 54.04, 54.07, 54.05, 54.06, 54.09, 54.13, 54.18, 54.26, 54.25, 54.26, 54.28, 54.33, 54.4, 54.49]}, {\"line\": {\"color\": \"rgba(0, 128, 128, 0.8999999999999999)\", \"dash\": \"solid\", \"shape\": \"linear\", \"width\": 1.3}, \"mode\": \"lines\", \"name\": \"2017-03-31 00:00:00\", \"text\": \"\", \"type\": \"scatter\", \"x\": [0, 1, 2, 3, 4, 5, 6, 7, 8, 9, 10, 11, 12, 13, 14, 15, 16, 17, 18], \"y\": [51.38, 51.36, 51.38, 51.4, 51.44, 51.49, 51.57, 51.59, 51.63, 51.69, 51.77, 51.87, 52.0, 52.02, 52.06, 52.13, 52.22, 52.33, 52.46]}, {\"line\": {\"color\": \"rgba(255, 255, 51, 0.8999999999999999)\", \"dash\": \"solid\", \"shape\": \"linear\", \"width\": 1.3}, \"mode\": \"lines\", \"name\": \"2017-04-30 00:00:00\", \"text\": \"\", \"type\": \"scatter\", \"x\": [0, 1, 2, 3, 4, 5, 6, 7, 8, 9, 10, 11, 12, 13, 14, 15, 16, 17, 18], \"y\": [50.48, 50.47, 50.48, 50.51, 50.56, 50.63, 50.72, 50.75, 50.8, 50.86, 50.95, 51.06, 51.19, 51.21, 51.26, 51.34, 51.44, 51.56, 51.7]}, {\"line\": {\"color\": \"rgba(128, 128, 0, 0.8999999999999999)\", \"dash\": \"solid\", \"shape\": \"linear\", \"width\": 1.3}, \"mode\": \"lines\", \"name\": \"2017-05-31 00:00:00\", \"text\": \"\", \"type\": \"scatter\", \"x\": [0, 1, 2, 3, 4, 5, 6, 7, 8, 9, 10, 11, 12, 13, 14, 15, 16, 17, 18], \"y\": [49.23, 49.22, 49.25, 49.31, 49.39, 49.49, 49.62, 49.65, 49.7, 49.77, 49.86, 49.97, 50.1, 50.13, 50.18, 50.26, 50.37, 50.5, 50.65]}, {\"line\": {\"color\": \"rgba(251, 128, 114, 0.8999999999999999)\", \"dash\": \"solid\", \"shape\": \"linear\", \"width\": 1.3}, \"mode\": \"lines\", \"name\": \"2017-06-30 00:00:00\", \"text\": \"\", \"type\": \"scatter\", \"x\": [0, 1, 2, 3, 4, 5, 6, 7, 8, 9, 10, 11, 12, 13, 14, 15, 16, 17, 18], \"y\": [50.48, 50.53, 50.6, 50.7, 50.83, 50.97, 51.13, 51.21, 51.3, 51.39, 51.49, 51.61, 51.75, 51.81, 51.89, 52.0, 52.13, 52.27, 52.43]}, {\"line\": {\"color\": \"rgba(251, 128, 114, 0.7999999999999998)\", \"dash\": \"solid\", \"shape\": \"linear\", \"width\": 1.3}, \"mode\": \"lines\", \"name\": \"2017-07-31 00:00:00\", \"text\": \"\", \"type\": \"scatter\", \"x\": [0, 1, 2, 3, 4, 5, 6, 7, 8, 9, 10, 11, 12, 13, 14, 15, 16, 17, 18], \"y\": [51.28, 51.32, 51.37, 51.44, 51.53, 51.64, 51.76, 51.82, 51.89, 51.98, 52.07, 52.17, 52.3, 52.35, 52.42, 52.5, 52.6, 52.73, 52.88]}, {\"line\": {\"color\": \"rgba(128, 177, 211, 0.7999999999999998)\", \"dash\": \"solid\", \"shape\": \"linear\", \"width\": 1.3}, \"mode\": \"lines\", \"name\": \"2017-08-31 00:00:00\", \"text\": \"\", \"type\": \"scatter\", \"x\": [0, 1, 2, 3, 4, 5, 6, 7, 8, 9, 10, 11, 12, 13, 14, 15, 16, 17, 18], \"y\": [50.94, 50.98, 51.04, 51.11, 51.18, 51.26, 51.36, 51.4, 51.46, 51.53, 51.61, 51.7, 51.81, 51.85, 51.91, 52.0, 52.09, 52.21, 52.36]}, {\"line\": {\"color\": \"rgba(255, 153, 51, 0.7999999999999998)\", \"dash\": \"solid\", \"shape\": \"linear\", \"width\": 1.3}, \"mode\": \"lines\", \"name\": \"2017-09-30 00:00:00\", \"text\": \"\", \"type\": \"scatter\", \"x\": [0, 1, 2, 3, 4, 5, 6, 7, 8, 9, 10, 11, 12, 13, 14, 15, 16, 17, 18], \"y\": [50.55, 50.53, 50.52, 50.51, 50.53, 50.55, 50.59, 50.56, 50.55, 50.55, 50.57, 50.58, 50.62, 50.59, 50.58, 50.6, 50.63, 50.67, 50.73]}, {\"line\": {\"color\": \"rgba(55, 128, 191, 0.7999999999999998)\", \"dash\": \"solid\", \"shape\": \"linear\", \"width\": 1.3}, \"mode\": \"lines\", \"name\": \"2017-10-31 00:00:00\", \"text\": \"\", \"type\": \"scatter\", \"x\": [0, 1, 2, 3, 4, 5, 6, 7, 8, 9, 10, 11, 12, 13, 14, 15, 16, 17, 18], \"y\": [50.57, 50.48, 50.41, 50.35, 50.32, 50.29, 50.26, 50.21, 50.17, 50.15, 50.13, 50.11, 50.11, 50.06, 50.03, 50.01, 50.01, 50.02, 50.06]}, {\"line\": {\"color\": \"rgba(50, 171, 96, 0.7999999999999998)\", \"dash\": \"solid\", \"shape\": \"linear\", \"width\": 1.3}, \"mode\": \"lines\", \"name\": \"2017-11-30 00:00:00\", \"text\": \"\", \"type\": \"scatter\", \"x\": [0, 1, 2, 3, 4, 5, 6, 7, 8, 9, 10, 11, 12, 13, 14, 15, 16, 17, 18], \"y\": [51.92, 51.79, 51.73, 51.65, 51.57, 51.53, 51.48, 51.39, 51.37, 51.32, 51.25, 51.11, 51.03, 50.93, 50.92, 50.86, 50.83, 50.78, 50.76]}, {\"line\": {\"color\": \"rgba(128, 0, 128, 0.7999999999999998)\", \"dash\": \"solid\", \"shape\": \"linear\", \"width\": 1.3}, \"mode\": \"lines\", \"name\": \"2017-12-31 00:00:00\", \"text\": \"\", \"type\": \"scatter\", \"x\": [0, 1, 2, 3, 4, 5, 6, 7, 8, 9, 10, 11, 12, 13, 14, 15, 16, 17, 18], \"y\": [53.79, 53.62, 53.45, 53.31, 53.19, 53.07, 52.97, 52.85, 52.73, 52.62, 52.51, 52.41, 52.29, 52.16, 52.12, 52.07, 51.97, 51.9, 51.85]}, {\"line\": {\"color\": \"rgba(219, 64, 82, 0.7999999999999998)\", \"dash\": \"solid\", \"shape\": \"linear\", \"width\": 1.3}, \"mode\": \"lines\", \"name\": \"2018-01-31 00:00:00\", \"text\": \"\", \"type\": \"scatter\", \"x\": [0, 1, 2, 3, 4, 5, 6, 7, 8, 9, 10, 11, 12, 13, 14, 15, 16, 17, 18], \"y\": [55.2, 54.97, 54.77, 54.59, 54.4, 54.25, 54.12, 53.96, 53.81, 53.67, 53.53, 53.38, 53.25, 53.11, 53.09, 53.0, 52.8, 52.71, 52.64]}, {\"line\": {\"color\": \"rgba(0, 128, 128, 0.7999999999999998)\", \"dash\": \"solid\", \"shape\": \"linear\", \"width\": 1.3}, \"mode\": \"lines\", \"name\": \"2018-02-28 00:00:00\", \"text\": \"\", \"type\": \"scatter\", \"x\": [0, 1, 2, 3, 4, 5, 6, 7, 8, 9, 10, 11, 12, 13, 14, 15, 16, 17, 18], \"y\": [53.18, 52.98, 52.82, 52.64, 52.48, 52.37, 52.28, 52.15, 52.02, 51.9, 51.78, 51.67, 51.55, 51.41, 51.33, 51.23, 51.12, 51.11, 51.12]}, {\"line\": {\"color\": \"rgba(255, 255, 51, 0.7999999999999998)\", \"dash\": \"solid\", \"shape\": \"linear\", \"width\": 1.3}, \"mode\": \"lines\", \"name\": \"2018-03-31 00:00:00\", \"text\": \"\", \"type\": \"scatter\", \"x\": [0, 1, 2, 3, 4, 5, 6, 7, 8, 9, 10, 11, 12, 13, 14, 15, 16, 17, 18], \"y\": [55.69, 55.43, 55.21, 54.98, 54.74, 54.54, 54.36, 54.16, 53.98, 53.78, 53.62, 53.44, 53.27, 53.08, 52.92, 52.8, 52.71, 52.61, 52.48]}, {\"line\": {\"color\": \"rgba(128, 128, 0, 0.7999999999999998)\", \"dash\": \"solid\", \"shape\": \"linear\", \"width\": 1.3}, \"mode\": \"lines\", \"name\": \"2018-04-30 00:00:00\", \"text\": \"\", \"type\": \"scatter\", \"x\": [0, 1, 2, 3, 4, 5, 6, 7, 8, 9, 10, 11, 12, 13, 14, 15, 16, 17, 18], \"y\": [57.0, 56.64, 56.29, 55.96, 55.65, 55.38, 55.13, 54.86, 54.6, 54.34, 54.07, 53.82, 53.6, 53.37, 53.17, 52.98, 52.82, 52.68, 52.48]}, {\"line\": {\"color\": \"rgba(128, 128, 0, 0.7)\", \"dash\": \"solid\", \"shape\": \"linear\", \"width\": 1.3}, \"mode\": \"lines\", \"name\": \"2018-05-31 00:00:00\", \"text\": \"\", \"type\": \"scatter\", \"x\": [0, 1, 2, 3, 4, 5, 6, 7, 8, 9, 10, 11, 12, 13, 14, 15, 16, 17, 18], \"y\": [59.44, 59.17, 58.91, 58.65, 58.45, 58.23, 58.03, 57.77, 57.53, 57.28, 57.06, 56.87, 56.71, 56.53, 56.33, 56.18, 56.03, 55.9, 55.75]}, {\"line\": {\"color\": \"rgba(251, 128, 114, 0.7)\", \"dash\": \"solid\", \"shape\": \"linear\", \"width\": 1.3}, \"mode\": \"lines\", \"name\": \"2018-06-30 00:00:00\", \"text\": \"\", \"type\": \"scatter\", \"x\": [0, 1, 2, 3, 4, 5, 6, 7, 8, 9, 10, 11, 12, 13, 14, 15, 16, 17, 18], \"y\": [61.51, 61.16, 60.87, 60.55, 60.29, 60.02, 59.82, 59.58, 59.36, 59.08, 58.83, 58.55, 58.34, 58.12, 57.89, 57.69, 57.49, 57.34, 57.15]}, {\"line\": {\"color\": \"rgba(128, 177, 211, 0.7)\", \"dash\": \"solid\", \"shape\": \"linear\", \"width\": 1.3}, \"mode\": \"lines\", \"name\": \"2018-07-31 00:00:00\", \"text\": \"\", \"type\": \"scatter\", \"x\": [0, 1, 2, 3, 4, 5, 6, 7, 8, 9, 10, 11, 12, 13, 14, 15, 16, 17, 18], \"y\": [61.67, 61.38, 61.12, 60.88, 60.66, 60.47, 60.28, 60.02, 59.78, 59.54, 59.32, 59.13, 58.93, 58.74, 58.54, 58.36, 58.16, 57.99, 57.84]}, {\"line\": {\"color\": \"rgba(255, 153, 51, 0.7)\", \"dash\": \"solid\", \"shape\": \"linear\", \"width\": 1.3}, \"mode\": \"lines\", \"name\": \"2018-08-31 00:00:00\", \"text\": \"\", \"type\": \"scatter\", \"x\": [0, 1, 2, 3, 4, 5, 6, 7, 8, 9, 10, 11, 12, 13, 14, 15, 16, 17, 18], \"y\": [63.49, 63.17, 62.88, 62.58, 62.33, 62.08, 61.87, 61.59, 61.32, 61.05, 60.8, 60.57, 60.33, 60.08, 59.87, 59.67, 59.47, 59.28, 59.05]}, {\"line\": {\"color\": \"rgba(55, 128, 191, 0.7)\", \"dash\": \"solid\", \"shape\": \"linear\", \"width\": 1.3}, \"mode\": \"lines\", \"name\": \"2018-09-30 00:00:00\", \"text\": \"\", \"type\": \"scatter\", \"x\": [0, 1, 2, 3, 4, 5, 6, 7, 8, 9, 10, 11, 12, 13, 14, 15, 16, 17, 18], \"y\": [67.56, 67.19, 66.85, 66.52, 66.22, 65.94, 65.69, 65.36, 65.04, 64.72, 64.42, 64.11, 63.83, 63.53, 63.26, 63.0, 62.75, 62.52, 62.28]}, {\"line\": {\"color\": \"rgba(50, 171, 96, 0.7)\", \"dash\": \"solid\", \"shape\": \"linear\", \"width\": 1.3}, \"mode\": \"lines\", \"name\": \"2018-10-31 00:00:00\", \"text\": \"\", \"type\": \"scatter\", \"x\": [0, 1, 2, 3, 4, 5, 6, 7, 8, 9, 10, 11, 12, 13, 14, 15, 16, 17, 18], \"y\": [64.2, 63.95, 63.73, 63.51, 63.32, 63.13, 62.95, 62.7, 62.47, 62.23, 62.0, 61.77, 61.57, 61.33, 61.13, 60.93, 60.74, 60.56, 60.37]}, {\"line\": {\"color\": \"rgba(128, 0, 128, 0.7)\", \"dash\": \"solid\", \"shape\": \"linear\", \"width\": 1.3}, \"mode\": \"lines\", \"name\": \"2018-11-30 00:00:00\", \"text\": \"\", \"type\": \"scatter\", \"x\": [0, 1, 2, 3, 4, 5, 6, 7, 8, 9, 10, 11, 12, 13, 14, 15, 16, 17, 18], \"y\": [51.99, 51.99, 52.01, 52.05, 52.09, 52.12, 52.17, 52.15, 52.13, 52.11, 52.1, 52.09, 52.1, 52.07, 52.07, 52.07, 52.08, 52.09, 52.12]}, {\"line\": {\"color\": \"rgba(219, 64, 82, 0.7)\", \"dash\": \"solid\", \"shape\": \"linear\", \"width\": 1.3}, \"mode\": \"lines\", \"name\": \"2018-12-31 00:00:00\", \"text\": \"\", \"type\": \"scatter\", \"x\": [0, 1, 2, 3, 4, 5, 6, 7, 8, 9, 10, 11, 12, 13, 14, 15, 16, 17, 18], \"y\": [49.11, 49.18, 49.28, 49.4, 49.54, 49.67, 49.82, 49.9, 49.98, 50.06, 50.15, 50.23, 50.33, 50.39, 50.48, 50.57, 50.67, 50.78, 50.89]}, {\"line\": {\"color\": \"rgba(0, 128, 128, 0.7)\", \"dash\": \"solid\", \"shape\": \"linear\", \"width\": 1.3}, \"mode\": \"lines\", \"name\": \"2019-01-31 00:00:00\", \"text\": \"\", \"type\": \"scatter\", \"x\": [0, 1, 2, 3, 4, 5, 6, 7, 8, 9, 10, 11, 12, 13, 14, 15, 16, 17, 18], \"y\": [54.28, 54.17, 54.07, 54.0, 53.94, 53.9, 53.86, 53.76, 53.67, 53.59, 53.52, 53.44, 53.4, 53.33, 53.28, 53.25, 53.22, 53.18, 53.17]}, {\"line\": {\"color\": \"rgba(255, 255, 51, 0.7)\", \"dash\": \"solid\", \"shape\": \"linear\", \"width\": 1.3}, \"mode\": \"lines\", \"name\": \"2019-02-28 00:00:00\", \"text\": \"\", \"type\": \"scatter\", \"x\": [0, 1, 2, 3, 4, 5, 6, 7, 8, 9, 10, 11, 12, 13, 14, 15, 16, 17, 18], \"y\": [58.21, 58.0, 57.81, 57.64, 57.47, 57.34, 57.21, 57.01, 56.8, 56.63, 56.47, 56.32, 56.19, 56.03, 55.9, 55.78, 55.67, 55.57, 55.49]}, {\"line\": {\"color\": \"rgba(255, 255, 51, 0.5999999999999999)\", \"dash\": \"solid\", \"shape\": \"linear\", \"width\": 1.3}, \"mode\": \"lines\", \"name\": \"2019-03-31 00:00:00\", \"text\": \"\", \"type\": \"scatter\", \"x\": [0, 1, 2, 3, 4, 5, 6, 7, 8, 9, 10, 11, 12, 13, 14, 15, 16, 17, 18], \"y\": [58.85, 58.59, 58.35, 58.13, 57.93, 57.76, 57.63, 57.4, 57.18, 56.98, 56.76, 56.54, 56.37, 56.17, 56.0, 55.83, 55.67, 55.54, 55.43]}, {\"line\": {\"color\": \"rgba(128, 128, 0, 0.5999999999999999)\", \"dash\": \"solid\", \"shape\": \"linear\", \"width\": 1.3}, \"mode\": \"lines\", \"name\": \"2019-04-30 00:00:00\", \"text\": \"\", \"type\": \"scatter\", \"x\": [0, 1, 2, 3, 4, 5, 6, 7, 8, 9, 10, 11, 12, 13, 14, 15, 16, 17, 18], \"y\": [60.88, 60.49, 60.14, 59.8, 59.48, 59.21, 58.98, 58.65, 58.34, 58.05, 57.79, 57.56, 57.36, 57.11, 56.88, 56.69, 56.51, 56.35, 56.21]}, {\"line\": {\"color\": \"rgba(251, 128, 114, 0.5999999999999999)\", \"dash\": \"solid\", \"shape\": \"linear\", \"width\": 1.3}, \"mode\": \"lines\", \"name\": \"2019-05-31 00:00:00\", \"text\": \"\", \"type\": \"scatter\", \"x\": [0, 1, 2, 3, 4, 5, 6, 7, 8, 9, 10, 11, 12, 13, 14, 15, 16, 17, 18], \"y\": [52.58, 52.41, 52.26, 52.14, 52.03, 51.95, 51.88, 51.75, 51.63, 51.53, 51.45, 51.4, 51.34, 51.23, 51.13, 51.08, 51.06, 51.07, 51.09]}, {\"line\": {\"color\": \"rgba(128, 177, 211, 0.5999999999999999)\", \"dash\": \"solid\", \"shape\": \"linear\", \"width\": 1.3}, \"mode\": \"lines\", \"name\": \"2019-06-30 00:00:00\", \"text\": \"\", \"type\": \"scatter\", \"x\": [0, 1, 2, 3, 4, 5, 6, 7, 8, 9, 10, 11, 12, 13, 14, 15, 16, 17, 18], \"y\": [56.26, 55.99, 55.76, 55.54, 55.35, 55.18, 55.03, 54.83, 54.66, 54.5, 54.36, 54.25, 54.18, 54.06, 53.97, 53.91, 53.84, 53.82, 53.82]}, {\"line\": {\"color\": \"rgba(255, 153, 51, 0.5999999999999999)\", \"dash\": \"solid\", \"shape\": \"linear\", \"width\": 1.3}, \"mode\": \"lines\", \"name\": \"2019-07-31 00:00:00\", \"text\": \"\", \"type\": \"scatter\", \"x\": [0, 1, 2, 3, 4, 5, 6, 7, 8, 9, 10, 11, 12, 13, 14, 15, 16, 17, 18], \"y\": [56.82, 56.49, 56.19, 55.91, 55.65, 55.42, 55.21, 54.95, 54.7, 54.47, 54.26, 54.08, 53.92, 53.73, 53.57, 53.43, 53.31, 53.2, 53.11]}, {\"line\": {\"color\": \"rgba(55, 128, 191, 0.5999999999999999)\", \"dash\": \"solid\", \"shape\": \"linear\", \"width\": 1.3}, \"mode\": \"lines\", \"name\": \"2019-08-31 00:00:00\", \"text\": \"\", \"type\": \"scatter\", \"x\": [0, 1, 2, 3, 4, 5, 6, 7, 8, 9, 10, 11, 12, 13, 14, 15, 16, 17, 18], \"y\": [52.5, 52.23, 51.99, 51.78, 51.59, 51.42, 51.27, 51.09, 50.93, 50.79, 50.67, 50.58, 50.5, 50.4, 50.31, 50.24, 50.19, 50.15, 50.13]}, {\"line\": {\"color\": \"rgba(50, 171, 96, 0.5999999999999999)\", \"dash\": \"solid\", \"shape\": \"linear\", \"width\": 1.3}, \"mode\": \"lines\", \"name\": \"2019-09-30 00:00:00\", \"text\": \"\", \"type\": \"scatter\", \"x\": [0, 1, 2, 3, 4, 5, 6, 7, 8, 9, 10, 11, 12, 13, 14, 15, 16, 17, 18], \"y\": [51.77, 51.45, 51.17, 50.94, 50.76, 50.63, 50.51, 50.4, 50.3, 50.21, 50.14, 50.1, 50.07, 50.01, 49.97, 49.94, 49.94, 49.95, 49.97]}, {\"line\": {\"color\": \"rgba(128, 0, 128, 0.5999999999999999)\", \"dash\": \"solid\", \"shape\": \"linear\", \"width\": 1.3}, \"mode\": \"lines\", \"name\": \"2019-10-31 00:00:00\", \"text\": \"\", \"type\": \"scatter\", \"x\": [0, 1, 2, 3, 4, 5, 6, 7, 8, 9, 10, 11, 12, 13, 14, 15, 16, 17, 18], \"y\": [52.96, 52.61, 52.29, 52.02, 51.77, 51.59, 51.46, 51.3, 51.15, 51.03, 50.93, 50.85, 50.79, 50.69, 50.6, 50.53, 50.49, 50.48, 50.48]}, {\"line\": {\"color\": \"rgba(219, 64, 82, 0.5999999999999999)\", \"dash\": \"solid\", \"shape\": \"linear\", \"width\": 1.3}, \"mode\": \"lines\", \"name\": \"2019-11-30 00:00:00\", \"text\": \"\", \"type\": \"scatter\", \"x\": [0, 1, 2, 3, 4, 5, 6, 7, 8, 9, 10, 11, 12, 13, 14, 15, 16, 17, 18], \"y\": [54.1, 53.73, 53.38, 53.05, 52.77, 52.53, 52.31, 52.09, 51.88, 51.7, 51.54, 51.41, 51.29, 51.14, 51.0, 50.89, 50.79, 50.72, 50.67]}, {\"line\": {\"color\": \"rgba(0, 128, 128, 0.5999999999999999)\", \"dash\": \"solid\", \"shape\": \"linear\", \"width\": 1.3}, \"mode\": \"lines\", \"name\": \"2019-12-31 00:00:00\", \"text\": \"\", \"type\": \"scatter\", \"x\": [0, 1, 2, 3, 4, 5, 6, 7, 8, 9, 10, 11, 12, 13, 14, 15, 16, 17, 18], \"y\": [59.44, 58.87, 58.31, 57.77, 57.29, 56.85, 56.44, 56.03, 55.66, 55.32, 55.0, 54.7, 54.44, 54.15, 53.88, 53.64, 53.43, 53.24, 53.07]}, {\"line\": {\"color\": \"rgba(0, 128, 128, 0.49999999999999983)\", \"dash\": \"solid\", \"shape\": \"linear\", \"width\": 1.3}, \"mode\": \"lines\", \"name\": \"2020-01-31 00:00:00\", \"text\": \"\", \"type\": \"scatter\", \"x\": [0, 1, 2, 3, 4, 5, 6, 7, 8, 9, 10, 11, 12, 13, 14, 15, 16, 17, 18], \"y\": [51.8, 51.74, 51.59, 51.39, 51.17, 50.98, 50.8, 50.63, 50.48, 50.36, 50.26, 50.17, 50.1, 50.0, 49.93, 49.87, 49.83, 49.8, 49.78]}, {\"line\": {\"color\": \"rgba(255, 255, 51, 0.49999999999999983)\", \"dash\": \"solid\", \"shape\": \"linear\", \"width\": 1.3}, \"mode\": \"lines\", \"name\": \"2020-02-29 00:00:00\", \"text\": \"\", \"type\": \"scatter\", \"x\": [0, 1, 2, 3, 4, 5, 6, 7, 8, 9, 10, 11, 12, 13, 14, 15, 16, 17, 18], \"y\": [45.1, 45.23, 45.35, 45.46, 45.58, 45.73, 45.89, 46.0, 46.09, 46.17, 46.27, 46.36, 46.46, 46.53, 46.6, 46.67, 46.76, 46.86, 46.97]}, {\"line\": {\"color\": \"rgba(128, 128, 0, 0.49999999999999983)\", \"dash\": \"solid\", \"shape\": \"linear\", \"width\": 1.3}, \"mode\": \"lines\", \"name\": \"2020-03-31 00:00:00\", \"text\": \"\", \"type\": \"scatter\", \"x\": [0, 1, 2, 3, 4, 5, 6, 7, 8, 9, 10, 11, 12, 13, 14, 15, 16, 17, 18], \"y\": [24.51, 27.69, 29.79, 31.12, 32.08, 32.91, 33.58, 34.15, 34.64, 35.1, 35.52, 35.9, 36.22, 36.49, 36.76, 37.04, 37.31, 37.59, 37.88]}, {\"line\": {\"color\": \"rgba(251, 128, 114, 0.49999999999999983)\", \"dash\": \"solid\", \"shape\": \"linear\", \"width\": 1.3}, \"mode\": \"lines\", \"name\": \"2020-04-30 00:00:00\", \"text\": \"\", \"type\": \"scatter\", \"x\": [0, 1, 2, 3, 4, 5, 6, 7, 8, 9, 10, 11, 12, 13, 14, 15, 16, 17, 18], \"y\": [18.84, 21.85, 24.37, 26.37, 27.67, 28.72, 29.62, 30.38, 31.07, 31.66, 32.17, 32.61, 33.01, 33.35, 33.69, 34.01, 34.32, 34.63, 34.95]}],\n                        {\"legend\": {\"bgcolor\": \"#F5F6F9\", \"font\": {\"color\": \"#4D5663\"}}, \"paper_bgcolor\": \"#F5F6F9\", \"plot_bgcolor\": \"#F5F6F9\", \"template\": {\"data\": {\"bar\": [{\"error_x\": {\"color\": \"#2a3f5f\"}, \"error_y\": {\"color\": \"#2a3f5f\"}, \"marker\": {\"line\": {\"color\": \"#E5ECF6\", \"width\": 0.5}}, \"type\": \"bar\"}], \"barpolar\": [{\"marker\": {\"line\": {\"color\": \"#E5ECF6\", \"width\": 0.5}}, \"type\": \"barpolar\"}], \"carpet\": [{\"aaxis\": {\"endlinecolor\": \"#2a3f5f\", \"gridcolor\": \"white\", \"linecolor\": \"white\", \"minorgridcolor\": \"white\", \"startlinecolor\": \"#2a3f5f\"}, \"baxis\": {\"endlinecolor\": \"#2a3f5f\", \"gridcolor\": \"white\", \"linecolor\": \"white\", \"minorgridcolor\": \"white\", \"startlinecolor\": \"#2a3f5f\"}, \"type\": \"carpet\"}], \"choropleth\": [{\"colorbar\": {\"outlinewidth\": 0, \"ticks\": \"\"}, \"type\": \"choropleth\"}], \"contour\": [{\"colorbar\": {\"outlinewidth\": 0, \"ticks\": \"\"}, \"colorscale\": [[0.0, \"#0d0887\"], [0.1111111111111111, \"#46039f\"], [0.2222222222222222, \"#7201a8\"], [0.3333333333333333, \"#9c179e\"], [0.4444444444444444, \"#bd3786\"], [0.5555555555555556, \"#d8576b\"], [0.6666666666666666, \"#ed7953\"], [0.7777777777777778, \"#fb9f3a\"], [0.8888888888888888, \"#fdca26\"], [1.0, \"#f0f921\"]], \"type\": \"contour\"}], \"contourcarpet\": [{\"colorbar\": {\"outlinewidth\": 0, \"ticks\": \"\"}, \"type\": \"contourcarpet\"}], \"heatmap\": [{\"colorbar\": {\"outlinewidth\": 0, \"ticks\": \"\"}, \"colorscale\": [[0.0, \"#0d0887\"], [0.1111111111111111, \"#46039f\"], [0.2222222222222222, \"#7201a8\"], [0.3333333333333333, \"#9c179e\"], [0.4444444444444444, \"#bd3786\"], [0.5555555555555556, \"#d8576b\"], [0.6666666666666666, \"#ed7953\"], [0.7777777777777778, \"#fb9f3a\"], [0.8888888888888888, \"#fdca26\"], [1.0, \"#f0f921\"]], \"type\": \"heatmap\"}], \"heatmapgl\": [{\"colorbar\": {\"outlinewidth\": 0, \"ticks\": \"\"}, \"colorscale\": [[0.0, \"#0d0887\"], [0.1111111111111111, \"#46039f\"], [0.2222222222222222, \"#7201a8\"], [0.3333333333333333, \"#9c179e\"], [0.4444444444444444, \"#bd3786\"], [0.5555555555555556, \"#d8576b\"], [0.6666666666666666, \"#ed7953\"], [0.7777777777777778, \"#fb9f3a\"], [0.8888888888888888, \"#fdca26\"], [1.0, \"#f0f921\"]], \"type\": \"heatmapgl\"}], \"histogram\": [{\"marker\": {\"colorbar\": {\"outlinewidth\": 0, \"ticks\": \"\"}}, \"type\": \"histogram\"}], \"histogram2d\": [{\"colorbar\": {\"outlinewidth\": 0, \"ticks\": \"\"}, \"colorscale\": [[0.0, \"#0d0887\"], [0.1111111111111111, \"#46039f\"], [0.2222222222222222, \"#7201a8\"], [0.3333333333333333, \"#9c179e\"], [0.4444444444444444, \"#bd3786\"], [0.5555555555555556, \"#d8576b\"], [0.6666666666666666, \"#ed7953\"], [0.7777777777777778, \"#fb9f3a\"], [0.8888888888888888, \"#fdca26\"], [1.0, \"#f0f921\"]], \"type\": \"histogram2d\"}], \"histogram2dcontour\": [{\"colorbar\": {\"outlinewidth\": 0, \"ticks\": \"\"}, \"colorscale\": [[0.0, \"#0d0887\"], [0.1111111111111111, \"#46039f\"], [0.2222222222222222, \"#7201a8\"], [0.3333333333333333, \"#9c179e\"], [0.4444444444444444, \"#bd3786\"], [0.5555555555555556, \"#d8576b\"], [0.6666666666666666, \"#ed7953\"], [0.7777777777777778, \"#fb9f3a\"], [0.8888888888888888, \"#fdca26\"], [1.0, \"#f0f921\"]], \"type\": \"histogram2dcontour\"}], \"mesh3d\": [{\"colorbar\": {\"outlinewidth\": 0, \"ticks\": \"\"}, \"type\": \"mesh3d\"}], \"parcoords\": [{\"line\": {\"colorbar\": {\"outlinewidth\": 0, \"ticks\": \"\"}}, \"type\": \"parcoords\"}], \"pie\": [{\"automargin\": true, \"type\": \"pie\"}], \"scatter\": [{\"marker\": {\"colorbar\": {\"outlinewidth\": 0, \"ticks\": \"\"}}, \"type\": \"scatter\"}], \"scatter3d\": [{\"line\": {\"colorbar\": {\"outlinewidth\": 0, \"ticks\": \"\"}}, \"marker\": {\"colorbar\": {\"outlinewidth\": 0, \"ticks\": \"\"}}, \"type\": \"scatter3d\"}], \"scattercarpet\": [{\"marker\": {\"colorbar\": {\"outlinewidth\": 0, \"ticks\": \"\"}}, \"type\": \"scattercarpet\"}], \"scattergeo\": [{\"marker\": {\"colorbar\": {\"outlinewidth\": 0, \"ticks\": \"\"}}, \"type\": \"scattergeo\"}], \"scattergl\": [{\"marker\": {\"colorbar\": {\"outlinewidth\": 0, \"ticks\": \"\"}}, \"type\": \"scattergl\"}], \"scattermapbox\": [{\"marker\": {\"colorbar\": {\"outlinewidth\": 0, \"ticks\": \"\"}}, \"type\": \"scattermapbox\"}], \"scatterpolar\": [{\"marker\": {\"colorbar\": {\"outlinewidth\": 0, \"ticks\": \"\"}}, \"type\": \"scatterpolar\"}], \"scatterpolargl\": [{\"marker\": {\"colorbar\": {\"outlinewidth\": 0, \"ticks\": \"\"}}, \"type\": \"scatterpolargl\"}], \"scatterternary\": [{\"marker\": {\"colorbar\": {\"outlinewidth\": 0, \"ticks\": \"\"}}, \"type\": \"scatterternary\"}], \"surface\": [{\"colorbar\": {\"outlinewidth\": 0, \"ticks\": \"\"}, \"colorscale\": [[0.0, \"#0d0887\"], [0.1111111111111111, \"#46039f\"], [0.2222222222222222, \"#7201a8\"], [0.3333333333333333, \"#9c179e\"], [0.4444444444444444, \"#bd3786\"], [0.5555555555555556, \"#d8576b\"], [0.6666666666666666, \"#ed7953\"], [0.7777777777777778, \"#fb9f3a\"], [0.8888888888888888, \"#fdca26\"], [1.0, \"#f0f921\"]], \"type\": \"surface\"}], \"table\": [{\"cells\": {\"fill\": {\"color\": \"#EBF0F8\"}, \"line\": {\"color\": \"white\"}}, \"header\": {\"fill\": {\"color\": \"#C8D4E3\"}, \"line\": {\"color\": \"white\"}}, \"type\": \"table\"}]}, \"layout\": {\"annotationdefaults\": {\"arrowcolor\": \"#2a3f5f\", \"arrowhead\": 0, \"arrowwidth\": 1}, \"coloraxis\": {\"colorbar\": {\"outlinewidth\": 0, \"ticks\": \"\"}}, \"colorscale\": {\"diverging\": [[0, \"#8e0152\"], [0.1, \"#c51b7d\"], [0.2, \"#de77ae\"], [0.3, \"#f1b6da\"], [0.4, \"#fde0ef\"], [0.5, \"#f7f7f7\"], [0.6, \"#e6f5d0\"], [0.7, \"#b8e186\"], [0.8, \"#7fbc41\"], [0.9, \"#4d9221\"], [1, \"#276419\"]], \"sequential\": [[0.0, \"#0d0887\"], [0.1111111111111111, \"#46039f\"], [0.2222222222222222, \"#7201a8\"], [0.3333333333333333, \"#9c179e\"], [0.4444444444444444, \"#bd3786\"], [0.5555555555555556, \"#d8576b\"], [0.6666666666666666, \"#ed7953\"], [0.7777777777777778, \"#fb9f3a\"], [0.8888888888888888, \"#fdca26\"], [1.0, \"#f0f921\"]], \"sequentialminus\": [[0.0, \"#0d0887\"], [0.1111111111111111, \"#46039f\"], [0.2222222222222222, \"#7201a8\"], [0.3333333333333333, \"#9c179e\"], [0.4444444444444444, \"#bd3786\"], [0.5555555555555556, \"#d8576b\"], [0.6666666666666666, \"#ed7953\"], [0.7777777777777778, \"#fb9f3a\"], [0.8888888888888888, \"#fdca26\"], [1.0, \"#f0f921\"]]}, \"colorway\": [\"#636efa\", \"#EF553B\", \"#00cc96\", \"#ab63fa\", \"#FFA15A\", \"#19d3f3\", \"#FF6692\", \"#B6E880\", \"#FF97FF\", \"#FECB52\"], \"font\": {\"color\": \"#2a3f5f\"}, \"geo\": {\"bgcolor\": \"white\", \"lakecolor\": \"white\", \"landcolor\": \"#E5ECF6\", \"showlakes\": true, \"showland\": true, \"subunitcolor\": \"white\"}, \"hoverlabel\": {\"align\": \"left\"}, \"hovermode\": \"closest\", \"mapbox\": {\"style\": \"light\"}, \"paper_bgcolor\": \"white\", \"plot_bgcolor\": \"#E5ECF6\", \"polar\": {\"angularaxis\": {\"gridcolor\": \"white\", \"linecolor\": \"white\", \"ticks\": \"\"}, \"bgcolor\": \"#E5ECF6\", \"radialaxis\": {\"gridcolor\": \"white\", \"linecolor\": \"white\", \"ticks\": \"\"}}, \"scene\": {\"xaxis\": {\"backgroundcolor\": \"#E5ECF6\", \"gridcolor\": \"white\", \"gridwidth\": 2, \"linecolor\": \"white\", \"showbackground\": true, \"ticks\": \"\", \"zerolinecolor\": \"white\"}, \"yaxis\": {\"backgroundcolor\": \"#E5ECF6\", \"gridcolor\": \"white\", \"gridwidth\": 2, \"linecolor\": \"white\", \"showbackground\": true, \"ticks\": \"\", \"zerolinecolor\": \"white\"}, \"zaxis\": {\"backgroundcolor\": \"#E5ECF6\", \"gridcolor\": \"white\", \"gridwidth\": 2, \"linecolor\": \"white\", \"showbackground\": true, \"ticks\": \"\", \"zerolinecolor\": \"white\"}}, \"shapedefaults\": {\"line\": {\"color\": \"#2a3f5f\"}}, \"ternary\": {\"aaxis\": {\"gridcolor\": \"white\", \"linecolor\": \"white\", \"ticks\": \"\"}, \"baxis\": {\"gridcolor\": \"white\", \"linecolor\": \"white\", \"ticks\": \"\"}, \"bgcolor\": \"#E5ECF6\", \"caxis\": {\"gridcolor\": \"white\", \"linecolor\": \"white\", \"ticks\": \"\"}}, \"title\": {\"x\": 0.05}, \"xaxis\": {\"automargin\": true, \"gridcolor\": \"white\", \"linecolor\": \"white\", \"ticks\": \"\", \"title\": {\"standoff\": 15}, \"zerolinecolor\": \"white\", \"zerolinewidth\": 2}, \"yaxis\": {\"automargin\": true, \"gridcolor\": \"white\", \"linecolor\": \"white\", \"ticks\": \"\", \"title\": {\"standoff\": 15}, \"zerolinecolor\": \"white\", \"zerolinewidth\": 2}}}, \"title\": {\"font\": {\"color\": \"#4D5663\"}}, \"xaxis\": {\"gridcolor\": \"#E1E5ED\", \"showgrid\": true, \"tickfont\": {\"color\": \"#4D5663\"}, \"title\": {\"font\": {\"color\": \"#4D5663\"}, \"text\": \"\"}, \"zerolinecolor\": \"#E1E5ED\"}, \"yaxis\": {\"gridcolor\": \"#E1E5ED\", \"showgrid\": true, \"tickfont\": {\"color\": \"#4D5663\"}, \"title\": {\"font\": {\"color\": \"#4D5663\"}, \"text\": \"\"}, \"zerolinecolor\": \"#E1E5ED\"}},\n                        {\"showLink\": true, \"linkText\": \"Export to plot.ly\", \"plotlyServerURL\": \"https://plot.ly\", \"responsive\": true}\n                    ).then(function(){\n                            \nvar gd = document.getElementById('f79bb427-17e9-42c5-88f0-58903abaf16a');\nvar x = new MutationObserver(function (mutations, observer) {{\n        var display = window.getComputedStyle(gd).display;\n        if (!display || display === 'none') {{\n            console.log([gd, 'removed!']);\n            Plotly.purge(gd);\n            observer.disconnect();\n        }}\n}});\n\n// Listen for the removal of the full notebook cells\nvar notebookContainer = gd.closest('#notebook-container');\nif (notebookContainer) {{\n    x.observe(notebookContainer, {childList: true});\n}}\n\n// Listen for the clearing of the current output cell\nvar outputEl = gd.closest('.output');\nif (outputEl) {{\n    x.observe(outputEl, {childList: true});\n}}\n\n                        })\n                };\n                });\n            </script>\n        </div>"
     },
     "metadata": {}
    }
   ],
   "source": [
    "data2.T.iplot()"
   ]
  },
  {
   "cell_type": "code",
   "execution_count": 206,
   "metadata": {},
   "outputs": [
    {
     "output_type": "execute_result",
     "data": {
      "text/plain": "                0      1\nDate                    \n2015-11-30  56.73  56.75\n2015-12-31  53.66  53.68\n2016-01-31  49.33  49.35\n2016-02-29  47.43  47.44\n2016-03-31  49.87  49.88\n2016-04-30  52.52  52.54\n2016-05-31  55.32  55.35\n2016-06-30  55.46  55.45\n2016-07-31  52.06  52.07\n2016-08-31  53.27  53.28\n2016-09-30  55.94  55.96\n2016-10-31  54.22  54.23\n2016-11-30  54.70  54.70\n2016-12-31  56.08  56.04\n2017-01-31  55.65  55.62\n2017-02-28  54.09  54.04\n2017-03-31  51.38  51.36\n2017-04-30  50.48  50.47\n2017-05-31  49.23  49.22\n2017-06-30  50.48  50.53\n2017-07-31  51.28  51.32\n2017-08-31  50.94  50.98\n2017-09-30  50.55  50.53\n2017-10-31  50.57  50.48\n2017-11-30  51.92  51.79\n2017-12-31  53.79  53.62\n2018-01-31  55.20  54.97\n2018-02-28  53.18  52.98\n2018-03-31  55.69  55.43\n2018-04-30  57.00  56.64\n2018-05-31  59.44  59.17\n2018-06-30  61.51  61.16\n2018-07-31  61.67  61.38\n2018-08-31  63.49  63.17\n2018-09-30  67.56  67.19\n2018-10-31  64.20  63.95\n2018-11-30  51.99  51.99\n2018-12-31  49.11  49.18\n2019-01-31  54.28  54.17\n2019-02-28  58.21  58.00\n2019-03-31  58.85  58.59\n2019-04-30  60.88  60.49\n2019-05-31  52.58  52.41\n2019-06-30  56.26  55.99\n2019-07-31  56.82  56.49\n2019-08-31  52.50  52.23\n2019-09-30  51.77  51.45\n2019-10-31  52.96  52.61\n2019-11-30  54.10  53.73\n2019-12-31  59.44  58.87\n2020-01-31  51.80  51.74\n2020-02-29  45.10  45.23\n2020-03-31  24.51  27.69\n2020-04-30  18.84  21.85",
      "text/html": "<div>\n<style scoped>\n    .dataframe tbody tr th:only-of-type {\n        vertical-align: middle;\n    }\n\n    .dataframe tbody tr th {\n        vertical-align: top;\n    }\n\n    .dataframe thead th {\n        text-align: right;\n    }\n</style>\n<table border=\"1\" class=\"dataframe\">\n  <thead>\n    <tr style=\"text-align: right;\">\n      <th></th>\n      <th>0</th>\n      <th>1</th>\n    </tr>\n    <tr>\n      <th>Date</th>\n      <th></th>\n      <th></th>\n    </tr>\n  </thead>\n  <tbody>\n    <tr>\n      <th>2015-11-30</th>\n      <td>56.73</td>\n      <td>56.75</td>\n    </tr>\n    <tr>\n      <th>2015-12-31</th>\n      <td>53.66</td>\n      <td>53.68</td>\n    </tr>\n    <tr>\n      <th>2016-01-31</th>\n      <td>49.33</td>\n      <td>49.35</td>\n    </tr>\n    <tr>\n      <th>2016-02-29</th>\n      <td>47.43</td>\n      <td>47.44</td>\n    </tr>\n    <tr>\n      <th>2016-03-31</th>\n      <td>49.87</td>\n      <td>49.88</td>\n    </tr>\n    <tr>\n      <th>2016-04-30</th>\n      <td>52.52</td>\n      <td>52.54</td>\n    </tr>\n    <tr>\n      <th>2016-05-31</th>\n      <td>55.32</td>\n      <td>55.35</td>\n    </tr>\n    <tr>\n      <th>2016-06-30</th>\n      <td>55.46</td>\n      <td>55.45</td>\n    </tr>\n    <tr>\n      <th>2016-07-31</th>\n      <td>52.06</td>\n      <td>52.07</td>\n    </tr>\n    <tr>\n      <th>2016-08-31</th>\n      <td>53.27</td>\n      <td>53.28</td>\n    </tr>\n    <tr>\n      <th>2016-09-30</th>\n      <td>55.94</td>\n      <td>55.96</td>\n    </tr>\n    <tr>\n      <th>2016-10-31</th>\n      <td>54.22</td>\n      <td>54.23</td>\n    </tr>\n    <tr>\n      <th>2016-11-30</th>\n      <td>54.70</td>\n      <td>54.70</td>\n    </tr>\n    <tr>\n      <th>2016-12-31</th>\n      <td>56.08</td>\n      <td>56.04</td>\n    </tr>\n    <tr>\n      <th>2017-01-31</th>\n      <td>55.65</td>\n      <td>55.62</td>\n    </tr>\n    <tr>\n      <th>2017-02-28</th>\n      <td>54.09</td>\n      <td>54.04</td>\n    </tr>\n    <tr>\n      <th>2017-03-31</th>\n      <td>51.38</td>\n      <td>51.36</td>\n    </tr>\n    <tr>\n      <th>2017-04-30</th>\n      <td>50.48</td>\n      <td>50.47</td>\n    </tr>\n    <tr>\n      <th>2017-05-31</th>\n      <td>49.23</td>\n      <td>49.22</td>\n    </tr>\n    <tr>\n      <th>2017-06-30</th>\n      <td>50.48</td>\n      <td>50.53</td>\n    </tr>\n    <tr>\n      <th>2017-07-31</th>\n      <td>51.28</td>\n      <td>51.32</td>\n    </tr>\n    <tr>\n      <th>2017-08-31</th>\n      <td>50.94</td>\n      <td>50.98</td>\n    </tr>\n    <tr>\n      <th>2017-09-30</th>\n      <td>50.55</td>\n      <td>50.53</td>\n    </tr>\n    <tr>\n      <th>2017-10-31</th>\n      <td>50.57</td>\n      <td>50.48</td>\n    </tr>\n    <tr>\n      <th>2017-11-30</th>\n      <td>51.92</td>\n      <td>51.79</td>\n    </tr>\n    <tr>\n      <th>2017-12-31</th>\n      <td>53.79</td>\n      <td>53.62</td>\n    </tr>\n    <tr>\n      <th>2018-01-31</th>\n      <td>55.20</td>\n      <td>54.97</td>\n    </tr>\n    <tr>\n      <th>2018-02-28</th>\n      <td>53.18</td>\n      <td>52.98</td>\n    </tr>\n    <tr>\n      <th>2018-03-31</th>\n      <td>55.69</td>\n      <td>55.43</td>\n    </tr>\n    <tr>\n      <th>2018-04-30</th>\n      <td>57.00</td>\n      <td>56.64</td>\n    </tr>\n    <tr>\n      <th>2018-05-31</th>\n      <td>59.44</td>\n      <td>59.17</td>\n    </tr>\n    <tr>\n      <th>2018-06-30</th>\n      <td>61.51</td>\n      <td>61.16</td>\n    </tr>\n    <tr>\n      <th>2018-07-31</th>\n      <td>61.67</td>\n      <td>61.38</td>\n    </tr>\n    <tr>\n      <th>2018-08-31</th>\n      <td>63.49</td>\n      <td>63.17</td>\n    </tr>\n    <tr>\n      <th>2018-09-30</th>\n      <td>67.56</td>\n      <td>67.19</td>\n    </tr>\n    <tr>\n      <th>2018-10-31</th>\n      <td>64.20</td>\n      <td>63.95</td>\n    </tr>\n    <tr>\n      <th>2018-11-30</th>\n      <td>51.99</td>\n      <td>51.99</td>\n    </tr>\n    <tr>\n      <th>2018-12-31</th>\n      <td>49.11</td>\n      <td>49.18</td>\n    </tr>\n    <tr>\n      <th>2019-01-31</th>\n      <td>54.28</td>\n      <td>54.17</td>\n    </tr>\n    <tr>\n      <th>2019-02-28</th>\n      <td>58.21</td>\n      <td>58.00</td>\n    </tr>\n    <tr>\n      <th>2019-03-31</th>\n      <td>58.85</td>\n      <td>58.59</td>\n    </tr>\n    <tr>\n      <th>2019-04-30</th>\n      <td>60.88</td>\n      <td>60.49</td>\n    </tr>\n    <tr>\n      <th>2019-05-31</th>\n      <td>52.58</td>\n      <td>52.41</td>\n    </tr>\n    <tr>\n      <th>2019-06-30</th>\n      <td>56.26</td>\n      <td>55.99</td>\n    </tr>\n    <tr>\n      <th>2019-07-31</th>\n      <td>56.82</td>\n      <td>56.49</td>\n    </tr>\n    <tr>\n      <th>2019-08-31</th>\n      <td>52.50</td>\n      <td>52.23</td>\n    </tr>\n    <tr>\n      <th>2019-09-30</th>\n      <td>51.77</td>\n      <td>51.45</td>\n    </tr>\n    <tr>\n      <th>2019-10-31</th>\n      <td>52.96</td>\n      <td>52.61</td>\n    </tr>\n    <tr>\n      <th>2019-11-30</th>\n      <td>54.10</td>\n      <td>53.73</td>\n    </tr>\n    <tr>\n      <th>2019-12-31</th>\n      <td>59.44</td>\n      <td>58.87</td>\n    </tr>\n    <tr>\n      <th>2020-01-31</th>\n      <td>51.80</td>\n      <td>51.74</td>\n    </tr>\n    <tr>\n      <th>2020-02-29</th>\n      <td>45.10</td>\n      <td>45.23</td>\n    </tr>\n    <tr>\n      <th>2020-03-31</th>\n      <td>24.51</td>\n      <td>27.69</td>\n    </tr>\n    <tr>\n      <th>2020-04-30</th>\n      <td>18.84</td>\n      <td>21.85</td>\n    </tr>\n  </tbody>\n</table>\n</div>"
     },
     "metadata": {},
     "execution_count": 206
    }
   ],
   "source": [
    "data2.iloc[:,:2]"
   ]
  },
  {
   "cell_type": "code",
   "execution_count": 122,
   "metadata": {},
   "outputs": [],
   "source": [
    "col = range(1,len(data2.columns))\n",
    "data2.columns = range(len(data2.columns))"
   ]
  },
  {
   "cell_type": "code",
   "execution_count": 123,
   "metadata": {},
   "outputs": [
    {
     "output_type": "execute_result",
     "data": {
      "text/plain": "                0      1      2      3      4      5      6      7      8  \\\nDate                                                                        \n2015-11-30  56.73  56.75  56.82  56.91  57.02  57.16  57.32  57.33  57.36   \n2015-12-31  53.66  53.68  53.74  53.84  53.96  54.11  54.29  54.31  54.35   \n2016-01-31  49.33  49.35  49.41  49.50  49.61  49.73  49.89  49.92  49.97   \n2016-02-29  47.43  47.44  47.48  47.55  47.64  47.75  47.90  47.94  48.00   \n2016-03-31  49.87  49.88  49.94  50.03  50.14  50.27  50.43  50.46  50.51   \n2016-04-30  52.52  52.54  52.59  52.67  52.77  52.90  53.06  53.09  53.13   \n2016-05-31  55.32  55.35  55.41  55.51  55.63  55.78  55.96  56.02  56.09   \n2016-06-30  55.46  55.45  55.48  55.54  55.61  55.71  55.83  55.85  55.90   \n2016-07-31  52.06  52.07  52.13  52.22  52.33  52.46  52.62  52.66  52.71   \n2016-08-31  53.27  53.28  53.31  53.38  53.48  53.60  53.75  53.79  53.85   \n2016-09-30  55.94  55.96  56.01  56.10  56.21  56.35  56.51  56.56  56.62   \n2016-10-31  54.22  54.23  54.27  54.34  54.42  54.52  54.65  54.68  54.73   \n2016-11-30  54.70  54.70  54.73  54.78  54.85  54.95  55.07  55.11  55.16   \n2016-12-31  56.08  56.04  56.02  56.02  56.04  56.08  56.14  56.12  56.12   \n2017-01-31  55.65  55.62  55.61  55.61  55.63  55.67  55.73  55.71  55.71   \n2017-02-28  54.09  54.04  54.01  54.01  54.02  54.04  54.07  54.05  54.06   \n2017-03-31  51.38  51.36  51.38  51.40  51.44  51.49  51.57  51.59  51.63   \n2017-04-30  50.48  50.47  50.48  50.51  50.56  50.63  50.72  50.75  50.80   \n2017-05-31  49.23  49.22  49.25  49.31  49.39  49.49  49.62  49.65  49.70   \n2017-06-30  50.48  50.53  50.60  50.70  50.83  50.97  51.13  51.21  51.30   \n2017-07-31  51.28  51.32  51.37  51.44  51.53  51.64  51.76  51.82  51.89   \n2017-08-31  50.94  50.98  51.04  51.11  51.18  51.26  51.36  51.40  51.46   \n2017-09-30  50.55  50.53  50.52  50.51  50.53  50.55  50.59  50.56  50.55   \n2017-10-31  50.57  50.48  50.41  50.35  50.32  50.29  50.26  50.21  50.17   \n2017-11-30  51.92  51.79  51.73  51.65  51.57  51.53  51.48  51.39  51.37   \n2017-12-31  53.79  53.62  53.45  53.31  53.19  53.07  52.97  52.85  52.73   \n2018-01-31  55.20  54.97  54.77  54.59  54.40  54.25  54.12  53.96  53.81   \n2018-02-28  53.18  52.98  52.82  52.64  52.48  52.37  52.28  52.15  52.02   \n2018-03-31  55.69  55.43  55.21  54.98  54.74  54.54  54.36  54.16  53.98   \n2018-04-30  57.00  56.64  56.29  55.96  55.65  55.38  55.13  54.86  54.60   \n2018-05-31  59.44  59.17  58.91  58.65  58.45  58.23  58.03  57.77  57.53   \n2018-06-30  61.51  61.16  60.87  60.55  60.29  60.02  59.82  59.58  59.36   \n2018-07-31  61.67  61.38  61.12  60.88  60.66  60.47  60.28  60.02  59.78   \n2018-08-31  63.49  63.17  62.88  62.58  62.33  62.08  61.87  61.59  61.32   \n2018-09-30  67.56  67.19  66.85  66.52  66.22  65.94  65.69  65.36  65.04   \n2018-10-31  64.20  63.95  63.73  63.51  63.32  63.13  62.95  62.70  62.47   \n2018-11-30  51.99  51.99  52.01  52.05  52.09  52.12  52.17  52.15  52.13   \n2018-12-31  49.11  49.18  49.28  49.40  49.54  49.67  49.82  49.90  49.98   \n2019-01-31  54.28  54.17  54.07  54.00  53.94  53.90  53.86  53.76  53.67   \n2019-02-28  58.21  58.00  57.81  57.64  57.47  57.34  57.21  57.01  56.80   \n2019-03-31  58.85  58.59  58.35  58.13  57.93  57.76  57.63  57.40  57.18   \n2019-04-30  60.88  60.49  60.14  59.80  59.48  59.21  58.98  58.65  58.34   \n2019-05-31  52.58  52.41  52.26  52.14  52.03  51.95  51.88  51.75  51.63   \n2019-06-30  56.26  55.99  55.76  55.54  55.35  55.18  55.03  54.83  54.66   \n2019-07-31  56.82  56.49  56.19  55.91  55.65  55.42  55.21  54.95  54.70   \n2019-08-31  52.50  52.23  51.99  51.78  51.59  51.42  51.27  51.09  50.93   \n2019-09-30  51.77  51.45  51.17  50.94  50.76  50.63  50.51  50.40  50.30   \n2019-10-31  52.96  52.61  52.29  52.02  51.77  51.59  51.46  51.30  51.15   \n2019-11-30  54.10  53.73  53.38  53.05  52.77  52.53  52.31  52.09  51.88   \n2019-12-31  59.44  58.87  58.31  57.77  57.29  56.85  56.44  56.03  55.66   \n2020-01-31  51.80  51.74  51.59  51.39  51.17  50.98  50.80  50.63  50.48   \n2020-02-29  45.10  45.23  45.35  45.46  45.58  45.73  45.89  46.00  46.09   \n2020-03-31  24.51  27.69  29.79  31.12  32.08  32.91  33.58  34.15  34.64   \n2020-04-30  18.84  21.85  24.37  26.37  27.67  28.72  29.62  30.38  31.07   \n\n                9     10     11     12     13     14     15     16     17  \\\nDate                                                                        \n2015-11-30  57.41  57.47  57.55  57.65  57.64  57.66  57.70  57.76  57.85   \n2015-12-31  54.41  54.49  54.59  54.71  54.70  54.73  54.78  54.85  54.96   \n2016-01-31  50.04  50.13  50.23  50.36  50.36  50.39  50.45  50.54  50.65   \n2016-02-29  48.08  48.18  48.29  48.42  48.43  48.47  48.54  48.64  48.76   \n2016-03-31  50.58  50.68  50.78  50.89  50.88  50.90  50.95  51.03  51.14   \n2016-04-30  53.20  53.29  53.39  53.51  53.49  53.51  53.56  53.64  53.75   \n2016-05-31  56.18  56.29  56.42  56.57  56.58  56.63  56.71  56.82  56.96   \n2016-06-30  55.97  56.05  56.15  56.27  56.25  56.27  56.33  56.41  56.52   \n2016-07-31  52.79  52.88  52.99  53.13  53.11  53.14  53.21  53.32  53.45   \n2016-08-31  53.91  53.99  54.10  54.23  54.22  54.25  54.31  54.40  54.53   \n2016-09-30  56.70  56.80  56.92  57.05  57.05  57.09  57.16  57.26  57.39   \n2016-10-31  54.79  54.88  54.98  55.10  55.10  55.12  55.17  55.25  55.36   \n2016-11-30  55.23  55.31  55.41  55.53  55.52  55.55  55.61  55.70  55.81   \n2016-12-31  56.13  56.16  56.20  56.26  56.21  56.19  56.20  56.23  56.28   \n2017-01-31  55.73  55.76  55.80  55.86  55.82  55.81  55.83  55.87  55.93   \n2017-02-28  54.09  54.13  54.18  54.26  54.25  54.26  54.28  54.33  54.40   \n2017-03-31  51.69  51.77  51.87  52.00  52.02  52.06  52.13  52.22  52.33   \n2017-04-30  50.86  50.95  51.06  51.19  51.21  51.26  51.34  51.44  51.56   \n2017-05-31  49.77  49.86  49.97  50.10  50.13  50.18  50.26  50.37  50.50   \n2017-06-30  51.39  51.49  51.61  51.75  51.81  51.89  52.00  52.13  52.27   \n2017-07-31  51.98  52.07  52.17  52.30  52.35  52.42  52.50  52.60  52.73   \n2017-08-31  51.53  51.61  51.70  51.81  51.85  51.91  52.00  52.09  52.21   \n2017-09-30  50.55  50.57  50.58  50.62  50.59  50.58  50.60  50.63  50.67   \n2017-10-31  50.15  50.13  50.11  50.11  50.06  50.03  50.01  50.01  50.02   \n2017-11-30  51.32  51.25  51.11  51.03  50.93  50.92  50.86  50.83  50.78   \n2017-12-31  52.62  52.51  52.41  52.29  52.16  52.12  52.07  51.97  51.90   \n2018-01-31  53.67  53.53  53.38  53.25  53.11  53.09  53.00  52.80  52.71   \n2018-02-28  51.90  51.78  51.67  51.55  51.41  51.33  51.23  51.12  51.11   \n2018-03-31  53.78  53.62  53.44  53.27  53.08  52.92  52.80  52.71  52.61   \n2018-04-30  54.34  54.07  53.82  53.60  53.37  53.17  52.98  52.82  52.68   \n2018-05-31  57.28  57.06  56.87  56.71  56.53  56.33  56.18  56.03  55.90   \n2018-06-30  59.08  58.83  58.55  58.34  58.12  57.89  57.69  57.49  57.34   \n2018-07-31  59.54  59.32  59.13  58.93  58.74  58.54  58.36  58.16  57.99   \n2018-08-31  61.05  60.80  60.57  60.33  60.08  59.87  59.67  59.47  59.28   \n2018-09-30  64.72  64.42  64.11  63.83  63.53  63.26  63.00  62.75  62.52   \n2018-10-31  62.23  62.00  61.77  61.57  61.33  61.13  60.93  60.74  60.56   \n2018-11-30  52.11  52.10  52.09  52.10  52.07  52.07  52.07  52.08  52.09   \n2018-12-31  50.06  50.15  50.23  50.33  50.39  50.48  50.57  50.67  50.78   \n2019-01-31  53.59  53.52  53.44  53.40  53.33  53.28  53.25  53.22  53.18   \n2019-02-28  56.63  56.47  56.32  56.19  56.03  55.90  55.78  55.67  55.57   \n2019-03-31  56.98  56.76  56.54  56.37  56.17  56.00  55.83  55.67  55.54   \n2019-04-30  58.05  57.79  57.56  57.36  57.11  56.88  56.69  56.51  56.35   \n2019-05-31  51.53  51.45  51.40  51.34  51.23  51.13  51.08  51.06  51.07   \n2019-06-30  54.50  54.36  54.25  54.18  54.06  53.97  53.91  53.84  53.82   \n2019-07-31  54.47  54.26  54.08  53.92  53.73  53.57  53.43  53.31  53.20   \n2019-08-31  50.79  50.67  50.58  50.50  50.40  50.31  50.24  50.19  50.15   \n2019-09-30  50.21  50.14  50.10  50.07  50.01  49.97  49.94  49.94  49.95   \n2019-10-31  51.03  50.93  50.85  50.79  50.69  50.60  50.53  50.49  50.48   \n2019-11-30  51.70  51.54  51.41  51.29  51.14  51.00  50.89  50.79  50.72   \n2019-12-31  55.32  55.00  54.70  54.44  54.15  53.88  53.64  53.43  53.24   \n2020-01-31  50.36  50.26  50.17  50.10  50.00  49.93  49.87  49.83  49.80   \n2020-02-29  46.17  46.27  46.36  46.46  46.53  46.60  46.67  46.76  46.86   \n2020-03-31  35.10  35.52  35.90  36.22  36.49  36.76  37.04  37.31  37.59   \n2020-04-30  31.66  32.17  32.61  33.01  33.35  33.69  34.01  34.32  34.63   \n\n               18  \nDate               \n2015-11-30  57.96  \n2015-12-31  55.09  \n2016-01-31  50.79  \n2016-02-29  48.90  \n2016-03-31  51.27  \n2016-04-30  53.88  \n2016-05-31  57.12  \n2016-06-30  56.66  \n2016-07-31  53.61  \n2016-08-31  54.68  \n2016-09-30  57.54  \n2016-10-31  55.50  \n2016-11-30  55.95  \n2016-12-31  56.36  \n2017-01-31  56.01  \n2017-02-28  54.49  \n2017-03-31  52.46  \n2017-04-30  51.70  \n2017-05-31  50.65  \n2017-06-30  52.43  \n2017-07-31  52.88  \n2017-08-31  52.36  \n2017-09-30  50.73  \n2017-10-31  50.06  \n2017-11-30  50.76  \n2017-12-31  51.85  \n2018-01-31  52.64  \n2018-02-28  51.12  \n2018-03-31  52.48  \n2018-04-30  52.48  \n2018-05-31  55.75  \n2018-06-30  57.15  \n2018-07-31  57.84  \n2018-08-31  59.05  \n2018-09-30  62.28  \n2018-10-31  60.37  \n2018-11-30  52.12  \n2018-12-31  50.89  \n2019-01-31  53.17  \n2019-02-28  55.49  \n2019-03-31  55.43  \n2019-04-30  56.21  \n2019-05-31  51.09  \n2019-06-30  53.82  \n2019-07-31  53.11  \n2019-08-31  50.13  \n2019-09-30  49.97  \n2019-10-31  50.48  \n2019-11-30  50.67  \n2019-12-31  53.07  \n2020-01-31  49.78  \n2020-02-29  46.97  \n2020-03-31  37.88  \n2020-04-30  34.95  ",
      "text/html": "<div>\n<style scoped>\n    .dataframe tbody tr th:only-of-type {\n        vertical-align: middle;\n    }\n\n    .dataframe tbody tr th {\n        vertical-align: top;\n    }\n\n    .dataframe thead th {\n        text-align: right;\n    }\n</style>\n<table border=\"1\" class=\"dataframe\">\n  <thead>\n    <tr style=\"text-align: right;\">\n      <th></th>\n      <th>0</th>\n      <th>1</th>\n      <th>2</th>\n      <th>3</th>\n      <th>4</th>\n      <th>5</th>\n      <th>6</th>\n      <th>7</th>\n      <th>8</th>\n      <th>9</th>\n      <th>10</th>\n      <th>11</th>\n      <th>12</th>\n      <th>13</th>\n      <th>14</th>\n      <th>15</th>\n      <th>16</th>\n      <th>17</th>\n      <th>18</th>\n    </tr>\n    <tr>\n      <th>Date</th>\n      <th></th>\n      <th></th>\n      <th></th>\n      <th></th>\n      <th></th>\n      <th></th>\n      <th></th>\n      <th></th>\n      <th></th>\n      <th></th>\n      <th></th>\n      <th></th>\n      <th></th>\n      <th></th>\n      <th></th>\n      <th></th>\n      <th></th>\n      <th></th>\n      <th></th>\n    </tr>\n  </thead>\n  <tbody>\n    <tr>\n      <th>2015-11-30</th>\n      <td>56.73</td>\n      <td>56.75</td>\n      <td>56.82</td>\n      <td>56.91</td>\n      <td>57.02</td>\n      <td>57.16</td>\n      <td>57.32</td>\n      <td>57.33</td>\n      <td>57.36</td>\n      <td>57.41</td>\n      <td>57.47</td>\n      <td>57.55</td>\n      <td>57.65</td>\n      <td>57.64</td>\n      <td>57.66</td>\n      <td>57.70</td>\n      <td>57.76</td>\n      <td>57.85</td>\n      <td>57.96</td>\n    </tr>\n    <tr>\n      <th>2015-12-31</th>\n      <td>53.66</td>\n      <td>53.68</td>\n      <td>53.74</td>\n      <td>53.84</td>\n      <td>53.96</td>\n      <td>54.11</td>\n      <td>54.29</td>\n      <td>54.31</td>\n      <td>54.35</td>\n      <td>54.41</td>\n      <td>54.49</td>\n      <td>54.59</td>\n      <td>54.71</td>\n      <td>54.70</td>\n      <td>54.73</td>\n      <td>54.78</td>\n      <td>54.85</td>\n      <td>54.96</td>\n      <td>55.09</td>\n    </tr>\n    <tr>\n      <th>2016-01-31</th>\n      <td>49.33</td>\n      <td>49.35</td>\n      <td>49.41</td>\n      <td>49.50</td>\n      <td>49.61</td>\n      <td>49.73</td>\n      <td>49.89</td>\n      <td>49.92</td>\n      <td>49.97</td>\n      <td>50.04</td>\n      <td>50.13</td>\n      <td>50.23</td>\n      <td>50.36</td>\n      <td>50.36</td>\n      <td>50.39</td>\n      <td>50.45</td>\n      <td>50.54</td>\n      <td>50.65</td>\n      <td>50.79</td>\n    </tr>\n    <tr>\n      <th>2016-02-29</th>\n      <td>47.43</td>\n      <td>47.44</td>\n      <td>47.48</td>\n      <td>47.55</td>\n      <td>47.64</td>\n      <td>47.75</td>\n      <td>47.90</td>\n      <td>47.94</td>\n      <td>48.00</td>\n      <td>48.08</td>\n      <td>48.18</td>\n      <td>48.29</td>\n      <td>48.42</td>\n      <td>48.43</td>\n      <td>48.47</td>\n      <td>48.54</td>\n      <td>48.64</td>\n      <td>48.76</td>\n      <td>48.90</td>\n    </tr>\n    <tr>\n      <th>2016-03-31</th>\n      <td>49.87</td>\n      <td>49.88</td>\n      <td>49.94</td>\n      <td>50.03</td>\n      <td>50.14</td>\n      <td>50.27</td>\n      <td>50.43</td>\n      <td>50.46</td>\n      <td>50.51</td>\n      <td>50.58</td>\n      <td>50.68</td>\n      <td>50.78</td>\n      <td>50.89</td>\n      <td>50.88</td>\n      <td>50.90</td>\n      <td>50.95</td>\n      <td>51.03</td>\n      <td>51.14</td>\n      <td>51.27</td>\n    </tr>\n    <tr>\n      <th>2016-04-30</th>\n      <td>52.52</td>\n      <td>52.54</td>\n      <td>52.59</td>\n      <td>52.67</td>\n      <td>52.77</td>\n      <td>52.90</td>\n      <td>53.06</td>\n      <td>53.09</td>\n      <td>53.13</td>\n      <td>53.20</td>\n      <td>53.29</td>\n      <td>53.39</td>\n      <td>53.51</td>\n      <td>53.49</td>\n      <td>53.51</td>\n      <td>53.56</td>\n      <td>53.64</td>\n      <td>53.75</td>\n      <td>53.88</td>\n    </tr>\n    <tr>\n      <th>2016-05-31</th>\n      <td>55.32</td>\n      <td>55.35</td>\n      <td>55.41</td>\n      <td>55.51</td>\n      <td>55.63</td>\n      <td>55.78</td>\n      <td>55.96</td>\n      <td>56.02</td>\n      <td>56.09</td>\n      <td>56.18</td>\n      <td>56.29</td>\n      <td>56.42</td>\n      <td>56.57</td>\n      <td>56.58</td>\n      <td>56.63</td>\n      <td>56.71</td>\n      <td>56.82</td>\n      <td>56.96</td>\n      <td>57.12</td>\n    </tr>\n    <tr>\n      <th>2016-06-30</th>\n      <td>55.46</td>\n      <td>55.45</td>\n      <td>55.48</td>\n      <td>55.54</td>\n      <td>55.61</td>\n      <td>55.71</td>\n      <td>55.83</td>\n      <td>55.85</td>\n      <td>55.90</td>\n      <td>55.97</td>\n      <td>56.05</td>\n      <td>56.15</td>\n      <td>56.27</td>\n      <td>56.25</td>\n      <td>56.27</td>\n      <td>56.33</td>\n      <td>56.41</td>\n      <td>56.52</td>\n      <td>56.66</td>\n    </tr>\n    <tr>\n      <th>2016-07-31</th>\n      <td>52.06</td>\n      <td>52.07</td>\n      <td>52.13</td>\n      <td>52.22</td>\n      <td>52.33</td>\n      <td>52.46</td>\n      <td>52.62</td>\n      <td>52.66</td>\n      <td>52.71</td>\n      <td>52.79</td>\n      <td>52.88</td>\n      <td>52.99</td>\n      <td>53.13</td>\n      <td>53.11</td>\n      <td>53.14</td>\n      <td>53.21</td>\n      <td>53.32</td>\n      <td>53.45</td>\n      <td>53.61</td>\n    </tr>\n    <tr>\n      <th>2016-08-31</th>\n      <td>53.27</td>\n      <td>53.28</td>\n      <td>53.31</td>\n      <td>53.38</td>\n      <td>53.48</td>\n      <td>53.60</td>\n      <td>53.75</td>\n      <td>53.79</td>\n      <td>53.85</td>\n      <td>53.91</td>\n      <td>53.99</td>\n      <td>54.10</td>\n      <td>54.23</td>\n      <td>54.22</td>\n      <td>54.25</td>\n      <td>54.31</td>\n      <td>54.40</td>\n      <td>54.53</td>\n      <td>54.68</td>\n    </tr>\n    <tr>\n      <th>2016-09-30</th>\n      <td>55.94</td>\n      <td>55.96</td>\n      <td>56.01</td>\n      <td>56.10</td>\n      <td>56.21</td>\n      <td>56.35</td>\n      <td>56.51</td>\n      <td>56.56</td>\n      <td>56.62</td>\n      <td>56.70</td>\n      <td>56.80</td>\n      <td>56.92</td>\n      <td>57.05</td>\n      <td>57.05</td>\n      <td>57.09</td>\n      <td>57.16</td>\n      <td>57.26</td>\n      <td>57.39</td>\n      <td>57.54</td>\n    </tr>\n    <tr>\n      <th>2016-10-31</th>\n      <td>54.22</td>\n      <td>54.23</td>\n      <td>54.27</td>\n      <td>54.34</td>\n      <td>54.42</td>\n      <td>54.52</td>\n      <td>54.65</td>\n      <td>54.68</td>\n      <td>54.73</td>\n      <td>54.79</td>\n      <td>54.88</td>\n      <td>54.98</td>\n      <td>55.10</td>\n      <td>55.10</td>\n      <td>55.12</td>\n      <td>55.17</td>\n      <td>55.25</td>\n      <td>55.36</td>\n      <td>55.50</td>\n    </tr>\n    <tr>\n      <th>2016-11-30</th>\n      <td>54.70</td>\n      <td>54.70</td>\n      <td>54.73</td>\n      <td>54.78</td>\n      <td>54.85</td>\n      <td>54.95</td>\n      <td>55.07</td>\n      <td>55.11</td>\n      <td>55.16</td>\n      <td>55.23</td>\n      <td>55.31</td>\n      <td>55.41</td>\n      <td>55.53</td>\n      <td>55.52</td>\n      <td>55.55</td>\n      <td>55.61</td>\n      <td>55.70</td>\n      <td>55.81</td>\n      <td>55.95</td>\n    </tr>\n    <tr>\n      <th>2016-12-31</th>\n      <td>56.08</td>\n      <td>56.04</td>\n      <td>56.02</td>\n      <td>56.02</td>\n      <td>56.04</td>\n      <td>56.08</td>\n      <td>56.14</td>\n      <td>56.12</td>\n      <td>56.12</td>\n      <td>56.13</td>\n      <td>56.16</td>\n      <td>56.20</td>\n      <td>56.26</td>\n      <td>56.21</td>\n      <td>56.19</td>\n      <td>56.20</td>\n      <td>56.23</td>\n      <td>56.28</td>\n      <td>56.36</td>\n    </tr>\n    <tr>\n      <th>2017-01-31</th>\n      <td>55.65</td>\n      <td>55.62</td>\n      <td>55.61</td>\n      <td>55.61</td>\n      <td>55.63</td>\n      <td>55.67</td>\n      <td>55.73</td>\n      <td>55.71</td>\n      <td>55.71</td>\n      <td>55.73</td>\n      <td>55.76</td>\n      <td>55.80</td>\n      <td>55.86</td>\n      <td>55.82</td>\n      <td>55.81</td>\n      <td>55.83</td>\n      <td>55.87</td>\n      <td>55.93</td>\n      <td>56.01</td>\n    </tr>\n    <tr>\n      <th>2017-02-28</th>\n      <td>54.09</td>\n      <td>54.04</td>\n      <td>54.01</td>\n      <td>54.01</td>\n      <td>54.02</td>\n      <td>54.04</td>\n      <td>54.07</td>\n      <td>54.05</td>\n      <td>54.06</td>\n      <td>54.09</td>\n      <td>54.13</td>\n      <td>54.18</td>\n      <td>54.26</td>\n      <td>54.25</td>\n      <td>54.26</td>\n      <td>54.28</td>\n      <td>54.33</td>\n      <td>54.40</td>\n      <td>54.49</td>\n    </tr>\n    <tr>\n      <th>2017-03-31</th>\n      <td>51.38</td>\n      <td>51.36</td>\n      <td>51.38</td>\n      <td>51.40</td>\n      <td>51.44</td>\n      <td>51.49</td>\n      <td>51.57</td>\n      <td>51.59</td>\n      <td>51.63</td>\n      <td>51.69</td>\n      <td>51.77</td>\n      <td>51.87</td>\n      <td>52.00</td>\n      <td>52.02</td>\n      <td>52.06</td>\n      <td>52.13</td>\n      <td>52.22</td>\n      <td>52.33</td>\n      <td>52.46</td>\n    </tr>\n    <tr>\n      <th>2017-04-30</th>\n      <td>50.48</td>\n      <td>50.47</td>\n      <td>50.48</td>\n      <td>50.51</td>\n      <td>50.56</td>\n      <td>50.63</td>\n      <td>50.72</td>\n      <td>50.75</td>\n      <td>50.80</td>\n      <td>50.86</td>\n      <td>50.95</td>\n      <td>51.06</td>\n      <td>51.19</td>\n      <td>51.21</td>\n      <td>51.26</td>\n      <td>51.34</td>\n      <td>51.44</td>\n      <td>51.56</td>\n      <td>51.70</td>\n    </tr>\n    <tr>\n      <th>2017-05-31</th>\n      <td>49.23</td>\n      <td>49.22</td>\n      <td>49.25</td>\n      <td>49.31</td>\n      <td>49.39</td>\n      <td>49.49</td>\n      <td>49.62</td>\n      <td>49.65</td>\n      <td>49.70</td>\n      <td>49.77</td>\n      <td>49.86</td>\n      <td>49.97</td>\n      <td>50.10</td>\n      <td>50.13</td>\n      <td>50.18</td>\n      <td>50.26</td>\n      <td>50.37</td>\n      <td>50.50</td>\n      <td>50.65</td>\n    </tr>\n    <tr>\n      <th>2017-06-30</th>\n      <td>50.48</td>\n      <td>50.53</td>\n      <td>50.60</td>\n      <td>50.70</td>\n      <td>50.83</td>\n      <td>50.97</td>\n      <td>51.13</td>\n      <td>51.21</td>\n      <td>51.30</td>\n      <td>51.39</td>\n      <td>51.49</td>\n      <td>51.61</td>\n      <td>51.75</td>\n      <td>51.81</td>\n      <td>51.89</td>\n      <td>52.00</td>\n      <td>52.13</td>\n      <td>52.27</td>\n      <td>52.43</td>\n    </tr>\n    <tr>\n      <th>2017-07-31</th>\n      <td>51.28</td>\n      <td>51.32</td>\n      <td>51.37</td>\n      <td>51.44</td>\n      <td>51.53</td>\n      <td>51.64</td>\n      <td>51.76</td>\n      <td>51.82</td>\n      <td>51.89</td>\n      <td>51.98</td>\n      <td>52.07</td>\n      <td>52.17</td>\n      <td>52.30</td>\n      <td>52.35</td>\n      <td>52.42</td>\n      <td>52.50</td>\n      <td>52.60</td>\n      <td>52.73</td>\n      <td>52.88</td>\n    </tr>\n    <tr>\n      <th>2017-08-31</th>\n      <td>50.94</td>\n      <td>50.98</td>\n      <td>51.04</td>\n      <td>51.11</td>\n      <td>51.18</td>\n      <td>51.26</td>\n      <td>51.36</td>\n      <td>51.40</td>\n      <td>51.46</td>\n      <td>51.53</td>\n      <td>51.61</td>\n      <td>51.70</td>\n      <td>51.81</td>\n      <td>51.85</td>\n      <td>51.91</td>\n      <td>52.00</td>\n      <td>52.09</td>\n      <td>52.21</td>\n      <td>52.36</td>\n    </tr>\n    <tr>\n      <th>2017-09-30</th>\n      <td>50.55</td>\n      <td>50.53</td>\n      <td>50.52</td>\n      <td>50.51</td>\n      <td>50.53</td>\n      <td>50.55</td>\n      <td>50.59</td>\n      <td>50.56</td>\n      <td>50.55</td>\n      <td>50.55</td>\n      <td>50.57</td>\n      <td>50.58</td>\n      <td>50.62</td>\n      <td>50.59</td>\n      <td>50.58</td>\n      <td>50.60</td>\n      <td>50.63</td>\n      <td>50.67</td>\n      <td>50.73</td>\n    </tr>\n    <tr>\n      <th>2017-10-31</th>\n      <td>50.57</td>\n      <td>50.48</td>\n      <td>50.41</td>\n      <td>50.35</td>\n      <td>50.32</td>\n      <td>50.29</td>\n      <td>50.26</td>\n      <td>50.21</td>\n      <td>50.17</td>\n      <td>50.15</td>\n      <td>50.13</td>\n      <td>50.11</td>\n      <td>50.11</td>\n      <td>50.06</td>\n      <td>50.03</td>\n      <td>50.01</td>\n      <td>50.01</td>\n      <td>50.02</td>\n      <td>50.06</td>\n    </tr>\n    <tr>\n      <th>2017-11-30</th>\n      <td>51.92</td>\n      <td>51.79</td>\n      <td>51.73</td>\n      <td>51.65</td>\n      <td>51.57</td>\n      <td>51.53</td>\n      <td>51.48</td>\n      <td>51.39</td>\n      <td>51.37</td>\n      <td>51.32</td>\n      <td>51.25</td>\n      <td>51.11</td>\n      <td>51.03</td>\n      <td>50.93</td>\n      <td>50.92</td>\n      <td>50.86</td>\n      <td>50.83</td>\n      <td>50.78</td>\n      <td>50.76</td>\n    </tr>\n    <tr>\n      <th>2017-12-31</th>\n      <td>53.79</td>\n      <td>53.62</td>\n      <td>53.45</td>\n      <td>53.31</td>\n      <td>53.19</td>\n      <td>53.07</td>\n      <td>52.97</td>\n      <td>52.85</td>\n      <td>52.73</td>\n      <td>52.62</td>\n      <td>52.51</td>\n      <td>52.41</td>\n      <td>52.29</td>\n      <td>52.16</td>\n      <td>52.12</td>\n      <td>52.07</td>\n      <td>51.97</td>\n      <td>51.90</td>\n      <td>51.85</td>\n    </tr>\n    <tr>\n      <th>2018-01-31</th>\n      <td>55.20</td>\n      <td>54.97</td>\n      <td>54.77</td>\n      <td>54.59</td>\n      <td>54.40</td>\n      <td>54.25</td>\n      <td>54.12</td>\n      <td>53.96</td>\n      <td>53.81</td>\n      <td>53.67</td>\n      <td>53.53</td>\n      <td>53.38</td>\n      <td>53.25</td>\n      <td>53.11</td>\n      <td>53.09</td>\n      <td>53.00</td>\n      <td>52.80</td>\n      <td>52.71</td>\n      <td>52.64</td>\n    </tr>\n    <tr>\n      <th>2018-02-28</th>\n      <td>53.18</td>\n      <td>52.98</td>\n      <td>52.82</td>\n      <td>52.64</td>\n      <td>52.48</td>\n      <td>52.37</td>\n      <td>52.28</td>\n      <td>52.15</td>\n      <td>52.02</td>\n      <td>51.90</td>\n      <td>51.78</td>\n      <td>51.67</td>\n      <td>51.55</td>\n      <td>51.41</td>\n      <td>51.33</td>\n      <td>51.23</td>\n      <td>51.12</td>\n      <td>51.11</td>\n      <td>51.12</td>\n    </tr>\n    <tr>\n      <th>2018-03-31</th>\n      <td>55.69</td>\n      <td>55.43</td>\n      <td>55.21</td>\n      <td>54.98</td>\n      <td>54.74</td>\n      <td>54.54</td>\n      <td>54.36</td>\n      <td>54.16</td>\n      <td>53.98</td>\n      <td>53.78</td>\n      <td>53.62</td>\n      <td>53.44</td>\n      <td>53.27</td>\n      <td>53.08</td>\n      <td>52.92</td>\n      <td>52.80</td>\n      <td>52.71</td>\n      <td>52.61</td>\n      <td>52.48</td>\n    </tr>\n    <tr>\n      <th>2018-04-30</th>\n      <td>57.00</td>\n      <td>56.64</td>\n      <td>56.29</td>\n      <td>55.96</td>\n      <td>55.65</td>\n      <td>55.38</td>\n      <td>55.13</td>\n      <td>54.86</td>\n      <td>54.60</td>\n      <td>54.34</td>\n      <td>54.07</td>\n      <td>53.82</td>\n      <td>53.60</td>\n      <td>53.37</td>\n      <td>53.17</td>\n      <td>52.98</td>\n      <td>52.82</td>\n      <td>52.68</td>\n      <td>52.48</td>\n    </tr>\n    <tr>\n      <th>2018-05-31</th>\n      <td>59.44</td>\n      <td>59.17</td>\n      <td>58.91</td>\n      <td>58.65</td>\n      <td>58.45</td>\n      <td>58.23</td>\n      <td>58.03</td>\n      <td>57.77</td>\n      <td>57.53</td>\n      <td>57.28</td>\n      <td>57.06</td>\n      <td>56.87</td>\n      <td>56.71</td>\n      <td>56.53</td>\n      <td>56.33</td>\n      <td>56.18</td>\n      <td>56.03</td>\n      <td>55.90</td>\n      <td>55.75</td>\n    </tr>\n    <tr>\n      <th>2018-06-30</th>\n      <td>61.51</td>\n      <td>61.16</td>\n      <td>60.87</td>\n      <td>60.55</td>\n      <td>60.29</td>\n      <td>60.02</td>\n      <td>59.82</td>\n      <td>59.58</td>\n      <td>59.36</td>\n      <td>59.08</td>\n      <td>58.83</td>\n      <td>58.55</td>\n      <td>58.34</td>\n      <td>58.12</td>\n      <td>57.89</td>\n      <td>57.69</td>\n      <td>57.49</td>\n      <td>57.34</td>\n      <td>57.15</td>\n    </tr>\n    <tr>\n      <th>2018-07-31</th>\n      <td>61.67</td>\n      <td>61.38</td>\n      <td>61.12</td>\n      <td>60.88</td>\n      <td>60.66</td>\n      <td>60.47</td>\n      <td>60.28</td>\n      <td>60.02</td>\n      <td>59.78</td>\n      <td>59.54</td>\n      <td>59.32</td>\n      <td>59.13</td>\n      <td>58.93</td>\n      <td>58.74</td>\n      <td>58.54</td>\n      <td>58.36</td>\n      <td>58.16</td>\n      <td>57.99</td>\n      <td>57.84</td>\n    </tr>\n    <tr>\n      <th>2018-08-31</th>\n      <td>63.49</td>\n      <td>63.17</td>\n      <td>62.88</td>\n      <td>62.58</td>\n      <td>62.33</td>\n      <td>62.08</td>\n      <td>61.87</td>\n      <td>61.59</td>\n      <td>61.32</td>\n      <td>61.05</td>\n      <td>60.80</td>\n      <td>60.57</td>\n      <td>60.33</td>\n      <td>60.08</td>\n      <td>59.87</td>\n      <td>59.67</td>\n      <td>59.47</td>\n      <td>59.28</td>\n      <td>59.05</td>\n    </tr>\n    <tr>\n      <th>2018-09-30</th>\n      <td>67.56</td>\n      <td>67.19</td>\n      <td>66.85</td>\n      <td>66.52</td>\n      <td>66.22</td>\n      <td>65.94</td>\n      <td>65.69</td>\n      <td>65.36</td>\n      <td>65.04</td>\n      <td>64.72</td>\n      <td>64.42</td>\n      <td>64.11</td>\n      <td>63.83</td>\n      <td>63.53</td>\n      <td>63.26</td>\n      <td>63.00</td>\n      <td>62.75</td>\n      <td>62.52</td>\n      <td>62.28</td>\n    </tr>\n    <tr>\n      <th>2018-10-31</th>\n      <td>64.20</td>\n      <td>63.95</td>\n      <td>63.73</td>\n      <td>63.51</td>\n      <td>63.32</td>\n      <td>63.13</td>\n      <td>62.95</td>\n      <td>62.70</td>\n      <td>62.47</td>\n      <td>62.23</td>\n      <td>62.00</td>\n      <td>61.77</td>\n      <td>61.57</td>\n      <td>61.33</td>\n      <td>61.13</td>\n      <td>60.93</td>\n      <td>60.74</td>\n      <td>60.56</td>\n      <td>60.37</td>\n    </tr>\n    <tr>\n      <th>2018-11-30</th>\n      <td>51.99</td>\n      <td>51.99</td>\n      <td>52.01</td>\n      <td>52.05</td>\n      <td>52.09</td>\n      <td>52.12</td>\n      <td>52.17</td>\n      <td>52.15</td>\n      <td>52.13</td>\n      <td>52.11</td>\n      <td>52.10</td>\n      <td>52.09</td>\n      <td>52.10</td>\n      <td>52.07</td>\n      <td>52.07</td>\n      <td>52.07</td>\n      <td>52.08</td>\n      <td>52.09</td>\n      <td>52.12</td>\n    </tr>\n    <tr>\n      <th>2018-12-31</th>\n      <td>49.11</td>\n      <td>49.18</td>\n      <td>49.28</td>\n      <td>49.40</td>\n      <td>49.54</td>\n      <td>49.67</td>\n      <td>49.82</td>\n      <td>49.90</td>\n      <td>49.98</td>\n      <td>50.06</td>\n      <td>50.15</td>\n      <td>50.23</td>\n      <td>50.33</td>\n      <td>50.39</td>\n      <td>50.48</td>\n      <td>50.57</td>\n      <td>50.67</td>\n      <td>50.78</td>\n      <td>50.89</td>\n    </tr>\n    <tr>\n      <th>2019-01-31</th>\n      <td>54.28</td>\n      <td>54.17</td>\n      <td>54.07</td>\n      <td>54.00</td>\n      <td>53.94</td>\n      <td>53.90</td>\n      <td>53.86</td>\n      <td>53.76</td>\n      <td>53.67</td>\n      <td>53.59</td>\n      <td>53.52</td>\n      <td>53.44</td>\n      <td>53.40</td>\n      <td>53.33</td>\n      <td>53.28</td>\n      <td>53.25</td>\n      <td>53.22</td>\n      <td>53.18</td>\n      <td>53.17</td>\n    </tr>\n    <tr>\n      <th>2019-02-28</th>\n      <td>58.21</td>\n      <td>58.00</td>\n      <td>57.81</td>\n      <td>57.64</td>\n      <td>57.47</td>\n      <td>57.34</td>\n      <td>57.21</td>\n      <td>57.01</td>\n      <td>56.80</td>\n      <td>56.63</td>\n      <td>56.47</td>\n      <td>56.32</td>\n      <td>56.19</td>\n      <td>56.03</td>\n      <td>55.90</td>\n      <td>55.78</td>\n      <td>55.67</td>\n      <td>55.57</td>\n      <td>55.49</td>\n    </tr>\n    <tr>\n      <th>2019-03-31</th>\n      <td>58.85</td>\n      <td>58.59</td>\n      <td>58.35</td>\n      <td>58.13</td>\n      <td>57.93</td>\n      <td>57.76</td>\n      <td>57.63</td>\n      <td>57.40</td>\n      <td>57.18</td>\n      <td>56.98</td>\n      <td>56.76</td>\n      <td>56.54</td>\n      <td>56.37</td>\n      <td>56.17</td>\n      <td>56.00</td>\n      <td>55.83</td>\n      <td>55.67</td>\n      <td>55.54</td>\n      <td>55.43</td>\n    </tr>\n    <tr>\n      <th>2019-04-30</th>\n      <td>60.88</td>\n      <td>60.49</td>\n      <td>60.14</td>\n      <td>59.80</td>\n      <td>59.48</td>\n      <td>59.21</td>\n      <td>58.98</td>\n      <td>58.65</td>\n      <td>58.34</td>\n      <td>58.05</td>\n      <td>57.79</td>\n      <td>57.56</td>\n      <td>57.36</td>\n      <td>57.11</td>\n      <td>56.88</td>\n      <td>56.69</td>\n      <td>56.51</td>\n      <td>56.35</td>\n      <td>56.21</td>\n    </tr>\n    <tr>\n      <th>2019-05-31</th>\n      <td>52.58</td>\n      <td>52.41</td>\n      <td>52.26</td>\n      <td>52.14</td>\n      <td>52.03</td>\n      <td>51.95</td>\n      <td>51.88</td>\n      <td>51.75</td>\n      <td>51.63</td>\n      <td>51.53</td>\n      <td>51.45</td>\n      <td>51.40</td>\n      <td>51.34</td>\n      <td>51.23</td>\n      <td>51.13</td>\n      <td>51.08</td>\n      <td>51.06</td>\n      <td>51.07</td>\n      <td>51.09</td>\n    </tr>\n    <tr>\n      <th>2019-06-30</th>\n      <td>56.26</td>\n      <td>55.99</td>\n      <td>55.76</td>\n      <td>55.54</td>\n      <td>55.35</td>\n      <td>55.18</td>\n      <td>55.03</td>\n      <td>54.83</td>\n      <td>54.66</td>\n      <td>54.50</td>\n      <td>54.36</td>\n      <td>54.25</td>\n      <td>54.18</td>\n      <td>54.06</td>\n      <td>53.97</td>\n      <td>53.91</td>\n      <td>53.84</td>\n      <td>53.82</td>\n      <td>53.82</td>\n    </tr>\n    <tr>\n      <th>2019-07-31</th>\n      <td>56.82</td>\n      <td>56.49</td>\n      <td>56.19</td>\n      <td>55.91</td>\n      <td>55.65</td>\n      <td>55.42</td>\n      <td>55.21</td>\n      <td>54.95</td>\n      <td>54.70</td>\n      <td>54.47</td>\n      <td>54.26</td>\n      <td>54.08</td>\n      <td>53.92</td>\n      <td>53.73</td>\n      <td>53.57</td>\n      <td>53.43</td>\n      <td>53.31</td>\n      <td>53.20</td>\n      <td>53.11</td>\n    </tr>\n    <tr>\n      <th>2019-08-31</th>\n      <td>52.50</td>\n      <td>52.23</td>\n      <td>51.99</td>\n      <td>51.78</td>\n      <td>51.59</td>\n      <td>51.42</td>\n      <td>51.27</td>\n      <td>51.09</td>\n      <td>50.93</td>\n      <td>50.79</td>\n      <td>50.67</td>\n      <td>50.58</td>\n      <td>50.50</td>\n      <td>50.40</td>\n      <td>50.31</td>\n      <td>50.24</td>\n      <td>50.19</td>\n      <td>50.15</td>\n      <td>50.13</td>\n    </tr>\n    <tr>\n      <th>2019-09-30</th>\n      <td>51.77</td>\n      <td>51.45</td>\n      <td>51.17</td>\n      <td>50.94</td>\n      <td>50.76</td>\n      <td>50.63</td>\n      <td>50.51</td>\n      <td>50.40</td>\n      <td>50.30</td>\n      <td>50.21</td>\n      <td>50.14</td>\n      <td>50.10</td>\n      <td>50.07</td>\n      <td>50.01</td>\n      <td>49.97</td>\n      <td>49.94</td>\n      <td>49.94</td>\n      <td>49.95</td>\n      <td>49.97</td>\n    </tr>\n    <tr>\n      <th>2019-10-31</th>\n      <td>52.96</td>\n      <td>52.61</td>\n      <td>52.29</td>\n      <td>52.02</td>\n      <td>51.77</td>\n      <td>51.59</td>\n      <td>51.46</td>\n      <td>51.30</td>\n      <td>51.15</td>\n      <td>51.03</td>\n      <td>50.93</td>\n      <td>50.85</td>\n      <td>50.79</td>\n      <td>50.69</td>\n      <td>50.60</td>\n      <td>50.53</td>\n      <td>50.49</td>\n      <td>50.48</td>\n      <td>50.48</td>\n    </tr>\n    <tr>\n      <th>2019-11-30</th>\n      <td>54.10</td>\n      <td>53.73</td>\n      <td>53.38</td>\n      <td>53.05</td>\n      <td>52.77</td>\n      <td>52.53</td>\n      <td>52.31</td>\n      <td>52.09</td>\n      <td>51.88</td>\n      <td>51.70</td>\n      <td>51.54</td>\n      <td>51.41</td>\n      <td>51.29</td>\n      <td>51.14</td>\n      <td>51.00</td>\n      <td>50.89</td>\n      <td>50.79</td>\n      <td>50.72</td>\n      <td>50.67</td>\n    </tr>\n    <tr>\n      <th>2019-12-31</th>\n      <td>59.44</td>\n      <td>58.87</td>\n      <td>58.31</td>\n      <td>57.77</td>\n      <td>57.29</td>\n      <td>56.85</td>\n      <td>56.44</td>\n      <td>56.03</td>\n      <td>55.66</td>\n      <td>55.32</td>\n      <td>55.00</td>\n      <td>54.70</td>\n      <td>54.44</td>\n      <td>54.15</td>\n      <td>53.88</td>\n      <td>53.64</td>\n      <td>53.43</td>\n      <td>53.24</td>\n      <td>53.07</td>\n    </tr>\n    <tr>\n      <th>2020-01-31</th>\n      <td>51.80</td>\n      <td>51.74</td>\n      <td>51.59</td>\n      <td>51.39</td>\n      <td>51.17</td>\n      <td>50.98</td>\n      <td>50.80</td>\n      <td>50.63</td>\n      <td>50.48</td>\n      <td>50.36</td>\n      <td>50.26</td>\n      <td>50.17</td>\n      <td>50.10</td>\n      <td>50.00</td>\n      <td>49.93</td>\n      <td>49.87</td>\n      <td>49.83</td>\n      <td>49.80</td>\n      <td>49.78</td>\n    </tr>\n    <tr>\n      <th>2020-02-29</th>\n      <td>45.10</td>\n      <td>45.23</td>\n      <td>45.35</td>\n      <td>45.46</td>\n      <td>45.58</td>\n      <td>45.73</td>\n      <td>45.89</td>\n      <td>46.00</td>\n      <td>46.09</td>\n      <td>46.17</td>\n      <td>46.27</td>\n      <td>46.36</td>\n      <td>46.46</td>\n      <td>46.53</td>\n      <td>46.60</td>\n      <td>46.67</td>\n      <td>46.76</td>\n      <td>46.86</td>\n      <td>46.97</td>\n    </tr>\n    <tr>\n      <th>2020-03-31</th>\n      <td>24.51</td>\n      <td>27.69</td>\n      <td>29.79</td>\n      <td>31.12</td>\n      <td>32.08</td>\n      <td>32.91</td>\n      <td>33.58</td>\n      <td>34.15</td>\n      <td>34.64</td>\n      <td>35.10</td>\n      <td>35.52</td>\n      <td>35.90</td>\n      <td>36.22</td>\n      <td>36.49</td>\n      <td>36.76</td>\n      <td>37.04</td>\n      <td>37.31</td>\n      <td>37.59</td>\n      <td>37.88</td>\n    </tr>\n    <tr>\n      <th>2020-04-30</th>\n      <td>18.84</td>\n      <td>21.85</td>\n      <td>24.37</td>\n      <td>26.37</td>\n      <td>27.67</td>\n      <td>28.72</td>\n      <td>29.62</td>\n      <td>30.38</td>\n      <td>31.07</td>\n      <td>31.66</td>\n      <td>32.17</td>\n      <td>32.61</td>\n      <td>33.01</td>\n      <td>33.35</td>\n      <td>33.69</td>\n      <td>34.01</td>\n      <td>34.32</td>\n      <td>34.63</td>\n      <td>34.95</td>\n    </tr>\n  </tbody>\n</table>\n</div>"
     },
     "metadata": {},
     "execution_count": 123
    }
   ],
   "source": [
    "def make_Spread(data,kijun_no):\n",
    "    cols =[]\n",
    "    df = pd.DataFrame(data.iloc[:,kijun_no])\n",
    "    for lag in range(1, len(data.columns)):\n",
    "        col = 'spread_{}'.format(lag)  # defines the column name\n",
    "        df[col] = data.iloc[:,kijun_no]-data.iloc[:,kijun_no+1]  # creates the lagged data column\n",
    "        cols.append(col)  # stores the column name\n",
    "    df.dropna(inplace=True)  # gets rid of incomplete data rows\n",
    "    return df, cols"
   ]
  },
  {
   "cell_type": "code",
   "execution_count": 94,
   "metadata": {},
   "outputs": [],
   "source": [
    "Spread = CLZ1['/CLM0'] - CLZ1['/CLZ1']"
   ]
  },
  {
   "cell_type": "code",
   "execution_count": 95,
   "metadata": {},
   "outputs": [
    {
     "output_type": "execute_result",
     "data": {
      "text/plain": "Date\n2015-12-31    -1.43\n2016-01-31    -1.46\n2016-02-29    -1.47\n2016-03-31    -1.40\n2016-04-30    -1.36\n2016-05-31    -1.80\n2016-06-30    -1.20\n2016-07-31    -1.55\n2016-08-31    -1.41\n2016-09-30    -1.60\n2016-10-31    -1.28\n2016-11-30    -1.25\n2016-12-31    -0.28\n2017-01-31    -0.36\n2017-02-28    -0.40\n2017-03-31    -1.08\n2017-04-30    -1.22\n2017-05-31    -1.42\n2017-06-30    -1.95\n2017-07-31    -1.60\n2017-08-31    -1.42\n2017-09-30    -0.18\n2017-10-31     0.51\n2017-11-30     1.16\n2017-12-31     1.94\n2018-01-31     2.56\n2018-02-28     2.06\n2018-03-31     3.21\n2018-04-30     4.52\n2018-05-31     3.69\n2018-06-30     4.36\n2018-07-31     3.83\n2018-08-31     4.44\n2018-09-30     5.28\n2018-10-31     3.83\n2018-11-30    -0.13\n2018-12-31    -1.78\n2019-01-31     1.11\n2019-02-28     2.72\n2019-03-31     3.42\n2019-04-30     4.67\n2019-05-31     1.49\n2019-06-30     2.44\n2019-07-31     3.71\n2019-08-31     2.37\n2019-09-30     1.80\n2019-10-31     2.48\n2019-11-30     3.43\n2019-12-31     6.37\n2020-01-31     2.02\n2020-02-29    -1.87\n2020-03-31   -13.37\n2020-04-30   -16.11\nFreq: M, dtype: float64"
     },
     "metadata": {},
     "execution_count": 95
    }
   ],
   "source": [
    "Spread"
   ]
  },
  {
   "cell_type": "code",
   "execution_count": 134,
   "metadata": {},
   "outputs": [],
   "source": [
    "def make_Spread(data,kijun_no):\n",
    "    cols =[]\n",
    "    df = pd.DataFrame(data.iloc[:,kijun_no])\n",
    "    for lag in range(1, len(data.columns)):\n",
    "        col = 'spread_{}'.format(lag)  # defines the column name\n",
    "        df[col] = data.iloc[:,kijun_no]-data.iloc[:,kijun_no+lag]  # creates the lagged data column\n",
    "        cols.append(col)  # stores the column name\n",
    "    df.dropna(inplace=True)  # gets rid of incomplete data rows\n",
    "    return df, cols"
   ]
  },
  {
   "cell_type": "code",
   "execution_count": 135,
   "metadata": {},
   "outputs": [],
   "source": [
    "Spread = make_Spread(data2,0)"
   ]
  },
  {
   "cell_type": "code",
   "execution_count": 152,
   "metadata": {},
   "outputs": [],
   "source": [
    "rics =[\n",
    "    'CLc1',\n",
    "    'LCOc1',\n",
    "    'OQc1'\n",
    "]\n",
    "OIL_d = ek.get_timeseries(rics,  # the RICs\n",
    "                         fields='CLOSE',  # the required fields\n",
    "                         start_date='2015-12-01',  # start date\n",
    "                         end_date='2020-05-11',\n",
    "                         interval='daily')  # end date"
   ]
  },
  {
   "cell_type": "code",
   "execution_count": 150,
   "metadata": {},
   "outputs": [],
   "source": [
    "OIL_m = ek.get_timeseries(rics,  # the RICs\n",
    "                         fields='CLOSE',  # the required fields\n",
    "                         start_date='2015-12-01',  # start date\n",
    "                         end_date='2020-05-11',\n",
    "                         interval='monthly')  # end date"
   ]
  },
  {
   "cell_type": "code",
   "execution_count": 153,
   "metadata": {},
   "outputs": [],
   "source": [
    "OIL_d.columns=['WTI','ICEブレント','ドバイ原油']\n",
    "OIL_m.columns=['WTI','ICEブレント','ドバイ原油']\n"
   ]
  },
  {
   "cell_type": "code",
   "execution_count": 160,
   "metadata": {},
   "outputs": [
    {
     "output_type": "error",
     "ename": "AttributeError",
     "evalue": "'Line2D' object has no property 'ytitle'",
     "traceback": [
      "\u001b[1;31m---------------------------------------------------------------------------\u001b[0m",
      "\u001b[1;31mAttributeError\u001b[0m                            Traceback (most recent call last)",
      "\u001b[1;32m<ipython-input-160-b83c05312b08>\u001b[0m in \u001b[0;36m<module>\u001b[1;34m\u001b[0m\n\u001b[1;32m----> 1\u001b[1;33m \u001b[0mOIL_m\u001b[0m\u001b[1;33m.\u001b[0m\u001b[0mdropna\u001b[0m\u001b[1;33m(\u001b[0m\u001b[0mhow\u001b[0m\u001b[1;33m=\u001b[0m\u001b[1;34m'any'\u001b[0m\u001b[1;33m)\u001b[0m\u001b[1;33m.\u001b[0m\u001b[0mplot\u001b[0m\u001b[1;33m(\u001b[0m\u001b[0myTitle\u001b[0m\u001b[1;33m=\u001b[0m\u001b[1;34m'USD/Bbl'\u001b[0m\u001b[1;33m)\u001b[0m\u001b[1;33m\u001b[0m\u001b[1;33m\u001b[0m\u001b[0m\n\u001b[0m",
      "\u001b[1;32mC:\\AnacondaEnvs\\envs\\py37\\lib\\site-packages\\pandas\\plotting\\_core.py\u001b[0m in \u001b[0;36m__call__\u001b[1;34m(self, *args, **kwargs)\u001b[0m\n\u001b[0;32m    845\u001b[0m                     \u001b[0mdata\u001b[0m\u001b[1;33m.\u001b[0m\u001b[0mcolumns\u001b[0m \u001b[1;33m=\u001b[0m \u001b[0mlabel_name\u001b[0m\u001b[1;33m\u001b[0m\u001b[1;33m\u001b[0m\u001b[0m\n\u001b[0;32m    846\u001b[0m \u001b[1;33m\u001b[0m\u001b[0m\n\u001b[1;32m--> 847\u001b[1;33m         \u001b[1;32mreturn\u001b[0m \u001b[0mplot_backend\u001b[0m\u001b[1;33m.\u001b[0m\u001b[0mplot\u001b[0m\u001b[1;33m(\u001b[0m\u001b[0mdata\u001b[0m\u001b[1;33m,\u001b[0m \u001b[0mkind\u001b[0m\u001b[1;33m=\u001b[0m\u001b[0mkind\u001b[0m\u001b[1;33m,\u001b[0m \u001b[1;33m**\u001b[0m\u001b[0mkwargs\u001b[0m\u001b[1;33m)\u001b[0m\u001b[1;33m\u001b[0m\u001b[1;33m\u001b[0m\u001b[0m\n\u001b[0m\u001b[0;32m    848\u001b[0m \u001b[1;33m\u001b[0m\u001b[0m\n\u001b[0;32m    849\u001b[0m     \u001b[0m__call__\u001b[0m\u001b[1;33m.\u001b[0m\u001b[0m__doc__\u001b[0m \u001b[1;33m=\u001b[0m \u001b[0m__doc__\u001b[0m\u001b[1;33m\u001b[0m\u001b[1;33m\u001b[0m\u001b[0m\n",
      "\u001b[1;32mC:\\AnacondaEnvs\\envs\\py37\\lib\\site-packages\\pandas\\plotting\\_matplotlib\\__init__.py\u001b[0m in \u001b[0;36mplot\u001b[1;34m(data, kind, **kwargs)\u001b[0m\n\u001b[0;32m     59\u001b[0m             \u001b[0mkwargs\u001b[0m\u001b[1;33m[\u001b[0m\u001b[1;34m\"ax\"\u001b[0m\u001b[1;33m]\u001b[0m \u001b[1;33m=\u001b[0m \u001b[0mgetattr\u001b[0m\u001b[1;33m(\u001b[0m\u001b[0max\u001b[0m\u001b[1;33m,\u001b[0m \u001b[1;34m\"left_ax\"\u001b[0m\u001b[1;33m,\u001b[0m \u001b[0max\u001b[0m\u001b[1;33m)\u001b[0m\u001b[1;33m\u001b[0m\u001b[1;33m\u001b[0m\u001b[0m\n\u001b[0;32m     60\u001b[0m     \u001b[0mplot_obj\u001b[0m \u001b[1;33m=\u001b[0m \u001b[0mPLOT_CLASSES\u001b[0m\u001b[1;33m[\u001b[0m\u001b[0mkind\u001b[0m\u001b[1;33m]\u001b[0m\u001b[1;33m(\u001b[0m\u001b[0mdata\u001b[0m\u001b[1;33m,\u001b[0m \u001b[1;33m**\u001b[0m\u001b[0mkwargs\u001b[0m\u001b[1;33m)\u001b[0m\u001b[1;33m\u001b[0m\u001b[1;33m\u001b[0m\u001b[0m\n\u001b[1;32m---> 61\u001b[1;33m     \u001b[0mplot_obj\u001b[0m\u001b[1;33m.\u001b[0m\u001b[0mgenerate\u001b[0m\u001b[1;33m(\u001b[0m\u001b[1;33m)\u001b[0m\u001b[1;33m\u001b[0m\u001b[1;33m\u001b[0m\u001b[0m\n\u001b[0m\u001b[0;32m     62\u001b[0m     \u001b[0mplot_obj\u001b[0m\u001b[1;33m.\u001b[0m\u001b[0mdraw\u001b[0m\u001b[1;33m(\u001b[0m\u001b[1;33m)\u001b[0m\u001b[1;33m\u001b[0m\u001b[1;33m\u001b[0m\u001b[0m\n\u001b[0;32m     63\u001b[0m     \u001b[1;32mreturn\u001b[0m \u001b[0mplot_obj\u001b[0m\u001b[1;33m.\u001b[0m\u001b[0mresult\u001b[0m\u001b[1;33m\u001b[0m\u001b[1;33m\u001b[0m\u001b[0m\n",
      "\u001b[1;32mC:\\AnacondaEnvs\\envs\\py37\\lib\\site-packages\\pandas\\plotting\\_matplotlib\\core.py\u001b[0m in \u001b[0;36mgenerate\u001b[1;34m(self)\u001b[0m\n\u001b[0;32m    261\u001b[0m         \u001b[0mself\u001b[0m\u001b[1;33m.\u001b[0m\u001b[0m_compute_plot_data\u001b[0m\u001b[1;33m(\u001b[0m\u001b[1;33m)\u001b[0m\u001b[1;33m\u001b[0m\u001b[1;33m\u001b[0m\u001b[0m\n\u001b[0;32m    262\u001b[0m         \u001b[0mself\u001b[0m\u001b[1;33m.\u001b[0m\u001b[0m_setup_subplots\u001b[0m\u001b[1;33m(\u001b[0m\u001b[1;33m)\u001b[0m\u001b[1;33m\u001b[0m\u001b[1;33m\u001b[0m\u001b[0m\n\u001b[1;32m--> 263\u001b[1;33m         \u001b[0mself\u001b[0m\u001b[1;33m.\u001b[0m\u001b[0m_make_plot\u001b[0m\u001b[1;33m(\u001b[0m\u001b[1;33m)\u001b[0m\u001b[1;33m\u001b[0m\u001b[1;33m\u001b[0m\u001b[0m\n\u001b[0m\u001b[0;32m    264\u001b[0m         \u001b[0mself\u001b[0m\u001b[1;33m.\u001b[0m\u001b[0m_add_table\u001b[0m\u001b[1;33m(\u001b[0m\u001b[1;33m)\u001b[0m\u001b[1;33m\u001b[0m\u001b[1;33m\u001b[0m\u001b[0m\n\u001b[0;32m    265\u001b[0m         \u001b[0mself\u001b[0m\u001b[1;33m.\u001b[0m\u001b[0m_make_legend\u001b[0m\u001b[1;33m(\u001b[0m\u001b[1;33m)\u001b[0m\u001b[1;33m\u001b[0m\u001b[1;33m\u001b[0m\u001b[0m\n",
      "\u001b[1;32mC:\\AnacondaEnvs\\envs\\py37\\lib\\site-packages\\pandas\\plotting\\_matplotlib\\core.py\u001b[0m in \u001b[0;36m_make_plot\u001b[1;34m(self)\u001b[0m\n\u001b[0;32m   1083\u001b[0m                 \u001b[0mstacking_id\u001b[0m\u001b[1;33m=\u001b[0m\u001b[0mstacking_id\u001b[0m\u001b[1;33m,\u001b[0m\u001b[1;33m\u001b[0m\u001b[1;33m\u001b[0m\u001b[0m\n\u001b[0;32m   1084\u001b[0m                 \u001b[0mis_errorbar\u001b[0m\u001b[1;33m=\u001b[0m\u001b[0mis_errorbar\u001b[0m\u001b[1;33m,\u001b[0m\u001b[1;33m\u001b[0m\u001b[1;33m\u001b[0m\u001b[0m\n\u001b[1;32m-> 1085\u001b[1;33m                 \u001b[1;33m**\u001b[0m\u001b[0mkwds\u001b[0m\u001b[1;33m,\u001b[0m\u001b[1;33m\u001b[0m\u001b[1;33m\u001b[0m\u001b[0m\n\u001b[0m\u001b[0;32m   1086\u001b[0m             )\n\u001b[0;32m   1087\u001b[0m             \u001b[0mself\u001b[0m\u001b[1;33m.\u001b[0m\u001b[0m_add_legend_handle\u001b[0m\u001b[1;33m(\u001b[0m\u001b[0mnewlines\u001b[0m\u001b[1;33m[\u001b[0m\u001b[1;36m0\u001b[0m\u001b[1;33m]\u001b[0m\u001b[1;33m,\u001b[0m \u001b[0mlabel\u001b[0m\u001b[1;33m,\u001b[0m \u001b[0mindex\u001b[0m\u001b[1;33m=\u001b[0m\u001b[0mi\u001b[0m\u001b[1;33m)\u001b[0m\u001b[1;33m\u001b[0m\u001b[1;33m\u001b[0m\u001b[0m\n",
      "\u001b[1;32mC:\\AnacondaEnvs\\envs\\py37\\lib\\site-packages\\pandas\\plotting\\_matplotlib\\core.py\u001b[0m in \u001b[0;36m_ts_plot\u001b[1;34m(cls, ax, x, data, style, **kwds)\u001b[0m\n\u001b[0;32m   1128\u001b[0m         \u001b[0max\u001b[0m\u001b[1;33m.\u001b[0m\u001b[0m_plot_data\u001b[0m\u001b[1;33m.\u001b[0m\u001b[0mappend\u001b[0m\u001b[1;33m(\u001b[0m\u001b[1;33m(\u001b[0m\u001b[0mdata\u001b[0m\u001b[1;33m,\u001b[0m \u001b[0mcls\u001b[0m\u001b[1;33m.\u001b[0m\u001b[0m_kind\u001b[0m\u001b[1;33m,\u001b[0m \u001b[0mkwds\u001b[0m\u001b[1;33m)\u001b[0m\u001b[1;33m)\u001b[0m\u001b[1;33m\u001b[0m\u001b[1;33m\u001b[0m\u001b[0m\n\u001b[0;32m   1129\u001b[0m \u001b[1;33m\u001b[0m\u001b[0m\n\u001b[1;32m-> 1130\u001b[1;33m         \u001b[0mlines\u001b[0m \u001b[1;33m=\u001b[0m \u001b[0mcls\u001b[0m\u001b[1;33m.\u001b[0m\u001b[0m_plot\u001b[0m\u001b[1;33m(\u001b[0m\u001b[0max\u001b[0m\u001b[1;33m,\u001b[0m \u001b[0mdata\u001b[0m\u001b[1;33m.\u001b[0m\u001b[0mindex\u001b[0m\u001b[1;33m,\u001b[0m \u001b[0mdata\u001b[0m\u001b[1;33m.\u001b[0m\u001b[0mvalues\u001b[0m\u001b[1;33m,\u001b[0m \u001b[0mstyle\u001b[0m\u001b[1;33m=\u001b[0m\u001b[0mstyle\u001b[0m\u001b[1;33m,\u001b[0m \u001b[1;33m**\u001b[0m\u001b[0mkwds\u001b[0m\u001b[1;33m)\u001b[0m\u001b[1;33m\u001b[0m\u001b[1;33m\u001b[0m\u001b[0m\n\u001b[0m\u001b[0;32m   1131\u001b[0m         \u001b[1;31m# set date formatter, locators and rescale limits\u001b[0m\u001b[1;33m\u001b[0m\u001b[1;33m\u001b[0m\u001b[1;33m\u001b[0m\u001b[0m\n\u001b[0;32m   1132\u001b[0m         \u001b[0mformat_dateaxis\u001b[0m\u001b[1;33m(\u001b[0m\u001b[0max\u001b[0m\u001b[1;33m,\u001b[0m \u001b[0max\u001b[0m\u001b[1;33m.\u001b[0m\u001b[0mfreq\u001b[0m\u001b[1;33m,\u001b[0m \u001b[0mdata\u001b[0m\u001b[1;33m.\u001b[0m\u001b[0mindex\u001b[0m\u001b[1;33m)\u001b[0m\u001b[1;33m\u001b[0m\u001b[1;33m\u001b[0m\u001b[0m\n",
      "\u001b[1;32mC:\\AnacondaEnvs\\envs\\py37\\lib\\site-packages\\pandas\\plotting\\_matplotlib\\core.py\u001b[0m in \u001b[0;36m_plot\u001b[1;34m(cls, ax, x, y, style, column_num, stacking_id, **kwds)\u001b[0m\n\u001b[0;32m   1102\u001b[0m             \u001b[0mcls\u001b[0m\u001b[1;33m.\u001b[0m\u001b[0m_initialize_stacker\u001b[0m\u001b[1;33m(\u001b[0m\u001b[0max\u001b[0m\u001b[1;33m,\u001b[0m \u001b[0mstacking_id\u001b[0m\u001b[1;33m,\u001b[0m \u001b[0mlen\u001b[0m\u001b[1;33m(\u001b[0m\u001b[0my\u001b[0m\u001b[1;33m)\u001b[0m\u001b[1;33m)\u001b[0m\u001b[1;33m\u001b[0m\u001b[1;33m\u001b[0m\u001b[0m\n\u001b[0;32m   1103\u001b[0m         \u001b[0my_values\u001b[0m \u001b[1;33m=\u001b[0m \u001b[0mcls\u001b[0m\u001b[1;33m.\u001b[0m\u001b[0m_get_stacked_values\u001b[0m\u001b[1;33m(\u001b[0m\u001b[0max\u001b[0m\u001b[1;33m,\u001b[0m \u001b[0mstacking_id\u001b[0m\u001b[1;33m,\u001b[0m \u001b[0my\u001b[0m\u001b[1;33m,\u001b[0m \u001b[0mkwds\u001b[0m\u001b[1;33m[\u001b[0m\u001b[1;34m\"label\"\u001b[0m\u001b[1;33m]\u001b[0m\u001b[1;33m)\u001b[0m\u001b[1;33m\u001b[0m\u001b[1;33m\u001b[0m\u001b[0m\n\u001b[1;32m-> 1104\u001b[1;33m         \u001b[0mlines\u001b[0m \u001b[1;33m=\u001b[0m \u001b[0mMPLPlot\u001b[0m\u001b[1;33m.\u001b[0m\u001b[0m_plot\u001b[0m\u001b[1;33m(\u001b[0m\u001b[0max\u001b[0m\u001b[1;33m,\u001b[0m \u001b[0mx\u001b[0m\u001b[1;33m,\u001b[0m \u001b[0my_values\u001b[0m\u001b[1;33m,\u001b[0m \u001b[0mstyle\u001b[0m\u001b[1;33m=\u001b[0m\u001b[0mstyle\u001b[0m\u001b[1;33m,\u001b[0m \u001b[1;33m**\u001b[0m\u001b[0mkwds\u001b[0m\u001b[1;33m)\u001b[0m\u001b[1;33m\u001b[0m\u001b[1;33m\u001b[0m\u001b[0m\n\u001b[0m\u001b[0;32m   1105\u001b[0m         \u001b[0mcls\u001b[0m\u001b[1;33m.\u001b[0m\u001b[0m_update_stacker\u001b[0m\u001b[1;33m(\u001b[0m\u001b[0max\u001b[0m\u001b[1;33m,\u001b[0m \u001b[0mstacking_id\u001b[0m\u001b[1;33m,\u001b[0m \u001b[0my\u001b[0m\u001b[1;33m)\u001b[0m\u001b[1;33m\u001b[0m\u001b[1;33m\u001b[0m\u001b[0m\n\u001b[0;32m   1106\u001b[0m         \u001b[1;32mreturn\u001b[0m \u001b[0mlines\u001b[0m\u001b[1;33m\u001b[0m\u001b[1;33m\u001b[0m\u001b[0m\n",
      "\u001b[1;32mC:\\AnacondaEnvs\\envs\\py37\\lib\\site-packages\\pandas\\plotting\\_matplotlib\\converter.py\u001b[0m in \u001b[0;36mwrapper\u001b[1;34m(*args, **kwargs)\u001b[0m\n\u001b[0;32m     64\u001b[0m     \u001b[1;32mdef\u001b[0m \u001b[0mwrapper\u001b[0m\u001b[1;33m(\u001b[0m\u001b[1;33m*\u001b[0m\u001b[0margs\u001b[0m\u001b[1;33m,\u001b[0m \u001b[1;33m**\u001b[0m\u001b[0mkwargs\u001b[0m\u001b[1;33m)\u001b[0m\u001b[1;33m:\u001b[0m\u001b[1;33m\u001b[0m\u001b[1;33m\u001b[0m\u001b[0m\n\u001b[0;32m     65\u001b[0m         \u001b[1;32mwith\u001b[0m \u001b[0mpandas_converters\u001b[0m\u001b[1;33m(\u001b[0m\u001b[1;33m)\u001b[0m\u001b[1;33m:\u001b[0m\u001b[1;33m\u001b[0m\u001b[1;33m\u001b[0m\u001b[0m\n\u001b[1;32m---> 66\u001b[1;33m             \u001b[1;32mreturn\u001b[0m \u001b[0mfunc\u001b[0m\u001b[1;33m(\u001b[0m\u001b[1;33m*\u001b[0m\u001b[0margs\u001b[0m\u001b[1;33m,\u001b[0m \u001b[1;33m**\u001b[0m\u001b[0mkwargs\u001b[0m\u001b[1;33m)\u001b[0m\u001b[1;33m\u001b[0m\u001b[1;33m\u001b[0m\u001b[0m\n\u001b[0m\u001b[0;32m     67\u001b[0m \u001b[1;33m\u001b[0m\u001b[0m\n\u001b[0;32m     68\u001b[0m     \u001b[1;32mreturn\u001b[0m \u001b[0mwrapper\u001b[0m\u001b[1;33m\u001b[0m\u001b[1;33m\u001b[0m\u001b[0m\n",
      "\u001b[1;32mC:\\AnacondaEnvs\\envs\\py37\\lib\\site-packages\\pandas\\plotting\\_matplotlib\\core.py\u001b[0m in \u001b[0;36m_plot\u001b[1;34m(cls, ax, x, y, style, is_errorbar, **kwds)\u001b[0m\n\u001b[0;32m    654\u001b[0m             \u001b[1;32melse\u001b[0m\u001b[1;33m:\u001b[0m\u001b[1;33m\u001b[0m\u001b[1;33m\u001b[0m\u001b[0m\n\u001b[0;32m    655\u001b[0m                 \u001b[0margs\u001b[0m \u001b[1;33m=\u001b[0m \u001b[1;33m(\u001b[0m\u001b[0mx\u001b[0m\u001b[1;33m,\u001b[0m \u001b[0my\u001b[0m\u001b[1;33m)\u001b[0m\u001b[1;33m\u001b[0m\u001b[1;33m\u001b[0m\u001b[0m\n\u001b[1;32m--> 656\u001b[1;33m             \u001b[1;32mreturn\u001b[0m \u001b[0max\u001b[0m\u001b[1;33m.\u001b[0m\u001b[0mplot\u001b[0m\u001b[1;33m(\u001b[0m\u001b[1;33m*\u001b[0m\u001b[0margs\u001b[0m\u001b[1;33m,\u001b[0m \u001b[1;33m**\u001b[0m\u001b[0mkwds\u001b[0m\u001b[1;33m)\u001b[0m\u001b[1;33m\u001b[0m\u001b[1;33m\u001b[0m\u001b[0m\n\u001b[0m\u001b[0;32m    657\u001b[0m \u001b[1;33m\u001b[0m\u001b[0m\n\u001b[0;32m    658\u001b[0m     \u001b[1;32mdef\u001b[0m \u001b[0m_get_index_name\u001b[0m\u001b[1;33m(\u001b[0m\u001b[0mself\u001b[0m\u001b[1;33m)\u001b[0m\u001b[1;33m:\u001b[0m\u001b[1;33m\u001b[0m\u001b[1;33m\u001b[0m\u001b[0m\n",
      "\u001b[1;32mC:\\AnacondaEnvs\\envs\\py37\\lib\\site-packages\\matplotlib\\axes\\_axes.py\u001b[0m in \u001b[0;36mplot\u001b[1;34m(self, scalex, scaley, data, *args, **kwargs)\u001b[0m\n\u001b[0;32m   1663\u001b[0m         \"\"\"\n\u001b[0;32m   1664\u001b[0m         \u001b[0mkwargs\u001b[0m \u001b[1;33m=\u001b[0m \u001b[0mcbook\u001b[0m\u001b[1;33m.\u001b[0m\u001b[0mnormalize_kwargs\u001b[0m\u001b[1;33m(\u001b[0m\u001b[0mkwargs\u001b[0m\u001b[1;33m,\u001b[0m \u001b[0mmlines\u001b[0m\u001b[1;33m.\u001b[0m\u001b[0mLine2D\u001b[0m\u001b[1;33m.\u001b[0m\u001b[0m_alias_map\u001b[0m\u001b[1;33m)\u001b[0m\u001b[1;33m\u001b[0m\u001b[1;33m\u001b[0m\u001b[0m\n\u001b[1;32m-> 1665\u001b[1;33m         \u001b[0mlines\u001b[0m \u001b[1;33m=\u001b[0m \u001b[1;33m[\u001b[0m\u001b[1;33m*\u001b[0m\u001b[0mself\u001b[0m\u001b[1;33m.\u001b[0m\u001b[0m_get_lines\u001b[0m\u001b[1;33m(\u001b[0m\u001b[1;33m*\u001b[0m\u001b[0margs\u001b[0m\u001b[1;33m,\u001b[0m \u001b[0mdata\u001b[0m\u001b[1;33m=\u001b[0m\u001b[0mdata\u001b[0m\u001b[1;33m,\u001b[0m \u001b[1;33m**\u001b[0m\u001b[0mkwargs\u001b[0m\u001b[1;33m)\u001b[0m\u001b[1;33m]\u001b[0m\u001b[1;33m\u001b[0m\u001b[1;33m\u001b[0m\u001b[0m\n\u001b[0m\u001b[0;32m   1666\u001b[0m         \u001b[1;32mfor\u001b[0m \u001b[0mline\u001b[0m \u001b[1;32min\u001b[0m \u001b[0mlines\u001b[0m\u001b[1;33m:\u001b[0m\u001b[1;33m\u001b[0m\u001b[1;33m\u001b[0m\u001b[0m\n\u001b[0;32m   1667\u001b[0m             \u001b[0mself\u001b[0m\u001b[1;33m.\u001b[0m\u001b[0madd_line\u001b[0m\u001b[1;33m(\u001b[0m\u001b[0mline\u001b[0m\u001b[1;33m)\u001b[0m\u001b[1;33m\u001b[0m\u001b[1;33m\u001b[0m\u001b[0m\n",
      "\u001b[1;32mC:\\AnacondaEnvs\\envs\\py37\\lib\\site-packages\\matplotlib\\axes\\_base.py\u001b[0m in \u001b[0;36m__call__\u001b[1;34m(self, *args, **kwargs)\u001b[0m\n\u001b[0;32m    223\u001b[0m                 \u001b[0mthis\u001b[0m \u001b[1;33m+=\u001b[0m \u001b[0margs\u001b[0m\u001b[1;33m[\u001b[0m\u001b[1;36m0\u001b[0m\u001b[1;33m]\u001b[0m\u001b[1;33m,\u001b[0m\u001b[1;33m\u001b[0m\u001b[1;33m\u001b[0m\u001b[0m\n\u001b[0;32m    224\u001b[0m                 \u001b[0margs\u001b[0m \u001b[1;33m=\u001b[0m \u001b[0margs\u001b[0m\u001b[1;33m[\u001b[0m\u001b[1;36m1\u001b[0m\u001b[1;33m:\u001b[0m\u001b[1;33m]\u001b[0m\u001b[1;33m\u001b[0m\u001b[1;33m\u001b[0m\u001b[0m\n\u001b[1;32m--> 225\u001b[1;33m             \u001b[1;32myield\u001b[0m \u001b[1;32mfrom\u001b[0m \u001b[0mself\u001b[0m\u001b[1;33m.\u001b[0m\u001b[0m_plot_args\u001b[0m\u001b[1;33m(\u001b[0m\u001b[0mthis\u001b[0m\u001b[1;33m,\u001b[0m \u001b[0mkwargs\u001b[0m\u001b[1;33m)\u001b[0m\u001b[1;33m\u001b[0m\u001b[1;33m\u001b[0m\u001b[0m\n\u001b[0m\u001b[0;32m    226\u001b[0m \u001b[1;33m\u001b[0m\u001b[0m\n\u001b[0;32m    227\u001b[0m     \u001b[1;32mdef\u001b[0m \u001b[0mget_next_color\u001b[0m\u001b[1;33m(\u001b[0m\u001b[0mself\u001b[0m\u001b[1;33m)\u001b[0m\u001b[1;33m:\u001b[0m\u001b[1;33m\u001b[0m\u001b[1;33m\u001b[0m\u001b[0m\n",
      "\u001b[1;32mC:\\AnacondaEnvs\\envs\\py37\\lib\\site-packages\\matplotlib\\axes\\_base.py\u001b[0m in \u001b[0;36m_plot_args\u001b[1;34m(self, tup, kwargs)\u001b[0m\n\u001b[0;32m    403\u001b[0m                 \"non-matching shapes is deprecated.\")\n\u001b[0;32m    404\u001b[0m         \u001b[1;32mfor\u001b[0m \u001b[0mj\u001b[0m \u001b[1;32min\u001b[0m \u001b[0mrange\u001b[0m\u001b[1;33m(\u001b[0m\u001b[0mmax\u001b[0m\u001b[1;33m(\u001b[0m\u001b[0mncx\u001b[0m\u001b[1;33m,\u001b[0m \u001b[0mncy\u001b[0m\u001b[1;33m)\u001b[0m\u001b[1;33m)\u001b[0m\u001b[1;33m:\u001b[0m\u001b[1;33m\u001b[0m\u001b[1;33m\u001b[0m\u001b[0m\n\u001b[1;32m--> 405\u001b[1;33m             \u001b[0mseg\u001b[0m \u001b[1;33m=\u001b[0m \u001b[0mfunc\u001b[0m\u001b[1;33m(\u001b[0m\u001b[0mx\u001b[0m\u001b[1;33m[\u001b[0m\u001b[1;33m:\u001b[0m\u001b[1;33m,\u001b[0m \u001b[0mj\u001b[0m \u001b[1;33m%\u001b[0m \u001b[0mncx\u001b[0m\u001b[1;33m]\u001b[0m\u001b[1;33m,\u001b[0m \u001b[0my\u001b[0m\u001b[1;33m[\u001b[0m\u001b[1;33m:\u001b[0m\u001b[1;33m,\u001b[0m \u001b[0mj\u001b[0m \u001b[1;33m%\u001b[0m \u001b[0mncy\u001b[0m\u001b[1;33m]\u001b[0m\u001b[1;33m,\u001b[0m \u001b[0mkw\u001b[0m\u001b[1;33m,\u001b[0m \u001b[0mkwargs\u001b[0m\u001b[1;33m)\u001b[0m\u001b[1;33m\u001b[0m\u001b[1;33m\u001b[0m\u001b[0m\n\u001b[0m\u001b[0;32m    406\u001b[0m             \u001b[0mret\u001b[0m\u001b[1;33m.\u001b[0m\u001b[0mappend\u001b[0m\u001b[1;33m(\u001b[0m\u001b[0mseg\u001b[0m\u001b[1;33m)\u001b[0m\u001b[1;33m\u001b[0m\u001b[1;33m\u001b[0m\u001b[0m\n\u001b[0;32m    407\u001b[0m         \u001b[1;32mreturn\u001b[0m \u001b[0mret\u001b[0m\u001b[1;33m\u001b[0m\u001b[1;33m\u001b[0m\u001b[0m\n",
      "\u001b[1;32mC:\\AnacondaEnvs\\envs\\py37\\lib\\site-packages\\matplotlib\\axes\\_base.py\u001b[0m in \u001b[0;36m_makeline\u001b[1;34m(self, x, y, kw, kwargs)\u001b[0m\n\u001b[0;32m    310\u001b[0m         \u001b[0mdefault_dict\u001b[0m \u001b[1;33m=\u001b[0m \u001b[0mself\u001b[0m\u001b[1;33m.\u001b[0m\u001b[0m_getdefaults\u001b[0m\u001b[1;33m(\u001b[0m\u001b[0mset\u001b[0m\u001b[1;33m(\u001b[0m\u001b[1;33m)\u001b[0m\u001b[1;33m,\u001b[0m \u001b[0mkw\u001b[0m\u001b[1;33m)\u001b[0m\u001b[1;33m\u001b[0m\u001b[1;33m\u001b[0m\u001b[0m\n\u001b[0;32m    311\u001b[0m         \u001b[0mself\u001b[0m\u001b[1;33m.\u001b[0m\u001b[0m_setdefaults\u001b[0m\u001b[1;33m(\u001b[0m\u001b[0mdefault_dict\u001b[0m\u001b[1;33m,\u001b[0m \u001b[0mkw\u001b[0m\u001b[1;33m)\u001b[0m\u001b[1;33m\u001b[0m\u001b[1;33m\u001b[0m\u001b[0m\n\u001b[1;32m--> 312\u001b[1;33m         \u001b[0mseg\u001b[0m \u001b[1;33m=\u001b[0m \u001b[0mmlines\u001b[0m\u001b[1;33m.\u001b[0m\u001b[0mLine2D\u001b[0m\u001b[1;33m(\u001b[0m\u001b[0mx\u001b[0m\u001b[1;33m,\u001b[0m \u001b[0my\u001b[0m\u001b[1;33m,\u001b[0m \u001b[1;33m**\u001b[0m\u001b[0mkw\u001b[0m\u001b[1;33m)\u001b[0m\u001b[1;33m\u001b[0m\u001b[1;33m\u001b[0m\u001b[0m\n\u001b[0m\u001b[0;32m    313\u001b[0m         \u001b[1;32mreturn\u001b[0m \u001b[0mseg\u001b[0m\u001b[1;33m\u001b[0m\u001b[1;33m\u001b[0m\u001b[0m\n\u001b[0;32m    314\u001b[0m \u001b[1;33m\u001b[0m\u001b[0m\n",
      "\u001b[1;32mC:\\AnacondaEnvs\\envs\\py37\\lib\\site-packages\\matplotlib\\lines.py\u001b[0m in \u001b[0;36m__init__\u001b[1;34m(self, xdata, ydata, linewidth, linestyle, color, marker, markersize, markeredgewidth, markeredgecolor, markerfacecolor, markerfacecoloralt, fillstyle, antialiased, dash_capstyle, solid_capstyle, dash_joinstyle, solid_joinstyle, pickradius, drawstyle, markevery, **kwargs)\u001b[0m\n\u001b[0;32m    402\u001b[0m         \u001b[1;31m# update kwargs before updating data to give the caller a\u001b[0m\u001b[1;33m\u001b[0m\u001b[1;33m\u001b[0m\u001b[1;33m\u001b[0m\u001b[0m\n\u001b[0;32m    403\u001b[0m         \u001b[1;31m# chance to init axes (and hence unit support)\u001b[0m\u001b[1;33m\u001b[0m\u001b[1;33m\u001b[0m\u001b[1;33m\u001b[0m\u001b[0m\n\u001b[1;32m--> 404\u001b[1;33m         \u001b[0mself\u001b[0m\u001b[1;33m.\u001b[0m\u001b[0mupdate\u001b[0m\u001b[1;33m(\u001b[0m\u001b[0mkwargs\u001b[0m\u001b[1;33m)\u001b[0m\u001b[1;33m\u001b[0m\u001b[1;33m\u001b[0m\u001b[0m\n\u001b[0m\u001b[0;32m    405\u001b[0m         \u001b[0mself\u001b[0m\u001b[1;33m.\u001b[0m\u001b[0mpickradius\u001b[0m \u001b[1;33m=\u001b[0m \u001b[0mpickradius\u001b[0m\u001b[1;33m\u001b[0m\u001b[1;33m\u001b[0m\u001b[0m\n\u001b[0;32m    406\u001b[0m         \u001b[0mself\u001b[0m\u001b[1;33m.\u001b[0m\u001b[0mind_offset\u001b[0m \u001b[1;33m=\u001b[0m \u001b[1;36m0\u001b[0m\u001b[1;33m\u001b[0m\u001b[1;33m\u001b[0m\u001b[0m\n",
      "\u001b[1;32mC:\\AnacondaEnvs\\envs\\py37\\lib\\site-packages\\matplotlib\\artist.py\u001b[0m in \u001b[0;36mupdate\u001b[1;34m(self, props)\u001b[0m\n\u001b[0;32m    972\u001b[0m \u001b[1;33m\u001b[0m\u001b[0m\n\u001b[0;32m    973\u001b[0m         \u001b[1;32mwith\u001b[0m \u001b[0mcbook\u001b[0m\u001b[1;33m.\u001b[0m\u001b[0m_setattr_cm\u001b[0m\u001b[1;33m(\u001b[0m\u001b[0mself\u001b[0m\u001b[1;33m,\u001b[0m \u001b[0meventson\u001b[0m\u001b[1;33m=\u001b[0m\u001b[1;32mFalse\u001b[0m\u001b[1;33m)\u001b[0m\u001b[1;33m:\u001b[0m\u001b[1;33m\u001b[0m\u001b[1;33m\u001b[0m\u001b[0m\n\u001b[1;32m--> 974\u001b[1;33m             \u001b[0mret\u001b[0m \u001b[1;33m=\u001b[0m \u001b[1;33m[\u001b[0m\u001b[0m_update_property\u001b[0m\u001b[1;33m(\u001b[0m\u001b[0mself\u001b[0m\u001b[1;33m,\u001b[0m \u001b[0mk\u001b[0m\u001b[1;33m,\u001b[0m \u001b[0mv\u001b[0m\u001b[1;33m)\u001b[0m \u001b[1;32mfor\u001b[0m \u001b[0mk\u001b[0m\u001b[1;33m,\u001b[0m \u001b[0mv\u001b[0m \u001b[1;32min\u001b[0m \u001b[0mprops\u001b[0m\u001b[1;33m.\u001b[0m\u001b[0mitems\u001b[0m\u001b[1;33m(\u001b[0m\u001b[1;33m)\u001b[0m\u001b[1;33m]\u001b[0m\u001b[1;33m\u001b[0m\u001b[1;33m\u001b[0m\u001b[0m\n\u001b[0m\u001b[0;32m    975\u001b[0m \u001b[1;33m\u001b[0m\u001b[0m\n\u001b[0;32m    976\u001b[0m         \u001b[1;32mif\u001b[0m \u001b[0mlen\u001b[0m\u001b[1;33m(\u001b[0m\u001b[0mret\u001b[0m\u001b[1;33m)\u001b[0m\u001b[1;33m:\u001b[0m\u001b[1;33m\u001b[0m\u001b[1;33m\u001b[0m\u001b[0m\n",
      "\u001b[1;32mC:\\AnacondaEnvs\\envs\\py37\\lib\\site-packages\\matplotlib\\artist.py\u001b[0m in \u001b[0;36m<listcomp>\u001b[1;34m(.0)\u001b[0m\n\u001b[0;32m    972\u001b[0m \u001b[1;33m\u001b[0m\u001b[0m\n\u001b[0;32m    973\u001b[0m         \u001b[1;32mwith\u001b[0m \u001b[0mcbook\u001b[0m\u001b[1;33m.\u001b[0m\u001b[0m_setattr_cm\u001b[0m\u001b[1;33m(\u001b[0m\u001b[0mself\u001b[0m\u001b[1;33m,\u001b[0m \u001b[0meventson\u001b[0m\u001b[1;33m=\u001b[0m\u001b[1;32mFalse\u001b[0m\u001b[1;33m)\u001b[0m\u001b[1;33m:\u001b[0m\u001b[1;33m\u001b[0m\u001b[1;33m\u001b[0m\u001b[0m\n\u001b[1;32m--> 974\u001b[1;33m             \u001b[0mret\u001b[0m \u001b[1;33m=\u001b[0m \u001b[1;33m[\u001b[0m\u001b[0m_update_property\u001b[0m\u001b[1;33m(\u001b[0m\u001b[0mself\u001b[0m\u001b[1;33m,\u001b[0m \u001b[0mk\u001b[0m\u001b[1;33m,\u001b[0m \u001b[0mv\u001b[0m\u001b[1;33m)\u001b[0m \u001b[1;32mfor\u001b[0m \u001b[0mk\u001b[0m\u001b[1;33m,\u001b[0m \u001b[0mv\u001b[0m \u001b[1;32min\u001b[0m \u001b[0mprops\u001b[0m\u001b[1;33m.\u001b[0m\u001b[0mitems\u001b[0m\u001b[1;33m(\u001b[0m\u001b[1;33m)\u001b[0m\u001b[1;33m]\u001b[0m\u001b[1;33m\u001b[0m\u001b[1;33m\u001b[0m\u001b[0m\n\u001b[0m\u001b[0;32m    975\u001b[0m \u001b[1;33m\u001b[0m\u001b[0m\n\u001b[0;32m    976\u001b[0m         \u001b[1;32mif\u001b[0m \u001b[0mlen\u001b[0m\u001b[1;33m(\u001b[0m\u001b[0mret\u001b[0m\u001b[1;33m)\u001b[0m\u001b[1;33m:\u001b[0m\u001b[1;33m\u001b[0m\u001b[1;33m\u001b[0m\u001b[0m\n",
      "\u001b[1;32mC:\\AnacondaEnvs\\envs\\py37\\lib\\site-packages\\matplotlib\\artist.py\u001b[0m in \u001b[0;36m_update_property\u001b[1;34m(self, k, v)\u001b[0m\n\u001b[0;32m    968\u001b[0m                 \u001b[1;32mif\u001b[0m \u001b[1;32mnot\u001b[0m \u001b[0mcallable\u001b[0m\u001b[1;33m(\u001b[0m\u001b[0mfunc\u001b[0m\u001b[1;33m)\u001b[0m\u001b[1;33m:\u001b[0m\u001b[1;33m\u001b[0m\u001b[1;33m\u001b[0m\u001b[0m\n\u001b[0;32m    969\u001b[0m                     raise AttributeError('{!r} object has no property {!r}'\n\u001b[1;32m--> 970\u001b[1;33m                                          .format(type(self).__name__, k))\n\u001b[0m\u001b[0;32m    971\u001b[0m                 \u001b[1;32mreturn\u001b[0m \u001b[0mfunc\u001b[0m\u001b[1;33m(\u001b[0m\u001b[0mv\u001b[0m\u001b[1;33m)\u001b[0m\u001b[1;33m\u001b[0m\u001b[1;33m\u001b[0m\u001b[0m\n\u001b[0;32m    972\u001b[0m \u001b[1;33m\u001b[0m\u001b[0m\n",
      "\u001b[1;31mAttributeError\u001b[0m: 'Line2D' object has no property 'ytitle'"
     ]
    }
   ],
   "source": [
    "OIL_m.dropna(how='any').plot(yTitle='USD/Bbl')"
   ]
  },
  {
   "cell_type": "code",
   "execution_count": 185,
   "metadata": {},
   "outputs": [
    {
     "output_type": "display_data",
     "data": {
      "application/vnd.plotly.v1+json": {
       "config": {
        "linkText": "Export to plot.ly",
        "plotlyServerURL": "https://plot.ly",
        "showLink": true
       },
       "data": [
        {
         "line": {
          "color": "black",
          "dash": "solid",
          "shape": "linear",
          "width": 3
         },
         "mode": "lines",
         "name": "WTI",
         "text": "",
         "type": "scatter",
         "x": [
          "2015-12-31",
          "2016-01-31",
          "2016-02-29",
          "2016-03-31",
          "2016-04-30",
          "2016-05-31",
          "2016-06-30",
          "2016-07-31",
          "2016-08-31",
          "2016-09-30",
          "2016-10-31",
          "2016-11-30",
          "2016-12-31",
          "2017-01-31",
          "2017-02-28",
          "2017-03-31",
          "2017-04-30",
          "2017-05-31",
          "2017-06-30",
          "2017-07-31",
          "2017-08-31",
          "2017-09-30",
          "2017-10-31",
          "2017-11-30",
          "2017-12-31",
          "2018-01-31",
          "2018-02-28",
          "2018-03-31",
          "2018-04-30",
          "2018-05-31",
          "2018-06-30",
          "2018-07-31",
          "2018-08-31",
          "2018-09-30",
          "2018-10-31",
          "2018-11-30",
          "2018-12-31",
          "2019-01-31",
          "2019-02-28",
          "2019-03-31",
          "2019-04-30",
          "2019-05-31",
          "2019-06-30",
          "2019-07-31",
          "2019-08-31",
          "2019-09-30",
          "2019-10-31",
          "2019-11-30",
          "2019-12-31",
          "2020-01-31",
          "2020-02-29",
          "2020-03-31",
          "2020-04-30"
         ],
         "y": [
          37.04,
          33.62,
          33.75,
          38.34,
          45.92,
          49.1,
          48.33,
          41.6,
          44.7,
          48.24,
          46.86,
          49.44,
          53.72,
          52.81,
          54.01,
          50.6,
          49.33,
          48.32,
          46.04,
          50.17,
          47.23,
          51.67,
          54.38,
          57.4,
          60.42,
          64.73,
          61.64,
          64.94,
          68.57,
          67.04,
          74.15,
          68.76,
          69.8,
          73.25,
          65.31,
          50.93,
          45.41,
          53.79,
          57.22,
          60.14,
          63.91,
          53.5,
          58.47,
          58.58,
          55.1,
          54.07,
          54.18,
          55.17,
          61.06,
          51.56,
          44.76,
          20.48,
          18.84
         ]
        },
        {
         "line": {
          "color": "#607D8B",
          "dash": "solid",
          "shape": "linear",
          "width": 1
         },
         "mode": "lines",
         "name": "ICEブレント",
         "text": "",
         "type": "scatter",
         "x": [
          "2015-12-31",
          "2016-01-31",
          "2016-02-29",
          "2016-03-31",
          "2016-04-30",
          "2016-05-31",
          "2016-06-30",
          "2016-07-31",
          "2016-08-31",
          "2016-09-30",
          "2016-10-31",
          "2016-11-30",
          "2016-12-31",
          "2017-01-31",
          "2017-02-28",
          "2017-03-31",
          "2017-04-30",
          "2017-05-31",
          "2017-06-30",
          "2017-07-31",
          "2017-08-31",
          "2017-09-30",
          "2017-10-31",
          "2017-11-30",
          "2017-12-31",
          "2018-01-31",
          "2018-02-28",
          "2018-03-31",
          "2018-04-30",
          "2018-05-31",
          "2018-06-30",
          "2018-07-31",
          "2018-08-31",
          "2018-09-30",
          "2018-10-31",
          "2018-11-30",
          "2018-12-31",
          "2019-01-31",
          "2019-02-28",
          "2019-03-31",
          "2019-04-30",
          "2019-05-31",
          "2019-06-30",
          "2019-07-31",
          "2019-08-31",
          "2019-09-30",
          "2019-10-31",
          "2019-11-30",
          "2019-12-31",
          "2020-01-31",
          "2020-02-29",
          "2020-03-31",
          "2020-04-30"
         ],
         "y": [
          37.28,
          34.74,
          35.97,
          39.6,
          48.13,
          49.69,
          49.68,
          42.46,
          47.04,
          49.06,
          48.3,
          50.47,
          56.82,
          55.7,
          55.59,
          52.83,
          51.73,
          50.31,
          47.92,
          52.65,
          52.38,
          57.54,
          61.37,
          63.57,
          66.87,
          69.05,
          65.78,
          70.27,
          75.17,
          77.59,
          79.44,
          74.25,
          77.42,
          82.72,
          75.47,
          58.71,
          53.8,
          61.89,
          66.03,
          68.39,
          72.8,
          64.49,
          66.55,
          65.17,
          60.43,
          60.78,
          60.23,
          62.43,
          66,
          58.16,
          50.52,
          22.74,
          25.27
         ]
        },
        {
         "line": {
          "color": "#9E9E9E",
          "dash": "dot",
          "shape": "linear",
          "width": 3
         },
         "mode": "lines",
         "name": "ドバイ原油",
         "text": "",
         "type": "scatter",
         "x": [
          "2015-12-31",
          "2016-01-31",
          "2016-02-29",
          "2016-03-31",
          "2016-04-30",
          "2016-05-31",
          "2016-06-30",
          "2016-07-31",
          "2016-08-31",
          "2016-09-30",
          "2016-10-31",
          "2016-11-30",
          "2016-12-31",
          "2017-01-31",
          "2017-02-28",
          "2017-03-31",
          "2017-04-30",
          "2017-05-31",
          "2017-06-30",
          "2017-07-31",
          "2017-08-31",
          "2017-09-30",
          "2017-10-31",
          "2017-11-30",
          "2017-12-31",
          "2018-01-31",
          "2018-02-28",
          "2018-03-31",
          "2018-04-30",
          "2018-05-31",
          "2018-06-30",
          "2018-07-31",
          "2018-08-31",
          "2018-09-30",
          "2018-10-31",
          "2018-11-30",
          "2018-12-31",
          "2019-01-31",
          "2019-02-28",
          "2019-03-31",
          "2019-04-30",
          "2019-05-31",
          "2019-06-30",
          "2019-07-31",
          "2019-08-31",
          "2019-09-30",
          "2019-10-31",
          "2019-11-30",
          "2019-12-31",
          "2020-01-31",
          "2020-02-29",
          "2020-03-31",
          "2020-04-30"
         ],
         "y": [
          31.21,
          29.61,
          30.85,
          36.01,
          43.96,
          46.23,
          47.76,
          39.83,
          45.06,
          45.7,
          47.46,
          45.07,
          54.24,
          53.26,
          55.12,
          51.85,
          50.77,
          49.92,
          46.46,
          50.47,
          49.6,
          55.84,
          58.13,
          60.75,
          63.98,
          65.67,
          63.47,
          65.51,
          70.29,
          76.5,
          75.32,
          73.51,
          75.76,
          84.86,
          76.4,
          59.26,
          53.51,
          61.87,
          66.05,
          67.42,
          72.35,
          64.17,
          64.63,
          65.28,
          60.22,
          61.73,
          60.88,
          63.43,
          67.42,
          59.66,
          49.11,
          26.55,
          26.61
         ]
        }
       ],
       "layout": {
        "legend": {
         "x": 0,
         "y": 1
        },
        "paper_bgcolor": "#FFFFFF",
        "plot_bgcolor": "#FFFFFF",
        "showlegend": true,
        "template": {
         "data": {
          "bar": [
           {
            "error_x": {
             "color": "#2a3f5f"
            },
            "error_y": {
             "color": "#2a3f5f"
            },
            "marker": {
             "line": {
              "color": "#E5ECF6",
              "width": 0.5
             }
            },
            "type": "bar"
           }
          ],
          "barpolar": [
           {
            "marker": {
             "line": {
              "color": "#E5ECF6",
              "width": 0.5
             }
            },
            "type": "barpolar"
           }
          ],
          "carpet": [
           {
            "aaxis": {
             "endlinecolor": "#2a3f5f",
             "gridcolor": "white",
             "linecolor": "white",
             "minorgridcolor": "white",
             "startlinecolor": "#2a3f5f"
            },
            "baxis": {
             "endlinecolor": "#2a3f5f",
             "gridcolor": "white",
             "linecolor": "white",
             "minorgridcolor": "white",
             "startlinecolor": "#2a3f5f"
            },
            "type": "carpet"
           }
          ],
          "choropleth": [
           {
            "colorbar": {
             "outlinewidth": 0,
             "ticks": ""
            },
            "type": "choropleth"
           }
          ],
          "contour": [
           {
            "colorbar": {
             "outlinewidth": 0,
             "ticks": ""
            },
            "colorscale": [
             [
              0,
              "#0d0887"
             ],
             [
              0.1111111111111111,
              "#46039f"
             ],
             [
              0.2222222222222222,
              "#7201a8"
             ],
             [
              0.3333333333333333,
              "#9c179e"
             ],
             [
              0.4444444444444444,
              "#bd3786"
             ],
             [
              0.5555555555555556,
              "#d8576b"
             ],
             [
              0.6666666666666666,
              "#ed7953"
             ],
             [
              0.7777777777777778,
              "#fb9f3a"
             ],
             [
              0.8888888888888888,
              "#fdca26"
             ],
             [
              1,
              "#f0f921"
             ]
            ],
            "type": "contour"
           }
          ],
          "contourcarpet": [
           {
            "colorbar": {
             "outlinewidth": 0,
             "ticks": ""
            },
            "type": "contourcarpet"
           }
          ],
          "heatmap": [
           {
            "colorbar": {
             "outlinewidth": 0,
             "ticks": ""
            },
            "colorscale": [
             [
              0,
              "#0d0887"
             ],
             [
              0.1111111111111111,
              "#46039f"
             ],
             [
              0.2222222222222222,
              "#7201a8"
             ],
             [
              0.3333333333333333,
              "#9c179e"
             ],
             [
              0.4444444444444444,
              "#bd3786"
             ],
             [
              0.5555555555555556,
              "#d8576b"
             ],
             [
              0.6666666666666666,
              "#ed7953"
             ],
             [
              0.7777777777777778,
              "#fb9f3a"
             ],
             [
              0.8888888888888888,
              "#fdca26"
             ],
             [
              1,
              "#f0f921"
             ]
            ],
            "type": "heatmap"
           }
          ],
          "heatmapgl": [
           {
            "colorbar": {
             "outlinewidth": 0,
             "ticks": ""
            },
            "colorscale": [
             [
              0,
              "#0d0887"
             ],
             [
              0.1111111111111111,
              "#46039f"
             ],
             [
              0.2222222222222222,
              "#7201a8"
             ],
             [
              0.3333333333333333,
              "#9c179e"
             ],
             [
              0.4444444444444444,
              "#bd3786"
             ],
             [
              0.5555555555555556,
              "#d8576b"
             ],
             [
              0.6666666666666666,
              "#ed7953"
             ],
             [
              0.7777777777777778,
              "#fb9f3a"
             ],
             [
              0.8888888888888888,
              "#fdca26"
             ],
             [
              1,
              "#f0f921"
             ]
            ],
            "type": "heatmapgl"
           }
          ],
          "histogram": [
           {
            "marker": {
             "colorbar": {
              "outlinewidth": 0,
              "ticks": ""
             }
            },
            "type": "histogram"
           }
          ],
          "histogram2d": [
           {
            "colorbar": {
             "outlinewidth": 0,
             "ticks": ""
            },
            "colorscale": [
             [
              0,
              "#0d0887"
             ],
             [
              0.1111111111111111,
              "#46039f"
             ],
             [
              0.2222222222222222,
              "#7201a8"
             ],
             [
              0.3333333333333333,
              "#9c179e"
             ],
             [
              0.4444444444444444,
              "#bd3786"
             ],
             [
              0.5555555555555556,
              "#d8576b"
             ],
             [
              0.6666666666666666,
              "#ed7953"
             ],
             [
              0.7777777777777778,
              "#fb9f3a"
             ],
             [
              0.8888888888888888,
              "#fdca26"
             ],
             [
              1,
              "#f0f921"
             ]
            ],
            "type": "histogram2d"
           }
          ],
          "histogram2dcontour": [
           {
            "colorbar": {
             "outlinewidth": 0,
             "ticks": ""
            },
            "colorscale": [
             [
              0,
              "#0d0887"
             ],
             [
              0.1111111111111111,
              "#46039f"
             ],
             [
              0.2222222222222222,
              "#7201a8"
             ],
             [
              0.3333333333333333,
              "#9c179e"
             ],
             [
              0.4444444444444444,
              "#bd3786"
             ],
             [
              0.5555555555555556,
              "#d8576b"
             ],
             [
              0.6666666666666666,
              "#ed7953"
             ],
             [
              0.7777777777777778,
              "#fb9f3a"
             ],
             [
              0.8888888888888888,
              "#fdca26"
             ],
             [
              1,
              "#f0f921"
             ]
            ],
            "type": "histogram2dcontour"
           }
          ],
          "mesh3d": [
           {
            "colorbar": {
             "outlinewidth": 0,
             "ticks": ""
            },
            "type": "mesh3d"
           }
          ],
          "parcoords": [
           {
            "line": {
             "colorbar": {
              "outlinewidth": 0,
              "ticks": ""
             }
            },
            "type": "parcoords"
           }
          ],
          "pie": [
           {
            "automargin": true,
            "type": "pie"
           }
          ],
          "scatter": [
           {
            "marker": {
             "colorbar": {
              "outlinewidth": 0,
              "ticks": ""
             }
            },
            "type": "scatter"
           }
          ],
          "scatter3d": [
           {
            "line": {
             "colorbar": {
              "outlinewidth": 0,
              "ticks": ""
             }
            },
            "marker": {
             "colorbar": {
              "outlinewidth": 0,
              "ticks": ""
             }
            },
            "type": "scatter3d"
           }
          ],
          "scattercarpet": [
           {
            "marker": {
             "colorbar": {
              "outlinewidth": 0,
              "ticks": ""
             }
            },
            "type": "scattercarpet"
           }
          ],
          "scattergeo": [
           {
            "marker": {
             "colorbar": {
              "outlinewidth": 0,
              "ticks": ""
             }
            },
            "type": "scattergeo"
           }
          ],
          "scattergl": [
           {
            "marker": {
             "colorbar": {
              "outlinewidth": 0,
              "ticks": ""
             }
            },
            "type": "scattergl"
           }
          ],
          "scattermapbox": [
           {
            "marker": {
             "colorbar": {
              "outlinewidth": 0,
              "ticks": ""
             }
            },
            "type": "scattermapbox"
           }
          ],
          "scatterpolar": [
           {
            "marker": {
             "colorbar": {
              "outlinewidth": 0,
              "ticks": ""
             }
            },
            "type": "scatterpolar"
           }
          ],
          "scatterpolargl": [
           {
            "marker": {
             "colorbar": {
              "outlinewidth": 0,
              "ticks": ""
             }
            },
            "type": "scatterpolargl"
           }
          ],
          "scatterternary": [
           {
            "marker": {
             "colorbar": {
              "outlinewidth": 0,
              "ticks": ""
             }
            },
            "type": "scatterternary"
           }
          ],
          "surface": [
           {
            "colorbar": {
             "outlinewidth": 0,
             "ticks": ""
            },
            "colorscale": [
             [
              0,
              "#0d0887"
             ],
             [
              0.1111111111111111,
              "#46039f"
             ],
             [
              0.2222222222222222,
              "#7201a8"
             ],
             [
              0.3333333333333333,
              "#9c179e"
             ],
             [
              0.4444444444444444,
              "#bd3786"
             ],
             [
              0.5555555555555556,
              "#d8576b"
             ],
             [
              0.6666666666666666,
              "#ed7953"
             ],
             [
              0.7777777777777778,
              "#fb9f3a"
             ],
             [
              0.8888888888888888,
              "#fdca26"
             ],
             [
              1,
              "#f0f921"
             ]
            ],
            "type": "surface"
           }
          ],
          "table": [
           {
            "cells": {
             "fill": {
              "color": "#EBF0F8"
             },
             "line": {
              "color": "white"
             }
            },
            "header": {
             "fill": {
              "color": "#C8D4E3"
             },
             "line": {
              "color": "white"
             }
            },
            "type": "table"
           }
          ]
         },
         "layout": {
          "annotationdefaults": {
           "arrowcolor": "#2a3f5f",
           "arrowhead": 0,
           "arrowwidth": 1
          },
          "coloraxis": {
           "colorbar": {
            "outlinewidth": 0,
            "ticks": ""
           }
          },
          "colorscale": {
           "diverging": [
            [
             0,
             "#8e0152"
            ],
            [
             0.1,
             "#c51b7d"
            ],
            [
             0.2,
             "#de77ae"
            ],
            [
             0.3,
             "#f1b6da"
            ],
            [
             0.4,
             "#fde0ef"
            ],
            [
             0.5,
             "#f7f7f7"
            ],
            [
             0.6,
             "#e6f5d0"
            ],
            [
             0.7,
             "#b8e186"
            ],
            [
             0.8,
             "#7fbc41"
            ],
            [
             0.9,
             "#4d9221"
            ],
            [
             1,
             "#276419"
            ]
           ],
           "sequential": [
            [
             0,
             "#0d0887"
            ],
            [
             0.1111111111111111,
             "#46039f"
            ],
            [
             0.2222222222222222,
             "#7201a8"
            ],
            [
             0.3333333333333333,
             "#9c179e"
            ],
            [
             0.4444444444444444,
             "#bd3786"
            ],
            [
             0.5555555555555556,
             "#d8576b"
            ],
            [
             0.6666666666666666,
             "#ed7953"
            ],
            [
             0.7777777777777778,
             "#fb9f3a"
            ],
            [
             0.8888888888888888,
             "#fdca26"
            ],
            [
             1,
             "#f0f921"
            ]
           ],
           "sequentialminus": [
            [
             0,
             "#0d0887"
            ],
            [
             0.1111111111111111,
             "#46039f"
            ],
            [
             0.2222222222222222,
             "#7201a8"
            ],
            [
             0.3333333333333333,
             "#9c179e"
            ],
            [
             0.4444444444444444,
             "#bd3786"
            ],
            [
             0.5555555555555556,
             "#d8576b"
            ],
            [
             0.6666666666666666,
             "#ed7953"
            ],
            [
             0.7777777777777778,
             "#fb9f3a"
            ],
            [
             0.8888888888888888,
             "#fdca26"
            ],
            [
             1,
             "#f0f921"
            ]
           ]
          },
          "colorway": [
           "#636efa",
           "#EF553B",
           "#00cc96",
           "#ab63fa",
           "#FFA15A",
           "#19d3f3",
           "#FF6692",
           "#B6E880",
           "#FF97FF",
           "#FECB52"
          ],
          "font": {
           "color": "#2a3f5f"
          },
          "geo": {
           "bgcolor": "white",
           "lakecolor": "white",
           "landcolor": "#E5ECF6",
           "showlakes": true,
           "showland": true,
           "subunitcolor": "white"
          },
          "hoverlabel": {
           "align": "left"
          },
          "hovermode": "closest",
          "mapbox": {
           "style": "light"
          },
          "paper_bgcolor": "white",
          "plot_bgcolor": "#E5ECF6",
          "polar": {
           "angularaxis": {
            "gridcolor": "white",
            "linecolor": "white",
            "ticks": ""
           },
           "bgcolor": "#E5ECF6",
           "radialaxis": {
            "gridcolor": "white",
            "linecolor": "white",
            "ticks": ""
           }
          },
          "scene": {
           "xaxis": {
            "backgroundcolor": "#E5ECF6",
            "gridcolor": "white",
            "gridwidth": 2,
            "linecolor": "white",
            "showbackground": true,
            "ticks": "",
            "zerolinecolor": "white"
           },
           "yaxis": {
            "backgroundcolor": "#E5ECF6",
            "gridcolor": "white",
            "gridwidth": 2,
            "linecolor": "white",
            "showbackground": true,
            "ticks": "",
            "zerolinecolor": "white"
           },
           "zaxis": {
            "backgroundcolor": "#E5ECF6",
            "gridcolor": "white",
            "gridwidth": 2,
            "linecolor": "white",
            "showbackground": true,
            "ticks": "",
            "zerolinecolor": "white"
           }
          },
          "shapedefaults": {
           "line": {
            "color": "#2a3f5f"
           }
          },
          "ternary": {
           "aaxis": {
            "gridcolor": "white",
            "linecolor": "white",
            "ticks": ""
           },
           "baxis": {
            "gridcolor": "white",
            "linecolor": "white",
            "ticks": ""
           },
           "bgcolor": "#E5ECF6",
           "caxis": {
            "gridcolor": "white",
            "linecolor": "white",
            "ticks": ""
           }
          },
          "title": {
           "x": 0.05
          },
          "xaxis": {
           "automargin": true,
           "gridcolor": "white",
           "linecolor": "white",
           "ticks": "",
           "title": {
            "standoff": 15
           },
           "zerolinecolor": "white",
           "zerolinewidth": 2
          },
          "yaxis": {
           "automargin": true,
           "gridcolor": "white",
           "linecolor": "white",
           "ticks": "",
           "title": {
            "standoff": 15
           },
           "zerolinecolor": "white",
           "zerolinewidth": 2
          }
         }
        },
        "title": {
         "font": {
          "color": "#4D5663"
         }
        },
        "xaxis": {
         "gridcolor": "#E1E5ED",
         "showgrid": true,
         "tickfont": {
          "color": "#4D5663"
         },
         "title": {
          "font": {
           "color": "#4D5663"
          },
          "text": ""
         },
         "zerolinecolor": "#E1E5ED"
        },
        "yaxis": {
         "gridcolor": "#E1E5ED",
         "showgrid": true,
         "tickfont": {
          "color": "#4D5663"
         },
         "title": {
          "font": {
           "color": "#4D5663"
          },
          "text": "USD/Bbl"
         },
         "zerolinecolor": "#E1E5ED"
        }
       }
      },
      "text/html": "<div>\n        \n        \n            <div id=\"4050e60a-8d9e-4973-96bd-0c4cbba539f1\" class=\"plotly-graph-div\" style=\"height:525px; width:100%;\"></div>\n            <script type=\"text/javascript\">\n                require([\"plotly\"], function(Plotly) {\n                    window.PLOTLYENV=window.PLOTLYENV || {};\n                    window.PLOTLYENV.BASE_URL='https://plot.ly';\n                    \n                if (document.getElementById(\"4050e60a-8d9e-4973-96bd-0c4cbba539f1\")) {\n                    Plotly.newPlot(\n                        '4050e60a-8d9e-4973-96bd-0c4cbba539f1',\n                        [{\"line\": {\"color\": \"black\", \"dash\": \"solid\", \"shape\": \"linear\", \"width\": 3}, \"mode\": \"lines\", \"name\": \"WTI\", \"text\": \"\", \"type\": \"scatter\", \"x\": [\"2015-12-31\", \"2016-01-31\", \"2016-02-29\", \"2016-03-31\", \"2016-04-30\", \"2016-05-31\", \"2016-06-30\", \"2016-07-31\", \"2016-08-31\", \"2016-09-30\", \"2016-10-31\", \"2016-11-30\", \"2016-12-31\", \"2017-01-31\", \"2017-02-28\", \"2017-03-31\", \"2017-04-30\", \"2017-05-31\", \"2017-06-30\", \"2017-07-31\", \"2017-08-31\", \"2017-09-30\", \"2017-10-31\", \"2017-11-30\", \"2017-12-31\", \"2018-01-31\", \"2018-02-28\", \"2018-03-31\", \"2018-04-30\", \"2018-05-31\", \"2018-06-30\", \"2018-07-31\", \"2018-08-31\", \"2018-09-30\", \"2018-10-31\", \"2018-11-30\", \"2018-12-31\", \"2019-01-31\", \"2019-02-28\", \"2019-03-31\", \"2019-04-30\", \"2019-05-31\", \"2019-06-30\", \"2019-07-31\", \"2019-08-31\", \"2019-09-30\", \"2019-10-31\", \"2019-11-30\", \"2019-12-31\", \"2020-01-31\", \"2020-02-29\", \"2020-03-31\", \"2020-04-30\"], \"y\": [37.04, 33.62, 33.75, 38.34, 45.92, 49.1, 48.33, 41.6, 44.7, 48.24, 46.86, 49.44, 53.72, 52.81, 54.01, 50.6, 49.33, 48.32, 46.04, 50.17, 47.23, 51.67, 54.38, 57.4, 60.42, 64.73, 61.64, 64.94, 68.57, 67.04, 74.15, 68.76, 69.8, 73.25, 65.31, 50.93, 45.41, 53.79, 57.22, 60.14, 63.91, 53.5, 58.47, 58.58, 55.1, 54.07, 54.18, 55.17, 61.06, 51.56, 44.76, 20.48, 18.84]}, {\"line\": {\"color\": \"#607D8B\", \"dash\": \"solid\", \"shape\": \"linear\", \"width\": 1}, \"mode\": \"lines\", \"name\": \"ICE\\u30d6\\u30ec\\u30f3\\u30c8\", \"text\": \"\", \"type\": \"scatter\", \"x\": [\"2015-12-31\", \"2016-01-31\", \"2016-02-29\", \"2016-03-31\", \"2016-04-30\", \"2016-05-31\", \"2016-06-30\", \"2016-07-31\", \"2016-08-31\", \"2016-09-30\", \"2016-10-31\", \"2016-11-30\", \"2016-12-31\", \"2017-01-31\", \"2017-02-28\", \"2017-03-31\", \"2017-04-30\", \"2017-05-31\", \"2017-06-30\", \"2017-07-31\", \"2017-08-31\", \"2017-09-30\", \"2017-10-31\", \"2017-11-30\", \"2017-12-31\", \"2018-01-31\", \"2018-02-28\", \"2018-03-31\", \"2018-04-30\", \"2018-05-31\", \"2018-06-30\", \"2018-07-31\", \"2018-08-31\", \"2018-09-30\", \"2018-10-31\", \"2018-11-30\", \"2018-12-31\", \"2019-01-31\", \"2019-02-28\", \"2019-03-31\", \"2019-04-30\", \"2019-05-31\", \"2019-06-30\", \"2019-07-31\", \"2019-08-31\", \"2019-09-30\", \"2019-10-31\", \"2019-11-30\", \"2019-12-31\", \"2020-01-31\", \"2020-02-29\", \"2020-03-31\", \"2020-04-30\"], \"y\": [37.28, 34.74, 35.97, 39.6, 48.13, 49.69, 49.68, 42.46, 47.04, 49.06, 48.3, 50.47, 56.82, 55.7, 55.59, 52.83, 51.73, 50.31, 47.92, 52.65, 52.38, 57.54, 61.37, 63.57, 66.87, 69.05, 65.78, 70.27, 75.17, 77.59, 79.44, 74.25, 77.42, 82.72, 75.47, 58.71, 53.8, 61.89, 66.03, 68.39, 72.8, 64.49, 66.55, 65.17, 60.43, 60.78, 60.23, 62.43, 66.0, 58.16, 50.52, 22.74, 25.27]}, {\"line\": {\"color\": \"#9E9E9E\", \"dash\": \"dot\", \"shape\": \"linear\", \"width\": 3}, \"mode\": \"lines\", \"name\": \"\\u30c9\\u30d0\\u30a4\\u539f\\u6cb9\", \"text\": \"\", \"type\": \"scatter\", \"x\": [\"2015-12-31\", \"2016-01-31\", \"2016-02-29\", \"2016-03-31\", \"2016-04-30\", \"2016-05-31\", \"2016-06-30\", \"2016-07-31\", \"2016-08-31\", \"2016-09-30\", \"2016-10-31\", \"2016-11-30\", \"2016-12-31\", \"2017-01-31\", \"2017-02-28\", \"2017-03-31\", \"2017-04-30\", \"2017-05-31\", \"2017-06-30\", \"2017-07-31\", \"2017-08-31\", \"2017-09-30\", \"2017-10-31\", \"2017-11-30\", \"2017-12-31\", \"2018-01-31\", \"2018-02-28\", \"2018-03-31\", \"2018-04-30\", \"2018-05-31\", \"2018-06-30\", \"2018-07-31\", \"2018-08-31\", \"2018-09-30\", \"2018-10-31\", \"2018-11-30\", \"2018-12-31\", \"2019-01-31\", \"2019-02-28\", \"2019-03-31\", \"2019-04-30\", \"2019-05-31\", \"2019-06-30\", \"2019-07-31\", \"2019-08-31\", \"2019-09-30\", \"2019-10-31\", \"2019-11-30\", \"2019-12-31\", \"2020-01-31\", \"2020-02-29\", \"2020-03-31\", \"2020-04-30\"], \"y\": [31.21, 29.61, 30.85, 36.01, 43.96, 46.23, 47.76, 39.83, 45.06, 45.7, 47.46, 45.07, 54.24, 53.26, 55.12, 51.85, 50.77, 49.92, 46.46, 50.47, 49.6, 55.84, 58.13, 60.75, 63.98, 65.67, 63.47, 65.51, 70.29, 76.5, 75.32, 73.51, 75.76, 84.86, 76.4, 59.26, 53.51, 61.87, 66.05, 67.42, 72.35, 64.17, 64.63, 65.28, 60.22, 61.73, 60.88, 63.43, 67.42, 59.66, 49.11, 26.55, 26.61]}],\n                        {\"legend\": {\"x\": 0, \"y\": 1}, \"paper_bgcolor\": \"#FFFFFF\", \"plot_bgcolor\": \"#FFFFFF\", \"showlegend\": true, \"template\": {\"data\": {\"bar\": [{\"error_x\": {\"color\": \"#2a3f5f\"}, \"error_y\": {\"color\": \"#2a3f5f\"}, \"marker\": {\"line\": {\"color\": \"#E5ECF6\", \"width\": 0.5}}, \"type\": \"bar\"}], \"barpolar\": [{\"marker\": {\"line\": {\"color\": \"#E5ECF6\", \"width\": 0.5}}, \"type\": \"barpolar\"}], \"carpet\": [{\"aaxis\": {\"endlinecolor\": \"#2a3f5f\", \"gridcolor\": \"white\", \"linecolor\": \"white\", \"minorgridcolor\": \"white\", \"startlinecolor\": \"#2a3f5f\"}, \"baxis\": {\"endlinecolor\": \"#2a3f5f\", \"gridcolor\": \"white\", \"linecolor\": \"white\", \"minorgridcolor\": \"white\", \"startlinecolor\": \"#2a3f5f\"}, \"type\": \"carpet\"}], \"choropleth\": [{\"colorbar\": {\"outlinewidth\": 0, \"ticks\": \"\"}, \"type\": \"choropleth\"}], \"contour\": [{\"colorbar\": {\"outlinewidth\": 0, \"ticks\": \"\"}, \"colorscale\": [[0.0, \"#0d0887\"], [0.1111111111111111, \"#46039f\"], [0.2222222222222222, \"#7201a8\"], [0.3333333333333333, \"#9c179e\"], [0.4444444444444444, \"#bd3786\"], [0.5555555555555556, \"#d8576b\"], [0.6666666666666666, \"#ed7953\"], [0.7777777777777778, \"#fb9f3a\"], [0.8888888888888888, \"#fdca26\"], [1.0, \"#f0f921\"]], \"type\": \"contour\"}], \"contourcarpet\": [{\"colorbar\": {\"outlinewidth\": 0, \"ticks\": \"\"}, \"type\": \"contourcarpet\"}], \"heatmap\": [{\"colorbar\": {\"outlinewidth\": 0, \"ticks\": \"\"}, \"colorscale\": [[0.0, \"#0d0887\"], [0.1111111111111111, \"#46039f\"], [0.2222222222222222, \"#7201a8\"], [0.3333333333333333, \"#9c179e\"], [0.4444444444444444, \"#bd3786\"], [0.5555555555555556, \"#d8576b\"], [0.6666666666666666, \"#ed7953\"], [0.7777777777777778, \"#fb9f3a\"], [0.8888888888888888, \"#fdca26\"], [1.0, \"#f0f921\"]], \"type\": \"heatmap\"}], \"heatmapgl\": [{\"colorbar\": {\"outlinewidth\": 0, \"ticks\": \"\"}, \"colorscale\": [[0.0, \"#0d0887\"], [0.1111111111111111, \"#46039f\"], [0.2222222222222222, \"#7201a8\"], [0.3333333333333333, \"#9c179e\"], [0.4444444444444444, \"#bd3786\"], [0.5555555555555556, \"#d8576b\"], [0.6666666666666666, \"#ed7953\"], [0.7777777777777778, \"#fb9f3a\"], [0.8888888888888888, \"#fdca26\"], [1.0, \"#f0f921\"]], \"type\": \"heatmapgl\"}], \"histogram\": [{\"marker\": {\"colorbar\": {\"outlinewidth\": 0, \"ticks\": \"\"}}, \"type\": \"histogram\"}], \"histogram2d\": [{\"colorbar\": {\"outlinewidth\": 0, \"ticks\": \"\"}, \"colorscale\": [[0.0, \"#0d0887\"], [0.1111111111111111, \"#46039f\"], [0.2222222222222222, \"#7201a8\"], [0.3333333333333333, \"#9c179e\"], [0.4444444444444444, \"#bd3786\"], [0.5555555555555556, \"#d8576b\"], [0.6666666666666666, \"#ed7953\"], [0.7777777777777778, \"#fb9f3a\"], [0.8888888888888888, \"#fdca26\"], [1.0, \"#f0f921\"]], \"type\": \"histogram2d\"}], \"histogram2dcontour\": [{\"colorbar\": {\"outlinewidth\": 0, \"ticks\": \"\"}, \"colorscale\": [[0.0, \"#0d0887\"], [0.1111111111111111, \"#46039f\"], [0.2222222222222222, \"#7201a8\"], [0.3333333333333333, \"#9c179e\"], [0.4444444444444444, \"#bd3786\"], [0.5555555555555556, \"#d8576b\"], [0.6666666666666666, \"#ed7953\"], [0.7777777777777778, \"#fb9f3a\"], [0.8888888888888888, \"#fdca26\"], [1.0, \"#f0f921\"]], \"type\": \"histogram2dcontour\"}], \"mesh3d\": [{\"colorbar\": {\"outlinewidth\": 0, \"ticks\": \"\"}, \"type\": \"mesh3d\"}], \"parcoords\": [{\"line\": {\"colorbar\": {\"outlinewidth\": 0, \"ticks\": \"\"}}, \"type\": \"parcoords\"}], \"pie\": [{\"automargin\": true, \"type\": \"pie\"}], \"scatter\": [{\"marker\": {\"colorbar\": {\"outlinewidth\": 0, \"ticks\": \"\"}}, \"type\": \"scatter\"}], \"scatter3d\": [{\"line\": {\"colorbar\": {\"outlinewidth\": 0, \"ticks\": \"\"}}, \"marker\": {\"colorbar\": {\"outlinewidth\": 0, \"ticks\": \"\"}}, \"type\": \"scatter3d\"}], \"scattercarpet\": [{\"marker\": {\"colorbar\": {\"outlinewidth\": 0, \"ticks\": \"\"}}, \"type\": \"scattercarpet\"}], \"scattergeo\": [{\"marker\": {\"colorbar\": {\"outlinewidth\": 0, \"ticks\": \"\"}}, \"type\": \"scattergeo\"}], \"scattergl\": [{\"marker\": {\"colorbar\": {\"outlinewidth\": 0, \"ticks\": \"\"}}, \"type\": \"scattergl\"}], \"scattermapbox\": [{\"marker\": {\"colorbar\": {\"outlinewidth\": 0, \"ticks\": \"\"}}, \"type\": \"scattermapbox\"}], \"scatterpolar\": [{\"marker\": {\"colorbar\": {\"outlinewidth\": 0, \"ticks\": \"\"}}, \"type\": \"scatterpolar\"}], \"scatterpolargl\": [{\"marker\": {\"colorbar\": {\"outlinewidth\": 0, \"ticks\": \"\"}}, \"type\": \"scatterpolargl\"}], \"scatterternary\": [{\"marker\": {\"colorbar\": {\"outlinewidth\": 0, \"ticks\": \"\"}}, \"type\": \"scatterternary\"}], \"surface\": [{\"colorbar\": {\"outlinewidth\": 0, \"ticks\": \"\"}, \"colorscale\": [[0.0, \"#0d0887\"], [0.1111111111111111, \"#46039f\"], [0.2222222222222222, \"#7201a8\"], [0.3333333333333333, \"#9c179e\"], [0.4444444444444444, \"#bd3786\"], [0.5555555555555556, \"#d8576b\"], [0.6666666666666666, \"#ed7953\"], [0.7777777777777778, \"#fb9f3a\"], [0.8888888888888888, \"#fdca26\"], [1.0, \"#f0f921\"]], \"type\": \"surface\"}], \"table\": [{\"cells\": {\"fill\": {\"color\": \"#EBF0F8\"}, \"line\": {\"color\": \"white\"}}, \"header\": {\"fill\": {\"color\": \"#C8D4E3\"}, \"line\": {\"color\": \"white\"}}, \"type\": \"table\"}]}, \"layout\": {\"annotationdefaults\": {\"arrowcolor\": \"#2a3f5f\", \"arrowhead\": 0, \"arrowwidth\": 1}, \"coloraxis\": {\"colorbar\": {\"outlinewidth\": 0, \"ticks\": \"\"}}, \"colorscale\": {\"diverging\": [[0, \"#8e0152\"], [0.1, \"#c51b7d\"], [0.2, \"#de77ae\"], [0.3, \"#f1b6da\"], [0.4, \"#fde0ef\"], [0.5, \"#f7f7f7\"], [0.6, \"#e6f5d0\"], [0.7, \"#b8e186\"], [0.8, \"#7fbc41\"], [0.9, \"#4d9221\"], [1, \"#276419\"]], \"sequential\": [[0.0, \"#0d0887\"], [0.1111111111111111, \"#46039f\"], [0.2222222222222222, \"#7201a8\"], [0.3333333333333333, \"#9c179e\"], [0.4444444444444444, \"#bd3786\"], [0.5555555555555556, \"#d8576b\"], [0.6666666666666666, \"#ed7953\"], [0.7777777777777778, \"#fb9f3a\"], [0.8888888888888888, \"#fdca26\"], [1.0, \"#f0f921\"]], \"sequentialminus\": [[0.0, \"#0d0887\"], [0.1111111111111111, \"#46039f\"], [0.2222222222222222, \"#7201a8\"], [0.3333333333333333, \"#9c179e\"], [0.4444444444444444, \"#bd3786\"], [0.5555555555555556, \"#d8576b\"], [0.6666666666666666, \"#ed7953\"], [0.7777777777777778, \"#fb9f3a\"], [0.8888888888888888, \"#fdca26\"], [1.0, \"#f0f921\"]]}, \"colorway\": [\"#636efa\", \"#EF553B\", \"#00cc96\", \"#ab63fa\", \"#FFA15A\", \"#19d3f3\", \"#FF6692\", \"#B6E880\", \"#FF97FF\", \"#FECB52\"], \"font\": {\"color\": \"#2a3f5f\"}, \"geo\": {\"bgcolor\": \"white\", \"lakecolor\": \"white\", \"landcolor\": \"#E5ECF6\", \"showlakes\": true, \"showland\": true, \"subunitcolor\": \"white\"}, \"hoverlabel\": {\"align\": \"left\"}, \"hovermode\": \"closest\", \"mapbox\": {\"style\": \"light\"}, \"paper_bgcolor\": \"white\", \"plot_bgcolor\": \"#E5ECF6\", \"polar\": {\"angularaxis\": {\"gridcolor\": \"white\", \"linecolor\": \"white\", \"ticks\": \"\"}, \"bgcolor\": \"#E5ECF6\", \"radialaxis\": {\"gridcolor\": \"white\", \"linecolor\": \"white\", \"ticks\": \"\"}}, \"scene\": {\"xaxis\": {\"backgroundcolor\": \"#E5ECF6\", \"gridcolor\": \"white\", \"gridwidth\": 2, \"linecolor\": \"white\", \"showbackground\": true, \"ticks\": \"\", \"zerolinecolor\": \"white\"}, \"yaxis\": {\"backgroundcolor\": \"#E5ECF6\", \"gridcolor\": \"white\", \"gridwidth\": 2, \"linecolor\": \"white\", \"showbackground\": true, \"ticks\": \"\", \"zerolinecolor\": \"white\"}, \"zaxis\": {\"backgroundcolor\": \"#E5ECF6\", \"gridcolor\": \"white\", \"gridwidth\": 2, \"linecolor\": \"white\", \"showbackground\": true, \"ticks\": \"\", \"zerolinecolor\": \"white\"}}, \"shapedefaults\": {\"line\": {\"color\": \"#2a3f5f\"}}, \"ternary\": {\"aaxis\": {\"gridcolor\": \"white\", \"linecolor\": \"white\", \"ticks\": \"\"}, \"baxis\": {\"gridcolor\": \"white\", \"linecolor\": \"white\", \"ticks\": \"\"}, \"bgcolor\": \"#E5ECF6\", \"caxis\": {\"gridcolor\": \"white\", \"linecolor\": \"white\", \"ticks\": \"\"}}, \"title\": {\"x\": 0.05}, \"xaxis\": {\"automargin\": true, \"gridcolor\": \"white\", \"linecolor\": \"white\", \"ticks\": \"\", \"title\": {\"standoff\": 15}, \"zerolinecolor\": \"white\", \"zerolinewidth\": 2}, \"yaxis\": {\"automargin\": true, \"gridcolor\": \"white\", \"linecolor\": \"white\", \"ticks\": \"\", \"title\": {\"standoff\": 15}, \"zerolinecolor\": \"white\", \"zerolinewidth\": 2}}}, \"title\": {\"font\": {\"color\": \"#4D5663\"}}, \"xaxis\": {\"gridcolor\": \"#E1E5ED\", \"showgrid\": true, \"tickfont\": {\"color\": \"#4D5663\"}, \"title\": {\"font\": {\"color\": \"#4D5663\"}, \"text\": \"\"}, \"zerolinecolor\": \"#E1E5ED\"}, \"yaxis\": {\"gridcolor\": \"#E1E5ED\", \"showgrid\": true, \"tickfont\": {\"color\": \"#4D5663\"}, \"title\": {\"font\": {\"color\": \"#4D5663\"}, \"text\": \"USD/Bbl\"}, \"zerolinecolor\": \"#E1E5ED\"}},\n                        {\"showLink\": true, \"linkText\": \"Export to plot.ly\", \"plotlyServerURL\": \"https://plot.ly\", \"responsive\": true}\n                    ).then(function(){\n                            \nvar gd = document.getElementById('4050e60a-8d9e-4973-96bd-0c4cbba539f1');\nvar x = new MutationObserver(function (mutations, observer) {{\n        var display = window.getComputedStyle(gd).display;\n        if (!display || display === 'none') {{\n            console.log([gd, 'removed!']);\n            Plotly.purge(gd);\n            observer.disconnect();\n        }}\n}});\n\n// Listen for the removal of the full notebook cells\nvar notebookContainer = gd.closest('#notebook-container');\nif (notebookContainer) {{\n    x.observe(notebookContainer, {childList: true});\n}}\n\n// Listen for the clearing of the current output cell\nvar outputEl = gd.closest('.output');\nif (outputEl) {{\n    x.observe(outputEl, {childList: true});\n}}\n\n                        })\n                };\n                });\n            </script>\n        </div>"
     },
     "metadata": {}
    }
   ],
   "source": [
    "OIL_m.dropna(how='any').iplot(yTitle='USD/Bbl',\n",
    "                            colors={'WTI':'black','ICEブレント':'#607D8B','ドバイ原油':'#9E9E9E'},\n",
    "                            width={'WTI':3,'ICEブレント':1,'ドバイ原油':3},\n",
    "                            dash={'WTI':'solid','ICEブレント':'solid','ドバイ原油':'dot'},\n",
    "                            legend =dict(x=0,y=1)\n",
    "                            )\n"
   ]
  },
  {
   "cell_type": "code",
   "execution_count": 204,
   "metadata": {},
   "outputs": [
    {
     "output_type": "display_data",
     "data": {
      "application/vnd.plotly.v1+json": {
       "config": {
        "linkText": "Export to plot.ly",
        "plotlyServerURL": "https://plot.ly",
        "showLink": true
       },
       "data": [
        {
         "line": {
          "color": "black",
          "dash": "solid",
          "shape": "linear",
          "width": 3
         },
         "mode": "lines",
         "name": "WTI",
         "text": "",
         "type": "scatter",
         "x": [
          "2016-06-27",
          "2016-06-28",
          "2016-06-29",
          "2016-06-30",
          "2016-07-01",
          "2016-07-05",
          "2016-07-06",
          "2016-07-07",
          "2016-07-08",
          "2016-07-11",
          "2016-07-12",
          "2016-07-13",
          "2016-07-14",
          "2016-07-15",
          "2016-07-18",
          "2016-07-19",
          "2016-07-20",
          "2016-07-21",
          "2016-07-22",
          "2016-07-25",
          "2016-07-26",
          "2016-07-27",
          "2016-07-28",
          "2016-07-29",
          "2016-08-01",
          "2016-08-02",
          "2016-08-03",
          "2016-08-04",
          "2016-08-05",
          "2016-08-08",
          "2016-08-09",
          "2016-08-10",
          "2016-08-11",
          "2016-08-12",
          "2016-08-15",
          "2016-08-16",
          "2016-08-17",
          "2016-08-18",
          "2016-08-19",
          "2016-08-22",
          "2016-08-23",
          "2016-08-24",
          "2016-08-25",
          "2016-08-26",
          "2016-08-29",
          "2016-08-30",
          "2016-08-31",
          "2016-09-01",
          "2016-09-02",
          "2016-09-06",
          "2016-09-07",
          "2016-09-08",
          "2016-09-09",
          "2016-09-12",
          "2016-09-13",
          "2016-09-14",
          "2016-09-15",
          "2016-09-16",
          "2016-09-19",
          "2016-09-20",
          "2016-09-21",
          "2016-09-22",
          "2016-09-23",
          "2016-09-26",
          "2016-09-27",
          "2016-09-28",
          "2016-09-29",
          "2016-09-30",
          "2016-10-03",
          "2016-10-04",
          "2016-10-05",
          "2016-10-06",
          "2016-10-07",
          "2016-10-10",
          "2016-10-11",
          "2016-10-12",
          "2016-10-13",
          "2016-10-14",
          "2016-10-17",
          "2016-10-18",
          "2016-10-19",
          "2016-10-20",
          "2016-10-21",
          "2016-10-24",
          "2016-10-25",
          "2016-10-26",
          "2016-10-27",
          "2016-10-28",
          "2016-10-31",
          "2016-11-01",
          "2016-11-02",
          "2016-11-03",
          "2016-11-04",
          "2016-11-07",
          "2016-11-08",
          "2016-11-09",
          "2016-11-10",
          "2016-11-11",
          "2016-11-14",
          "2016-11-15",
          "2016-11-16",
          "2016-11-17",
          "2016-11-18",
          "2016-11-21",
          "2016-11-22",
          "2016-11-23",
          "2016-11-25",
          "2016-11-28",
          "2016-11-29",
          "2016-11-30",
          "2016-12-01",
          "2016-12-02",
          "2016-12-05",
          "2016-12-06",
          "2016-12-07",
          "2016-12-08",
          "2016-12-09",
          "2016-12-12",
          "2016-12-13",
          "2016-12-14",
          "2016-12-15",
          "2016-12-16",
          "2016-12-19",
          "2016-12-20",
          "2016-12-21",
          "2016-12-22",
          "2016-12-23",
          "2016-12-27",
          "2016-12-28",
          "2016-12-29",
          "2016-12-30",
          "2017-01-03",
          "2017-01-04",
          "2017-01-05",
          "2017-01-06",
          "2017-01-09",
          "2017-01-10",
          "2017-01-11",
          "2017-01-12",
          "2017-01-13",
          "2017-01-17",
          "2017-01-18",
          "2017-01-19",
          "2017-01-20",
          "2017-01-23",
          "2017-01-24",
          "2017-01-25",
          "2017-01-26",
          "2017-01-27",
          "2017-01-30",
          "2017-01-31",
          "2017-02-01",
          "2017-02-02",
          "2017-02-03",
          "2017-02-06",
          "2017-02-07",
          "2017-02-08",
          "2017-02-09",
          "2017-02-10",
          "2017-02-13",
          "2017-02-14",
          "2017-02-15",
          "2017-02-16",
          "2017-02-17",
          "2017-02-21",
          "2017-02-22",
          "2017-02-23",
          "2017-02-24",
          "2017-02-27",
          "2017-02-28",
          "2017-03-01",
          "2017-03-02",
          "2017-03-03",
          "2017-03-06",
          "2017-03-07",
          "2017-03-08",
          "2017-03-09",
          "2017-03-10",
          "2017-03-13",
          "2017-03-14",
          "2017-03-15",
          "2017-03-16",
          "2017-03-17",
          "2017-03-20",
          "2017-03-21",
          "2017-03-22",
          "2017-03-23",
          "2017-03-24",
          "2017-03-27",
          "2017-03-28",
          "2017-03-29",
          "2017-03-30",
          "2017-03-31",
          "2017-04-03",
          "2017-04-04",
          "2017-04-05",
          "2017-04-06",
          "2017-04-07",
          "2017-04-10",
          "2017-04-11",
          "2017-04-12",
          "2017-04-13",
          "2017-04-17",
          "2017-04-18",
          "2017-04-19",
          "2017-04-20",
          "2017-04-21",
          "2017-04-24",
          "2017-04-25",
          "2017-04-26",
          "2017-04-27",
          "2017-04-28",
          "2017-05-01",
          "2017-05-02",
          "2017-05-03",
          "2017-05-04",
          "2017-05-05",
          "2017-05-08",
          "2017-05-09",
          "2017-05-10",
          "2017-05-11",
          "2017-05-12",
          "2017-05-15",
          "2017-05-16",
          "2017-05-17",
          "2017-05-18",
          "2017-05-19",
          "2017-05-22",
          "2017-05-23",
          "2017-05-24",
          "2017-05-25",
          "2017-05-26",
          "2017-05-30",
          "2017-05-31",
          "2017-06-01",
          "2017-06-02",
          "2017-06-05",
          "2017-06-06",
          "2017-06-07",
          "2017-06-08",
          "2017-06-09",
          "2017-06-12",
          "2017-06-13",
          "2017-06-14",
          "2017-06-15",
          "2017-06-16",
          "2017-06-19",
          "2017-06-20",
          "2017-06-21",
          "2017-06-22",
          "2017-06-23",
          "2017-06-26",
          "2017-06-27",
          "2017-06-28",
          "2017-06-29",
          "2017-06-30",
          "2017-07-03",
          "2017-07-05",
          "2017-07-06",
          "2017-07-07",
          "2017-07-10",
          "2017-07-11",
          "2017-07-12",
          "2017-07-13",
          "2017-07-14",
          "2017-07-17",
          "2017-07-18",
          "2017-07-19",
          "2017-07-20",
          "2017-07-21",
          "2017-07-24",
          "2017-07-25",
          "2017-07-26",
          "2017-07-27",
          "2017-07-28",
          "2017-07-31",
          "2017-08-01",
          "2017-08-02",
          "2017-08-03",
          "2017-08-04",
          "2017-08-07",
          "2017-08-08",
          "2017-08-09",
          "2017-08-10",
          "2017-08-11",
          "2017-08-14",
          "2017-08-15",
          "2017-08-16",
          "2017-08-17",
          "2017-08-18",
          "2017-08-21",
          "2017-08-22",
          "2017-08-23",
          "2017-08-24",
          "2017-08-25",
          "2017-08-28",
          "2017-08-29",
          "2017-08-30",
          "2017-08-31",
          "2017-09-01",
          "2017-09-05",
          "2017-09-06",
          "2017-09-07",
          "2017-09-08",
          "2017-09-11",
          "2017-09-12",
          "2017-09-13",
          "2017-09-14",
          "2017-09-15",
          "2017-09-18",
          "2017-09-19",
          "2017-09-20",
          "2017-09-21",
          "2017-09-22",
          "2017-09-25",
          "2017-09-26",
          "2017-09-27",
          "2017-09-28",
          "2017-09-29",
          "2017-10-02",
          "2017-10-03",
          "2017-10-04",
          "2017-10-05",
          "2017-10-06",
          "2017-10-09",
          "2017-10-10",
          "2017-10-11",
          "2017-10-12",
          "2017-10-13",
          "2017-10-16",
          "2017-10-17",
          "2017-10-18",
          "2017-10-19",
          "2017-10-20",
          "2017-10-23",
          "2017-10-24",
          "2017-10-25",
          "2017-10-26",
          "2017-10-27",
          "2017-10-30",
          "2017-10-31",
          "2017-11-01",
          "2017-11-02",
          "2017-11-03",
          "2017-11-06",
          "2017-11-07",
          "2017-11-08",
          "2017-11-09",
          "2017-11-10",
          "2017-11-13",
          "2017-11-14",
          "2017-11-15",
          "2017-11-16",
          "2017-11-17",
          "2017-11-20",
          "2017-11-21",
          "2017-11-22",
          "2017-11-24",
          "2017-11-27",
          "2017-11-28",
          "2017-11-29",
          "2017-11-30",
          "2017-12-01",
          "2017-12-04",
          "2017-12-05",
          "2017-12-06",
          "2017-12-07",
          "2017-12-08",
          "2017-12-11",
          "2017-12-12",
          "2017-12-13",
          "2017-12-14",
          "2017-12-15",
          "2017-12-18",
          "2017-12-19",
          "2017-12-20",
          "2017-12-21",
          "2017-12-22",
          "2017-12-26",
          "2017-12-27",
          "2017-12-28",
          "2017-12-29",
          "2018-01-02",
          "2018-01-03",
          "2018-01-04",
          "2018-01-05",
          "2018-01-08",
          "2018-01-09",
          "2018-01-10",
          "2018-01-11",
          "2018-01-12",
          "2018-01-16",
          "2018-01-17",
          "2018-01-18",
          "2018-01-19",
          "2018-01-22",
          "2018-01-23",
          "2018-01-24",
          "2018-01-25",
          "2018-01-26",
          "2018-01-29",
          "2018-01-30",
          "2018-01-31",
          "2018-02-01",
          "2018-02-02",
          "2018-02-05",
          "2018-02-06",
          "2018-02-07",
          "2018-02-08",
          "2018-02-09",
          "2018-02-12",
          "2018-02-13",
          "2018-02-14",
          "2018-02-15",
          "2018-02-16",
          "2018-02-20",
          "2018-02-21",
          "2018-02-22",
          "2018-02-23",
          "2018-02-26",
          "2018-02-27",
          "2018-02-28",
          "2018-03-01",
          "2018-03-02",
          "2018-03-05",
          "2018-03-06",
          "2018-03-07",
          "2018-03-08",
          "2018-03-09",
          "2018-03-12",
          "2018-03-13",
          "2018-03-14",
          "2018-03-15",
          "2018-03-16",
          "2018-03-19",
          "2018-03-20",
          "2018-03-21",
          "2018-03-22",
          "2018-03-23",
          "2018-03-26",
          "2018-03-27",
          "2018-03-28",
          "2018-03-29",
          "2018-04-02",
          "2018-04-03",
          "2018-04-04",
          "2018-04-05",
          "2018-04-06",
          "2018-04-09",
          "2018-04-10",
          "2018-04-11",
          "2018-04-12",
          "2018-04-13",
          "2018-04-16",
          "2018-04-17",
          "2018-04-18",
          "2018-04-19",
          "2018-04-20",
          "2018-04-23",
          "2018-04-24",
          "2018-04-25",
          "2018-04-26",
          "2018-04-27",
          "2018-04-30",
          "2018-05-01",
          "2018-05-02",
          "2018-05-03",
          "2018-05-04",
          "2018-05-07",
          "2018-05-08",
          "2018-05-09",
          "2018-05-10",
          "2018-05-11",
          "2018-05-14",
          "2018-05-15",
          "2018-05-16",
          "2018-05-17",
          "2018-05-18",
          "2018-05-21",
          "2018-05-22",
          "2018-05-23",
          "2018-05-24",
          "2018-05-25",
          "2018-05-29",
          "2018-05-30",
          "2018-05-31",
          "2018-06-01",
          "2018-06-04",
          "2018-06-05",
          "2018-06-06",
          "2018-06-07",
          "2018-06-08",
          "2018-06-11",
          "2018-06-12",
          "2018-06-13",
          "2018-06-14",
          "2018-06-15",
          "2018-06-18",
          "2018-06-19",
          "2018-06-20",
          "2018-06-21",
          "2018-06-22",
          "2018-06-25",
          "2018-06-26",
          "2018-06-27",
          "2018-06-28",
          "2018-06-29",
          "2018-07-02",
          "2018-07-03",
          "2018-07-05",
          "2018-07-06",
          "2018-07-09",
          "2018-07-10",
          "2018-07-11",
          "2018-07-12",
          "2018-07-13",
          "2018-07-16",
          "2018-07-17",
          "2018-07-18",
          "2018-07-19",
          "2018-07-20",
          "2018-07-23",
          "2018-07-24",
          "2018-07-25",
          "2018-07-26",
          "2018-07-27",
          "2018-07-30",
          "2018-07-31",
          "2018-08-01",
          "2018-08-02",
          "2018-08-03",
          "2018-08-06",
          "2018-08-07",
          "2018-08-08",
          "2018-08-09",
          "2018-08-10",
          "2018-08-13",
          "2018-08-14",
          "2018-08-15",
          "2018-08-16",
          "2018-08-17",
          "2018-08-20",
          "2018-08-21",
          "2018-08-22",
          "2018-08-23",
          "2018-08-24",
          "2018-08-27",
          "2018-08-28",
          "2018-08-29",
          "2018-08-30",
          "2018-08-31",
          "2018-09-04",
          "2018-09-05",
          "2018-09-06",
          "2018-09-07",
          "2018-09-10",
          "2018-09-11",
          "2018-09-12",
          "2018-09-13",
          "2018-09-14",
          "2018-09-17",
          "2018-09-18",
          "2018-09-19",
          "2018-09-20",
          "2018-09-21",
          "2018-09-24",
          "2018-09-25",
          "2018-09-26",
          "2018-09-27",
          "2018-09-28",
          "2018-10-01",
          "2018-10-02",
          "2018-10-03",
          "2018-10-04",
          "2018-10-05",
          "2018-10-08",
          "2018-10-09",
          "2018-10-10",
          "2018-10-11",
          "2018-10-12",
          "2018-10-15",
          "2018-10-16",
          "2018-10-17",
          "2018-10-18",
          "2018-10-19",
          "2018-10-22",
          "2018-10-23",
          "2018-10-24",
          "2018-10-25",
          "2018-10-26",
          "2018-10-29",
          "2018-10-30",
          "2018-10-31",
          "2018-11-01",
          "2018-11-02",
          "2018-11-05",
          "2018-11-06",
          "2018-11-07",
          "2018-11-08",
          "2018-11-09",
          "2018-11-12",
          "2018-11-13",
          "2018-11-14",
          "2018-11-15",
          "2018-11-16",
          "2018-11-19",
          "2018-11-20",
          "2018-11-21",
          "2018-11-23",
          "2018-11-26",
          "2018-11-27",
          "2018-11-28",
          "2018-11-29",
          "2018-11-30",
          "2018-12-03",
          "2018-12-04",
          "2018-12-05",
          "2018-12-06",
          "2018-12-07",
          "2018-12-10",
          "2018-12-11",
          "2018-12-12",
          "2018-12-13",
          "2018-12-14",
          "2018-12-17",
          "2018-12-18",
          "2018-12-19",
          "2018-12-20",
          "2018-12-21",
          "2018-12-24",
          "2018-12-26",
          "2018-12-27",
          "2018-12-28",
          "2018-12-31",
          "2019-01-02",
          "2019-01-03",
          "2019-01-04",
          "2019-01-07",
          "2019-01-08",
          "2019-01-09",
          "2019-01-10",
          "2019-01-11",
          "2019-01-14",
          "2019-01-15",
          "2019-01-16",
          "2019-01-17",
          "2019-01-18",
          "2019-01-22",
          "2019-01-23",
          "2019-01-24",
          "2019-01-25",
          "2019-01-28",
          "2019-01-29",
          "2019-01-30",
          "2019-01-31",
          "2019-02-01",
          "2019-02-04",
          "2019-02-05",
          "2019-02-06",
          "2019-02-07",
          "2019-02-08",
          "2019-02-11",
          "2019-02-12",
          "2019-02-13",
          "2019-02-14",
          "2019-02-15",
          "2019-02-19",
          "2019-02-20",
          "2019-02-21",
          "2019-02-22",
          "2019-02-25",
          "2019-02-26",
          "2019-02-27",
          "2019-02-28",
          "2019-03-01",
          "2019-03-04",
          "2019-03-05",
          "2019-03-06",
          "2019-03-07",
          "2019-03-08",
          "2019-03-11",
          "2019-03-12",
          "2019-03-13",
          "2019-03-14",
          "2019-03-15",
          "2019-03-18",
          "2019-03-19",
          "2019-03-20",
          "2019-03-21",
          "2019-03-22",
          "2019-03-25",
          "2019-03-26",
          "2019-03-27",
          "2019-03-28",
          "2019-03-29",
          "2019-04-01",
          "2019-04-02",
          "2019-04-03",
          "2019-04-04",
          "2019-04-05",
          "2019-04-08",
          "2019-04-09",
          "2019-04-10",
          "2019-04-11",
          "2019-04-12",
          "2019-04-15",
          "2019-04-16",
          "2019-04-17",
          "2019-04-18",
          "2019-04-22",
          "2019-04-23",
          "2019-04-24",
          "2019-04-25",
          "2019-04-26",
          "2019-04-29",
          "2019-04-30",
          "2019-05-01",
          "2019-05-02",
          "2019-05-03",
          "2019-05-06",
          "2019-05-07",
          "2019-05-08",
          "2019-05-09",
          "2019-05-10",
          "2019-05-13",
          "2019-05-14",
          "2019-05-15",
          "2019-05-16",
          "2019-05-17",
          "2019-05-20",
          "2019-05-21",
          "2019-05-22",
          "2019-05-23",
          "2019-05-24",
          "2019-05-28",
          "2019-05-29",
          "2019-05-30",
          "2019-05-31",
          "2019-06-03",
          "2019-06-04",
          "2019-06-05",
          "2019-06-06",
          "2019-06-07",
          "2019-06-10",
          "2019-06-11",
          "2019-06-12",
          "2019-06-13",
          "2019-06-14",
          "2019-06-17",
          "2019-06-18",
          "2019-06-19",
          "2019-06-20",
          "2019-06-21",
          "2019-06-24",
          "2019-06-25",
          "2019-06-26",
          "2019-06-27",
          "2019-06-28",
          "2019-07-01",
          "2019-07-02",
          "2019-07-03",
          "2019-07-05",
          "2019-07-08",
          "2019-07-09",
          "2019-07-10",
          "2019-07-11",
          "2019-07-12",
          "2019-07-15",
          "2019-07-16",
          "2019-07-17",
          "2019-07-18",
          "2019-07-19",
          "2019-07-22",
          "2019-07-23",
          "2019-07-24",
          "2019-07-25",
          "2019-07-26",
          "2019-07-29",
          "2019-07-30",
          "2019-07-31",
          "2019-08-01",
          "2019-08-02",
          "2019-08-05",
          "2019-08-06",
          "2019-08-07",
          "2019-08-08",
          "2019-08-09",
          "2019-08-12",
          "2019-08-13",
          "2019-08-14",
          "2019-08-15",
          "2019-08-16",
          "2019-08-19",
          "2019-08-20",
          "2019-08-21",
          "2019-08-22",
          "2019-08-23",
          "2019-08-26",
          "2019-08-27",
          "2019-08-28",
          "2019-08-29",
          "2019-08-30",
          "2019-09-03",
          "2019-09-04",
          "2019-09-05",
          "2019-09-06",
          "2019-09-09",
          "2019-09-10",
          "2019-09-11",
          "2019-09-12",
          "2019-09-13",
          "2019-09-16",
          "2019-09-17",
          "2019-09-18",
          "2019-09-19",
          "2019-09-20",
          "2019-09-23",
          "2019-09-24",
          "2019-09-25",
          "2019-09-26",
          "2019-09-27",
          "2019-09-30",
          "2019-10-01",
          "2019-10-02",
          "2019-10-03",
          "2019-10-04",
          "2019-10-07",
          "2019-10-08",
          "2019-10-09",
          "2019-10-10",
          "2019-10-11",
          "2019-10-14",
          "2019-10-15",
          "2019-10-16",
          "2019-10-17",
          "2019-10-18",
          "2019-10-21",
          "2019-10-22",
          "2019-10-23",
          "2019-10-24",
          "2019-10-25",
          "2019-10-28",
          "2019-10-29",
          "2019-10-30",
          "2019-10-31",
          "2019-11-01",
          "2019-11-04",
          "2019-11-05",
          "2019-11-06",
          "2019-11-07",
          "2019-11-08",
          "2019-11-11",
          "2019-11-12",
          "2019-11-13",
          "2019-11-14",
          "2019-11-15",
          "2019-11-18",
          "2019-11-19",
          "2019-11-20",
          "2019-11-21",
          "2019-11-22",
          "2019-11-25",
          "2019-11-26",
          "2019-11-27",
          "2019-11-29",
          "2019-12-02",
          "2019-12-03",
          "2019-12-04",
          "2019-12-05",
          "2019-12-06",
          "2019-12-09",
          "2019-12-10",
          "2019-12-11",
          "2019-12-12",
          "2019-12-13",
          "2019-12-16",
          "2019-12-17",
          "2019-12-18",
          "2019-12-19",
          "2019-12-20",
          "2019-12-23",
          "2019-12-24",
          "2019-12-26",
          "2019-12-27",
          "2019-12-30",
          "2019-12-31",
          "2020-01-02",
          "2020-01-03",
          "2020-01-06",
          "2020-01-07",
          "2020-01-08",
          "2020-01-09",
          "2020-01-10",
          "2020-01-13",
          "2020-01-14",
          "2020-01-15",
          "2020-01-16",
          "2020-01-17",
          "2020-01-21",
          "2020-01-22",
          "2020-01-23",
          "2020-01-24",
          "2020-01-27",
          "2020-01-28",
          "2020-01-29",
          "2020-01-30",
          "2020-01-31",
          "2020-02-03",
          "2020-02-04",
          "2020-02-05",
          "2020-02-06",
          "2020-02-07",
          "2020-02-10",
          "2020-02-11",
          "2020-02-12",
          "2020-02-13",
          "2020-02-14",
          "2020-02-18",
          "2020-02-19",
          "2020-02-20",
          "2020-02-21",
          "2020-02-24",
          "2020-02-25",
          "2020-02-26",
          "2020-02-27",
          "2020-02-28",
          "2020-03-02",
          "2020-03-03",
          "2020-03-04",
          "2020-03-05",
          "2020-03-06",
          "2020-03-09",
          "2020-03-10",
          "2020-03-11",
          "2020-03-12",
          "2020-03-13",
          "2020-03-16",
          "2020-03-17",
          "2020-03-18",
          "2020-03-19",
          "2020-03-20",
          "2020-03-23",
          "2020-03-24",
          "2020-03-25",
          "2020-03-26",
          "2020-03-27",
          "2020-03-30",
          "2020-03-31",
          "2020-04-01",
          "2020-04-02",
          "2020-04-03",
          "2020-04-06",
          "2020-04-07",
          "2020-04-08",
          "2020-04-09",
          "2020-04-13",
          "2020-04-14",
          "2020-04-15",
          "2020-04-16",
          "2020-04-17",
          "2020-04-20",
          "2020-04-21",
          "2020-04-22",
          "2020-04-23",
          "2020-04-24",
          "2020-04-27",
          "2020-04-28",
          "2020-04-29",
          "2020-04-30",
          "2020-05-01",
          "2020-05-04",
          "2020-05-05",
          "2020-05-06",
          "2020-05-07",
          "2020-05-08"
         ],
         "y": [
          46.33,
          47.85,
          49.88,
          48.33,
          48.99,
          46.6,
          47.43,
          45.14,
          45.41,
          44.76,
          46.8,
          44.75,
          45.68,
          45.95,
          45.24,
          44.65,
          44.94,
          44.75,
          44.19,
          43.13,
          42.92,
          41.92,
          41.14,
          41.6,
          40.06,
          39.51,
          40.83,
          41.93,
          41.8,
          43.02,
          42.77,
          41.71,
          43.49,
          44.49,
          45.74,
          46.58,
          46.79,
          48.22,
          48.52,
          47.05,
          48.1,
          46.77,
          47.33,
          47.64,
          46.98,
          46.35,
          44.7,
          43.16,
          44.44,
          44.83,
          45.5,
          47.62,
          45.88,
          46.29,
          44.9,
          43.58,
          43.91,
          43.03,
          43.3,
          43.44,
          45.34,
          46.32,
          44.48,
          45.93,
          44.67,
          47.05,
          47.83,
          48.24,
          48.81,
          48.69,
          49.83,
          50.44,
          49.81,
          51.35,
          50.79,
          50.18,
          50.44,
          50.35,
          49.94,
          50.29,
          51.6,
          50.43,
          50.85,
          50.52,
          49.96,
          49.18,
          49.72,
          48.7,
          46.86,
          46.67,
          45.34,
          44.66,
          44.07,
          44.89,
          44.98,
          45.27,
          44.66,
          43.41,
          43.32,
          45.81,
          45.57,
          45.42,
          45.69,
          47.49,
          48.03,
          47.96,
          46.06,
          47.08,
          45.23,
          49.44,
          51.06,
          51.68,
          51.79,
          50.93,
          49.77,
          50.84,
          51.5,
          52.83,
          52.98,
          51.04,
          50.9,
          51.9,
          52.12,
          52.23,
          52.49,
          52.95,
          53.02,
          53.9,
          54.06,
          53.77,
          53.72,
          52.33,
          53.26,
          53.76,
          53.99,
          51.96,
          50.82,
          52.25,
          53.01,
          52.37,
          52.48,
          51.08,
          51.37,
          52.42,
          52.75,
          53.18,
          52.75,
          53.78,
          53.17,
          52.63,
          52.81,
          53.88,
          53.54,
          53.83,
          53.01,
          52.17,
          52.34,
          53,
          53.86,
          52.93,
          53.2,
          53.11,
          53.36,
          53.4,
          54.06,
          53.59,
          54.45,
          53.99,
          54.05,
          54.01,
          53.83,
          52.61,
          53.33,
          53.2,
          53.14,
          50.28,
          49.28,
          48.49,
          48.4,
          47.72,
          48.86,
          48.75,
          48.78,
          48.22,
          47.34,
          48.04,
          47.7,
          47.97,
          47.73,
          48.37,
          49.51,
          50.35,
          50.6,
          50.24,
          51.03,
          51.15,
          51.7,
          52.24,
          53.08,
          53.4,
          53.11,
          53.18,
          52.65,
          52.41,
          50.44,
          50.27,
          49.62,
          49.23,
          49.56,
          49.62,
          48.97,
          49.33,
          48.84,
          47.66,
          47.82,
          45.52,
          46.22,
          46.43,
          45.88,
          47.33,
          47.83,
          47.84,
          48.85,
          48.66,
          49.07,
          49.35,
          50.33,
          50.73,
          51.47,
          51.36,
          48.9,
          49.8,
          49.66,
          48.32,
          48.36,
          47.66,
          47.4,
          48.19,
          45.72,
          45.64,
          45.83,
          46.08,
          46.46,
          44.73,
          44.46,
          44.74,
          44.2,
          43.23,
          42.53,
          42.74,
          43.01,
          43.38,
          44.24,
          44.74,
          44.93,
          46.04,
          47.07,
          45.13,
          45.52,
          44.23,
          44.4,
          45.04,
          45.49,
          46.08,
          46.54,
          46.02,
          46.4,
          47.12,
          46.79,
          45.77,
          46.34,
          47.89,
          48.75,
          49.04,
          49.71,
          50.17,
          49.16,
          49.59,
          49.03,
          49.58,
          49.39,
          49.17,
          49.56,
          48.59,
          48.82,
          47.59,
          47.55,
          46.78,
          47.09,
          48.51,
          47.37,
          47.64,
          48.41,
          47.43,
          47.87,
          46.57,
          46.44,
          45.96,
          47.23,
          47.29,
          48.66,
          49.16,
          49.09,
          47.48,
          48.07,
          48.23,
          49.3,
          49.89,
          49.89,
          49.91,
          49.48,
          50.41,
          50.55,
          50.66,
          52.22,
          51.88,
          52.14,
          51.56,
          51.67,
          50.58,
          50.42,
          49.98,
          50.79,
          49.29,
          49.58,
          50.92,
          51.3,
          50.6,
          51.45,
          51.87,
          51.88,
          52.04,
          51.29,
          51.47,
          51.9,
          52.47,
          52.18,
          52.64,
          53.9,
          54.15,
          54.38,
          54.3,
          54.54,
          55.64,
          57.35,
          57.2,
          56.81,
          57.17,
          56.74,
          56.76,
          55.7,
          55.33,
          55.14,
          56.55,
          56.09,
          56.83,
          58.02,
          58.95,
          58.11,
          57.99,
          57.3,
          57.4,
          58.36,
          57.47,
          57.62,
          55.96,
          56.69,
          57.36,
          57.99,
          57.14,
          56.6,
          57.04,
          57.3,
          57.16,
          57.46,
          58.09,
          58.36,
          58.47,
          59.97,
          59.64,
          59.84,
          60.42,
          60.37,
          61.63,
          62.01,
          61.44,
          61.73,
          62.96,
          63.57,
          63.8,
          64.3,
          63.73,
          63.97,
          63.95,
          63.37,
          63.49,
          64.47,
          65.61,
          65.51,
          66.14,
          65.56,
          64.5,
          64.73,
          65.8,
          65.45,
          64.15,
          63.39,
          61.79,
          61.15,
          59.2,
          59.29,
          59.19,
          60.6,
          61.34,
          61.68,
          61.9,
          61.68,
          62.77,
          63.55,
          63.91,
          63.01,
          61.64,
          60.99,
          61.25,
          62.57,
          62.6,
          61.15,
          60.12,
          62.04,
          61.36,
          60.71,
          60.96,
          61.19,
          62.34,
          62.06,
          63.4,
          65.17,
          64.3,
          65.88,
          65.55,
          65.25,
          64.38,
          64.94,
          63.01,
          63.51,
          63.37,
          63.54,
          62.06,
          63.42,
          65.51,
          66.82,
          67.07,
          67.39,
          66.22,
          66.52,
          68.47,
          68.29,
          68.38,
          68.64,
          67.7,
          68.05,
          68.19,
          68.1,
          68.57,
          67.25,
          67.93,
          68.43,
          69.72,
          70.73,
          69.06,
          71.14,
          71.36,
          70.7,
          70.96,
          71.31,
          71.49,
          71.49,
          71.28,
          72.24,
          72.13,
          71.84,
          70.71,
          67.88,
          66.73,
          68.21,
          67.04,
          65.81,
          64.75,
          65.52,
          64.73,
          65.95,
          65.74,
          66.1,
          66.36,
          66.64,
          66.89,
          65.06,
          65.85,
          65.07,
          66.22,
          65.54,
          68.58,
          68.08,
          70.53,
          72.76,
          73.45,
          74.15,
          73.94,
          74.14,
          72.94,
          73.8,
          73.85,
          74.11,
          70.38,
          70.33,
          71.01,
          68.06,
          68.08,
          68.76,
          69.46,
          70.46,
          67.89,
          68.52,
          69.3,
          69.61,
          68.69,
          70.13,
          68.76,
          67.66,
          68.96,
          68.49,
          69.01,
          69.17,
          66.94,
          66.81,
          67.63,
          67.2,
          67.04,
          65.01,
          65.46,
          65.91,
          66.43,
          67.35,
          67.86,
          67.83,
          68.72,
          68.87,
          68.53,
          69.51,
          70.25,
          69.8,
          69.87,
          68.72,
          67.77,
          67.75,
          67.54,
          69.25,
          70.37,
          68.59,
          68.99,
          68.91,
          69.85,
          71.12,
          70.8,
          70.78,
          72.08,
          72.28,
          71.57,
          72.12,
          73.25,
          75.3,
          75.23,
          76.41,
          74.33,
          74.34,
          74.29,
          74.96,
          73.17,
          70.97,
          71.34,
          71.78,
          71.92,
          69.75,
          68.65,
          69.12,
          69.17,
          66.43,
          66.82,
          67.33,
          67.59,
          67.04,
          66.18,
          65.31,
          63.69,
          63.14,
          63.1,
          62.21,
          61.67,
          60.67,
          60.19,
          59.93,
          55.69,
          56.25,
          56.46,
          56.46,
          56.76,
          53.43,
          54.63,
          50.42,
          51.63,
          51.56,
          50.29,
          51.45,
          50.93,
          52.95,
          53.25,
          52.89,
          51.49,
          52.61,
          51,
          51.65,
          51.15,
          52.58,
          51.2,
          49.88,
          46.24,
          47.2,
          45.88,
          45.59,
          42.53,
          46.22,
          44.61,
          45.33,
          45.41,
          46.54,
          47.09,
          47.96,
          48.52,
          49.78,
          52.36,
          52.59,
          51.59,
          50.51,
          52.11,
          52.31,
          52.07,
          53.8,
          52.57,
          52.62,
          53.13,
          53.69,
          51.99,
          53.31,
          54.23,
          53.79,
          55.26,
          54.56,
          53.66,
          54.01,
          52.64,
          52.72,
          52.41,
          53.1,
          53.9,
          54.41,
          55.59,
          56.09,
          56.92,
          56.96,
          57.26,
          55.48,
          55.5,
          56.94,
          57.22,
          55.8,
          56.59,
          56.56,
          56.22,
          56.66,
          56.07,
          56.79,
          56.87,
          58.26,
          58.61,
          58.52,
          59.09,
          59.03,
          59.83,
          59.98,
          59.04,
          58.82,
          59.94,
          59.41,
          59.3,
          60.14,
          61.59,
          62.58,
          62.46,
          62.1,
          63.08,
          64.4,
          63.98,
          64.61,
          63.58,
          63.89,
          63.4,
          64.05,
          63.76,
          64,
          65.7,
          66.3,
          65.89,
          65.21,
          63.3,
          63.5,
          63.91,
          63.6,
          61.81,
          61.94,
          62.25,
          61.4,
          62.12,
          61.7,
          61.66,
          61.04,
          61.78,
          62.02,
          62.87,
          62.76,
          63.1,
          62.99,
          61.42,
          57.91,
          58.63,
          59.14,
          58.81,
          56.59,
          53.5,
          53.25,
          53.48,
          51.68,
          52.59,
          53.99,
          53.26,
          53.27,
          51.14,
          52.28,
          52.51,
          51.93,
          53.9,
          53.76,
          56.65,
          57.43,
          57.9,
          57.83,
          59.38,
          59.43,
          58.47,
          59.09,
          56.25,
          57.34,
          57.51,
          57.66,
          57.83,
          60.43,
          60.2,
          60.21,
          59.58,
          57.62,
          56.78,
          55.3,
          55.63,
          56.22,
          56.77,
          55.88,
          56.02,
          56.2,
          56.87,
          58.05,
          58.58,
          53.95,
          55.66,
          54.69,
          53.63,
          51.09,
          52.54,
          54.5,
          54.93,
          57.1,
          55.23,
          54.47,
          54.87,
          56.21,
          56.34,
          55.68,
          55.35,
          54.17,
          53.64,
          54.93,
          55.78,
          56.71,
          55.1,
          53.94,
          56.26,
          56.3,
          56.52,
          57.85,
          57.4,
          55.75,
          55.09,
          54.85,
          62.9,
          59.34,
          58.11,
          58.13,
          58.09,
          58.64,
          57.29,
          56.49,
          56.41,
          55.91,
          54.07,
          53.62,
          52.64,
          52.45,
          52.81,
          52.75,
          52.63,
          52.59,
          53.55,
          54.7,
          53.59,
          52.81,
          53.36,
          53.93,
          53.78,
          53.31,
          54.16,
          55.97,
          56.23,
          56.66,
          55.81,
          55.54,
          55.06,
          54.18,
          56.2,
          56.54,
          57.23,
          56.35,
          57.15,
          57.24,
          56.86,
          56.8,
          57.12,
          56.77,
          57.72,
          57.05,
          55.21,
          57.11,
          58.58,
          57.77,
          58.01,
          58.41,
          58.11,
          55.17,
          55.96,
          56.1,
          58.43,
          58.43,
          59.2,
          59.02,
          59.24,
          58.76,
          59.18,
          60.07,
          60.21,
          60.94,
          60.93,
          61.22,
          60.44,
          60.52,
          61.11,
          61.68,
          61.72,
          61.68,
          61.06,
          61.18,
          63.05,
          63.27,
          62.7,
          59.61,
          59.56,
          59.04,
          58.08,
          58.23,
          57.81,
          58.52,
          58.54,
          58.34,
          56.74,
          55.59,
          54.19,
          53.14,
          53.48,
          53.33,
          52.14,
          51.56,
          50.11,
          49.61,
          50.75,
          50.95,
          50.32,
          49.57,
          49.94,
          51.17,
          51.42,
          52.05,
          52.05,
          53.29,
          53.78,
          53.38,
          51.43,
          49.9,
          48.73,
          47.09,
          44.76,
          46.75,
          47.18,
          46.78,
          45.9,
          41.28,
          31.13,
          34.36,
          32.98,
          31.5,
          31.73,
          28.7,
          26.95,
          20.37,
          25.22,
          22.43,
          23.36,
          24.01,
          24.49,
          22.6,
          21.51,
          20.09,
          20.48,
          20.31,
          25.32,
          28.34,
          26.08,
          23.63,
          25.09,
          22.76,
          22.41,
          20.11,
          19.87,
          19.87,
          18.27,
          -37.63,
          10.01,
          13.78,
          16.5,
          16.94,
          12.78,
          12.34,
          15.06,
          18.84,
          19.78,
          20.39,
          24.56,
          23.99,
          23.55,
          24.74
         ]
        },
        {
         "line": {
          "color": "#607D8B",
          "dash": "solid",
          "shape": "linear",
          "width": 1
         },
         "mode": "lines",
         "name": "ICEブレント",
         "text": "",
         "type": "scatter",
         "x": [
          "2016-06-27",
          "2016-06-28",
          "2016-06-29",
          "2016-06-30",
          "2016-07-01",
          "2016-07-05",
          "2016-07-06",
          "2016-07-07",
          "2016-07-08",
          "2016-07-11",
          "2016-07-12",
          "2016-07-13",
          "2016-07-14",
          "2016-07-15",
          "2016-07-18",
          "2016-07-19",
          "2016-07-20",
          "2016-07-21",
          "2016-07-22",
          "2016-07-25",
          "2016-07-26",
          "2016-07-27",
          "2016-07-28",
          "2016-07-29",
          "2016-08-01",
          "2016-08-02",
          "2016-08-03",
          "2016-08-04",
          "2016-08-05",
          "2016-08-08",
          "2016-08-09",
          "2016-08-10",
          "2016-08-11",
          "2016-08-12",
          "2016-08-15",
          "2016-08-16",
          "2016-08-17",
          "2016-08-18",
          "2016-08-19",
          "2016-08-22",
          "2016-08-23",
          "2016-08-24",
          "2016-08-25",
          "2016-08-26",
          "2016-08-29",
          "2016-08-30",
          "2016-08-31",
          "2016-09-01",
          "2016-09-02",
          "2016-09-06",
          "2016-09-07",
          "2016-09-08",
          "2016-09-09",
          "2016-09-12",
          "2016-09-13",
          "2016-09-14",
          "2016-09-15",
          "2016-09-16",
          "2016-09-19",
          "2016-09-20",
          "2016-09-21",
          "2016-09-22",
          "2016-09-23",
          "2016-09-26",
          "2016-09-27",
          "2016-09-28",
          "2016-09-29",
          "2016-09-30",
          "2016-10-03",
          "2016-10-04",
          "2016-10-05",
          "2016-10-06",
          "2016-10-07",
          "2016-10-10",
          "2016-10-11",
          "2016-10-12",
          "2016-10-13",
          "2016-10-14",
          "2016-10-17",
          "2016-10-18",
          "2016-10-19",
          "2016-10-20",
          "2016-10-21",
          "2016-10-24",
          "2016-10-25",
          "2016-10-26",
          "2016-10-27",
          "2016-10-28",
          "2016-10-31",
          "2016-11-01",
          "2016-11-02",
          "2016-11-03",
          "2016-11-04",
          "2016-11-07",
          "2016-11-08",
          "2016-11-09",
          "2016-11-10",
          "2016-11-11",
          "2016-11-14",
          "2016-11-15",
          "2016-11-16",
          "2016-11-17",
          "2016-11-18",
          "2016-11-21",
          "2016-11-22",
          "2016-11-23",
          "2016-11-25",
          "2016-11-28",
          "2016-11-29",
          "2016-11-30",
          "2016-12-01",
          "2016-12-02",
          "2016-12-05",
          "2016-12-06",
          "2016-12-07",
          "2016-12-08",
          "2016-12-09",
          "2016-12-12",
          "2016-12-13",
          "2016-12-14",
          "2016-12-15",
          "2016-12-16",
          "2016-12-19",
          "2016-12-20",
          "2016-12-21",
          "2016-12-22",
          "2016-12-23",
          "2016-12-27",
          "2016-12-28",
          "2016-12-29",
          "2016-12-30",
          "2017-01-03",
          "2017-01-04",
          "2017-01-05",
          "2017-01-06",
          "2017-01-09",
          "2017-01-10",
          "2017-01-11",
          "2017-01-12",
          "2017-01-13",
          "2017-01-17",
          "2017-01-18",
          "2017-01-19",
          "2017-01-20",
          "2017-01-23",
          "2017-01-24",
          "2017-01-25",
          "2017-01-26",
          "2017-01-27",
          "2017-01-30",
          "2017-01-31",
          "2017-02-01",
          "2017-02-02",
          "2017-02-03",
          "2017-02-06",
          "2017-02-07",
          "2017-02-08",
          "2017-02-09",
          "2017-02-10",
          "2017-02-13",
          "2017-02-14",
          "2017-02-15",
          "2017-02-16",
          "2017-02-17",
          "2017-02-21",
          "2017-02-22",
          "2017-02-23",
          "2017-02-24",
          "2017-02-27",
          "2017-02-28",
          "2017-03-01",
          "2017-03-02",
          "2017-03-03",
          "2017-03-06",
          "2017-03-07",
          "2017-03-08",
          "2017-03-09",
          "2017-03-10",
          "2017-03-13",
          "2017-03-14",
          "2017-03-15",
          "2017-03-16",
          "2017-03-17",
          "2017-03-20",
          "2017-03-21",
          "2017-03-22",
          "2017-03-23",
          "2017-03-24",
          "2017-03-27",
          "2017-03-28",
          "2017-03-29",
          "2017-03-30",
          "2017-03-31",
          "2017-04-03",
          "2017-04-04",
          "2017-04-05",
          "2017-04-06",
          "2017-04-07",
          "2017-04-10",
          "2017-04-11",
          "2017-04-12",
          "2017-04-13",
          "2017-04-17",
          "2017-04-18",
          "2017-04-19",
          "2017-04-20",
          "2017-04-21",
          "2017-04-24",
          "2017-04-25",
          "2017-04-26",
          "2017-04-27",
          "2017-04-28",
          "2017-05-01",
          "2017-05-02",
          "2017-05-03",
          "2017-05-04",
          "2017-05-05",
          "2017-05-08",
          "2017-05-09",
          "2017-05-10",
          "2017-05-11",
          "2017-05-12",
          "2017-05-15",
          "2017-05-16",
          "2017-05-17",
          "2017-05-18",
          "2017-05-19",
          "2017-05-22",
          "2017-05-23",
          "2017-05-24",
          "2017-05-25",
          "2017-05-26",
          "2017-05-30",
          "2017-05-31",
          "2017-06-01",
          "2017-06-02",
          "2017-06-05",
          "2017-06-06",
          "2017-06-07",
          "2017-06-08",
          "2017-06-09",
          "2017-06-12",
          "2017-06-13",
          "2017-06-14",
          "2017-06-15",
          "2017-06-16",
          "2017-06-19",
          "2017-06-20",
          "2017-06-21",
          "2017-06-22",
          "2017-06-23",
          "2017-06-26",
          "2017-06-27",
          "2017-06-28",
          "2017-06-29",
          "2017-06-30",
          "2017-07-03",
          "2017-07-05",
          "2017-07-06",
          "2017-07-07",
          "2017-07-10",
          "2017-07-11",
          "2017-07-12",
          "2017-07-13",
          "2017-07-14",
          "2017-07-17",
          "2017-07-18",
          "2017-07-19",
          "2017-07-20",
          "2017-07-21",
          "2017-07-24",
          "2017-07-25",
          "2017-07-26",
          "2017-07-27",
          "2017-07-28",
          "2017-07-31",
          "2017-08-01",
          "2017-08-02",
          "2017-08-03",
          "2017-08-04",
          "2017-08-07",
          "2017-08-08",
          "2017-08-09",
          "2017-08-10",
          "2017-08-11",
          "2017-08-14",
          "2017-08-15",
          "2017-08-16",
          "2017-08-17",
          "2017-08-18",
          "2017-08-21",
          "2017-08-22",
          "2017-08-23",
          "2017-08-24",
          "2017-08-25",
          "2017-08-28",
          "2017-08-29",
          "2017-08-30",
          "2017-08-31",
          "2017-09-01",
          "2017-09-05",
          "2017-09-06",
          "2017-09-07",
          "2017-09-08",
          "2017-09-11",
          "2017-09-12",
          "2017-09-13",
          "2017-09-14",
          "2017-09-15",
          "2017-09-18",
          "2017-09-19",
          "2017-09-20",
          "2017-09-21",
          "2017-09-22",
          "2017-09-25",
          "2017-09-26",
          "2017-09-27",
          "2017-09-28",
          "2017-09-29",
          "2017-10-02",
          "2017-10-03",
          "2017-10-04",
          "2017-10-05",
          "2017-10-06",
          "2017-10-09",
          "2017-10-10",
          "2017-10-11",
          "2017-10-12",
          "2017-10-13",
          "2017-10-16",
          "2017-10-17",
          "2017-10-18",
          "2017-10-19",
          "2017-10-20",
          "2017-10-23",
          "2017-10-24",
          "2017-10-25",
          "2017-10-26",
          "2017-10-27",
          "2017-10-30",
          "2017-10-31",
          "2017-11-01",
          "2017-11-02",
          "2017-11-03",
          "2017-11-06",
          "2017-11-07",
          "2017-11-08",
          "2017-11-09",
          "2017-11-10",
          "2017-11-13",
          "2017-11-14",
          "2017-11-15",
          "2017-11-16",
          "2017-11-17",
          "2017-11-20",
          "2017-11-21",
          "2017-11-22",
          "2017-11-24",
          "2017-11-27",
          "2017-11-28",
          "2017-11-29",
          "2017-11-30",
          "2017-12-01",
          "2017-12-04",
          "2017-12-05",
          "2017-12-06",
          "2017-12-07",
          "2017-12-08",
          "2017-12-11",
          "2017-12-12",
          "2017-12-13",
          "2017-12-14",
          "2017-12-15",
          "2017-12-18",
          "2017-12-19",
          "2017-12-20",
          "2017-12-21",
          "2017-12-22",
          "2017-12-26",
          "2017-12-27",
          "2017-12-28",
          "2017-12-29",
          "2018-01-02",
          "2018-01-03",
          "2018-01-04",
          "2018-01-05",
          "2018-01-08",
          "2018-01-09",
          "2018-01-10",
          "2018-01-11",
          "2018-01-12",
          "2018-01-16",
          "2018-01-17",
          "2018-01-18",
          "2018-01-19",
          "2018-01-22",
          "2018-01-23",
          "2018-01-24",
          "2018-01-25",
          "2018-01-26",
          "2018-01-29",
          "2018-01-30",
          "2018-01-31",
          "2018-02-01",
          "2018-02-02",
          "2018-02-05",
          "2018-02-06",
          "2018-02-07",
          "2018-02-08",
          "2018-02-09",
          "2018-02-12",
          "2018-02-13",
          "2018-02-14",
          "2018-02-15",
          "2018-02-16",
          "2018-02-20",
          "2018-02-21",
          "2018-02-22",
          "2018-02-23",
          "2018-02-26",
          "2018-02-27",
          "2018-02-28",
          "2018-03-01",
          "2018-03-02",
          "2018-03-05",
          "2018-03-06",
          "2018-03-07",
          "2018-03-08",
          "2018-03-09",
          "2018-03-12",
          "2018-03-13",
          "2018-03-14",
          "2018-03-15",
          "2018-03-16",
          "2018-03-19",
          "2018-03-20",
          "2018-03-21",
          "2018-03-22",
          "2018-03-23",
          "2018-03-26",
          "2018-03-27",
          "2018-03-28",
          "2018-03-29",
          "2018-04-02",
          "2018-04-03",
          "2018-04-04",
          "2018-04-05",
          "2018-04-06",
          "2018-04-09",
          "2018-04-10",
          "2018-04-11",
          "2018-04-12",
          "2018-04-13",
          "2018-04-16",
          "2018-04-17",
          "2018-04-18",
          "2018-04-19",
          "2018-04-20",
          "2018-04-23",
          "2018-04-24",
          "2018-04-25",
          "2018-04-26",
          "2018-04-27",
          "2018-04-30",
          "2018-05-01",
          "2018-05-02",
          "2018-05-03",
          "2018-05-04",
          "2018-05-07",
          "2018-05-08",
          "2018-05-09",
          "2018-05-10",
          "2018-05-11",
          "2018-05-14",
          "2018-05-15",
          "2018-05-16",
          "2018-05-17",
          "2018-05-18",
          "2018-05-21",
          "2018-05-22",
          "2018-05-23",
          "2018-05-24",
          "2018-05-25",
          "2018-05-29",
          "2018-05-30",
          "2018-05-31",
          "2018-06-01",
          "2018-06-04",
          "2018-06-05",
          "2018-06-06",
          "2018-06-07",
          "2018-06-08",
          "2018-06-11",
          "2018-06-12",
          "2018-06-13",
          "2018-06-14",
          "2018-06-15",
          "2018-06-18",
          "2018-06-19",
          "2018-06-20",
          "2018-06-21",
          "2018-06-22",
          "2018-06-25",
          "2018-06-26",
          "2018-06-27",
          "2018-06-28",
          "2018-06-29",
          "2018-07-02",
          "2018-07-03",
          "2018-07-05",
          "2018-07-06",
          "2018-07-09",
          "2018-07-10",
          "2018-07-11",
          "2018-07-12",
          "2018-07-13",
          "2018-07-16",
          "2018-07-17",
          "2018-07-18",
          "2018-07-19",
          "2018-07-20",
          "2018-07-23",
          "2018-07-24",
          "2018-07-25",
          "2018-07-26",
          "2018-07-27",
          "2018-07-30",
          "2018-07-31",
          "2018-08-01",
          "2018-08-02",
          "2018-08-03",
          "2018-08-06",
          "2018-08-07",
          "2018-08-08",
          "2018-08-09",
          "2018-08-10",
          "2018-08-13",
          "2018-08-14",
          "2018-08-15",
          "2018-08-16",
          "2018-08-17",
          "2018-08-20",
          "2018-08-21",
          "2018-08-22",
          "2018-08-23",
          "2018-08-24",
          "2018-08-27",
          "2018-08-28",
          "2018-08-29",
          "2018-08-30",
          "2018-08-31",
          "2018-09-04",
          "2018-09-05",
          "2018-09-06",
          "2018-09-07",
          "2018-09-10",
          "2018-09-11",
          "2018-09-12",
          "2018-09-13",
          "2018-09-14",
          "2018-09-17",
          "2018-09-18",
          "2018-09-19",
          "2018-09-20",
          "2018-09-21",
          "2018-09-24",
          "2018-09-25",
          "2018-09-26",
          "2018-09-27",
          "2018-09-28",
          "2018-10-01",
          "2018-10-02",
          "2018-10-03",
          "2018-10-04",
          "2018-10-05",
          "2018-10-08",
          "2018-10-09",
          "2018-10-10",
          "2018-10-11",
          "2018-10-12",
          "2018-10-15",
          "2018-10-16",
          "2018-10-17",
          "2018-10-18",
          "2018-10-19",
          "2018-10-22",
          "2018-10-23",
          "2018-10-24",
          "2018-10-25",
          "2018-10-26",
          "2018-10-29",
          "2018-10-30",
          "2018-10-31",
          "2018-11-01",
          "2018-11-02",
          "2018-11-05",
          "2018-11-06",
          "2018-11-07",
          "2018-11-08",
          "2018-11-09",
          "2018-11-12",
          "2018-11-13",
          "2018-11-14",
          "2018-11-15",
          "2018-11-16",
          "2018-11-19",
          "2018-11-20",
          "2018-11-21",
          "2018-11-23",
          "2018-11-26",
          "2018-11-27",
          "2018-11-28",
          "2018-11-29",
          "2018-11-30",
          "2018-12-03",
          "2018-12-04",
          "2018-12-05",
          "2018-12-06",
          "2018-12-07",
          "2018-12-10",
          "2018-12-11",
          "2018-12-12",
          "2018-12-13",
          "2018-12-14",
          "2018-12-17",
          "2018-12-18",
          "2018-12-19",
          "2018-12-20",
          "2018-12-21",
          "2018-12-24",
          "2018-12-26",
          "2018-12-27",
          "2018-12-28",
          "2018-12-31",
          "2019-01-02",
          "2019-01-03",
          "2019-01-04",
          "2019-01-07",
          "2019-01-08",
          "2019-01-09",
          "2019-01-10",
          "2019-01-11",
          "2019-01-14",
          "2019-01-15",
          "2019-01-16",
          "2019-01-17",
          "2019-01-18",
          "2019-01-22",
          "2019-01-23",
          "2019-01-24",
          "2019-01-25",
          "2019-01-28",
          "2019-01-29",
          "2019-01-30",
          "2019-01-31",
          "2019-02-01",
          "2019-02-04",
          "2019-02-05",
          "2019-02-06",
          "2019-02-07",
          "2019-02-08",
          "2019-02-11",
          "2019-02-12",
          "2019-02-13",
          "2019-02-14",
          "2019-02-15",
          "2019-02-19",
          "2019-02-20",
          "2019-02-21",
          "2019-02-22",
          "2019-02-25",
          "2019-02-26",
          "2019-02-27",
          "2019-02-28",
          "2019-03-01",
          "2019-03-04",
          "2019-03-05",
          "2019-03-06",
          "2019-03-07",
          "2019-03-08",
          "2019-03-11",
          "2019-03-12",
          "2019-03-13",
          "2019-03-14",
          "2019-03-15",
          "2019-03-18",
          "2019-03-19",
          "2019-03-20",
          "2019-03-21",
          "2019-03-22",
          "2019-03-25",
          "2019-03-26",
          "2019-03-27",
          "2019-03-28",
          "2019-03-29",
          "2019-04-01",
          "2019-04-02",
          "2019-04-03",
          "2019-04-04",
          "2019-04-05",
          "2019-04-08",
          "2019-04-09",
          "2019-04-10",
          "2019-04-11",
          "2019-04-12",
          "2019-04-15",
          "2019-04-16",
          "2019-04-17",
          "2019-04-18",
          "2019-04-22",
          "2019-04-23",
          "2019-04-24",
          "2019-04-25",
          "2019-04-26",
          "2019-04-29",
          "2019-04-30",
          "2019-05-01",
          "2019-05-02",
          "2019-05-03",
          "2019-05-06",
          "2019-05-07",
          "2019-05-08",
          "2019-05-09",
          "2019-05-10",
          "2019-05-13",
          "2019-05-14",
          "2019-05-15",
          "2019-05-16",
          "2019-05-17",
          "2019-05-20",
          "2019-05-21",
          "2019-05-22",
          "2019-05-23",
          "2019-05-24",
          "2019-05-28",
          "2019-05-29",
          "2019-05-30",
          "2019-05-31",
          "2019-06-03",
          "2019-06-04",
          "2019-06-05",
          "2019-06-06",
          "2019-06-07",
          "2019-06-10",
          "2019-06-11",
          "2019-06-12",
          "2019-06-13",
          "2019-06-14",
          "2019-06-17",
          "2019-06-18",
          "2019-06-19",
          "2019-06-20",
          "2019-06-21",
          "2019-06-24",
          "2019-06-25",
          "2019-06-26",
          "2019-06-27",
          "2019-06-28",
          "2019-07-01",
          "2019-07-02",
          "2019-07-03",
          "2019-07-05",
          "2019-07-08",
          "2019-07-09",
          "2019-07-10",
          "2019-07-11",
          "2019-07-12",
          "2019-07-15",
          "2019-07-16",
          "2019-07-17",
          "2019-07-18",
          "2019-07-19",
          "2019-07-22",
          "2019-07-23",
          "2019-07-24",
          "2019-07-25",
          "2019-07-26",
          "2019-07-29",
          "2019-07-30",
          "2019-07-31",
          "2019-08-01",
          "2019-08-02",
          "2019-08-05",
          "2019-08-06",
          "2019-08-07",
          "2019-08-08",
          "2019-08-09",
          "2019-08-12",
          "2019-08-13",
          "2019-08-14",
          "2019-08-15",
          "2019-08-16",
          "2019-08-19",
          "2019-08-20",
          "2019-08-21",
          "2019-08-22",
          "2019-08-23",
          "2019-08-26",
          "2019-08-27",
          "2019-08-28",
          "2019-08-29",
          "2019-08-30",
          "2019-09-03",
          "2019-09-04",
          "2019-09-05",
          "2019-09-06",
          "2019-09-09",
          "2019-09-10",
          "2019-09-11",
          "2019-09-12",
          "2019-09-13",
          "2019-09-16",
          "2019-09-17",
          "2019-09-18",
          "2019-09-19",
          "2019-09-20",
          "2019-09-23",
          "2019-09-24",
          "2019-09-25",
          "2019-09-26",
          "2019-09-27",
          "2019-09-30",
          "2019-10-01",
          "2019-10-02",
          "2019-10-03",
          "2019-10-04",
          "2019-10-07",
          "2019-10-08",
          "2019-10-09",
          "2019-10-10",
          "2019-10-11",
          "2019-10-14",
          "2019-10-15",
          "2019-10-16",
          "2019-10-17",
          "2019-10-18",
          "2019-10-21",
          "2019-10-22",
          "2019-10-23",
          "2019-10-24",
          "2019-10-25",
          "2019-10-28",
          "2019-10-29",
          "2019-10-30",
          "2019-10-31",
          "2019-11-01",
          "2019-11-04",
          "2019-11-05",
          "2019-11-06",
          "2019-11-07",
          "2019-11-08",
          "2019-11-11",
          "2019-11-12",
          "2019-11-13",
          "2019-11-14",
          "2019-11-15",
          "2019-11-18",
          "2019-11-19",
          "2019-11-20",
          "2019-11-21",
          "2019-11-22",
          "2019-11-25",
          "2019-11-26",
          "2019-11-27",
          "2019-11-29",
          "2019-12-02",
          "2019-12-03",
          "2019-12-04",
          "2019-12-05",
          "2019-12-06",
          "2019-12-09",
          "2019-12-10",
          "2019-12-11",
          "2019-12-12",
          "2019-12-13",
          "2019-12-16",
          "2019-12-17",
          "2019-12-18",
          "2019-12-19",
          "2019-12-20",
          "2019-12-23",
          "2019-12-24",
          "2019-12-26",
          "2019-12-27",
          "2019-12-30",
          "2019-12-31",
          "2020-01-02",
          "2020-01-03",
          "2020-01-06",
          "2020-01-07",
          "2020-01-08",
          "2020-01-09",
          "2020-01-10",
          "2020-01-13",
          "2020-01-14",
          "2020-01-15",
          "2020-01-16",
          "2020-01-17",
          "2020-01-21",
          "2020-01-22",
          "2020-01-23",
          "2020-01-24",
          "2020-01-27",
          "2020-01-28",
          "2020-01-29",
          "2020-01-30",
          "2020-01-31",
          "2020-02-03",
          "2020-02-04",
          "2020-02-05",
          "2020-02-06",
          "2020-02-07",
          "2020-02-10",
          "2020-02-11",
          "2020-02-12",
          "2020-02-13",
          "2020-02-14",
          "2020-02-18",
          "2020-02-19",
          "2020-02-20",
          "2020-02-21",
          "2020-02-24",
          "2020-02-25",
          "2020-02-26",
          "2020-02-27",
          "2020-02-28",
          "2020-03-02",
          "2020-03-03",
          "2020-03-04",
          "2020-03-05",
          "2020-03-06",
          "2020-03-09",
          "2020-03-10",
          "2020-03-11",
          "2020-03-12",
          "2020-03-13",
          "2020-03-16",
          "2020-03-17",
          "2020-03-18",
          "2020-03-19",
          "2020-03-20",
          "2020-03-23",
          "2020-03-24",
          "2020-03-25",
          "2020-03-26",
          "2020-03-27",
          "2020-03-30",
          "2020-03-31",
          "2020-04-01",
          "2020-04-02",
          "2020-04-03",
          "2020-04-06",
          "2020-04-07",
          "2020-04-08",
          "2020-04-09",
          "2020-04-13",
          "2020-04-14",
          "2020-04-15",
          "2020-04-16",
          "2020-04-17",
          "2020-04-20",
          "2020-04-21",
          "2020-04-22",
          "2020-04-23",
          "2020-04-24",
          "2020-04-27",
          "2020-04-28",
          "2020-04-29",
          "2020-04-30",
          "2020-05-01",
          "2020-05-04",
          "2020-05-05",
          "2020-05-06",
          "2020-05-07",
          "2020-05-08"
         ],
         "y": [
          47.16,
          48.58,
          50.61,
          49.68,
          50.35,
          47.96,
          48.8,
          46.4,
          46.76,
          46.25,
          48.47,
          46.26,
          47.37,
          47.61,
          46.96,
          46.66,
          47.17,
          46.2,
          45.69,
          44.72,
          44.87,
          43.47,
          42.7,
          42.46,
          42.14,
          41.8,
          43.1,
          44.29,
          44.27,
          45.39,
          44.98,
          44.05,
          46.04,
          46.97,
          48.35,
          49.23,
          49.85,
          50.89,
          50.88,
          49.16,
          49.96,
          49.05,
          49.67,
          49.92,
          49.26,
          48.37,
          47.04,
          45.45,
          46.83,
          47.26,
          47.98,
          49.99,
          48.01,
          48.32,
          47.1,
          45.85,
          46.59,
          45.77,
          45.95,
          45.88,
          46.83,
          47.65,
          45.89,
          47.35,
          45.97,
          48.69,
          49.24,
          49.06,
          50.89,
          50.87,
          51.86,
          52.51,
          51.93,
          53.14,
          52.41,
          51.81,
          52.03,
          51.95,
          51.52,
          51.68,
          52.67,
          51.38,
          51.78,
          51.46,
          50.79,
          49.98,
          50.47,
          49.71,
          48.3,
          48.14,
          46.86,
          46.35,
          45.58,
          46.15,
          46.04,
          46.36,
          45.84,
          44.75,
          44.43,
          46.95,
          46.63,
          46.49,
          46.86,
          48.9,
          49.12,
          48.95,
          47.24,
          48.24,
          46.38,
          50.47,
          53.94,
          54.46,
          54.94,
          53.93,
          53,
          53.89,
          54.33,
          55.69,
          55.72,
          53.9,
          54.02,
          55.21,
          54.92,
          55.35,
          54.46,
          55.05,
          55.16,
          56.09,
          56.22,
          56.14,
          56.82,
          55.47,
          56.46,
          56.89,
          57.1,
          54.94,
          53.64,
          55.1,
          56.01,
          55.45,
          55.47,
          53.92,
          54.16,
          55.49,
          55.23,
          55.44,
          55.08,
          56.24,
          55.52,
          55.23,
          55.7,
          56.8,
          56.56,
          56.81,
          55.72,
          55.05,
          55.12,
          55.63,
          56.7,
          55.59,
          55.97,
          55.75,
          55.65,
          55.81,
          56.66,
          55.84,
          56.58,
          55.99,
          55.93,
          55.59,
          56.36,
          55.08,
          55.9,
          56.01,
          55.92,
          53.11,
          52.19,
          51.37,
          51.35,
          50.92,
          51.81,
          51.74,
          51.76,
          51.62,
          50.96,
          50.64,
          50.56,
          50.8,
          50.75,
          51.33,
          52.42,
          52.96,
          52.83,
          53.12,
          54.17,
          54.36,
          54.89,
          55.24,
          55.98,
          56.23,
          55.86,
          55.89,
          55.36,
          54.89,
          52.93,
          52.99,
          51.96,
          51.6,
          52.1,
          51.82,
          51.44,
          51.73,
          51.52,
          50.46,
          50.79,
          48.38,
          49.1,
          49.34,
          48.73,
          50.22,
          50.77,
          50.84,
          51.82,
          51.65,
          52.21,
          52.51,
          53.61,
          53.87,
          54.15,
          53.96,
          51.46,
          52.15,
          51.84,
          50.31,
          50.63,
          49.95,
          49.47,
          50.12,
          48.06,
          47.86,
          48.15,
          48.29,
          48.72,
          47,
          46.92,
          47.37,
          46.91,
          46.02,
          44.82,
          45.22,
          45.54,
          45.83,
          46.65,
          47.31,
          47.42,
          47.92,
          49.68,
          47.79,
          48.11,
          46.71,
          46.88,
          47.52,
          47.74,
          48.42,
          48.91,
          48.42,
          48.84,
          49.7,
          49.3,
          48.06,
          48.6,
          50.2,
          50.97,
          51.49,
          52.52,
          52.65,
          51.78,
          52.36,
          52.01,
          52.42,
          52.37,
          52.14,
          52.7,
          51.9,
          52.1,
          50.73,
          50.8,
          50.27,
          51.03,
          52.72,
          51.66,
          51.87,
          52.57,
          52.04,
          52.41,
          51.89,
          52,
          50.86,
          52.38,
          52.75,
          53.38,
          54.2,
          54.49,
          53.78,
          53.84,
          54.27,
          55.16,
          55.47,
          55.62,
          55.48,
          55.14,
          56.29,
          56.43,
          56.86,
          59.02,
          58.44,
          57.9,
          57.41,
          57.54,
          56.12,
          56,
          55.8,
          57,
          55.62,
          55.79,
          56.61,
          56.94,
          56.25,
          57.17,
          57.82,
          57.88,
          58.15,
          57.23,
          57.75,
          57.37,
          58.33,
          58.44,
          59.3,
          60.44,
          60.9,
          61.37,
          60.49,
          60.62,
          62.07,
          64.27,
          63.69,
          63.49,
          63.93,
          63.52,
          63.16,
          62.21,
          61.87,
          61.36,
          62.72,
          62.22,
          62.57,
          63.32,
          63.86,
          63.84,
          63.61,
          63.11,
          63.57,
          63.73,
          62.45,
          62.86,
          61.22,
          62.2,
          63.4,
          64.69,
          63.34,
          62.44,
          63.31,
          63.23,
          63.41,
          63.8,
          64.56,
          64.9,
          65.25,
          67.02,
          66.44,
          66.72,
          66.87,
          66.57,
          67.84,
          68.07,
          67.62,
          67.78,
          68.82,
          69.2,
          69.26,
          69.87,
          69.15,
          69.38,
          69.31,
          68.61,
          69.03,
          69.96,
          70.53,
          70.42,
          70.52,
          69.46,
          69.02,
          69.05,
          69.65,
          68.58,
          67.62,
          66.86,
          65.51,
          64.81,
          62.79,
          62.59,
          62.72,
          64.36,
          64.33,
          64.84,
          65.25,
          65.42,
          66.39,
          67.31,
          67.5,
          66.63,
          65.78,
          63.83,
          64.37,
          65.54,
          65.79,
          64.34,
          63.61,
          65.49,
          64.95,
          64.64,
          64.89,
          65.12,
          66.21,
          66.05,
          67.42,
          69.47,
          68.91,
          70.45,
          70.12,
          70.11,
          69.53,
          70.27,
          67.64,
          68.12,
          68.02,
          68.33,
          67.11,
          68.65,
          71.04,
          72.06,
          72.02,
          72.58,
          71.42,
          71.58,
          73.48,
          73.78,
          74.06,
          74.71,
          73.86,
          74,
          74.74,
          74.64,
          75.17,
          73.13,
          73.36,
          73.62,
          74.87,
          76.17,
          74.85,
          77.21,
          77.47,
          77.12,
          78.23,
          78.43,
          79.28,
          79.3,
          78.51,
          79.22,
          79.57,
          79.8,
          78.79,
          76.44,
          75.39,
          77.5,
          77.59,
          76.79,
          75.29,
          75.38,
          75.36,
          77.32,
          76.46,
          76.46,
          75.88,
          76.74,
          75.94,
          73.44,
          75.34,
          75.08,
          74.74,
          73.05,
          75.55,
          74.73,
          76.31,
          77.62,
          77.85,
          79.44,
          77.3,
          77.76,
          77.39,
          77.11,
          78.07,
          78.86,
          73.4,
          74.45,
          75.33,
          71.84,
          72.16,
          72.9,
          72.58,
          73.07,
          73.06,
          73.44,
          73.93,
          74.54,
          74.29,
          74.97,
          74.25,
          72.39,
          73.45,
          73.21,
          73.75,
          74.65,
          72.28,
          72.07,
          72.81,
          72.61,
          72.46,
          70.76,
          71.43,
          71.83,
          72.21,
          72.63,
          74.78,
          74.73,
          75.82,
          76.21,
          75.95,
          77.14,
          77.77,
          77.42,
          78.17,
          77.27,
          76.5,
          76.83,
          77.37,
          79.06,
          79.74,
          78.18,
          78.09,
          78.05,
          79.03,
          79.4,
          78.7,
          78.8,
          81.2,
          81.87,
          81.34,
          81.72,
          82.72,
          84.98,
          84.8,
          86.29,
          84.58,
          84.16,
          83.91,
          85,
          83.09,
          80.26,
          80.43,
          80.78,
          81.41,
          80.05,
          79.29,
          79.78,
          79.83,
          76.44,
          76.17,
          76.89,
          77.62,
          77.34,
          75.91,
          75.47,
          72.89,
          72.83,
          73.17,
          72.13,
          72.07,
          70.65,
          70.18,
          70.12,
          65.47,
          66.12,
          66.62,
          66.76,
          66.79,
          62.53,
          63.48,
          58.8,
          60.48,
          60.21,
          58.76,
          59.51,
          58.71,
          61.69,
          62.08,
          61.56,
          60.06,
          61.67,
          59.97,
          60.2,
          60.15,
          61.45,
          60.28,
          59.61,
          56.26,
          57.24,
          54.35,
          53.82,
          50.47,
          54.47,
          52.16,
          52.2,
          53.8,
          54.91,
          55.95,
          57.06,
          57.33,
          58.72,
          61.44,
          61.68,
          60.48,
          58.99,
          60.64,
          61.32,
          61.18,
          62.7,
          61.5,
          61.14,
          61.09,
          61.64,
          59.93,
          61.32,
          61.65,
          61.89,
          62.75,
          62.51,
          61.98,
          62.69,
          61.63,
          62.1,
          61.51,
          62.42,
          63.61,
          64.57,
          66.25,
          66.45,
          67.08,
          67.07,
          67.12,
          64.76,
          65.21,
          66.39,
          66.03,
          65.07,
          65.67,
          65.86,
          65.99,
          66.3,
          65.74,
          66.58,
          66.67,
          67.55,
          67.23,
          67.16,
          67.54,
          67.61,
          68.5,
          67.86,
          67.03,
          67.21,
          67.97,
          67.83,
          67.82,
          68.39,
          69.01,
          69.37,
          69.31,
          69.4,
          70.34,
          71.1,
          70.61,
          71.73,
          70.83,
          71.55,
          71.18,
          71.72,
          71.62,
          71.97,
          74.04,
          74.51,
          74.57,
          74.35,
          72.15,
          72.04,
          72.8,
          72.18,
          70.75,
          70.85,
          71.24,
          69.88,
          70.37,
          70.39,
          70.62,
          70.23,
          71.24,
          71.77,
          72.62,
          72.21,
          71.97,
          72.18,
          70.99,
          67.76,
          68.69,
          70.11,
          69.45,
          66.87,
          64.49,
          61.28,
          61.97,
          60.63,
          61.67,
          63.29,
          62.29,
          62.29,
          59.97,
          61.31,
          62.01,
          60.94,
          62.14,
          61.82,
          64.45,
          65.2,
          64.86,
          65.05,
          66.49,
          66.55,
          66.55,
          65.06,
          62.4,
          63.82,
          64.23,
          64.11,
          64.16,
          67.01,
          66.52,
          66.72,
          66.48,
          64.35,
          63.66,
          61.93,
          62.47,
          63.26,
          63.83,
          63.18,
          63.39,
          63.46,
          63.71,
          64.72,
          65.17,
          60.5,
          61.89,
          59.81,
          58.94,
          56.23,
          57.38,
          58.53,
          58.57,
          61.3,
          59.48,
          58.23,
          58.64,
          59.74,
          60.03,
          60.3,
          59.92,
          59.34,
          58.7,
          59.51,
          60.49,
          61.08,
          60.43,
          58.26,
          60.7,
          60.95,
          61.54,
          62.59,
          62.38,
          60.81,
          60.38,
          60.22,
          69.02,
          64.55,
          63.6,
          64.4,
          64.28,
          64.77,
          63.1,
          62.39,
          62.74,
          61.91,
          60.78,
          58.89,
          57.69,
          57.71,
          58.37,
          58.35,
          58.24,
          58.32,
          59.1,
          60.51,
          59.35,
          58.74,
          59.42,
          59.91,
          59.42,
          58.96,
          59.7,
          61.17,
          61.67,
          62.02,
          61.57,
          61.59,
          60.61,
          60.23,
          61.69,
          62.13,
          62.96,
          61.74,
          62.29,
          62.51,
          62.18,
          62.06,
          62.37,
          62.28,
          63.3,
          62.44,
          60.91,
          62.4,
          63.97,
          63.39,
          63.65,
          64.27,
          64.06,
          62.43,
          60.92,
          60.82,
          63,
          63.39,
          64.39,
          64.25,
          64.34,
          63.72,
          64.2,
          65.22,
          65.34,
          66.1,
          66.17,
          66.54,
          66.14,
          66.39,
          67.2,
          67.92,
          68.16,
          68.44,
          66,
          66.25,
          68.6,
          68.91,
          68.27,
          65.44,
          65.37,
          64.98,
          64.2,
          64.49,
          64,
          64.62,
          64.85,
          64.59,
          63.21,
          62.04,
          60.69,
          59.32,
          59.51,
          59.81,
          58.29,
          58.16,
          54.45,
          53.96,
          55.28,
          54.93,
          54.47,
          53.27,
          54.01,
          55.79,
          56.34,
          57.32,
          57.75,
          59.12,
          59.31,
          58.5,
          56.3,
          54.95,
          53.43,
          52.18,
          50.52,
          51.9,
          51.86,
          51.13,
          49.99,
          45.27,
          34.36,
          37.22,
          35.79,
          33.22,
          33.85,
          30.05,
          28.73,
          24.88,
          28.47,
          26.98,
          27.03,
          27.15,
          27.39,
          26.34,
          24.93,
          22.76,
          22.74,
          24.74,
          29.94,
          34.11,
          33.05,
          31.87,
          32.84,
          31.48,
          31.74,
          29.6,
          27.69,
          27.82,
          28.08,
          25.57,
          19.33,
          20.37,
          21.33,
          21.44,
          19.99,
          20.46,
          22.54,
          25.27,
          26.44,
          27.2,
          30.97,
          29.72,
          29.46,
          30.97
         ]
        },
        {
         "line": {
          "color": "#9E9E9E",
          "dash": "dot",
          "shape": "linear",
          "width": 3
         },
         "mode": "lines",
         "name": "ドバイ原油",
         "text": "",
         "type": "scatter",
         "x": [
          "2016-06-27",
          "2016-06-28",
          "2016-06-29",
          "2016-06-30",
          "2016-07-01",
          "2016-07-05",
          "2016-07-06",
          "2016-07-07",
          "2016-07-08",
          "2016-07-11",
          "2016-07-12",
          "2016-07-13",
          "2016-07-14",
          "2016-07-15",
          "2016-07-18",
          "2016-07-19",
          "2016-07-20",
          "2016-07-21",
          "2016-07-22",
          "2016-07-25",
          "2016-07-26",
          "2016-07-27",
          "2016-07-28",
          "2016-07-29",
          "2016-08-01",
          "2016-08-02",
          "2016-08-03",
          "2016-08-04",
          "2016-08-05",
          "2016-08-08",
          "2016-08-09",
          "2016-08-10",
          "2016-08-11",
          "2016-08-12",
          "2016-08-15",
          "2016-08-16",
          "2016-08-17",
          "2016-08-18",
          "2016-08-19",
          "2016-08-22",
          "2016-08-23",
          "2016-08-24",
          "2016-08-25",
          "2016-08-26",
          "2016-08-29",
          "2016-08-30",
          "2016-08-31",
          "2016-09-01",
          "2016-09-02",
          "2016-09-06",
          "2016-09-07",
          "2016-09-08",
          "2016-09-09",
          "2016-09-12",
          "2016-09-13",
          "2016-09-14",
          "2016-09-15",
          "2016-09-16",
          "2016-09-19",
          "2016-09-20",
          "2016-09-21",
          "2016-09-22",
          "2016-09-23",
          "2016-09-26",
          "2016-09-27",
          "2016-09-28",
          "2016-09-29",
          "2016-09-30",
          "2016-10-03",
          "2016-10-04",
          "2016-10-05",
          "2016-10-06",
          "2016-10-07",
          "2016-10-10",
          "2016-10-11",
          "2016-10-12",
          "2016-10-13",
          "2016-10-14",
          "2016-10-17",
          "2016-10-18",
          "2016-10-19",
          "2016-10-20",
          "2016-10-21",
          "2016-10-24",
          "2016-10-25",
          "2016-10-26",
          "2016-10-27",
          "2016-10-28",
          "2016-10-31",
          "2016-11-01",
          "2016-11-02",
          "2016-11-03",
          "2016-11-04",
          "2016-11-07",
          "2016-11-08",
          "2016-11-09",
          "2016-11-10",
          "2016-11-11",
          "2016-11-14",
          "2016-11-15",
          "2016-11-16",
          "2016-11-17",
          "2016-11-18",
          "2016-11-21",
          "2016-11-22",
          "2016-11-23",
          "2016-11-25",
          "2016-11-28",
          "2016-11-29",
          "2016-11-30",
          "2016-12-01",
          "2016-12-02",
          "2016-12-05",
          "2016-12-06",
          "2016-12-07",
          "2016-12-08",
          "2016-12-09",
          "2016-12-12",
          "2016-12-13",
          "2016-12-14",
          "2016-12-15",
          "2016-12-16",
          "2016-12-19",
          "2016-12-20",
          "2016-12-21",
          "2016-12-22",
          "2016-12-23",
          "2016-12-27",
          "2016-12-28",
          "2016-12-29",
          "2016-12-30",
          "2017-01-03",
          "2017-01-04",
          "2017-01-05",
          "2017-01-06",
          "2017-01-09",
          "2017-01-10",
          "2017-01-11",
          "2017-01-12",
          "2017-01-13",
          "2017-01-17",
          "2017-01-18",
          "2017-01-19",
          "2017-01-20",
          "2017-01-23",
          "2017-01-24",
          "2017-01-25",
          "2017-01-26",
          "2017-01-27",
          "2017-01-30",
          "2017-01-31",
          "2017-02-01",
          "2017-02-02",
          "2017-02-03",
          "2017-02-06",
          "2017-02-07",
          "2017-02-08",
          "2017-02-09",
          "2017-02-10",
          "2017-02-13",
          "2017-02-14",
          "2017-02-15",
          "2017-02-16",
          "2017-02-17",
          "2017-02-21",
          "2017-02-22",
          "2017-02-23",
          "2017-02-24",
          "2017-02-27",
          "2017-02-28",
          "2017-03-01",
          "2017-03-02",
          "2017-03-03",
          "2017-03-06",
          "2017-03-07",
          "2017-03-08",
          "2017-03-09",
          "2017-03-10",
          "2017-03-13",
          "2017-03-14",
          "2017-03-15",
          "2017-03-16",
          "2017-03-17",
          "2017-03-20",
          "2017-03-21",
          "2017-03-22",
          "2017-03-23",
          "2017-03-24",
          "2017-03-27",
          "2017-03-28",
          "2017-03-29",
          "2017-03-30",
          "2017-03-31",
          "2017-04-03",
          "2017-04-04",
          "2017-04-05",
          "2017-04-06",
          "2017-04-07",
          "2017-04-10",
          "2017-04-11",
          "2017-04-12",
          "2017-04-13",
          "2017-04-17",
          "2017-04-18",
          "2017-04-19",
          "2017-04-20",
          "2017-04-21",
          "2017-04-24",
          "2017-04-25",
          "2017-04-26",
          "2017-04-27",
          "2017-04-28",
          "2017-05-01",
          "2017-05-02",
          "2017-05-03",
          "2017-05-04",
          "2017-05-05",
          "2017-05-08",
          "2017-05-09",
          "2017-05-10",
          "2017-05-11",
          "2017-05-12",
          "2017-05-15",
          "2017-05-16",
          "2017-05-17",
          "2017-05-18",
          "2017-05-19",
          "2017-05-22",
          "2017-05-23",
          "2017-05-24",
          "2017-05-25",
          "2017-05-26",
          "2017-05-30",
          "2017-05-31",
          "2017-06-01",
          "2017-06-02",
          "2017-06-05",
          "2017-06-06",
          "2017-06-07",
          "2017-06-08",
          "2017-06-09",
          "2017-06-12",
          "2017-06-13",
          "2017-06-14",
          "2017-06-15",
          "2017-06-16",
          "2017-06-19",
          "2017-06-20",
          "2017-06-21",
          "2017-06-22",
          "2017-06-23",
          "2017-06-26",
          "2017-06-27",
          "2017-06-28",
          "2017-06-29",
          "2017-06-30",
          "2017-07-03",
          "2017-07-05",
          "2017-07-06",
          "2017-07-07",
          "2017-07-10",
          "2017-07-11",
          "2017-07-12",
          "2017-07-13",
          "2017-07-14",
          "2017-07-17",
          "2017-07-18",
          "2017-07-19",
          "2017-07-20",
          "2017-07-21",
          "2017-07-24",
          "2017-07-25",
          "2017-07-26",
          "2017-07-27",
          "2017-07-28",
          "2017-07-31",
          "2017-08-01",
          "2017-08-02",
          "2017-08-03",
          "2017-08-04",
          "2017-08-07",
          "2017-08-08",
          "2017-08-09",
          "2017-08-10",
          "2017-08-11",
          "2017-08-14",
          "2017-08-15",
          "2017-08-16",
          "2017-08-17",
          "2017-08-18",
          "2017-08-21",
          "2017-08-22",
          "2017-08-23",
          "2017-08-24",
          "2017-08-25",
          "2017-08-28",
          "2017-08-29",
          "2017-08-30",
          "2017-08-31",
          "2017-09-01",
          "2017-09-05",
          "2017-09-06",
          "2017-09-07",
          "2017-09-08",
          "2017-09-11",
          "2017-09-12",
          "2017-09-13",
          "2017-09-14",
          "2017-09-15",
          "2017-09-18",
          "2017-09-19",
          "2017-09-20",
          "2017-09-21",
          "2017-09-22",
          "2017-09-25",
          "2017-09-26",
          "2017-09-27",
          "2017-09-28",
          "2017-09-29",
          "2017-10-02",
          "2017-10-03",
          "2017-10-04",
          "2017-10-05",
          "2017-10-06",
          "2017-10-09",
          "2017-10-10",
          "2017-10-11",
          "2017-10-12",
          "2017-10-13",
          "2017-10-16",
          "2017-10-17",
          "2017-10-18",
          "2017-10-19",
          "2017-10-20",
          "2017-10-23",
          "2017-10-24",
          "2017-10-25",
          "2017-10-26",
          "2017-10-27",
          "2017-10-30",
          "2017-10-31",
          "2017-11-01",
          "2017-11-02",
          "2017-11-03",
          "2017-11-06",
          "2017-11-07",
          "2017-11-08",
          "2017-11-09",
          "2017-11-10",
          "2017-11-13",
          "2017-11-14",
          "2017-11-15",
          "2017-11-16",
          "2017-11-17",
          "2017-11-20",
          "2017-11-21",
          "2017-11-22",
          "2017-11-24",
          "2017-11-27",
          "2017-11-28",
          "2017-11-29",
          "2017-11-30",
          "2017-12-01",
          "2017-12-04",
          "2017-12-05",
          "2017-12-06",
          "2017-12-07",
          "2017-12-08",
          "2017-12-11",
          "2017-12-12",
          "2017-12-13",
          "2017-12-14",
          "2017-12-15",
          "2017-12-18",
          "2017-12-19",
          "2017-12-20",
          "2017-12-21",
          "2017-12-22",
          "2017-12-26",
          "2017-12-27",
          "2017-12-28",
          "2017-12-29",
          "2018-01-02",
          "2018-01-03",
          "2018-01-04",
          "2018-01-05",
          "2018-01-08",
          "2018-01-09",
          "2018-01-10",
          "2018-01-11",
          "2018-01-12",
          "2018-01-16",
          "2018-01-17",
          "2018-01-18",
          "2018-01-19",
          "2018-01-22",
          "2018-01-23",
          "2018-01-24",
          "2018-01-25",
          "2018-01-26",
          "2018-01-29",
          "2018-01-30",
          "2018-01-31",
          "2018-02-01",
          "2018-02-02",
          "2018-02-05",
          "2018-02-06",
          "2018-02-07",
          "2018-02-08",
          "2018-02-09",
          "2018-02-12",
          "2018-02-13",
          "2018-02-14",
          "2018-02-15",
          "2018-02-16",
          "2018-02-20",
          "2018-02-21",
          "2018-02-22",
          "2018-02-23",
          "2018-02-26",
          "2018-02-27",
          "2018-02-28",
          "2018-03-01",
          "2018-03-02",
          "2018-03-05",
          "2018-03-06",
          "2018-03-07",
          "2018-03-08",
          "2018-03-09",
          "2018-03-12",
          "2018-03-13",
          "2018-03-14",
          "2018-03-15",
          "2018-03-16",
          "2018-03-19",
          "2018-03-20",
          "2018-03-21",
          "2018-03-22",
          "2018-03-23",
          "2018-03-26",
          "2018-03-27",
          "2018-03-28",
          "2018-03-29",
          "2018-04-02",
          "2018-04-03",
          "2018-04-04",
          "2018-04-05",
          "2018-04-06",
          "2018-04-09",
          "2018-04-10",
          "2018-04-11",
          "2018-04-12",
          "2018-04-13",
          "2018-04-16",
          "2018-04-17",
          "2018-04-18",
          "2018-04-19",
          "2018-04-20",
          "2018-04-23",
          "2018-04-24",
          "2018-04-25",
          "2018-04-26",
          "2018-04-27",
          "2018-04-30",
          "2018-05-01",
          "2018-05-02",
          "2018-05-03",
          "2018-05-04",
          "2018-05-07",
          "2018-05-08",
          "2018-05-09",
          "2018-05-10",
          "2018-05-11",
          "2018-05-14",
          "2018-05-15",
          "2018-05-16",
          "2018-05-17",
          "2018-05-18",
          "2018-05-21",
          "2018-05-22",
          "2018-05-23",
          "2018-05-24",
          "2018-05-25",
          "2018-05-29",
          "2018-05-30",
          "2018-05-31",
          "2018-06-01",
          "2018-06-04",
          "2018-06-05",
          "2018-06-06",
          "2018-06-07",
          "2018-06-08",
          "2018-06-11",
          "2018-06-12",
          "2018-06-13",
          "2018-06-14",
          "2018-06-15",
          "2018-06-18",
          "2018-06-19",
          "2018-06-20",
          "2018-06-21",
          "2018-06-22",
          "2018-06-25",
          "2018-06-26",
          "2018-06-27",
          "2018-06-28",
          "2018-06-29",
          "2018-07-02",
          "2018-07-03",
          "2018-07-05",
          "2018-07-06",
          "2018-07-09",
          "2018-07-10",
          "2018-07-11",
          "2018-07-12",
          "2018-07-13",
          "2018-07-16",
          "2018-07-17",
          "2018-07-18",
          "2018-07-19",
          "2018-07-20",
          "2018-07-23",
          "2018-07-24",
          "2018-07-25",
          "2018-07-26",
          "2018-07-27",
          "2018-07-30",
          "2018-07-31",
          "2018-08-01",
          "2018-08-02",
          "2018-08-03",
          "2018-08-06",
          "2018-08-07",
          "2018-08-08",
          "2018-08-09",
          "2018-08-10",
          "2018-08-13",
          "2018-08-14",
          "2018-08-15",
          "2018-08-16",
          "2018-08-17",
          "2018-08-20",
          "2018-08-21",
          "2018-08-22",
          "2018-08-23",
          "2018-08-24",
          "2018-08-27",
          "2018-08-28",
          "2018-08-29",
          "2018-08-30",
          "2018-08-31",
          "2018-09-04",
          "2018-09-05",
          "2018-09-06",
          "2018-09-07",
          "2018-09-10",
          "2018-09-11",
          "2018-09-12",
          "2018-09-13",
          "2018-09-14",
          "2018-09-17",
          "2018-09-18",
          "2018-09-19",
          "2018-09-20",
          "2018-09-21",
          "2018-09-24",
          "2018-09-25",
          "2018-09-26",
          "2018-09-27",
          "2018-09-28",
          "2018-10-01",
          "2018-10-02",
          "2018-10-03",
          "2018-10-04",
          "2018-10-05",
          "2018-10-08",
          "2018-10-09",
          "2018-10-10",
          "2018-10-11",
          "2018-10-12",
          "2018-10-15",
          "2018-10-16",
          "2018-10-17",
          "2018-10-18",
          "2018-10-19",
          "2018-10-22",
          "2018-10-23",
          "2018-10-24",
          "2018-10-25",
          "2018-10-26",
          "2018-10-29",
          "2018-10-30",
          "2018-10-31",
          "2018-11-01",
          "2018-11-02",
          "2018-11-05",
          "2018-11-06",
          "2018-11-07",
          "2018-11-08",
          "2018-11-09",
          "2018-11-12",
          "2018-11-13",
          "2018-11-14",
          "2018-11-15",
          "2018-11-16",
          "2018-11-19",
          "2018-11-20",
          "2018-11-21",
          "2018-11-23",
          "2018-11-26",
          "2018-11-27",
          "2018-11-28",
          "2018-11-29",
          "2018-11-30",
          "2018-12-03",
          "2018-12-04",
          "2018-12-05",
          "2018-12-06",
          "2018-12-07",
          "2018-12-10",
          "2018-12-11",
          "2018-12-12",
          "2018-12-13",
          "2018-12-14",
          "2018-12-17",
          "2018-12-18",
          "2018-12-19",
          "2018-12-20",
          "2018-12-21",
          "2018-12-24",
          "2018-12-26",
          "2018-12-27",
          "2018-12-28",
          "2018-12-31",
          "2019-01-02",
          "2019-01-03",
          "2019-01-04",
          "2019-01-07",
          "2019-01-08",
          "2019-01-09",
          "2019-01-10",
          "2019-01-11",
          "2019-01-14",
          "2019-01-15",
          "2019-01-16",
          "2019-01-17",
          "2019-01-18",
          "2019-01-22",
          "2019-01-23",
          "2019-01-24",
          "2019-01-25",
          "2019-01-28",
          "2019-01-29",
          "2019-01-30",
          "2019-01-31",
          "2019-02-01",
          "2019-02-04",
          "2019-02-05",
          "2019-02-06",
          "2019-02-07",
          "2019-02-08",
          "2019-02-11",
          "2019-02-12",
          "2019-02-13",
          "2019-02-14",
          "2019-02-15",
          "2019-02-19",
          "2019-02-20",
          "2019-02-21",
          "2019-02-22",
          "2019-02-25",
          "2019-02-26",
          "2019-02-27",
          "2019-02-28",
          "2019-03-01",
          "2019-03-04",
          "2019-03-05",
          "2019-03-06",
          "2019-03-07",
          "2019-03-08",
          "2019-03-11",
          "2019-03-12",
          "2019-03-13",
          "2019-03-14",
          "2019-03-15",
          "2019-03-18",
          "2019-03-19",
          "2019-03-20",
          "2019-03-21",
          "2019-03-22",
          "2019-03-25",
          "2019-03-26",
          "2019-03-27",
          "2019-03-28",
          "2019-03-29",
          "2019-04-01",
          "2019-04-02",
          "2019-04-03",
          "2019-04-04",
          "2019-04-05",
          "2019-04-08",
          "2019-04-09",
          "2019-04-10",
          "2019-04-11",
          "2019-04-12",
          "2019-04-15",
          "2019-04-16",
          "2019-04-17",
          "2019-04-18",
          "2019-04-22",
          "2019-04-23",
          "2019-04-24",
          "2019-04-25",
          "2019-04-26",
          "2019-04-29",
          "2019-04-30",
          "2019-05-01",
          "2019-05-02",
          "2019-05-03",
          "2019-05-06",
          "2019-05-07",
          "2019-05-08",
          "2019-05-09",
          "2019-05-10",
          "2019-05-13",
          "2019-05-14",
          "2019-05-15",
          "2019-05-16",
          "2019-05-17",
          "2019-05-20",
          "2019-05-21",
          "2019-05-22",
          "2019-05-23",
          "2019-05-24",
          "2019-05-28",
          "2019-05-29",
          "2019-05-30",
          "2019-05-31",
          "2019-06-03",
          "2019-06-04",
          "2019-06-05",
          "2019-06-06",
          "2019-06-07",
          "2019-06-10",
          "2019-06-11",
          "2019-06-12",
          "2019-06-13",
          "2019-06-14",
          "2019-06-17",
          "2019-06-18",
          "2019-06-19",
          "2019-06-20",
          "2019-06-21",
          "2019-06-24",
          "2019-06-25",
          "2019-06-26",
          "2019-06-27",
          "2019-06-28",
          "2019-07-01",
          "2019-07-02",
          "2019-07-03",
          "2019-07-05",
          "2019-07-08",
          "2019-07-09",
          "2019-07-10",
          "2019-07-11",
          "2019-07-12",
          "2019-07-15",
          "2019-07-16",
          "2019-07-17",
          "2019-07-18",
          "2019-07-19",
          "2019-07-22",
          "2019-07-23",
          "2019-07-24",
          "2019-07-25",
          "2019-07-26",
          "2019-07-29",
          "2019-07-30",
          "2019-07-31",
          "2019-08-01",
          "2019-08-02",
          "2019-08-05",
          "2019-08-06",
          "2019-08-07",
          "2019-08-08",
          "2019-08-09",
          "2019-08-12",
          "2019-08-13",
          "2019-08-14",
          "2019-08-15",
          "2019-08-16",
          "2019-08-19",
          "2019-08-20",
          "2019-08-21",
          "2019-08-22",
          "2019-08-23",
          "2019-08-26",
          "2019-08-27",
          "2019-08-28",
          "2019-08-29",
          "2019-08-30",
          "2019-09-03",
          "2019-09-04",
          "2019-09-05",
          "2019-09-06",
          "2019-09-09",
          "2019-09-10",
          "2019-09-11",
          "2019-09-12",
          "2019-09-13",
          "2019-09-16",
          "2019-09-17",
          "2019-09-18",
          "2019-09-19",
          "2019-09-20",
          "2019-09-23",
          "2019-09-24",
          "2019-09-25",
          "2019-09-26",
          "2019-09-27",
          "2019-09-30",
          "2019-10-01",
          "2019-10-02",
          "2019-10-03",
          "2019-10-04",
          "2019-10-07",
          "2019-10-08",
          "2019-10-09",
          "2019-10-10",
          "2019-10-11",
          "2019-10-14",
          "2019-10-15",
          "2019-10-16",
          "2019-10-17",
          "2019-10-18",
          "2019-10-21",
          "2019-10-22",
          "2019-10-23",
          "2019-10-24",
          "2019-10-25",
          "2019-10-28",
          "2019-10-29",
          "2019-10-30",
          "2019-10-31",
          "2019-11-01",
          "2019-11-04",
          "2019-11-05",
          "2019-11-06",
          "2019-11-07",
          "2019-11-08",
          "2019-11-11",
          "2019-11-12",
          "2019-11-13",
          "2019-11-14",
          "2019-11-15",
          "2019-11-18",
          "2019-11-19",
          "2019-11-20",
          "2019-11-21",
          "2019-11-22",
          "2019-11-25",
          "2019-11-26",
          "2019-11-27",
          "2019-11-29",
          "2019-12-02",
          "2019-12-03",
          "2019-12-04",
          "2019-12-05",
          "2019-12-06",
          "2019-12-09",
          "2019-12-10",
          "2019-12-11",
          "2019-12-12",
          "2019-12-13",
          "2019-12-16",
          "2019-12-17",
          "2019-12-18",
          "2019-12-19",
          "2019-12-20",
          "2019-12-23",
          "2019-12-24",
          "2019-12-26",
          "2019-12-27",
          "2019-12-30",
          "2019-12-31",
          "2020-01-02",
          "2020-01-03",
          "2020-01-06",
          "2020-01-07",
          "2020-01-08",
          "2020-01-09",
          "2020-01-10",
          "2020-01-13",
          "2020-01-14",
          "2020-01-15",
          "2020-01-16",
          "2020-01-17",
          "2020-01-21",
          "2020-01-22",
          "2020-01-23",
          "2020-01-24",
          "2020-01-27",
          "2020-01-28",
          "2020-01-29",
          "2020-01-30",
          "2020-01-31",
          "2020-02-03",
          "2020-02-04",
          "2020-02-05",
          "2020-02-06",
          "2020-02-07",
          "2020-02-10",
          "2020-02-11",
          "2020-02-12",
          "2020-02-13",
          "2020-02-14",
          "2020-02-18",
          "2020-02-19",
          "2020-02-20",
          "2020-02-21",
          "2020-02-24",
          "2020-02-25",
          "2020-02-26",
          "2020-02-27",
          "2020-02-28",
          "2020-03-02",
          "2020-03-03",
          "2020-03-04",
          "2020-03-05",
          "2020-03-06",
          "2020-03-09",
          "2020-03-10",
          "2020-03-11",
          "2020-03-12",
          "2020-03-13",
          "2020-03-16",
          "2020-03-17",
          "2020-03-18",
          "2020-03-19",
          "2020-03-20",
          "2020-03-23",
          "2020-03-24",
          "2020-03-25",
          "2020-03-26",
          "2020-03-27",
          "2020-03-30",
          "2020-03-31",
          "2020-04-01",
          "2020-04-02",
          "2020-04-03",
          "2020-04-06",
          "2020-04-07",
          "2020-04-08",
          "2020-04-09",
          "2020-04-13",
          "2020-04-14",
          "2020-04-15",
          "2020-04-16",
          "2020-04-17",
          "2020-04-20",
          "2020-04-21",
          "2020-04-22",
          "2020-04-23",
          "2020-04-24",
          "2020-04-27",
          "2020-04-28",
          "2020-04-29",
          "2020-04-30",
          "2020-05-01",
          "2020-05-04",
          "2020-05-05",
          "2020-05-06",
          "2020-05-07",
          "2020-05-08"
         ],
         "y": [
          44.1,
          45.48,
          47.66,
          47.76,
          46.26,
          44.18,
          44.9,
          42.62,
          43.14,
          42.74,
          44.97,
          43.24,
          44.1,
          44.36,
          43.98,
          43.5,
          43.84,
          42.84,
          43.08,
          41.97,
          41.89,
          40.58,
          40.09,
          39.83,
          39.3,
          39.22,
          40.48,
          41.98,
          41.9,
          43.02,
          42.48,
          41.68,
          43.47,
          44.33,
          45.73,
          46.54,
          47.31,
          48.13,
          47.95,
          46.13,
          46.96,
          45.84,
          46.52,
          46.69,
          46,
          45.5,
          45.06,
          42.07,
          43.17,
          43.82,
          44.5,
          46.58,
          44.6,
          44.96,
          43.8,
          42.63,
          43.13,
          42.6,
          42.77,
          42.76,
          43.84,
          44.84,
          43.2,
          44.34,
          43.16,
          45.83,
          46.28,
          45.7,
          48.35,
          48.27,
          49.05,
          49.87,
          49.21,
          50.5,
          49.74,
          49.43,
          49.68,
          49.77,
          49.39,
          49.46,
          50.34,
          49.2,
          49.54,
          49,
          48.34,
          47.71,
          48.57,
          47.7,
          47.46,
          45.16,
          44.13,
          43.46,
          42.66,
          43.56,
          43.46,
          43.8,
          43.42,
          42.42,
          42.1,
          44.28,
          43.93,
          43.82,
          44.2,
          46.4,
          46.9,
          46.68,
          45.28,
          46.03,
          43.9,
          45.07,
          51.73,
          52.12,
          52.55,
          51.7,
          50.85,
          51.8,
          52.15,
          53.78,
          53.65,
          51.9,
          52.05,
          53.05,
          52.7,
          52.98,
          52.2,
          52.8,
          52.95,
          53.9,
          54,
          54.05,
          54.24,
          53.6,
          54.9,
          55.25,
          55.27,
          53.1,
          51.8,
          53.25,
          54.28,
          53.8,
          53.78,
          52.3,
          52.66,
          53.9,
          53.65,
          53.78,
          53.6,
          54.7,
          53.83,
          53.3,
          53.26,
          55.1,
          55.29,
          55.7,
          54.82,
          54.12,
          54.07,
          54.58,
          55.48,
          54.58,
          55.05,
          54.92,
          55.03,
          55.3,
          55.6,
          54.76,
          55.83,
          55.25,
          55.07,
          55.12,
          55.65,
          54.25,
          54.75,
          54.84,
          54.77,
          51.95,
          51.08,
          50.23,
          50.28,
          49.62,
          50.48,
          50.4,
          50.63,
          50.48,
          49.86,
          49.64,
          49.58,
          49.9,
          49.74,
          50.18,
          51.45,
          52.05,
          51.85,
          51.85,
          52.75,
          53.04,
          53.58,
          53.93,
          54.65,
          55.05,
          54.65,
          54.71,
          54.17,
          53.76,
          51.8,
          51.82,
          50.9,
          50.7,
          51.12,
          50.84,
          50.37,
          50.77,
          50.37,
          49.57,
          49.85,
          47.59,
          48.38,
          48.54,
          47.95,
          49.31,
          49.69,
          49.74,
          50.76,
          50.72,
          51.25,
          51.53,
          52.52,
          52.68,
          53,
          52.7,
          50.2,
          50.82,
          50.45,
          49.92,
          49.52,
          48.75,
          48.25,
          48.92,
          47.1,
          46.92,
          47.13,
          47.3,
          47.6,
          45.85,
          45.62,
          46,
          45.58,
          44.72,
          43.47,
          43.95,
          44.27,
          44.63,
          45.39,
          45.92,
          46.17,
          46.46,
          48.55,
          46.67,
          46.95,
          45.45,
          45.58,
          46.25,
          46.42,
          47.07,
          47.57,
          47.1,
          47.48,
          48.35,
          47.97,
          46.67,
          47.25,
          48.78,
          49.52,
          49.75,
          50.65,
          50.47,
          50.37,
          51.15,
          50.85,
          51.25,
          51.07,
          50.9,
          51.45,
          50.5,
          50.62,
          49.3,
          49.4,
          48.7,
          49.2,
          50.92,
          49.81,
          49.92,
          50.95,
          50.35,
          50.26,
          50.05,
          50.5,
          49.4,
          49.6,
          51.67,
          52.38,
          53.2,
          53.28,
          52.55,
          52.64,
          53.12,
          54,
          54.35,
          54.48,
          54.36,
          54.08,
          55.18,
          55.47,
          55.98,
          57.78,
          56.26,
          56.15,
          55.75,
          55.84,
          54.62,
          54.45,
          54.33,
          55.5,
          53.85,
          54.06,
          54.82,
          55.15,
          54.52,
          55.4,
          56.05,
          56.02,
          56.22,
          55.3,
          55.7,
          55.47,
          56.48,
          56.28,
          57.1,
          58.05,
          57.8,
          58.13,
          58.55,
          58.85,
          60.3,
          62.2,
          61.65,
          61.5,
          62.05,
          61.65,
          61.52,
          60.47,
          60.02,
          59.66,
          60.94,
          60.6,
          60.4,
          61.22,
          61.8,
          61.6,
          61.4,
          60.86,
          60.75,
          61.25,
          60.1,
          60.7,
          59.2,
          60,
          61.1,
          62.2,
          60.64,
          60,
          60.67,
          60.8,
          61.25,
          61.64,
          61.7,
          62.25,
          62.15,
          63.55,
          63.05,
          63.65,
          63.98,
          64.3,
          65.5,
          65.6,
          65.22,
          65.4,
          66.28,
          66.6,
          66.67,
          67.1,
          66.5,
          66.78,
          66.83,
          66.13,
          66.53,
          67.3,
          67.7,
          67.46,
          67.5,
          67.15,
          66.3,
          65.67,
          67.03,
          65.9,
          65.17,
          64.06,
          62.66,
          62.02,
          59.9,
          59.7,
          59.95,
          61.5,
          61.53,
          62,
          62.35,
          62.5,
          63.47,
          64.28,
          64.7,
          63.83,
          63.47,
          60.84,
          61.18,
          62.68,
          62.93,
          61.47,
          60.61,
          62.49,
          61.95,
          61.7,
          62.13,
          62.38,
          63.55,
          63.35,
          64.57,
          66.58,
          65.73,
          67.03,
          66.5,
          66.2,
          65,
          65.51,
          65,
          65.25,
          65.15,
          65.5,
          64.3,
          65.85,
          68.1,
          68.95,
          68.85,
          69.2,
          68.12,
          68.42,
          70.2,
          70.33,
          70.7,
          71.2,
          70.34,
          70.35,
          71,
          71.12,
          70.29,
          70.28,
          70.56,
          70.7,
          72.1,
          72.6,
          72.19,
          74.25,
          74.52,
          74.33,
          75.38,
          75.31,
          76.31,
          76.5,
          75.78,
          76.81,
          77.09,
          77.55,
          77.03,
          74.5,
          74.25,
          76.7,
          76.5,
          74.5,
          73.29,
          73.21,
          73.28,
          75.25,
          74.35,
          74.38,
          73.8,
          74.58,
          73.78,
          71.17,
          72.95,
          72.55,
          72,
          70.8,
          73.28,
          72.58,
          74.3,
          75.4,
          75.4,
          75.32,
          74.5,
          75.02,
          74.45,
          74.22,
          75.22,
          76.16,
          71.2,
          72.4,
          73.35,
          69.83,
          70.41,
          71.3,
          71,
          71.07,
          71.38,
          72.2,
          72.83,
          74,
          73.65,
          73.6,
          73.51,
          70.94,
          72.32,
          71.88,
          72.52,
          73.4,
          71.13,
          71.05,
          71.73,
          71.47,
          71.34,
          69.74,
          70.41,
          70.69,
          71.08,
          71.58,
          73.86,
          73.82,
          74.82,
          75.06,
          74.63,
          75.95,
          76.33,
          75.76,
          76.62,
          75.75,
          75.1,
          75.33,
          75.78,
          77.66,
          78.48,
          76.78,
          76.51,
          76.37,
          77.65,
          77.92,
          77.38,
          77.6,
          80.7,
          86.15,
          85.5,
          84.13,
          84.86,
          83.95,
          84.2,
          85.79,
          84.1,
          83.84,
          83.4,
          84.42,
          82.35,
          79.55,
          79.72,
          79.57,
          80.52,
          79.18,
          78.53,
          79,
          79.21,
          76.23,
          76.2,
          76.65,
          77,
          76,
          75.3,
          76.4,
          71.8,
          71.78,
          72.38,
          71.13,
          71.2,
          69.72,
          69.58,
          69.61,
          65.01,
          65.69,
          66.22,
          66.2,
          66.6,
          62.24,
          63.36,
          58.7,
          60.17,
          59.52,
          58.6,
          59.55,
          59.26,
          61.25,
          61.39,
          60.52,
          59.3,
          60.57,
          58.69,
          58.9,
          58.95,
          60.45,
          59.3,
          58.75,
          55.23,
          56.62,
          54.3,
          53.8,
          50.1,
          53.97,
          51.85,
          52.15,
          53.51,
          54.3,
          55.2,
          56,
          56.27,
          57.63,
          60.5,
          61.01,
          59.95,
          58.78,
          60.24,
          60.9,
          60.8,
          62.55,
          61.15,
          60.94,
          61.07,
          61.51,
          59.65,
          60.93,
          61.28,
          61.87,
          63.15,
          62.91,
          62.2,
          62.77,
          62.05,
          62.42,
          61.85,
          62.92,
          64.13,
          65.57,
          66.73,
          66.5,
          67.18,
          67.27,
          67.27,
          64.9,
          65.4,
          66.6,
          66.05,
          64.92,
          65.64,
          66,
          66.3,
          66.65,
          66.05,
          66.9,
          67.12,
          67.95,
          67.53,
          67.31,
          67.59,
          67.48,
          68.32,
          67.55,
          66.83,
          66.9,
          67.51,
          67.03,
          66.97,
          67.42,
          68.78,
          69.17,
          69.04,
          69.18,
          70.15,
          70.7,
          70.3,
          71.18,
          70.13,
          70.62,
          70.36,
          71.32,
          71.08,
          71.75,
          73.69,
          74.18,
          74.25,
          73.6,
          71.75,
          71.68,
          72.35,
          72.23,
          71.08,
          71,
          71.34,
          69.95,
          70.24,
          70.25,
          70.88,
          70.33,
          71.45,
          71.7,
          72.85,
          72.1,
          71.42,
          71.8,
          70.42,
          66.65,
          67.5,
          68.35,
          66.95,
          64.12,
          64.17,
          60.75,
          61.18,
          59.3,
          60.17,
          61.8,
          61.05,
          61.38,
          59.03,
          60.35,
          60.9,
          59.95,
          61.23,
          60.95,
          63.85,
          64.4,
          63.4,
          62.95,
          64.85,
          64.78,
          64.63,
          63.79,
          61.2,
          62.55,
          63.15,
          63.06,
          63.28,
          66.15,
          66.47,
          65.81,
          65.44,
          63.14,
          62.53,
          61.12,
          62.04,
          62.98,
          63.3,
          62.88,
          63.9,
          64,
          64.2,
          64.5,
          65.28,
          59.9,
          61.48,
          59.47,
          58.54,
          56.17,
          57.56,
          58.3,
          58.48,
          60.95,
          59.1,
          58.02,
          58.44,
          59.54,
          60,
          60.76,
          60.61,
          59.64,
          58.42,
          58.75,
          59.77,
          59.98,
          60.22,
          57.48,
          59.5,
          59.88,
          60.54,
          61.8,
          61.48,
          59.71,
          59.53,
          59.35,
          67.9,
          64.1,
          62.88,
          63.95,
          63.9,
          63.82,
          62.7,
          62.26,
          62.54,
          62.1,
          61.73,
          58.7,
          57.9,
          57.99,
          58.75,
          58.69,
          58.74,
          58.85,
          59.42,
          61.43,
          60.4,
          60.1,
          60.55,
          60.99,
          60.35,
          59.9,
          60.45,
          62.38,
          63.25,
          62.4,
          61.68,
          61.4,
          60.7,
          60.88,
          62,
          62.45,
          63.01,
          62,
          62.2,
          62.76,
          62.74,
          62.98,
          63.3,
          63.05,
          63.65,
          62.9,
          61.46,
          63.35,
          64.89,
          64.14,
          63.34,
          63.83,
          63.44,
          63.43,
          61.39,
          61.68,
          63.7,
          64.24,
          65.11,
          64.95,
          65.04,
          64.38,
          65,
          66.12,
          66.22,
          66.8,
          66.82,
          67.12,
          66.83,
          66.9,
          67.16,
          68.07,
          67.9,
          68.3,
          67.42,
          66.23,
          68.8,
          69.17,
          68.87,
          66,
          66.02,
          66.1,
          65.3,
          65.49,
          64.93,
          65.43,
          65.3,
          64.95,
          63.77,
          62.67,
          61,
          59.77,
          62,
          61.97,
          59.1,
          59.66,
          54.6,
          53.05,
          54.31,
          54.45,
          53.64,
          52.5,
          53.36,
          54.87,
          55.6,
          56.5,
          56.76,
          57.8,
          58,
          57.35,
          55.09,
          53.65,
          51.39,
          49.74,
          49.11,
          50.97,
          51.31,
          50.78,
          49.78,
          45.22,
          33.05,
          35.07,
          35.15,
          32.9,
          34.29,
          30,
          29.53,
          26.85,
          30.1,
          28.95,
          27.68,
          27.3,
          28.98,
          28.3,
          26.35,
          23.8,
          26.55,
          22.5,
          26.45,
          31.95,
          29.45,
          25.87,
          26.98,
          24.6,
          26.07,
          23.06,
          23.42,
          23.42,
          24.68,
          23.52,
          19.93,
          23.15,
          20.73,
          20.68,
          18.9,
          18.46,
          22.02,
          26.61,
          28.88,
          29.77,
          30.6,
          30.23,
          30.2,
          31.79
         ]
        }
       ],
       "layout": {
        "legend": {
         "x": 0.01,
         "y": 0.01
        },
        "paper_bgcolor": "#FFFFFF",
        "plot_bgcolor": "#FFFFFF",
        "showlegend": true,
        "template": {
         "data": {
          "bar": [
           {
            "error_x": {
             "color": "#2a3f5f"
            },
            "error_y": {
             "color": "#2a3f5f"
            },
            "marker": {
             "line": {
              "color": "#E5ECF6",
              "width": 0.5
             }
            },
            "type": "bar"
           }
          ],
          "barpolar": [
           {
            "marker": {
             "line": {
              "color": "#E5ECF6",
              "width": 0.5
             }
            },
            "type": "barpolar"
           }
          ],
          "carpet": [
           {
            "aaxis": {
             "endlinecolor": "#2a3f5f",
             "gridcolor": "white",
             "linecolor": "white",
             "minorgridcolor": "white",
             "startlinecolor": "#2a3f5f"
            },
            "baxis": {
             "endlinecolor": "#2a3f5f",
             "gridcolor": "white",
             "linecolor": "white",
             "minorgridcolor": "white",
             "startlinecolor": "#2a3f5f"
            },
            "type": "carpet"
           }
          ],
          "choropleth": [
           {
            "colorbar": {
             "outlinewidth": 0,
             "ticks": ""
            },
            "type": "choropleth"
           }
          ],
          "contour": [
           {
            "colorbar": {
             "outlinewidth": 0,
             "ticks": ""
            },
            "colorscale": [
             [
              0,
              "#0d0887"
             ],
             [
              0.1111111111111111,
              "#46039f"
             ],
             [
              0.2222222222222222,
              "#7201a8"
             ],
             [
              0.3333333333333333,
              "#9c179e"
             ],
             [
              0.4444444444444444,
              "#bd3786"
             ],
             [
              0.5555555555555556,
              "#d8576b"
             ],
             [
              0.6666666666666666,
              "#ed7953"
             ],
             [
              0.7777777777777778,
              "#fb9f3a"
             ],
             [
              0.8888888888888888,
              "#fdca26"
             ],
             [
              1,
              "#f0f921"
             ]
            ],
            "type": "contour"
           }
          ],
          "contourcarpet": [
           {
            "colorbar": {
             "outlinewidth": 0,
             "ticks": ""
            },
            "type": "contourcarpet"
           }
          ],
          "heatmap": [
           {
            "colorbar": {
             "outlinewidth": 0,
             "ticks": ""
            },
            "colorscale": [
             [
              0,
              "#0d0887"
             ],
             [
              0.1111111111111111,
              "#46039f"
             ],
             [
              0.2222222222222222,
              "#7201a8"
             ],
             [
              0.3333333333333333,
              "#9c179e"
             ],
             [
              0.4444444444444444,
              "#bd3786"
             ],
             [
              0.5555555555555556,
              "#d8576b"
             ],
             [
              0.6666666666666666,
              "#ed7953"
             ],
             [
              0.7777777777777778,
              "#fb9f3a"
             ],
             [
              0.8888888888888888,
              "#fdca26"
             ],
             [
              1,
              "#f0f921"
             ]
            ],
            "type": "heatmap"
           }
          ],
          "heatmapgl": [
           {
            "colorbar": {
             "outlinewidth": 0,
             "ticks": ""
            },
            "colorscale": [
             [
              0,
              "#0d0887"
             ],
             [
              0.1111111111111111,
              "#46039f"
             ],
             [
              0.2222222222222222,
              "#7201a8"
             ],
             [
              0.3333333333333333,
              "#9c179e"
             ],
             [
              0.4444444444444444,
              "#bd3786"
             ],
             [
              0.5555555555555556,
              "#d8576b"
             ],
             [
              0.6666666666666666,
              "#ed7953"
             ],
             [
              0.7777777777777778,
              "#fb9f3a"
             ],
             [
              0.8888888888888888,
              "#fdca26"
             ],
             [
              1,
              "#f0f921"
             ]
            ],
            "type": "heatmapgl"
           }
          ],
          "histogram": [
           {
            "marker": {
             "colorbar": {
              "outlinewidth": 0,
              "ticks": ""
             }
            },
            "type": "histogram"
           }
          ],
          "histogram2d": [
           {
            "colorbar": {
             "outlinewidth": 0,
             "ticks": ""
            },
            "colorscale": [
             [
              0,
              "#0d0887"
             ],
             [
              0.1111111111111111,
              "#46039f"
             ],
             [
              0.2222222222222222,
              "#7201a8"
             ],
             [
              0.3333333333333333,
              "#9c179e"
             ],
             [
              0.4444444444444444,
              "#bd3786"
             ],
             [
              0.5555555555555556,
              "#d8576b"
             ],
             [
              0.6666666666666666,
              "#ed7953"
             ],
             [
              0.7777777777777778,
              "#fb9f3a"
             ],
             [
              0.8888888888888888,
              "#fdca26"
             ],
             [
              1,
              "#f0f921"
             ]
            ],
            "type": "histogram2d"
           }
          ],
          "histogram2dcontour": [
           {
            "colorbar": {
             "outlinewidth": 0,
             "ticks": ""
            },
            "colorscale": [
             [
              0,
              "#0d0887"
             ],
             [
              0.1111111111111111,
              "#46039f"
             ],
             [
              0.2222222222222222,
              "#7201a8"
             ],
             [
              0.3333333333333333,
              "#9c179e"
             ],
             [
              0.4444444444444444,
              "#bd3786"
             ],
             [
              0.5555555555555556,
              "#d8576b"
             ],
             [
              0.6666666666666666,
              "#ed7953"
             ],
             [
              0.7777777777777778,
              "#fb9f3a"
             ],
             [
              0.8888888888888888,
              "#fdca26"
             ],
             [
              1,
              "#f0f921"
             ]
            ],
            "type": "histogram2dcontour"
           }
          ],
          "mesh3d": [
           {
            "colorbar": {
             "outlinewidth": 0,
             "ticks": ""
            },
            "type": "mesh3d"
           }
          ],
          "parcoords": [
           {
            "line": {
             "colorbar": {
              "outlinewidth": 0,
              "ticks": ""
             }
            },
            "type": "parcoords"
           }
          ],
          "pie": [
           {
            "automargin": true,
            "type": "pie"
           }
          ],
          "scatter": [
           {
            "marker": {
             "colorbar": {
              "outlinewidth": 0,
              "ticks": ""
             }
            },
            "type": "scatter"
           }
          ],
          "scatter3d": [
           {
            "line": {
             "colorbar": {
              "outlinewidth": 0,
              "ticks": ""
             }
            },
            "marker": {
             "colorbar": {
              "outlinewidth": 0,
              "ticks": ""
             }
            },
            "type": "scatter3d"
           }
          ],
          "scattercarpet": [
           {
            "marker": {
             "colorbar": {
              "outlinewidth": 0,
              "ticks": ""
             }
            },
            "type": "scattercarpet"
           }
          ],
          "scattergeo": [
           {
            "marker": {
             "colorbar": {
              "outlinewidth": 0,
              "ticks": ""
             }
            },
            "type": "scattergeo"
           }
          ],
          "scattergl": [
           {
            "marker": {
             "colorbar": {
              "outlinewidth": 0,
              "ticks": ""
             }
            },
            "type": "scattergl"
           }
          ],
          "scattermapbox": [
           {
            "marker": {
             "colorbar": {
              "outlinewidth": 0,
              "ticks": ""
             }
            },
            "type": "scattermapbox"
           }
          ],
          "scatterpolar": [
           {
            "marker": {
             "colorbar": {
              "outlinewidth": 0,
              "ticks": ""
             }
            },
            "type": "scatterpolar"
           }
          ],
          "scatterpolargl": [
           {
            "marker": {
             "colorbar": {
              "outlinewidth": 0,
              "ticks": ""
             }
            },
            "type": "scatterpolargl"
           }
          ],
          "scatterternary": [
           {
            "marker": {
             "colorbar": {
              "outlinewidth": 0,
              "ticks": ""
             }
            },
            "type": "scatterternary"
           }
          ],
          "surface": [
           {
            "colorbar": {
             "outlinewidth": 0,
             "ticks": ""
            },
            "colorscale": [
             [
              0,
              "#0d0887"
             ],
             [
              0.1111111111111111,
              "#46039f"
             ],
             [
              0.2222222222222222,
              "#7201a8"
             ],
             [
              0.3333333333333333,
              "#9c179e"
             ],
             [
              0.4444444444444444,
              "#bd3786"
             ],
             [
              0.5555555555555556,
              "#d8576b"
             ],
             [
              0.6666666666666666,
              "#ed7953"
             ],
             [
              0.7777777777777778,
              "#fb9f3a"
             ],
             [
              0.8888888888888888,
              "#fdca26"
             ],
             [
              1,
              "#f0f921"
             ]
            ],
            "type": "surface"
           }
          ],
          "table": [
           {
            "cells": {
             "fill": {
              "color": "#EBF0F8"
             },
             "line": {
              "color": "white"
             }
            },
            "header": {
             "fill": {
              "color": "#C8D4E3"
             },
             "line": {
              "color": "white"
             }
            },
            "type": "table"
           }
          ]
         },
         "layout": {
          "annotationdefaults": {
           "arrowcolor": "#2a3f5f",
           "arrowhead": 0,
           "arrowwidth": 1
          },
          "coloraxis": {
           "colorbar": {
            "outlinewidth": 0,
            "ticks": ""
           }
          },
          "colorscale": {
           "diverging": [
            [
             0,
             "#8e0152"
            ],
            [
             0.1,
             "#c51b7d"
            ],
            [
             0.2,
             "#de77ae"
            ],
            [
             0.3,
             "#f1b6da"
            ],
            [
             0.4,
             "#fde0ef"
            ],
            [
             0.5,
             "#f7f7f7"
            ],
            [
             0.6,
             "#e6f5d0"
            ],
            [
             0.7,
             "#b8e186"
            ],
            [
             0.8,
             "#7fbc41"
            ],
            [
             0.9,
             "#4d9221"
            ],
            [
             1,
             "#276419"
            ]
           ],
           "sequential": [
            [
             0,
             "#0d0887"
            ],
            [
             0.1111111111111111,
             "#46039f"
            ],
            [
             0.2222222222222222,
             "#7201a8"
            ],
            [
             0.3333333333333333,
             "#9c179e"
            ],
            [
             0.4444444444444444,
             "#bd3786"
            ],
            [
             0.5555555555555556,
             "#d8576b"
            ],
            [
             0.6666666666666666,
             "#ed7953"
            ],
            [
             0.7777777777777778,
             "#fb9f3a"
            ],
            [
             0.8888888888888888,
             "#fdca26"
            ],
            [
             1,
             "#f0f921"
            ]
           ],
           "sequentialminus": [
            [
             0,
             "#0d0887"
            ],
            [
             0.1111111111111111,
             "#46039f"
            ],
            [
             0.2222222222222222,
             "#7201a8"
            ],
            [
             0.3333333333333333,
             "#9c179e"
            ],
            [
             0.4444444444444444,
             "#bd3786"
            ],
            [
             0.5555555555555556,
             "#d8576b"
            ],
            [
             0.6666666666666666,
             "#ed7953"
            ],
            [
             0.7777777777777778,
             "#fb9f3a"
            ],
            [
             0.8888888888888888,
             "#fdca26"
            ],
            [
             1,
             "#f0f921"
            ]
           ]
          },
          "colorway": [
           "#636efa",
           "#EF553B",
           "#00cc96",
           "#ab63fa",
           "#FFA15A",
           "#19d3f3",
           "#FF6692",
           "#B6E880",
           "#FF97FF",
           "#FECB52"
          ],
          "font": {
           "color": "#2a3f5f"
          },
          "geo": {
           "bgcolor": "white",
           "lakecolor": "white",
           "landcolor": "#E5ECF6",
           "showlakes": true,
           "showland": true,
           "subunitcolor": "white"
          },
          "hoverlabel": {
           "align": "left"
          },
          "hovermode": "closest",
          "mapbox": {
           "style": "light"
          },
          "paper_bgcolor": "white",
          "plot_bgcolor": "#E5ECF6",
          "polar": {
           "angularaxis": {
            "gridcolor": "white",
            "linecolor": "white",
            "ticks": ""
           },
           "bgcolor": "#E5ECF6",
           "radialaxis": {
            "gridcolor": "white",
            "linecolor": "white",
            "ticks": ""
           }
          },
          "scene": {
           "xaxis": {
            "backgroundcolor": "#E5ECF6",
            "gridcolor": "white",
            "gridwidth": 2,
            "linecolor": "white",
            "showbackground": true,
            "ticks": "",
            "zerolinecolor": "white"
           },
           "yaxis": {
            "backgroundcolor": "#E5ECF6",
            "gridcolor": "white",
            "gridwidth": 2,
            "linecolor": "white",
            "showbackground": true,
            "ticks": "",
            "zerolinecolor": "white"
           },
           "zaxis": {
            "backgroundcolor": "#E5ECF6",
            "gridcolor": "white",
            "gridwidth": 2,
            "linecolor": "white",
            "showbackground": true,
            "ticks": "",
            "zerolinecolor": "white"
           }
          },
          "shapedefaults": {
           "line": {
            "color": "#2a3f5f"
           }
          },
          "ternary": {
           "aaxis": {
            "gridcolor": "white",
            "linecolor": "white",
            "ticks": ""
           },
           "baxis": {
            "gridcolor": "white",
            "linecolor": "white",
            "ticks": ""
           },
           "bgcolor": "#E5ECF6",
           "caxis": {
            "gridcolor": "white",
            "linecolor": "white",
            "ticks": ""
           }
          },
          "title": {
           "x": 0.05
          },
          "xaxis": {
           "automargin": true,
           "gridcolor": "white",
           "linecolor": "white",
           "ticks": "",
           "title": {
            "standoff": 15
           },
           "zerolinecolor": "white",
           "zerolinewidth": 2
          },
          "yaxis": {
           "automargin": true,
           "gridcolor": "white",
           "linecolor": "white",
           "ticks": "",
           "title": {
            "standoff": 15
           },
           "zerolinecolor": "white",
           "zerolinewidth": 2
          }
         }
        },
        "title": {
         "font": {
          "color": "#4D5663"
         }
        },
        "xaxis": {
         "gridcolor": "#E1E5ED",
         "showgrid": true,
         "tickfont": {
          "color": "#4D5663"
         },
         "title": {
          "font": {
           "color": "#4D5663"
          },
          "text": ""
         },
         "zerolinecolor": "#E1E5ED"
        },
        "yaxis": {
         "gridcolor": "#E1E5ED",
         "showgrid": true,
         "tickfont": {
          "color": "#4D5663"
         },
         "title": {
          "font": {
           "color": "#4D5663"
          },
          "text": "USD/Bbl"
         },
         "zerolinecolor": "#E1E5ED"
        }
       }
      },
      "text/html": "<div>\n        \n        \n            <div id=\"ed8cc3fa-9e06-480a-a464-9bd8d012641c\" class=\"plotly-graph-div\" style=\"height:525px; width:100%;\"></div>\n            <script type=\"text/javascript\">\n                require([\"plotly\"], function(Plotly) {\n                    window.PLOTLYENV=window.PLOTLYENV || {};\n                    window.PLOTLYENV.BASE_URL='https://plot.ly';\n                    \n                if (document.getElementById(\"ed8cc3fa-9e06-480a-a464-9bd8d012641c\")) {\n                    Plotly.newPlot(\n                        'ed8cc3fa-9e06-480a-a464-9bd8d012641c',\n                        [{\"line\": {\"color\": \"black\", \"dash\": \"solid\", \"shape\": \"linear\", \"width\": 3}, \"mode\": \"lines\", \"name\": \"WTI\", \"text\": \"\", \"type\": \"scatter\", \"x\": [\"2016-06-27\", \"2016-06-28\", \"2016-06-29\", \"2016-06-30\", \"2016-07-01\", \"2016-07-05\", \"2016-07-06\", \"2016-07-07\", \"2016-07-08\", \"2016-07-11\", \"2016-07-12\", \"2016-07-13\", \"2016-07-14\", \"2016-07-15\", \"2016-07-18\", \"2016-07-19\", \"2016-07-20\", \"2016-07-21\", \"2016-07-22\", \"2016-07-25\", \"2016-07-26\", \"2016-07-27\", \"2016-07-28\", \"2016-07-29\", \"2016-08-01\", \"2016-08-02\", \"2016-08-03\", \"2016-08-04\", \"2016-08-05\", \"2016-08-08\", \"2016-08-09\", \"2016-08-10\", \"2016-08-11\", \"2016-08-12\", \"2016-08-15\", \"2016-08-16\", \"2016-08-17\", \"2016-08-18\", \"2016-08-19\", \"2016-08-22\", \"2016-08-23\", \"2016-08-24\", \"2016-08-25\", \"2016-08-26\", \"2016-08-29\", \"2016-08-30\", \"2016-08-31\", \"2016-09-01\", \"2016-09-02\", \"2016-09-06\", \"2016-09-07\", \"2016-09-08\", \"2016-09-09\", \"2016-09-12\", \"2016-09-13\", \"2016-09-14\", \"2016-09-15\", \"2016-09-16\", \"2016-09-19\", \"2016-09-20\", \"2016-09-21\", \"2016-09-22\", \"2016-09-23\", \"2016-09-26\", \"2016-09-27\", \"2016-09-28\", \"2016-09-29\", \"2016-09-30\", \"2016-10-03\", \"2016-10-04\", \"2016-10-05\", \"2016-10-06\", \"2016-10-07\", \"2016-10-10\", \"2016-10-11\", \"2016-10-12\", \"2016-10-13\", \"2016-10-14\", \"2016-10-17\", \"2016-10-18\", \"2016-10-19\", \"2016-10-20\", \"2016-10-21\", \"2016-10-24\", \"2016-10-25\", \"2016-10-26\", \"2016-10-27\", \"2016-10-28\", \"2016-10-31\", \"2016-11-01\", \"2016-11-02\", \"2016-11-03\", \"2016-11-04\", \"2016-11-07\", \"2016-11-08\", \"2016-11-09\", \"2016-11-10\", \"2016-11-11\", \"2016-11-14\", \"2016-11-15\", \"2016-11-16\", \"2016-11-17\", \"2016-11-18\", \"2016-11-21\", \"2016-11-22\", \"2016-11-23\", \"2016-11-25\", \"2016-11-28\", \"2016-11-29\", \"2016-11-30\", \"2016-12-01\", \"2016-12-02\", \"2016-12-05\", \"2016-12-06\", \"2016-12-07\", \"2016-12-08\", \"2016-12-09\", \"2016-12-12\", \"2016-12-13\", \"2016-12-14\", \"2016-12-15\", \"2016-12-16\", \"2016-12-19\", \"2016-12-20\", \"2016-12-21\", \"2016-12-22\", \"2016-12-23\", \"2016-12-27\", \"2016-12-28\", \"2016-12-29\", \"2016-12-30\", \"2017-01-03\", \"2017-01-04\", \"2017-01-05\", \"2017-01-06\", \"2017-01-09\", \"2017-01-10\", \"2017-01-11\", \"2017-01-12\", \"2017-01-13\", \"2017-01-17\", \"2017-01-18\", \"2017-01-19\", \"2017-01-20\", \"2017-01-23\", \"2017-01-24\", \"2017-01-25\", \"2017-01-26\", \"2017-01-27\", \"2017-01-30\", \"2017-01-31\", \"2017-02-01\", \"2017-02-02\", \"2017-02-03\", \"2017-02-06\", \"2017-02-07\", \"2017-02-08\", \"2017-02-09\", \"2017-02-10\", \"2017-02-13\", \"2017-02-14\", \"2017-02-15\", \"2017-02-16\", \"2017-02-17\", \"2017-02-21\", \"2017-02-22\", \"2017-02-23\", \"2017-02-24\", \"2017-02-27\", \"2017-02-28\", \"2017-03-01\", \"2017-03-02\", \"2017-03-03\", \"2017-03-06\", \"2017-03-07\", \"2017-03-08\", \"2017-03-09\", \"2017-03-10\", \"2017-03-13\", \"2017-03-14\", \"2017-03-15\", \"2017-03-16\", \"2017-03-17\", \"2017-03-20\", \"2017-03-21\", \"2017-03-22\", \"2017-03-23\", \"2017-03-24\", \"2017-03-27\", \"2017-03-28\", \"2017-03-29\", \"2017-03-30\", \"2017-03-31\", \"2017-04-03\", \"2017-04-04\", \"2017-04-05\", \"2017-04-06\", \"2017-04-07\", \"2017-04-10\", \"2017-04-11\", \"2017-04-12\", \"2017-04-13\", \"2017-04-17\", \"2017-04-18\", \"2017-04-19\", \"2017-04-20\", \"2017-04-21\", \"2017-04-24\", \"2017-04-25\", \"2017-04-26\", \"2017-04-27\", \"2017-04-28\", \"2017-05-01\", \"2017-05-02\", \"2017-05-03\", \"2017-05-04\", \"2017-05-05\", \"2017-05-08\", \"2017-05-09\", \"2017-05-10\", \"2017-05-11\", \"2017-05-12\", \"2017-05-15\", \"2017-05-16\", \"2017-05-17\", \"2017-05-18\", \"2017-05-19\", \"2017-05-22\", \"2017-05-23\", \"2017-05-24\", \"2017-05-25\", \"2017-05-26\", \"2017-05-30\", \"2017-05-31\", \"2017-06-01\", \"2017-06-02\", \"2017-06-05\", \"2017-06-06\", \"2017-06-07\", \"2017-06-08\", \"2017-06-09\", \"2017-06-12\", \"2017-06-13\", \"2017-06-14\", \"2017-06-15\", \"2017-06-16\", \"2017-06-19\", \"2017-06-20\", \"2017-06-21\", \"2017-06-22\", \"2017-06-23\", \"2017-06-26\", \"2017-06-27\", \"2017-06-28\", \"2017-06-29\", \"2017-06-30\", \"2017-07-03\", \"2017-07-05\", \"2017-07-06\", \"2017-07-07\", \"2017-07-10\", \"2017-07-11\", \"2017-07-12\", \"2017-07-13\", \"2017-07-14\", \"2017-07-17\", \"2017-07-18\", \"2017-07-19\", \"2017-07-20\", \"2017-07-21\", \"2017-07-24\", \"2017-07-25\", \"2017-07-26\", \"2017-07-27\", \"2017-07-28\", \"2017-07-31\", \"2017-08-01\", \"2017-08-02\", \"2017-08-03\", \"2017-08-04\", \"2017-08-07\", \"2017-08-08\", \"2017-08-09\", \"2017-08-10\", \"2017-08-11\", \"2017-08-14\", \"2017-08-15\", \"2017-08-16\", \"2017-08-17\", \"2017-08-18\", \"2017-08-21\", \"2017-08-22\", \"2017-08-23\", \"2017-08-24\", \"2017-08-25\", \"2017-08-28\", \"2017-08-29\", \"2017-08-30\", \"2017-08-31\", \"2017-09-01\", \"2017-09-05\", \"2017-09-06\", \"2017-09-07\", \"2017-09-08\", \"2017-09-11\", \"2017-09-12\", \"2017-09-13\", \"2017-09-14\", \"2017-09-15\", \"2017-09-18\", \"2017-09-19\", \"2017-09-20\", \"2017-09-21\", \"2017-09-22\", \"2017-09-25\", \"2017-09-26\", \"2017-09-27\", \"2017-09-28\", \"2017-09-29\", \"2017-10-02\", \"2017-10-03\", \"2017-10-04\", \"2017-10-05\", \"2017-10-06\", \"2017-10-09\", \"2017-10-10\", \"2017-10-11\", \"2017-10-12\", \"2017-10-13\", \"2017-10-16\", \"2017-10-17\", \"2017-10-18\", \"2017-10-19\", \"2017-10-20\", \"2017-10-23\", \"2017-10-24\", \"2017-10-25\", \"2017-10-26\", \"2017-10-27\", \"2017-10-30\", \"2017-10-31\", \"2017-11-01\", \"2017-11-02\", \"2017-11-03\", \"2017-11-06\", \"2017-11-07\", \"2017-11-08\", \"2017-11-09\", \"2017-11-10\", \"2017-11-13\", \"2017-11-14\", \"2017-11-15\", \"2017-11-16\", \"2017-11-17\", \"2017-11-20\", \"2017-11-21\", \"2017-11-22\", \"2017-11-24\", \"2017-11-27\", \"2017-11-28\", \"2017-11-29\", \"2017-11-30\", \"2017-12-01\", \"2017-12-04\", \"2017-12-05\", \"2017-12-06\", \"2017-12-07\", \"2017-12-08\", \"2017-12-11\", \"2017-12-12\", \"2017-12-13\", \"2017-12-14\", \"2017-12-15\", \"2017-12-18\", \"2017-12-19\", \"2017-12-20\", \"2017-12-21\", \"2017-12-22\", \"2017-12-26\", \"2017-12-27\", \"2017-12-28\", \"2017-12-29\", \"2018-01-02\", \"2018-01-03\", \"2018-01-04\", \"2018-01-05\", \"2018-01-08\", \"2018-01-09\", \"2018-01-10\", \"2018-01-11\", \"2018-01-12\", \"2018-01-16\", \"2018-01-17\", \"2018-01-18\", \"2018-01-19\", \"2018-01-22\", \"2018-01-23\", \"2018-01-24\", \"2018-01-25\", \"2018-01-26\", \"2018-01-29\", \"2018-01-30\", \"2018-01-31\", \"2018-02-01\", \"2018-02-02\", \"2018-02-05\", \"2018-02-06\", \"2018-02-07\", \"2018-02-08\", \"2018-02-09\", \"2018-02-12\", \"2018-02-13\", \"2018-02-14\", \"2018-02-15\", \"2018-02-16\", \"2018-02-20\", \"2018-02-21\", \"2018-02-22\", \"2018-02-23\", \"2018-02-26\", \"2018-02-27\", \"2018-02-28\", \"2018-03-01\", \"2018-03-02\", \"2018-03-05\", \"2018-03-06\", \"2018-03-07\", \"2018-03-08\", \"2018-03-09\", \"2018-03-12\", \"2018-03-13\", \"2018-03-14\", \"2018-03-15\", \"2018-03-16\", \"2018-03-19\", \"2018-03-20\", \"2018-03-21\", \"2018-03-22\", \"2018-03-23\", \"2018-03-26\", \"2018-03-27\", \"2018-03-28\", \"2018-03-29\", \"2018-04-02\", \"2018-04-03\", \"2018-04-04\", \"2018-04-05\", \"2018-04-06\", \"2018-04-09\", \"2018-04-10\", \"2018-04-11\", \"2018-04-12\", \"2018-04-13\", \"2018-04-16\", \"2018-04-17\", \"2018-04-18\", \"2018-04-19\", \"2018-04-20\", \"2018-04-23\", \"2018-04-24\", \"2018-04-25\", \"2018-04-26\", \"2018-04-27\", \"2018-04-30\", \"2018-05-01\", \"2018-05-02\", \"2018-05-03\", \"2018-05-04\", \"2018-05-07\", \"2018-05-08\", \"2018-05-09\", \"2018-05-10\", \"2018-05-11\", \"2018-05-14\", \"2018-05-15\", \"2018-05-16\", \"2018-05-17\", \"2018-05-18\", \"2018-05-21\", \"2018-05-22\", \"2018-05-23\", \"2018-05-24\", \"2018-05-25\", \"2018-05-29\", \"2018-05-30\", \"2018-05-31\", \"2018-06-01\", \"2018-06-04\", \"2018-06-05\", \"2018-06-06\", \"2018-06-07\", \"2018-06-08\", \"2018-06-11\", \"2018-06-12\", \"2018-06-13\", \"2018-06-14\", \"2018-06-15\", \"2018-06-18\", \"2018-06-19\", \"2018-06-20\", \"2018-06-21\", \"2018-06-22\", \"2018-06-25\", \"2018-06-26\", \"2018-06-27\", \"2018-06-28\", \"2018-06-29\", \"2018-07-02\", \"2018-07-03\", \"2018-07-05\", \"2018-07-06\", \"2018-07-09\", \"2018-07-10\", \"2018-07-11\", \"2018-07-12\", \"2018-07-13\", \"2018-07-16\", \"2018-07-17\", \"2018-07-18\", \"2018-07-19\", \"2018-07-20\", \"2018-07-23\", \"2018-07-24\", \"2018-07-25\", \"2018-07-26\", \"2018-07-27\", \"2018-07-30\", \"2018-07-31\", \"2018-08-01\", \"2018-08-02\", \"2018-08-03\", \"2018-08-06\", \"2018-08-07\", \"2018-08-08\", \"2018-08-09\", \"2018-08-10\", \"2018-08-13\", \"2018-08-14\", \"2018-08-15\", \"2018-08-16\", \"2018-08-17\", \"2018-08-20\", \"2018-08-21\", \"2018-08-22\", \"2018-08-23\", \"2018-08-24\", \"2018-08-27\", \"2018-08-28\", \"2018-08-29\", \"2018-08-30\", \"2018-08-31\", \"2018-09-04\", \"2018-09-05\", \"2018-09-06\", \"2018-09-07\", \"2018-09-10\", \"2018-09-11\", \"2018-09-12\", \"2018-09-13\", \"2018-09-14\", \"2018-09-17\", \"2018-09-18\", \"2018-09-19\", \"2018-09-20\", \"2018-09-21\", \"2018-09-24\", \"2018-09-25\", \"2018-09-26\", \"2018-09-27\", \"2018-09-28\", \"2018-10-01\", \"2018-10-02\", \"2018-10-03\", \"2018-10-04\", \"2018-10-05\", \"2018-10-08\", \"2018-10-09\", \"2018-10-10\", \"2018-10-11\", \"2018-10-12\", \"2018-10-15\", \"2018-10-16\", \"2018-10-17\", \"2018-10-18\", \"2018-10-19\", \"2018-10-22\", \"2018-10-23\", \"2018-10-24\", \"2018-10-25\", \"2018-10-26\", \"2018-10-29\", \"2018-10-30\", \"2018-10-31\", \"2018-11-01\", \"2018-11-02\", \"2018-11-05\", \"2018-11-06\", \"2018-11-07\", \"2018-11-08\", \"2018-11-09\", \"2018-11-12\", \"2018-11-13\", \"2018-11-14\", \"2018-11-15\", \"2018-11-16\", \"2018-11-19\", \"2018-11-20\", \"2018-11-21\", \"2018-11-23\", \"2018-11-26\", \"2018-11-27\", \"2018-11-28\", \"2018-11-29\", \"2018-11-30\", \"2018-12-03\", \"2018-12-04\", \"2018-12-05\", \"2018-12-06\", \"2018-12-07\", \"2018-12-10\", \"2018-12-11\", \"2018-12-12\", \"2018-12-13\", \"2018-12-14\", \"2018-12-17\", \"2018-12-18\", \"2018-12-19\", \"2018-12-20\", \"2018-12-21\", \"2018-12-24\", \"2018-12-26\", \"2018-12-27\", \"2018-12-28\", \"2018-12-31\", \"2019-01-02\", \"2019-01-03\", \"2019-01-04\", \"2019-01-07\", \"2019-01-08\", \"2019-01-09\", \"2019-01-10\", \"2019-01-11\", \"2019-01-14\", \"2019-01-15\", \"2019-01-16\", \"2019-01-17\", \"2019-01-18\", \"2019-01-22\", \"2019-01-23\", \"2019-01-24\", \"2019-01-25\", \"2019-01-28\", \"2019-01-29\", \"2019-01-30\", \"2019-01-31\", \"2019-02-01\", \"2019-02-04\", \"2019-02-05\", \"2019-02-06\", \"2019-02-07\", \"2019-02-08\", \"2019-02-11\", \"2019-02-12\", \"2019-02-13\", \"2019-02-14\", \"2019-02-15\", \"2019-02-19\", \"2019-02-20\", \"2019-02-21\", \"2019-02-22\", \"2019-02-25\", \"2019-02-26\", \"2019-02-27\", \"2019-02-28\", \"2019-03-01\", \"2019-03-04\", \"2019-03-05\", \"2019-03-06\", \"2019-03-07\", \"2019-03-08\", \"2019-03-11\", \"2019-03-12\", \"2019-03-13\", \"2019-03-14\", \"2019-03-15\", \"2019-03-18\", \"2019-03-19\", \"2019-03-20\", \"2019-03-21\", \"2019-03-22\", \"2019-03-25\", \"2019-03-26\", \"2019-03-27\", \"2019-03-28\", \"2019-03-29\", \"2019-04-01\", \"2019-04-02\", \"2019-04-03\", \"2019-04-04\", \"2019-04-05\", \"2019-04-08\", \"2019-04-09\", \"2019-04-10\", \"2019-04-11\", \"2019-04-12\", \"2019-04-15\", \"2019-04-16\", \"2019-04-17\", \"2019-04-18\", \"2019-04-22\", \"2019-04-23\", \"2019-04-24\", \"2019-04-25\", \"2019-04-26\", \"2019-04-29\", \"2019-04-30\", \"2019-05-01\", \"2019-05-02\", \"2019-05-03\", \"2019-05-06\", \"2019-05-07\", \"2019-05-08\", \"2019-05-09\", \"2019-05-10\", \"2019-05-13\", \"2019-05-14\", \"2019-05-15\", \"2019-05-16\", \"2019-05-17\", \"2019-05-20\", \"2019-05-21\", \"2019-05-22\", \"2019-05-23\", \"2019-05-24\", \"2019-05-28\", \"2019-05-29\", \"2019-05-30\", \"2019-05-31\", \"2019-06-03\", \"2019-06-04\", \"2019-06-05\", \"2019-06-06\", \"2019-06-07\", \"2019-06-10\", \"2019-06-11\", \"2019-06-12\", \"2019-06-13\", \"2019-06-14\", \"2019-06-17\", \"2019-06-18\", \"2019-06-19\", \"2019-06-20\", \"2019-06-21\", \"2019-06-24\", \"2019-06-25\", \"2019-06-26\", \"2019-06-27\", \"2019-06-28\", \"2019-07-01\", \"2019-07-02\", \"2019-07-03\", \"2019-07-05\", \"2019-07-08\", \"2019-07-09\", \"2019-07-10\", \"2019-07-11\", \"2019-07-12\", \"2019-07-15\", \"2019-07-16\", \"2019-07-17\", \"2019-07-18\", \"2019-07-19\", \"2019-07-22\", \"2019-07-23\", \"2019-07-24\", \"2019-07-25\", \"2019-07-26\", \"2019-07-29\", \"2019-07-30\", \"2019-07-31\", \"2019-08-01\", \"2019-08-02\", \"2019-08-05\", \"2019-08-06\", \"2019-08-07\", \"2019-08-08\", \"2019-08-09\", \"2019-08-12\", \"2019-08-13\", \"2019-08-14\", \"2019-08-15\", \"2019-08-16\", \"2019-08-19\", \"2019-08-20\", \"2019-08-21\", \"2019-08-22\", \"2019-08-23\", \"2019-08-26\", \"2019-08-27\", \"2019-08-28\", \"2019-08-29\", \"2019-08-30\", \"2019-09-03\", \"2019-09-04\", \"2019-09-05\", \"2019-09-06\", \"2019-09-09\", \"2019-09-10\", \"2019-09-11\", \"2019-09-12\", \"2019-09-13\", \"2019-09-16\", \"2019-09-17\", \"2019-09-18\", \"2019-09-19\", \"2019-09-20\", \"2019-09-23\", \"2019-09-24\", \"2019-09-25\", \"2019-09-26\", \"2019-09-27\", \"2019-09-30\", \"2019-10-01\", \"2019-10-02\", \"2019-10-03\", \"2019-10-04\", \"2019-10-07\", \"2019-10-08\", \"2019-10-09\", \"2019-10-10\", \"2019-10-11\", \"2019-10-14\", \"2019-10-15\", \"2019-10-16\", \"2019-10-17\", \"2019-10-18\", \"2019-10-21\", \"2019-10-22\", \"2019-10-23\", \"2019-10-24\", \"2019-10-25\", \"2019-10-28\", \"2019-10-29\", \"2019-10-30\", \"2019-10-31\", \"2019-11-01\", \"2019-11-04\", \"2019-11-05\", \"2019-11-06\", \"2019-11-07\", \"2019-11-08\", \"2019-11-11\", \"2019-11-12\", \"2019-11-13\", \"2019-11-14\", \"2019-11-15\", \"2019-11-18\", \"2019-11-19\", \"2019-11-20\", \"2019-11-21\", \"2019-11-22\", \"2019-11-25\", \"2019-11-26\", \"2019-11-27\", \"2019-11-29\", \"2019-12-02\", \"2019-12-03\", \"2019-12-04\", \"2019-12-05\", \"2019-12-06\", \"2019-12-09\", \"2019-12-10\", \"2019-12-11\", \"2019-12-12\", \"2019-12-13\", \"2019-12-16\", \"2019-12-17\", \"2019-12-18\", \"2019-12-19\", \"2019-12-20\", \"2019-12-23\", \"2019-12-24\", \"2019-12-26\", \"2019-12-27\", \"2019-12-30\", \"2019-12-31\", \"2020-01-02\", \"2020-01-03\", \"2020-01-06\", \"2020-01-07\", \"2020-01-08\", \"2020-01-09\", \"2020-01-10\", \"2020-01-13\", \"2020-01-14\", \"2020-01-15\", \"2020-01-16\", \"2020-01-17\", \"2020-01-21\", \"2020-01-22\", \"2020-01-23\", \"2020-01-24\", \"2020-01-27\", \"2020-01-28\", \"2020-01-29\", \"2020-01-30\", \"2020-01-31\", \"2020-02-03\", \"2020-02-04\", \"2020-02-05\", \"2020-02-06\", \"2020-02-07\", \"2020-02-10\", \"2020-02-11\", \"2020-02-12\", \"2020-02-13\", \"2020-02-14\", \"2020-02-18\", \"2020-02-19\", \"2020-02-20\", \"2020-02-21\", \"2020-02-24\", \"2020-02-25\", \"2020-02-26\", \"2020-02-27\", \"2020-02-28\", \"2020-03-02\", \"2020-03-03\", \"2020-03-04\", \"2020-03-05\", \"2020-03-06\", \"2020-03-09\", \"2020-03-10\", \"2020-03-11\", \"2020-03-12\", \"2020-03-13\", \"2020-03-16\", \"2020-03-17\", \"2020-03-18\", \"2020-03-19\", \"2020-03-20\", \"2020-03-23\", \"2020-03-24\", \"2020-03-25\", \"2020-03-26\", \"2020-03-27\", \"2020-03-30\", \"2020-03-31\", \"2020-04-01\", \"2020-04-02\", \"2020-04-03\", \"2020-04-06\", \"2020-04-07\", \"2020-04-08\", \"2020-04-09\", \"2020-04-13\", \"2020-04-14\", \"2020-04-15\", \"2020-04-16\", \"2020-04-17\", \"2020-04-20\", \"2020-04-21\", \"2020-04-22\", \"2020-04-23\", \"2020-04-24\", \"2020-04-27\", \"2020-04-28\", \"2020-04-29\", \"2020-04-30\", \"2020-05-01\", \"2020-05-04\", \"2020-05-05\", \"2020-05-06\", \"2020-05-07\", \"2020-05-08\"], \"y\": [46.33, 47.85, 49.88, 48.33, 48.99, 46.6, 47.43, 45.14, 45.41, 44.76, 46.8, 44.75, 45.68, 45.95, 45.24, 44.65, 44.94, 44.75, 44.19, 43.13, 42.92, 41.92, 41.14, 41.6, 40.06, 39.51, 40.83, 41.93, 41.8, 43.02, 42.77, 41.71, 43.49, 44.49, 45.74, 46.58, 46.79, 48.22, 48.52, 47.05, 48.1, 46.77, 47.33, 47.64, 46.98, 46.35, 44.7, 43.16, 44.44, 44.83, 45.5, 47.62, 45.88, 46.29, 44.9, 43.58, 43.91, 43.03, 43.3, 43.44, 45.34, 46.32, 44.48, 45.93, 44.67, 47.05, 47.83, 48.24, 48.81, 48.69, 49.83, 50.44, 49.81, 51.35, 50.79, 50.18, 50.44, 50.35, 49.94, 50.29, 51.6, 50.43, 50.85, 50.52, 49.96, 49.18, 49.72, 48.7, 46.86, 46.67, 45.34, 44.66, 44.07, 44.89, 44.98, 45.27, 44.66, 43.41, 43.32, 45.81, 45.57, 45.42, 45.69, 47.49, 48.03, 47.96, 46.06, 47.08, 45.23, 49.44, 51.06, 51.68, 51.79, 50.93, 49.77, 50.84, 51.5, 52.83, 52.98, 51.04, 50.9, 51.9, 52.12, 52.23, 52.49, 52.95, 53.02, 53.9, 54.06, 53.77, 53.72, 52.33, 53.26, 53.76, 53.99, 51.96, 50.82, 52.25, 53.01, 52.37, 52.48, 51.08, 51.37, 52.42, 52.75, 53.18, 52.75, 53.78, 53.17, 52.63, 52.81, 53.88, 53.54, 53.83, 53.01, 52.17, 52.34, 53.0, 53.86, 52.93, 53.2, 53.11, 53.36, 53.4, 54.06, 53.59, 54.45, 53.99, 54.05, 54.01, 53.83, 52.61, 53.33, 53.2, 53.14, 50.28, 49.28, 48.49, 48.4, 47.72, 48.86, 48.75, 48.78, 48.22, 47.34, 48.04, 47.7, 47.97, 47.73, 48.37, 49.51, 50.35, 50.6, 50.24, 51.03, 51.15, 51.7, 52.24, 53.08, 53.4, 53.11, 53.18, 52.65, 52.41, 50.44, 50.27, 49.62, 49.23, 49.56, 49.62, 48.97, 49.33, 48.84, 47.66, 47.82, 45.52, 46.22, 46.43, 45.88, 47.33, 47.83, 47.84, 48.85, 48.66, 49.07, 49.35, 50.33, 50.73, 51.47, 51.36, 48.9, 49.8, 49.66, 48.32, 48.36, 47.66, 47.4, 48.19, 45.72, 45.64, 45.83, 46.08, 46.46, 44.73, 44.46, 44.74, 44.2, 43.23, 42.53, 42.74, 43.01, 43.38, 44.24, 44.74, 44.93, 46.04, 47.07, 45.13, 45.52, 44.23, 44.4, 45.04, 45.49, 46.08, 46.54, 46.02, 46.4, 47.12, 46.79, 45.77, 46.34, 47.89, 48.75, 49.04, 49.71, 50.17, 49.16, 49.59, 49.03, 49.58, 49.39, 49.17, 49.56, 48.59, 48.82, 47.59, 47.55, 46.78, 47.09, 48.51, 47.37, 47.64, 48.41, 47.43, 47.87, 46.57, 46.44, 45.96, 47.23, 47.29, 48.66, 49.16, 49.09, 47.48, 48.07, 48.23, 49.3, 49.89, 49.89, 49.91, 49.48, 50.41, 50.55, 50.66, 52.22, 51.88, 52.14, 51.56, 51.67, 50.58, 50.42, 49.98, 50.79, 49.29, 49.58, 50.92, 51.3, 50.6, 51.45, 51.87, 51.88, 52.04, 51.29, 51.47, 51.9, 52.47, 52.18, 52.64, 53.9, 54.15, 54.38, 54.3, 54.54, 55.64, 57.35, 57.2, 56.81, 57.17, 56.74, 56.76, 55.7, 55.33, 55.14, 56.55, 56.09, 56.83, 58.02, 58.95, 58.11, 57.99, 57.3, 57.4, 58.36, 57.47, 57.62, 55.96, 56.69, 57.36, 57.99, 57.14, 56.6, 57.04, 57.3, 57.16, 57.46, 58.09, 58.36, 58.47, 59.97, 59.64, 59.84, 60.42, 60.37, 61.63, 62.01, 61.44, 61.73, 62.96, 63.57, 63.8, 64.3, 63.73, 63.97, 63.95, 63.37, 63.49, 64.47, 65.61, 65.51, 66.14, 65.56, 64.5, 64.73, 65.8, 65.45, 64.15, 63.39, 61.79, 61.15, 59.2, 59.29, 59.19, 60.6, 61.34, 61.68, 61.9, 61.68, 62.77, 63.55, 63.91, 63.01, 61.64, 60.99, 61.25, 62.57, 62.6, 61.15, 60.12, 62.04, 61.36, 60.71, 60.96, 61.19, 62.34, 62.06, 63.4, 65.17, 64.3, 65.88, 65.55, 65.25, 64.38, 64.94, 63.01, 63.51, 63.37, 63.54, 62.06, 63.42, 65.51, 66.82, 67.07, 67.39, 66.22, 66.52, 68.47, 68.29, 68.38, 68.64, 67.7, 68.05, 68.19, 68.1, 68.57, 67.25, 67.93, 68.43, 69.72, 70.73, 69.06, 71.14, 71.36, 70.7, 70.96, 71.31, 71.49, 71.49, 71.28, 72.24, 72.13, 71.84, 70.71, 67.88, 66.73, 68.21, 67.04, 65.81, 64.75, 65.52, 64.73, 65.95, 65.74, 66.1, 66.36, 66.64, 66.89, 65.06, 65.85, 65.07, 66.22, 65.54, 68.58, 68.08, 70.53, 72.76, 73.45, 74.15, 73.94, 74.14, 72.94, 73.8, 73.85, 74.11, 70.38, 70.33, 71.01, 68.06, 68.08, 68.76, 69.46, 70.46, 67.89, 68.52, 69.3, 69.61, 68.69, 70.13, 68.76, 67.66, 68.96, 68.49, 69.01, 69.17, 66.94, 66.81, 67.63, 67.2, 67.04, 65.01, 65.46, 65.91, 66.43, 67.35, 67.86, 67.83, 68.72, 68.87, 68.53, 69.51, 70.25, 69.8, 69.87, 68.72, 67.77, 67.75, 67.54, 69.25, 70.37, 68.59, 68.99, 68.91, 69.85, 71.12, 70.8, 70.78, 72.08, 72.28, 71.57, 72.12, 73.25, 75.3, 75.23, 76.41, 74.33, 74.34, 74.29, 74.96, 73.17, 70.97, 71.34, 71.78, 71.92, 69.75, 68.65, 69.12, 69.17, 66.43, 66.82, 67.33, 67.59, 67.04, 66.18, 65.31, 63.69, 63.14, 63.1, 62.21, 61.67, 60.67, 60.19, 59.93, 55.69, 56.25, 56.46, 56.46, 56.76, 53.43, 54.63, 50.42, 51.63, 51.56, 50.29, 51.45, 50.93, 52.95, 53.25, 52.89, 51.49, 52.61, 51.0, 51.65, 51.15, 52.58, 51.2, 49.88, 46.24, 47.2, 45.88, 45.59, 42.53, 46.22, 44.61, 45.33, 45.41, 46.54, 47.09, 47.96, 48.52, 49.78, 52.36, 52.59, 51.59, 50.51, 52.11, 52.31, 52.07, 53.8, 52.57, 52.62, 53.13, 53.69, 51.99, 53.31, 54.23, 53.79, 55.26, 54.56, 53.66, 54.01, 52.64, 52.72, 52.41, 53.1, 53.9, 54.41, 55.59, 56.09, 56.92, 56.96, 57.26, 55.48, 55.5, 56.94, 57.22, 55.8, 56.59, 56.56, 56.22, 56.66, 56.07, 56.79, 56.87, 58.26, 58.61, 58.52, 59.09, 59.03, 59.83, 59.98, 59.04, 58.82, 59.94, 59.41, 59.3, 60.14, 61.59, 62.58, 62.46, 62.1, 63.08, 64.4, 63.98, 64.61, 63.58, 63.89, 63.4, 64.05, 63.76, 64.0, 65.7, 66.3, 65.89, 65.21, 63.3, 63.5, 63.91, 63.6, 61.81, 61.94, 62.25, 61.4, 62.12, 61.7, 61.66, 61.04, 61.78, 62.02, 62.87, 62.76, 63.1, 62.99, 61.42, 57.91, 58.63, 59.14, 58.81, 56.59, 53.5, 53.25, 53.48, 51.68, 52.59, 53.99, 53.26, 53.27, 51.14, 52.28, 52.51, 51.93, 53.9, 53.76, 56.65, 57.43, 57.9, 57.83, 59.38, 59.43, 58.47, 59.09, 56.25, 57.34, 57.51, 57.66, 57.83, 60.43, 60.2, 60.21, 59.58, 57.62, 56.78, 55.3, 55.63, 56.22, 56.77, 55.88, 56.02, 56.2, 56.87, 58.05, 58.58, 53.95, 55.66, 54.69, 53.63, 51.09, 52.54, 54.5, 54.93, 57.1, 55.23, 54.47, 54.87, 56.21, 56.34, 55.68, 55.35, 54.17, 53.64, 54.93, 55.78, 56.71, 55.1, 53.94, 56.26, 56.3, 56.52, 57.85, 57.4, 55.75, 55.09, 54.85, 62.9, 59.34, 58.11, 58.13, 58.09, 58.64, 57.29, 56.49, 56.41, 55.91, 54.07, 53.62, 52.64, 52.45, 52.81, 52.75, 52.63, 52.59, 53.55, 54.7, 53.59, 52.81, 53.36, 53.93, 53.78, 53.31, 54.16, 55.97, 56.23, 56.66, 55.81, 55.54, 55.06, 54.18, 56.2, 56.54, 57.23, 56.35, 57.15, 57.24, 56.86, 56.8, 57.12, 56.77, 57.72, 57.05, 55.21, 57.11, 58.58, 57.77, 58.01, 58.41, 58.11, 55.17, 55.96, 56.1, 58.43, 58.43, 59.2, 59.02, 59.24, 58.76, 59.18, 60.07, 60.21, 60.94, 60.93, 61.22, 60.44, 60.52, 61.11, 61.68, 61.72, 61.68, 61.06, 61.18, 63.05, 63.27, 62.7, 59.61, 59.56, 59.04, 58.08, 58.23, 57.81, 58.52, 58.54, 58.34, 56.74, 55.59, 54.19, 53.14, 53.48, 53.33, 52.14, 51.56, 50.11, 49.61, 50.75, 50.95, 50.32, 49.57, 49.94, 51.17, 51.42, 52.05, 52.05, 53.29, 53.78, 53.38, 51.43, 49.9, 48.73, 47.09, 44.76, 46.75, 47.18, 46.78, 45.9, 41.28, 31.13, 34.36, 32.98, 31.5, 31.73, 28.7, 26.95, 20.37, 25.22, 22.43, 23.36, 24.01, 24.49, 22.6, 21.51, 20.09, 20.48, 20.31, 25.32, 28.34, 26.08, 23.63, 25.09, 22.76, 22.41, 20.11, 19.87, 19.87, 18.27, -37.63, 10.01, 13.78, 16.5, 16.94, 12.78, 12.34, 15.06, 18.84, 19.78, 20.39, 24.56, 23.99, 23.55, 24.74]}, {\"line\": {\"color\": \"#607D8B\", \"dash\": \"solid\", \"shape\": \"linear\", \"width\": 1}, \"mode\": \"lines\", \"name\": \"ICE\\u30d6\\u30ec\\u30f3\\u30c8\", \"text\": \"\", \"type\": \"scatter\", \"x\": [\"2016-06-27\", \"2016-06-28\", \"2016-06-29\", \"2016-06-30\", \"2016-07-01\", \"2016-07-05\", \"2016-07-06\", \"2016-07-07\", \"2016-07-08\", \"2016-07-11\", \"2016-07-12\", \"2016-07-13\", \"2016-07-14\", \"2016-07-15\", \"2016-07-18\", \"2016-07-19\", \"2016-07-20\", \"2016-07-21\", \"2016-07-22\", \"2016-07-25\", \"2016-07-26\", \"2016-07-27\", \"2016-07-28\", \"2016-07-29\", \"2016-08-01\", \"2016-08-02\", \"2016-08-03\", \"2016-08-04\", \"2016-08-05\", \"2016-08-08\", \"2016-08-09\", \"2016-08-10\", \"2016-08-11\", \"2016-08-12\", \"2016-08-15\", \"2016-08-16\", \"2016-08-17\", \"2016-08-18\", \"2016-08-19\", \"2016-08-22\", \"2016-08-23\", \"2016-08-24\", \"2016-08-25\", \"2016-08-26\", \"2016-08-29\", \"2016-08-30\", \"2016-08-31\", \"2016-09-01\", \"2016-09-02\", \"2016-09-06\", \"2016-09-07\", \"2016-09-08\", \"2016-09-09\", \"2016-09-12\", \"2016-09-13\", \"2016-09-14\", \"2016-09-15\", \"2016-09-16\", \"2016-09-19\", \"2016-09-20\", \"2016-09-21\", \"2016-09-22\", \"2016-09-23\", \"2016-09-26\", \"2016-09-27\", \"2016-09-28\", \"2016-09-29\", \"2016-09-30\", \"2016-10-03\", \"2016-10-04\", \"2016-10-05\", \"2016-10-06\", \"2016-10-07\", \"2016-10-10\", \"2016-10-11\", \"2016-10-12\", \"2016-10-13\", \"2016-10-14\", \"2016-10-17\", \"2016-10-18\", \"2016-10-19\", \"2016-10-20\", \"2016-10-21\", \"2016-10-24\", \"2016-10-25\", \"2016-10-26\", \"2016-10-27\", \"2016-10-28\", \"2016-10-31\", \"2016-11-01\", \"2016-11-02\", \"2016-11-03\", \"2016-11-04\", \"2016-11-07\", \"2016-11-08\", \"2016-11-09\", \"2016-11-10\", \"2016-11-11\", \"2016-11-14\", \"2016-11-15\", \"2016-11-16\", \"2016-11-17\", \"2016-11-18\", \"2016-11-21\", \"2016-11-22\", \"2016-11-23\", \"2016-11-25\", \"2016-11-28\", \"2016-11-29\", \"2016-11-30\", \"2016-12-01\", \"2016-12-02\", \"2016-12-05\", \"2016-12-06\", \"2016-12-07\", \"2016-12-08\", \"2016-12-09\", \"2016-12-12\", \"2016-12-13\", \"2016-12-14\", \"2016-12-15\", \"2016-12-16\", \"2016-12-19\", \"2016-12-20\", \"2016-12-21\", \"2016-12-22\", \"2016-12-23\", \"2016-12-27\", \"2016-12-28\", \"2016-12-29\", \"2016-12-30\", \"2017-01-03\", \"2017-01-04\", \"2017-01-05\", \"2017-01-06\", \"2017-01-09\", \"2017-01-10\", \"2017-01-11\", \"2017-01-12\", \"2017-01-13\", \"2017-01-17\", \"2017-01-18\", \"2017-01-19\", \"2017-01-20\", \"2017-01-23\", \"2017-01-24\", \"2017-01-25\", \"2017-01-26\", \"2017-01-27\", \"2017-01-30\", \"2017-01-31\", \"2017-02-01\", \"2017-02-02\", \"2017-02-03\", \"2017-02-06\", \"2017-02-07\", \"2017-02-08\", \"2017-02-09\", \"2017-02-10\", \"2017-02-13\", \"2017-02-14\", \"2017-02-15\", \"2017-02-16\", \"2017-02-17\", \"2017-02-21\", \"2017-02-22\", \"2017-02-23\", \"2017-02-24\", \"2017-02-27\", \"2017-02-28\", \"2017-03-01\", \"2017-03-02\", \"2017-03-03\", \"2017-03-06\", \"2017-03-07\", \"2017-03-08\", \"2017-03-09\", \"2017-03-10\", \"2017-03-13\", \"2017-03-14\", \"2017-03-15\", \"2017-03-16\", \"2017-03-17\", \"2017-03-20\", \"2017-03-21\", \"2017-03-22\", \"2017-03-23\", \"2017-03-24\", \"2017-03-27\", \"2017-03-28\", \"2017-03-29\", \"2017-03-30\", \"2017-03-31\", \"2017-04-03\", \"2017-04-04\", \"2017-04-05\", \"2017-04-06\", \"2017-04-07\", \"2017-04-10\", \"2017-04-11\", \"2017-04-12\", \"2017-04-13\", \"2017-04-17\", \"2017-04-18\", \"2017-04-19\", \"2017-04-20\", \"2017-04-21\", \"2017-04-24\", \"2017-04-25\", \"2017-04-26\", \"2017-04-27\", \"2017-04-28\", \"2017-05-01\", \"2017-05-02\", \"2017-05-03\", \"2017-05-04\", \"2017-05-05\", \"2017-05-08\", \"2017-05-09\", \"2017-05-10\", \"2017-05-11\", \"2017-05-12\", \"2017-05-15\", \"2017-05-16\", \"2017-05-17\", \"2017-05-18\", \"2017-05-19\", \"2017-05-22\", \"2017-05-23\", \"2017-05-24\", \"2017-05-25\", \"2017-05-26\", \"2017-05-30\", \"2017-05-31\", \"2017-06-01\", \"2017-06-02\", \"2017-06-05\", \"2017-06-06\", \"2017-06-07\", \"2017-06-08\", \"2017-06-09\", \"2017-06-12\", \"2017-06-13\", \"2017-06-14\", \"2017-06-15\", \"2017-06-16\", \"2017-06-19\", \"2017-06-20\", \"2017-06-21\", \"2017-06-22\", \"2017-06-23\", \"2017-06-26\", \"2017-06-27\", \"2017-06-28\", \"2017-06-29\", \"2017-06-30\", \"2017-07-03\", \"2017-07-05\", \"2017-07-06\", \"2017-07-07\", \"2017-07-10\", \"2017-07-11\", \"2017-07-12\", \"2017-07-13\", \"2017-07-14\", \"2017-07-17\", \"2017-07-18\", \"2017-07-19\", \"2017-07-20\", \"2017-07-21\", \"2017-07-24\", \"2017-07-25\", \"2017-07-26\", \"2017-07-27\", \"2017-07-28\", \"2017-07-31\", \"2017-08-01\", \"2017-08-02\", \"2017-08-03\", \"2017-08-04\", \"2017-08-07\", \"2017-08-08\", \"2017-08-09\", \"2017-08-10\", \"2017-08-11\", \"2017-08-14\", \"2017-08-15\", \"2017-08-16\", \"2017-08-17\", \"2017-08-18\", \"2017-08-21\", \"2017-08-22\", \"2017-08-23\", \"2017-08-24\", \"2017-08-25\", \"2017-08-28\", \"2017-08-29\", \"2017-08-30\", \"2017-08-31\", \"2017-09-01\", \"2017-09-05\", \"2017-09-06\", \"2017-09-07\", \"2017-09-08\", \"2017-09-11\", \"2017-09-12\", \"2017-09-13\", \"2017-09-14\", \"2017-09-15\", \"2017-09-18\", \"2017-09-19\", \"2017-09-20\", \"2017-09-21\", \"2017-09-22\", \"2017-09-25\", \"2017-09-26\", \"2017-09-27\", \"2017-09-28\", \"2017-09-29\", \"2017-10-02\", \"2017-10-03\", \"2017-10-04\", \"2017-10-05\", \"2017-10-06\", \"2017-10-09\", \"2017-10-10\", \"2017-10-11\", \"2017-10-12\", \"2017-10-13\", \"2017-10-16\", \"2017-10-17\", \"2017-10-18\", \"2017-10-19\", \"2017-10-20\", \"2017-10-23\", \"2017-10-24\", \"2017-10-25\", \"2017-10-26\", \"2017-10-27\", \"2017-10-30\", \"2017-10-31\", \"2017-11-01\", \"2017-11-02\", \"2017-11-03\", \"2017-11-06\", \"2017-11-07\", \"2017-11-08\", \"2017-11-09\", \"2017-11-10\", \"2017-11-13\", \"2017-11-14\", \"2017-11-15\", \"2017-11-16\", \"2017-11-17\", \"2017-11-20\", \"2017-11-21\", \"2017-11-22\", \"2017-11-24\", \"2017-11-27\", \"2017-11-28\", \"2017-11-29\", \"2017-11-30\", \"2017-12-01\", \"2017-12-04\", \"2017-12-05\", \"2017-12-06\", \"2017-12-07\", \"2017-12-08\", \"2017-12-11\", \"2017-12-12\", \"2017-12-13\", \"2017-12-14\", \"2017-12-15\", \"2017-12-18\", \"2017-12-19\", \"2017-12-20\", \"2017-12-21\", \"2017-12-22\", \"2017-12-26\", \"2017-12-27\", \"2017-12-28\", \"2017-12-29\", \"2018-01-02\", \"2018-01-03\", \"2018-01-04\", \"2018-01-05\", \"2018-01-08\", \"2018-01-09\", \"2018-01-10\", \"2018-01-11\", \"2018-01-12\", \"2018-01-16\", \"2018-01-17\", \"2018-01-18\", \"2018-01-19\", \"2018-01-22\", \"2018-01-23\", \"2018-01-24\", \"2018-01-25\", \"2018-01-26\", \"2018-01-29\", \"2018-01-30\", \"2018-01-31\", \"2018-02-01\", \"2018-02-02\", \"2018-02-05\", \"2018-02-06\", \"2018-02-07\", \"2018-02-08\", \"2018-02-09\", \"2018-02-12\", \"2018-02-13\", \"2018-02-14\", \"2018-02-15\", \"2018-02-16\", \"2018-02-20\", \"2018-02-21\", \"2018-02-22\", \"2018-02-23\", \"2018-02-26\", \"2018-02-27\", \"2018-02-28\", \"2018-03-01\", \"2018-03-02\", \"2018-03-05\", \"2018-03-06\", \"2018-03-07\", \"2018-03-08\", \"2018-03-09\", \"2018-03-12\", \"2018-03-13\", \"2018-03-14\", \"2018-03-15\", \"2018-03-16\", \"2018-03-19\", \"2018-03-20\", \"2018-03-21\", \"2018-03-22\", \"2018-03-23\", \"2018-03-26\", \"2018-03-27\", \"2018-03-28\", \"2018-03-29\", \"2018-04-02\", \"2018-04-03\", \"2018-04-04\", \"2018-04-05\", \"2018-04-06\", \"2018-04-09\", \"2018-04-10\", \"2018-04-11\", \"2018-04-12\", \"2018-04-13\", \"2018-04-16\", \"2018-04-17\", \"2018-04-18\", \"2018-04-19\", \"2018-04-20\", \"2018-04-23\", \"2018-04-24\", \"2018-04-25\", \"2018-04-26\", \"2018-04-27\", \"2018-04-30\", \"2018-05-01\", \"2018-05-02\", \"2018-05-03\", \"2018-05-04\", \"2018-05-07\", \"2018-05-08\", \"2018-05-09\", \"2018-05-10\", \"2018-05-11\", \"2018-05-14\", \"2018-05-15\", \"2018-05-16\", \"2018-05-17\", \"2018-05-18\", \"2018-05-21\", \"2018-05-22\", \"2018-05-23\", \"2018-05-24\", \"2018-05-25\", \"2018-05-29\", \"2018-05-30\", \"2018-05-31\", \"2018-06-01\", \"2018-06-04\", \"2018-06-05\", \"2018-06-06\", \"2018-06-07\", \"2018-06-08\", \"2018-06-11\", \"2018-06-12\", \"2018-06-13\", \"2018-06-14\", \"2018-06-15\", \"2018-06-18\", \"2018-06-19\", \"2018-06-20\", \"2018-06-21\", \"2018-06-22\", \"2018-06-25\", \"2018-06-26\", \"2018-06-27\", \"2018-06-28\", \"2018-06-29\", \"2018-07-02\", \"2018-07-03\", \"2018-07-05\", \"2018-07-06\", \"2018-07-09\", \"2018-07-10\", \"2018-07-11\", \"2018-07-12\", \"2018-07-13\", \"2018-07-16\", \"2018-07-17\", \"2018-07-18\", \"2018-07-19\", \"2018-07-20\", \"2018-07-23\", \"2018-07-24\", \"2018-07-25\", \"2018-07-26\", \"2018-07-27\", \"2018-07-30\", \"2018-07-31\", \"2018-08-01\", \"2018-08-02\", \"2018-08-03\", \"2018-08-06\", \"2018-08-07\", \"2018-08-08\", \"2018-08-09\", \"2018-08-10\", \"2018-08-13\", \"2018-08-14\", \"2018-08-15\", \"2018-08-16\", \"2018-08-17\", \"2018-08-20\", \"2018-08-21\", \"2018-08-22\", \"2018-08-23\", \"2018-08-24\", \"2018-08-27\", \"2018-08-28\", \"2018-08-29\", \"2018-08-30\", \"2018-08-31\", \"2018-09-04\", \"2018-09-05\", \"2018-09-06\", \"2018-09-07\", \"2018-09-10\", \"2018-09-11\", \"2018-09-12\", \"2018-09-13\", \"2018-09-14\", \"2018-09-17\", \"2018-09-18\", \"2018-09-19\", \"2018-09-20\", \"2018-09-21\", \"2018-09-24\", \"2018-09-25\", \"2018-09-26\", \"2018-09-27\", \"2018-09-28\", \"2018-10-01\", \"2018-10-02\", \"2018-10-03\", \"2018-10-04\", \"2018-10-05\", \"2018-10-08\", \"2018-10-09\", \"2018-10-10\", \"2018-10-11\", \"2018-10-12\", \"2018-10-15\", \"2018-10-16\", \"2018-10-17\", \"2018-10-18\", \"2018-10-19\", \"2018-10-22\", \"2018-10-23\", \"2018-10-24\", \"2018-10-25\", \"2018-10-26\", \"2018-10-29\", \"2018-10-30\", \"2018-10-31\", \"2018-11-01\", \"2018-11-02\", \"2018-11-05\", \"2018-11-06\", \"2018-11-07\", \"2018-11-08\", \"2018-11-09\", \"2018-11-12\", \"2018-11-13\", \"2018-11-14\", \"2018-11-15\", \"2018-11-16\", \"2018-11-19\", \"2018-11-20\", \"2018-11-21\", \"2018-11-23\", \"2018-11-26\", \"2018-11-27\", \"2018-11-28\", \"2018-11-29\", \"2018-11-30\", \"2018-12-03\", \"2018-12-04\", \"2018-12-05\", \"2018-12-06\", \"2018-12-07\", \"2018-12-10\", \"2018-12-11\", \"2018-12-12\", \"2018-12-13\", \"2018-12-14\", \"2018-12-17\", \"2018-12-18\", \"2018-12-19\", \"2018-12-20\", \"2018-12-21\", \"2018-12-24\", \"2018-12-26\", \"2018-12-27\", \"2018-12-28\", \"2018-12-31\", \"2019-01-02\", \"2019-01-03\", \"2019-01-04\", \"2019-01-07\", \"2019-01-08\", \"2019-01-09\", \"2019-01-10\", \"2019-01-11\", \"2019-01-14\", \"2019-01-15\", \"2019-01-16\", \"2019-01-17\", \"2019-01-18\", \"2019-01-22\", \"2019-01-23\", \"2019-01-24\", \"2019-01-25\", \"2019-01-28\", \"2019-01-29\", \"2019-01-30\", \"2019-01-31\", \"2019-02-01\", \"2019-02-04\", \"2019-02-05\", \"2019-02-06\", \"2019-02-07\", \"2019-02-08\", \"2019-02-11\", \"2019-02-12\", \"2019-02-13\", \"2019-02-14\", \"2019-02-15\", \"2019-02-19\", \"2019-02-20\", \"2019-02-21\", \"2019-02-22\", \"2019-02-25\", \"2019-02-26\", \"2019-02-27\", \"2019-02-28\", \"2019-03-01\", \"2019-03-04\", \"2019-03-05\", \"2019-03-06\", \"2019-03-07\", \"2019-03-08\", \"2019-03-11\", \"2019-03-12\", \"2019-03-13\", \"2019-03-14\", \"2019-03-15\", \"2019-03-18\", \"2019-03-19\", \"2019-03-20\", \"2019-03-21\", \"2019-03-22\", \"2019-03-25\", \"2019-03-26\", \"2019-03-27\", \"2019-03-28\", \"2019-03-29\", \"2019-04-01\", \"2019-04-02\", \"2019-04-03\", \"2019-04-04\", \"2019-04-05\", \"2019-04-08\", \"2019-04-09\", \"2019-04-10\", \"2019-04-11\", \"2019-04-12\", \"2019-04-15\", \"2019-04-16\", \"2019-04-17\", \"2019-04-18\", \"2019-04-22\", \"2019-04-23\", \"2019-04-24\", \"2019-04-25\", \"2019-04-26\", \"2019-04-29\", \"2019-04-30\", \"2019-05-01\", \"2019-05-02\", \"2019-05-03\", \"2019-05-06\", \"2019-05-07\", \"2019-05-08\", \"2019-05-09\", \"2019-05-10\", \"2019-05-13\", \"2019-05-14\", \"2019-05-15\", \"2019-05-16\", \"2019-05-17\", \"2019-05-20\", \"2019-05-21\", \"2019-05-22\", \"2019-05-23\", \"2019-05-24\", \"2019-05-28\", \"2019-05-29\", \"2019-05-30\", \"2019-05-31\", \"2019-06-03\", \"2019-06-04\", \"2019-06-05\", \"2019-06-06\", \"2019-06-07\", \"2019-06-10\", \"2019-06-11\", \"2019-06-12\", \"2019-06-13\", \"2019-06-14\", \"2019-06-17\", \"2019-06-18\", \"2019-06-19\", \"2019-06-20\", \"2019-06-21\", \"2019-06-24\", \"2019-06-25\", \"2019-06-26\", \"2019-06-27\", \"2019-06-28\", \"2019-07-01\", \"2019-07-02\", \"2019-07-03\", \"2019-07-05\", \"2019-07-08\", \"2019-07-09\", \"2019-07-10\", \"2019-07-11\", \"2019-07-12\", \"2019-07-15\", \"2019-07-16\", \"2019-07-17\", \"2019-07-18\", \"2019-07-19\", \"2019-07-22\", \"2019-07-23\", \"2019-07-24\", \"2019-07-25\", \"2019-07-26\", \"2019-07-29\", \"2019-07-30\", \"2019-07-31\", \"2019-08-01\", \"2019-08-02\", \"2019-08-05\", \"2019-08-06\", \"2019-08-07\", \"2019-08-08\", \"2019-08-09\", \"2019-08-12\", \"2019-08-13\", \"2019-08-14\", \"2019-08-15\", \"2019-08-16\", \"2019-08-19\", \"2019-08-20\", \"2019-08-21\", \"2019-08-22\", \"2019-08-23\", \"2019-08-26\", \"2019-08-27\", \"2019-08-28\", \"2019-08-29\", \"2019-08-30\", \"2019-09-03\", \"2019-09-04\", \"2019-09-05\", \"2019-09-06\", \"2019-09-09\", \"2019-09-10\", \"2019-09-11\", \"2019-09-12\", \"2019-09-13\", \"2019-09-16\", \"2019-09-17\", \"2019-09-18\", \"2019-09-19\", \"2019-09-20\", \"2019-09-23\", \"2019-09-24\", \"2019-09-25\", \"2019-09-26\", \"2019-09-27\", \"2019-09-30\", \"2019-10-01\", \"2019-10-02\", \"2019-10-03\", \"2019-10-04\", \"2019-10-07\", \"2019-10-08\", \"2019-10-09\", \"2019-10-10\", \"2019-10-11\", \"2019-10-14\", \"2019-10-15\", \"2019-10-16\", \"2019-10-17\", \"2019-10-18\", \"2019-10-21\", \"2019-10-22\", \"2019-10-23\", \"2019-10-24\", \"2019-10-25\", \"2019-10-28\", \"2019-10-29\", \"2019-10-30\", \"2019-10-31\", \"2019-11-01\", \"2019-11-04\", \"2019-11-05\", \"2019-11-06\", \"2019-11-07\", \"2019-11-08\", \"2019-11-11\", \"2019-11-12\", \"2019-11-13\", \"2019-11-14\", \"2019-11-15\", \"2019-11-18\", \"2019-11-19\", \"2019-11-20\", \"2019-11-21\", \"2019-11-22\", \"2019-11-25\", \"2019-11-26\", \"2019-11-27\", \"2019-11-29\", \"2019-12-02\", \"2019-12-03\", \"2019-12-04\", \"2019-12-05\", \"2019-12-06\", \"2019-12-09\", \"2019-12-10\", \"2019-12-11\", \"2019-12-12\", \"2019-12-13\", \"2019-12-16\", \"2019-12-17\", \"2019-12-18\", \"2019-12-19\", \"2019-12-20\", \"2019-12-23\", \"2019-12-24\", \"2019-12-26\", \"2019-12-27\", \"2019-12-30\", \"2019-12-31\", \"2020-01-02\", \"2020-01-03\", \"2020-01-06\", \"2020-01-07\", \"2020-01-08\", \"2020-01-09\", \"2020-01-10\", \"2020-01-13\", \"2020-01-14\", \"2020-01-15\", \"2020-01-16\", \"2020-01-17\", \"2020-01-21\", \"2020-01-22\", \"2020-01-23\", \"2020-01-24\", \"2020-01-27\", \"2020-01-28\", \"2020-01-29\", \"2020-01-30\", \"2020-01-31\", \"2020-02-03\", \"2020-02-04\", \"2020-02-05\", \"2020-02-06\", \"2020-02-07\", \"2020-02-10\", \"2020-02-11\", \"2020-02-12\", \"2020-02-13\", \"2020-02-14\", \"2020-02-18\", \"2020-02-19\", \"2020-02-20\", \"2020-02-21\", \"2020-02-24\", \"2020-02-25\", \"2020-02-26\", \"2020-02-27\", \"2020-02-28\", \"2020-03-02\", \"2020-03-03\", \"2020-03-04\", \"2020-03-05\", \"2020-03-06\", \"2020-03-09\", \"2020-03-10\", \"2020-03-11\", \"2020-03-12\", \"2020-03-13\", \"2020-03-16\", \"2020-03-17\", \"2020-03-18\", \"2020-03-19\", \"2020-03-20\", \"2020-03-23\", \"2020-03-24\", \"2020-03-25\", \"2020-03-26\", \"2020-03-27\", \"2020-03-30\", \"2020-03-31\", \"2020-04-01\", \"2020-04-02\", \"2020-04-03\", \"2020-04-06\", \"2020-04-07\", \"2020-04-08\", \"2020-04-09\", \"2020-04-13\", \"2020-04-14\", \"2020-04-15\", \"2020-04-16\", \"2020-04-17\", \"2020-04-20\", \"2020-04-21\", \"2020-04-22\", \"2020-04-23\", \"2020-04-24\", \"2020-04-27\", \"2020-04-28\", \"2020-04-29\", \"2020-04-30\", \"2020-05-01\", \"2020-05-04\", \"2020-05-05\", \"2020-05-06\", \"2020-05-07\", \"2020-05-08\"], \"y\": [47.16, 48.58, 50.61, 49.68, 50.35, 47.96, 48.8, 46.4, 46.76, 46.25, 48.47, 46.26, 47.37, 47.61, 46.96, 46.66, 47.17, 46.2, 45.69, 44.72, 44.87, 43.47, 42.7, 42.46, 42.14, 41.8, 43.1, 44.29, 44.27, 45.39, 44.98, 44.05, 46.04, 46.97, 48.35, 49.23, 49.85, 50.89, 50.88, 49.16, 49.96, 49.05, 49.67, 49.92, 49.26, 48.37, 47.04, 45.45, 46.83, 47.26, 47.98, 49.99, 48.01, 48.32, 47.1, 45.85, 46.59, 45.77, 45.95, 45.88, 46.83, 47.65, 45.89, 47.35, 45.97, 48.69, 49.24, 49.06, 50.89, 50.87, 51.86, 52.51, 51.93, 53.14, 52.41, 51.81, 52.03, 51.95, 51.52, 51.68, 52.67, 51.38, 51.78, 51.46, 50.79, 49.98, 50.47, 49.71, 48.3, 48.14, 46.86, 46.35, 45.58, 46.15, 46.04, 46.36, 45.84, 44.75, 44.43, 46.95, 46.63, 46.49, 46.86, 48.9, 49.12, 48.95, 47.24, 48.24, 46.38, 50.47, 53.94, 54.46, 54.94, 53.93, 53.0, 53.89, 54.33, 55.69, 55.72, 53.9, 54.02, 55.21, 54.92, 55.35, 54.46, 55.05, 55.16, 56.09, 56.22, 56.14, 56.82, 55.47, 56.46, 56.89, 57.1, 54.94, 53.64, 55.1, 56.01, 55.45, 55.47, 53.92, 54.16, 55.49, 55.23, 55.44, 55.08, 56.24, 55.52, 55.23, 55.7, 56.8, 56.56, 56.81, 55.72, 55.05, 55.12, 55.63, 56.7, 55.59, 55.97, 55.75, 55.65, 55.81, 56.66, 55.84, 56.58, 55.99, 55.93, 55.59, 56.36, 55.08, 55.9, 56.01, 55.92, 53.11, 52.19, 51.37, 51.35, 50.92, 51.81, 51.74, 51.76, 51.62, 50.96, 50.64, 50.56, 50.8, 50.75, 51.33, 52.42, 52.96, 52.83, 53.12, 54.17, 54.36, 54.89, 55.24, 55.98, 56.23, 55.86, 55.89, 55.36, 54.89, 52.93, 52.99, 51.96, 51.6, 52.1, 51.82, 51.44, 51.73, 51.52, 50.46, 50.79, 48.38, 49.1, 49.34, 48.73, 50.22, 50.77, 50.84, 51.82, 51.65, 52.21, 52.51, 53.61, 53.87, 54.15, 53.96, 51.46, 52.15, 51.84, 50.31, 50.63, 49.95, 49.47, 50.12, 48.06, 47.86, 48.15, 48.29, 48.72, 47.0, 46.92, 47.37, 46.91, 46.02, 44.82, 45.22, 45.54, 45.83, 46.65, 47.31, 47.42, 47.92, 49.68, 47.79, 48.11, 46.71, 46.88, 47.52, 47.74, 48.42, 48.91, 48.42, 48.84, 49.7, 49.3, 48.06, 48.6, 50.2, 50.97, 51.49, 52.52, 52.65, 51.78, 52.36, 52.01, 52.42, 52.37, 52.14, 52.7, 51.9, 52.1, 50.73, 50.8, 50.27, 51.03, 52.72, 51.66, 51.87, 52.57, 52.04, 52.41, 51.89, 52.0, 50.86, 52.38, 52.75, 53.38, 54.2, 54.49, 53.78, 53.84, 54.27, 55.16, 55.47, 55.62, 55.48, 55.14, 56.29, 56.43, 56.86, 59.02, 58.44, 57.9, 57.41, 57.54, 56.12, 56.0, 55.8, 57.0, 55.62, 55.79, 56.61, 56.94, 56.25, 57.17, 57.82, 57.88, 58.15, 57.23, 57.75, 57.37, 58.33, 58.44, 59.3, 60.44, 60.9, 61.37, 60.49, 60.62, 62.07, 64.27, 63.69, 63.49, 63.93, 63.52, 63.16, 62.21, 61.87, 61.36, 62.72, 62.22, 62.57, 63.32, 63.86, 63.84, 63.61, 63.11, 63.57, 63.73, 62.45, 62.86, 61.22, 62.2, 63.4, 64.69, 63.34, 62.44, 63.31, 63.23, 63.41, 63.8, 64.56, 64.9, 65.25, 67.02, 66.44, 66.72, 66.87, 66.57, 67.84, 68.07, 67.62, 67.78, 68.82, 69.2, 69.26, 69.87, 69.15, 69.38, 69.31, 68.61, 69.03, 69.96, 70.53, 70.42, 70.52, 69.46, 69.02, 69.05, 69.65, 68.58, 67.62, 66.86, 65.51, 64.81, 62.79, 62.59, 62.72, 64.36, 64.33, 64.84, 65.25, 65.42, 66.39, 67.31, 67.5, 66.63, 65.78, 63.83, 64.37, 65.54, 65.79, 64.34, 63.61, 65.49, 64.95, 64.64, 64.89, 65.12, 66.21, 66.05, 67.42, 69.47, 68.91, 70.45, 70.12, 70.11, 69.53, 70.27, 67.64, 68.12, 68.02, 68.33, 67.11, 68.65, 71.04, 72.06, 72.02, 72.58, 71.42, 71.58, 73.48, 73.78, 74.06, 74.71, 73.86, 74.0, 74.74, 74.64, 75.17, 73.13, 73.36, 73.62, 74.87, 76.17, 74.85, 77.21, 77.47, 77.12, 78.23, 78.43, 79.28, 79.3, 78.51, 79.22, 79.57, 79.8, 78.79, 76.44, 75.39, 77.5, 77.59, 76.79, 75.29, 75.38, 75.36, 77.32, 76.46, 76.46, 75.88, 76.74, 75.94, 73.44, 75.34, 75.08, 74.74, 73.05, 75.55, 74.73, 76.31, 77.62, 77.85, 79.44, 77.3, 77.76, 77.39, 77.11, 78.07, 78.86, 73.4, 74.45, 75.33, 71.84, 72.16, 72.9, 72.58, 73.07, 73.06, 73.44, 73.93, 74.54, 74.29, 74.97, 74.25, 72.39, 73.45, 73.21, 73.75, 74.65, 72.28, 72.07, 72.81, 72.61, 72.46, 70.76, 71.43, 71.83, 72.21, 72.63, 74.78, 74.73, 75.82, 76.21, 75.95, 77.14, 77.77, 77.42, 78.17, 77.27, 76.5, 76.83, 77.37, 79.06, 79.74, 78.18, 78.09, 78.05, 79.03, 79.4, 78.7, 78.8, 81.2, 81.87, 81.34, 81.72, 82.72, 84.98, 84.8, 86.29, 84.58, 84.16, 83.91, 85.0, 83.09, 80.26, 80.43, 80.78, 81.41, 80.05, 79.29, 79.78, 79.83, 76.44, 76.17, 76.89, 77.62, 77.34, 75.91, 75.47, 72.89, 72.83, 73.17, 72.13, 72.07, 70.65, 70.18, 70.12, 65.47, 66.12, 66.62, 66.76, 66.79, 62.53, 63.48, 58.8, 60.48, 60.21, 58.76, 59.51, 58.71, 61.69, 62.08, 61.56, 60.06, 61.67, 59.97, 60.2, 60.15, 61.45, 60.28, 59.61, 56.26, 57.24, 54.35, 53.82, 50.47, 54.47, 52.16, 52.2, 53.8, 54.91, 55.95, 57.06, 57.33, 58.72, 61.44, 61.68, 60.48, 58.99, 60.64, 61.32, 61.18, 62.7, 61.5, 61.14, 61.09, 61.64, 59.93, 61.32, 61.65, 61.89, 62.75, 62.51, 61.98, 62.69, 61.63, 62.1, 61.51, 62.42, 63.61, 64.57, 66.25, 66.45, 67.08, 67.07, 67.12, 64.76, 65.21, 66.39, 66.03, 65.07, 65.67, 65.86, 65.99, 66.3, 65.74, 66.58, 66.67, 67.55, 67.23, 67.16, 67.54, 67.61, 68.5, 67.86, 67.03, 67.21, 67.97, 67.83, 67.82, 68.39, 69.01, 69.37, 69.31, 69.4, 70.34, 71.1, 70.61, 71.73, 70.83, 71.55, 71.18, 71.72, 71.62, 71.97, 74.04, 74.51, 74.57, 74.35, 72.15, 72.04, 72.8, 72.18, 70.75, 70.85, 71.24, 69.88, 70.37, 70.39, 70.62, 70.23, 71.24, 71.77, 72.62, 72.21, 71.97, 72.18, 70.99, 67.76, 68.69, 70.11, 69.45, 66.87, 64.49, 61.28, 61.97, 60.63, 61.67, 63.29, 62.29, 62.29, 59.97, 61.31, 62.01, 60.94, 62.14, 61.82, 64.45, 65.2, 64.86, 65.05, 66.49, 66.55, 66.55, 65.06, 62.4, 63.82, 64.23, 64.11, 64.16, 67.01, 66.52, 66.72, 66.48, 64.35, 63.66, 61.93, 62.47, 63.26, 63.83, 63.18, 63.39, 63.46, 63.71, 64.72, 65.17, 60.5, 61.89, 59.81, 58.94, 56.23, 57.38, 58.53, 58.57, 61.3, 59.48, 58.23, 58.64, 59.74, 60.03, 60.3, 59.92, 59.34, 58.7, 59.51, 60.49, 61.08, 60.43, 58.26, 60.7, 60.95, 61.54, 62.59, 62.38, 60.81, 60.38, 60.22, 69.02, 64.55, 63.6, 64.4, 64.28, 64.77, 63.1, 62.39, 62.74, 61.91, 60.78, 58.89, 57.69, 57.71, 58.37, 58.35, 58.24, 58.32, 59.1, 60.51, 59.35, 58.74, 59.42, 59.91, 59.42, 58.96, 59.7, 61.17, 61.67, 62.02, 61.57, 61.59, 60.61, 60.23, 61.69, 62.13, 62.96, 61.74, 62.29, 62.51, 62.18, 62.06, 62.37, 62.28, 63.3, 62.44, 60.91, 62.4, 63.97, 63.39, 63.65, 64.27, 64.06, 62.43, 60.92, 60.82, 63.0, 63.39, 64.39, 64.25, 64.34, 63.72, 64.2, 65.22, 65.34, 66.1, 66.17, 66.54, 66.14, 66.39, 67.2, 67.92, 68.16, 68.44, 66.0, 66.25, 68.6, 68.91, 68.27, 65.44, 65.37, 64.98, 64.2, 64.49, 64.0, 64.62, 64.85, 64.59, 63.21, 62.04, 60.69, 59.32, 59.51, 59.81, 58.29, 58.16, 54.45, 53.96, 55.28, 54.93, 54.47, 53.27, 54.01, 55.79, 56.34, 57.32, 57.75, 59.12, 59.31, 58.5, 56.3, 54.95, 53.43, 52.18, 50.52, 51.9, 51.86, 51.13, 49.99, 45.27, 34.36, 37.22, 35.79, 33.22, 33.85, 30.05, 28.73, 24.88, 28.47, 26.98, 27.03, 27.15, 27.39, 26.34, 24.93, 22.76, 22.74, 24.74, 29.94, 34.11, 33.05, 31.87, 32.84, 31.48, 31.74, 29.6, 27.69, 27.82, 28.08, 25.57, 19.33, 20.37, 21.33, 21.44, 19.99, 20.46, 22.54, 25.27, 26.44, 27.2, 30.97, 29.72, 29.46, 30.97]}, {\"line\": {\"color\": \"#9E9E9E\", \"dash\": \"dot\", \"shape\": \"linear\", \"width\": 3}, \"mode\": \"lines\", \"name\": \"\\u30c9\\u30d0\\u30a4\\u539f\\u6cb9\", \"text\": \"\", \"type\": \"scatter\", \"x\": [\"2016-06-27\", \"2016-06-28\", \"2016-06-29\", \"2016-06-30\", \"2016-07-01\", \"2016-07-05\", \"2016-07-06\", \"2016-07-07\", \"2016-07-08\", \"2016-07-11\", \"2016-07-12\", \"2016-07-13\", \"2016-07-14\", \"2016-07-15\", \"2016-07-18\", \"2016-07-19\", \"2016-07-20\", \"2016-07-21\", \"2016-07-22\", \"2016-07-25\", \"2016-07-26\", \"2016-07-27\", \"2016-07-28\", \"2016-07-29\", \"2016-08-01\", \"2016-08-02\", \"2016-08-03\", \"2016-08-04\", \"2016-08-05\", \"2016-08-08\", \"2016-08-09\", \"2016-08-10\", \"2016-08-11\", \"2016-08-12\", \"2016-08-15\", \"2016-08-16\", \"2016-08-17\", \"2016-08-18\", \"2016-08-19\", \"2016-08-22\", \"2016-08-23\", \"2016-08-24\", \"2016-08-25\", \"2016-08-26\", \"2016-08-29\", \"2016-08-30\", \"2016-08-31\", \"2016-09-01\", \"2016-09-02\", \"2016-09-06\", \"2016-09-07\", \"2016-09-08\", \"2016-09-09\", \"2016-09-12\", \"2016-09-13\", \"2016-09-14\", \"2016-09-15\", \"2016-09-16\", \"2016-09-19\", \"2016-09-20\", \"2016-09-21\", \"2016-09-22\", \"2016-09-23\", \"2016-09-26\", \"2016-09-27\", \"2016-09-28\", \"2016-09-29\", \"2016-09-30\", \"2016-10-03\", \"2016-10-04\", \"2016-10-05\", \"2016-10-06\", \"2016-10-07\", \"2016-10-10\", \"2016-10-11\", \"2016-10-12\", \"2016-10-13\", \"2016-10-14\", \"2016-10-17\", \"2016-10-18\", \"2016-10-19\", \"2016-10-20\", \"2016-10-21\", \"2016-10-24\", \"2016-10-25\", \"2016-10-26\", \"2016-10-27\", \"2016-10-28\", \"2016-10-31\", \"2016-11-01\", \"2016-11-02\", \"2016-11-03\", \"2016-11-04\", \"2016-11-07\", \"2016-11-08\", \"2016-11-09\", \"2016-11-10\", \"2016-11-11\", \"2016-11-14\", \"2016-11-15\", \"2016-11-16\", \"2016-11-17\", \"2016-11-18\", \"2016-11-21\", \"2016-11-22\", \"2016-11-23\", \"2016-11-25\", \"2016-11-28\", \"2016-11-29\", \"2016-11-30\", \"2016-12-01\", \"2016-12-02\", \"2016-12-05\", \"2016-12-06\", \"2016-12-07\", \"2016-12-08\", \"2016-12-09\", \"2016-12-12\", \"2016-12-13\", \"2016-12-14\", \"2016-12-15\", \"2016-12-16\", \"2016-12-19\", \"2016-12-20\", \"2016-12-21\", \"2016-12-22\", \"2016-12-23\", \"2016-12-27\", \"2016-12-28\", \"2016-12-29\", \"2016-12-30\", \"2017-01-03\", \"2017-01-04\", \"2017-01-05\", \"2017-01-06\", \"2017-01-09\", \"2017-01-10\", \"2017-01-11\", \"2017-01-12\", \"2017-01-13\", \"2017-01-17\", \"2017-01-18\", \"2017-01-19\", \"2017-01-20\", \"2017-01-23\", \"2017-01-24\", \"2017-01-25\", \"2017-01-26\", \"2017-01-27\", \"2017-01-30\", \"2017-01-31\", \"2017-02-01\", \"2017-02-02\", \"2017-02-03\", \"2017-02-06\", \"2017-02-07\", \"2017-02-08\", \"2017-02-09\", \"2017-02-10\", \"2017-02-13\", \"2017-02-14\", \"2017-02-15\", \"2017-02-16\", \"2017-02-17\", \"2017-02-21\", \"2017-02-22\", \"2017-02-23\", \"2017-02-24\", \"2017-02-27\", \"2017-02-28\", \"2017-03-01\", \"2017-03-02\", \"2017-03-03\", \"2017-03-06\", \"2017-03-07\", \"2017-03-08\", \"2017-03-09\", \"2017-03-10\", \"2017-03-13\", \"2017-03-14\", \"2017-03-15\", \"2017-03-16\", \"2017-03-17\", \"2017-03-20\", \"2017-03-21\", \"2017-03-22\", \"2017-03-23\", \"2017-03-24\", \"2017-03-27\", \"2017-03-28\", \"2017-03-29\", \"2017-03-30\", \"2017-03-31\", \"2017-04-03\", \"2017-04-04\", \"2017-04-05\", \"2017-04-06\", \"2017-04-07\", \"2017-04-10\", \"2017-04-11\", \"2017-04-12\", \"2017-04-13\", \"2017-04-17\", \"2017-04-18\", \"2017-04-19\", \"2017-04-20\", \"2017-04-21\", \"2017-04-24\", \"2017-04-25\", \"2017-04-26\", \"2017-04-27\", \"2017-04-28\", \"2017-05-01\", \"2017-05-02\", \"2017-05-03\", \"2017-05-04\", \"2017-05-05\", \"2017-05-08\", \"2017-05-09\", \"2017-05-10\", \"2017-05-11\", \"2017-05-12\", \"2017-05-15\", \"2017-05-16\", \"2017-05-17\", \"2017-05-18\", \"2017-05-19\", \"2017-05-22\", \"2017-05-23\", \"2017-05-24\", \"2017-05-25\", \"2017-05-26\", \"2017-05-30\", \"2017-05-31\", \"2017-06-01\", \"2017-06-02\", \"2017-06-05\", \"2017-06-06\", \"2017-06-07\", \"2017-06-08\", \"2017-06-09\", \"2017-06-12\", \"2017-06-13\", \"2017-06-14\", \"2017-06-15\", \"2017-06-16\", \"2017-06-19\", \"2017-06-20\", \"2017-06-21\", \"2017-06-22\", \"2017-06-23\", \"2017-06-26\", \"2017-06-27\", \"2017-06-28\", \"2017-06-29\", \"2017-06-30\", \"2017-07-03\", \"2017-07-05\", \"2017-07-06\", \"2017-07-07\", \"2017-07-10\", \"2017-07-11\", \"2017-07-12\", \"2017-07-13\", \"2017-07-14\", \"2017-07-17\", \"2017-07-18\", \"2017-07-19\", \"2017-07-20\", \"2017-07-21\", \"2017-07-24\", \"2017-07-25\", \"2017-07-26\", \"2017-07-27\", \"2017-07-28\", \"2017-07-31\", \"2017-08-01\", \"2017-08-02\", \"2017-08-03\", \"2017-08-04\", \"2017-08-07\", \"2017-08-08\", \"2017-08-09\", \"2017-08-10\", \"2017-08-11\", \"2017-08-14\", \"2017-08-15\", \"2017-08-16\", \"2017-08-17\", \"2017-08-18\", \"2017-08-21\", \"2017-08-22\", \"2017-08-23\", \"2017-08-24\", \"2017-08-25\", \"2017-08-28\", \"2017-08-29\", \"2017-08-30\", \"2017-08-31\", \"2017-09-01\", \"2017-09-05\", \"2017-09-06\", \"2017-09-07\", \"2017-09-08\", \"2017-09-11\", \"2017-09-12\", \"2017-09-13\", \"2017-09-14\", \"2017-09-15\", \"2017-09-18\", \"2017-09-19\", \"2017-09-20\", \"2017-09-21\", \"2017-09-22\", \"2017-09-25\", \"2017-09-26\", \"2017-09-27\", \"2017-09-28\", \"2017-09-29\", \"2017-10-02\", \"2017-10-03\", \"2017-10-04\", \"2017-10-05\", \"2017-10-06\", \"2017-10-09\", \"2017-10-10\", \"2017-10-11\", \"2017-10-12\", \"2017-10-13\", \"2017-10-16\", \"2017-10-17\", \"2017-10-18\", \"2017-10-19\", \"2017-10-20\", \"2017-10-23\", \"2017-10-24\", \"2017-10-25\", \"2017-10-26\", \"2017-10-27\", \"2017-10-30\", \"2017-10-31\", \"2017-11-01\", \"2017-11-02\", \"2017-11-03\", \"2017-11-06\", \"2017-11-07\", \"2017-11-08\", \"2017-11-09\", \"2017-11-10\", \"2017-11-13\", \"2017-11-14\", \"2017-11-15\", \"2017-11-16\", \"2017-11-17\", \"2017-11-20\", \"2017-11-21\", \"2017-11-22\", \"2017-11-24\", \"2017-11-27\", \"2017-11-28\", \"2017-11-29\", \"2017-11-30\", \"2017-12-01\", \"2017-12-04\", \"2017-12-05\", \"2017-12-06\", \"2017-12-07\", \"2017-12-08\", \"2017-12-11\", \"2017-12-12\", \"2017-12-13\", \"2017-12-14\", \"2017-12-15\", \"2017-12-18\", \"2017-12-19\", \"2017-12-20\", \"2017-12-21\", \"2017-12-22\", \"2017-12-26\", \"2017-12-27\", \"2017-12-28\", \"2017-12-29\", \"2018-01-02\", \"2018-01-03\", \"2018-01-04\", \"2018-01-05\", \"2018-01-08\", \"2018-01-09\", \"2018-01-10\", \"2018-01-11\", \"2018-01-12\", \"2018-01-16\", \"2018-01-17\", \"2018-01-18\", \"2018-01-19\", \"2018-01-22\", \"2018-01-23\", \"2018-01-24\", \"2018-01-25\", \"2018-01-26\", \"2018-01-29\", \"2018-01-30\", \"2018-01-31\", \"2018-02-01\", \"2018-02-02\", \"2018-02-05\", \"2018-02-06\", \"2018-02-07\", \"2018-02-08\", \"2018-02-09\", \"2018-02-12\", \"2018-02-13\", \"2018-02-14\", \"2018-02-15\", \"2018-02-16\", \"2018-02-20\", \"2018-02-21\", \"2018-02-22\", \"2018-02-23\", \"2018-02-26\", \"2018-02-27\", \"2018-02-28\", \"2018-03-01\", \"2018-03-02\", \"2018-03-05\", \"2018-03-06\", \"2018-03-07\", \"2018-03-08\", \"2018-03-09\", \"2018-03-12\", \"2018-03-13\", \"2018-03-14\", \"2018-03-15\", \"2018-03-16\", \"2018-03-19\", \"2018-03-20\", \"2018-03-21\", \"2018-03-22\", \"2018-03-23\", \"2018-03-26\", \"2018-03-27\", \"2018-03-28\", \"2018-03-29\", \"2018-04-02\", \"2018-04-03\", \"2018-04-04\", \"2018-04-05\", \"2018-04-06\", \"2018-04-09\", \"2018-04-10\", \"2018-04-11\", \"2018-04-12\", \"2018-04-13\", \"2018-04-16\", \"2018-04-17\", \"2018-04-18\", \"2018-04-19\", \"2018-04-20\", \"2018-04-23\", \"2018-04-24\", \"2018-04-25\", \"2018-04-26\", \"2018-04-27\", \"2018-04-30\", \"2018-05-01\", \"2018-05-02\", \"2018-05-03\", \"2018-05-04\", \"2018-05-07\", \"2018-05-08\", \"2018-05-09\", \"2018-05-10\", \"2018-05-11\", \"2018-05-14\", \"2018-05-15\", \"2018-05-16\", \"2018-05-17\", \"2018-05-18\", \"2018-05-21\", \"2018-05-22\", \"2018-05-23\", \"2018-05-24\", \"2018-05-25\", \"2018-05-29\", \"2018-05-30\", \"2018-05-31\", \"2018-06-01\", \"2018-06-04\", \"2018-06-05\", \"2018-06-06\", \"2018-06-07\", \"2018-06-08\", \"2018-06-11\", \"2018-06-12\", \"2018-06-13\", \"2018-06-14\", \"2018-06-15\", \"2018-06-18\", \"2018-06-19\", \"2018-06-20\", \"2018-06-21\", \"2018-06-22\", \"2018-06-25\", \"2018-06-26\", \"2018-06-27\", \"2018-06-28\", \"2018-06-29\", \"2018-07-02\", \"2018-07-03\", \"2018-07-05\", \"2018-07-06\", \"2018-07-09\", \"2018-07-10\", \"2018-07-11\", \"2018-07-12\", \"2018-07-13\", \"2018-07-16\", \"2018-07-17\", \"2018-07-18\", \"2018-07-19\", \"2018-07-20\", \"2018-07-23\", \"2018-07-24\", \"2018-07-25\", \"2018-07-26\", \"2018-07-27\", \"2018-07-30\", \"2018-07-31\", \"2018-08-01\", \"2018-08-02\", \"2018-08-03\", \"2018-08-06\", \"2018-08-07\", \"2018-08-08\", \"2018-08-09\", \"2018-08-10\", \"2018-08-13\", \"2018-08-14\", \"2018-08-15\", \"2018-08-16\", \"2018-08-17\", \"2018-08-20\", \"2018-08-21\", \"2018-08-22\", \"2018-08-23\", \"2018-08-24\", \"2018-08-27\", \"2018-08-28\", \"2018-08-29\", \"2018-08-30\", \"2018-08-31\", \"2018-09-04\", \"2018-09-05\", \"2018-09-06\", \"2018-09-07\", \"2018-09-10\", \"2018-09-11\", \"2018-09-12\", \"2018-09-13\", \"2018-09-14\", \"2018-09-17\", \"2018-09-18\", \"2018-09-19\", \"2018-09-20\", \"2018-09-21\", \"2018-09-24\", \"2018-09-25\", \"2018-09-26\", \"2018-09-27\", \"2018-09-28\", \"2018-10-01\", \"2018-10-02\", \"2018-10-03\", \"2018-10-04\", \"2018-10-05\", \"2018-10-08\", \"2018-10-09\", \"2018-10-10\", \"2018-10-11\", \"2018-10-12\", \"2018-10-15\", \"2018-10-16\", \"2018-10-17\", \"2018-10-18\", \"2018-10-19\", \"2018-10-22\", \"2018-10-23\", \"2018-10-24\", \"2018-10-25\", \"2018-10-26\", \"2018-10-29\", \"2018-10-30\", \"2018-10-31\", \"2018-11-01\", \"2018-11-02\", \"2018-11-05\", \"2018-11-06\", \"2018-11-07\", \"2018-11-08\", \"2018-11-09\", \"2018-11-12\", \"2018-11-13\", \"2018-11-14\", \"2018-11-15\", \"2018-11-16\", \"2018-11-19\", \"2018-11-20\", \"2018-11-21\", \"2018-11-23\", \"2018-11-26\", \"2018-11-27\", \"2018-11-28\", \"2018-11-29\", \"2018-11-30\", \"2018-12-03\", \"2018-12-04\", \"2018-12-05\", \"2018-12-06\", \"2018-12-07\", \"2018-12-10\", \"2018-12-11\", \"2018-12-12\", \"2018-12-13\", \"2018-12-14\", \"2018-12-17\", \"2018-12-18\", \"2018-12-19\", \"2018-12-20\", \"2018-12-21\", \"2018-12-24\", \"2018-12-26\", \"2018-12-27\", \"2018-12-28\", \"2018-12-31\", \"2019-01-02\", \"2019-01-03\", \"2019-01-04\", \"2019-01-07\", \"2019-01-08\", \"2019-01-09\", \"2019-01-10\", \"2019-01-11\", \"2019-01-14\", \"2019-01-15\", \"2019-01-16\", \"2019-01-17\", \"2019-01-18\", \"2019-01-22\", \"2019-01-23\", \"2019-01-24\", \"2019-01-25\", \"2019-01-28\", \"2019-01-29\", \"2019-01-30\", \"2019-01-31\", \"2019-02-01\", \"2019-02-04\", \"2019-02-05\", \"2019-02-06\", \"2019-02-07\", \"2019-02-08\", \"2019-02-11\", \"2019-02-12\", \"2019-02-13\", \"2019-02-14\", \"2019-02-15\", \"2019-02-19\", \"2019-02-20\", \"2019-02-21\", \"2019-02-22\", \"2019-02-25\", \"2019-02-26\", \"2019-02-27\", \"2019-02-28\", \"2019-03-01\", \"2019-03-04\", \"2019-03-05\", \"2019-03-06\", \"2019-03-07\", \"2019-03-08\", \"2019-03-11\", \"2019-03-12\", \"2019-03-13\", \"2019-03-14\", \"2019-03-15\", \"2019-03-18\", \"2019-03-19\", \"2019-03-20\", \"2019-03-21\", \"2019-03-22\", \"2019-03-25\", \"2019-03-26\", \"2019-03-27\", \"2019-03-28\", \"2019-03-29\", \"2019-04-01\", \"2019-04-02\", \"2019-04-03\", \"2019-04-04\", \"2019-04-05\", \"2019-04-08\", \"2019-04-09\", \"2019-04-10\", \"2019-04-11\", \"2019-04-12\", \"2019-04-15\", \"2019-04-16\", \"2019-04-17\", \"2019-04-18\", \"2019-04-22\", \"2019-04-23\", \"2019-04-24\", \"2019-04-25\", \"2019-04-26\", \"2019-04-29\", \"2019-04-30\", \"2019-05-01\", \"2019-05-02\", \"2019-05-03\", \"2019-05-06\", \"2019-05-07\", \"2019-05-08\", \"2019-05-09\", \"2019-05-10\", \"2019-05-13\", \"2019-05-14\", \"2019-05-15\", \"2019-05-16\", \"2019-05-17\", \"2019-05-20\", \"2019-05-21\", \"2019-05-22\", \"2019-05-23\", \"2019-05-24\", \"2019-05-28\", \"2019-05-29\", \"2019-05-30\", \"2019-05-31\", \"2019-06-03\", \"2019-06-04\", \"2019-06-05\", \"2019-06-06\", \"2019-06-07\", \"2019-06-10\", \"2019-06-11\", \"2019-06-12\", \"2019-06-13\", \"2019-06-14\", \"2019-06-17\", \"2019-06-18\", \"2019-06-19\", \"2019-06-20\", \"2019-06-21\", \"2019-06-24\", \"2019-06-25\", \"2019-06-26\", \"2019-06-27\", \"2019-06-28\", \"2019-07-01\", \"2019-07-02\", \"2019-07-03\", \"2019-07-05\", \"2019-07-08\", \"2019-07-09\", \"2019-07-10\", \"2019-07-11\", \"2019-07-12\", \"2019-07-15\", \"2019-07-16\", \"2019-07-17\", \"2019-07-18\", \"2019-07-19\", \"2019-07-22\", \"2019-07-23\", \"2019-07-24\", \"2019-07-25\", \"2019-07-26\", \"2019-07-29\", \"2019-07-30\", \"2019-07-31\", \"2019-08-01\", \"2019-08-02\", \"2019-08-05\", \"2019-08-06\", \"2019-08-07\", \"2019-08-08\", \"2019-08-09\", \"2019-08-12\", \"2019-08-13\", \"2019-08-14\", \"2019-08-15\", \"2019-08-16\", \"2019-08-19\", \"2019-08-20\", \"2019-08-21\", \"2019-08-22\", \"2019-08-23\", \"2019-08-26\", \"2019-08-27\", \"2019-08-28\", \"2019-08-29\", \"2019-08-30\", \"2019-09-03\", \"2019-09-04\", \"2019-09-05\", \"2019-09-06\", \"2019-09-09\", \"2019-09-10\", \"2019-09-11\", \"2019-09-12\", \"2019-09-13\", \"2019-09-16\", \"2019-09-17\", \"2019-09-18\", \"2019-09-19\", \"2019-09-20\", \"2019-09-23\", \"2019-09-24\", \"2019-09-25\", \"2019-09-26\", \"2019-09-27\", \"2019-09-30\", \"2019-10-01\", \"2019-10-02\", \"2019-10-03\", \"2019-10-04\", \"2019-10-07\", \"2019-10-08\", \"2019-10-09\", \"2019-10-10\", \"2019-10-11\", \"2019-10-14\", \"2019-10-15\", \"2019-10-16\", \"2019-10-17\", \"2019-10-18\", \"2019-10-21\", \"2019-10-22\", \"2019-10-23\", \"2019-10-24\", \"2019-10-25\", \"2019-10-28\", \"2019-10-29\", \"2019-10-30\", \"2019-10-31\", \"2019-11-01\", \"2019-11-04\", \"2019-11-05\", \"2019-11-06\", \"2019-11-07\", \"2019-11-08\", \"2019-11-11\", \"2019-11-12\", \"2019-11-13\", \"2019-11-14\", \"2019-11-15\", \"2019-11-18\", \"2019-11-19\", \"2019-11-20\", \"2019-11-21\", \"2019-11-22\", \"2019-11-25\", \"2019-11-26\", \"2019-11-27\", \"2019-11-29\", \"2019-12-02\", \"2019-12-03\", \"2019-12-04\", \"2019-12-05\", \"2019-12-06\", \"2019-12-09\", \"2019-12-10\", \"2019-12-11\", \"2019-12-12\", \"2019-12-13\", \"2019-12-16\", \"2019-12-17\", \"2019-12-18\", \"2019-12-19\", \"2019-12-20\", \"2019-12-23\", \"2019-12-24\", \"2019-12-26\", \"2019-12-27\", \"2019-12-30\", \"2019-12-31\", \"2020-01-02\", \"2020-01-03\", \"2020-01-06\", \"2020-01-07\", \"2020-01-08\", \"2020-01-09\", \"2020-01-10\", \"2020-01-13\", \"2020-01-14\", \"2020-01-15\", \"2020-01-16\", \"2020-01-17\", \"2020-01-21\", \"2020-01-22\", \"2020-01-23\", \"2020-01-24\", \"2020-01-27\", \"2020-01-28\", \"2020-01-29\", \"2020-01-30\", \"2020-01-31\", \"2020-02-03\", \"2020-02-04\", \"2020-02-05\", \"2020-02-06\", \"2020-02-07\", \"2020-02-10\", \"2020-02-11\", \"2020-02-12\", \"2020-02-13\", \"2020-02-14\", \"2020-02-18\", \"2020-02-19\", \"2020-02-20\", \"2020-02-21\", \"2020-02-24\", \"2020-02-25\", \"2020-02-26\", \"2020-02-27\", \"2020-02-28\", \"2020-03-02\", \"2020-03-03\", \"2020-03-04\", \"2020-03-05\", \"2020-03-06\", \"2020-03-09\", \"2020-03-10\", \"2020-03-11\", \"2020-03-12\", \"2020-03-13\", \"2020-03-16\", \"2020-03-17\", \"2020-03-18\", \"2020-03-19\", \"2020-03-20\", \"2020-03-23\", \"2020-03-24\", \"2020-03-25\", \"2020-03-26\", \"2020-03-27\", \"2020-03-30\", \"2020-03-31\", \"2020-04-01\", \"2020-04-02\", \"2020-04-03\", \"2020-04-06\", \"2020-04-07\", \"2020-04-08\", \"2020-04-09\", \"2020-04-13\", \"2020-04-14\", \"2020-04-15\", \"2020-04-16\", \"2020-04-17\", \"2020-04-20\", \"2020-04-21\", \"2020-04-22\", \"2020-04-23\", \"2020-04-24\", \"2020-04-27\", \"2020-04-28\", \"2020-04-29\", \"2020-04-30\", \"2020-05-01\", \"2020-05-04\", \"2020-05-05\", \"2020-05-06\", \"2020-05-07\", \"2020-05-08\"], \"y\": [44.1, 45.48, 47.66, 47.76, 46.26, 44.18, 44.9, 42.62, 43.14, 42.74, 44.97, 43.24, 44.1, 44.36, 43.98, 43.5, 43.84, 42.84, 43.08, 41.97, 41.89, 40.58, 40.09, 39.83, 39.3, 39.22, 40.48, 41.98, 41.9, 43.02, 42.48, 41.68, 43.47, 44.33, 45.73, 46.54, 47.31, 48.13, 47.95, 46.13, 46.96, 45.84, 46.52, 46.69, 46.0, 45.5, 45.06, 42.07, 43.17, 43.82, 44.5, 46.58, 44.6, 44.96, 43.8, 42.63, 43.13, 42.6, 42.77, 42.76, 43.84, 44.84, 43.2, 44.34, 43.16, 45.83, 46.28, 45.7, 48.35, 48.27, 49.05, 49.87, 49.21, 50.5, 49.74, 49.43, 49.68, 49.77, 49.39, 49.46, 50.34, 49.2, 49.54, 49.0, 48.34, 47.71, 48.57, 47.7, 47.46, 45.16, 44.13, 43.46, 42.66, 43.56, 43.46, 43.8, 43.42, 42.42, 42.1, 44.28, 43.93, 43.82, 44.2, 46.4, 46.9, 46.68, 45.28, 46.03, 43.9, 45.07, 51.73, 52.12, 52.55, 51.7, 50.85, 51.8, 52.15, 53.78, 53.65, 51.9, 52.05, 53.05, 52.7, 52.98, 52.2, 52.8, 52.95, 53.9, 54.0, 54.05, 54.24, 53.6, 54.9, 55.25, 55.27, 53.1, 51.8, 53.25, 54.28, 53.8, 53.78, 52.3, 52.66, 53.9, 53.65, 53.78, 53.6, 54.7, 53.83, 53.3, 53.26, 55.1, 55.29, 55.7, 54.82, 54.12, 54.07, 54.58, 55.48, 54.58, 55.05, 54.92, 55.03, 55.3, 55.6, 54.76, 55.83, 55.25, 55.07, 55.12, 55.65, 54.25, 54.75, 54.84, 54.77, 51.95, 51.08, 50.23, 50.28, 49.62, 50.48, 50.4, 50.63, 50.48, 49.86, 49.64, 49.58, 49.9, 49.74, 50.18, 51.45, 52.05, 51.85, 51.85, 52.75, 53.04, 53.58, 53.93, 54.65, 55.05, 54.65, 54.71, 54.17, 53.76, 51.8, 51.82, 50.9, 50.7, 51.12, 50.84, 50.37, 50.77, 50.37, 49.57, 49.85, 47.59, 48.38, 48.54, 47.95, 49.31, 49.69, 49.74, 50.76, 50.72, 51.25, 51.53, 52.52, 52.68, 53.0, 52.7, 50.2, 50.82, 50.45, 49.92, 49.52, 48.75, 48.25, 48.92, 47.1, 46.92, 47.13, 47.3, 47.6, 45.85, 45.62, 46.0, 45.58, 44.72, 43.47, 43.95, 44.27, 44.63, 45.39, 45.92, 46.17, 46.46, 48.55, 46.67, 46.95, 45.45, 45.58, 46.25, 46.42, 47.07, 47.57, 47.1, 47.48, 48.35, 47.97, 46.67, 47.25, 48.78, 49.52, 49.75, 50.65, 50.47, 50.37, 51.15, 50.85, 51.25, 51.07, 50.9, 51.45, 50.5, 50.62, 49.3, 49.4, 48.7, 49.2, 50.92, 49.81, 49.92, 50.95, 50.35, 50.26, 50.05, 50.5, 49.4, 49.6, 51.67, 52.38, 53.2, 53.28, 52.55, 52.64, 53.12, 54.0, 54.35, 54.48, 54.36, 54.08, 55.18, 55.47, 55.98, 57.78, 56.26, 56.15, 55.75, 55.84, 54.62, 54.45, 54.33, 55.5, 53.85, 54.06, 54.82, 55.15, 54.52, 55.4, 56.05, 56.02, 56.22, 55.3, 55.7, 55.47, 56.48, 56.28, 57.1, 58.05, 57.8, 58.13, 58.55, 58.85, 60.3, 62.2, 61.65, 61.5, 62.05, 61.65, 61.52, 60.47, 60.02, 59.66, 60.94, 60.6, 60.4, 61.22, 61.8, 61.6, 61.4, 60.86, 60.75, 61.25, 60.1, 60.7, 59.2, 60.0, 61.1, 62.2, 60.64, 60.0, 60.67, 60.8, 61.25, 61.64, 61.7, 62.25, 62.15, 63.55, 63.05, 63.65, 63.98, 64.3, 65.5, 65.6, 65.22, 65.4, 66.28, 66.6, 66.67, 67.1, 66.5, 66.78, 66.83, 66.13, 66.53, 67.3, 67.7, 67.46, 67.5, 67.15, 66.3, 65.67, 67.03, 65.9, 65.17, 64.06, 62.66, 62.02, 59.9, 59.7, 59.95, 61.5, 61.53, 62.0, 62.35, 62.5, 63.47, 64.28, 64.7, 63.83, 63.47, 60.84, 61.18, 62.68, 62.93, 61.47, 60.61, 62.49, 61.95, 61.7, 62.13, 62.38, 63.55, 63.35, 64.57, 66.58, 65.73, 67.03, 66.5, 66.2, 65.0, 65.51, 65.0, 65.25, 65.15, 65.5, 64.3, 65.85, 68.1, 68.95, 68.85, 69.2, 68.12, 68.42, 70.2, 70.33, 70.7, 71.2, 70.34, 70.35, 71.0, 71.12, 70.29, 70.28, 70.56, 70.7, 72.1, 72.6, 72.19, 74.25, 74.52, 74.33, 75.38, 75.31, 76.31, 76.5, 75.78, 76.81, 77.09, 77.55, 77.03, 74.5, 74.25, 76.7, 76.5, 74.5, 73.29, 73.21, 73.28, 75.25, 74.35, 74.38, 73.8, 74.58, 73.78, 71.17, 72.95, 72.55, 72.0, 70.8, 73.28, 72.58, 74.3, 75.4, 75.4, 75.32, 74.5, 75.02, 74.45, 74.22, 75.22, 76.16, 71.2, 72.4, 73.35, 69.83, 70.41, 71.3, 71.0, 71.07, 71.38, 72.2, 72.83, 74.0, 73.65, 73.6, 73.51, 70.94, 72.32, 71.88, 72.52, 73.4, 71.13, 71.05, 71.73, 71.47, 71.34, 69.74, 70.41, 70.69, 71.08, 71.58, 73.86, 73.82, 74.82, 75.06, 74.63, 75.95, 76.33, 75.76, 76.62, 75.75, 75.1, 75.33, 75.78, 77.66, 78.48, 76.78, 76.51, 76.37, 77.65, 77.92, 77.38, 77.6, 80.7, 86.15, 85.5, 84.13, 84.86, 83.95, 84.2, 85.79, 84.1, 83.84, 83.4, 84.42, 82.35, 79.55, 79.72, 79.57, 80.52, 79.18, 78.53, 79.0, 79.21, 76.23, 76.2, 76.65, 77.0, 76.0, 75.3, 76.4, 71.8, 71.78, 72.38, 71.13, 71.2, 69.72, 69.58, 69.61, 65.01, 65.69, 66.22, 66.2, 66.6, 62.24, 63.36, 58.7, 60.17, 59.52, 58.6, 59.55, 59.26, 61.25, 61.39, 60.52, 59.3, 60.57, 58.69, 58.9, 58.95, 60.45, 59.3, 58.75, 55.23, 56.62, 54.3, 53.8, 50.1, 53.97, 51.85, 52.15, 53.51, 54.3, 55.2, 56.0, 56.27, 57.63, 60.5, 61.01, 59.95, 58.78, 60.24, 60.9, 60.8, 62.55, 61.15, 60.94, 61.07, 61.51, 59.65, 60.93, 61.28, 61.87, 63.15, 62.91, 62.2, 62.77, 62.05, 62.42, 61.85, 62.92, 64.13, 65.57, 66.73, 66.5, 67.18, 67.27, 67.27, 64.9, 65.4, 66.6, 66.05, 64.92, 65.64, 66.0, 66.3, 66.65, 66.05, 66.9, 67.12, 67.95, 67.53, 67.31, 67.59, 67.48, 68.32, 67.55, 66.83, 66.9, 67.51, 67.03, 66.97, 67.42, 68.78, 69.17, 69.04, 69.18, 70.15, 70.7, 70.3, 71.18, 70.13, 70.62, 70.36, 71.32, 71.08, 71.75, 73.69, 74.18, 74.25, 73.6, 71.75, 71.68, 72.35, 72.23, 71.08, 71.0, 71.34, 69.95, 70.24, 70.25, 70.88, 70.33, 71.45, 71.7, 72.85, 72.1, 71.42, 71.8, 70.42, 66.65, 67.5, 68.35, 66.95, 64.12, 64.17, 60.75, 61.18, 59.3, 60.17, 61.8, 61.05, 61.38, 59.03, 60.35, 60.9, 59.95, 61.23, 60.95, 63.85, 64.4, 63.4, 62.95, 64.85, 64.78, 64.63, 63.79, 61.2, 62.55, 63.15, 63.06, 63.28, 66.15, 66.47, 65.81, 65.44, 63.14, 62.53, 61.12, 62.04, 62.98, 63.3, 62.88, 63.9, 64.0, 64.2, 64.5, 65.28, 59.9, 61.48, 59.47, 58.54, 56.17, 57.56, 58.3, 58.48, 60.95, 59.1, 58.02, 58.44, 59.54, 60.0, 60.76, 60.61, 59.64, 58.42, 58.75, 59.77, 59.98, 60.22, 57.48, 59.5, 59.88, 60.54, 61.8, 61.48, 59.71, 59.53, 59.35, 67.9, 64.1, 62.88, 63.95, 63.9, 63.82, 62.7, 62.26, 62.54, 62.1, 61.73, 58.7, 57.9, 57.99, 58.75, 58.69, 58.74, 58.85, 59.42, 61.43, 60.4, 60.1, 60.55, 60.99, 60.35, 59.9, 60.45, 62.38, 63.25, 62.4, 61.68, 61.4, 60.7, 60.88, 62.0, 62.45, 63.01, 62.0, 62.2, 62.76, 62.74, 62.98, 63.3, 63.05, 63.65, 62.9, 61.46, 63.35, 64.89, 64.14, 63.34, 63.83, 63.44, 63.43, 61.39, 61.68, 63.7, 64.24, 65.11, 64.95, 65.04, 64.38, 65.0, 66.12, 66.22, 66.8, 66.82, 67.12, 66.83, 66.9, 67.16, 68.07, 67.9, 68.3, 67.42, 66.23, 68.8, 69.17, 68.87, 66.0, 66.02, 66.1, 65.3, 65.49, 64.93, 65.43, 65.3, 64.95, 63.77, 62.67, 61.0, 59.77, 62.0, 61.97, 59.1, 59.66, 54.6, 53.05, 54.31, 54.45, 53.64, 52.5, 53.36, 54.87, 55.6, 56.5, 56.76, 57.8, 58.0, 57.35, 55.09, 53.65, 51.39, 49.74, 49.11, 50.97, 51.31, 50.78, 49.78, 45.22, 33.05, 35.07, 35.15, 32.9, 34.29, 30.0, 29.53, 26.85, 30.1, 28.95, 27.68, 27.3, 28.98, 28.3, 26.35, 23.8, 26.55, 22.5, 26.45, 31.95, 29.45, 25.87, 26.98, 24.6, 26.07, 23.06, 23.42, 23.42, 24.68, 23.52, 19.93, 23.15, 20.73, 20.68, 18.9, 18.46, 22.02, 26.61, 28.88, 29.77, 30.6, 30.23, 30.2, 31.79]}],\n                        {\"legend\": {\"x\": 0.01, \"y\": 0.01}, \"paper_bgcolor\": \"#FFFFFF\", \"plot_bgcolor\": \"#FFFFFF\", \"showlegend\": true, \"template\": {\"data\": {\"bar\": [{\"error_x\": {\"color\": \"#2a3f5f\"}, \"error_y\": {\"color\": \"#2a3f5f\"}, \"marker\": {\"line\": {\"color\": \"#E5ECF6\", \"width\": 0.5}}, \"type\": \"bar\"}], \"barpolar\": [{\"marker\": {\"line\": {\"color\": \"#E5ECF6\", \"width\": 0.5}}, \"type\": \"barpolar\"}], \"carpet\": [{\"aaxis\": {\"endlinecolor\": \"#2a3f5f\", \"gridcolor\": \"white\", \"linecolor\": \"white\", \"minorgridcolor\": \"white\", \"startlinecolor\": \"#2a3f5f\"}, \"baxis\": {\"endlinecolor\": \"#2a3f5f\", \"gridcolor\": \"white\", \"linecolor\": \"white\", \"minorgridcolor\": \"white\", \"startlinecolor\": \"#2a3f5f\"}, \"type\": \"carpet\"}], \"choropleth\": [{\"colorbar\": {\"outlinewidth\": 0, \"ticks\": \"\"}, \"type\": \"choropleth\"}], \"contour\": [{\"colorbar\": {\"outlinewidth\": 0, \"ticks\": \"\"}, \"colorscale\": [[0.0, \"#0d0887\"], [0.1111111111111111, \"#46039f\"], [0.2222222222222222, \"#7201a8\"], [0.3333333333333333, \"#9c179e\"], [0.4444444444444444, \"#bd3786\"], [0.5555555555555556, \"#d8576b\"], [0.6666666666666666, \"#ed7953\"], [0.7777777777777778, \"#fb9f3a\"], [0.8888888888888888, \"#fdca26\"], [1.0, \"#f0f921\"]], \"type\": \"contour\"}], \"contourcarpet\": [{\"colorbar\": {\"outlinewidth\": 0, \"ticks\": \"\"}, \"type\": \"contourcarpet\"}], \"heatmap\": [{\"colorbar\": {\"outlinewidth\": 0, \"ticks\": \"\"}, \"colorscale\": [[0.0, \"#0d0887\"], [0.1111111111111111, \"#46039f\"], [0.2222222222222222, \"#7201a8\"], [0.3333333333333333, \"#9c179e\"], [0.4444444444444444, \"#bd3786\"], [0.5555555555555556, \"#d8576b\"], [0.6666666666666666, \"#ed7953\"], [0.7777777777777778, \"#fb9f3a\"], [0.8888888888888888, \"#fdca26\"], [1.0, \"#f0f921\"]], \"type\": \"heatmap\"}], \"heatmapgl\": [{\"colorbar\": {\"outlinewidth\": 0, \"ticks\": \"\"}, \"colorscale\": [[0.0, \"#0d0887\"], [0.1111111111111111, \"#46039f\"], [0.2222222222222222, \"#7201a8\"], [0.3333333333333333, \"#9c179e\"], [0.4444444444444444, \"#bd3786\"], [0.5555555555555556, \"#d8576b\"], [0.6666666666666666, \"#ed7953\"], [0.7777777777777778, \"#fb9f3a\"], [0.8888888888888888, \"#fdca26\"], [1.0, \"#f0f921\"]], \"type\": \"heatmapgl\"}], \"histogram\": [{\"marker\": {\"colorbar\": {\"outlinewidth\": 0, \"ticks\": \"\"}}, \"type\": \"histogram\"}], \"histogram2d\": [{\"colorbar\": {\"outlinewidth\": 0, \"ticks\": \"\"}, \"colorscale\": [[0.0, \"#0d0887\"], [0.1111111111111111, \"#46039f\"], [0.2222222222222222, \"#7201a8\"], [0.3333333333333333, \"#9c179e\"], [0.4444444444444444, \"#bd3786\"], [0.5555555555555556, \"#d8576b\"], [0.6666666666666666, \"#ed7953\"], [0.7777777777777778, \"#fb9f3a\"], [0.8888888888888888, \"#fdca26\"], [1.0, \"#f0f921\"]], \"type\": \"histogram2d\"}], \"histogram2dcontour\": [{\"colorbar\": {\"outlinewidth\": 0, \"ticks\": \"\"}, \"colorscale\": [[0.0, \"#0d0887\"], [0.1111111111111111, \"#46039f\"], [0.2222222222222222, \"#7201a8\"], [0.3333333333333333, \"#9c179e\"], [0.4444444444444444, \"#bd3786\"], [0.5555555555555556, \"#d8576b\"], [0.6666666666666666, \"#ed7953\"], [0.7777777777777778, \"#fb9f3a\"], [0.8888888888888888, \"#fdca26\"], [1.0, \"#f0f921\"]], \"type\": \"histogram2dcontour\"}], \"mesh3d\": [{\"colorbar\": {\"outlinewidth\": 0, \"ticks\": \"\"}, \"type\": \"mesh3d\"}], \"parcoords\": [{\"line\": {\"colorbar\": {\"outlinewidth\": 0, \"ticks\": \"\"}}, \"type\": \"parcoords\"}], \"pie\": [{\"automargin\": true, \"type\": \"pie\"}], \"scatter\": [{\"marker\": {\"colorbar\": {\"outlinewidth\": 0, \"ticks\": \"\"}}, \"type\": \"scatter\"}], \"scatter3d\": [{\"line\": {\"colorbar\": {\"outlinewidth\": 0, \"ticks\": \"\"}}, \"marker\": {\"colorbar\": {\"outlinewidth\": 0, \"ticks\": \"\"}}, \"type\": \"scatter3d\"}], \"scattercarpet\": [{\"marker\": {\"colorbar\": {\"outlinewidth\": 0, \"ticks\": \"\"}}, \"type\": \"scattercarpet\"}], \"scattergeo\": [{\"marker\": {\"colorbar\": {\"outlinewidth\": 0, \"ticks\": \"\"}}, \"type\": \"scattergeo\"}], \"scattergl\": [{\"marker\": {\"colorbar\": {\"outlinewidth\": 0, \"ticks\": \"\"}}, \"type\": \"scattergl\"}], \"scattermapbox\": [{\"marker\": {\"colorbar\": {\"outlinewidth\": 0, \"ticks\": \"\"}}, \"type\": \"scattermapbox\"}], \"scatterpolar\": [{\"marker\": {\"colorbar\": {\"outlinewidth\": 0, \"ticks\": \"\"}}, \"type\": \"scatterpolar\"}], \"scatterpolargl\": [{\"marker\": {\"colorbar\": {\"outlinewidth\": 0, \"ticks\": \"\"}}, \"type\": \"scatterpolargl\"}], \"scatterternary\": [{\"marker\": {\"colorbar\": {\"outlinewidth\": 0, \"ticks\": \"\"}}, \"type\": \"scatterternary\"}], \"surface\": [{\"colorbar\": {\"outlinewidth\": 0, \"ticks\": \"\"}, \"colorscale\": [[0.0, \"#0d0887\"], [0.1111111111111111, \"#46039f\"], [0.2222222222222222, \"#7201a8\"], [0.3333333333333333, \"#9c179e\"], [0.4444444444444444, \"#bd3786\"], [0.5555555555555556, \"#d8576b\"], [0.6666666666666666, \"#ed7953\"], [0.7777777777777778, \"#fb9f3a\"], [0.8888888888888888, \"#fdca26\"], [1.0, \"#f0f921\"]], \"type\": \"surface\"}], \"table\": [{\"cells\": {\"fill\": {\"color\": \"#EBF0F8\"}, \"line\": {\"color\": \"white\"}}, \"header\": {\"fill\": {\"color\": \"#C8D4E3\"}, \"line\": {\"color\": \"white\"}}, \"type\": \"table\"}]}, \"layout\": {\"annotationdefaults\": {\"arrowcolor\": \"#2a3f5f\", \"arrowhead\": 0, \"arrowwidth\": 1}, \"coloraxis\": {\"colorbar\": {\"outlinewidth\": 0, \"ticks\": \"\"}}, \"colorscale\": {\"diverging\": [[0, \"#8e0152\"], [0.1, \"#c51b7d\"], [0.2, \"#de77ae\"], [0.3, \"#f1b6da\"], [0.4, \"#fde0ef\"], [0.5, \"#f7f7f7\"], [0.6, \"#e6f5d0\"], [0.7, \"#b8e186\"], [0.8, \"#7fbc41\"], [0.9, \"#4d9221\"], [1, \"#276419\"]], \"sequential\": [[0.0, \"#0d0887\"], [0.1111111111111111, \"#46039f\"], [0.2222222222222222, \"#7201a8\"], [0.3333333333333333, \"#9c179e\"], [0.4444444444444444, \"#bd3786\"], [0.5555555555555556, \"#d8576b\"], [0.6666666666666666, \"#ed7953\"], [0.7777777777777778, \"#fb9f3a\"], [0.8888888888888888, \"#fdca26\"], [1.0, \"#f0f921\"]], \"sequentialminus\": [[0.0, \"#0d0887\"], [0.1111111111111111, \"#46039f\"], [0.2222222222222222, \"#7201a8\"], [0.3333333333333333, \"#9c179e\"], [0.4444444444444444, \"#bd3786\"], [0.5555555555555556, \"#d8576b\"], [0.6666666666666666, \"#ed7953\"], [0.7777777777777778, \"#fb9f3a\"], [0.8888888888888888, \"#fdca26\"], [1.0, \"#f0f921\"]]}, \"colorway\": [\"#636efa\", \"#EF553B\", \"#00cc96\", \"#ab63fa\", \"#FFA15A\", \"#19d3f3\", \"#FF6692\", \"#B6E880\", \"#FF97FF\", \"#FECB52\"], \"font\": {\"color\": \"#2a3f5f\"}, \"geo\": {\"bgcolor\": \"white\", \"lakecolor\": \"white\", \"landcolor\": \"#E5ECF6\", \"showlakes\": true, \"showland\": true, \"subunitcolor\": \"white\"}, \"hoverlabel\": {\"align\": \"left\"}, \"hovermode\": \"closest\", \"mapbox\": {\"style\": \"light\"}, \"paper_bgcolor\": \"white\", \"plot_bgcolor\": \"#E5ECF6\", \"polar\": {\"angularaxis\": {\"gridcolor\": \"white\", \"linecolor\": \"white\", \"ticks\": \"\"}, \"bgcolor\": \"#E5ECF6\", \"radialaxis\": {\"gridcolor\": \"white\", \"linecolor\": \"white\", \"ticks\": \"\"}}, \"scene\": {\"xaxis\": {\"backgroundcolor\": \"#E5ECF6\", \"gridcolor\": \"white\", \"gridwidth\": 2, \"linecolor\": \"white\", \"showbackground\": true, \"ticks\": \"\", \"zerolinecolor\": \"white\"}, \"yaxis\": {\"backgroundcolor\": \"#E5ECF6\", \"gridcolor\": \"white\", \"gridwidth\": 2, \"linecolor\": \"white\", \"showbackground\": true, \"ticks\": \"\", \"zerolinecolor\": \"white\"}, \"zaxis\": {\"backgroundcolor\": \"#E5ECF6\", \"gridcolor\": \"white\", \"gridwidth\": 2, \"linecolor\": \"white\", \"showbackground\": true, \"ticks\": \"\", \"zerolinecolor\": \"white\"}}, \"shapedefaults\": {\"line\": {\"color\": \"#2a3f5f\"}}, \"ternary\": {\"aaxis\": {\"gridcolor\": \"white\", \"linecolor\": \"white\", \"ticks\": \"\"}, \"baxis\": {\"gridcolor\": \"white\", \"linecolor\": \"white\", \"ticks\": \"\"}, \"bgcolor\": \"#E5ECF6\", \"caxis\": {\"gridcolor\": \"white\", \"linecolor\": \"white\", \"ticks\": \"\"}}, \"title\": {\"x\": 0.05}, \"xaxis\": {\"automargin\": true, \"gridcolor\": \"white\", \"linecolor\": \"white\", \"ticks\": \"\", \"title\": {\"standoff\": 15}, \"zerolinecolor\": \"white\", \"zerolinewidth\": 2}, \"yaxis\": {\"automargin\": true, \"gridcolor\": \"white\", \"linecolor\": \"white\", \"ticks\": \"\", \"title\": {\"standoff\": 15}, \"zerolinecolor\": \"white\", \"zerolinewidth\": 2}}}, \"title\": {\"font\": {\"color\": \"#4D5663\"}}, \"xaxis\": {\"gridcolor\": \"#E1E5ED\", \"showgrid\": true, \"tickfont\": {\"color\": \"#4D5663\"}, \"title\": {\"font\": {\"color\": \"#4D5663\"}, \"text\": \"\"}, \"zerolinecolor\": \"#E1E5ED\"}, \"yaxis\": {\"gridcolor\": \"#E1E5ED\", \"showgrid\": true, \"tickfont\": {\"color\": \"#4D5663\"}, \"title\": {\"font\": {\"color\": \"#4D5663\"}, \"text\": \"USD/Bbl\"}, \"zerolinecolor\": \"#E1E5ED\"}},\n                        {\"showLink\": true, \"linkText\": \"Export to plot.ly\", \"plotlyServerURL\": \"https://plot.ly\", \"responsive\": true}\n                    ).then(function(){\n                            \nvar gd = document.getElementById('ed8cc3fa-9e06-480a-a464-9bd8d012641c');\nvar x = new MutationObserver(function (mutations, observer) {{\n        var display = window.getComputedStyle(gd).display;\n        if (!display || display === 'none') {{\n            console.log([gd, 'removed!']);\n            Plotly.purge(gd);\n            observer.disconnect();\n        }}\n}});\n\n// Listen for the removal of the full notebook cells\nvar notebookContainer = gd.closest('#notebook-container');\nif (notebookContainer) {{\n    x.observe(notebookContainer, {childList: true});\n}}\n\n// Listen for the clearing of the current output cell\nvar outputEl = gd.closest('.output');\nif (outputEl) {{\n    x.observe(outputEl, {childList: true});\n}}\n\n                        })\n                };\n                });\n            </script>\n        </div>"
     },
     "metadata": {}
    }
   ],
   "source": [
    "OIL_d.dropna(how='any').iplot(yTitle='USD/Bbl',\n",
    "                            colors={'WTI':'black','ICEブレント':'#607D8B','ドバイ原油':'#9E9E9E'},\n",
    "                            width={'WTI':3,'ICEブレント':1,'ドバイ原油':3},\n",
    "                            dash={'WTI':'solid','ICEブレント':'solid','ドバイ原油':'dot'},\n",
    "                            legend =dict(x=0.01,y=0.01)\n",
    "                            )"
   ]
  },
  {
   "cell_type": "code",
   "execution_count": 183,
   "metadata": {},
   "outputs": [],
   "source": [
    "import plotly.graph_objects as go\n",
    "fig = go.Figure()"
   ]
  },
  {
   "cell_type": "code",
   "execution_count": 184,
   "metadata": {},
   "outputs": [
    {
     "output_type": "error",
     "ename": "AttributeError",
     "evalue": "module 'plotly.graph_objects' has no attribute 'iplot'",
     "traceback": [
      "\u001b[1;31m---------------------------------------------------------------------------\u001b[0m",
      "\u001b[1;31mAttributeError\u001b[0m                            Traceback (most recent call last)",
      "\u001b[1;32m<ipython-input-184-f260eb8d423f>\u001b[0m in \u001b[0;36m<module>\u001b[1;34m\u001b[0m\n\u001b[1;32m----> 1\u001b[1;33m \u001b[0mfig\u001b[0m\u001b[1;33m.\u001b[0m\u001b[0madd_trace\u001b[0m\u001b[1;33m(\u001b[0m\u001b[0mgo\u001b[0m\u001b[1;33m.\u001b[0m\u001b[0miplot\u001b[0m\u001b[1;33m(\u001b[0m\u001b[0mOIL_d\u001b[0m\u001b[1;33m.\u001b[0m\u001b[0mdropna\u001b[0m\u001b[1;33m(\u001b[0m\u001b[0mhow\u001b[0m\u001b[1;33m=\u001b[0m\u001b[1;34m'any'\u001b[0m\u001b[1;33m)\u001b[0m\u001b[1;33m)\u001b[0m\u001b[1;33m)\u001b[0m\u001b[1;33m\u001b[0m\u001b[1;33m\u001b[0m\u001b[0m\n\u001b[0m",
      "\u001b[1;31mAttributeError\u001b[0m: module 'plotly.graph_objects' has no attribute 'iplot'"
     ]
    }
   ],
   "source": [
    "fig.add_trace(go.iplot(OIL_d.dropna(how='any')))"
   ]
  },
  {
   "cell_type": "code",
   "execution_count": null,
   "metadata": {},
   "outputs": [],
   "source": []
  }
 ],
 "metadata": {
  "language_info": {
   "codemirror_mode": {
    "name": "ipython",
    "version": 3
   },
   "file_extension": ".py",
   "mimetype": "text/x-python",
   "name": "python",
   "nbconvert_exporter": "python",
   "pygments_lexer": "ipython3",
   "version": "3.7.6-final"
  },
  "orig_nbformat": 2,
  "kernelspec": {
   "name": "python37664bitpy37condaeefaf0b43e414cfc860f757d052ab0e6",
   "display_name": "Python 3.7.6 64-bit ('py37': conda)"
  }
 },
 "nbformat": 4,
 "nbformat_minor": 2
}