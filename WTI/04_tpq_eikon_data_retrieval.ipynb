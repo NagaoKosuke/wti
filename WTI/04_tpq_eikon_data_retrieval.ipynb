{
 "cells": [
  {
   "cell_type": "markdown",
   "metadata": {},
   "source": [
    "<img src=\"http://eikon.tpq.io/refinitiv_logo.png\" width=\"28%\" align=\"left\" style=\"vertical-align: top; padding-top: 23px;\">\n",
    "<img src=\"http://hilpisch.com/tpq_logo_long.png\" width=\"36%\" align=\"right\" style=\"vertical-align: top;\">"
   ]
  },
  {
   "cell_type": "markdown",
   "metadata": {},
   "source": [
    "# Eikon Data API"
   ]
  },
  {
   "cell_type": "markdown",
   "metadata": {},
   "source": [
    "**Python Wrapper Package &mdash; Data Retrieval**\n",
    "\n",
    "Dr. Yves J. Hilpisch | The Python Quants GmbH\n",
    "\n",
    "<a href=\"http://tpq.io\" target=\"_blank\">http://tpq.io</a> | <a href=\"http://twitter.com/dyjh\" target=\"_blank\">@dyjh</a> | <a href=\"mailto:training@tpq.io\">training@tpq.io</a>\n",
    "\n",
    "<img src=\"http://hilpisch.com/images/tr_eikon_02.png\" width=350px align=left>"
   ]
  },
  {
   "cell_type": "markdown",
   "metadata": {},
   "source": [
    "## The Agenda"
   ]
  },
  {
   "cell_type": "markdown",
   "metadata": {},
   "source": [
    "This tutorial covers the **basic functions** of the `eikon` Python wrapper package:\n",
    "\n",
    "* `eikon` package\n",
    "* `ek.get_symbology()`\n",
    "* `ek.get_data()`\n",
    "* `ek.get_timeseries()`\n",
    "* `ek.get_news_headlines()`\n",
    "* `ek.get_news_story()`"
   ]
  },
  {
   "cell_type": "markdown",
   "metadata": {},
   "source": [
    "## Installation"
   ]
  },
  {
   "cell_type": "markdown",
   "metadata": {},
   "source": [
    "The **Python wrapper package** for the Thomson Reuters Eikon Data API is called `eikon`.\n",
    "\n",
    "It is **installed** via `pip`:\n",
    "    \n",
    "    pip install eikon\n",
    "    \n",
    "It can also be **upgraded** via `pip`:\n",
    "\n",
    "    pip install eikon --upgrade"
   ]
  },
  {
   "cell_type": "markdown",
   "metadata": {},
   "source": [
    "## Imports and Versions"
   ]
  },
  {
   "cell_type": "markdown",
   "metadata": {},
   "source": [
    "The following imports several **packages** as used in the following."
   ]
  },
  {
   "cell_type": "code",
   "execution_count": 1,
   "metadata": {},
   "outputs": [
    {
     "output_type": "display_data",
     "data": {
      "text/html": "        <script type=\"text/javascript\">\n        window.PlotlyConfig = {MathJaxConfig: 'local'};\n        if (window.MathJax) {MathJax.Hub.Config({SVG: {font: \"STIX-Web\"}});}\n        if (typeof require !== 'undefined') {\n        require.undef(\"plotly\");\n        requirejs.config({\n            paths: {\n                'plotly': ['https://cdn.plot.ly/plotly-latest.min']\n            }\n        });\n        require(['plotly'], function(Plotly) {\n            window._Plotly = Plotly;\n        });\n        }\n        </script>\n        "
     },
     "metadata": {}
    },
    {
     "output_type": "display_data",
     "data": {
      "text/html": "        <script type=\"text/javascript\">\n        window.PlotlyConfig = {MathJaxConfig: 'local'};\n        if (window.MathJax) {MathJax.Hub.Config({SVG: {font: \"STIX-Web\"}});}\n        if (typeof require !== 'undefined') {\n        require.undef(\"plotly\");\n        requirejs.config({\n            paths: {\n                'plotly': ['https://cdn.plot.ly/plotly-latest.min']\n            }\n        });\n        require(['plotly'], function(Plotly) {\n            window._Plotly = Plotly;\n        });\n        }\n        </script>\n        "
     },
     "metadata": {}
    }
   ],
   "source": [
    "import eikon as ek  # the Eikon Python wrapper package\n",
    "import cufflinks as cf  # Cufflinks\n",
    "import configparser as cp\n",
    "cf.set_config_file(offline=True)  # set the plotting mode to offline"
   ]
  },
  {
   "cell_type": "markdown",
   "metadata": {},
   "source": [
    "The following **Python and package versions** are used."
   ]
  },
  {
   "cell_type": "code",
   "execution_count": 2,
   "metadata": {},
   "outputs": [
    {
     "output_type": "stream",
     "name": "stdout",
     "text": "3.7.6 (default, Jan  8 2020, 20:23:39) [MSC v.1916 64 bit (AMD64)]\n"
    }
   ],
   "source": [
    "import sys\n",
    "print(sys.version)"
   ]
  },
  {
   "cell_type": "code",
   "execution_count": 3,
   "metadata": {},
   "outputs": [
    {
     "output_type": "execute_result",
     "data": {
      "text/plain": "'1.1.2'"
     },
     "metadata": {},
     "execution_count": 3
    }
   ],
   "source": [
    "ek.__version__"
   ]
  },
  {
   "cell_type": "code",
   "execution_count": 4,
   "metadata": {},
   "outputs": [
    {
     "output_type": "execute_result",
     "data": {
      "text/plain": "'0.17.3'"
     },
     "metadata": {},
     "execution_count": 4
    }
   ],
   "source": [
    "cf.__version__"
   ]
  },
  {
   "cell_type": "markdown",
   "metadata": {},
   "source": [
    "## Connecting to Eikon Data API"
   ]
  },
  {
   "cell_type": "markdown",
   "metadata": {},
   "source": [
    "This code sets the `app_id` to connect to the **Eikon Data API Proxy** which needs to be running locally. It requires the previously created text file `eikon.cfg` to be in the current working directory."
   ]
  },
  {
   "cell_type": "code",
   "execution_count": 5,
   "metadata": {},
   "outputs": [
    {
     "output_type": "execute_result",
     "data": {
      "text/plain": "[]"
     },
     "metadata": {},
     "execution_count": 5
    }
   ],
   "source": [
    "cfg = cp.ConfigParser()\n",
    "cfg.read('eikon.cfg')  # adjust for different file location"
   ]
  },
  {
   "cell_type": "code",
   "execution_count": 7,
   "metadata": {},
   "outputs": [],
   "source": [
    "import eikon as ek\n",
    "ek.set_app_key('0ed6a35e0937415eab446d3375bca7cf671d6b4c')"
   ]
  },
  {
   "cell_type": "markdown",
   "metadata": {},
   "source": [
    "## Functions"
   ]
  },
  {
   "cell_type": "markdown",
   "metadata": {},
   "source": [
    "The Python function `help()` can be used to look up the **help texts** for all elements of the Python wrapper package."
   ]
  },
  {
   "cell_type": "code",
   "execution_count": 8,
   "metadata": {},
   "outputs": [
    {
     "output_type": "stream",
     "name": "stdout",
     "text": "Help on package eikon:\n\nNAME\n    eikon - # coding: utf-8\n\nPACKAGE CONTENTS\n    Profile\n    data_grid\n    eikonError\n    json_requests\n    news_request\n    streaming_session (package)\n    symbology\n    time_series\n    tools\n\nSUBMODULES\n    cache\n    desktop_session\n    istream_callback\n    itemstream\n    session\n    stream\n    stream_connection\n    streamingprice\n    streamingprice_callback\n    streamingprices\n\nVERSION\n    1.1.2\n\nFILE\n    c:\\anacondaenvs\\envs\\py37\\lib\\site-packages\\eikon\\__init__.py\n\n\n"
    }
   ],
   "source": [
    "help(ek)"
   ]
  },
  {
   "cell_type": "markdown",
   "metadata": {},
   "source": [
    "In addition, from within Jupyter Notebook, for example, you can use **tab completion** to look up available functionality:"
   ]
  },
  {
   "cell_type": "code",
   "execution_count": null,
   "metadata": {},
   "outputs": [],
   "source": [
    "# ek.  # uncomment & place cursor behind dot, then press the tab key"
   ]
  },
  {
   "cell_type": "markdown",
   "metadata": {},
   "source": [
    "What you see should look similar to this screenshot:\n",
    "\n",
    "<img src=\"eikon_tab_completion.png\" width=\"45%\" align=\"left\">"
   ]
  },
  {
   "cell_type": "markdown",
   "metadata": {},
   "source": [
    "The `eikon` package provides the following **basic functions** to interact with the Eikon Data API and to retrieve data of different types:\n",
    "\n",
    "* `ek.get_symbology()`: converting symbology types\n",
    "* `ek.get_data()`: retrieve historical data\n",
    "* `ek.get_timeseries()`: retrieve historical time series data\n",
    "* `ek.get_news_headlines()`: retrieve news headlines\n",
    "* `ek.get_news_story()`: retrieve full news texts"
   ]
  },
  {
   "cell_type": "markdown",
   "metadata": {},
   "source": [
    "## `ek.get_symbology()`"
   ]
  },
  {
   "cell_type": "markdown",
   "metadata": {},
   "source": [
    "The function `ek.get_symbology()` allows you to **convert symbols** from one symbology type to another."
   ]
  },
  {
   "cell_type": "code",
   "execution_count": 9,
   "metadata": {},
   "outputs": [
    {
     "output_type": "stream",
     "name": "stdout",
     "text": "Help on function get_symbology in module eikon.symbology:\n\nget_symbology(symbol, from_symbol_type='RIC', to_symbol_type=None, raw_output=False, debug=False, bestMatch=True)\n    Returns a list of instrument names converted into another instrument code.\n    For example: convert SEDOL instrument names to RIC names\n    \n    Parameters\n    ----------\n    symbol: string or list of strings\n        Single instrument or list of instruments to convert.\n    \n    from_symbol_type: string\n        Instrument code to convert from.\n        Possible values: 'CUSIP', 'ISIN', 'SEDOL', 'RIC', 'ticker', 'lipperID', 'IMO'\n        Default: 'RIC'\n    \n    to_symbol_type: string or list\n        Instrument code to convert to.\n        Possible values: 'CUSIP', 'ISIN', 'SEDOL', 'RIC', 'ticker', 'lipperID', 'IMO', 'OAPermID'\n        Default: None  (means all symbol types are requested)\n    \n    raw_output: boolean, optional\n        Set this parameter to True to get the data in json format\n        if set to False, the function will return a data frame\n        Default: False\n    \n    debug: boolean, optional\n        When set to True, the json request and response are printed.\n        Default: False\n    \n    bestMatch: boolean, optional\n        When set to True, only primary symbol is requested.\n        When set to false, all symbols are requested\n        Default: True\n    \n    Returns\n    -------\n        If raw_output is set to True, the data will be returned in the json format.\n        If raw_output is False (default value) the data will be returned as a pandas.DataFrame\n    \n        pandas.DataFrame content:\n            - columns : Symbol types\n            - rows : Symbol requested\n            - cells : the symbols (None if not found)\n            - symbol : The requested symbol\n    \n    Raises\n    ------\n        Exception\n            If request fails or if server returns an error\n    \n        ValueError\n            If a parameter type or value is wrong\n    \n    Examples\n    --------\n    >>> import eikon as ek\n    >>> ek.set_app_key('set your app key here')\n    >>> ISIN_codes = ek.get_symbology([\"MSFT.O\", \"GOOG.O\", \"IBM.N\"], from_symbol_type=\"RIC\", to_symbol_type=\"ISIN\")\n    >>> ISIN_codes\n                    ISIN\n    MSFT.O  US5949181045\n    GOOG.O  US02079K1079\n    IBM.N   US4592001014\n\n"
    }
   ],
   "source": [
    "help(ek.get_symbology)"
   ]
  },
  {
   "cell_type": "markdown",
   "metadata": {},
   "source": [
    "Assume the following set of `RICs`."
   ]
  },
  {
   "cell_type": "code",
   "execution_count": 11,
   "metadata": {},
   "outputs": [],
   "source": [
    "rics = [\n",
    "    'AAPL.O',  # Apple stock\n",
    "    'AMZN.O',  # Amazon stock\n",
    "    'TSLA.O',  # Tesla stock\n",
    "    '.SPX',  # S&P 500 stock index\n",
    "]"
   ]
  },
  {
   "cell_type": "markdown",
   "metadata": {},
   "source": [
    "The **conversion** works as follows:"
   ]
  },
  {
   "cell_type": "code",
   "execution_count": 12,
   "metadata": {},
   "outputs": [],
   "source": [
    "isin = ek.get_symbology(rics, from_symbol_type='RIC', to_symbol_type='ISIN')"
   ]
  },
  {
   "cell_type": "code",
   "execution_count": 13,
   "metadata": {},
   "outputs": [
    {
     "output_type": "execute_result",
     "data": {
      "text/plain": "                ISIN\nAAPL.O  US0378331005\nAMZN.O  US0231351067\nTSLA.O  US88160R1014\n.SPX    US78378X1072",
      "text/html": "<div>\n<style scoped>\n    .dataframe tbody tr th:only-of-type {\n        vertical-align: middle;\n    }\n\n    .dataframe tbody tr th {\n        vertical-align: top;\n    }\n\n    .dataframe thead th {\n        text-align: right;\n    }\n</style>\n<table border=\"1\" class=\"dataframe\">\n  <thead>\n    <tr style=\"text-align: right;\">\n      <th></th>\n      <th>ISIN</th>\n    </tr>\n  </thead>\n  <tbody>\n    <tr>\n      <th>AAPL.O</th>\n      <td>US0378331005</td>\n    </tr>\n    <tr>\n      <th>AMZN.O</th>\n      <td>US0231351067</td>\n    </tr>\n    <tr>\n      <th>TSLA.O</th>\n      <td>US88160R1014</td>\n    </tr>\n    <tr>\n      <th>.SPX</th>\n      <td>US78378X1072</td>\n    </tr>\n  </tbody>\n</table>\n</div>"
     },
     "metadata": {},
     "execution_count": 13
    }
   ],
   "source": [
    "isin"
   ]
  },
  {
   "cell_type": "markdown",
   "metadata": {},
   "source": [
    "And also the other way round, after a conversion of data structures:"
   ]
  },
  {
   "cell_type": "code",
   "execution_count": 14,
   "metadata": {},
   "outputs": [],
   "source": [
    "isins = list(isin['ISIN'].values)"
   ]
  },
  {
   "cell_type": "code",
   "execution_count": 15,
   "metadata": {},
   "outputs": [
    {
     "output_type": "execute_result",
     "data": {
      "text/plain": "['US0378331005', 'US0231351067', 'US88160R1014', 'US78378X1072']"
     },
     "metadata": {},
     "execution_count": 15
    }
   ],
   "source": [
    "isins"
   ]
  },
  {
   "cell_type": "code",
   "execution_count": 16,
   "metadata": {},
   "outputs": [
    {
     "output_type": "execute_result",
     "data": {
      "text/plain": "                 RIC\nUS0378331005  AAPL.O\nUS0231351067  AMZN.O\nUS88160R1014  TSLA.O\nUS78378X1072    .SPX",
      "text/html": "<div>\n<style scoped>\n    .dataframe tbody tr th:only-of-type {\n        vertical-align: middle;\n    }\n\n    .dataframe tbody tr th {\n        vertical-align: top;\n    }\n\n    .dataframe thead th {\n        text-align: right;\n    }\n</style>\n<table border=\"1\" class=\"dataframe\">\n  <thead>\n    <tr style=\"text-align: right;\">\n      <th></th>\n      <th>RIC</th>\n    </tr>\n  </thead>\n  <tbody>\n    <tr>\n      <th>US0378331005</th>\n      <td>AAPL.O</td>\n    </tr>\n    <tr>\n      <th>US0231351067</th>\n      <td>AMZN.O</td>\n    </tr>\n    <tr>\n      <th>US88160R1014</th>\n      <td>TSLA.O</td>\n    </tr>\n    <tr>\n      <th>US78378X1072</th>\n      <td>.SPX</td>\n    </tr>\n  </tbody>\n</table>\n</div>"
     },
     "metadata": {},
     "execution_count": 16
    }
   ],
   "source": [
    "ek.get_symbology(isins, from_symbol_type='ISIN', to_symbol_type='RIC')"
   ]
  },
  {
   "cell_type": "markdown",
   "metadata": {},
   "source": [
    "## `ek.get_data()`"
   ]
  },
  {
   "cell_type": "markdown",
   "metadata": {},
   "source": [
    "The function `ek.get_data()` is a **general purpose data retrieval** function."
   ]
  },
  {
   "cell_type": "code",
   "execution_count": 17,
   "metadata": {},
   "outputs": [
    {
     "output_type": "stream",
     "name": "stdout",
     "text": "Help on function get_data in module eikon.data_grid:\n\nget_data(instruments, fields, parameters=None, field_name=False, raw_output=False, debug=False)\n    Returns a pandas.DataFrame with fields in columns and instruments as row index\n    \n    Parameters\n    ----------\n    instruments: string or list\n        Single instrument or list of instruments to request.\n    \n    fields: string, dictionary or list of strings and/or dictionaries.\n        List of fields to request.\n    \n        Examples:\n    \n        - 'TR.PriceClose'\n        - {'TR.GrossProfit': { 'params':{ 'Scale': 6, 'Curn': 'EUR' }}\n        - {'TR.GrossProfit': { 'params':{ 'Scale': 6, 'Curn': 'EUR' },sort_dir:'desc'}\n        - ['TR.PriceClose','TR.PriceOpen']\n        - [{'TR.PriceClose':  {'sort_dir':asc,sort_priority:1}},{'TR.PriceOpen':  {'sort_dir':asc,sort_priority:0}}\n        \n        You can use the function TR_Field to build the fields:\n    \n        >>> fields = [ek.TR_Field('tr.revenue'),ek.TR_Field('tr.open','asc',1),ek.TR_Field('TR.GrossProfit',{'Scale': 6, 'Curn': 'EUR'},'asc',0)]\n        >>> data, err = ek.get_data([\"IBM\",\"MSFT.O\"],fields)\n       \n        Tips:\n        You can launch the Data Item Browser to discover fields and parameters,\n        or copy field names and parameters from TR Eikon - MS Office formulas\n    \n    parameters: string or dictionary, optional\n        Single global parameter key=value or dictionary of global parameters to request.\n    \n        Default: None\n    \n    field_name: boolean, optional\n        Define if column headers are filled with field name or display names.\n    \n        If True value, field names will ube used as column headers. Otherwise, the full display name will be used.\n    \n        Default: False\n    \n    raw_output: boolean, optional\n        By default the output is a pandas.DataFrame.\n    \n        Set raw_output=True to get data in Json format.\n    \n        Default: False\n    \n    debug: boolean, optional\n        When set to True, the json request and response are printed. Default value is False\n    \n    Returns\n    -------\n        pandas.DataFrame\n            Returns pandas.DataFrame with fields in columns and instruments as row index\n    \n        errors\n            Returns a list of errors\n    \n    Raises\n    ----------\n        Exception\n            If http request fails or if server returns an error.\n    \n        ValueError\n            If a parameter type or value is wrong.\n    \n    Examples\n    --------\n    >>> import eikon as ek\n    >>> ek.set_app_key('set your app key here')\n    >>> data, err = ek.get_data([\"IBM\", \"GOOG.O\", \"MSFT.O\"], [\"TR.PriceClose\", \"TR.Volume\", \"TR.PriceLow\"])\n    >>> data, err = ek.get_data(\"IBM\", ['TR.Employees', {'TR.GrossProfit':{'params':{'Scale': 6, 'Curn': 'EUR'},'sort_dir':'asc'}}])\n    >>> fields = [ek.TR_Field('tr.revenue'),ek.TR_Field('tr.open',None,'asc',1),ek.TR_Field('TR.GrossProfit',{'Scale': 6, 'Curn': 'EUR'},'asc',0)]\n    >>> data, err = ek.get_data([\"IBM\",\"MSFT.O\"],fields)\n\n"
    }
   ],
   "source": [
    "help(ek.get_data)"
   ]
  },
  {
   "cell_type": "code",
   "execution_count": 18,
   "metadata": {},
   "outputs": [],
   "source": [
    "data_grid, err = ek.get_data(['IBM', 'GOOG.O', 'MSFT.O'],\n",
    "                             ['TR.TotalReturnYTD', 'TR.WACCBeta', 'YRHIGH', 'YRLOW'])"
   ]
  },
  {
   "cell_type": "code",
   "execution_count": 19,
   "metadata": {},
   "outputs": [
    {
     "output_type": "execute_result",
     "data": {
      "text/plain": "  Instrument  YTD Total Return      Beta     YRHIGH      YRLOW\n0        IBM         -5.970579  1.289669   158.7500    90.5600\n1     GOOG.O         -4.316315  1.034526  1532.1063  1013.5361\n2     MSFT.O         10.986261  0.950900   190.7000   119.0100",
      "text/html": "<div>\n<style scoped>\n    .dataframe tbody tr th:only-of-type {\n        vertical-align: middle;\n    }\n\n    .dataframe tbody tr th {\n        vertical-align: top;\n    }\n\n    .dataframe thead th {\n        text-align: right;\n    }\n</style>\n<table border=\"1\" class=\"dataframe\">\n  <thead>\n    <tr style=\"text-align: right;\">\n      <th></th>\n      <th>Instrument</th>\n      <th>YTD Total Return</th>\n      <th>Beta</th>\n      <th>YRHIGH</th>\n      <th>YRLOW</th>\n    </tr>\n  </thead>\n  <tbody>\n    <tr>\n      <th>0</th>\n      <td>IBM</td>\n      <td>-5.970579</td>\n      <td>1.289669</td>\n      <td>158.7500</td>\n      <td>90.5600</td>\n    </tr>\n    <tr>\n      <th>1</th>\n      <td>GOOG.O</td>\n      <td>-4.316315</td>\n      <td>1.034526</td>\n      <td>1532.1063</td>\n      <td>1013.5361</td>\n    </tr>\n    <tr>\n      <th>2</th>\n      <td>MSFT.O</td>\n      <td>10.986261</td>\n      <td>0.950900</td>\n      <td>190.7000</td>\n      <td>119.0100</td>\n    </tr>\n  </tbody>\n</table>\n</div>"
     },
     "metadata": {},
     "execution_count": 19
    }
   ],
   "source": [
    "data_grid"
   ]
  },
  {
   "cell_type": "code",
   "execution_count": 20,
   "metadata": {},
   "outputs": [
    {
     "output_type": "display_data",
     "data": {
      "application/vnd.plotly.v1+json": {
       "config": {
        "linkText": "Export to plot.ly",
        "plotlyServerURL": "https://plot.ly",
        "showLink": true
       },
       "data": [
        {
         "marker": {
          "color": "rgba(255, 153, 51, 0.6)",
          "line": {
           "color": "rgba(255, 153, 51, 1.0)",
           "width": 1
          }
         },
         "name": "YTD Total Return",
         "orientation": "v",
         "text": "",
         "type": "bar",
         "x": [
          "IBM",
          "GOOG.O",
          "MSFT.O"
         ],
         "xaxis": "x",
         "y": [
          -5.9705793826293005,
          -4.31631539209759,
          10.9862610849552
         ],
         "yaxis": "y"
        },
        {
         "marker": {
          "color": "rgba(55, 128, 191, 0.6)",
          "line": {
           "color": "rgba(55, 128, 191, 1.0)",
           "width": 1
          }
         },
         "name": "Beta",
         "orientation": "v",
         "text": "",
         "type": "bar",
         "x": [
          "IBM",
          "GOOG.O",
          "MSFT.O"
         ],
         "xaxis": "x2",
         "y": [
          1.28966883037316,
          1.03452610842741,
          0.950899691291989
         ],
         "yaxis": "y2"
        }
       ],
       "layout": {
        "legend": {
         "bgcolor": "#F5F6F9",
         "font": {
          "color": "#4D5663"
         }
        },
        "paper_bgcolor": "#F5F6F9",
        "plot_bgcolor": "#F5F6F9",
        "template": {
         "data": {
          "bar": [
           {
            "error_x": {
             "color": "#2a3f5f"
            },
            "error_y": {
             "color": "#2a3f5f"
            },
            "marker": {
             "line": {
              "color": "#E5ECF6",
              "width": 0.5
             }
            },
            "type": "bar"
           }
          ],
          "barpolar": [
           {
            "marker": {
             "line": {
              "color": "#E5ECF6",
              "width": 0.5
             }
            },
            "type": "barpolar"
           }
          ],
          "carpet": [
           {
            "aaxis": {
             "endlinecolor": "#2a3f5f",
             "gridcolor": "white",
             "linecolor": "white",
             "minorgridcolor": "white",
             "startlinecolor": "#2a3f5f"
            },
            "baxis": {
             "endlinecolor": "#2a3f5f",
             "gridcolor": "white",
             "linecolor": "white",
             "minorgridcolor": "white",
             "startlinecolor": "#2a3f5f"
            },
            "type": "carpet"
           }
          ],
          "choropleth": [
           {
            "colorbar": {
             "outlinewidth": 0,
             "ticks": ""
            },
            "type": "choropleth"
           }
          ],
          "contour": [
           {
            "colorbar": {
             "outlinewidth": 0,
             "ticks": ""
            },
            "colorscale": [
             [
              0,
              "#0d0887"
             ],
             [
              0.1111111111111111,
              "#46039f"
             ],
             [
              0.2222222222222222,
              "#7201a8"
             ],
             [
              0.3333333333333333,
              "#9c179e"
             ],
             [
              0.4444444444444444,
              "#bd3786"
             ],
             [
              0.5555555555555556,
              "#d8576b"
             ],
             [
              0.6666666666666666,
              "#ed7953"
             ],
             [
              0.7777777777777778,
              "#fb9f3a"
             ],
             [
              0.8888888888888888,
              "#fdca26"
             ],
             [
              1,
              "#f0f921"
             ]
            ],
            "type": "contour"
           }
          ],
          "contourcarpet": [
           {
            "colorbar": {
             "outlinewidth": 0,
             "ticks": ""
            },
            "type": "contourcarpet"
           }
          ],
          "heatmap": [
           {
            "colorbar": {
             "outlinewidth": 0,
             "ticks": ""
            },
            "colorscale": [
             [
              0,
              "#0d0887"
             ],
             [
              0.1111111111111111,
              "#46039f"
             ],
             [
              0.2222222222222222,
              "#7201a8"
             ],
             [
              0.3333333333333333,
              "#9c179e"
             ],
             [
              0.4444444444444444,
              "#bd3786"
             ],
             [
              0.5555555555555556,
              "#d8576b"
             ],
             [
              0.6666666666666666,
              "#ed7953"
             ],
             [
              0.7777777777777778,
              "#fb9f3a"
             ],
             [
              0.8888888888888888,
              "#fdca26"
             ],
             [
              1,
              "#f0f921"
             ]
            ],
            "type": "heatmap"
           }
          ],
          "heatmapgl": [
           {
            "colorbar": {
             "outlinewidth": 0,
             "ticks": ""
            },
            "colorscale": [
             [
              0,
              "#0d0887"
             ],
             [
              0.1111111111111111,
              "#46039f"
             ],
             [
              0.2222222222222222,
              "#7201a8"
             ],
             [
              0.3333333333333333,
              "#9c179e"
             ],
             [
              0.4444444444444444,
              "#bd3786"
             ],
             [
              0.5555555555555556,
              "#d8576b"
             ],
             [
              0.6666666666666666,
              "#ed7953"
             ],
             [
              0.7777777777777778,
              "#fb9f3a"
             ],
             [
              0.8888888888888888,
              "#fdca26"
             ],
             [
              1,
              "#f0f921"
             ]
            ],
            "type": "heatmapgl"
           }
          ],
          "histogram": [
           {
            "marker": {
             "colorbar": {
              "outlinewidth": 0,
              "ticks": ""
             }
            },
            "type": "histogram"
           }
          ],
          "histogram2d": [
           {
            "colorbar": {
             "outlinewidth": 0,
             "ticks": ""
            },
            "colorscale": [
             [
              0,
              "#0d0887"
             ],
             [
              0.1111111111111111,
              "#46039f"
             ],
             [
              0.2222222222222222,
              "#7201a8"
             ],
             [
              0.3333333333333333,
              "#9c179e"
             ],
             [
              0.4444444444444444,
              "#bd3786"
             ],
             [
              0.5555555555555556,
              "#d8576b"
             ],
             [
              0.6666666666666666,
              "#ed7953"
             ],
             [
              0.7777777777777778,
              "#fb9f3a"
             ],
             [
              0.8888888888888888,
              "#fdca26"
             ],
             [
              1,
              "#f0f921"
             ]
            ],
            "type": "histogram2d"
           }
          ],
          "histogram2dcontour": [
           {
            "colorbar": {
             "outlinewidth": 0,
             "ticks": ""
            },
            "colorscale": [
             [
              0,
              "#0d0887"
             ],
             [
              0.1111111111111111,
              "#46039f"
             ],
             [
              0.2222222222222222,
              "#7201a8"
             ],
             [
              0.3333333333333333,
              "#9c179e"
             ],
             [
              0.4444444444444444,
              "#bd3786"
             ],
             [
              0.5555555555555556,
              "#d8576b"
             ],
             [
              0.6666666666666666,
              "#ed7953"
             ],
             [
              0.7777777777777778,
              "#fb9f3a"
             ],
             [
              0.8888888888888888,
              "#fdca26"
             ],
             [
              1,
              "#f0f921"
             ]
            ],
            "type": "histogram2dcontour"
           }
          ],
          "mesh3d": [
           {
            "colorbar": {
             "outlinewidth": 0,
             "ticks": ""
            },
            "type": "mesh3d"
           }
          ],
          "parcoords": [
           {
            "line": {
             "colorbar": {
              "outlinewidth": 0,
              "ticks": ""
             }
            },
            "type": "parcoords"
           }
          ],
          "pie": [
           {
            "automargin": true,
            "type": "pie"
           }
          ],
          "scatter": [
           {
            "marker": {
             "colorbar": {
              "outlinewidth": 0,
              "ticks": ""
             }
            },
            "type": "scatter"
           }
          ],
          "scatter3d": [
           {
            "line": {
             "colorbar": {
              "outlinewidth": 0,
              "ticks": ""
             }
            },
            "marker": {
             "colorbar": {
              "outlinewidth": 0,
              "ticks": ""
             }
            },
            "type": "scatter3d"
           }
          ],
          "scattercarpet": [
           {
            "marker": {
             "colorbar": {
              "outlinewidth": 0,
              "ticks": ""
             }
            },
            "type": "scattercarpet"
           }
          ],
          "scattergeo": [
           {
            "marker": {
             "colorbar": {
              "outlinewidth": 0,
              "ticks": ""
             }
            },
            "type": "scattergeo"
           }
          ],
          "scattergl": [
           {
            "marker": {
             "colorbar": {
              "outlinewidth": 0,
              "ticks": ""
             }
            },
            "type": "scattergl"
           }
          ],
          "scattermapbox": [
           {
            "marker": {
             "colorbar": {
              "outlinewidth": 0,
              "ticks": ""
             }
            },
            "type": "scattermapbox"
           }
          ],
          "scatterpolar": [
           {
            "marker": {
             "colorbar": {
              "outlinewidth": 0,
              "ticks": ""
             }
            },
            "type": "scatterpolar"
           }
          ],
          "scatterpolargl": [
           {
            "marker": {
             "colorbar": {
              "outlinewidth": 0,
              "ticks": ""
             }
            },
            "type": "scatterpolargl"
           }
          ],
          "scatterternary": [
           {
            "marker": {
             "colorbar": {
              "outlinewidth": 0,
              "ticks": ""
             }
            },
            "type": "scatterternary"
           }
          ],
          "surface": [
           {
            "colorbar": {
             "outlinewidth": 0,
             "ticks": ""
            },
            "colorscale": [
             [
              0,
              "#0d0887"
             ],
             [
              0.1111111111111111,
              "#46039f"
             ],
             [
              0.2222222222222222,
              "#7201a8"
             ],
             [
              0.3333333333333333,
              "#9c179e"
             ],
             [
              0.4444444444444444,
              "#bd3786"
             ],
             [
              0.5555555555555556,
              "#d8576b"
             ],
             [
              0.6666666666666666,
              "#ed7953"
             ],
             [
              0.7777777777777778,
              "#fb9f3a"
             ],
             [
              0.8888888888888888,
              "#fdca26"
             ],
             [
              1,
              "#f0f921"
             ]
            ],
            "type": "surface"
           }
          ],
          "table": [
           {
            "cells": {
             "fill": {
              "color": "#EBF0F8"
             },
             "line": {
              "color": "white"
             }
            },
            "header": {
             "fill": {
              "color": "#C8D4E3"
             },
             "line": {
              "color": "white"
             }
            },
            "type": "table"
           }
          ]
         },
         "layout": {
          "annotationdefaults": {
           "arrowcolor": "#2a3f5f",
           "arrowhead": 0,
           "arrowwidth": 1
          },
          "coloraxis": {
           "colorbar": {
            "outlinewidth": 0,
            "ticks": ""
           }
          },
          "colorscale": {
           "diverging": [
            [
             0,
             "#8e0152"
            ],
            [
             0.1,
             "#c51b7d"
            ],
            [
             0.2,
             "#de77ae"
            ],
            [
             0.3,
             "#f1b6da"
            ],
            [
             0.4,
             "#fde0ef"
            ],
            [
             0.5,
             "#f7f7f7"
            ],
            [
             0.6,
             "#e6f5d0"
            ],
            [
             0.7,
             "#b8e186"
            ],
            [
             0.8,
             "#7fbc41"
            ],
            [
             0.9,
             "#4d9221"
            ],
            [
             1,
             "#276419"
            ]
           ],
           "sequential": [
            [
             0,
             "#0d0887"
            ],
            [
             0.1111111111111111,
             "#46039f"
            ],
            [
             0.2222222222222222,
             "#7201a8"
            ],
            [
             0.3333333333333333,
             "#9c179e"
            ],
            [
             0.4444444444444444,
             "#bd3786"
            ],
            [
             0.5555555555555556,
             "#d8576b"
            ],
            [
             0.6666666666666666,
             "#ed7953"
            ],
            [
             0.7777777777777778,
             "#fb9f3a"
            ],
            [
             0.8888888888888888,
             "#fdca26"
            ],
            [
             1,
             "#f0f921"
            ]
           ],
           "sequentialminus": [
            [
             0,
             "#0d0887"
            ],
            [
             0.1111111111111111,
             "#46039f"
            ],
            [
             0.2222222222222222,
             "#7201a8"
            ],
            [
             0.3333333333333333,
             "#9c179e"
            ],
            [
             0.4444444444444444,
             "#bd3786"
            ],
            [
             0.5555555555555556,
             "#d8576b"
            ],
            [
             0.6666666666666666,
             "#ed7953"
            ],
            [
             0.7777777777777778,
             "#fb9f3a"
            ],
            [
             0.8888888888888888,
             "#fdca26"
            ],
            [
             1,
             "#f0f921"
            ]
           ]
          },
          "colorway": [
           "#636efa",
           "#EF553B",
           "#00cc96",
           "#ab63fa",
           "#FFA15A",
           "#19d3f3",
           "#FF6692",
           "#B6E880",
           "#FF97FF",
           "#FECB52"
          ],
          "font": {
           "color": "#2a3f5f"
          },
          "geo": {
           "bgcolor": "white",
           "lakecolor": "white",
           "landcolor": "#E5ECF6",
           "showlakes": true,
           "showland": true,
           "subunitcolor": "white"
          },
          "hoverlabel": {
           "align": "left"
          },
          "hovermode": "closest",
          "mapbox": {
           "style": "light"
          },
          "paper_bgcolor": "white",
          "plot_bgcolor": "#E5ECF6",
          "polar": {
           "angularaxis": {
            "gridcolor": "white",
            "linecolor": "white",
            "ticks": ""
           },
           "bgcolor": "#E5ECF6",
           "radialaxis": {
            "gridcolor": "white",
            "linecolor": "white",
            "ticks": ""
           }
          },
          "scene": {
           "xaxis": {
            "backgroundcolor": "#E5ECF6",
            "gridcolor": "white",
            "gridwidth": 2,
            "linecolor": "white",
            "showbackground": true,
            "ticks": "",
            "zerolinecolor": "white"
           },
           "yaxis": {
            "backgroundcolor": "#E5ECF6",
            "gridcolor": "white",
            "gridwidth": 2,
            "linecolor": "white",
            "showbackground": true,
            "ticks": "",
            "zerolinecolor": "white"
           },
           "zaxis": {
            "backgroundcolor": "#E5ECF6",
            "gridcolor": "white",
            "gridwidth": 2,
            "linecolor": "white",
            "showbackground": true,
            "ticks": "",
            "zerolinecolor": "white"
           }
          },
          "shapedefaults": {
           "line": {
            "color": "#2a3f5f"
           }
          },
          "ternary": {
           "aaxis": {
            "gridcolor": "white",
            "linecolor": "white",
            "ticks": ""
           },
           "baxis": {
            "gridcolor": "white",
            "linecolor": "white",
            "ticks": ""
           },
           "bgcolor": "#E5ECF6",
           "caxis": {
            "gridcolor": "white",
            "linecolor": "white",
            "ticks": ""
           }
          },
          "title": {
           "x": 0.05
          },
          "xaxis": {
           "automargin": true,
           "gridcolor": "white",
           "linecolor": "white",
           "ticks": "",
           "title": {
            "standoff": 15
           },
           "zerolinecolor": "white",
           "zerolinewidth": 2
          },
          "yaxis": {
           "automargin": true,
           "gridcolor": "white",
           "linecolor": "white",
           "ticks": "",
           "title": {
            "standoff": 15
           },
           "zerolinecolor": "white",
           "zerolinewidth": 2
          }
         }
        },
        "title": {
         "font": {
          "color": "#4D5663"
         }
        },
        "xaxis": {
         "anchor": "y",
         "domain": [
          0,
          0.45
         ],
         "gridcolor": "#E1E5ED",
         "showgrid": true,
         "tickfont": {
          "color": "#4D5663"
         },
         "title": {
          "font": {
           "color": "#4D5663"
          },
          "text": ""
         },
         "zerolinecolor": "#E1E5ED"
        },
        "xaxis2": {
         "anchor": "y2",
         "domain": [
          0.55,
          1
         ],
         "gridcolor": "#E1E5ED",
         "showgrid": true,
         "tickfont": {
          "color": "#4D5663"
         },
         "title": {
          "font": {
           "color": "#4D5663"
          },
          "text": ""
         },
         "zerolinecolor": "#E1E5ED"
        },
        "yaxis": {
         "anchor": "x",
         "domain": [
          0,
          1
         ],
         "gridcolor": "#E1E5ED",
         "showgrid": true,
         "tickfont": {
          "color": "#4D5663"
         },
         "title": {
          "font": {
           "color": "#4D5663"
          },
          "text": ""
         },
         "zerolinecolor": "#E1E5ED"
        },
        "yaxis2": {
         "anchor": "x2",
         "domain": [
          0,
          1
         ],
         "gridcolor": "#E1E5ED",
         "showgrid": true,
         "tickfont": {
          "color": "#4D5663"
         },
         "title": {
          "font": {
           "color": "#4D5663"
          },
          "text": ""
         },
         "zerolinecolor": "#E1E5ED"
        }
       }
      },
      "text/html": "<div>\n        \n        \n            <div id=\"61baa50c-2dda-49cb-adac-4b37fe4183ef\" class=\"plotly-graph-div\" style=\"height:525px; width:100%;\"></div>\n            <script type=\"text/javascript\">\n                require([\"plotly\"], function(Plotly) {\n                    window.PLOTLYENV=window.PLOTLYENV || {};\n                    window.PLOTLYENV.BASE_URL='https://plot.ly';\n                    \n                if (document.getElementById(\"61baa50c-2dda-49cb-adac-4b37fe4183ef\")) {\n                    Plotly.newPlot(\n                        '61baa50c-2dda-49cb-adac-4b37fe4183ef',\n                        [{\"marker\": {\"color\": \"rgba(255, 153, 51, 0.6)\", \"line\": {\"color\": \"rgba(255, 153, 51, 1.0)\", \"width\": 1}}, \"name\": \"YTD Total Return\", \"orientation\": \"v\", \"text\": \"\", \"type\": \"bar\", \"x\": [\"IBM\", \"GOOG.O\", \"MSFT.O\"], \"xaxis\": \"x\", \"y\": [-5.9705793826293005, -4.31631539209759, 10.9862610849552], \"yaxis\": \"y\"}, {\"marker\": {\"color\": \"rgba(55, 128, 191, 0.6)\", \"line\": {\"color\": \"rgba(55, 128, 191, 1.0)\", \"width\": 1}}, \"name\": \"Beta\", \"orientation\": \"v\", \"text\": \"\", \"type\": \"bar\", \"x\": [\"IBM\", \"GOOG.O\", \"MSFT.O\"], \"xaxis\": \"x2\", \"y\": [1.28966883037316, 1.03452610842741, 0.950899691291989], \"yaxis\": \"y2\"}],\n                        {\"legend\": {\"bgcolor\": \"#F5F6F9\", \"font\": {\"color\": \"#4D5663\"}}, \"paper_bgcolor\": \"#F5F6F9\", \"plot_bgcolor\": \"#F5F6F9\", \"template\": {\"data\": {\"bar\": [{\"error_x\": {\"color\": \"#2a3f5f\"}, \"error_y\": {\"color\": \"#2a3f5f\"}, \"marker\": {\"line\": {\"color\": \"#E5ECF6\", \"width\": 0.5}}, \"type\": \"bar\"}], \"barpolar\": [{\"marker\": {\"line\": {\"color\": \"#E5ECF6\", \"width\": 0.5}}, \"type\": \"barpolar\"}], \"carpet\": [{\"aaxis\": {\"endlinecolor\": \"#2a3f5f\", \"gridcolor\": \"white\", \"linecolor\": \"white\", \"minorgridcolor\": \"white\", \"startlinecolor\": \"#2a3f5f\"}, \"baxis\": {\"endlinecolor\": \"#2a3f5f\", \"gridcolor\": \"white\", \"linecolor\": \"white\", \"minorgridcolor\": \"white\", \"startlinecolor\": \"#2a3f5f\"}, \"type\": \"carpet\"}], \"choropleth\": [{\"colorbar\": {\"outlinewidth\": 0, \"ticks\": \"\"}, \"type\": \"choropleth\"}], \"contour\": [{\"colorbar\": {\"outlinewidth\": 0, \"ticks\": \"\"}, \"colorscale\": [[0.0, \"#0d0887\"], [0.1111111111111111, \"#46039f\"], [0.2222222222222222, \"#7201a8\"], [0.3333333333333333, \"#9c179e\"], [0.4444444444444444, \"#bd3786\"], [0.5555555555555556, \"#d8576b\"], [0.6666666666666666, \"#ed7953\"], [0.7777777777777778, \"#fb9f3a\"], [0.8888888888888888, \"#fdca26\"], [1.0, \"#f0f921\"]], \"type\": \"contour\"}], \"contourcarpet\": [{\"colorbar\": {\"outlinewidth\": 0, \"ticks\": \"\"}, \"type\": \"contourcarpet\"}], \"heatmap\": [{\"colorbar\": {\"outlinewidth\": 0, \"ticks\": \"\"}, \"colorscale\": [[0.0, \"#0d0887\"], [0.1111111111111111, \"#46039f\"], [0.2222222222222222, \"#7201a8\"], [0.3333333333333333, \"#9c179e\"], [0.4444444444444444, \"#bd3786\"], [0.5555555555555556, \"#d8576b\"], [0.6666666666666666, \"#ed7953\"], [0.7777777777777778, \"#fb9f3a\"], [0.8888888888888888, \"#fdca26\"], [1.0, \"#f0f921\"]], \"type\": \"heatmap\"}], \"heatmapgl\": [{\"colorbar\": {\"outlinewidth\": 0, \"ticks\": \"\"}, \"colorscale\": [[0.0, \"#0d0887\"], [0.1111111111111111, \"#46039f\"], [0.2222222222222222, \"#7201a8\"], [0.3333333333333333, \"#9c179e\"], [0.4444444444444444, \"#bd3786\"], [0.5555555555555556, \"#d8576b\"], [0.6666666666666666, \"#ed7953\"], [0.7777777777777778, \"#fb9f3a\"], [0.8888888888888888, \"#fdca26\"], [1.0, \"#f0f921\"]], \"type\": \"heatmapgl\"}], \"histogram\": [{\"marker\": {\"colorbar\": {\"outlinewidth\": 0, \"ticks\": \"\"}}, \"type\": \"histogram\"}], \"histogram2d\": [{\"colorbar\": {\"outlinewidth\": 0, \"ticks\": \"\"}, \"colorscale\": [[0.0, \"#0d0887\"], [0.1111111111111111, \"#46039f\"], [0.2222222222222222, \"#7201a8\"], [0.3333333333333333, \"#9c179e\"], [0.4444444444444444, \"#bd3786\"], [0.5555555555555556, \"#d8576b\"], [0.6666666666666666, \"#ed7953\"], [0.7777777777777778, \"#fb9f3a\"], [0.8888888888888888, \"#fdca26\"], [1.0, \"#f0f921\"]], \"type\": \"histogram2d\"}], \"histogram2dcontour\": [{\"colorbar\": {\"outlinewidth\": 0, \"ticks\": \"\"}, \"colorscale\": [[0.0, \"#0d0887\"], [0.1111111111111111, \"#46039f\"], [0.2222222222222222, \"#7201a8\"], [0.3333333333333333, \"#9c179e\"], [0.4444444444444444, \"#bd3786\"], [0.5555555555555556, \"#d8576b\"], [0.6666666666666666, \"#ed7953\"], [0.7777777777777778, \"#fb9f3a\"], [0.8888888888888888, \"#fdca26\"], [1.0, \"#f0f921\"]], \"type\": \"histogram2dcontour\"}], \"mesh3d\": [{\"colorbar\": {\"outlinewidth\": 0, \"ticks\": \"\"}, \"type\": \"mesh3d\"}], \"parcoords\": [{\"line\": {\"colorbar\": {\"outlinewidth\": 0, \"ticks\": \"\"}}, \"type\": \"parcoords\"}], \"pie\": [{\"automargin\": true, \"type\": \"pie\"}], \"scatter\": [{\"marker\": {\"colorbar\": {\"outlinewidth\": 0, \"ticks\": \"\"}}, \"type\": \"scatter\"}], \"scatter3d\": [{\"line\": {\"colorbar\": {\"outlinewidth\": 0, \"ticks\": \"\"}}, \"marker\": {\"colorbar\": {\"outlinewidth\": 0, \"ticks\": \"\"}}, \"type\": \"scatter3d\"}], \"scattercarpet\": [{\"marker\": {\"colorbar\": {\"outlinewidth\": 0, \"ticks\": \"\"}}, \"type\": \"scattercarpet\"}], \"scattergeo\": [{\"marker\": {\"colorbar\": {\"outlinewidth\": 0, \"ticks\": \"\"}}, \"type\": \"scattergeo\"}], \"scattergl\": [{\"marker\": {\"colorbar\": {\"outlinewidth\": 0, \"ticks\": \"\"}}, \"type\": \"scattergl\"}], \"scattermapbox\": [{\"marker\": {\"colorbar\": {\"outlinewidth\": 0, \"ticks\": \"\"}}, \"type\": \"scattermapbox\"}], \"scatterpolar\": [{\"marker\": {\"colorbar\": {\"outlinewidth\": 0, \"ticks\": \"\"}}, \"type\": \"scatterpolar\"}], \"scatterpolargl\": [{\"marker\": {\"colorbar\": {\"outlinewidth\": 0, \"ticks\": \"\"}}, \"type\": \"scatterpolargl\"}], \"scatterternary\": [{\"marker\": {\"colorbar\": {\"outlinewidth\": 0, \"ticks\": \"\"}}, \"type\": \"scatterternary\"}], \"surface\": [{\"colorbar\": {\"outlinewidth\": 0, \"ticks\": \"\"}, \"colorscale\": [[0.0, \"#0d0887\"], [0.1111111111111111, \"#46039f\"], [0.2222222222222222, \"#7201a8\"], [0.3333333333333333, \"#9c179e\"], [0.4444444444444444, \"#bd3786\"], [0.5555555555555556, \"#d8576b\"], [0.6666666666666666, \"#ed7953\"], [0.7777777777777778, \"#fb9f3a\"], [0.8888888888888888, \"#fdca26\"], [1.0, \"#f0f921\"]], \"type\": \"surface\"}], \"table\": [{\"cells\": {\"fill\": {\"color\": \"#EBF0F8\"}, \"line\": {\"color\": \"white\"}}, \"header\": {\"fill\": {\"color\": \"#C8D4E3\"}, \"line\": {\"color\": \"white\"}}, \"type\": \"table\"}]}, \"layout\": {\"annotationdefaults\": {\"arrowcolor\": \"#2a3f5f\", \"arrowhead\": 0, \"arrowwidth\": 1}, \"coloraxis\": {\"colorbar\": {\"outlinewidth\": 0, \"ticks\": \"\"}}, \"colorscale\": {\"diverging\": [[0, \"#8e0152\"], [0.1, \"#c51b7d\"], [0.2, \"#de77ae\"], [0.3, \"#f1b6da\"], [0.4, \"#fde0ef\"], [0.5, \"#f7f7f7\"], [0.6, \"#e6f5d0\"], [0.7, \"#b8e186\"], [0.8, \"#7fbc41\"], [0.9, \"#4d9221\"], [1, \"#276419\"]], \"sequential\": [[0.0, \"#0d0887\"], [0.1111111111111111, \"#46039f\"], [0.2222222222222222, \"#7201a8\"], [0.3333333333333333, \"#9c179e\"], [0.4444444444444444, \"#bd3786\"], [0.5555555555555556, \"#d8576b\"], [0.6666666666666666, \"#ed7953\"], [0.7777777777777778, \"#fb9f3a\"], [0.8888888888888888, \"#fdca26\"], [1.0, \"#f0f921\"]], \"sequentialminus\": [[0.0, \"#0d0887\"], [0.1111111111111111, \"#46039f\"], [0.2222222222222222, \"#7201a8\"], [0.3333333333333333, \"#9c179e\"], [0.4444444444444444, \"#bd3786\"], [0.5555555555555556, \"#d8576b\"], [0.6666666666666666, \"#ed7953\"], [0.7777777777777778, \"#fb9f3a\"], [0.8888888888888888, \"#fdca26\"], [1.0, \"#f0f921\"]]}, \"colorway\": [\"#636efa\", \"#EF553B\", \"#00cc96\", \"#ab63fa\", \"#FFA15A\", \"#19d3f3\", \"#FF6692\", \"#B6E880\", \"#FF97FF\", \"#FECB52\"], \"font\": {\"color\": \"#2a3f5f\"}, \"geo\": {\"bgcolor\": \"white\", \"lakecolor\": \"white\", \"landcolor\": \"#E5ECF6\", \"showlakes\": true, \"showland\": true, \"subunitcolor\": \"white\"}, \"hoverlabel\": {\"align\": \"left\"}, \"hovermode\": \"closest\", \"mapbox\": {\"style\": \"light\"}, \"paper_bgcolor\": \"white\", \"plot_bgcolor\": \"#E5ECF6\", \"polar\": {\"angularaxis\": {\"gridcolor\": \"white\", \"linecolor\": \"white\", \"ticks\": \"\"}, \"bgcolor\": \"#E5ECF6\", \"radialaxis\": {\"gridcolor\": \"white\", \"linecolor\": \"white\", \"ticks\": \"\"}}, \"scene\": {\"xaxis\": {\"backgroundcolor\": \"#E5ECF6\", \"gridcolor\": \"white\", \"gridwidth\": 2, \"linecolor\": \"white\", \"showbackground\": true, \"ticks\": \"\", \"zerolinecolor\": \"white\"}, \"yaxis\": {\"backgroundcolor\": \"#E5ECF6\", \"gridcolor\": \"white\", \"gridwidth\": 2, \"linecolor\": \"white\", \"showbackground\": true, \"ticks\": \"\", \"zerolinecolor\": \"white\"}, \"zaxis\": {\"backgroundcolor\": \"#E5ECF6\", \"gridcolor\": \"white\", \"gridwidth\": 2, \"linecolor\": \"white\", \"showbackground\": true, \"ticks\": \"\", \"zerolinecolor\": \"white\"}}, \"shapedefaults\": {\"line\": {\"color\": \"#2a3f5f\"}}, \"ternary\": {\"aaxis\": {\"gridcolor\": \"white\", \"linecolor\": \"white\", \"ticks\": \"\"}, \"baxis\": {\"gridcolor\": \"white\", \"linecolor\": \"white\", \"ticks\": \"\"}, \"bgcolor\": \"#E5ECF6\", \"caxis\": {\"gridcolor\": \"white\", \"linecolor\": \"white\", \"ticks\": \"\"}}, \"title\": {\"x\": 0.05}, \"xaxis\": {\"automargin\": true, \"gridcolor\": \"white\", \"linecolor\": \"white\", \"ticks\": \"\", \"title\": {\"standoff\": 15}, \"zerolinecolor\": \"white\", \"zerolinewidth\": 2}, \"yaxis\": {\"automargin\": true, \"gridcolor\": \"white\", \"linecolor\": \"white\", \"ticks\": \"\", \"title\": {\"standoff\": 15}, \"zerolinecolor\": \"white\", \"zerolinewidth\": 2}}}, \"title\": {\"font\": {\"color\": \"#4D5663\"}}, \"xaxis\": {\"anchor\": \"y\", \"domain\": [0.0, 0.45], \"gridcolor\": \"#E1E5ED\", \"showgrid\": true, \"tickfont\": {\"color\": \"#4D5663\"}, \"title\": {\"font\": {\"color\": \"#4D5663\"}, \"text\": \"\"}, \"zerolinecolor\": \"#E1E5ED\"}, \"xaxis2\": {\"anchor\": \"y2\", \"domain\": [0.55, 1.0], \"gridcolor\": \"#E1E5ED\", \"showgrid\": true, \"tickfont\": {\"color\": \"#4D5663\"}, \"title\": {\"font\": {\"color\": \"#4D5663\"}, \"text\": \"\"}, \"zerolinecolor\": \"#E1E5ED\"}, \"yaxis\": {\"anchor\": \"x\", \"domain\": [0.0, 1.0], \"gridcolor\": \"#E1E5ED\", \"showgrid\": true, \"tickfont\": {\"color\": \"#4D5663\"}, \"title\": {\"font\": {\"color\": \"#4D5663\"}, \"text\": \"\"}, \"zerolinecolor\": \"#E1E5ED\"}, \"yaxis2\": {\"anchor\": \"x2\", \"domain\": [0.0, 1.0], \"gridcolor\": \"#E1E5ED\", \"showgrid\": true, \"tickfont\": {\"color\": \"#4D5663\"}, \"title\": {\"font\": {\"color\": \"#4D5663\"}, \"text\": \"\"}, \"zerolinecolor\": \"#E1E5ED\"}},\n                        {\"showLink\": true, \"linkText\": \"Export to plot.ly\", \"plotlyServerURL\": \"https://plot.ly\", \"responsive\": true}\n                    ).then(function(){\n                            \nvar gd = document.getElementById('61baa50c-2dda-49cb-adac-4b37fe4183ef');\nvar x = new MutationObserver(function (mutations, observer) {{\n        var display = window.getComputedStyle(gd).display;\n        if (!display || display === 'none') {{\n            console.log([gd, 'removed!']);\n            Plotly.purge(gd);\n            observer.disconnect();\n        }}\n}});\n\n// Listen for the removal of the full notebook cells\nvar notebookContainer = gd.closest('#notebook-container');\nif (notebookContainer) {{\n    x.observe(notebookContainer, {childList: true});\n}}\n\n// Listen for the clearing of the current output cell\nvar outputEl = gd.closest('.output');\nif (outputEl) {{\n    x.observe(outputEl, {childList: true});\n}}\n\n                        })\n                };\n                });\n            </script>\n        </div>"
     },
     "metadata": {}
    }
   ],
   "source": [
    "data_grid.set_index('Instrument')[['YTD Total Return', 'Beta']].iplot(\n",
    "                    kind='bar', subplots=True)"
   ]
  },
  {
   "cell_type": "code",
   "execution_count": 21,
   "metadata": {},
   "outputs": [
    {
     "output_type": "display_data",
     "data": {
      "application/vnd.plotly.v1+json": {
       "config": {
        "linkText": "Export to plot.ly",
        "plotlyServerURL": "https://plot.ly",
        "showLink": true
       },
       "data": [
        {
         "marker": {
          "color": "rgba(255, 153, 51, 0.6)",
          "line": {
           "color": "rgba(255, 153, 51, 1.0)",
           "width": 1
          }
         },
         "name": "YRHIGH",
         "orientation": "v",
         "text": "",
         "type": "bar",
         "x": [
          "IBM",
          "GOOG.O",
          "MSFT.O"
         ],
         "y": [
          158.75,
          1532.1063,
          190.7
         ]
        },
        {
         "marker": {
          "color": "rgba(55, 128, 191, 0.6)",
          "line": {
           "color": "rgba(55, 128, 191, 1.0)",
           "width": 1
          }
         },
         "name": "YRLOW",
         "orientation": "v",
         "text": "",
         "type": "bar",
         "x": [
          "IBM",
          "GOOG.O",
          "MSFT.O"
         ],
         "y": [
          90.56,
          1013.5361,
          119.01
         ]
        }
       ],
       "layout": {
        "legend": {
         "bgcolor": "#F5F6F9",
         "font": {
          "color": "#4D5663"
         }
        },
        "paper_bgcolor": "#F5F6F9",
        "plot_bgcolor": "#F5F6F9",
        "template": {
         "data": {
          "bar": [
           {
            "error_x": {
             "color": "#2a3f5f"
            },
            "error_y": {
             "color": "#2a3f5f"
            },
            "marker": {
             "line": {
              "color": "#E5ECF6",
              "width": 0.5
             }
            },
            "type": "bar"
           }
          ],
          "barpolar": [
           {
            "marker": {
             "line": {
              "color": "#E5ECF6",
              "width": 0.5
             }
            },
            "type": "barpolar"
           }
          ],
          "carpet": [
           {
            "aaxis": {
             "endlinecolor": "#2a3f5f",
             "gridcolor": "white",
             "linecolor": "white",
             "minorgridcolor": "white",
             "startlinecolor": "#2a3f5f"
            },
            "baxis": {
             "endlinecolor": "#2a3f5f",
             "gridcolor": "white",
             "linecolor": "white",
             "minorgridcolor": "white",
             "startlinecolor": "#2a3f5f"
            },
            "type": "carpet"
           }
          ],
          "choropleth": [
           {
            "colorbar": {
             "outlinewidth": 0,
             "ticks": ""
            },
            "type": "choropleth"
           }
          ],
          "contour": [
           {
            "colorbar": {
             "outlinewidth": 0,
             "ticks": ""
            },
            "colorscale": [
             [
              0,
              "#0d0887"
             ],
             [
              0.1111111111111111,
              "#46039f"
             ],
             [
              0.2222222222222222,
              "#7201a8"
             ],
             [
              0.3333333333333333,
              "#9c179e"
             ],
             [
              0.4444444444444444,
              "#bd3786"
             ],
             [
              0.5555555555555556,
              "#d8576b"
             ],
             [
              0.6666666666666666,
              "#ed7953"
             ],
             [
              0.7777777777777778,
              "#fb9f3a"
             ],
             [
              0.8888888888888888,
              "#fdca26"
             ],
             [
              1,
              "#f0f921"
             ]
            ],
            "type": "contour"
           }
          ],
          "contourcarpet": [
           {
            "colorbar": {
             "outlinewidth": 0,
             "ticks": ""
            },
            "type": "contourcarpet"
           }
          ],
          "heatmap": [
           {
            "colorbar": {
             "outlinewidth": 0,
             "ticks": ""
            },
            "colorscale": [
             [
              0,
              "#0d0887"
             ],
             [
              0.1111111111111111,
              "#46039f"
             ],
             [
              0.2222222222222222,
              "#7201a8"
             ],
             [
              0.3333333333333333,
              "#9c179e"
             ],
             [
              0.4444444444444444,
              "#bd3786"
             ],
             [
              0.5555555555555556,
              "#d8576b"
             ],
             [
              0.6666666666666666,
              "#ed7953"
             ],
             [
              0.7777777777777778,
              "#fb9f3a"
             ],
             [
              0.8888888888888888,
              "#fdca26"
             ],
             [
              1,
              "#f0f921"
             ]
            ],
            "type": "heatmap"
           }
          ],
          "heatmapgl": [
           {
            "colorbar": {
             "outlinewidth": 0,
             "ticks": ""
            },
            "colorscale": [
             [
              0,
              "#0d0887"
             ],
             [
              0.1111111111111111,
              "#46039f"
             ],
             [
              0.2222222222222222,
              "#7201a8"
             ],
             [
              0.3333333333333333,
              "#9c179e"
             ],
             [
              0.4444444444444444,
              "#bd3786"
             ],
             [
              0.5555555555555556,
              "#d8576b"
             ],
             [
              0.6666666666666666,
              "#ed7953"
             ],
             [
              0.7777777777777778,
              "#fb9f3a"
             ],
             [
              0.8888888888888888,
              "#fdca26"
             ],
             [
              1,
              "#f0f921"
             ]
            ],
            "type": "heatmapgl"
           }
          ],
          "histogram": [
           {
            "marker": {
             "colorbar": {
              "outlinewidth": 0,
              "ticks": ""
             }
            },
            "type": "histogram"
           }
          ],
          "histogram2d": [
           {
            "colorbar": {
             "outlinewidth": 0,
             "ticks": ""
            },
            "colorscale": [
             [
              0,
              "#0d0887"
             ],
             [
              0.1111111111111111,
              "#46039f"
             ],
             [
              0.2222222222222222,
              "#7201a8"
             ],
             [
              0.3333333333333333,
              "#9c179e"
             ],
             [
              0.4444444444444444,
              "#bd3786"
             ],
             [
              0.5555555555555556,
              "#d8576b"
             ],
             [
              0.6666666666666666,
              "#ed7953"
             ],
             [
              0.7777777777777778,
              "#fb9f3a"
             ],
             [
              0.8888888888888888,
              "#fdca26"
             ],
             [
              1,
              "#f0f921"
             ]
            ],
            "type": "histogram2d"
           }
          ],
          "histogram2dcontour": [
           {
            "colorbar": {
             "outlinewidth": 0,
             "ticks": ""
            },
            "colorscale": [
             [
              0,
              "#0d0887"
             ],
             [
              0.1111111111111111,
              "#46039f"
             ],
             [
              0.2222222222222222,
              "#7201a8"
             ],
             [
              0.3333333333333333,
              "#9c179e"
             ],
             [
              0.4444444444444444,
              "#bd3786"
             ],
             [
              0.5555555555555556,
              "#d8576b"
             ],
             [
              0.6666666666666666,
              "#ed7953"
             ],
             [
              0.7777777777777778,
              "#fb9f3a"
             ],
             [
              0.8888888888888888,
              "#fdca26"
             ],
             [
              1,
              "#f0f921"
             ]
            ],
            "type": "histogram2dcontour"
           }
          ],
          "mesh3d": [
           {
            "colorbar": {
             "outlinewidth": 0,
             "ticks": ""
            },
            "type": "mesh3d"
           }
          ],
          "parcoords": [
           {
            "line": {
             "colorbar": {
              "outlinewidth": 0,
              "ticks": ""
             }
            },
            "type": "parcoords"
           }
          ],
          "pie": [
           {
            "automargin": true,
            "type": "pie"
           }
          ],
          "scatter": [
           {
            "marker": {
             "colorbar": {
              "outlinewidth": 0,
              "ticks": ""
             }
            },
            "type": "scatter"
           }
          ],
          "scatter3d": [
           {
            "line": {
             "colorbar": {
              "outlinewidth": 0,
              "ticks": ""
             }
            },
            "marker": {
             "colorbar": {
              "outlinewidth": 0,
              "ticks": ""
             }
            },
            "type": "scatter3d"
           }
          ],
          "scattercarpet": [
           {
            "marker": {
             "colorbar": {
              "outlinewidth": 0,
              "ticks": ""
             }
            },
            "type": "scattercarpet"
           }
          ],
          "scattergeo": [
           {
            "marker": {
             "colorbar": {
              "outlinewidth": 0,
              "ticks": ""
             }
            },
            "type": "scattergeo"
           }
          ],
          "scattergl": [
           {
            "marker": {
             "colorbar": {
              "outlinewidth": 0,
              "ticks": ""
             }
            },
            "type": "scattergl"
           }
          ],
          "scattermapbox": [
           {
            "marker": {
             "colorbar": {
              "outlinewidth": 0,
              "ticks": ""
             }
            },
            "type": "scattermapbox"
           }
          ],
          "scatterpolar": [
           {
            "marker": {
             "colorbar": {
              "outlinewidth": 0,
              "ticks": ""
             }
            },
            "type": "scatterpolar"
           }
          ],
          "scatterpolargl": [
           {
            "marker": {
             "colorbar": {
              "outlinewidth": 0,
              "ticks": ""
             }
            },
            "type": "scatterpolargl"
           }
          ],
          "scatterternary": [
           {
            "marker": {
             "colorbar": {
              "outlinewidth": 0,
              "ticks": ""
             }
            },
            "type": "scatterternary"
           }
          ],
          "surface": [
           {
            "colorbar": {
             "outlinewidth": 0,
             "ticks": ""
            },
            "colorscale": [
             [
              0,
              "#0d0887"
             ],
             [
              0.1111111111111111,
              "#46039f"
             ],
             [
              0.2222222222222222,
              "#7201a8"
             ],
             [
              0.3333333333333333,
              "#9c179e"
             ],
             [
              0.4444444444444444,
              "#bd3786"
             ],
             [
              0.5555555555555556,
              "#d8576b"
             ],
             [
              0.6666666666666666,
              "#ed7953"
             ],
             [
              0.7777777777777778,
              "#fb9f3a"
             ],
             [
              0.8888888888888888,
              "#fdca26"
             ],
             [
              1,
              "#f0f921"
             ]
            ],
            "type": "surface"
           }
          ],
          "table": [
           {
            "cells": {
             "fill": {
              "color": "#EBF0F8"
             },
             "line": {
              "color": "white"
             }
            },
            "header": {
             "fill": {
              "color": "#C8D4E3"
             },
             "line": {
              "color": "white"
             }
            },
            "type": "table"
           }
          ]
         },
         "layout": {
          "annotationdefaults": {
           "arrowcolor": "#2a3f5f",
           "arrowhead": 0,
           "arrowwidth": 1
          },
          "coloraxis": {
           "colorbar": {
            "outlinewidth": 0,
            "ticks": ""
           }
          },
          "colorscale": {
           "diverging": [
            [
             0,
             "#8e0152"
            ],
            [
             0.1,
             "#c51b7d"
            ],
            [
             0.2,
             "#de77ae"
            ],
            [
             0.3,
             "#f1b6da"
            ],
            [
             0.4,
             "#fde0ef"
            ],
            [
             0.5,
             "#f7f7f7"
            ],
            [
             0.6,
             "#e6f5d0"
            ],
            [
             0.7,
             "#b8e186"
            ],
            [
             0.8,
             "#7fbc41"
            ],
            [
             0.9,
             "#4d9221"
            ],
            [
             1,
             "#276419"
            ]
           ],
           "sequential": [
            [
             0,
             "#0d0887"
            ],
            [
             0.1111111111111111,
             "#46039f"
            ],
            [
             0.2222222222222222,
             "#7201a8"
            ],
            [
             0.3333333333333333,
             "#9c179e"
            ],
            [
             0.4444444444444444,
             "#bd3786"
            ],
            [
             0.5555555555555556,
             "#d8576b"
            ],
            [
             0.6666666666666666,
             "#ed7953"
            ],
            [
             0.7777777777777778,
             "#fb9f3a"
            ],
            [
             0.8888888888888888,
             "#fdca26"
            ],
            [
             1,
             "#f0f921"
            ]
           ],
           "sequentialminus": [
            [
             0,
             "#0d0887"
            ],
            [
             0.1111111111111111,
             "#46039f"
            ],
            [
             0.2222222222222222,
             "#7201a8"
            ],
            [
             0.3333333333333333,
             "#9c179e"
            ],
            [
             0.4444444444444444,
             "#bd3786"
            ],
            [
             0.5555555555555556,
             "#d8576b"
            ],
            [
             0.6666666666666666,
             "#ed7953"
            ],
            [
             0.7777777777777778,
             "#fb9f3a"
            ],
            [
             0.8888888888888888,
             "#fdca26"
            ],
            [
             1,
             "#f0f921"
            ]
           ]
          },
          "colorway": [
           "#636efa",
           "#EF553B",
           "#00cc96",
           "#ab63fa",
           "#FFA15A",
           "#19d3f3",
           "#FF6692",
           "#B6E880",
           "#FF97FF",
           "#FECB52"
          ],
          "font": {
           "color": "#2a3f5f"
          },
          "geo": {
           "bgcolor": "white",
           "lakecolor": "white",
           "landcolor": "#E5ECF6",
           "showlakes": true,
           "showland": true,
           "subunitcolor": "white"
          },
          "hoverlabel": {
           "align": "left"
          },
          "hovermode": "closest",
          "mapbox": {
           "style": "light"
          },
          "paper_bgcolor": "white",
          "plot_bgcolor": "#E5ECF6",
          "polar": {
           "angularaxis": {
            "gridcolor": "white",
            "linecolor": "white",
            "ticks": ""
           },
           "bgcolor": "#E5ECF6",
           "radialaxis": {
            "gridcolor": "white",
            "linecolor": "white",
            "ticks": ""
           }
          },
          "scene": {
           "xaxis": {
            "backgroundcolor": "#E5ECF6",
            "gridcolor": "white",
            "gridwidth": 2,
            "linecolor": "white",
            "showbackground": true,
            "ticks": "",
            "zerolinecolor": "white"
           },
           "yaxis": {
            "backgroundcolor": "#E5ECF6",
            "gridcolor": "white",
            "gridwidth": 2,
            "linecolor": "white",
            "showbackground": true,
            "ticks": "",
            "zerolinecolor": "white"
           },
           "zaxis": {
            "backgroundcolor": "#E5ECF6",
            "gridcolor": "white",
            "gridwidth": 2,
            "linecolor": "white",
            "showbackground": true,
            "ticks": "",
            "zerolinecolor": "white"
           }
          },
          "shapedefaults": {
           "line": {
            "color": "#2a3f5f"
           }
          },
          "ternary": {
           "aaxis": {
            "gridcolor": "white",
            "linecolor": "white",
            "ticks": ""
           },
           "baxis": {
            "gridcolor": "white",
            "linecolor": "white",
            "ticks": ""
           },
           "bgcolor": "#E5ECF6",
           "caxis": {
            "gridcolor": "white",
            "linecolor": "white",
            "ticks": ""
           }
          },
          "title": {
           "x": 0.05
          },
          "xaxis": {
           "automargin": true,
           "gridcolor": "white",
           "linecolor": "white",
           "ticks": "",
           "title": {
            "standoff": 15
           },
           "zerolinecolor": "white",
           "zerolinewidth": 2
          },
          "yaxis": {
           "automargin": true,
           "gridcolor": "white",
           "linecolor": "white",
           "ticks": "",
           "title": {
            "standoff": 15
           },
           "zerolinecolor": "white",
           "zerolinewidth": 2
          }
         }
        },
        "title": {
         "font": {
          "color": "#4D5663"
         }
        },
        "xaxis": {
         "gridcolor": "#E1E5ED",
         "showgrid": true,
         "tickfont": {
          "color": "#4D5663"
         },
         "title": {
          "font": {
           "color": "#4D5663"
          },
          "text": ""
         },
         "zerolinecolor": "#E1E5ED"
        },
        "yaxis": {
         "gridcolor": "#E1E5ED",
         "showgrid": true,
         "tickfont": {
          "color": "#4D5663"
         },
         "title": {
          "font": {
           "color": "#4D5663"
          },
          "text": ""
         },
         "zerolinecolor": "#E1E5ED"
        }
       }
      },
      "text/html": "<div>\n        \n        \n            <div id=\"3eca29a9-5b13-4428-ad3d-17e6a12d71b6\" class=\"plotly-graph-div\" style=\"height:525px; width:100%;\"></div>\n            <script type=\"text/javascript\">\n                require([\"plotly\"], function(Plotly) {\n                    window.PLOTLYENV=window.PLOTLYENV || {};\n                    window.PLOTLYENV.BASE_URL='https://plot.ly';\n                    \n                if (document.getElementById(\"3eca29a9-5b13-4428-ad3d-17e6a12d71b6\")) {\n                    Plotly.newPlot(\n                        '3eca29a9-5b13-4428-ad3d-17e6a12d71b6',\n                        [{\"marker\": {\"color\": \"rgba(255, 153, 51, 0.6)\", \"line\": {\"color\": \"rgba(255, 153, 51, 1.0)\", \"width\": 1}}, \"name\": \"YRHIGH\", \"orientation\": \"v\", \"text\": \"\", \"type\": \"bar\", \"x\": [\"IBM\", \"GOOG.O\", \"MSFT.O\"], \"y\": [158.75, 1532.1063, 190.7]}, {\"marker\": {\"color\": \"rgba(55, 128, 191, 0.6)\", \"line\": {\"color\": \"rgba(55, 128, 191, 1.0)\", \"width\": 1}}, \"name\": \"YRLOW\", \"orientation\": \"v\", \"text\": \"\", \"type\": \"bar\", \"x\": [\"IBM\", \"GOOG.O\", \"MSFT.O\"], \"y\": [90.56, 1013.5361, 119.01]}],\n                        {\"legend\": {\"bgcolor\": \"#F5F6F9\", \"font\": {\"color\": \"#4D5663\"}}, \"paper_bgcolor\": \"#F5F6F9\", \"plot_bgcolor\": \"#F5F6F9\", \"template\": {\"data\": {\"bar\": [{\"error_x\": {\"color\": \"#2a3f5f\"}, \"error_y\": {\"color\": \"#2a3f5f\"}, \"marker\": {\"line\": {\"color\": \"#E5ECF6\", \"width\": 0.5}}, \"type\": \"bar\"}], \"barpolar\": [{\"marker\": {\"line\": {\"color\": \"#E5ECF6\", \"width\": 0.5}}, \"type\": \"barpolar\"}], \"carpet\": [{\"aaxis\": {\"endlinecolor\": \"#2a3f5f\", \"gridcolor\": \"white\", \"linecolor\": \"white\", \"minorgridcolor\": \"white\", \"startlinecolor\": \"#2a3f5f\"}, \"baxis\": {\"endlinecolor\": \"#2a3f5f\", \"gridcolor\": \"white\", \"linecolor\": \"white\", \"minorgridcolor\": \"white\", \"startlinecolor\": \"#2a3f5f\"}, \"type\": \"carpet\"}], \"choropleth\": [{\"colorbar\": {\"outlinewidth\": 0, \"ticks\": \"\"}, \"type\": \"choropleth\"}], \"contour\": [{\"colorbar\": {\"outlinewidth\": 0, \"ticks\": \"\"}, \"colorscale\": [[0.0, \"#0d0887\"], [0.1111111111111111, \"#46039f\"], [0.2222222222222222, \"#7201a8\"], [0.3333333333333333, \"#9c179e\"], [0.4444444444444444, \"#bd3786\"], [0.5555555555555556, \"#d8576b\"], [0.6666666666666666, \"#ed7953\"], [0.7777777777777778, \"#fb9f3a\"], [0.8888888888888888, \"#fdca26\"], [1.0, \"#f0f921\"]], \"type\": \"contour\"}], \"contourcarpet\": [{\"colorbar\": {\"outlinewidth\": 0, \"ticks\": \"\"}, \"type\": \"contourcarpet\"}], \"heatmap\": [{\"colorbar\": {\"outlinewidth\": 0, \"ticks\": \"\"}, \"colorscale\": [[0.0, \"#0d0887\"], [0.1111111111111111, \"#46039f\"], [0.2222222222222222, \"#7201a8\"], [0.3333333333333333, \"#9c179e\"], [0.4444444444444444, \"#bd3786\"], [0.5555555555555556, \"#d8576b\"], [0.6666666666666666, \"#ed7953\"], [0.7777777777777778, \"#fb9f3a\"], [0.8888888888888888, \"#fdca26\"], [1.0, \"#f0f921\"]], \"type\": \"heatmap\"}], \"heatmapgl\": [{\"colorbar\": {\"outlinewidth\": 0, \"ticks\": \"\"}, \"colorscale\": [[0.0, \"#0d0887\"], [0.1111111111111111, \"#46039f\"], [0.2222222222222222, \"#7201a8\"], [0.3333333333333333, \"#9c179e\"], [0.4444444444444444, \"#bd3786\"], [0.5555555555555556, \"#d8576b\"], [0.6666666666666666, \"#ed7953\"], [0.7777777777777778, \"#fb9f3a\"], [0.8888888888888888, \"#fdca26\"], [1.0, \"#f0f921\"]], \"type\": \"heatmapgl\"}], \"histogram\": [{\"marker\": {\"colorbar\": {\"outlinewidth\": 0, \"ticks\": \"\"}}, \"type\": \"histogram\"}], \"histogram2d\": [{\"colorbar\": {\"outlinewidth\": 0, \"ticks\": \"\"}, \"colorscale\": [[0.0, \"#0d0887\"], [0.1111111111111111, \"#46039f\"], [0.2222222222222222, \"#7201a8\"], [0.3333333333333333, \"#9c179e\"], [0.4444444444444444, \"#bd3786\"], [0.5555555555555556, \"#d8576b\"], [0.6666666666666666, \"#ed7953\"], [0.7777777777777778, \"#fb9f3a\"], [0.8888888888888888, \"#fdca26\"], [1.0, \"#f0f921\"]], \"type\": \"histogram2d\"}], \"histogram2dcontour\": [{\"colorbar\": {\"outlinewidth\": 0, \"ticks\": \"\"}, \"colorscale\": [[0.0, \"#0d0887\"], [0.1111111111111111, \"#46039f\"], [0.2222222222222222, \"#7201a8\"], [0.3333333333333333, \"#9c179e\"], [0.4444444444444444, \"#bd3786\"], [0.5555555555555556, \"#d8576b\"], [0.6666666666666666, \"#ed7953\"], [0.7777777777777778, \"#fb9f3a\"], [0.8888888888888888, \"#fdca26\"], [1.0, \"#f0f921\"]], \"type\": \"histogram2dcontour\"}], \"mesh3d\": [{\"colorbar\": {\"outlinewidth\": 0, \"ticks\": \"\"}, \"type\": \"mesh3d\"}], \"parcoords\": [{\"line\": {\"colorbar\": {\"outlinewidth\": 0, \"ticks\": \"\"}}, \"type\": \"parcoords\"}], \"pie\": [{\"automargin\": true, \"type\": \"pie\"}], \"scatter\": [{\"marker\": {\"colorbar\": {\"outlinewidth\": 0, \"ticks\": \"\"}}, \"type\": \"scatter\"}], \"scatter3d\": [{\"line\": {\"colorbar\": {\"outlinewidth\": 0, \"ticks\": \"\"}}, \"marker\": {\"colorbar\": {\"outlinewidth\": 0, \"ticks\": \"\"}}, \"type\": \"scatter3d\"}], \"scattercarpet\": [{\"marker\": {\"colorbar\": {\"outlinewidth\": 0, \"ticks\": \"\"}}, \"type\": \"scattercarpet\"}], \"scattergeo\": [{\"marker\": {\"colorbar\": {\"outlinewidth\": 0, \"ticks\": \"\"}}, \"type\": \"scattergeo\"}], \"scattergl\": [{\"marker\": {\"colorbar\": {\"outlinewidth\": 0, \"ticks\": \"\"}}, \"type\": \"scattergl\"}], \"scattermapbox\": [{\"marker\": {\"colorbar\": {\"outlinewidth\": 0, \"ticks\": \"\"}}, \"type\": \"scattermapbox\"}], \"scatterpolar\": [{\"marker\": {\"colorbar\": {\"outlinewidth\": 0, \"ticks\": \"\"}}, \"type\": \"scatterpolar\"}], \"scatterpolargl\": [{\"marker\": {\"colorbar\": {\"outlinewidth\": 0, \"ticks\": \"\"}}, \"type\": \"scatterpolargl\"}], \"scatterternary\": [{\"marker\": {\"colorbar\": {\"outlinewidth\": 0, \"ticks\": \"\"}}, \"type\": \"scatterternary\"}], \"surface\": [{\"colorbar\": {\"outlinewidth\": 0, \"ticks\": \"\"}, \"colorscale\": [[0.0, \"#0d0887\"], [0.1111111111111111, \"#46039f\"], [0.2222222222222222, \"#7201a8\"], [0.3333333333333333, \"#9c179e\"], [0.4444444444444444, \"#bd3786\"], [0.5555555555555556, \"#d8576b\"], [0.6666666666666666, \"#ed7953\"], [0.7777777777777778, \"#fb9f3a\"], [0.8888888888888888, \"#fdca26\"], [1.0, \"#f0f921\"]], \"type\": \"surface\"}], \"table\": [{\"cells\": {\"fill\": {\"color\": \"#EBF0F8\"}, \"line\": {\"color\": \"white\"}}, \"header\": {\"fill\": {\"color\": \"#C8D4E3\"}, \"line\": {\"color\": \"white\"}}, \"type\": \"table\"}]}, \"layout\": {\"annotationdefaults\": {\"arrowcolor\": \"#2a3f5f\", \"arrowhead\": 0, \"arrowwidth\": 1}, \"coloraxis\": {\"colorbar\": {\"outlinewidth\": 0, \"ticks\": \"\"}}, \"colorscale\": {\"diverging\": [[0, \"#8e0152\"], [0.1, \"#c51b7d\"], [0.2, \"#de77ae\"], [0.3, \"#f1b6da\"], [0.4, \"#fde0ef\"], [0.5, \"#f7f7f7\"], [0.6, \"#e6f5d0\"], [0.7, \"#b8e186\"], [0.8, \"#7fbc41\"], [0.9, \"#4d9221\"], [1, \"#276419\"]], \"sequential\": [[0.0, \"#0d0887\"], [0.1111111111111111, \"#46039f\"], [0.2222222222222222, \"#7201a8\"], [0.3333333333333333, \"#9c179e\"], [0.4444444444444444, \"#bd3786\"], [0.5555555555555556, \"#d8576b\"], [0.6666666666666666, \"#ed7953\"], [0.7777777777777778, \"#fb9f3a\"], [0.8888888888888888, \"#fdca26\"], [1.0, \"#f0f921\"]], \"sequentialminus\": [[0.0, \"#0d0887\"], [0.1111111111111111, \"#46039f\"], [0.2222222222222222, \"#7201a8\"], [0.3333333333333333, \"#9c179e\"], [0.4444444444444444, \"#bd3786\"], [0.5555555555555556, \"#d8576b\"], [0.6666666666666666, \"#ed7953\"], [0.7777777777777778, \"#fb9f3a\"], [0.8888888888888888, \"#fdca26\"], [1.0, \"#f0f921\"]]}, \"colorway\": [\"#636efa\", \"#EF553B\", \"#00cc96\", \"#ab63fa\", \"#FFA15A\", \"#19d3f3\", \"#FF6692\", \"#B6E880\", \"#FF97FF\", \"#FECB52\"], \"font\": {\"color\": \"#2a3f5f\"}, \"geo\": {\"bgcolor\": \"white\", \"lakecolor\": \"white\", \"landcolor\": \"#E5ECF6\", \"showlakes\": true, \"showland\": true, \"subunitcolor\": \"white\"}, \"hoverlabel\": {\"align\": \"left\"}, \"hovermode\": \"closest\", \"mapbox\": {\"style\": \"light\"}, \"paper_bgcolor\": \"white\", \"plot_bgcolor\": \"#E5ECF6\", \"polar\": {\"angularaxis\": {\"gridcolor\": \"white\", \"linecolor\": \"white\", \"ticks\": \"\"}, \"bgcolor\": \"#E5ECF6\", \"radialaxis\": {\"gridcolor\": \"white\", \"linecolor\": \"white\", \"ticks\": \"\"}}, \"scene\": {\"xaxis\": {\"backgroundcolor\": \"#E5ECF6\", \"gridcolor\": \"white\", \"gridwidth\": 2, \"linecolor\": \"white\", \"showbackground\": true, \"ticks\": \"\", \"zerolinecolor\": \"white\"}, \"yaxis\": {\"backgroundcolor\": \"#E5ECF6\", \"gridcolor\": \"white\", \"gridwidth\": 2, \"linecolor\": \"white\", \"showbackground\": true, \"ticks\": \"\", \"zerolinecolor\": \"white\"}, \"zaxis\": {\"backgroundcolor\": \"#E5ECF6\", \"gridcolor\": \"white\", \"gridwidth\": 2, \"linecolor\": \"white\", \"showbackground\": true, \"ticks\": \"\", \"zerolinecolor\": \"white\"}}, \"shapedefaults\": {\"line\": {\"color\": \"#2a3f5f\"}}, \"ternary\": {\"aaxis\": {\"gridcolor\": \"white\", \"linecolor\": \"white\", \"ticks\": \"\"}, \"baxis\": {\"gridcolor\": \"white\", \"linecolor\": \"white\", \"ticks\": \"\"}, \"bgcolor\": \"#E5ECF6\", \"caxis\": {\"gridcolor\": \"white\", \"linecolor\": \"white\", \"ticks\": \"\"}}, \"title\": {\"x\": 0.05}, \"xaxis\": {\"automargin\": true, \"gridcolor\": \"white\", \"linecolor\": \"white\", \"ticks\": \"\", \"title\": {\"standoff\": 15}, \"zerolinecolor\": \"white\", \"zerolinewidth\": 2}, \"yaxis\": {\"automargin\": true, \"gridcolor\": \"white\", \"linecolor\": \"white\", \"ticks\": \"\", \"title\": {\"standoff\": 15}, \"zerolinecolor\": \"white\", \"zerolinewidth\": 2}}}, \"title\": {\"font\": {\"color\": \"#4D5663\"}}, \"xaxis\": {\"gridcolor\": \"#E1E5ED\", \"showgrid\": true, \"tickfont\": {\"color\": \"#4D5663\"}, \"title\": {\"font\": {\"color\": \"#4D5663\"}, \"text\": \"\"}, \"zerolinecolor\": \"#E1E5ED\"}, \"yaxis\": {\"gridcolor\": \"#E1E5ED\", \"showgrid\": true, \"tickfont\": {\"color\": \"#4D5663\"}, \"title\": {\"font\": {\"color\": \"#4D5663\"}, \"text\": \"\"}, \"zerolinecolor\": \"#E1E5ED\"}},\n                        {\"showLink\": true, \"linkText\": \"Export to plot.ly\", \"plotlyServerURL\": \"https://plot.ly\", \"responsive\": true}\n                    ).then(function(){\n                            \nvar gd = document.getElementById('3eca29a9-5b13-4428-ad3d-17e6a12d71b6');\nvar x = new MutationObserver(function (mutations, observer) {{\n        var display = window.getComputedStyle(gd).display;\n        if (!display || display === 'none') {{\n            console.log([gd, 'removed!']);\n            Plotly.purge(gd);\n            observer.disconnect();\n        }}\n}});\n\n// Listen for the removal of the full notebook cells\nvar notebookContainer = gd.closest('#notebook-container');\nif (notebookContainer) {{\n    x.observe(notebookContainer, {childList: true});\n}}\n\n// Listen for the clearing of the current output cell\nvar outputEl = gd.closest('.output');\nif (outputEl) {{\n    x.observe(outputEl, {childList: true});\n}}\n\n                        })\n                };\n                });\n            </script>\n        </div>"
     },
     "metadata": {}
    }
   ],
   "source": [
    "data_grid.set_index('Instrument')[['YRHIGH', 'YRLOW']].iplot(kind='bar')"
   ]
  },
  {
   "cell_type": "markdown",
   "metadata": {},
   "source": [
    "## `ek.get_timeseries()`"
   ]
  },
  {
   "cell_type": "markdown",
   "metadata": {},
   "source": [
    "The function `ek.get_timeseries()` retrieves **time series data**."
   ]
  },
  {
   "cell_type": "code",
   "execution_count": 22,
   "metadata": {},
   "outputs": [
    {
     "output_type": "stream",
     "name": "stdout",
     "text": "Help on function get_timeseries in module eikon.time_series:\n\nget_timeseries(rics, fields='*', start_date=None, end_date=None, interval='daily', count=None, calendar=None, corax=None, normalize=False, raw_output=False, debug=False)\n    Returns historical data on one or several RICs\n    \n    Parameters\n    ----------\n    rics: string or list of strings\n        Single RIC or List of RICs to retrieve historical data for\n    \n    start_date: string or datetime.datetime or datetime.timedelta\n        Starting date and time of the historical range.\n        string format is: '%Y-%m-%dT%H:%M:%S'. e.g. '2016-01-20T15:04:05'.\n        datetime.timedelta is negative number of day relative to datetime.now().\n        Default: datetime.now() + timedelta(-100)\n        You can use the helper function get_date_from_today, please see the usage in the examples section\n    \n    end_date: string or datetime.datetime or datetime.timedelta\n        End date and time of the historical range.\n    \n        string format could be\n            - '%Y-%m-%d' (e.g. '2017-01-20')\n            - '%Y-%m-%dT%H:%M:%S' (e.g. '2017-01-20T15:04:05')\n        datetime.timedelta is negative number of day relative to datetime.now().\n    \n        Default: datetime.now()\n    \n        You can use the helper function get_date_from_today, please see the usage in the examples section\n    \n    interval: string\n        Data interval.\n        Possible values: 'tick', 'minute', 'hour', 'daily', 'weekly', 'monthly', 'quarterly', 'yearly' (Default 'daily')\n        Default: 'daily'\n    \n    fields: string or list of strings\n        Use this parameter to filter the returned fields set.\n        Available fields: 'TIMESTAMP', 'VALUE', 'VOLUME', 'HIGH', 'LOW', 'OPEN', 'CLOSE', 'COUNT'\n        By default all fields are returned.\n    \n    count: int, optional\n        Max number of data points retrieved.\n    \n    calendar: string, optional\n        Possible values: 'native', 'tradingdays', 'calendardays'.\n    \n    corax: string, optional\n        Possible values: 'adjusted', 'unadjusted'\n    \n    normalize: boolean, optional\n        If set to True, the function will return a normalized data frame with the following columns 'Date','Security','Field'.\n    \n        If the value of this parameter is False the returned data frame shape will depend on the number of rics and the number of fields in the response.\n    \n        There are three different shapes:\n            - One ric and many fields\n            - Many rics and one field\n            - Many rics and many fields\n    \n        Default: False\n    \n        Remark: This parameter has a less precedence than the parameter rawOutput i.e. if rawOutput is set to True, the returned data will be the raw data and this parameter will be ignored\n    \n    raw_output: boolean, optional\n        Set this parameter to True to get the data in json format\n        if set to False, the function will return a data frame which shape is defined by the parameter normalize\n        Default: False\n    \n    debug: boolean, optional\n        When set to True, the json request and response are printed.\n        Default: False\n    \n    Raises\n    ------\n        Exception\n            If request fails or if server returns an error.\n    \n        ValueError\n            If a parameter type or value is wrong.\n    \n    Examples\n    --------\n    >>> import eikon as ek\n    >>> ek.set_app_key('set your app key here')\n    >>> req = ek.get_timeseries([\"MSFT.O\"], start_date = \"2017-02-01T15:04:05\",\n    >>>                          end_date = \"2017-02-05T15:04:05\", interval=\"tick\")\n    >>> req = ek.get_timeseries([\"MSFT.O\"], start_date = \"2017-03-01\",\n    >>>                          end_date = \"2017-03-10\", interval=\"daily\")\n    >>> req = ek.get_timeseries([\"MSFT.O\"], start_date = get_date_from_today(150),\n    >>>                          end_date = get_date_from_today(100), interval=\"daily\")\n\n"
    }
   ],
   "source": [
    "help(ek.get_timeseries)"
   ]
  },
  {
   "cell_type": "markdown",
   "metadata": {},
   "source": [
    "For instance, the following code retries **daily closing prices**  for the four `RICs` as defined above."
   ]
  },
  {
   "cell_type": "code",
   "execution_count": 24,
   "metadata": {},
   "outputs": [
    {
     "output_type": "execute_result",
     "data": {
      "text/plain": "['AAPL.O', 'AMZN.O', 'TSLA.O', '.SPX']"
     },
     "metadata": {},
     "execution_count": 24
    }
   ],
   "source": [
    "rics"
   ]
  },
  {
   "cell_type": "code",
   "execution_count": 23,
   "metadata": {},
   "outputs": [],
   "source": [
    "data = ek.get_timeseries(rics,\n",
    "                         start_date='2017-01-01',\n",
    "                         end_date='2018-02-23',\n",
    "                         fields='CLOSE',\n",
    "                         interval='daily'\n",
    "                        )"
   ]
  },
  {
   "cell_type": "code",
   "execution_count": 25,
   "metadata": {},
   "outputs": [
    {
     "output_type": "execute_result",
     "data": {
      "text/plain": "CLOSE       AAPL.O  AMZN.O  TSLA.O     .SPX\nDate                                       \n2017-01-03  116.15  753.67  216.99  2257.83\n2017-01-04  116.02  757.18  226.99  2270.75\n2017-01-05  116.61  780.45  226.75  2269.00\n2017-01-06  117.91  795.99  229.01  2276.98\n2017-01-09  118.99  796.92  231.28  2268.90",
      "text/html": "<div>\n<style scoped>\n    .dataframe tbody tr th:only-of-type {\n        vertical-align: middle;\n    }\n\n    .dataframe tbody tr th {\n        vertical-align: top;\n    }\n\n    .dataframe thead th {\n        text-align: right;\n    }\n</style>\n<table border=\"1\" class=\"dataframe\">\n  <thead>\n    <tr style=\"text-align: right;\">\n      <th>CLOSE</th>\n      <th>AAPL.O</th>\n      <th>AMZN.O</th>\n      <th>TSLA.O</th>\n      <th>.SPX</th>\n    </tr>\n    <tr>\n      <th>Date</th>\n      <th></th>\n      <th></th>\n      <th></th>\n      <th></th>\n    </tr>\n  </thead>\n  <tbody>\n    <tr>\n      <th>2017-01-03</th>\n      <td>116.15</td>\n      <td>753.67</td>\n      <td>216.99</td>\n      <td>2257.83</td>\n    </tr>\n    <tr>\n      <th>2017-01-04</th>\n      <td>116.02</td>\n      <td>757.18</td>\n      <td>226.99</td>\n      <td>2270.75</td>\n    </tr>\n    <tr>\n      <th>2017-01-05</th>\n      <td>116.61</td>\n      <td>780.45</td>\n      <td>226.75</td>\n      <td>2269.00</td>\n    </tr>\n    <tr>\n      <th>2017-01-06</th>\n      <td>117.91</td>\n      <td>795.99</td>\n      <td>229.01</td>\n      <td>2276.98</td>\n    </tr>\n    <tr>\n      <th>2017-01-09</th>\n      <td>118.99</td>\n      <td>796.92</td>\n      <td>231.28</td>\n      <td>2268.90</td>\n    </tr>\n  </tbody>\n</table>\n</div>"
     },
     "metadata": {},
     "execution_count": 25
    }
   ],
   "source": [
    "data.head()"
   ]
  },
  {
   "cell_type": "code",
   "execution_count": 26,
   "metadata": {},
   "outputs": [
    {
     "output_type": "stream",
     "name": "stdout",
     "text": "<class 'pandas.core.frame.DataFrame'>\nDatetimeIndex: 288 entries, 2017-01-03 to 2018-02-23\nData columns (total 4 columns):\n #   Column  Non-Null Count  Dtype  \n---  ------  --------------  -----  \n 0   AAPL.O  288 non-null    float64\n 1   AMZN.O  288 non-null    float64\n 2   TSLA.O  288 non-null    float64\n 3   .SPX    288 non-null    float64\ndtypes: float64(4)\nmemory usage: 11.2 KB\n"
    }
   ],
   "source": [
    "data.info()"
   ]
  },
  {
   "cell_type": "markdown",
   "metadata": {},
   "source": [
    "Making use of `Cufflinks`, the data is visualized below."
   ]
  },
  {
   "cell_type": "code",
   "execution_count": 27,
   "metadata": {},
   "outputs": [
    {
     "output_type": "display_data",
     "data": {
      "application/vnd.plotly.v1+json": {
       "config": {
        "linkText": "Export to plot.ly",
        "plotlyServerURL": "https://plot.ly",
        "showLink": true
       },
       "data": [
        {
         "line": {
          "color": "rgba(255, 153, 51, 1.0)",
          "dash": "solid",
          "shape": "linear",
          "width": 1.3
         },
         "mode": "lines",
         "name": "AAPL.O",
         "text": "",
         "type": "scatter",
         "x": [
          "2017-01-03",
          "2017-01-04",
          "2017-01-05",
          "2017-01-06",
          "2017-01-09",
          "2017-01-10",
          "2017-01-11",
          "2017-01-12",
          "2017-01-13",
          "2017-01-17",
          "2017-01-18",
          "2017-01-19",
          "2017-01-20",
          "2017-01-23",
          "2017-01-24",
          "2017-01-25",
          "2017-01-26",
          "2017-01-27",
          "2017-01-30",
          "2017-01-31",
          "2017-02-01",
          "2017-02-02",
          "2017-02-03",
          "2017-02-06",
          "2017-02-07",
          "2017-02-08",
          "2017-02-09",
          "2017-02-10",
          "2017-02-13",
          "2017-02-14",
          "2017-02-15",
          "2017-02-16",
          "2017-02-17",
          "2017-02-21",
          "2017-02-22",
          "2017-02-23",
          "2017-02-24",
          "2017-02-27",
          "2017-02-28",
          "2017-03-01",
          "2017-03-02",
          "2017-03-03",
          "2017-03-06",
          "2017-03-07",
          "2017-03-08",
          "2017-03-09",
          "2017-03-10",
          "2017-03-13",
          "2017-03-14",
          "2017-03-15",
          "2017-03-16",
          "2017-03-17",
          "2017-03-20",
          "2017-03-21",
          "2017-03-22",
          "2017-03-23",
          "2017-03-24",
          "2017-03-27",
          "2017-03-28",
          "2017-03-29",
          "2017-03-30",
          "2017-03-31",
          "2017-04-03",
          "2017-04-04",
          "2017-04-05",
          "2017-04-06",
          "2017-04-07",
          "2017-04-10",
          "2017-04-11",
          "2017-04-12",
          "2017-04-13",
          "2017-04-17",
          "2017-04-18",
          "2017-04-19",
          "2017-04-20",
          "2017-04-21",
          "2017-04-24",
          "2017-04-25",
          "2017-04-26",
          "2017-04-27",
          "2017-04-28",
          "2017-05-01",
          "2017-05-02",
          "2017-05-03",
          "2017-05-04",
          "2017-05-05",
          "2017-05-08",
          "2017-05-09",
          "2017-05-10",
          "2017-05-11",
          "2017-05-12",
          "2017-05-15",
          "2017-05-16",
          "2017-05-17",
          "2017-05-18",
          "2017-05-19",
          "2017-05-22",
          "2017-05-23",
          "2017-05-24",
          "2017-05-25",
          "2017-05-26",
          "2017-05-30",
          "2017-05-31",
          "2017-06-01",
          "2017-06-02",
          "2017-06-05",
          "2017-06-06",
          "2017-06-07",
          "2017-06-08",
          "2017-06-09",
          "2017-06-12",
          "2017-06-13",
          "2017-06-14",
          "2017-06-15",
          "2017-06-16",
          "2017-06-19",
          "2017-06-20",
          "2017-06-21",
          "2017-06-22",
          "2017-06-23",
          "2017-06-26",
          "2017-06-27",
          "2017-06-28",
          "2017-06-29",
          "2017-06-30",
          "2017-07-03",
          "2017-07-05",
          "2017-07-06",
          "2017-07-07",
          "2017-07-10",
          "2017-07-11",
          "2017-07-12",
          "2017-07-13",
          "2017-07-14",
          "2017-07-17",
          "2017-07-18",
          "2017-07-19",
          "2017-07-20",
          "2017-07-21",
          "2017-07-24",
          "2017-07-25",
          "2017-07-26",
          "2017-07-27",
          "2017-07-28",
          "2017-07-31",
          "2017-08-01",
          "2017-08-02",
          "2017-08-03",
          "2017-08-04",
          "2017-08-07",
          "2017-08-08",
          "2017-08-09",
          "2017-08-10",
          "2017-08-11",
          "2017-08-14",
          "2017-08-15",
          "2017-08-16",
          "2017-08-17",
          "2017-08-18",
          "2017-08-21",
          "2017-08-22",
          "2017-08-23",
          "2017-08-24",
          "2017-08-25",
          "2017-08-28",
          "2017-08-29",
          "2017-08-30",
          "2017-08-31",
          "2017-09-01",
          "2017-09-05",
          "2017-09-06",
          "2017-09-07",
          "2017-09-08",
          "2017-09-11",
          "2017-09-12",
          "2017-09-13",
          "2017-09-14",
          "2017-09-15",
          "2017-09-18",
          "2017-09-19",
          "2017-09-20",
          "2017-09-21",
          "2017-09-22",
          "2017-09-25",
          "2017-09-26",
          "2017-09-27",
          "2017-09-28",
          "2017-09-29",
          "2017-10-02",
          "2017-10-03",
          "2017-10-04",
          "2017-10-05",
          "2017-10-06",
          "2017-10-09",
          "2017-10-10",
          "2017-10-11",
          "2017-10-12",
          "2017-10-13",
          "2017-10-16",
          "2017-10-17",
          "2017-10-18",
          "2017-10-19",
          "2017-10-20",
          "2017-10-23",
          "2017-10-24",
          "2017-10-25",
          "2017-10-26",
          "2017-10-27",
          "2017-10-30",
          "2017-10-31",
          "2017-11-01",
          "2017-11-02",
          "2017-11-03",
          "2017-11-06",
          "2017-11-07",
          "2017-11-08",
          "2017-11-09",
          "2017-11-10",
          "2017-11-13",
          "2017-11-14",
          "2017-11-15",
          "2017-11-16",
          "2017-11-17",
          "2017-11-20",
          "2017-11-21",
          "2017-11-22",
          "2017-11-24",
          "2017-11-27",
          "2017-11-28",
          "2017-11-29",
          "2017-11-30",
          "2017-12-01",
          "2017-12-04",
          "2017-12-05",
          "2017-12-06",
          "2017-12-07",
          "2017-12-08",
          "2017-12-11",
          "2017-12-12",
          "2017-12-13",
          "2017-12-14",
          "2017-12-15",
          "2017-12-18",
          "2017-12-19",
          "2017-12-20",
          "2017-12-21",
          "2017-12-22",
          "2017-12-26",
          "2017-12-27",
          "2017-12-28",
          "2017-12-29",
          "2018-01-02",
          "2018-01-03",
          "2018-01-04",
          "2018-01-05",
          "2018-01-08",
          "2018-01-09",
          "2018-01-10",
          "2018-01-11",
          "2018-01-12",
          "2018-01-16",
          "2018-01-17",
          "2018-01-18",
          "2018-01-19",
          "2018-01-22",
          "2018-01-23",
          "2018-01-24",
          "2018-01-25",
          "2018-01-26",
          "2018-01-29",
          "2018-01-30",
          "2018-01-31",
          "2018-02-01",
          "2018-02-02",
          "2018-02-05",
          "2018-02-06",
          "2018-02-07",
          "2018-02-08",
          "2018-02-09",
          "2018-02-12",
          "2018-02-13",
          "2018-02-14",
          "2018-02-15",
          "2018-02-16",
          "2018-02-20",
          "2018-02-21",
          "2018-02-22",
          "2018-02-23"
         ],
         "y": [
          100,
          99.88807576409813,
          100.39603960396039,
          101.5152819629789,
          102.44511407662505,
          102.54842875591908,
          103.09944037882049,
          102.66896254842874,
          102.48816185966423,
          103.31467929401634,
          103.30606973740852,
          103.12526904864399,
          103.31467929401634,
          103.38355574687903,
          103.28885062419285,
          104.93327593628928,
          104.98493327593627,
          104.99354283254412,
          104.71803702109341,
          104.47696943607403,
          110.84804132587172,
          110.65863108049936,
          111.13215669393026,
          112.17391304347825,
          113.24149806284976,
          113.68058544984932,
          114.00774860094704,
          113.749461902712,
          114.75678002582865,
          116.24623331898407,
          116.66810159276797,
          116.52604390873869,
          116.84890228153249,
          117.69263882910028,
          118.04563065002154,
          117.54627636676712,
          117.65820060266896,
          117.8906586310805,
          117.9423159707275,
          120.3529918209212,
          119.63839862247094,
          120.34438226431338,
          119.96556177356865,
          120.12053379250969,
          119.67283684890229,
          119.39733103745158,
          119.79337064141195,
          119.84502798105896,
          119.66422729229444,
          120.92983211364614,
          121.12785191562634,
          120.52518295307793,
          121.79078777442962,
          120.39603960396039,
          121.75634954799825,
          121.32587171760653,
          121.08480413258715,
          121.2914334911752,
          123.80542402066294,
          124.08092983211365,
          123.9173482565648,
          123.68489022815324,
          123.71932845458457,
          124.6405510116229,
          123.9948342660353,
          123.68489022815324,
          123.40938441670252,
          123.26302195436934,
          121.93715023676279,
          122.083512699096,
          121.43779595350838,
          122.10934136891952,
          121.5669393026259,
          121.11924235901851,
          122.63452432199742,
          122.48816185966422,
          123.66767111493758,
          124.43392165303486,
          123.70210934136891,
          123.79681446405509,
          123.67628067154541,
          126.19888075764098,
          126.9995695221696,
          126.61213947481704,
          126.1558329746018,
          128.24795523030562,
          131.73482565647868,
          132.57856220404648,
          131.95006457167455,
          132.54412397761516,
          134.3951786482996,
          134.0507963839862,
          133.85277658200602,
          129.3585880327163,
          131.33017649591045,
          131.77787343951786,
          132.57856220404648,
          132.41498062849763,
          132.01894102453724,
          132.4752475247525,
          132.25139905294878,
          132.30305639259575,
          131.5195867412828,
          131.88118811881188,
          133.83555746879034,
          132.52690486439948,
          132.97460180800687,
          133.76668101592767,
          133.43951786482998,
          128.2651743435213,
          125.20017219113213,
          126.2074903142488,
          124.97632371932845,
          124.22729229444683,
          122.48816185966422,
          125.99225139905295,
          124.84718037021092,
          125.5876022384847,
          125.38097287989667,
          125.94059405940594,
          125.54455445544552,
          123.74515712440808,
          125.55316401205339,
          123.70210934136891,
          123.9948342660353,
          123.54713732242789,
          124.05510116229014,
          122.88420146362459,
          124.13258717176066,
          124.8902281532501,
          125.29487731381835,
          125.47567800258285,
          127.22341799397331,
          128.3168316831683,
          128.76452862677573,
          129.2122255703831,
          130.0215238915196,
          129.43607404218682,
          129.375807145932,
          130.9427464485579,
          131.50236762806716,
          132.12225570383126,
          129.62548428755917,
          128.7128712871287,
          128.04993542832543,
          129.18639690055963,
          135.2905725355144,
          133.93887214808436,
          134.6448557899268,
          136.7283684890228,
          137.82178217821783,
          138.6655187257856,
          133.7236332328885,
          135.58329746018077,
          137.6237623762376,
          139.1304347826087,
          138.57081360309942,
          135.91046061127852,
          135.60051657339648,
          135.35083943176926,
          137.56349547998278,
          137.73568661213946,
          137.1244080929832,
          137.63237193284544,
          139.01851054670684,
          140.25828669823503,
          140.63710718897974,
          141.19672836848903,
          141.23977615152822,
          139.54369349978478,
          139.39733103745155,
          138.83770985794231,
          136.57339647008178,
          139.04433921653035,
          138.49332759362895,
          137.45157124408095,
          136.27206198880756,
          137.64959104606112,
          136.60783469651312,
          136.65949203616012,
          134.3693499784761,
          132.0619888075764,
          130.7705553164012,
          129.61687473095137,
          131.84674989238053,
          132.7851915626345,
          131.96728368489022,
          132.69048643994833,
          132.42359018510547,
          133.00043047783038,
          132.1394748170469,
          133.78390012914335,
          133.70641411967284,
          134.17133017649593,
          134.22298751614292,
          134.7826086956522,
          134.30908308222126,
          135.1614291863969,
          137.64959104606112,
          138.15755488592336,
          137.5462763667671,
          134.2918639690056,
          134.52432199741713,
          134.45544554455444,
          135.25613430908308,
          134.66207490314247,
          135.52303056392594,
          140.37882049074472,
          143.53852776582005,
          145.5359448988377,
          143.68489022815322,
          144.73525613430908,
          148.5148514851485,
          150.02152389151956,
          150.50365906155832,
          151.73482565647868,
          151.42488161859663,
          150.38312526904863,
          149.7804563065002,
          147.51614291863967,
          145.57038312526905,
          147.30951356005164,
          146.49160568230738,
          146.34524321997415,
          149.0658631080499,
          150.63280241067585,
          150.64141196728366,
          149.88377098579423,
          149.00559621179508,
          145.9147653895824,
          147.95523030563925,
          147.26646577701248,
          146.19027120103314,
          146.05251829530778,
          145.5101162290142,
          145.77701248385705,
          145.82006026689623,
          148.66121394748168,
          147.82608695652172,
          148.31683168316832,
          148.27378390012913,
          149.7804563065002,
          151.88979767541971,
          150.27120103314678,
          150.1076194575979,
          150.675850193715,
          150.675850193715,
          146.8532070598364,
          146.8790357296599,
          147.29229444683597,
          145.69952647438654,
          148.30822212656048,
          148.28239345673697,
          148.97115798536376,
          150.6672406371072,
          150.1076194575979,
          150.09040034438226,
          150.0559621179509,
          150.90830822212655,
          152.46663796814462,
          151.6917778734395,
          154.19715884631938,
          154.33491175204475,
          153.64614722341798,
          152.38915195867412,
          152.42359018510544,
          149.99569522169608,
          147.3181231166595,
          147.66250538097287,
          144.60611278519156,
          143.75376668101592,
          144.1498062849763,
          144.45114076625055,
          138.18338355574687,
          134.73095135600516,
          140.36160137752904,
          137.35686612139472,
          133.57727077055532,
          134.66207490314247,
          140.08609556607834,
          141.4894532931554,
          144.0981489453293,
          148.9367197589324,
          148.45458458889368,
          147.95523030563925,
          147.28368489022813,
          148.5148514851485,
          151.0977184674989
         ]
        },
        {
         "line": {
          "color": "rgba(55, 128, 191, 1.0)",
          "dash": "solid",
          "shape": "linear",
          "width": 1.3
         },
         "mode": "lines",
         "name": "AMZN.O",
         "text": "",
         "type": "scatter",
         "x": [
          "2017-01-03",
          "2017-01-04",
          "2017-01-05",
          "2017-01-06",
          "2017-01-09",
          "2017-01-10",
          "2017-01-11",
          "2017-01-12",
          "2017-01-13",
          "2017-01-17",
          "2017-01-18",
          "2017-01-19",
          "2017-01-20",
          "2017-01-23",
          "2017-01-24",
          "2017-01-25",
          "2017-01-26",
          "2017-01-27",
          "2017-01-30",
          "2017-01-31",
          "2017-02-01",
          "2017-02-02",
          "2017-02-03",
          "2017-02-06",
          "2017-02-07",
          "2017-02-08",
          "2017-02-09",
          "2017-02-10",
          "2017-02-13",
          "2017-02-14",
          "2017-02-15",
          "2017-02-16",
          "2017-02-17",
          "2017-02-21",
          "2017-02-22",
          "2017-02-23",
          "2017-02-24",
          "2017-02-27",
          "2017-02-28",
          "2017-03-01",
          "2017-03-02",
          "2017-03-03",
          "2017-03-06",
          "2017-03-07",
          "2017-03-08",
          "2017-03-09",
          "2017-03-10",
          "2017-03-13",
          "2017-03-14",
          "2017-03-15",
          "2017-03-16",
          "2017-03-17",
          "2017-03-20",
          "2017-03-21",
          "2017-03-22",
          "2017-03-23",
          "2017-03-24",
          "2017-03-27",
          "2017-03-28",
          "2017-03-29",
          "2017-03-30",
          "2017-03-31",
          "2017-04-03",
          "2017-04-04",
          "2017-04-05",
          "2017-04-06",
          "2017-04-07",
          "2017-04-10",
          "2017-04-11",
          "2017-04-12",
          "2017-04-13",
          "2017-04-17",
          "2017-04-18",
          "2017-04-19",
          "2017-04-20",
          "2017-04-21",
          "2017-04-24",
          "2017-04-25",
          "2017-04-26",
          "2017-04-27",
          "2017-04-28",
          "2017-05-01",
          "2017-05-02",
          "2017-05-03",
          "2017-05-04",
          "2017-05-05",
          "2017-05-08",
          "2017-05-09",
          "2017-05-10",
          "2017-05-11",
          "2017-05-12",
          "2017-05-15",
          "2017-05-16",
          "2017-05-17",
          "2017-05-18",
          "2017-05-19",
          "2017-05-22",
          "2017-05-23",
          "2017-05-24",
          "2017-05-25",
          "2017-05-26",
          "2017-05-30",
          "2017-05-31",
          "2017-06-01",
          "2017-06-02",
          "2017-06-05",
          "2017-06-06",
          "2017-06-07",
          "2017-06-08",
          "2017-06-09",
          "2017-06-12",
          "2017-06-13",
          "2017-06-14",
          "2017-06-15",
          "2017-06-16",
          "2017-06-19",
          "2017-06-20",
          "2017-06-21",
          "2017-06-22",
          "2017-06-23",
          "2017-06-26",
          "2017-06-27",
          "2017-06-28",
          "2017-06-29",
          "2017-06-30",
          "2017-07-03",
          "2017-07-05",
          "2017-07-06",
          "2017-07-07",
          "2017-07-10",
          "2017-07-11",
          "2017-07-12",
          "2017-07-13",
          "2017-07-14",
          "2017-07-17",
          "2017-07-18",
          "2017-07-19",
          "2017-07-20",
          "2017-07-21",
          "2017-07-24",
          "2017-07-25",
          "2017-07-26",
          "2017-07-27",
          "2017-07-28",
          "2017-07-31",
          "2017-08-01",
          "2017-08-02",
          "2017-08-03",
          "2017-08-04",
          "2017-08-07",
          "2017-08-08",
          "2017-08-09",
          "2017-08-10",
          "2017-08-11",
          "2017-08-14",
          "2017-08-15",
          "2017-08-16",
          "2017-08-17",
          "2017-08-18",
          "2017-08-21",
          "2017-08-22",
          "2017-08-23",
          "2017-08-24",
          "2017-08-25",
          "2017-08-28",
          "2017-08-29",
          "2017-08-30",
          "2017-08-31",
          "2017-09-01",
          "2017-09-05",
          "2017-09-06",
          "2017-09-07",
          "2017-09-08",
          "2017-09-11",
          "2017-09-12",
          "2017-09-13",
          "2017-09-14",
          "2017-09-15",
          "2017-09-18",
          "2017-09-19",
          "2017-09-20",
          "2017-09-21",
          "2017-09-22",
          "2017-09-25",
          "2017-09-26",
          "2017-09-27",
          "2017-09-28",
          "2017-09-29",
          "2017-10-02",
          "2017-10-03",
          "2017-10-04",
          "2017-10-05",
          "2017-10-06",
          "2017-10-09",
          "2017-10-10",
          "2017-10-11",
          "2017-10-12",
          "2017-10-13",
          "2017-10-16",
          "2017-10-17",
          "2017-10-18",
          "2017-10-19",
          "2017-10-20",
          "2017-10-23",
          "2017-10-24",
          "2017-10-25",
          "2017-10-26",
          "2017-10-27",
          "2017-10-30",
          "2017-10-31",
          "2017-11-01",
          "2017-11-02",
          "2017-11-03",
          "2017-11-06",
          "2017-11-07",
          "2017-11-08",
          "2017-11-09",
          "2017-11-10",
          "2017-11-13",
          "2017-11-14",
          "2017-11-15",
          "2017-11-16",
          "2017-11-17",
          "2017-11-20",
          "2017-11-21",
          "2017-11-22",
          "2017-11-24",
          "2017-11-27",
          "2017-11-28",
          "2017-11-29",
          "2017-11-30",
          "2017-12-01",
          "2017-12-04",
          "2017-12-05",
          "2017-12-06",
          "2017-12-07",
          "2017-12-08",
          "2017-12-11",
          "2017-12-12",
          "2017-12-13",
          "2017-12-14",
          "2017-12-15",
          "2017-12-18",
          "2017-12-19",
          "2017-12-20",
          "2017-12-21",
          "2017-12-22",
          "2017-12-26",
          "2017-12-27",
          "2017-12-28",
          "2017-12-29",
          "2018-01-02",
          "2018-01-03",
          "2018-01-04",
          "2018-01-05",
          "2018-01-08",
          "2018-01-09",
          "2018-01-10",
          "2018-01-11",
          "2018-01-12",
          "2018-01-16",
          "2018-01-17",
          "2018-01-18",
          "2018-01-19",
          "2018-01-22",
          "2018-01-23",
          "2018-01-24",
          "2018-01-25",
          "2018-01-26",
          "2018-01-29",
          "2018-01-30",
          "2018-01-31",
          "2018-02-01",
          "2018-02-02",
          "2018-02-05",
          "2018-02-06",
          "2018-02-07",
          "2018-02-08",
          "2018-02-09",
          "2018-02-12",
          "2018-02-13",
          "2018-02-14",
          "2018-02-15",
          "2018-02-16",
          "2018-02-20",
          "2018-02-21",
          "2018-02-22",
          "2018-02-23"
         ],
         "y": [
          100,
          100.46572107155652,
          103.55327928669047,
          105.61518967187232,
          105.73858585322489,
          105.60324810593495,
          106.01722239176297,
          107.95706343625196,
          108.42145766714874,
          107.43694189764751,
          107.13972958987357,
          107.34671673278756,
          107.25251104594851,
          108.51964387596693,
          109.12468321679252,
          110.99287486565738,
          111.34183395915984,
          110.8933618161795,
          110.17819470059843,
          109.26267464540184,
          110.43958231056033,
          111.44798121193627,
          107.50063024931337,
          107.16095904042884,
          107.80580360104554,
          108.76245571669298,
          108.98138442554435,
          109.79075722796449,
          110.99420170631709,
          110.97562593708122,
          111.81286239335519,
          112.00392744835273,
          112.12732362970532,
          113.6359414597901,
          113.52581368503458,
          113.0720341794154,
          112.14987992092031,
          112.60100574522005,
          112.1233431077262,
          113.19012299812916,
          112.6368304430321,
          112.76553398702352,
          112.3316570912999,
          112.25337349237729,
          112.84779810792523,
          113.17950827285152,
          113.10785887722746,
          113.39047593774465,
          113.11714676184536,
          113.1755277508724,
          113.23523558055912,
          113.08795626733186,
          113.70626401475448,
          111.87920442634045,
          112.52404898695715,
          112.43382382209721,
          112.1989730253294,
          112.35952074515372,
          113.57756047076306,
          116.00833255934295,
          116.2763543726034,
          117.62973184550268,
          118.28917165337616,
          120.32189154404449,
          120.64696750567225,
          119.18744277999656,
          118.7363169556968,
          120.34975519789828,
          119.72879376915625,
          118.915440444757,
          117.3816126421378,
          119.67970066474717,
          119.91720514283439,
          119.30951212068943,
          119.68898854936512,
          119.22061379648919,
          120.39884830230739,
          120.4267119561612,
          120.64829434633195,
          121.85439250600396,
          122.7314341820691,
          125.8150118752239,
          125.64384943012195,
          124.85968660023619,
          124.39529236933937,
          123.94682022635901,
          125.92248596866003,
          126.42403173802859,
          125.91054440272269,
          125.73407459498189,
          127.5558268207571,
          127.10735467777677,
          128.18209561213797,
          125.3545981663062,
          127.17635039208142,
          127.35547388114163,
          128.79244231560233,
          128.90787745299667,
          130.07682407419694,
          131.8056974537928,
          132.12413921212203,
          132.2462085528149,
          131.9702256955962,
          132.146695503337,
          133.57702973449918,
          134.18870327862328,
          133.08211816842916,
          134.02019451484074,
          134.0467313280348,
          129.8061485796171,
          128.02818209561212,
          130.13520506322396,
          129.5620098982313,
          127.92999588679395,
          131.05337879973996,
          132.04320193188,
          131.70087704167608,
          132.97995143763185,
          132.85655525627928,
          133.18030437724735,
          131.88530789337509,
          129.6031419586822,
          131.4010110525827,
          129.49036050260725,
          128.43817585946104,
          126.53548635344383,
          128.8893016837608,
          128.05869943078537,
          129.8658564093038,
          132.21569121764168,
          131.90521050327067,
          133.54783923998568,
          132.76765693207903,
          132.92422412992423,
          134.01621399286162,
          135.92819138349677,
          136.2492868231454,
          136.49209866387147,
          136.09006594398082,
          137.8521103400693,
          137.97417968076212,
          139.68978465376094,
          138.78753300516144,
          135.34305465256676,
          131.06266668435788,
          132.17853967916994,
          132.13873445937878,
          130.94855838762322,
          131.03612987116378,
          131.65841814056552,
          131.33599586025716,
          130.297079623708,
          126.96803640850771,
          128.43684901880135,
          130.46824206880996,
          130.39393899186646,
          129.7888996510409,
          127.4523332493001,
          127.17369671076202,
          126.48639324903472,
          128.29222338689348,
          127.11133519975586,
          126.37493863361951,
          125.42094019929146,
          125.52178008942907,
          126.58855997983203,
          128.38377539241316,
          130.10999509068958,
          129.79818753565885,
          128.07594835936155,
          128.41163904626694,
          129.96006209614288,
          128.15953932092293,
          129.7597091565274,
          130.3727095413112,
          132.6309923441294,
          131.65045709660728,
          130.93130945904707,
          129.25949022781856,
          128.68496822216622,
          129.12945984316744,
          127.9936842384598,
          126.72655140844138,
          124.69515835843275,
          124.53726431992781,
          126.16529780938608,
          126.89904069420304,
          127.5558268207571,
          127.26922923826078,
          126.9919195403824,
          128.09983149123622,
          130.1431661071822,
          131.30149800310483,
          131.48858253612326,
          130.98570992609498,
          132.02064564066504,
          132.80746215187017,
          133.07415712447093,
          133.5252829487707,
          133.89547149282842,
          132.28601377260605,
          130.90742632717237,
          130.41649528308145,
          128.21261294731116,
          129.48637998062813,
          129.08965462337628,
          129.02596627171044,
          146.07852243024138,
          147.39209468334946,
          146.6530444358937,
          146.44074993034087,
          145.18555866625977,
          147.49160773282736,
          148.69372537052027,
          149.0267623761063,
          150.31512465668,
          149.81755940929057,
          149.31601363992198,
          149.82286677192937,
          150.84055355792322,
          149.4938102883225,
          150.90026138760996,
          149.91707245876844,
          149.4433903432537,
          151.1921663327451,
          153.40400971247365,
          157.36330224103386,
          158.66758660952408,
          158.37170114240982,
          154.08202528958296,
          156.1359746308066,
          154.22532408083114,
          150.45709660726845,
          151.46814918996378,
          152.89848342112595,
          153.88565287194663,
          154.17888465774146,
          155.09705839425746,
          154.58755158093064,
          154.4615017182587,
          155.80559130654,
          156.45308954847616,
          157.97099526317885,
          157.5464062520732,
          156.25140976820094,
          155.87193333952527,
          155.02275531731394,
          156.1373014714663,
          156.86706383430416,
          157.37657064763093,
          155.1700346305412,
          157.76268127960515,
          159.7781522416973,
          160.49331935727838,
          163.08729284700203,
          165.43978133665925,
          166.2133294412674,
          166.42960446879934,
          169.39509334324043,
          173.1792429047196,
          173.1341303222896,
          171.8258654318203,
          171.6029562009898,
          171.7701381241127,
          176.11288760332772,
          180.78734724746906,
          180.11994639563736,
          182.83200870407475,
          186.0296946939642,
          188.1035466450834,
          190.77580373372962,
          192.5099844759643,
          184.43085169901948,
          189.73158013454164,
          184.43085169901948,
          191.44187774490163,
          187.98413098570995,
          179.18983109318404,
          177.74357477410538,
          183.93063277031064,
          187.68293815595686,
          192.53121392651957,
          193.9522602730638,
          192.21807953082916,
          194.8266482678095,
          196.75985510899997,
          197.08095054864862,
          199.0260989557764
         ]
        },
        {
         "line": {
          "color": "rgba(50, 171, 96, 1.0)",
          "dash": "solid",
          "shape": "linear",
          "width": 1.3
         },
         "mode": "lines",
         "name": "TSLA.O",
         "text": "",
         "type": "scatter",
         "x": [
          "2017-01-03",
          "2017-01-04",
          "2017-01-05",
          "2017-01-06",
          "2017-01-09",
          "2017-01-10",
          "2017-01-11",
          "2017-01-12",
          "2017-01-13",
          "2017-01-17",
          "2017-01-18",
          "2017-01-19",
          "2017-01-20",
          "2017-01-23",
          "2017-01-24",
          "2017-01-25",
          "2017-01-26",
          "2017-01-27",
          "2017-01-30",
          "2017-01-31",
          "2017-02-01",
          "2017-02-02",
          "2017-02-03",
          "2017-02-06",
          "2017-02-07",
          "2017-02-08",
          "2017-02-09",
          "2017-02-10",
          "2017-02-13",
          "2017-02-14",
          "2017-02-15",
          "2017-02-16",
          "2017-02-17",
          "2017-02-21",
          "2017-02-22",
          "2017-02-23",
          "2017-02-24",
          "2017-02-27",
          "2017-02-28",
          "2017-03-01",
          "2017-03-02",
          "2017-03-03",
          "2017-03-06",
          "2017-03-07",
          "2017-03-08",
          "2017-03-09",
          "2017-03-10",
          "2017-03-13",
          "2017-03-14",
          "2017-03-15",
          "2017-03-16",
          "2017-03-17",
          "2017-03-20",
          "2017-03-21",
          "2017-03-22",
          "2017-03-23",
          "2017-03-24",
          "2017-03-27",
          "2017-03-28",
          "2017-03-29",
          "2017-03-30",
          "2017-03-31",
          "2017-04-03",
          "2017-04-04",
          "2017-04-05",
          "2017-04-06",
          "2017-04-07",
          "2017-04-10",
          "2017-04-11",
          "2017-04-12",
          "2017-04-13",
          "2017-04-17",
          "2017-04-18",
          "2017-04-19",
          "2017-04-20",
          "2017-04-21",
          "2017-04-24",
          "2017-04-25",
          "2017-04-26",
          "2017-04-27",
          "2017-04-28",
          "2017-05-01",
          "2017-05-02",
          "2017-05-03",
          "2017-05-04",
          "2017-05-05",
          "2017-05-08",
          "2017-05-09",
          "2017-05-10",
          "2017-05-11",
          "2017-05-12",
          "2017-05-15",
          "2017-05-16",
          "2017-05-17",
          "2017-05-18",
          "2017-05-19",
          "2017-05-22",
          "2017-05-23",
          "2017-05-24",
          "2017-05-25",
          "2017-05-26",
          "2017-05-30",
          "2017-05-31",
          "2017-06-01",
          "2017-06-02",
          "2017-06-05",
          "2017-06-06",
          "2017-06-07",
          "2017-06-08",
          "2017-06-09",
          "2017-06-12",
          "2017-06-13",
          "2017-06-14",
          "2017-06-15",
          "2017-06-16",
          "2017-06-19",
          "2017-06-20",
          "2017-06-21",
          "2017-06-22",
          "2017-06-23",
          "2017-06-26",
          "2017-06-27",
          "2017-06-28",
          "2017-06-29",
          "2017-06-30",
          "2017-07-03",
          "2017-07-05",
          "2017-07-06",
          "2017-07-07",
          "2017-07-10",
          "2017-07-11",
          "2017-07-12",
          "2017-07-13",
          "2017-07-14",
          "2017-07-17",
          "2017-07-18",
          "2017-07-19",
          "2017-07-20",
          "2017-07-21",
          "2017-07-24",
          "2017-07-25",
          "2017-07-26",
          "2017-07-27",
          "2017-07-28",
          "2017-07-31",
          "2017-08-01",
          "2017-08-02",
          "2017-08-03",
          "2017-08-04",
          "2017-08-07",
          "2017-08-08",
          "2017-08-09",
          "2017-08-10",
          "2017-08-11",
          "2017-08-14",
          "2017-08-15",
          "2017-08-16",
          "2017-08-17",
          "2017-08-18",
          "2017-08-21",
          "2017-08-22",
          "2017-08-23",
          "2017-08-24",
          "2017-08-25",
          "2017-08-28",
          "2017-08-29",
          "2017-08-30",
          "2017-08-31",
          "2017-09-01",
          "2017-09-05",
          "2017-09-06",
          "2017-09-07",
          "2017-09-08",
          "2017-09-11",
          "2017-09-12",
          "2017-09-13",
          "2017-09-14",
          "2017-09-15",
          "2017-09-18",
          "2017-09-19",
          "2017-09-20",
          "2017-09-21",
          "2017-09-22",
          "2017-09-25",
          "2017-09-26",
          "2017-09-27",
          "2017-09-28",
          "2017-09-29",
          "2017-10-02",
          "2017-10-03",
          "2017-10-04",
          "2017-10-05",
          "2017-10-06",
          "2017-10-09",
          "2017-10-10",
          "2017-10-11",
          "2017-10-12",
          "2017-10-13",
          "2017-10-16",
          "2017-10-17",
          "2017-10-18",
          "2017-10-19",
          "2017-10-20",
          "2017-10-23",
          "2017-10-24",
          "2017-10-25",
          "2017-10-26",
          "2017-10-27",
          "2017-10-30",
          "2017-10-31",
          "2017-11-01",
          "2017-11-02",
          "2017-11-03",
          "2017-11-06",
          "2017-11-07",
          "2017-11-08",
          "2017-11-09",
          "2017-11-10",
          "2017-11-13",
          "2017-11-14",
          "2017-11-15",
          "2017-11-16",
          "2017-11-17",
          "2017-11-20",
          "2017-11-21",
          "2017-11-22",
          "2017-11-24",
          "2017-11-27",
          "2017-11-28",
          "2017-11-29",
          "2017-11-30",
          "2017-12-01",
          "2017-12-04",
          "2017-12-05",
          "2017-12-06",
          "2017-12-07",
          "2017-12-08",
          "2017-12-11",
          "2017-12-12",
          "2017-12-13",
          "2017-12-14",
          "2017-12-15",
          "2017-12-18",
          "2017-12-19",
          "2017-12-20",
          "2017-12-21",
          "2017-12-22",
          "2017-12-26",
          "2017-12-27",
          "2017-12-28",
          "2017-12-29",
          "2018-01-02",
          "2018-01-03",
          "2018-01-04",
          "2018-01-05",
          "2018-01-08",
          "2018-01-09",
          "2018-01-10",
          "2018-01-11",
          "2018-01-12",
          "2018-01-16",
          "2018-01-17",
          "2018-01-18",
          "2018-01-19",
          "2018-01-22",
          "2018-01-23",
          "2018-01-24",
          "2018-01-25",
          "2018-01-26",
          "2018-01-29",
          "2018-01-30",
          "2018-01-31",
          "2018-02-01",
          "2018-02-02",
          "2018-02-05",
          "2018-02-06",
          "2018-02-07",
          "2018-02-08",
          "2018-02-09",
          "2018-02-12",
          "2018-02-13",
          "2018-02-14",
          "2018-02-15",
          "2018-02-16",
          "2018-02-20",
          "2018-02-21",
          "2018-02-22",
          "2018-02-23"
         ],
         "y": [
          100,
          104.60850730448408,
          104.49790312917646,
          105.53942577998984,
          106.58555693810774,
          105.93575740817549,
          105.8712383059127,
          105.80671920364995,
          109.56726116410893,
          108.5672150790359,
          109.84838010968248,
          112.33697405410388,
          112.78399926263883,
          114.71496382321764,
          117.3372044794691,
          117.27268537720632,
          116.36941794552745,
          116.57219226692473,
          115.50301857228442,
          116.10212452186737,
          114.86243605696116,
          115.92700124429697,
          115.82561408359832,
          118.79349278768605,
          118.65984607585602,
          120.77975943591869,
          124.06101663671136,
          124.07484215862483,
          129.31471496382323,
          129.4898382413936,
          128.92760035024656,
          123.94580395409926,
          125.45739434997006,
          127.83538411908381,
          126.04728328494399,
          117.9731784874879,
          118.4386377252408,
          113.47527535831144,
          115.20807410479745,
          115.2218996267109,
          115.43389096271717,
          115.93621825890594,
          115.77031199594452,
          114.56288308216969,
          113.77021982579842,
          112.86234388681507,
          112.30471450297247,
          113.44762431448451,
          118.89948845568921,
          117.85335729757132,
          120.76593391400525,
          120.51246601225863,
          120.70602331904696,
          115.52606110880686,
          117.52154477164845,
          117.41554910364533,
          121.27747822480299,
          124.53108438176874,
          127.86303516291073,
          127.83077561177933,
          128.07963500622148,
          128.25475828379186,
          137.57316005345868,
          139.96036683718143,
          135.95096548228028,
          137.6561131849394,
          139.4257799898613,
          143.9651596847781,
          142.26922899672795,
          136.79893082630534,
          140.09862205631595,
          138.918844186368,
          138.37043181713443,
          140.79911516659755,
          139.41195446794782,
          140.8359832250334,
          141.95585050002302,
          144.61035070740587,
          142.94207106318265,
          142.2323609382921,
          144.7393889119314,
          148.77644131065946,
          146.96068943269273,
          143.33379418406375,
          136.16295681828655,
          142.10332273376653,
          141.56873588644638,
          148.05290566385548,
          149.87787455643118,
          148.90087100788054,
          149.68892575694733,
          145.57352873404304,
          146.09429005944975,
          141.07101709756208,
          144.27392967417853,
          143.2462325452786,
          143.02502419466336,
          140.0341029540532,
          142.96511359970506,
          146.011336927969,
          149.84100649799527,
          154.43107977326144,
          157.15470759021153,
          156.85976312272453,
          156.62012074289137,
          160.06267569934099,
          162.61118023872066,
          165.74496520576983,
          170.51477026591087,
          164.67118300382506,
          165.45002073828286,
          173.25683211207888,
          175.4274390524909,
          172.97571316650536,
          171.15996128853863,
          170.42260011982117,
          171.5470759021153,
          173.46421494078066,
          176.3260979768653,
          176.71321259044194,
          173.96654223696945,
          166.9984791925895,
          171.08622517166688,
          166.2519010092631,
          166.64823263744873,
          162.50518457071755,
          150.73966542236968,
          142.32453108438173,
          144.3476657910503,
          145.65187335821926,
          150.79957601732798,
          151.8595326973593,
          149.04373473431954,
          151.05765242637906,
          147.27406792939766,
          151.26964376238536,
          149.8963085856491,
          152.0438729895387,
          151.3433798792571,
          157.85059219318862,
          156.5049080602793,
          158.463523664685,
          154.13613530577445,
          154.41725425134797,
          149.07138577814646,
          147.27406792939766,
          150.1866445458316,
          159.95668003133784,
          164.48223420434124,
          163.68035393336098,
          168.3119037743675,
          167.53306603990964,
          163.78634960136412,
          164.9246509055717,
          167.65749573713074,
          166.98004516337159,
          167.24733858703166,
          162.18258905940365,
          160.12719480160374,
          155.70302778929906,
          157.31139683856398,
          162.5743121802848,
          162.64804829715655,
          160.39909673256832,
          159.29766348679664,
          160.0811097285589,
          162.76326097976866,
          164.01677496658832,
          163.78634960136412,
          161.10880685745886,
          158.7769021613899,
          161.57887460251627,
          158.25614083598322,
          167.6068021567814,
          167.17360247015992,
          168.7773630121204,
          174.03566984653668,
          175.03571593160973,
          177.42753122263696,
          172.86510899119776,
          172.31669662196416,
          168.89257569473247,
          161.80008295313147,
          158.9888934973962,
          159.10871468731278,
          157.1362735609936,
          156.5049080602793,
          157.1961841559519,
          157.3943499700447,
          160.44057329830866,
          163.60661781648923,
          163.75409005023272,
          164.46840868242776,
          158.04414949997695,
          163.87391124014928,
          163.41766901700538,
          163.91538780588968,
          163.86469422554032,
          161.57426609521178,
          163.94764735702105,
          165.74496520576983,
          162.13189547905432,
          159.03958707774552,
          155.3159131757224,
          155.46338540946584,
          150.16360200930916,
          150.31568275035715,
          147.8731738789806,
          147.50910180192633,
          152.7858426655606,
          147.96995253237475,
          137.9141895939905,
          141.0618000829531,
          139.5363841651689,
          141.04336605373518,
          140.27835384119084,
          139.63316281856305,
          139.63316281856305,
          145.3523203834278,
          142.26462048942346,
          143.46283238858933,
          144.01585326512742,
          145.19102262777085,
          142.2830545186414,
          146.46297064380846,
          144.06193833817227,
          145.42144799299507,
          146.00211991336005,
          146.3431494538919,
          141.73003364210334,
          142.33374809899072,
          141.2645744043504,
          140.65164293285403,
          139.96036683718143,
          144.3660998202682,
          143.43518134476244,
          145.22789068620673,
          151.5784137517858,
          157.16392460482047,
          156.24222314392367,
          155.71685331121247,
          158.27918337250563,
          156.16848702705192,
          152.58767685146782,
          151.6106733029172,
          152.84575326051893,
          149.8686575418222,
          146.2233282639753,
          143.61952163694178,
          145.33388635420988,
          143.48587492511174,
          147.71648463062812,
          146.20489423475735,
          144.99285681367803,
          145.89612424535693,
          155.03479423014886,
          153.78128024332918,
          154.29282455412692,
          155.7445043550394,
          154.94723259136367,
          156.71689939628556,
          159.98893958246924,
          158.79533619060786,
          161.30697267155168,
          162.01668279644224,
          162.58352919489377,
          159.40365915479975,
          155.6016406286004,
          158.00267293423659,
          161.08115581363194,
          159.37139960366835,
          163.28402230517537,
          160.95211760910638,
          158.41743859164018,
          153.52320383427806,
          153.91031844785473,
          158.99350200470067,
          145.27397575925158,
          143.05728374579473,
          145.50440112447578,
          149.15894741693165,
          148.5367989308263,
          153.95409926724733,
          154.6108115581363,
          154.27899903221345,
          153.60154845845432,
          159.5326973593253,
          162.24249965436195
         ]
        },
        {
         "line": {
          "color": "rgba(128, 0, 128, 1.0)",
          "dash": "solid",
          "shape": "linear",
          "width": 1.3
         },
         "mode": "lines",
         "name": ".SPX",
         "text": "",
         "type": "scatter",
         "x": [
          "2017-01-03",
          "2017-01-04",
          "2017-01-05",
          "2017-01-06",
          "2017-01-09",
          "2017-01-10",
          "2017-01-11",
          "2017-01-12",
          "2017-01-13",
          "2017-01-17",
          "2017-01-18",
          "2017-01-19",
          "2017-01-20",
          "2017-01-23",
          "2017-01-24",
          "2017-01-25",
          "2017-01-26",
          "2017-01-27",
          "2017-01-30",
          "2017-01-31",
          "2017-02-01",
          "2017-02-02",
          "2017-02-03",
          "2017-02-06",
          "2017-02-07",
          "2017-02-08",
          "2017-02-09",
          "2017-02-10",
          "2017-02-13",
          "2017-02-14",
          "2017-02-15",
          "2017-02-16",
          "2017-02-17",
          "2017-02-21",
          "2017-02-22",
          "2017-02-23",
          "2017-02-24",
          "2017-02-27",
          "2017-02-28",
          "2017-03-01",
          "2017-03-02",
          "2017-03-03",
          "2017-03-06",
          "2017-03-07",
          "2017-03-08",
          "2017-03-09",
          "2017-03-10",
          "2017-03-13",
          "2017-03-14",
          "2017-03-15",
          "2017-03-16",
          "2017-03-17",
          "2017-03-20",
          "2017-03-21",
          "2017-03-22",
          "2017-03-23",
          "2017-03-24",
          "2017-03-27",
          "2017-03-28",
          "2017-03-29",
          "2017-03-30",
          "2017-03-31",
          "2017-04-03",
          "2017-04-04",
          "2017-04-05",
          "2017-04-06",
          "2017-04-07",
          "2017-04-10",
          "2017-04-11",
          "2017-04-12",
          "2017-04-13",
          "2017-04-17",
          "2017-04-18",
          "2017-04-19",
          "2017-04-20",
          "2017-04-21",
          "2017-04-24",
          "2017-04-25",
          "2017-04-26",
          "2017-04-27",
          "2017-04-28",
          "2017-05-01",
          "2017-05-02",
          "2017-05-03",
          "2017-05-04",
          "2017-05-05",
          "2017-05-08",
          "2017-05-09",
          "2017-05-10",
          "2017-05-11",
          "2017-05-12",
          "2017-05-15",
          "2017-05-16",
          "2017-05-17",
          "2017-05-18",
          "2017-05-19",
          "2017-05-22",
          "2017-05-23",
          "2017-05-24",
          "2017-05-25",
          "2017-05-26",
          "2017-05-30",
          "2017-05-31",
          "2017-06-01",
          "2017-06-02",
          "2017-06-05",
          "2017-06-06",
          "2017-06-07",
          "2017-06-08",
          "2017-06-09",
          "2017-06-12",
          "2017-06-13",
          "2017-06-14",
          "2017-06-15",
          "2017-06-16",
          "2017-06-19",
          "2017-06-20",
          "2017-06-21",
          "2017-06-22",
          "2017-06-23",
          "2017-06-26",
          "2017-06-27",
          "2017-06-28",
          "2017-06-29",
          "2017-06-30",
          "2017-07-03",
          "2017-07-05",
          "2017-07-06",
          "2017-07-07",
          "2017-07-10",
          "2017-07-11",
          "2017-07-12",
          "2017-07-13",
          "2017-07-14",
          "2017-07-17",
          "2017-07-18",
          "2017-07-19",
          "2017-07-20",
          "2017-07-21",
          "2017-07-24",
          "2017-07-25",
          "2017-07-26",
          "2017-07-27",
          "2017-07-28",
          "2017-07-31",
          "2017-08-01",
          "2017-08-02",
          "2017-08-03",
          "2017-08-04",
          "2017-08-07",
          "2017-08-08",
          "2017-08-09",
          "2017-08-10",
          "2017-08-11",
          "2017-08-14",
          "2017-08-15",
          "2017-08-16",
          "2017-08-17",
          "2017-08-18",
          "2017-08-21",
          "2017-08-22",
          "2017-08-23",
          "2017-08-24",
          "2017-08-25",
          "2017-08-28",
          "2017-08-29",
          "2017-08-30",
          "2017-08-31",
          "2017-09-01",
          "2017-09-05",
          "2017-09-06",
          "2017-09-07",
          "2017-09-08",
          "2017-09-11",
          "2017-09-12",
          "2017-09-13",
          "2017-09-14",
          "2017-09-15",
          "2017-09-18",
          "2017-09-19",
          "2017-09-20",
          "2017-09-21",
          "2017-09-22",
          "2017-09-25",
          "2017-09-26",
          "2017-09-27",
          "2017-09-28",
          "2017-09-29",
          "2017-10-02",
          "2017-10-03",
          "2017-10-04",
          "2017-10-05",
          "2017-10-06",
          "2017-10-09",
          "2017-10-10",
          "2017-10-11",
          "2017-10-12",
          "2017-10-13",
          "2017-10-16",
          "2017-10-17",
          "2017-10-18",
          "2017-10-19",
          "2017-10-20",
          "2017-10-23",
          "2017-10-24",
          "2017-10-25",
          "2017-10-26",
          "2017-10-27",
          "2017-10-30",
          "2017-10-31",
          "2017-11-01",
          "2017-11-02",
          "2017-11-03",
          "2017-11-06",
          "2017-11-07",
          "2017-11-08",
          "2017-11-09",
          "2017-11-10",
          "2017-11-13",
          "2017-11-14",
          "2017-11-15",
          "2017-11-16",
          "2017-11-17",
          "2017-11-20",
          "2017-11-21",
          "2017-11-22",
          "2017-11-24",
          "2017-11-27",
          "2017-11-28",
          "2017-11-29",
          "2017-11-30",
          "2017-12-01",
          "2017-12-04",
          "2017-12-05",
          "2017-12-06",
          "2017-12-07",
          "2017-12-08",
          "2017-12-11",
          "2017-12-12",
          "2017-12-13",
          "2017-12-14",
          "2017-12-15",
          "2017-12-18",
          "2017-12-19",
          "2017-12-20",
          "2017-12-21",
          "2017-12-22",
          "2017-12-26",
          "2017-12-27",
          "2017-12-28",
          "2017-12-29",
          "2018-01-02",
          "2018-01-03",
          "2018-01-04",
          "2018-01-05",
          "2018-01-08",
          "2018-01-09",
          "2018-01-10",
          "2018-01-11",
          "2018-01-12",
          "2018-01-16",
          "2018-01-17",
          "2018-01-18",
          "2018-01-19",
          "2018-01-22",
          "2018-01-23",
          "2018-01-24",
          "2018-01-25",
          "2018-01-26",
          "2018-01-29",
          "2018-01-30",
          "2018-01-31",
          "2018-02-01",
          "2018-02-02",
          "2018-02-05",
          "2018-02-06",
          "2018-02-07",
          "2018-02-08",
          "2018-02-09",
          "2018-02-12",
          "2018-02-13",
          "2018-02-14",
          "2018-02-15",
          "2018-02-16",
          "2018-02-20",
          "2018-02-21",
          "2018-02-22",
          "2018-02-23"
         ],
         "y": [
          100,
          100.57223085883349,
          100.49472280906888,
          100.84815951599546,
          100.49029377765378,
          100.49029377765378,
          100.77463759450447,
          100.55850086144662,
          100.74452018088165,
          100.44556056036105,
          100.62272181696585,
          100.25954124092603,
          100.59703343475815,
          100.32641961529431,
          100.98501658672265,
          101.79552933568958,
          101.72067870477406,
          101.63254097961318,
          101.02177754746815,
          100.93186820974121,
          100.96198562336404,
          101.01956303176058,
          101.75345353724595,
          101.5382026104711,
          101.56123357382974,
          101.63165517333015,
          102.21628732012596,
          102.58079660559032,
          103.1189239225274,
          103.53215255355805,
          104.04902051970255,
          103.9591111819756,
          104.13361501973132,
          104.76342328696137,
          104.65004008273431,
          104.693887493744,
          104.85023230269775,
          104.95697195980212,
          104.68635814033829,
          106.11782109370502,
          105.4959850830222,
          105.54913346000363,
          105.20322610648279,
          104.89673713255647,
          104.6571265329985,
          104.74083522674427,
          105.08319935513302,
          105.12173192844456,
          104.76652360895196,
          105.6439147322872,
          105.47206831338056,
          105.3334396300873,
          105.12173192844456,
          103.81738217669178,
          104.01358826838158,
          103.90330538614512,
          103.81561056412573,
          103.70975671330439,
          104.46180624759171,
          104.57518945181879,
          104.8821213288866,
          104.64561105131918,
          104.47376463241255,
          104.5322278470921,
          104.21289468206199,
          104.4139727083084,
          104.32760659571359,
          104.39935690463852,
          104.24965564280748,
          103.85768636256935,
          103.1499271424332,
          104.03839084430626,
          103.73633090179509,
          103.55828383890729,
          104.34089368995896,
          104.02421794377787,
          105.15184934206738,
          105.79228728469371,
          105.74091052027832,
          105.79937373495791,
          105.5969669992869,
          105.77988599673138,
          105.90567048892079,
          105.77102793390114,
          105.83259147057132,
          106.26530783982851,
          106.26929396810212,
          106.16033979529018,
          106.28036654663993,
          106.05049981619521,
          105.89371210409996,
          106.39950749170666,
          106.32642847335715,
          104.39359916379888,
          104.77848199377277,
          105.48756992333348,
          106.03189788425169,
          106.22677526651698,
          106.49118844199961,
          106.96420899713443,
          106.99742673274784,
          106.86854191856783,
          106.81937966986001,
          107.62812080626088,
          108.02717653676319,
          107.89563430373413,
          107.59578887693051,
          107.76453497384657,
          107.79332367804486,
          107.70385724345944,
          107.59844629577957,
          108.08386813887671,
          107.9762426754893,
          107.73441756022375,
          107.76497787698808,
          108.66451415739893,
          107.93682429589475,
          107.87393204980005,
          107.82476980109222,
          107.99307299486675,
          108.02717653676319,
          107.15510025112609,
          108.09892684568811,
          107.16927315165445,
          107.3335902171554,
          107.58161597640212,
          107.73796078535585,
          106.72858452585004,
          107.41198407320303,
          107.51163728004323,
          107.42748568315596,
          108.21231004991519,
          108.41515968872768,
          108.92184088261739,
          108.91608314177772,
          108.98118990357999,
          109.56670785665882,
          109.54987753728136,
          109.50957335140379,
          109.39308982518612,
          109.71286589335779,
          109.74386911326361,
          109.63712945615924,
          109.49008561317726,
          109.4103630477051,
          109.67831944831985,
          109.73235363158432,
          109.49274303202631,
          109.69957879911243,
          109.88028328084931,
          109.61498429908364,
          109.57512301634755,
          107.98908686659314,
          108.1268297436034,
          109.21282824659076,
          109.1583511601848,
          109.31336725971398,
          107.62590629055333,
          107.42837148943897,
          107.55327017534535,
          108.62243835895529,
          108.24729939809463,
          108.02274750534806,
          108.20345198708496,
          108.25615746092487,
          108.34739550807635,
          108.84743315484337,
          109.47015497180924,
          109.6871775111501,
          108.85894863652268,
          109.1995411523454,
          109.18005341411887,
          109.01750796118397,
          110.19917354273794,
          110.56988347218348,
          110.65359216592923,
          110.53179380201344,
          110.73597215025046,
          110.89718889376081,
          111.02031596710115,
          111.09073756660155,
          110.75235956648642,
          110.82410987541134,
          110.5778557287307,
          110.58582798527792,
          111.03758918962012,
          111.17134593835674,
          111.58324585996289,
          112.01551932607859,
          112.25734444134412,
          112.39730183406192,
          113.03198203584859,
          112.91062657507429,
          112.70689112997879,
          112.96864688661236,
          113.17238233170788,
          112.9814910777162,
          113.08070138141491,
          113.27867908567075,
          113.35485842601084,
          113.43901002289812,
          113.4762138867851,
          114.05685990530732,
          113.60376999154056,
          113.78757479526801,
          113.25697683173668,
          113.40092035272806,
          114.31640114623333,
          113.95144895762745,
          114.05907442101488,
          114.2406647090348,
          114.26236696296887,
          114.61624657303695,
          114.76196170659438,
          114.74025945266028,
          114.90590522758579,
          114.47363176147007,
          114.37087823263931,
          114.48337563058335,
          114.21896245510071,
          113.58782547844612,
          114.5188078819043,
          114.21807664881767,
          114.3637917823751,
          115.11185518838887,
          115.02548907579401,
          115.2619993533614,
          115.21770903921022,
          116.35242688776393,
          116.30946528303727,
          117.26214994042954,
          117.02475385657908,
          116.90162678323878,
          116.46448138256646,
          116.45119428832109,
          116.79267261042683,
          117.43576797190222,
          117.8117927390459,
          117.99426883334885,
          117.93846303751832,
          117.45835603211935,
          118.51246550891786,
          119.14803151698754,
          118.76314868701363,
          118.66482418959798,
          118.90044866088236,
          118.84597157447638,
          118.72018708228697,
          118.81408254828752,
          119.03199089391141,
          118.41502681778522,
          119.39827179194182,
          120.16227971105,
          120.64637284472258,
          121.49497526385954,
          121.69693909638902,
          121.8554984210503,
          121.71997005974764,
          122.5761018322903,
          123.40344490063468,
          122.96851401566992,
          124.12626282758224,
          123.92562770447732,
          124.46906985911252,
          125.47313128092017,
          125.74595961609157,
          125.67553801659115,
          125.7512744537897,
          127.24031481555298,
          126.38374013986882,
          125.00631136976654,
          125.0674320032952,
          124.98638072839852,
          122.3356054264493,
          117.32238476767516,
          119.36859728146052,
          118.77156384670235,
          114.31330082424276,
          116.02069243477145,
          117.63507438558263,
          117.94244916579193,
          119.52317047784821,
          120.96570600975272,
          121.01088213018694,
          120.30400871633384,
          119.64275432605645,
          119.7592378522741,
          121.67878006758703
         ]
        }
       ],
       "layout": {
        "legend": {
         "bgcolor": "#F5F6F9",
         "font": {
          "color": "#4D5663"
         }
        },
        "paper_bgcolor": "#F5F6F9",
        "plot_bgcolor": "#F5F6F9",
        "template": {
         "data": {
          "bar": [
           {
            "error_x": {
             "color": "#2a3f5f"
            },
            "error_y": {
             "color": "#2a3f5f"
            },
            "marker": {
             "line": {
              "color": "#E5ECF6",
              "width": 0.5
             }
            },
            "type": "bar"
           }
          ],
          "barpolar": [
           {
            "marker": {
             "line": {
              "color": "#E5ECF6",
              "width": 0.5
             }
            },
            "type": "barpolar"
           }
          ],
          "carpet": [
           {
            "aaxis": {
             "endlinecolor": "#2a3f5f",
             "gridcolor": "white",
             "linecolor": "white",
             "minorgridcolor": "white",
             "startlinecolor": "#2a3f5f"
            },
            "baxis": {
             "endlinecolor": "#2a3f5f",
             "gridcolor": "white",
             "linecolor": "white",
             "minorgridcolor": "white",
             "startlinecolor": "#2a3f5f"
            },
            "type": "carpet"
           }
          ],
          "choropleth": [
           {
            "colorbar": {
             "outlinewidth": 0,
             "ticks": ""
            },
            "type": "choropleth"
           }
          ],
          "contour": [
           {
            "colorbar": {
             "outlinewidth": 0,
             "ticks": ""
            },
            "colorscale": [
             [
              0,
              "#0d0887"
             ],
             [
              0.1111111111111111,
              "#46039f"
             ],
             [
              0.2222222222222222,
              "#7201a8"
             ],
             [
              0.3333333333333333,
              "#9c179e"
             ],
             [
              0.4444444444444444,
              "#bd3786"
             ],
             [
              0.5555555555555556,
              "#d8576b"
             ],
             [
              0.6666666666666666,
              "#ed7953"
             ],
             [
              0.7777777777777778,
              "#fb9f3a"
             ],
             [
              0.8888888888888888,
              "#fdca26"
             ],
             [
              1,
              "#f0f921"
             ]
            ],
            "type": "contour"
           }
          ],
          "contourcarpet": [
           {
            "colorbar": {
             "outlinewidth": 0,
             "ticks": ""
            },
            "type": "contourcarpet"
           }
          ],
          "heatmap": [
           {
            "colorbar": {
             "outlinewidth": 0,
             "ticks": ""
            },
            "colorscale": [
             [
              0,
              "#0d0887"
             ],
             [
              0.1111111111111111,
              "#46039f"
             ],
             [
              0.2222222222222222,
              "#7201a8"
             ],
             [
              0.3333333333333333,
              "#9c179e"
             ],
             [
              0.4444444444444444,
              "#bd3786"
             ],
             [
              0.5555555555555556,
              "#d8576b"
             ],
             [
              0.6666666666666666,
              "#ed7953"
             ],
             [
              0.7777777777777778,
              "#fb9f3a"
             ],
             [
              0.8888888888888888,
              "#fdca26"
             ],
             [
              1,
              "#f0f921"
             ]
            ],
            "type": "heatmap"
           }
          ],
          "heatmapgl": [
           {
            "colorbar": {
             "outlinewidth": 0,
             "ticks": ""
            },
            "colorscale": [
             [
              0,
              "#0d0887"
             ],
             [
              0.1111111111111111,
              "#46039f"
             ],
             [
              0.2222222222222222,
              "#7201a8"
             ],
             [
              0.3333333333333333,
              "#9c179e"
             ],
             [
              0.4444444444444444,
              "#bd3786"
             ],
             [
              0.5555555555555556,
              "#d8576b"
             ],
             [
              0.6666666666666666,
              "#ed7953"
             ],
             [
              0.7777777777777778,
              "#fb9f3a"
             ],
             [
              0.8888888888888888,
              "#fdca26"
             ],
             [
              1,
              "#f0f921"
             ]
            ],
            "type": "heatmapgl"
           }
          ],
          "histogram": [
           {
            "marker": {
             "colorbar": {
              "outlinewidth": 0,
              "ticks": ""
             }
            },
            "type": "histogram"
           }
          ],
          "histogram2d": [
           {
            "colorbar": {
             "outlinewidth": 0,
             "ticks": ""
            },
            "colorscale": [
             [
              0,
              "#0d0887"
             ],
             [
              0.1111111111111111,
              "#46039f"
             ],
             [
              0.2222222222222222,
              "#7201a8"
             ],
             [
              0.3333333333333333,
              "#9c179e"
             ],
             [
              0.4444444444444444,
              "#bd3786"
             ],
             [
              0.5555555555555556,
              "#d8576b"
             ],
             [
              0.6666666666666666,
              "#ed7953"
             ],
             [
              0.7777777777777778,
              "#fb9f3a"
             ],
             [
              0.8888888888888888,
              "#fdca26"
             ],
             [
              1,
              "#f0f921"
             ]
            ],
            "type": "histogram2d"
           }
          ],
          "histogram2dcontour": [
           {
            "colorbar": {
             "outlinewidth": 0,
             "ticks": ""
            },
            "colorscale": [
             [
              0,
              "#0d0887"
             ],
             [
              0.1111111111111111,
              "#46039f"
             ],
             [
              0.2222222222222222,
              "#7201a8"
             ],
             [
              0.3333333333333333,
              "#9c179e"
             ],
             [
              0.4444444444444444,
              "#bd3786"
             ],
             [
              0.5555555555555556,
              "#d8576b"
             ],
             [
              0.6666666666666666,
              "#ed7953"
             ],
             [
              0.7777777777777778,
              "#fb9f3a"
             ],
             [
              0.8888888888888888,
              "#fdca26"
             ],
             [
              1,
              "#f0f921"
             ]
            ],
            "type": "histogram2dcontour"
           }
          ],
          "mesh3d": [
           {
            "colorbar": {
             "outlinewidth": 0,
             "ticks": ""
            },
            "type": "mesh3d"
           }
          ],
          "parcoords": [
           {
            "line": {
             "colorbar": {
              "outlinewidth": 0,
              "ticks": ""
             }
            },
            "type": "parcoords"
           }
          ],
          "pie": [
           {
            "automargin": true,
            "type": "pie"
           }
          ],
          "scatter": [
           {
            "marker": {
             "colorbar": {
              "outlinewidth": 0,
              "ticks": ""
             }
            },
            "type": "scatter"
           }
          ],
          "scatter3d": [
           {
            "line": {
             "colorbar": {
              "outlinewidth": 0,
              "ticks": ""
             }
            },
            "marker": {
             "colorbar": {
              "outlinewidth": 0,
              "ticks": ""
             }
            },
            "type": "scatter3d"
           }
          ],
          "scattercarpet": [
           {
            "marker": {
             "colorbar": {
              "outlinewidth": 0,
              "ticks": ""
             }
            },
            "type": "scattercarpet"
           }
          ],
          "scattergeo": [
           {
            "marker": {
             "colorbar": {
              "outlinewidth": 0,
              "ticks": ""
             }
            },
            "type": "scattergeo"
           }
          ],
          "scattergl": [
           {
            "marker": {
             "colorbar": {
              "outlinewidth": 0,
              "ticks": ""
             }
            },
            "type": "scattergl"
           }
          ],
          "scattermapbox": [
           {
            "marker": {
             "colorbar": {
              "outlinewidth": 0,
              "ticks": ""
             }
            },
            "type": "scattermapbox"
           }
          ],
          "scatterpolar": [
           {
            "marker": {
             "colorbar": {
              "outlinewidth": 0,
              "ticks": ""
             }
            },
            "type": "scatterpolar"
           }
          ],
          "scatterpolargl": [
           {
            "marker": {
             "colorbar": {
              "outlinewidth": 0,
              "ticks": ""
             }
            },
            "type": "scatterpolargl"
           }
          ],
          "scatterternary": [
           {
            "marker": {
             "colorbar": {
              "outlinewidth": 0,
              "ticks": ""
             }
            },
            "type": "scatterternary"
           }
          ],
          "surface": [
           {
            "colorbar": {
             "outlinewidth": 0,
             "ticks": ""
            },
            "colorscale": [
             [
              0,
              "#0d0887"
             ],
             [
              0.1111111111111111,
              "#46039f"
             ],
             [
              0.2222222222222222,
              "#7201a8"
             ],
             [
              0.3333333333333333,
              "#9c179e"
             ],
             [
              0.4444444444444444,
              "#bd3786"
             ],
             [
              0.5555555555555556,
              "#d8576b"
             ],
             [
              0.6666666666666666,
              "#ed7953"
             ],
             [
              0.7777777777777778,
              "#fb9f3a"
             ],
             [
              0.8888888888888888,
              "#fdca26"
             ],
             [
              1,
              "#f0f921"
             ]
            ],
            "type": "surface"
           }
          ],
          "table": [
           {
            "cells": {
             "fill": {
              "color": "#EBF0F8"
             },
             "line": {
              "color": "white"
             }
            },
            "header": {
             "fill": {
              "color": "#C8D4E3"
             },
             "line": {
              "color": "white"
             }
            },
            "type": "table"
           }
          ]
         },
         "layout": {
          "annotationdefaults": {
           "arrowcolor": "#2a3f5f",
           "arrowhead": 0,
           "arrowwidth": 1
          },
          "coloraxis": {
           "colorbar": {
            "outlinewidth": 0,
            "ticks": ""
           }
          },
          "colorscale": {
           "diverging": [
            [
             0,
             "#8e0152"
            ],
            [
             0.1,
             "#c51b7d"
            ],
            [
             0.2,
             "#de77ae"
            ],
            [
             0.3,
             "#f1b6da"
            ],
            [
             0.4,
             "#fde0ef"
            ],
            [
             0.5,
             "#f7f7f7"
            ],
            [
             0.6,
             "#e6f5d0"
            ],
            [
             0.7,
             "#b8e186"
            ],
            [
             0.8,
             "#7fbc41"
            ],
            [
             0.9,
             "#4d9221"
            ],
            [
             1,
             "#276419"
            ]
           ],
           "sequential": [
            [
             0,
             "#0d0887"
            ],
            [
             0.1111111111111111,
             "#46039f"
            ],
            [
             0.2222222222222222,
             "#7201a8"
            ],
            [
             0.3333333333333333,
             "#9c179e"
            ],
            [
             0.4444444444444444,
             "#bd3786"
            ],
            [
             0.5555555555555556,
             "#d8576b"
            ],
            [
             0.6666666666666666,
             "#ed7953"
            ],
            [
             0.7777777777777778,
             "#fb9f3a"
            ],
            [
             0.8888888888888888,
             "#fdca26"
            ],
            [
             1,
             "#f0f921"
            ]
           ],
           "sequentialminus": [
            [
             0,
             "#0d0887"
            ],
            [
             0.1111111111111111,
             "#46039f"
            ],
            [
             0.2222222222222222,
             "#7201a8"
            ],
            [
             0.3333333333333333,
             "#9c179e"
            ],
            [
             0.4444444444444444,
             "#bd3786"
            ],
            [
             0.5555555555555556,
             "#d8576b"
            ],
            [
             0.6666666666666666,
             "#ed7953"
            ],
            [
             0.7777777777777778,
             "#fb9f3a"
            ],
            [
             0.8888888888888888,
             "#fdca26"
            ],
            [
             1,
             "#f0f921"
            ]
           ]
          },
          "colorway": [
           "#636efa",
           "#EF553B",
           "#00cc96",
           "#ab63fa",
           "#FFA15A",
           "#19d3f3",
           "#FF6692",
           "#B6E880",
           "#FF97FF",
           "#FECB52"
          ],
          "font": {
           "color": "#2a3f5f"
          },
          "geo": {
           "bgcolor": "white",
           "lakecolor": "white",
           "landcolor": "#E5ECF6",
           "showlakes": true,
           "showland": true,
           "subunitcolor": "white"
          },
          "hoverlabel": {
           "align": "left"
          },
          "hovermode": "closest",
          "mapbox": {
           "style": "light"
          },
          "paper_bgcolor": "white",
          "plot_bgcolor": "#E5ECF6",
          "polar": {
           "angularaxis": {
            "gridcolor": "white",
            "linecolor": "white",
            "ticks": ""
           },
           "bgcolor": "#E5ECF6",
           "radialaxis": {
            "gridcolor": "white",
            "linecolor": "white",
            "ticks": ""
           }
          },
          "scene": {
           "xaxis": {
            "backgroundcolor": "#E5ECF6",
            "gridcolor": "white",
            "gridwidth": 2,
            "linecolor": "white",
            "showbackground": true,
            "ticks": "",
            "zerolinecolor": "white"
           },
           "yaxis": {
            "backgroundcolor": "#E5ECF6",
            "gridcolor": "white",
            "gridwidth": 2,
            "linecolor": "white",
            "showbackground": true,
            "ticks": "",
            "zerolinecolor": "white"
           },
           "zaxis": {
            "backgroundcolor": "#E5ECF6",
            "gridcolor": "white",
            "gridwidth": 2,
            "linecolor": "white",
            "showbackground": true,
            "ticks": "",
            "zerolinecolor": "white"
           }
          },
          "shapedefaults": {
           "line": {
            "color": "#2a3f5f"
           }
          },
          "ternary": {
           "aaxis": {
            "gridcolor": "white",
            "linecolor": "white",
            "ticks": ""
           },
           "baxis": {
            "gridcolor": "white",
            "linecolor": "white",
            "ticks": ""
           },
           "bgcolor": "#E5ECF6",
           "caxis": {
            "gridcolor": "white",
            "linecolor": "white",
            "ticks": ""
           }
          },
          "title": {
           "x": 0.05
          },
          "xaxis": {
           "automargin": true,
           "gridcolor": "white",
           "linecolor": "white",
           "ticks": "",
           "title": {
            "standoff": 15
           },
           "zerolinecolor": "white",
           "zerolinewidth": 2
          },
          "yaxis": {
           "automargin": true,
           "gridcolor": "white",
           "linecolor": "white",
           "ticks": "",
           "title": {
            "standoff": 15
           },
           "zerolinecolor": "white",
           "zerolinewidth": 2
          }
         }
        },
        "title": {
         "font": {
          "color": "#4D5663"
         }
        },
        "xaxis": {
         "gridcolor": "#E1E5ED",
         "showgrid": true,
         "tickfont": {
          "color": "#4D5663"
         },
         "title": {
          "font": {
           "color": "#4D5663"
          },
          "text": ""
         },
         "zerolinecolor": "#E1E5ED"
        },
        "yaxis": {
         "gridcolor": "#E1E5ED",
         "showgrid": true,
         "tickfont": {
          "color": "#4D5663"
         },
         "title": {
          "font": {
           "color": "#4D5663"
          },
          "text": ""
         },
         "zerolinecolor": "#E1E5ED"
        }
       }
      },
      "text/html": "<div>\n        \n        \n            <div id=\"7d1bf945-b286-4be5-986c-e49ad5a21dda\" class=\"plotly-graph-div\" style=\"height:525px; width:100%;\"></div>\n            <script type=\"text/javascript\">\n                require([\"plotly\"], function(Plotly) {\n                    window.PLOTLYENV=window.PLOTLYENV || {};\n                    window.PLOTLYENV.BASE_URL='https://plot.ly';\n                    \n                if (document.getElementById(\"7d1bf945-b286-4be5-986c-e49ad5a21dda\")) {\n                    Plotly.newPlot(\n                        '7d1bf945-b286-4be5-986c-e49ad5a21dda',\n                        [{\"line\": {\"color\": \"rgba(255, 153, 51, 1.0)\", \"dash\": \"solid\", \"shape\": \"linear\", \"width\": 1.3}, \"mode\": \"lines\", \"name\": \"AAPL.O\", \"text\": \"\", \"type\": \"scatter\", \"x\": [\"2017-01-03\", \"2017-01-04\", \"2017-01-05\", \"2017-01-06\", \"2017-01-09\", \"2017-01-10\", \"2017-01-11\", \"2017-01-12\", \"2017-01-13\", \"2017-01-17\", \"2017-01-18\", \"2017-01-19\", \"2017-01-20\", \"2017-01-23\", \"2017-01-24\", \"2017-01-25\", \"2017-01-26\", \"2017-01-27\", \"2017-01-30\", \"2017-01-31\", \"2017-02-01\", \"2017-02-02\", \"2017-02-03\", \"2017-02-06\", \"2017-02-07\", \"2017-02-08\", \"2017-02-09\", \"2017-02-10\", \"2017-02-13\", \"2017-02-14\", \"2017-02-15\", \"2017-02-16\", \"2017-02-17\", \"2017-02-21\", \"2017-02-22\", \"2017-02-23\", \"2017-02-24\", \"2017-02-27\", \"2017-02-28\", \"2017-03-01\", \"2017-03-02\", \"2017-03-03\", \"2017-03-06\", \"2017-03-07\", \"2017-03-08\", \"2017-03-09\", \"2017-03-10\", \"2017-03-13\", \"2017-03-14\", \"2017-03-15\", \"2017-03-16\", \"2017-03-17\", \"2017-03-20\", \"2017-03-21\", \"2017-03-22\", \"2017-03-23\", \"2017-03-24\", \"2017-03-27\", \"2017-03-28\", \"2017-03-29\", \"2017-03-30\", \"2017-03-31\", \"2017-04-03\", \"2017-04-04\", \"2017-04-05\", \"2017-04-06\", \"2017-04-07\", \"2017-04-10\", \"2017-04-11\", \"2017-04-12\", \"2017-04-13\", \"2017-04-17\", \"2017-04-18\", \"2017-04-19\", \"2017-04-20\", \"2017-04-21\", \"2017-04-24\", \"2017-04-25\", \"2017-04-26\", \"2017-04-27\", \"2017-04-28\", \"2017-05-01\", \"2017-05-02\", \"2017-05-03\", \"2017-05-04\", \"2017-05-05\", \"2017-05-08\", \"2017-05-09\", \"2017-05-10\", \"2017-05-11\", \"2017-05-12\", \"2017-05-15\", \"2017-05-16\", \"2017-05-17\", \"2017-05-18\", \"2017-05-19\", \"2017-05-22\", \"2017-05-23\", \"2017-05-24\", \"2017-05-25\", \"2017-05-26\", \"2017-05-30\", \"2017-05-31\", \"2017-06-01\", \"2017-06-02\", \"2017-06-05\", \"2017-06-06\", \"2017-06-07\", \"2017-06-08\", \"2017-06-09\", \"2017-06-12\", \"2017-06-13\", \"2017-06-14\", \"2017-06-15\", \"2017-06-16\", \"2017-06-19\", \"2017-06-20\", \"2017-06-21\", \"2017-06-22\", \"2017-06-23\", \"2017-06-26\", \"2017-06-27\", \"2017-06-28\", \"2017-06-29\", \"2017-06-30\", \"2017-07-03\", \"2017-07-05\", \"2017-07-06\", \"2017-07-07\", \"2017-07-10\", \"2017-07-11\", \"2017-07-12\", \"2017-07-13\", \"2017-07-14\", \"2017-07-17\", \"2017-07-18\", \"2017-07-19\", \"2017-07-20\", \"2017-07-21\", \"2017-07-24\", \"2017-07-25\", \"2017-07-26\", \"2017-07-27\", \"2017-07-28\", \"2017-07-31\", \"2017-08-01\", \"2017-08-02\", \"2017-08-03\", \"2017-08-04\", \"2017-08-07\", \"2017-08-08\", \"2017-08-09\", \"2017-08-10\", \"2017-08-11\", \"2017-08-14\", \"2017-08-15\", \"2017-08-16\", \"2017-08-17\", \"2017-08-18\", \"2017-08-21\", \"2017-08-22\", \"2017-08-23\", \"2017-08-24\", \"2017-08-25\", \"2017-08-28\", \"2017-08-29\", \"2017-08-30\", \"2017-08-31\", \"2017-09-01\", \"2017-09-05\", \"2017-09-06\", \"2017-09-07\", \"2017-09-08\", \"2017-09-11\", \"2017-09-12\", \"2017-09-13\", \"2017-09-14\", \"2017-09-15\", \"2017-09-18\", \"2017-09-19\", \"2017-09-20\", \"2017-09-21\", \"2017-09-22\", \"2017-09-25\", \"2017-09-26\", \"2017-09-27\", \"2017-09-28\", \"2017-09-29\", \"2017-10-02\", \"2017-10-03\", \"2017-10-04\", \"2017-10-05\", \"2017-10-06\", \"2017-10-09\", \"2017-10-10\", \"2017-10-11\", \"2017-10-12\", \"2017-10-13\", \"2017-10-16\", \"2017-10-17\", \"2017-10-18\", \"2017-10-19\", \"2017-10-20\", \"2017-10-23\", \"2017-10-24\", \"2017-10-25\", \"2017-10-26\", \"2017-10-27\", \"2017-10-30\", \"2017-10-31\", \"2017-11-01\", \"2017-11-02\", \"2017-11-03\", \"2017-11-06\", \"2017-11-07\", \"2017-11-08\", \"2017-11-09\", \"2017-11-10\", \"2017-11-13\", \"2017-11-14\", \"2017-11-15\", \"2017-11-16\", \"2017-11-17\", \"2017-11-20\", \"2017-11-21\", \"2017-11-22\", \"2017-11-24\", \"2017-11-27\", \"2017-11-28\", \"2017-11-29\", \"2017-11-30\", \"2017-12-01\", \"2017-12-04\", \"2017-12-05\", \"2017-12-06\", \"2017-12-07\", \"2017-12-08\", \"2017-12-11\", \"2017-12-12\", \"2017-12-13\", \"2017-12-14\", \"2017-12-15\", \"2017-12-18\", \"2017-12-19\", \"2017-12-20\", \"2017-12-21\", \"2017-12-22\", \"2017-12-26\", \"2017-12-27\", \"2017-12-28\", \"2017-12-29\", \"2018-01-02\", \"2018-01-03\", \"2018-01-04\", \"2018-01-05\", \"2018-01-08\", \"2018-01-09\", \"2018-01-10\", \"2018-01-11\", \"2018-01-12\", \"2018-01-16\", \"2018-01-17\", \"2018-01-18\", \"2018-01-19\", \"2018-01-22\", \"2018-01-23\", \"2018-01-24\", \"2018-01-25\", \"2018-01-26\", \"2018-01-29\", \"2018-01-30\", \"2018-01-31\", \"2018-02-01\", \"2018-02-02\", \"2018-02-05\", \"2018-02-06\", \"2018-02-07\", \"2018-02-08\", \"2018-02-09\", \"2018-02-12\", \"2018-02-13\", \"2018-02-14\", \"2018-02-15\", \"2018-02-16\", \"2018-02-20\", \"2018-02-21\", \"2018-02-22\", \"2018-02-23\"], \"y\": [100.0, 99.88807576409813, 100.39603960396039, 101.5152819629789, 102.44511407662505, 102.54842875591908, 103.09944037882049, 102.66896254842874, 102.48816185966423, 103.31467929401634, 103.30606973740852, 103.12526904864399, 103.31467929401634, 103.38355574687903, 103.28885062419285, 104.93327593628928, 104.98493327593627, 104.99354283254412, 104.71803702109341, 104.47696943607403, 110.84804132587172, 110.65863108049936, 111.13215669393026, 112.17391304347825, 113.24149806284976, 113.68058544984932, 114.00774860094704, 113.749461902712, 114.75678002582865, 116.24623331898407, 116.66810159276797, 116.52604390873869, 116.84890228153249, 117.69263882910028, 118.04563065002154, 117.54627636676712, 117.65820060266896, 117.8906586310805, 117.9423159707275, 120.3529918209212, 119.63839862247094, 120.34438226431338, 119.96556177356865, 120.12053379250969, 119.67283684890229, 119.39733103745158, 119.79337064141195, 119.84502798105896, 119.66422729229444, 120.92983211364614, 121.12785191562634, 120.52518295307793, 121.79078777442962, 120.39603960396039, 121.75634954799825, 121.32587171760653, 121.08480413258715, 121.2914334911752, 123.80542402066294, 124.08092983211365, 123.9173482565648, 123.68489022815324, 123.71932845458457, 124.6405510116229, 123.9948342660353, 123.68489022815324, 123.40938441670252, 123.26302195436934, 121.93715023676279, 122.083512699096, 121.43779595350838, 122.10934136891952, 121.5669393026259, 121.11924235901851, 122.63452432199742, 122.48816185966422, 123.66767111493758, 124.43392165303486, 123.70210934136891, 123.79681446405509, 123.67628067154541, 126.19888075764098, 126.9995695221696, 126.61213947481704, 126.1558329746018, 128.24795523030562, 131.73482565647868, 132.57856220404648, 131.95006457167455, 132.54412397761516, 134.3951786482996, 134.0507963839862, 133.85277658200602, 129.3585880327163, 131.33017649591045, 131.77787343951786, 132.57856220404648, 132.41498062849763, 132.01894102453724, 132.4752475247525, 132.25139905294878, 132.30305639259575, 131.5195867412828, 131.88118811881188, 133.83555746879034, 132.52690486439948, 132.97460180800687, 133.76668101592767, 133.43951786482998, 128.2651743435213, 125.20017219113213, 126.2074903142488, 124.97632371932845, 124.22729229444683, 122.48816185966422, 125.99225139905295, 124.84718037021092, 125.5876022384847, 125.38097287989667, 125.94059405940594, 125.54455445544552, 123.74515712440808, 125.55316401205339, 123.70210934136891, 123.9948342660353, 123.54713732242789, 124.05510116229014, 122.88420146362459, 124.13258717176066, 124.8902281532501, 125.29487731381835, 125.47567800258285, 127.22341799397331, 128.3168316831683, 128.76452862677573, 129.2122255703831, 130.0215238915196, 129.43607404218682, 129.375807145932, 130.9427464485579, 131.50236762806716, 132.12225570383126, 129.62548428755917, 128.7128712871287, 128.04993542832543, 129.18639690055963, 135.2905725355144, 133.93887214808436, 134.6448557899268, 136.7283684890228, 137.82178217821783, 138.6655187257856, 133.7236332328885, 135.58329746018077, 137.6237623762376, 139.1304347826087, 138.57081360309942, 135.91046061127852, 135.60051657339648, 135.35083943176926, 137.56349547998278, 137.73568661213946, 137.1244080929832, 137.63237193284544, 139.01851054670684, 140.25828669823503, 140.63710718897974, 141.19672836848903, 141.23977615152822, 139.54369349978478, 139.39733103745155, 138.83770985794231, 136.57339647008178, 139.04433921653035, 138.49332759362895, 137.45157124408095, 136.27206198880756, 137.64959104606112, 136.60783469651312, 136.65949203616012, 134.3693499784761, 132.0619888075764, 130.7705553164012, 129.61687473095137, 131.84674989238053, 132.7851915626345, 131.96728368489022, 132.69048643994833, 132.42359018510547, 133.00043047783038, 132.1394748170469, 133.78390012914335, 133.70641411967284, 134.17133017649593, 134.22298751614292, 134.7826086956522, 134.30908308222126, 135.1614291863969, 137.64959104606112, 138.15755488592336, 137.5462763667671, 134.2918639690056, 134.52432199741713, 134.45544554455444, 135.25613430908308, 134.66207490314247, 135.52303056392594, 140.37882049074472, 143.53852776582005, 145.5359448988377, 143.68489022815322, 144.73525613430908, 148.5148514851485, 150.02152389151956, 150.50365906155832, 151.73482565647868, 151.42488161859663, 150.38312526904863, 149.7804563065002, 147.51614291863967, 145.57038312526905, 147.30951356005164, 146.49160568230738, 146.34524321997415, 149.0658631080499, 150.63280241067585, 150.64141196728366, 149.88377098579423, 149.00559621179508, 145.9147653895824, 147.95523030563925, 147.26646577701248, 146.19027120103314, 146.05251829530778, 145.5101162290142, 145.77701248385705, 145.82006026689623, 148.66121394748168, 147.82608695652172, 148.31683168316832, 148.27378390012913, 149.7804563065002, 151.88979767541971, 150.27120103314678, 150.1076194575979, 150.675850193715, 150.675850193715, 146.8532070598364, 146.8790357296599, 147.29229444683597, 145.69952647438654, 148.30822212656048, 148.28239345673697, 148.97115798536376, 150.6672406371072, 150.1076194575979, 150.09040034438226, 150.0559621179509, 150.90830822212655, 152.46663796814462, 151.6917778734395, 154.19715884631938, 154.33491175204475, 153.64614722341798, 152.38915195867412, 152.42359018510544, 149.99569522169608, 147.3181231166595, 147.66250538097287, 144.60611278519156, 143.75376668101592, 144.1498062849763, 144.45114076625055, 138.18338355574687, 134.73095135600516, 140.36160137752904, 137.35686612139472, 133.57727077055532, 134.66207490314247, 140.08609556607834, 141.4894532931554, 144.0981489453293, 148.9367197589324, 148.45458458889368, 147.95523030563925, 147.28368489022813, 148.5148514851485, 151.0977184674989]}, {\"line\": {\"color\": \"rgba(55, 128, 191, 1.0)\", \"dash\": \"solid\", \"shape\": \"linear\", \"width\": 1.3}, \"mode\": \"lines\", \"name\": \"AMZN.O\", \"text\": \"\", \"type\": \"scatter\", \"x\": [\"2017-01-03\", \"2017-01-04\", \"2017-01-05\", \"2017-01-06\", \"2017-01-09\", \"2017-01-10\", \"2017-01-11\", \"2017-01-12\", \"2017-01-13\", \"2017-01-17\", \"2017-01-18\", \"2017-01-19\", \"2017-01-20\", \"2017-01-23\", \"2017-01-24\", \"2017-01-25\", \"2017-01-26\", \"2017-01-27\", \"2017-01-30\", \"2017-01-31\", \"2017-02-01\", \"2017-02-02\", \"2017-02-03\", \"2017-02-06\", \"2017-02-07\", \"2017-02-08\", \"2017-02-09\", \"2017-02-10\", \"2017-02-13\", \"2017-02-14\", \"2017-02-15\", \"2017-02-16\", \"2017-02-17\", \"2017-02-21\", \"2017-02-22\", \"2017-02-23\", \"2017-02-24\", \"2017-02-27\", \"2017-02-28\", \"2017-03-01\", \"2017-03-02\", \"2017-03-03\", \"2017-03-06\", \"2017-03-07\", \"2017-03-08\", \"2017-03-09\", \"2017-03-10\", \"2017-03-13\", \"2017-03-14\", \"2017-03-15\", \"2017-03-16\", \"2017-03-17\", \"2017-03-20\", \"2017-03-21\", \"2017-03-22\", \"2017-03-23\", \"2017-03-24\", \"2017-03-27\", \"2017-03-28\", \"2017-03-29\", \"2017-03-30\", \"2017-03-31\", \"2017-04-03\", \"2017-04-04\", \"2017-04-05\", \"2017-04-06\", \"2017-04-07\", \"2017-04-10\", \"2017-04-11\", \"2017-04-12\", \"2017-04-13\", \"2017-04-17\", \"2017-04-18\", \"2017-04-19\", \"2017-04-20\", \"2017-04-21\", \"2017-04-24\", \"2017-04-25\", \"2017-04-26\", \"2017-04-27\", \"2017-04-28\", \"2017-05-01\", \"2017-05-02\", \"2017-05-03\", \"2017-05-04\", \"2017-05-05\", \"2017-05-08\", \"2017-05-09\", \"2017-05-10\", \"2017-05-11\", \"2017-05-12\", \"2017-05-15\", \"2017-05-16\", \"2017-05-17\", \"2017-05-18\", \"2017-05-19\", \"2017-05-22\", \"2017-05-23\", \"2017-05-24\", \"2017-05-25\", \"2017-05-26\", \"2017-05-30\", \"2017-05-31\", \"2017-06-01\", \"2017-06-02\", \"2017-06-05\", \"2017-06-06\", \"2017-06-07\", \"2017-06-08\", \"2017-06-09\", \"2017-06-12\", \"2017-06-13\", \"2017-06-14\", \"2017-06-15\", \"2017-06-16\", \"2017-06-19\", \"2017-06-20\", \"2017-06-21\", \"2017-06-22\", \"2017-06-23\", \"2017-06-26\", \"2017-06-27\", \"2017-06-28\", \"2017-06-29\", \"2017-06-30\", \"2017-07-03\", \"2017-07-05\", \"2017-07-06\", \"2017-07-07\", \"2017-07-10\", \"2017-07-11\", \"2017-07-12\", \"2017-07-13\", \"2017-07-14\", \"2017-07-17\", \"2017-07-18\", \"2017-07-19\", \"2017-07-20\", \"2017-07-21\", \"2017-07-24\", \"2017-07-25\", \"2017-07-26\", \"2017-07-27\", \"2017-07-28\", \"2017-07-31\", \"2017-08-01\", \"2017-08-02\", \"2017-08-03\", \"2017-08-04\", \"2017-08-07\", \"2017-08-08\", \"2017-08-09\", \"2017-08-10\", \"2017-08-11\", \"2017-08-14\", \"2017-08-15\", \"2017-08-16\", \"2017-08-17\", \"2017-08-18\", \"2017-08-21\", \"2017-08-22\", \"2017-08-23\", \"2017-08-24\", \"2017-08-25\", \"2017-08-28\", \"2017-08-29\", \"2017-08-30\", \"2017-08-31\", \"2017-09-01\", \"2017-09-05\", \"2017-09-06\", \"2017-09-07\", \"2017-09-08\", \"2017-09-11\", \"2017-09-12\", \"2017-09-13\", \"2017-09-14\", \"2017-09-15\", \"2017-09-18\", \"2017-09-19\", \"2017-09-20\", \"2017-09-21\", \"2017-09-22\", \"2017-09-25\", \"2017-09-26\", \"2017-09-27\", \"2017-09-28\", \"2017-09-29\", \"2017-10-02\", \"2017-10-03\", \"2017-10-04\", \"2017-10-05\", \"2017-10-06\", \"2017-10-09\", \"2017-10-10\", \"2017-10-11\", \"2017-10-12\", \"2017-10-13\", \"2017-10-16\", \"2017-10-17\", \"2017-10-18\", \"2017-10-19\", \"2017-10-20\", \"2017-10-23\", \"2017-10-24\", \"2017-10-25\", \"2017-10-26\", \"2017-10-27\", \"2017-10-30\", \"2017-10-31\", \"2017-11-01\", \"2017-11-02\", \"2017-11-03\", \"2017-11-06\", \"2017-11-07\", \"2017-11-08\", \"2017-11-09\", \"2017-11-10\", \"2017-11-13\", \"2017-11-14\", \"2017-11-15\", \"2017-11-16\", \"2017-11-17\", \"2017-11-20\", \"2017-11-21\", \"2017-11-22\", \"2017-11-24\", \"2017-11-27\", \"2017-11-28\", \"2017-11-29\", \"2017-11-30\", \"2017-12-01\", \"2017-12-04\", \"2017-12-05\", \"2017-12-06\", \"2017-12-07\", \"2017-12-08\", \"2017-12-11\", \"2017-12-12\", \"2017-12-13\", \"2017-12-14\", \"2017-12-15\", \"2017-12-18\", \"2017-12-19\", \"2017-12-20\", \"2017-12-21\", \"2017-12-22\", \"2017-12-26\", \"2017-12-27\", \"2017-12-28\", \"2017-12-29\", \"2018-01-02\", \"2018-01-03\", \"2018-01-04\", \"2018-01-05\", \"2018-01-08\", \"2018-01-09\", \"2018-01-10\", \"2018-01-11\", \"2018-01-12\", \"2018-01-16\", \"2018-01-17\", \"2018-01-18\", \"2018-01-19\", \"2018-01-22\", \"2018-01-23\", \"2018-01-24\", \"2018-01-25\", \"2018-01-26\", \"2018-01-29\", \"2018-01-30\", \"2018-01-31\", \"2018-02-01\", \"2018-02-02\", \"2018-02-05\", \"2018-02-06\", \"2018-02-07\", \"2018-02-08\", \"2018-02-09\", \"2018-02-12\", \"2018-02-13\", \"2018-02-14\", \"2018-02-15\", \"2018-02-16\", \"2018-02-20\", \"2018-02-21\", \"2018-02-22\", \"2018-02-23\"], \"y\": [100.0, 100.46572107155652, 103.55327928669047, 105.61518967187232, 105.73858585322489, 105.60324810593495, 106.01722239176297, 107.95706343625196, 108.42145766714874, 107.43694189764751, 107.13972958987357, 107.34671673278756, 107.25251104594851, 108.51964387596693, 109.12468321679252, 110.99287486565738, 111.34183395915984, 110.8933618161795, 110.17819470059843, 109.26267464540184, 110.43958231056033, 111.44798121193627, 107.50063024931337, 107.16095904042884, 107.80580360104554, 108.76245571669298, 108.98138442554435, 109.79075722796449, 110.99420170631709, 110.97562593708122, 111.81286239335519, 112.00392744835273, 112.12732362970532, 113.6359414597901, 113.52581368503458, 113.0720341794154, 112.14987992092031, 112.60100574522005, 112.1233431077262, 113.19012299812916, 112.6368304430321, 112.76553398702352, 112.3316570912999, 112.25337349237729, 112.84779810792523, 113.17950827285152, 113.10785887722746, 113.39047593774465, 113.11714676184536, 113.1755277508724, 113.23523558055912, 113.08795626733186, 113.70626401475448, 111.87920442634045, 112.52404898695715, 112.43382382209721, 112.1989730253294, 112.35952074515372, 113.57756047076306, 116.00833255934295, 116.2763543726034, 117.62973184550268, 118.28917165337616, 120.32189154404449, 120.64696750567225, 119.18744277999656, 118.7363169556968, 120.34975519789828, 119.72879376915625, 118.915440444757, 117.3816126421378, 119.67970066474717, 119.91720514283439, 119.30951212068943, 119.68898854936512, 119.22061379648919, 120.39884830230739, 120.4267119561612, 120.64829434633195, 121.85439250600396, 122.7314341820691, 125.8150118752239, 125.64384943012195, 124.85968660023619, 124.39529236933937, 123.94682022635901, 125.92248596866003, 126.42403173802859, 125.91054440272269, 125.73407459498189, 127.5558268207571, 127.10735467777677, 128.18209561213797, 125.3545981663062, 127.17635039208142, 127.35547388114163, 128.79244231560233, 128.90787745299667, 130.07682407419694, 131.8056974537928, 132.12413921212203, 132.2462085528149, 131.9702256955962, 132.146695503337, 133.57702973449918, 134.18870327862328, 133.08211816842916, 134.02019451484074, 134.0467313280348, 129.8061485796171, 128.02818209561212, 130.13520506322396, 129.5620098982313, 127.92999588679395, 131.05337879973996, 132.04320193188, 131.70087704167608, 132.97995143763185, 132.85655525627928, 133.18030437724735, 131.88530789337509, 129.6031419586822, 131.4010110525827, 129.49036050260725, 128.43817585946104, 126.53548635344383, 128.8893016837608, 128.05869943078537, 129.8658564093038, 132.21569121764168, 131.90521050327067, 133.54783923998568, 132.76765693207903, 132.92422412992423, 134.01621399286162, 135.92819138349677, 136.2492868231454, 136.49209866387147, 136.09006594398082, 137.8521103400693, 137.97417968076212, 139.68978465376094, 138.78753300516144, 135.34305465256676, 131.06266668435788, 132.17853967916994, 132.13873445937878, 130.94855838762322, 131.03612987116378, 131.65841814056552, 131.33599586025716, 130.297079623708, 126.96803640850771, 128.43684901880135, 130.46824206880996, 130.39393899186646, 129.7888996510409, 127.4523332493001, 127.17369671076202, 126.48639324903472, 128.29222338689348, 127.11133519975586, 126.37493863361951, 125.42094019929146, 125.52178008942907, 126.58855997983203, 128.38377539241316, 130.10999509068958, 129.79818753565885, 128.07594835936155, 128.41163904626694, 129.96006209614288, 128.15953932092293, 129.7597091565274, 130.3727095413112, 132.6309923441294, 131.65045709660728, 130.93130945904707, 129.25949022781856, 128.68496822216622, 129.12945984316744, 127.9936842384598, 126.72655140844138, 124.69515835843275, 124.53726431992781, 126.16529780938608, 126.89904069420304, 127.5558268207571, 127.26922923826078, 126.9919195403824, 128.09983149123622, 130.1431661071822, 131.30149800310483, 131.48858253612326, 130.98570992609498, 132.02064564066504, 132.80746215187017, 133.07415712447093, 133.5252829487707, 133.89547149282842, 132.28601377260605, 130.90742632717237, 130.41649528308145, 128.21261294731116, 129.48637998062813, 129.08965462337628, 129.02596627171044, 146.07852243024138, 147.39209468334946, 146.6530444358937, 146.44074993034087, 145.18555866625977, 147.49160773282736, 148.69372537052027, 149.0267623761063, 150.31512465668, 149.81755940929057, 149.31601363992198, 149.82286677192937, 150.84055355792322, 149.4938102883225, 150.90026138760996, 149.91707245876844, 149.4433903432537, 151.1921663327451, 153.40400971247365, 157.36330224103386, 158.66758660952408, 158.37170114240982, 154.08202528958296, 156.1359746308066, 154.22532408083114, 150.45709660726845, 151.46814918996378, 152.89848342112595, 153.88565287194663, 154.17888465774146, 155.09705839425746, 154.58755158093064, 154.4615017182587, 155.80559130654, 156.45308954847616, 157.97099526317885, 157.5464062520732, 156.25140976820094, 155.87193333952527, 155.02275531731394, 156.1373014714663, 156.86706383430416, 157.37657064763093, 155.1700346305412, 157.76268127960515, 159.7781522416973, 160.49331935727838, 163.08729284700203, 165.43978133665925, 166.2133294412674, 166.42960446879934, 169.39509334324043, 173.1792429047196, 173.1341303222896, 171.8258654318203, 171.6029562009898, 171.7701381241127, 176.11288760332772, 180.78734724746906, 180.11994639563736, 182.83200870407475, 186.0296946939642, 188.1035466450834, 190.77580373372962, 192.5099844759643, 184.43085169901948, 189.73158013454164, 184.43085169901948, 191.44187774490163, 187.98413098570995, 179.18983109318404, 177.74357477410538, 183.93063277031064, 187.68293815595686, 192.53121392651957, 193.9522602730638, 192.21807953082916, 194.8266482678095, 196.75985510899997, 197.08095054864862, 199.0260989557764]}, {\"line\": {\"color\": \"rgba(50, 171, 96, 1.0)\", \"dash\": \"solid\", \"shape\": \"linear\", \"width\": 1.3}, \"mode\": \"lines\", \"name\": \"TSLA.O\", \"text\": \"\", \"type\": \"scatter\", \"x\": [\"2017-01-03\", \"2017-01-04\", \"2017-01-05\", \"2017-01-06\", \"2017-01-09\", \"2017-01-10\", \"2017-01-11\", \"2017-01-12\", \"2017-01-13\", \"2017-01-17\", \"2017-01-18\", \"2017-01-19\", \"2017-01-20\", \"2017-01-23\", \"2017-01-24\", \"2017-01-25\", \"2017-01-26\", \"2017-01-27\", \"2017-01-30\", \"2017-01-31\", \"2017-02-01\", \"2017-02-02\", \"2017-02-03\", \"2017-02-06\", \"2017-02-07\", \"2017-02-08\", \"2017-02-09\", \"2017-02-10\", \"2017-02-13\", \"2017-02-14\", \"2017-02-15\", \"2017-02-16\", \"2017-02-17\", \"2017-02-21\", \"2017-02-22\", \"2017-02-23\", \"2017-02-24\", \"2017-02-27\", \"2017-02-28\", \"2017-03-01\", \"2017-03-02\", \"2017-03-03\", \"2017-03-06\", \"2017-03-07\", \"2017-03-08\", \"2017-03-09\", \"2017-03-10\", \"2017-03-13\", \"2017-03-14\", \"2017-03-15\", \"2017-03-16\", \"2017-03-17\", \"2017-03-20\", \"2017-03-21\", \"2017-03-22\", \"2017-03-23\", \"2017-03-24\", \"2017-03-27\", \"2017-03-28\", \"2017-03-29\", \"2017-03-30\", \"2017-03-31\", \"2017-04-03\", \"2017-04-04\", \"2017-04-05\", \"2017-04-06\", \"2017-04-07\", \"2017-04-10\", \"2017-04-11\", \"2017-04-12\", \"2017-04-13\", \"2017-04-17\", \"2017-04-18\", \"2017-04-19\", \"2017-04-20\", \"2017-04-21\", \"2017-04-24\", \"2017-04-25\", \"2017-04-26\", \"2017-04-27\", \"2017-04-28\", \"2017-05-01\", \"2017-05-02\", \"2017-05-03\", \"2017-05-04\", \"2017-05-05\", \"2017-05-08\", \"2017-05-09\", \"2017-05-10\", \"2017-05-11\", \"2017-05-12\", \"2017-05-15\", \"2017-05-16\", \"2017-05-17\", \"2017-05-18\", \"2017-05-19\", \"2017-05-22\", \"2017-05-23\", \"2017-05-24\", \"2017-05-25\", \"2017-05-26\", \"2017-05-30\", \"2017-05-31\", \"2017-06-01\", \"2017-06-02\", \"2017-06-05\", \"2017-06-06\", \"2017-06-07\", \"2017-06-08\", \"2017-06-09\", \"2017-06-12\", \"2017-06-13\", \"2017-06-14\", \"2017-06-15\", \"2017-06-16\", \"2017-06-19\", \"2017-06-20\", \"2017-06-21\", \"2017-06-22\", \"2017-06-23\", \"2017-06-26\", \"2017-06-27\", \"2017-06-28\", \"2017-06-29\", \"2017-06-30\", \"2017-07-03\", \"2017-07-05\", \"2017-07-06\", \"2017-07-07\", \"2017-07-10\", \"2017-07-11\", \"2017-07-12\", \"2017-07-13\", \"2017-07-14\", \"2017-07-17\", \"2017-07-18\", \"2017-07-19\", \"2017-07-20\", \"2017-07-21\", \"2017-07-24\", \"2017-07-25\", \"2017-07-26\", \"2017-07-27\", \"2017-07-28\", \"2017-07-31\", \"2017-08-01\", \"2017-08-02\", \"2017-08-03\", \"2017-08-04\", \"2017-08-07\", \"2017-08-08\", \"2017-08-09\", \"2017-08-10\", \"2017-08-11\", \"2017-08-14\", \"2017-08-15\", \"2017-08-16\", \"2017-08-17\", \"2017-08-18\", \"2017-08-21\", \"2017-08-22\", \"2017-08-23\", \"2017-08-24\", \"2017-08-25\", \"2017-08-28\", \"2017-08-29\", \"2017-08-30\", \"2017-08-31\", \"2017-09-01\", \"2017-09-05\", \"2017-09-06\", \"2017-09-07\", \"2017-09-08\", \"2017-09-11\", \"2017-09-12\", \"2017-09-13\", \"2017-09-14\", \"2017-09-15\", \"2017-09-18\", \"2017-09-19\", \"2017-09-20\", \"2017-09-21\", \"2017-09-22\", \"2017-09-25\", \"2017-09-26\", \"2017-09-27\", \"2017-09-28\", \"2017-09-29\", \"2017-10-02\", \"2017-10-03\", \"2017-10-04\", \"2017-10-05\", \"2017-10-06\", \"2017-10-09\", \"2017-10-10\", \"2017-10-11\", \"2017-10-12\", \"2017-10-13\", \"2017-10-16\", \"2017-10-17\", \"2017-10-18\", \"2017-10-19\", \"2017-10-20\", \"2017-10-23\", \"2017-10-24\", \"2017-10-25\", \"2017-10-26\", \"2017-10-27\", \"2017-10-30\", \"2017-10-31\", \"2017-11-01\", \"2017-11-02\", \"2017-11-03\", \"2017-11-06\", \"2017-11-07\", \"2017-11-08\", \"2017-11-09\", \"2017-11-10\", \"2017-11-13\", \"2017-11-14\", \"2017-11-15\", \"2017-11-16\", \"2017-11-17\", \"2017-11-20\", \"2017-11-21\", \"2017-11-22\", \"2017-11-24\", \"2017-11-27\", \"2017-11-28\", \"2017-11-29\", \"2017-11-30\", \"2017-12-01\", \"2017-12-04\", \"2017-12-05\", \"2017-12-06\", \"2017-12-07\", \"2017-12-08\", \"2017-12-11\", \"2017-12-12\", \"2017-12-13\", \"2017-12-14\", \"2017-12-15\", \"2017-12-18\", \"2017-12-19\", \"2017-12-20\", \"2017-12-21\", \"2017-12-22\", \"2017-12-26\", \"2017-12-27\", \"2017-12-28\", \"2017-12-29\", \"2018-01-02\", \"2018-01-03\", \"2018-01-04\", \"2018-01-05\", \"2018-01-08\", \"2018-01-09\", \"2018-01-10\", \"2018-01-11\", \"2018-01-12\", \"2018-01-16\", \"2018-01-17\", \"2018-01-18\", \"2018-01-19\", \"2018-01-22\", \"2018-01-23\", \"2018-01-24\", \"2018-01-25\", \"2018-01-26\", \"2018-01-29\", \"2018-01-30\", \"2018-01-31\", \"2018-02-01\", \"2018-02-02\", \"2018-02-05\", \"2018-02-06\", \"2018-02-07\", \"2018-02-08\", \"2018-02-09\", \"2018-02-12\", \"2018-02-13\", \"2018-02-14\", \"2018-02-15\", \"2018-02-16\", \"2018-02-20\", \"2018-02-21\", \"2018-02-22\", \"2018-02-23\"], \"y\": [100.0, 104.60850730448408, 104.49790312917646, 105.53942577998984, 106.58555693810774, 105.93575740817549, 105.8712383059127, 105.80671920364995, 109.56726116410893, 108.5672150790359, 109.84838010968248, 112.33697405410388, 112.78399926263883, 114.71496382321764, 117.3372044794691, 117.27268537720632, 116.36941794552745, 116.57219226692473, 115.50301857228442, 116.10212452186737, 114.86243605696116, 115.92700124429697, 115.82561408359832, 118.79349278768605, 118.65984607585602, 120.77975943591869, 124.06101663671136, 124.07484215862483, 129.31471496382323, 129.4898382413936, 128.92760035024656, 123.94580395409926, 125.45739434997006, 127.83538411908381, 126.04728328494399, 117.9731784874879, 118.4386377252408, 113.47527535831144, 115.20807410479745, 115.2218996267109, 115.43389096271717, 115.93621825890594, 115.77031199594452, 114.56288308216969, 113.77021982579842, 112.86234388681507, 112.30471450297247, 113.44762431448451, 118.89948845568921, 117.85335729757132, 120.76593391400525, 120.51246601225863, 120.70602331904696, 115.52606110880686, 117.52154477164845, 117.41554910364533, 121.27747822480299, 124.53108438176874, 127.86303516291073, 127.83077561177933, 128.07963500622148, 128.25475828379186, 137.57316005345868, 139.96036683718143, 135.95096548228028, 137.6561131849394, 139.4257799898613, 143.9651596847781, 142.26922899672795, 136.79893082630534, 140.09862205631595, 138.918844186368, 138.37043181713443, 140.79911516659755, 139.41195446794782, 140.8359832250334, 141.95585050002302, 144.61035070740587, 142.94207106318265, 142.2323609382921, 144.7393889119314, 148.77644131065946, 146.96068943269273, 143.33379418406375, 136.16295681828655, 142.10332273376653, 141.56873588644638, 148.05290566385548, 149.87787455643118, 148.90087100788054, 149.68892575694733, 145.57352873404304, 146.09429005944975, 141.07101709756208, 144.27392967417853, 143.2462325452786, 143.02502419466336, 140.0341029540532, 142.96511359970506, 146.011336927969, 149.84100649799527, 154.43107977326144, 157.15470759021153, 156.85976312272453, 156.62012074289137, 160.06267569934099, 162.61118023872066, 165.74496520576983, 170.51477026591087, 164.67118300382506, 165.45002073828286, 173.25683211207888, 175.4274390524909, 172.97571316650536, 171.15996128853863, 170.42260011982117, 171.5470759021153, 173.46421494078066, 176.3260979768653, 176.71321259044194, 173.96654223696945, 166.9984791925895, 171.08622517166688, 166.2519010092631, 166.64823263744873, 162.50518457071755, 150.73966542236968, 142.32453108438173, 144.3476657910503, 145.65187335821926, 150.79957601732798, 151.8595326973593, 149.04373473431954, 151.05765242637906, 147.27406792939766, 151.26964376238536, 149.8963085856491, 152.0438729895387, 151.3433798792571, 157.85059219318862, 156.5049080602793, 158.463523664685, 154.13613530577445, 154.41725425134797, 149.07138577814646, 147.27406792939766, 150.1866445458316, 159.95668003133784, 164.48223420434124, 163.68035393336098, 168.3119037743675, 167.53306603990964, 163.78634960136412, 164.9246509055717, 167.65749573713074, 166.98004516337159, 167.24733858703166, 162.18258905940365, 160.12719480160374, 155.70302778929906, 157.31139683856398, 162.5743121802848, 162.64804829715655, 160.39909673256832, 159.29766348679664, 160.0811097285589, 162.76326097976866, 164.01677496658832, 163.78634960136412, 161.10880685745886, 158.7769021613899, 161.57887460251627, 158.25614083598322, 167.6068021567814, 167.17360247015992, 168.7773630121204, 174.03566984653668, 175.03571593160973, 177.42753122263696, 172.86510899119776, 172.31669662196416, 168.89257569473247, 161.80008295313147, 158.9888934973962, 159.10871468731278, 157.1362735609936, 156.5049080602793, 157.1961841559519, 157.3943499700447, 160.44057329830866, 163.60661781648923, 163.75409005023272, 164.46840868242776, 158.04414949997695, 163.87391124014928, 163.41766901700538, 163.91538780588968, 163.86469422554032, 161.57426609521178, 163.94764735702105, 165.74496520576983, 162.13189547905432, 159.03958707774552, 155.3159131757224, 155.46338540946584, 150.16360200930916, 150.31568275035715, 147.8731738789806, 147.50910180192633, 152.7858426655606, 147.96995253237475, 137.9141895939905, 141.0618000829531, 139.5363841651689, 141.04336605373518, 140.27835384119084, 139.63316281856305, 139.63316281856305, 145.3523203834278, 142.26462048942346, 143.46283238858933, 144.01585326512742, 145.19102262777085, 142.2830545186414, 146.46297064380846, 144.06193833817227, 145.42144799299507, 146.00211991336005, 146.3431494538919, 141.73003364210334, 142.33374809899072, 141.2645744043504, 140.65164293285403, 139.96036683718143, 144.3660998202682, 143.43518134476244, 145.22789068620673, 151.5784137517858, 157.16392460482047, 156.24222314392367, 155.71685331121247, 158.27918337250563, 156.16848702705192, 152.58767685146782, 151.6106733029172, 152.84575326051893, 149.8686575418222, 146.2233282639753, 143.61952163694178, 145.33388635420988, 143.48587492511174, 147.71648463062812, 146.20489423475735, 144.99285681367803, 145.89612424535693, 155.03479423014886, 153.78128024332918, 154.29282455412692, 155.7445043550394, 154.94723259136367, 156.71689939628556, 159.98893958246924, 158.79533619060786, 161.30697267155168, 162.01668279644224, 162.58352919489377, 159.40365915479975, 155.6016406286004, 158.00267293423659, 161.08115581363194, 159.37139960366835, 163.28402230517537, 160.95211760910638, 158.41743859164018, 153.52320383427806, 153.91031844785473, 158.99350200470067, 145.27397575925158, 143.05728374579473, 145.50440112447578, 149.15894741693165, 148.5367989308263, 153.95409926724733, 154.6108115581363, 154.27899903221345, 153.60154845845432, 159.5326973593253, 162.24249965436195]}, {\"line\": {\"color\": \"rgba(128, 0, 128, 1.0)\", \"dash\": \"solid\", \"shape\": \"linear\", \"width\": 1.3}, \"mode\": \"lines\", \"name\": \".SPX\", \"text\": \"\", \"type\": \"scatter\", \"x\": [\"2017-01-03\", \"2017-01-04\", \"2017-01-05\", \"2017-01-06\", \"2017-01-09\", \"2017-01-10\", \"2017-01-11\", \"2017-01-12\", \"2017-01-13\", \"2017-01-17\", \"2017-01-18\", \"2017-01-19\", \"2017-01-20\", \"2017-01-23\", \"2017-01-24\", \"2017-01-25\", \"2017-01-26\", \"2017-01-27\", \"2017-01-30\", \"2017-01-31\", \"2017-02-01\", \"2017-02-02\", \"2017-02-03\", \"2017-02-06\", \"2017-02-07\", \"2017-02-08\", \"2017-02-09\", \"2017-02-10\", \"2017-02-13\", \"2017-02-14\", \"2017-02-15\", \"2017-02-16\", \"2017-02-17\", \"2017-02-21\", \"2017-02-22\", \"2017-02-23\", \"2017-02-24\", \"2017-02-27\", \"2017-02-28\", \"2017-03-01\", \"2017-03-02\", \"2017-03-03\", \"2017-03-06\", \"2017-03-07\", \"2017-03-08\", \"2017-03-09\", \"2017-03-10\", \"2017-03-13\", \"2017-03-14\", \"2017-03-15\", \"2017-03-16\", \"2017-03-17\", \"2017-03-20\", \"2017-03-21\", \"2017-03-22\", \"2017-03-23\", \"2017-03-24\", \"2017-03-27\", \"2017-03-28\", \"2017-03-29\", \"2017-03-30\", \"2017-03-31\", \"2017-04-03\", \"2017-04-04\", \"2017-04-05\", \"2017-04-06\", \"2017-04-07\", \"2017-04-10\", \"2017-04-11\", \"2017-04-12\", \"2017-04-13\", \"2017-04-17\", \"2017-04-18\", \"2017-04-19\", \"2017-04-20\", \"2017-04-21\", \"2017-04-24\", \"2017-04-25\", \"2017-04-26\", \"2017-04-27\", \"2017-04-28\", \"2017-05-01\", \"2017-05-02\", \"2017-05-03\", \"2017-05-04\", \"2017-05-05\", \"2017-05-08\", \"2017-05-09\", \"2017-05-10\", \"2017-05-11\", \"2017-05-12\", \"2017-05-15\", \"2017-05-16\", \"2017-05-17\", \"2017-05-18\", \"2017-05-19\", \"2017-05-22\", \"2017-05-23\", \"2017-05-24\", \"2017-05-25\", \"2017-05-26\", \"2017-05-30\", \"2017-05-31\", \"2017-06-01\", \"2017-06-02\", \"2017-06-05\", \"2017-06-06\", \"2017-06-07\", \"2017-06-08\", \"2017-06-09\", \"2017-06-12\", \"2017-06-13\", \"2017-06-14\", \"2017-06-15\", \"2017-06-16\", \"2017-06-19\", \"2017-06-20\", \"2017-06-21\", \"2017-06-22\", \"2017-06-23\", \"2017-06-26\", \"2017-06-27\", \"2017-06-28\", \"2017-06-29\", \"2017-06-30\", \"2017-07-03\", \"2017-07-05\", \"2017-07-06\", \"2017-07-07\", \"2017-07-10\", \"2017-07-11\", \"2017-07-12\", \"2017-07-13\", \"2017-07-14\", \"2017-07-17\", \"2017-07-18\", \"2017-07-19\", \"2017-07-20\", \"2017-07-21\", \"2017-07-24\", \"2017-07-25\", \"2017-07-26\", \"2017-07-27\", \"2017-07-28\", \"2017-07-31\", \"2017-08-01\", \"2017-08-02\", \"2017-08-03\", \"2017-08-04\", \"2017-08-07\", \"2017-08-08\", \"2017-08-09\", \"2017-08-10\", \"2017-08-11\", \"2017-08-14\", \"2017-08-15\", \"2017-08-16\", \"2017-08-17\", \"2017-08-18\", \"2017-08-21\", \"2017-08-22\", \"2017-08-23\", \"2017-08-24\", \"2017-08-25\", \"2017-08-28\", \"2017-08-29\", \"2017-08-30\", \"2017-08-31\", \"2017-09-01\", \"2017-09-05\", \"2017-09-06\", \"2017-09-07\", \"2017-09-08\", \"2017-09-11\", \"2017-09-12\", \"2017-09-13\", \"2017-09-14\", \"2017-09-15\", \"2017-09-18\", \"2017-09-19\", \"2017-09-20\", \"2017-09-21\", \"2017-09-22\", \"2017-09-25\", \"2017-09-26\", \"2017-09-27\", \"2017-09-28\", \"2017-09-29\", \"2017-10-02\", \"2017-10-03\", \"2017-10-04\", \"2017-10-05\", \"2017-10-06\", \"2017-10-09\", \"2017-10-10\", \"2017-10-11\", \"2017-10-12\", \"2017-10-13\", \"2017-10-16\", \"2017-10-17\", \"2017-10-18\", \"2017-10-19\", \"2017-10-20\", \"2017-10-23\", \"2017-10-24\", \"2017-10-25\", \"2017-10-26\", \"2017-10-27\", \"2017-10-30\", \"2017-10-31\", \"2017-11-01\", \"2017-11-02\", \"2017-11-03\", \"2017-11-06\", \"2017-11-07\", \"2017-11-08\", \"2017-11-09\", \"2017-11-10\", \"2017-11-13\", \"2017-11-14\", \"2017-11-15\", \"2017-11-16\", \"2017-11-17\", \"2017-11-20\", \"2017-11-21\", \"2017-11-22\", \"2017-11-24\", \"2017-11-27\", \"2017-11-28\", \"2017-11-29\", \"2017-11-30\", \"2017-12-01\", \"2017-12-04\", \"2017-12-05\", \"2017-12-06\", \"2017-12-07\", \"2017-12-08\", \"2017-12-11\", \"2017-12-12\", \"2017-12-13\", \"2017-12-14\", \"2017-12-15\", \"2017-12-18\", \"2017-12-19\", \"2017-12-20\", \"2017-12-21\", \"2017-12-22\", \"2017-12-26\", \"2017-12-27\", \"2017-12-28\", \"2017-12-29\", \"2018-01-02\", \"2018-01-03\", \"2018-01-04\", \"2018-01-05\", \"2018-01-08\", \"2018-01-09\", \"2018-01-10\", \"2018-01-11\", \"2018-01-12\", \"2018-01-16\", \"2018-01-17\", \"2018-01-18\", \"2018-01-19\", \"2018-01-22\", \"2018-01-23\", \"2018-01-24\", \"2018-01-25\", \"2018-01-26\", \"2018-01-29\", \"2018-01-30\", \"2018-01-31\", \"2018-02-01\", \"2018-02-02\", \"2018-02-05\", \"2018-02-06\", \"2018-02-07\", \"2018-02-08\", \"2018-02-09\", \"2018-02-12\", \"2018-02-13\", \"2018-02-14\", \"2018-02-15\", \"2018-02-16\", \"2018-02-20\", \"2018-02-21\", \"2018-02-22\", \"2018-02-23\"], \"y\": [100.0, 100.57223085883349, 100.49472280906888, 100.84815951599546, 100.49029377765378, 100.49029377765378, 100.77463759450447, 100.55850086144662, 100.74452018088165, 100.44556056036105, 100.62272181696585, 100.25954124092603, 100.59703343475815, 100.32641961529431, 100.98501658672265, 101.79552933568958, 101.72067870477406, 101.63254097961318, 101.02177754746815, 100.93186820974121, 100.96198562336404, 101.01956303176058, 101.75345353724595, 101.5382026104711, 101.56123357382974, 101.63165517333015, 102.21628732012596, 102.58079660559032, 103.1189239225274, 103.53215255355805, 104.04902051970255, 103.9591111819756, 104.13361501973132, 104.76342328696137, 104.65004008273431, 104.693887493744, 104.85023230269775, 104.95697195980212, 104.68635814033829, 106.11782109370502, 105.4959850830222, 105.54913346000363, 105.20322610648279, 104.89673713255647, 104.6571265329985, 104.74083522674427, 105.08319935513302, 105.12173192844456, 104.76652360895196, 105.6439147322872, 105.47206831338056, 105.3334396300873, 105.12173192844456, 103.81738217669178, 104.01358826838158, 103.90330538614512, 103.81561056412573, 103.70975671330439, 104.46180624759171, 104.57518945181879, 104.8821213288866, 104.64561105131918, 104.47376463241255, 104.5322278470921, 104.21289468206199, 104.4139727083084, 104.32760659571359, 104.39935690463852, 104.24965564280748, 103.85768636256935, 103.1499271424332, 104.03839084430626, 103.73633090179509, 103.55828383890729, 104.34089368995896, 104.02421794377787, 105.15184934206738, 105.79228728469371, 105.74091052027832, 105.79937373495791, 105.5969669992869, 105.77988599673138, 105.90567048892079, 105.77102793390114, 105.83259147057132, 106.26530783982851, 106.26929396810212, 106.16033979529018, 106.28036654663993, 106.05049981619521, 105.89371210409996, 106.39950749170666, 106.32642847335715, 104.39359916379888, 104.77848199377277, 105.48756992333348, 106.03189788425169, 106.22677526651698, 106.49118844199961, 106.96420899713443, 106.99742673274784, 106.86854191856783, 106.81937966986001, 107.62812080626088, 108.02717653676319, 107.89563430373413, 107.59578887693051, 107.76453497384657, 107.79332367804486, 107.70385724345944, 107.59844629577957, 108.08386813887671, 107.9762426754893, 107.73441756022375, 107.76497787698808, 108.66451415739893, 107.93682429589475, 107.87393204980005, 107.82476980109222, 107.99307299486675, 108.02717653676319, 107.15510025112609, 108.09892684568811, 107.16927315165445, 107.3335902171554, 107.58161597640212, 107.73796078535585, 106.72858452585004, 107.41198407320303, 107.51163728004323, 107.42748568315596, 108.21231004991519, 108.41515968872768, 108.92184088261739, 108.91608314177772, 108.98118990357999, 109.56670785665882, 109.54987753728136, 109.50957335140379, 109.39308982518612, 109.71286589335779, 109.74386911326361, 109.63712945615924, 109.49008561317726, 109.4103630477051, 109.67831944831985, 109.73235363158432, 109.49274303202631, 109.69957879911243, 109.88028328084931, 109.61498429908364, 109.57512301634755, 107.98908686659314, 108.1268297436034, 109.21282824659076, 109.1583511601848, 109.31336725971398, 107.62590629055333, 107.42837148943897, 107.55327017534535, 108.62243835895529, 108.24729939809463, 108.02274750534806, 108.20345198708496, 108.25615746092487, 108.34739550807635, 108.84743315484337, 109.47015497180924, 109.6871775111501, 108.85894863652268, 109.1995411523454, 109.18005341411887, 109.01750796118397, 110.19917354273794, 110.56988347218348, 110.65359216592923, 110.53179380201344, 110.73597215025046, 110.89718889376081, 111.02031596710115, 111.09073756660155, 110.75235956648642, 110.82410987541134, 110.5778557287307, 110.58582798527792, 111.03758918962012, 111.17134593835674, 111.58324585996289, 112.01551932607859, 112.25734444134412, 112.39730183406192, 113.03198203584859, 112.91062657507429, 112.70689112997879, 112.96864688661236, 113.17238233170788, 112.9814910777162, 113.08070138141491, 113.27867908567075, 113.35485842601084, 113.43901002289812, 113.4762138867851, 114.05685990530732, 113.60376999154056, 113.78757479526801, 113.25697683173668, 113.40092035272806, 114.31640114623333, 113.95144895762745, 114.05907442101488, 114.2406647090348, 114.26236696296887, 114.61624657303695, 114.76196170659438, 114.74025945266028, 114.90590522758579, 114.47363176147007, 114.37087823263931, 114.48337563058335, 114.21896245510071, 113.58782547844612, 114.5188078819043, 114.21807664881767, 114.3637917823751, 115.11185518838887, 115.02548907579401, 115.2619993533614, 115.21770903921022, 116.35242688776393, 116.30946528303727, 117.26214994042954, 117.02475385657908, 116.90162678323878, 116.46448138256646, 116.45119428832109, 116.79267261042683, 117.43576797190222, 117.8117927390459, 117.99426883334885, 117.93846303751832, 117.45835603211935, 118.51246550891786, 119.14803151698754, 118.76314868701363, 118.66482418959798, 118.90044866088236, 118.84597157447638, 118.72018708228697, 118.81408254828752, 119.03199089391141, 118.41502681778522, 119.39827179194182, 120.16227971105, 120.64637284472258, 121.49497526385954, 121.69693909638902, 121.8554984210503, 121.71997005974764, 122.5761018322903, 123.40344490063468, 122.96851401566992, 124.12626282758224, 123.92562770447732, 124.46906985911252, 125.47313128092017, 125.74595961609157, 125.67553801659115, 125.7512744537897, 127.24031481555298, 126.38374013986882, 125.00631136976654, 125.0674320032952, 124.98638072839852, 122.3356054264493, 117.32238476767516, 119.36859728146052, 118.77156384670235, 114.31330082424276, 116.02069243477145, 117.63507438558263, 117.94244916579193, 119.52317047784821, 120.96570600975272, 121.01088213018694, 120.30400871633384, 119.64275432605645, 119.7592378522741, 121.67878006758703]}],\n                        {\"legend\": {\"bgcolor\": \"#F5F6F9\", \"font\": {\"color\": \"#4D5663\"}}, \"paper_bgcolor\": \"#F5F6F9\", \"plot_bgcolor\": \"#F5F6F9\", \"template\": {\"data\": {\"bar\": [{\"error_x\": {\"color\": \"#2a3f5f\"}, \"error_y\": {\"color\": \"#2a3f5f\"}, \"marker\": {\"line\": {\"color\": \"#E5ECF6\", \"width\": 0.5}}, \"type\": \"bar\"}], \"barpolar\": [{\"marker\": {\"line\": {\"color\": \"#E5ECF6\", \"width\": 0.5}}, \"type\": \"barpolar\"}], \"carpet\": [{\"aaxis\": {\"endlinecolor\": \"#2a3f5f\", \"gridcolor\": \"white\", \"linecolor\": \"white\", \"minorgridcolor\": \"white\", \"startlinecolor\": \"#2a3f5f\"}, \"baxis\": {\"endlinecolor\": \"#2a3f5f\", \"gridcolor\": \"white\", \"linecolor\": \"white\", \"minorgridcolor\": \"white\", \"startlinecolor\": \"#2a3f5f\"}, \"type\": \"carpet\"}], \"choropleth\": [{\"colorbar\": {\"outlinewidth\": 0, \"ticks\": \"\"}, \"type\": \"choropleth\"}], \"contour\": [{\"colorbar\": {\"outlinewidth\": 0, \"ticks\": \"\"}, \"colorscale\": [[0.0, \"#0d0887\"], [0.1111111111111111, \"#46039f\"], [0.2222222222222222, \"#7201a8\"], [0.3333333333333333, \"#9c179e\"], [0.4444444444444444, \"#bd3786\"], [0.5555555555555556, \"#d8576b\"], [0.6666666666666666, \"#ed7953\"], [0.7777777777777778, \"#fb9f3a\"], [0.8888888888888888, \"#fdca26\"], [1.0, \"#f0f921\"]], \"type\": \"contour\"}], \"contourcarpet\": [{\"colorbar\": {\"outlinewidth\": 0, \"ticks\": \"\"}, \"type\": \"contourcarpet\"}], \"heatmap\": [{\"colorbar\": {\"outlinewidth\": 0, \"ticks\": \"\"}, \"colorscale\": [[0.0, \"#0d0887\"], [0.1111111111111111, \"#46039f\"], [0.2222222222222222, \"#7201a8\"], [0.3333333333333333, \"#9c179e\"], [0.4444444444444444, \"#bd3786\"], [0.5555555555555556, \"#d8576b\"], [0.6666666666666666, \"#ed7953\"], [0.7777777777777778, \"#fb9f3a\"], [0.8888888888888888, \"#fdca26\"], [1.0, \"#f0f921\"]], \"type\": \"heatmap\"}], \"heatmapgl\": [{\"colorbar\": {\"outlinewidth\": 0, \"ticks\": \"\"}, \"colorscale\": [[0.0, \"#0d0887\"], [0.1111111111111111, \"#46039f\"], [0.2222222222222222, \"#7201a8\"], [0.3333333333333333, \"#9c179e\"], [0.4444444444444444, \"#bd3786\"], [0.5555555555555556, \"#d8576b\"], [0.6666666666666666, \"#ed7953\"], [0.7777777777777778, \"#fb9f3a\"], [0.8888888888888888, \"#fdca26\"], [1.0, \"#f0f921\"]], \"type\": \"heatmapgl\"}], \"histogram\": [{\"marker\": {\"colorbar\": {\"outlinewidth\": 0, \"ticks\": \"\"}}, \"type\": \"histogram\"}], \"histogram2d\": [{\"colorbar\": {\"outlinewidth\": 0, \"ticks\": \"\"}, \"colorscale\": [[0.0, \"#0d0887\"], [0.1111111111111111, \"#46039f\"], [0.2222222222222222, \"#7201a8\"], [0.3333333333333333, \"#9c179e\"], [0.4444444444444444, \"#bd3786\"], [0.5555555555555556, \"#d8576b\"], [0.6666666666666666, \"#ed7953\"], [0.7777777777777778, \"#fb9f3a\"], [0.8888888888888888, \"#fdca26\"], [1.0, \"#f0f921\"]], \"type\": \"histogram2d\"}], \"histogram2dcontour\": [{\"colorbar\": {\"outlinewidth\": 0, \"ticks\": \"\"}, \"colorscale\": [[0.0, \"#0d0887\"], [0.1111111111111111, \"#46039f\"], [0.2222222222222222, \"#7201a8\"], [0.3333333333333333, \"#9c179e\"], [0.4444444444444444, \"#bd3786\"], [0.5555555555555556, \"#d8576b\"], [0.6666666666666666, \"#ed7953\"], [0.7777777777777778, \"#fb9f3a\"], [0.8888888888888888, \"#fdca26\"], [1.0, \"#f0f921\"]], \"type\": \"histogram2dcontour\"}], \"mesh3d\": [{\"colorbar\": {\"outlinewidth\": 0, \"ticks\": \"\"}, \"type\": \"mesh3d\"}], \"parcoords\": [{\"line\": {\"colorbar\": {\"outlinewidth\": 0, \"ticks\": \"\"}}, \"type\": \"parcoords\"}], \"pie\": [{\"automargin\": true, \"type\": \"pie\"}], \"scatter\": [{\"marker\": {\"colorbar\": {\"outlinewidth\": 0, \"ticks\": \"\"}}, \"type\": \"scatter\"}], \"scatter3d\": [{\"line\": {\"colorbar\": {\"outlinewidth\": 0, \"ticks\": \"\"}}, \"marker\": {\"colorbar\": {\"outlinewidth\": 0, \"ticks\": \"\"}}, \"type\": \"scatter3d\"}], \"scattercarpet\": [{\"marker\": {\"colorbar\": {\"outlinewidth\": 0, \"ticks\": \"\"}}, \"type\": \"scattercarpet\"}], \"scattergeo\": [{\"marker\": {\"colorbar\": {\"outlinewidth\": 0, \"ticks\": \"\"}}, \"type\": \"scattergeo\"}], \"scattergl\": [{\"marker\": {\"colorbar\": {\"outlinewidth\": 0, \"ticks\": \"\"}}, \"type\": \"scattergl\"}], \"scattermapbox\": [{\"marker\": {\"colorbar\": {\"outlinewidth\": 0, \"ticks\": \"\"}}, \"type\": \"scattermapbox\"}], \"scatterpolar\": [{\"marker\": {\"colorbar\": {\"outlinewidth\": 0, \"ticks\": \"\"}}, \"type\": \"scatterpolar\"}], \"scatterpolargl\": [{\"marker\": {\"colorbar\": {\"outlinewidth\": 0, \"ticks\": \"\"}}, \"type\": \"scatterpolargl\"}], \"scatterternary\": [{\"marker\": {\"colorbar\": {\"outlinewidth\": 0, \"ticks\": \"\"}}, \"type\": \"scatterternary\"}], \"surface\": [{\"colorbar\": {\"outlinewidth\": 0, \"ticks\": \"\"}, \"colorscale\": [[0.0, \"#0d0887\"], [0.1111111111111111, \"#46039f\"], [0.2222222222222222, \"#7201a8\"], [0.3333333333333333, \"#9c179e\"], [0.4444444444444444, \"#bd3786\"], [0.5555555555555556, \"#d8576b\"], [0.6666666666666666, \"#ed7953\"], [0.7777777777777778, \"#fb9f3a\"], [0.8888888888888888, \"#fdca26\"], [1.0, \"#f0f921\"]], \"type\": \"surface\"}], \"table\": [{\"cells\": {\"fill\": {\"color\": \"#EBF0F8\"}, \"line\": {\"color\": \"white\"}}, \"header\": {\"fill\": {\"color\": \"#C8D4E3\"}, \"line\": {\"color\": \"white\"}}, \"type\": \"table\"}]}, \"layout\": {\"annotationdefaults\": {\"arrowcolor\": \"#2a3f5f\", \"arrowhead\": 0, \"arrowwidth\": 1}, \"coloraxis\": {\"colorbar\": {\"outlinewidth\": 0, \"ticks\": \"\"}}, \"colorscale\": {\"diverging\": [[0, \"#8e0152\"], [0.1, \"#c51b7d\"], [0.2, \"#de77ae\"], [0.3, \"#f1b6da\"], [0.4, \"#fde0ef\"], [0.5, \"#f7f7f7\"], [0.6, \"#e6f5d0\"], [0.7, \"#b8e186\"], [0.8, \"#7fbc41\"], [0.9, \"#4d9221\"], [1, \"#276419\"]], \"sequential\": [[0.0, \"#0d0887\"], [0.1111111111111111, \"#46039f\"], [0.2222222222222222, \"#7201a8\"], [0.3333333333333333, \"#9c179e\"], [0.4444444444444444, \"#bd3786\"], [0.5555555555555556, \"#d8576b\"], [0.6666666666666666, \"#ed7953\"], [0.7777777777777778, \"#fb9f3a\"], [0.8888888888888888, \"#fdca26\"], [1.0, \"#f0f921\"]], \"sequentialminus\": [[0.0, \"#0d0887\"], [0.1111111111111111, \"#46039f\"], [0.2222222222222222, \"#7201a8\"], [0.3333333333333333, \"#9c179e\"], [0.4444444444444444, \"#bd3786\"], [0.5555555555555556, \"#d8576b\"], [0.6666666666666666, \"#ed7953\"], [0.7777777777777778, \"#fb9f3a\"], [0.8888888888888888, \"#fdca26\"], [1.0, \"#f0f921\"]]}, \"colorway\": [\"#636efa\", \"#EF553B\", \"#00cc96\", \"#ab63fa\", \"#FFA15A\", \"#19d3f3\", \"#FF6692\", \"#B6E880\", \"#FF97FF\", \"#FECB52\"], \"font\": {\"color\": \"#2a3f5f\"}, \"geo\": {\"bgcolor\": \"white\", \"lakecolor\": \"white\", \"landcolor\": \"#E5ECF6\", \"showlakes\": true, \"showland\": true, \"subunitcolor\": \"white\"}, \"hoverlabel\": {\"align\": \"left\"}, \"hovermode\": \"closest\", \"mapbox\": {\"style\": \"light\"}, \"paper_bgcolor\": \"white\", \"plot_bgcolor\": \"#E5ECF6\", \"polar\": {\"angularaxis\": {\"gridcolor\": \"white\", \"linecolor\": \"white\", \"ticks\": \"\"}, \"bgcolor\": \"#E5ECF6\", \"radialaxis\": {\"gridcolor\": \"white\", \"linecolor\": \"white\", \"ticks\": \"\"}}, \"scene\": {\"xaxis\": {\"backgroundcolor\": \"#E5ECF6\", \"gridcolor\": \"white\", \"gridwidth\": 2, \"linecolor\": \"white\", \"showbackground\": true, \"ticks\": \"\", \"zerolinecolor\": \"white\"}, \"yaxis\": {\"backgroundcolor\": \"#E5ECF6\", \"gridcolor\": \"white\", \"gridwidth\": 2, \"linecolor\": \"white\", \"showbackground\": true, \"ticks\": \"\", \"zerolinecolor\": \"white\"}, \"zaxis\": {\"backgroundcolor\": \"#E5ECF6\", \"gridcolor\": \"white\", \"gridwidth\": 2, \"linecolor\": \"white\", \"showbackground\": true, \"ticks\": \"\", \"zerolinecolor\": \"white\"}}, \"shapedefaults\": {\"line\": {\"color\": \"#2a3f5f\"}}, \"ternary\": {\"aaxis\": {\"gridcolor\": \"white\", \"linecolor\": \"white\", \"ticks\": \"\"}, \"baxis\": {\"gridcolor\": \"white\", \"linecolor\": \"white\", \"ticks\": \"\"}, \"bgcolor\": \"#E5ECF6\", \"caxis\": {\"gridcolor\": \"white\", \"linecolor\": \"white\", \"ticks\": \"\"}}, \"title\": {\"x\": 0.05}, \"xaxis\": {\"automargin\": true, \"gridcolor\": \"white\", \"linecolor\": \"white\", \"ticks\": \"\", \"title\": {\"standoff\": 15}, \"zerolinecolor\": \"white\", \"zerolinewidth\": 2}, \"yaxis\": {\"automargin\": true, \"gridcolor\": \"white\", \"linecolor\": \"white\", \"ticks\": \"\", \"title\": {\"standoff\": 15}, \"zerolinecolor\": \"white\", \"zerolinewidth\": 2}}}, \"title\": {\"font\": {\"color\": \"#4D5663\"}}, \"xaxis\": {\"gridcolor\": \"#E1E5ED\", \"showgrid\": true, \"tickfont\": {\"color\": \"#4D5663\"}, \"title\": {\"font\": {\"color\": \"#4D5663\"}, \"text\": \"\"}, \"zerolinecolor\": \"#E1E5ED\"}, \"yaxis\": {\"gridcolor\": \"#E1E5ED\", \"showgrid\": true, \"tickfont\": {\"color\": \"#4D5663\"}, \"title\": {\"font\": {\"color\": \"#4D5663\"}, \"text\": \"\"}, \"zerolinecolor\": \"#E1E5ED\"}},\n                        {\"showLink\": true, \"linkText\": \"Export to plot.ly\", \"plotlyServerURL\": \"https://plot.ly\", \"responsive\": true}\n                    ).then(function(){\n                            \nvar gd = document.getElementById('7d1bf945-b286-4be5-986c-e49ad5a21dda');\nvar x = new MutationObserver(function (mutations, observer) {{\n        var display = window.getComputedStyle(gd).display;\n        if (!display || display === 'none') {{\n            console.log([gd, 'removed!']);\n            Plotly.purge(gd);\n            observer.disconnect();\n        }}\n}});\n\n// Listen for the removal of the full notebook cells\nvar notebookContainer = gd.closest('#notebook-container');\nif (notebookContainer) {{\n    x.observe(notebookContainer, {childList: true});\n}}\n\n// Listen for the clearing of the current output cell\nvar outputEl = gd.closest('.output');\nif (outputEl) {{\n    x.observe(outputEl, {childList: true});\n}}\n\n                        })\n                };\n                });\n            </script>\n        </div>"
     },
     "metadata": {}
    }
   ],
   "source": [
    "data.normalize().iplot()"
   ]
  },
  {
   "cell_type": "markdown",
   "metadata": {},
   "source": [
    "## `ek.get_news_headlines()`"
   ]
  },
  {
   "cell_type": "markdown",
   "metadata": {},
   "source": [
    "The function `ek.get_news_headlines()` allows you to search for and retrieve **news headlines**, including `storyId` values needed to retrieve the full news text."
   ]
  },
  {
   "cell_type": "code",
   "execution_count": 28,
   "metadata": {},
   "outputs": [
    {
     "output_type": "stream",
     "name": "stdout",
     "text": "Help on function get_news_headlines in module eikon.news_request:\n\nget_news_headlines(query='Topic:TOPALL and Language:LEN', count=10, date_from=None, date_to=None, raw_output=False, debug=False)\n    Returns a list of news headlines\n    \n    Parameters\n    ----------\n    query: string, optional\n        News headlines search criteria.\n        The text can contain RIC codes, company names, country names and\n        operators (AND, OR, NOT, IN, parentheses and quotes for explicit search…).\n    \n        Tip: Append 'R:' in front of RIC names to improve performance.\n    \n        Default: Top News written in English\n    \n    count: int, optional\n        Max number of headlines retrieved.\n    \n        Value Range: [1-100].\n    \n        Default: 10\n    \n    date_from: string or datetime, optional\n        Beginning of date range.\n    \n        String format is: '%Y-%m-%dT%H:%M:%S'. e.g. '2016-01-20T15:04:05'.\n    \n    date_to: string or datetime, optional\n        End of date range.\n    \n        String format is: '%Y-%m-%dT%H:%M:%S'. e.g. '2016-01-20T15:04:05'.\n    \n    raw_output: boolean, optional\n        Set this parameter to True to get the data in json format\n        if set to False, the function will return a data frame.\n    \n        Default: False\n    \n    debug: bool, optional\n        When set to True, the json request and response are printed.\n    \n        Default: False\n    \n    Returns\n    -------\n        pandas.DataFrame\n            Returns a DataFrame of news headlines with the following columns:\n    \n            - Index               : Timestamp of the publication time\n            - version_created     : Date of the latest update on the news\n            - text                : Text of the Headline\n            - story_id            : Identifier to be used to retrieve the full story using the get_news_story function\n            - source_code         : Second news identifier\n    \n    Raises\n    ----------\n        Exception\n            If http request fails or if server returns an error.\n    \n        AttributeError\n            If a parameter type is wrong.\n    \n    Examples\n    --------\n    >>> import eikon as ek\n    >>> ek.set_app_key('set your app id here')\n    >>> headlines = ek.get_news_headlines(\"R:MSFT.O\", 2)\n    >>> headlines\n    versionCreated                                   text\n    2016-04-13 18:28:57.000 2.016-04-13 18:28:59.001 RBC Applies Blockchain as a Loyalty Boost...\n    2016-04-13 17:28:21.577 2016-04-13 17:28:21.671 UPDATE 2-Long-stalled email privacy bill  ...\n                               storyId\n    2016-04-13 18:28:57.000    urn:newsml:reuters.com:20160413:nNRA1uxh03:1\n    2016-04-13 17:28:21.577    urn:newsml:reuters.com:20160413:nL2N17G16Q:2\n    \n    >>> headlines = ek.get_news_headlines(\"R:MSFT.O IN FRANCE\")\n    >>> headlines = ek.get_news_headlines(\"R:MSFT.O IN FRANCE IN ENGLISH\", count=5)\n    >>> headlines = ek.get_news_headlines(\"OBA* OR CLINTON IN ENGLISH\", count=5)\n\n"
    }
   ],
   "source": [
    "help(ek.get_news_headlines)"
   ]
  },
  {
   "cell_type": "markdown",
   "metadata": {},
   "source": [
    "A `query` string might contain `RICs` and other words to be searched for."
   ]
  },
  {
   "cell_type": "code",
   "execution_count": 29,
   "metadata": {},
   "outputs": [
    {
     "output_type": "execute_result",
     "data": {
      "text/plain": "'TSLA.O'"
     },
     "metadata": {},
     "execution_count": 29
    }
   ],
   "source": [
    "rics[2]"
   ]
  },
  {
   "cell_type": "code",
   "execution_count": 39,
   "metadata": {},
   "outputs": [],
   "source": [
    "news = ek.get_news_headlines('R:%s PRODUCTION IN ENGLISH' % rics[2],\n",
    "                         date_from='2016-02-01',\n",
    "                         date_to='2020-02-14',\n",
    "                         count=100\n",
    "                        )"
   ]
  },
  {
   "cell_type": "code",
   "execution_count": 40,
   "metadata": {},
   "outputs": [
    {
     "output_type": "execute_result",
     "data": {
      "text/plain": "'R:TSLA.O PRODUCTION IN ENGLISH'"
     },
     "metadata": {},
     "execution_count": 40
    }
   ],
   "source": [
    "'R:%s PRODUCTION IN ENGLISH' % rics[2]"
   ]
  },
  {
   "cell_type": "code",
   "execution_count": 41,
   "metadata": {},
   "outputs": [
    {
     "output_type": "execute_result",
     "data": {
      "text/plain": "                                          versionCreated  \\\n2020-02-11 09:00:13.155 2020-02-11 09:00:13.155000+00:00   \n2020-02-10 12:54:56.693 2020-02-10 14:53:27.844000+00:00   \n2020-02-10 12:46:30.000        2020-02-10 12:46:30+00:00   \n2020-02-10 11:34:21.418 2020-02-10 11:34:21.418000+00:00   \n2020-02-08 04:38:20.000        2020-02-08 10:15:40+00:00   \n2020-02-08 03:22:34.000        2020-02-08 03:45:57+00:00   \n2020-02-08 03:22:33.654 2020-02-08 03:22:33.654000+00:00   \n2020-02-07 09:30:48.491 2020-02-07 09:30:48.491000+00:00   \n2020-02-05 13:00:16.097 2020-02-05 13:00:16.097000+00:00   \n2020-02-05 09:18:17.964 2020-02-05 09:19:03.974000+00:00   \n\n                                                                      text  \\\n2020-02-11 09:00:13.155  Tesla Stock Climbs As Its Shanghai Plant Resta...   \n2020-02-10 12:54:56.693  Reuters Insider - Tesla shares pop in pre-mark...   \n2020-02-10 12:46:30.000  BUZZ-Tesla Inc: Rallies as production restarts...   \n2020-02-10 11:34:21.418  TESLA SHARES UP 7.8% PREMARKET; CO'S FACTORY I...   \n2020-02-08 04:38:20.000  UPDATE 2-Shanghai to help Tesla resume product...   \n2020-02-08 03:22:34.000  Tesla Shanghai factory to resume production on...   \n2020-02-08 03:22:33.654  SHANGHAI GOVT OFFICIAL SAYS TESLA FACTORY WILL...   \n2020-02-07 09:30:48.491  LG CHEM SAYS IT PLANS TO PARTIALLY RESUME PROD...   \n2020-02-05 13:00:16.097  Tesla’s Shanghai Factory To Start Production B...   \n2020-02-05 09:18:17.964  TESLA INC SENIOR EXEC SAYS SHANGHAI PLANT PLAN...   \n\n                                                              storyId  \\\n2020-02-11 09:00:13.155  urn:newsml:reuters.com:20200211:nCXG21B1xk:1   \n2020-02-10 12:54:56.693  urn:newsml:reuters.com:20200210:nRTV36p28H:6   \n2020-02-10 12:46:30.000  urn:newsml:reuters.com:20200210:nL4N2AA2YM:1   \n2020-02-10 11:34:21.418  urn:newsml:reuters.com:20200210:nFWN2AA121:1   \n2020-02-08 04:38:20.000  urn:newsml:reuters.com:20200208:nL3N2A8019:3   \n2020-02-08 03:22:34.000  urn:newsml:reuters.com:20200208:nB9N28F04L:1   \n2020-02-08 03:22:33.654  urn:newsml:reuters.com:20200208:nB9N28F04L:1   \n2020-02-07 09:30:48.491  urn:newsml:reuters.com:20200207:nS6N29P03J:1   \n2020-02-05 13:00:16.097  urn:newsml:reuters.com:20200205:nCXG6RZ151:1   \n2020-02-05 09:18:17.964  urn:newsml:reuters.com:20200205:nB9N28F04E:3   \n\n                        sourceCode  \n2020-02-11 09:00:13.155  NS:CAIXIN  \n2020-02-10 12:54:56.693    NS:CNBC  \n2020-02-10 12:46:30.000    NS:RTRS  \n2020-02-10 11:34:21.418    NS:RTRS  \n2020-02-08 04:38:20.000    NS:RTRS  \n2020-02-08 03:22:34.000    NS:RTRS  \n2020-02-08 03:22:33.654    NS:RTRS  \n2020-02-07 09:30:48.491    NS:RTRS  \n2020-02-05 13:00:16.097  NS:CAIXIN  \n2020-02-05 09:18:17.964    NS:RTRS  ",
      "text/html": "<div>\n<style scoped>\n    .dataframe tbody tr th:only-of-type {\n        vertical-align: middle;\n    }\n\n    .dataframe tbody tr th {\n        vertical-align: top;\n    }\n\n    .dataframe thead th {\n        text-align: right;\n    }\n</style>\n<table border=\"1\" class=\"dataframe\">\n  <thead>\n    <tr style=\"text-align: right;\">\n      <th></th>\n      <th>versionCreated</th>\n      <th>text</th>\n      <th>storyId</th>\n      <th>sourceCode</th>\n    </tr>\n  </thead>\n  <tbody>\n    <tr>\n      <th>2020-02-11 09:00:13.155</th>\n      <td>2020-02-11 09:00:13.155000+00:00</td>\n      <td>Tesla Stock Climbs As Its Shanghai Plant Resta...</td>\n      <td>urn:newsml:reuters.com:20200211:nCXG21B1xk:1</td>\n      <td>NS:CAIXIN</td>\n    </tr>\n    <tr>\n      <th>2020-02-10 12:54:56.693</th>\n      <td>2020-02-10 14:53:27.844000+00:00</td>\n      <td>Reuters Insider - Tesla shares pop in pre-mark...</td>\n      <td>urn:newsml:reuters.com:20200210:nRTV36p28H:6</td>\n      <td>NS:CNBC</td>\n    </tr>\n    <tr>\n      <th>2020-02-10 12:46:30.000</th>\n      <td>2020-02-10 12:46:30+00:00</td>\n      <td>BUZZ-Tesla Inc: Rallies as production restarts...</td>\n      <td>urn:newsml:reuters.com:20200210:nL4N2AA2YM:1</td>\n      <td>NS:RTRS</td>\n    </tr>\n    <tr>\n      <th>2020-02-10 11:34:21.418</th>\n      <td>2020-02-10 11:34:21.418000+00:00</td>\n      <td>TESLA SHARES UP 7.8% PREMARKET; CO'S FACTORY I...</td>\n      <td>urn:newsml:reuters.com:20200210:nFWN2AA121:1</td>\n      <td>NS:RTRS</td>\n    </tr>\n    <tr>\n      <th>2020-02-08 04:38:20.000</th>\n      <td>2020-02-08 10:15:40+00:00</td>\n      <td>UPDATE 2-Shanghai to help Tesla resume product...</td>\n      <td>urn:newsml:reuters.com:20200208:nL3N2A8019:3</td>\n      <td>NS:RTRS</td>\n    </tr>\n    <tr>\n      <th>2020-02-08 03:22:34.000</th>\n      <td>2020-02-08 03:45:57+00:00</td>\n      <td>Tesla Shanghai factory to resume production on...</td>\n      <td>urn:newsml:reuters.com:20200208:nB9N28F04L:1</td>\n      <td>NS:RTRS</td>\n    </tr>\n    <tr>\n      <th>2020-02-08 03:22:33.654</th>\n      <td>2020-02-08 03:22:33.654000+00:00</td>\n      <td>SHANGHAI GOVT OFFICIAL SAYS TESLA FACTORY WILL...</td>\n      <td>urn:newsml:reuters.com:20200208:nB9N28F04L:1</td>\n      <td>NS:RTRS</td>\n    </tr>\n    <tr>\n      <th>2020-02-07 09:30:48.491</th>\n      <td>2020-02-07 09:30:48.491000+00:00</td>\n      <td>LG CHEM SAYS IT PLANS TO PARTIALLY RESUME PROD...</td>\n      <td>urn:newsml:reuters.com:20200207:nS6N29P03J:1</td>\n      <td>NS:RTRS</td>\n    </tr>\n    <tr>\n      <th>2020-02-05 13:00:16.097</th>\n      <td>2020-02-05 13:00:16.097000+00:00</td>\n      <td>Tesla’s Shanghai Factory To Start Production B...</td>\n      <td>urn:newsml:reuters.com:20200205:nCXG6RZ151:1</td>\n      <td>NS:CAIXIN</td>\n    </tr>\n    <tr>\n      <th>2020-02-05 09:18:17.964</th>\n      <td>2020-02-05 09:19:03.974000+00:00</td>\n      <td>TESLA INC SENIOR EXEC SAYS SHANGHAI PLANT PLAN...</td>\n      <td>urn:newsml:reuters.com:20200205:nB9N28F04E:3</td>\n      <td>NS:RTRS</td>\n    </tr>\n  </tbody>\n</table>\n</div>"
     },
     "metadata": {},
     "execution_count": 41
    }
   ],
   "source": [
    "news"
   ]
  },
  {
   "cell_type": "markdown",
   "metadata": {},
   "source": [
    "## `ek.get_news_story()`"
   ]
  },
  {
   "cell_type": "markdown",
   "metadata": {},
   "source": [
    "The function `ek.get_news_story()` retrieves the full text of a **news stroy** given the `storyId` value."
   ]
  },
  {
   "cell_type": "code",
   "execution_count": 42,
   "metadata": {},
   "outputs": [
    {
     "output_type": "stream",
     "name": "stdout",
     "text": "Help on function get_news_story in module eikon.news_request:\n\nget_news_story(story_id, raw_output=False, debug=False)\n    Return a single news story corresponding to the identifier provided in story_id\n    \n    Parameters\n    ----------\n    story_id: string\n        The story id is a field you will find in every headline you retrieved with the function get_news_headlines.\n    \n    raw_output: boolean\n        Set this parameter to True to get the data in json format\n        if set to False, the function will return returns the story content.\n    \n        The default value is False.\n    \n    debug: boolean, optional\n        When set to True, the json request and response are printed.\n        Default: False\n    \n    Raises\n    ------\n        Exception\n            If http request fails or if Refinitiv Services return an error.\n    \n        ValueError\n            If a parameter type or value is wrong.\n    \n    Examples\n    --------\n    >>> import eikon as ek\n    >>> ek.set_app_key('set your app key here')\n    >>> headlines = ek.get_news_headlines('IBM')\n    >>> for index, headline_row in headlines.iterrows():\n            story = ek.get_news_story(headline_row['storyId'])\n            print (story)\n\n"
    }
   ],
   "source": [
    "help(ek.get_news_story)"
   ]
  },
  {
   "cell_type": "markdown",
   "metadata": {},
   "source": [
    "The `storyId` values are stored in the respective column of the `news` `DataFrame` object as created above."
   ]
  },
  {
   "cell_type": "code",
   "execution_count": 43,
   "metadata": {},
   "outputs": [
    {
     "output_type": "execute_result",
     "data": {
      "text/plain": "2020-02-11 09:00:13.155    urn:newsml:reuters.com:20200211:nCXG21B1xk:1\n2020-02-10 12:54:56.693    urn:newsml:reuters.com:20200210:nRTV36p28H:6\n2020-02-10 12:46:30.000    urn:newsml:reuters.com:20200210:nL4N2AA2YM:1\n2020-02-10 11:34:21.418    urn:newsml:reuters.com:20200210:nFWN2AA121:1\n2020-02-08 04:38:20.000    urn:newsml:reuters.com:20200208:nL3N2A8019:3\n2020-02-08 03:22:34.000    urn:newsml:reuters.com:20200208:nB9N28F04L:1\n2020-02-08 03:22:33.654    urn:newsml:reuters.com:20200208:nB9N28F04L:1\n2020-02-07 09:30:48.491    urn:newsml:reuters.com:20200207:nS6N29P03J:1\n2020-02-05 13:00:16.097    urn:newsml:reuters.com:20200205:nCXG6RZ151:1\n2020-02-05 09:18:17.964    urn:newsml:reuters.com:20200205:nB9N28F04E:3\nName: storyId, dtype: object"
     },
     "metadata": {},
     "execution_count": 43
    }
   ],
   "source": [
    "news['storyId']"
   ]
  },
  {
   "cell_type": "markdown",
   "metadata": {},
   "source": [
    "To read a news story, **pick out one story via its storyId and display the full text** provided as HTML code."
   ]
  },
  {
   "cell_type": "code",
   "execution_count": 45,
   "metadata": {},
   "outputs": [
    {
     "output_type": "execute_result",
     "data": {
      "text/plain": "'urn:newsml:reuters.com:20200211:nCXG21B1xk:1'"
     },
     "metadata": {},
     "execution_count": 45
    }
   ],
   "source": [
    "storyId = news['storyId'][0]\n",
    "storyId"
   ]
  },
  {
   "cell_type": "code",
   "execution_count": 48,
   "metadata": {},
   "outputs": [
    {
     "output_type": "display_data",
     "data": {
      "text/plain": "<IPython.core.display.HTML object>",
      "text/html": "<h1>Hello,World</h1>"
     },
     "metadata": {}
    }
   ],
   "source": [
    "from IPython.display import display,HTML\n",
    "display(HTML('<h1>Hello,World</h1>'))"
   ]
  },
  {
   "cell_type": "code",
   "execution_count": 47,
   "metadata": {},
   "outputs": [
    {
     "output_type": "execute_result",
     "data": {
      "text/plain": "<IPython.core.display.HTML object>",
      "text/html": "<div class=\"storyContent\" lang=\"en\"><p>Tesla Stock Climbs As Its Shanghai Plant Restarts Production Amid Virus Outbreak</p><p class=\"line-break\"><br/></p><p><a href=\"http://www.caixinglobal.com/2020-02-11/tesla-stock-climbs-as-its-shanghai-plant-restarts-production-amid-virus-outbreak-101514084.html\" data-type=\"url\" class=\"tr-link\" translate=\"no\">http://www.caixinglobal.com/2020-02-11/tesla-stock-climbs-as-its-shang...</a></p></div>"
     },
     "metadata": {},
     "execution_count": 47
    }
   ],
   "source": [
    "HTML(ek.get_news_story(storyId))"
   ]
  },
  {
   "cell_type": "markdown",
   "metadata": {},
   "source": [
    "## Conclusions"
   ]
  },
  {
   "cell_type": "markdown",
   "metadata": {},
   "source": [
    "This tutorial covers the following **basic functions** of the `eikon` Python wrapper package for the Eikon Data API:\n",
    "\n",
    "* `eikon` package\n",
    "* `ek.get_symbology()`: converting symbology types\n",
    "* `ek.get_data()`: retrieve historical data\n",
    "* `ek.get_timeseries()`: retrieve historical time series data\n",
    "* `ek.get_news_headlines()`: retrieve news headlines\n",
    "* `ek.get_news_story()`: retrieve full news texts"
   ]
  },
  {
   "cell_type": "markdown",
   "metadata": {},
   "source": [
    "## Eikon Data API Developer Resources"
   ]
  },
  {
   "cell_type": "markdown",
   "metadata": {},
   "source": [
    "* [Overview](https://developers.thomsonreuters.com/eikon-data-apis) \n",
    "* [Quick Start ](https://developers.thomsonreuters.com/eikon-data-apis/quick-start)\n",
    "* [Documentation](https://developers.thomsonreuters.com/eikon-data-apis/docs)\n",
    "* [Downloads](https://developers.thomsonreuters.com/eikon-data-apis/downloads)\n",
    "* [Tutorials](https://developers.thomsonreuters.com/eikon-data-apis/learning)\n",
    "* [Q&A Forums](https://developers.thomsonreuters.com/eikon-data-apis/qa) \n",
    "\n",
    "Data Item Browser Application: Type `DIB` into Eikon Search Bar.\n",
    "\n",
    "* [Article on Chains](https://developers.thomsonreuters.com/article/simple-chain-objects-ema-part-1)"
   ]
  },
  {
   "cell_type": "markdown",
   "metadata": {},
   "source": [
    "<img src=\"http://eikon.tpq.io/refinitiv_logo.png\" width=\"28%\" align=\"left\" style=\"vertical-align: top; padding-top: 23px;\">\n",
    "<img src=\"http://hilpisch.com/tpq_logo_long.png\" width=\"36%\" align=\"right\" style=\"vertical-align: top;\">"
   ]
  }
 ],
 "metadata": {
  "kernelspec": {
   "display_name": "Python 3.7.6 64-bit ('py37': conda)",
   "language": "python",
   "name": "python37664bitpy37condaeefaf0b43e414cfc860f757d052ab0e6"
  },
  "language_info": {
   "codemirror_mode": {
    "name": "ipython",
    "version": 3
   },
   "file_extension": ".py",
   "mimetype": "text/x-python",
   "name": "python",
   "nbconvert_exporter": "python",
   "pygments_lexer": "ipython3",
   "version": "3.7.6-final"
  }
 },
 "nbformat": 4,
 "nbformat_minor": 2
}